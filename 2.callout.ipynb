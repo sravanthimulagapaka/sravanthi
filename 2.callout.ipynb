{
 "cells": [
  {
   "cell_type": "code",
   "execution_count": 0,
   "metadata": {
    "application/vnd.databricks.v1+cell": {
     "cellMetadata": {
      "byteLimit": 2048000,
      "implicitDf": true,
      "rowLimit": 10000
     },
     "inputWidgets": {},
     "nuid": "3002b38e-8cc1-423e-abc7-82277a5731c7",
     "showTitle": false,
     "tableResultSettingsMap": {},
     "title": ""
    }
   },
   "outputs": [
    {
     "output_type": "display_data",
     "data": {
      "text/html": [
       "<style scoped>\n",
       "  .table-result-container {\n",
       "    max-height: 300px;\n",
       "    overflow: auto;\n",
       "  }\n",
       "  table, th, td {\n",
       "    border: 1px solid black;\n",
       "    border-collapse: collapse;\n",
       "  }\n",
       "  th, td {\n",
       "    padding: 5px;\n",
       "  }\n",
       "  th {\n",
       "    text-align: left;\n",
       "  }\n",
       "</style><div class='table-result-container'><table class='table-result'><thead style='background-color: white'><tr></tr></thead><tbody></tbody></table></div>"
      ]
     },
     "metadata": {
      "application/vnd.databricks.v1+output": {
       "addedWidgets": {},
       "aggData": [],
       "aggError": "",
       "aggOverflow": false,
       "aggSchema": [],
       "aggSeriesLimitReached": false,
       "aggType": "",
       "arguments": {},
       "columnCustomDisplayInfos": {},
       "data": [],
       "datasetInfos": [],
       "dbfsResultPath": null,
       "isJsonSchema": true,
       "metadata": {
        "dataframeName": null
       },
       "overflow": false,
       "plotOptions": {
        "customPlotOptions": {},
        "displayType": "table",
        "pivotAggregation": null,
        "pivotColumns": null,
        "xColumns": null,
        "yColumns": null
       },
       "removedWidgets": [],
       "schema": [],
       "type": "table"
      }
     },
     "output_type": "display_data"
    }
   ],
   "source": [
    "%sql\n",
    "CREATE SCHEMA IF NOT EXISTS mimic"
   ]
  },
  {
   "cell_type": "code",
   "execution_count": 0,
   "metadata": {
    "application/vnd.databricks.v1+cell": {
     "cellMetadata": {
      "byteLimit": 2048000,
      "rowLimit": 10000
     },
     "inputWidgets": {},
     "nuid": "dd1c71ba-1bf8-4fb7-a163-ff194bf12399",
     "showTitle": false,
     "tableResultSettingsMap": {},
     "title": ""
    }
   },
   "outputs": [],
   "source": [
    "callout_df = spark.read.option(\"header\", \"true\").option(\"inferSchema\", \"true\").csv(\"dbfs:/mnt/sravs/CALLOUT.csv\")"
   ]
  },
  {
   "cell_type": "code",
   "execution_count": 0,
   "metadata": {
    "application/vnd.databricks.v1+cell": {
     "cellMetadata": {
      "byteLimit": 2048000,
      "rowLimit": 10000
     },
     "inputWidgets": {},
     "nuid": "5a3a76eb-11d2-4570-9188-6f7f5bb14da7",
     "showTitle": false,
     "tableResultSettingsMap": {},
     "title": ""
    }
   },
   "outputs": [],
   "source": [
    "callout_df.write.format(\"delta\").mode(\"overwrite\").saveAsTable(\"mimic.callout\")"
   ]
  },
  {
   "cell_type": "code",
   "execution_count": 0,
   "metadata": {
    "application/vnd.databricks.v1+cell": {
     "cellMetadata": {
      "byteLimit": 2048000,
      "implicitDf": true,
      "rowLimit": 10000
     },
     "inputWidgets": {},
     "nuid": "95949b08-9e20-437c-a9b2-d2df2b37b36d",
     "showTitle": true,
     "tableResultSettingsMap": {},
     "title": "total discharge data"
    }
   },
   "outputs": [
    {
     "output_type": "display_data",
     "data": {
      "text/html": [
       "<style scoped>\n",
       "  .table-result-container {\n",
       "    max-height: 300px;\n",
       "    overflow: auto;\n",
       "  }\n",
       "  table, th, td {\n",
       "    border: 1px solid black;\n",
       "    border-collapse: collapse;\n",
       "  }\n",
       "  th, td {\n",
       "    padding: 5px;\n",
       "  }\n",
       "  th {\n",
       "    text-align: left;\n",
       "  }\n",
       "</style><div class='table-result-container'><table class='table-result'><thead style='background-color: white'><tr><th>total_callouts</th><th>avg_total_process_hours</th><th>avg_acknowledgment_hours</th><th>success_rate_percent</th><th>discharged_count</th><th>cancelled_count</th></tr></thead><tbody><tr><td>77</td><td>10.1</td><td>1.33</td><td>92.2</td><td>71</td><td>6</td></tr></tbody></table></div>"
      ]
     },
     "metadata": {
      "application/vnd.databricks.v1+output": {
       "addedWidgets": {},
       "aggData": [],
       "aggError": "",
       "aggOverflow": false,
       "aggSchema": [],
       "aggSeriesLimitReached": false,
       "aggType": "",
       "arguments": {},
       "columnCustomDisplayInfos": {},
       "data": [
        [
         77,
         10.1,
         1.33,
         "92.2",
         71,
         6
        ]
       ],
       "datasetInfos": [],
       "dbfsResultPath": null,
       "isJsonSchema": true,
       "metadata": {
        "createTempViewForImplicitDf": true,
        "dataframeName": "_sqldf",
        "executionCount": 5
       },
       "overflow": false,
       "plotOptions": {
        "customPlotOptions": {},
        "displayType": "table",
        "pivotAggregation": null,
        "pivotColumns": null,
        "xColumns": null,
        "yColumns": null
       },
       "removedWidgets": [],
       "schema": [
        {
         "metadata": "{}",
         "name": "total_callouts",
         "type": "\"long\""
        },
        {
         "metadata": "{}",
         "name": "avg_total_process_hours",
         "type": "\"double\""
        },
        {
         "metadata": "{}",
         "name": "avg_acknowledgment_hours",
         "type": "\"double\""
        },
        {
         "metadata": "{}",
         "name": "success_rate_percent",
         "type": "\"decimal(26,1)\""
        },
        {
         "metadata": "{}",
         "name": "discharged_count",
         "type": "\"long\""
        },
        {
         "metadata": "{}",
         "name": "cancelled_count",
         "type": "\"long\""
        }
       ],
       "type": "table"
      }
     },
     "output_type": "display_data"
    }
   ],
   "source": [
    "%sql\n",
    "SELECT \n",
    "    COUNT(*) as total_callouts,\n",
    "    ROUND(AVG((unix_timestamp(outcometime) - unix_timestamp(createtime)) / 3600), 2) as avg_total_process_hours,\n",
    "    ROUND(AVG((unix_timestamp(acknowledgetime) - unix_timestamp(createtime)) / 3600), 2) as avg_acknowledgment_hours,\n",
    "    ROUND(COUNT(CASE WHEN callout_outcome = 'Discharged' THEN 1 END) * 100.0 / COUNT(*), 1) as success_rate_percent,\n",
    "    COUNT(CASE WHEN callout_outcome = 'Discharged' THEN 1 END) as discharged_count,\n",
    "    COUNT(CASE WHEN callout_outcome = 'Cancelled' THEN 1 END) as cancelled_count\n",
    "FROM mimicdata.mimic.callout;"
   ]
  },
  {
   "cell_type": "code",
   "execution_count": 0,
   "metadata": {
    "application/vnd.databricks.v1+cell": {
     "cellMetadata": {
      "byteLimit": 2048000,
      "implicitDf": true,
      "rowLimit": 10000
     },
     "inputWidgets": {},
     "nuid": "6afb8010-3311-4009-bb27-3db10a51a978",
     "showTitle": true,
     "tableResultSettingsMap": {},
     "title": "care units data"
    }
   },
   "outputs": [
    {
     "output_type": "display_data",
     "data": {
      "text/html": [
       "<style scoped>\n",
       "  .table-result-container {\n",
       "    max-height: 300px;\n",
       "    overflow: auto;\n",
       "  }\n",
       "  table, th, td {\n",
       "    border: 1px solid black;\n",
       "    border-collapse: collapse;\n",
       "  }\n",
       "  th, td {\n",
       "    padding: 5px;\n",
       "  }\n",
       "  th {\n",
       "    text-align: left;\n",
       "  }\n",
       "</style><div class='table-result-container'><table class='table-result'><thead style='background-color: white'><tr><th>curr_careunit</th><th>callout_volume</th><th>avg_process_hours</th><th>avg_ack_hours</th><th>discharged</th><th>cancelled</th><th>success_rate_percent</th></tr></thead><tbody><tr><td>MICU</td><td>41</td><td>9.55</td><td>1.01</td><td>37</td><td>4</td><td>90.2</td></tr><tr><td>SICU</td><td>19</td><td>12.47</td><td>0.97</td><td>18</td><td>1</td><td>94.7</td></tr><tr><td>CCU</td><td>10</td><td>9.47</td><td>3.54</td><td>9</td><td>1</td><td>90.0</td></tr><tr><td>TSICU</td><td>4</td><td>6.8</td><td>0.89</td><td>4</td><td>0</td><td>100.0</td></tr><tr><td>CSRU</td><td>3</td><td>9.18</td><td>0.84</td><td>3</td><td>0</td><td>100.0</td></tr></tbody></table></div>"
      ]
     },
     "metadata": {
      "application/vnd.databricks.v1+output": {
       "addedWidgets": {},
       "aggData": [],
       "aggError": "",
       "aggOverflow": false,
       "aggSchema": [],
       "aggSeriesLimitReached": false,
       "aggType": "",
       "arguments": {},
       "columnCustomDisplayInfos": {},
       "data": [
        [
         "MICU",
         41,
         9.55,
         1.01,
         37,
         4,
         "90.2"
        ],
        [
         "SICU",
         19,
         12.47,
         0.97,
         18,
         1,
         "94.7"
        ],
        [
         "CCU",
         10,
         9.47,
         3.54,
         9,
         1,
         "90.0"
        ],
        [
         "TSICU",
         4,
         6.8,
         0.89,
         4,
         0,
         "100.0"
        ],
        [
         "CSRU",
         3,
         9.18,
         0.84,
         3,
         0,
         "100.0"
        ]
       ],
       "datasetInfos": [],
       "dbfsResultPath": null,
       "isJsonSchema": true,
       "metadata": {
        "createTempViewForImplicitDf": true,
        "dataframeName": "_sqldf",
        "executionCount": 7
       },
       "overflow": false,
       "plotOptions": {
        "customPlotOptions": {},
        "displayType": "table",
        "pivotAggregation": null,
        "pivotColumns": null,
        "xColumns": null,
        "yColumns": null
       },
       "removedWidgets": [],
       "schema": [
        {
         "metadata": "{}",
         "name": "curr_careunit",
         "type": "\"string\""
        },
        {
         "metadata": "{}",
         "name": "callout_volume",
         "type": "\"long\""
        },
        {
         "metadata": "{}",
         "name": "avg_process_hours",
         "type": "\"double\""
        },
        {
         "metadata": "{}",
         "name": "avg_ack_hours",
         "type": "\"double\""
        },
        {
         "metadata": "{}",
         "name": "discharged",
         "type": "\"long\""
        },
        {
         "metadata": "{}",
         "name": "cancelled",
         "type": "\"long\""
        },
        {
         "metadata": "{}",
         "name": "success_rate_percent",
         "type": "\"decimal(26,1)\""
        }
       ],
       "type": "table"
      }
     },
     "output_type": "display_data"
    }
   ],
   "source": [
    "%sql\n",
    "SELECT \n",
    "    curr_careunit,\n",
    "    COUNT(*) as callout_volume,\n",
    "    ROUND(AVG((UNIX_TIMESTAMP(outcometime) - UNIX_TIMESTAMP(createtime)) / 3600), 2) as avg_process_hours,\n",
    "    ROUND(AVG((UNIX_TIMESTAMP(acknowledgetime) - UNIX_TIMESTAMP(createtime)) / 3600), 2) as avg_ack_hours,\n",
    "    COUNT(CASE WHEN callout_outcome = 'Discharged' THEN 1 END) as discharged,\n",
    "    COUNT(CASE WHEN callout_outcome = 'Cancelled' THEN 1 END) as cancelled,\n",
    "    ROUND(COUNT(CASE WHEN callout_outcome = 'Discharged' THEN 1 END) * 100.0 / COUNT(*), 1) as success_rate_percent\n",
    "FROM mimicdata.mimic.callout\n",
    "WHERE curr_careunit IS NOT NULL\n",
    "GROUP BY curr_careunit\n",
    "ORDER BY callout_volume DESC;"
   ]
  },
  {
   "cell_type": "code",
   "execution_count": 0,
   "metadata": {
    "application/vnd.databricks.v1+cell": {
     "cellMetadata": {
      "byteLimit": 2048000,
      "implicitDf": true,
      "rowLimit": 10000
     },
     "inputWidgets": {},
     "nuid": "f5422961-5b00-4e8e-8238-be4c5ca5e0d0",
     "showTitle": true,
     "tableResultSettingsMap": {},
     "title": "speed and success rates"
    }
   },
   "outputs": [
    {
     "output_type": "display_data",
     "data": {
      "text/html": [
       "<style scoped>\n",
       "  .table-result-container {\n",
       "    max-height: 300px;\n",
       "    overflow: auto;\n",
       "  }\n",
       "  table, th, td {\n",
       "    border: 1px solid black;\n",
       "    border-collapse: collapse;\n",
       "  }\n",
       "  th, td {\n",
       "    padding: 5px;\n",
       "  }\n",
       "  th {\n",
       "    text-align: left;\n",
       "  }\n",
       "</style><div class='table-result-container'><table class='table-result'><thead style='background-color: white'><tr><th>callout_service</th><th>callout_volume</th><th>avg_process_hours</th><th>discharged</th><th>cancelled</th><th>success_rate_percent</th></tr></thead><tbody><tr><td>MED</td><td>47</td><td>10.62</td><td>43</td><td>4</td><td>91.5</td></tr><tr><td>SURG</td><td>7</td><td>6.43</td><td>7</td><td>0</td><td>100.0</td></tr><tr><td>CCU</td><td>5</td><td>5.0</td><td>4</td><td>1</td><td>80.0</td></tr><tr><td>TSURG</td><td>4</td><td>6.25</td><td>4</td><td>0</td><td>100.0</td></tr><tr><td>NSURG</td><td>3</td><td>10.67</td><td>3</td><td>0</td><td>100.0</td></tr><tr><td>NMED</td><td>3</td><td>12.67</td><td>3</td><td>0</td><td>100.0</td></tr><tr><td>CSURG</td><td>3</td><td>8.67</td><td>3</td><td>0</td><td>100.0</td></tr><tr><td>OMED</td><td>3</td><td>11.67</td><td>2</td><td>1</td><td>66.7</td></tr><tr><td>ORTHO</td><td>1</td><td>5.0</td><td>1</td><td>0</td><td>100.0</td></tr><tr><td>CMED</td><td>1</td><td>4.0</td><td>1</td><td>0</td><td>100.0</td></tr></tbody></table></div>"
      ]
     },
     "metadata": {
      "application/vnd.databricks.v1+output": {
       "addedWidgets": {},
       "aggData": [],
       "aggError": "",
       "aggOverflow": false,
       "aggSchema": [],
       "aggSeriesLimitReached": false,
       "aggType": "",
       "arguments": {},
       "columnCustomDisplayInfos": {},
       "data": [
        [
         "MED",
         47,
         10.62,
         43,
         4,
         "91.5"
        ],
        [
         "SURG",
         7,
         6.43,
         7,
         0,
         "100.0"
        ],
        [
         "CCU",
         5,
         5.0,
         4,
         1,
         "80.0"
        ],
        [
         "TSURG",
         4,
         6.25,
         4,
         0,
         "100.0"
        ],
        [
         "NSURG",
         3,
         10.67,
         3,
         0,
         "100.0"
        ],
        [
         "NMED",
         3,
         12.67,
         3,
         0,
         "100.0"
        ],
        [
         "CSURG",
         3,
         8.67,
         3,
         0,
         "100.0"
        ],
        [
         "OMED",
         3,
         11.67,
         2,
         1,
         "66.7"
        ],
        [
         "ORTHO",
         1,
         5.0,
         1,
         0,
         "100.0"
        ],
        [
         "CMED",
         1,
         4.0,
         1,
         0,
         "100.0"
        ]
       ],
       "datasetInfos": [],
       "dbfsResultPath": null,
       "isJsonSchema": true,
       "metadata": {
        "createTempViewForImplicitDf": true,
        "dataframeName": "_sqldf",
        "executionCount": 9
       },
       "overflow": false,
       "plotOptions": {
        "customPlotOptions": {},
        "displayType": "table",
        "pivotAggregation": null,
        "pivotColumns": null,
        "xColumns": null,
        "yColumns": null
       },
       "removedWidgets": [],
       "schema": [
        {
         "metadata": "{}",
         "name": "callout_service",
         "type": "\"string\""
        },
        {
         "metadata": "{}",
         "name": "callout_volume",
         "type": "\"long\""
        },
        {
         "metadata": "{}",
         "name": "avg_process_hours",
         "type": "\"double\""
        },
        {
         "metadata": "{}",
         "name": "discharged",
         "type": "\"long\""
        },
        {
         "metadata": "{}",
         "name": "cancelled",
         "type": "\"long\""
        },
        {
         "metadata": "{}",
         "name": "success_rate_percent",
         "type": "\"decimal(26,1)\""
        }
       ],
       "type": "table"
      }
     },
     "output_type": "display_data"
    }
   ],
   "source": [
    "%sql\n",
    "SELECT \n",
    "    callout_service,\n",
    "    COUNT(*) as callout_volume,\n",
    "    ROUND(AVG(TIMESTAMPDIFF(HOUR, createtime, outcometime)), 2) as avg_process_hours,\n",
    "    COUNT(CASE WHEN callout_outcome = 'Discharged' THEN 1 END) as discharged,\n",
    "    COUNT(CASE WHEN callout_outcome = 'Cancelled' THEN 1 END) as cancelled,\n",
    "    ROUND(COUNT(CASE WHEN callout_outcome = 'Discharged' THEN 1 END) * 100.0 / COUNT(*), 1) as success_rate_percent\n",
    "FROM mimicdata.mimic.callout\n",
    "WHERE callout_service IS NOT NULL\n",
    "GROUP BY callout_service\n",
    "ORDER BY callout_volume DESC;"
   ]
  },
  {
   "cell_type": "code",
   "execution_count": 0,
   "metadata": {
    "application/vnd.databricks.v1+cell": {
     "cellMetadata": {
      "byteLimit": 2048000,
      "implicitDf": true,
      "rowLimit": 10000
     },
     "inputWidgets": {},
     "nuid": "9e2e5061-8f4d-447d-a830-011b32c507c2",
     "showTitle": true,
     "tableResultSettingsMap": {},
     "title": "allocation Frequency Analysis"
    }
   },
   "outputs": [
    {
     "output_type": "display_data",
     "data": {
      "text/html": [
       "<style scoped>\n",
       "  .table-result-container {\n",
       "    max-height: 300px;\n",
       "    overflow: auto;\n",
       "  }\n",
       "  table, th, td {\n",
       "    border: 1px solid black;\n",
       "    border-collapse: collapse;\n",
       "  }\n",
       "  th, td {\n",
       "    padding: 5px;\n",
       "  }\n",
       "  th {\n",
       "    text-align: left;\n",
       "  }\n",
       "</style><div class='table-result-container'><table class='table-result'><thead style='background-color: white'><tr><th>request_type</th><th>request_count</th><th>percentage</th></tr></thead><tbody><tr><td>Telemetry</td><td>36</td><td>46.8</td></tr><tr><td>MRSA Isolation</td><td>17</td><td>22.1</td></tr><tr><td>VRE Isolation</td><td>9</td><td>11.7</td></tr><tr><td>C.Diff Isolation</td><td>6</td><td>7.8</td></tr><tr><td>Respiratory</td><td>0</td><td>0.0</td></tr></tbody></table></div>"
      ]
     },
     "metadata": {
      "application/vnd.databricks.v1+output": {
       "addedWidgets": {},
       "aggData": [],
       "aggError": "",
       "aggOverflow": false,
       "aggSchema": [],
       "aggSeriesLimitReached": false,
       "aggType": "",
       "arguments": {},
       "columnCustomDisplayInfos": {},
       "data": [
        [
         "Telemetry",
         36,
         "46.8"
        ],
        [
         "MRSA Isolation",
         17,
         "22.1"
        ],
        [
         "VRE Isolation",
         9,
         "11.7"
        ],
        [
         "C.Diff Isolation",
         6,
         "7.8"
        ],
        [
         "Respiratory",
         0,
         "0.0"
        ]
       ],
       "datasetInfos": [],
       "dbfsResultPath": null,
       "isJsonSchema": true,
       "metadata": {
        "createTempViewForImplicitDf": true,
        "dataframeName": "_sqldf",
        "executionCount": 10
       },
       "overflow": false,
       "plotOptions": {
        "customPlotOptions": {},
        "displayType": "table",
        "pivotAggregation": null,
        "pivotColumns": null,
        "xColumns": null,
        "yColumns": null
       },
       "removedWidgets": [],
       "schema": [
        {
         "metadata": "{}",
         "name": "request_type",
         "type": "\"string\""
        },
        {
         "metadata": "{}",
         "name": "request_count",
         "type": "\"long\""
        },
        {
         "metadata": "{}",
         "name": "percentage",
         "type": "\"decimal(26,1)\""
        }
       ],
       "type": "table"
      }
     },
     "output_type": "display_data"
    }
   ],
   "source": [
    "%sql\n",
    "SELECT \n",
    "    'Telemetry' as request_type,\n",
    "    COUNT(CASE WHEN request_tele = 1 THEN 1 END) as request_count,\n",
    "    ROUND(COUNT(CASE WHEN request_tele = 1 THEN 1 END) * 100.0 / COUNT(*), 1) as percentage\n",
    "FROM mimicdata.mimic.callout\n",
    "UNION ALL\n",
    "SELECT \n",
    "    'MRSA Isolation' as request_type,\n",
    "    COUNT(CASE WHEN request_mrsa = 1 THEN 1 END) as request_count,\n",
    "    ROUND(COUNT(CASE WHEN request_mrsa = 1 THEN 1 END) * 100.0 / COUNT(*), 1) as percentage\n",
    "FROM mimicdata.mimic.callout\n",
    "UNION ALL\n",
    "SELECT \n",
    "    'VRE Isolation' as request_type,\n",
    "    COUNT(CASE WHEN request_vre = 1 THEN 1 END) as request_count,\n",
    "    ROUND(COUNT(CASE WHEN request_vre = 1 THEN 1 END) * 100.0 / COUNT(*), 1) as percentage\n",
    "FROM mimicdata.mimic.callout\n",
    "UNION ALL\n",
    "SELECT \n",
    "    'C.Diff Isolation' as request_type,\n",
    "    COUNT(CASE WHEN request_cdiff = 1 THEN 1 END) as request_count,\n",
    "    ROUND(COUNT(CASE WHEN request_cdiff = 1 THEN 1 END) * 100.0 / COUNT(*), 1) as percentage\n",
    "FROM mimicdata.mimic.callout\n",
    "UNION ALL\n",
    "SELECT \n",
    "    'Respiratory' as request_type,\n",
    "    COUNT(CASE WHEN request_resp = 1 THEN 1 END) as request_count,\n",
    "    ROUND(COUNT(CASE WHEN request_resp = 1 THEN 1 END) * 100.0 / COUNT(*), 1) as percentage\n",
    "FROM mimicdata.mimic.callout\n",
    "ORDER BY request_count DESC;"
   ]
  },
  {
   "cell_type": "code",
   "execution_count": 0,
   "metadata": {
    "application/vnd.databricks.v1+cell": {
     "cellMetadata": {
      "byteLimit": 2048000,
      "implicitDf": true,
      "rowLimit": 10000
     },
     "inputWidgets": {},
     "nuid": "6477cce9-aba3-4963-a5b4-95ba4e3cd854",
     "showTitle": true,
     "tableResultSettingsMap": {},
     "title": "delays occur in the patient transfer process"
    }
   },
   "outputs": [
    {
     "output_type": "display_data",
     "data": {
      "text/html": [
       "<style scoped>\n",
       "  .table-result-container {\n",
       "    max-height: 300px;\n",
       "    overflow: auto;\n",
       "  }\n",
       "  table, th, td {\n",
       "    border: 1px solid black;\n",
       "    border-collapse: collapse;\n",
       "  }\n",
       "  th, td {\n",
       "    padding: 5px;\n",
       "  }\n",
       "  th {\n",
       "    text-align: left;\n",
       "  }\n",
       "</style><div class='table-result-container'><table class='table-result'><thead style='background-color: white'><tr><th>time_bucket</th><th>callout_count</th><th>percentage</th></tr></thead><tbody><tr><td>0-4 hours</td><td>9</td><td>11.7</td></tr><tr><td>4-8 hours</td><td>40</td><td>51.9</td></tr><tr><td>8-12 hours</td><td>11</td><td>14.3</td></tr><tr><td>12-24 hours</td><td>7</td><td>9.1</td></tr><tr><td>24+ hours</td><td>10</td><td>13.0</td></tr></tbody></table></div>"
      ]
     },
     "metadata": {
      "application/vnd.databricks.v1+output": {
       "addedWidgets": {},
       "aggData": [],
       "aggError": "",
       "aggOverflow": false,
       "aggSchema": [],
       "aggSeriesLimitReached": false,
       "aggType": "",
       "arguments": {},
       "columnCustomDisplayInfos": {},
       "data": [
        [
         "0-4 hours",
         9,
         "11.7"
        ],
        [
         "4-8 hours",
         40,
         "51.9"
        ],
        [
         "8-12 hours",
         11,
         "14.3"
        ],
        [
         "12-24 hours",
         7,
         "9.1"
        ],
        [
         "24+ hours",
         10,
         "13.0"
        ]
       ],
       "datasetInfos": [],
       "dbfsResultPath": null,
       "isJsonSchema": true,
       "metadata": {
        "createTempViewForImplicitDf": true,
        "dataframeName": "_sqldf",
        "executionCount": 13
       },
       "overflow": false,
       "plotOptions": {
        "customPlotOptions": {},
        "displayType": "table",
        "pivotAggregation": null,
        "pivotColumns": null,
        "xColumns": null,
        "yColumns": null
       },
       "removedWidgets": [],
       "schema": [
        {
         "metadata": "{}",
         "name": "time_bucket",
         "type": "\"string\""
        },
        {
         "metadata": "{}",
         "name": "callout_count",
         "type": "\"long\""
        },
        {
         "metadata": "{}",
         "name": "percentage",
         "type": "\"decimal(26,1)\""
        }
       ],
       "type": "table"
      }
     },
     "output_type": "display_data"
    }
   ],
   "source": [
    "%sql\n",
    "SELECT \n",
    "    time_bucket,\n",
    "    COUNT(*) as callout_count,\n",
    "    ROUND(COUNT(*) * 100.0 / (SELECT COUNT(*) FROM mimicdata.mimic.callout), 1) as percentage\n",
    "FROM (\n",
    "    SELECT \n",
    "        CASE \n",
    "            WHEN (unix_timestamp(outcometime) - unix_timestamp(createtime))/3600 < 4 THEN '0-4 hours'\n",
    "            WHEN (unix_timestamp(outcometime) - unix_timestamp(createtime))/3600 < 8 THEN '4-8 hours'\n",
    "            WHEN (unix_timestamp(outcometime) - unix_timestamp(createtime))/3600 < 12 THEN '8-12 hours'\n",
    "            WHEN (unix_timestamp(outcometime) - unix_timestamp(createtime))/3600 < 24 THEN '12-24 hours'\n",
    "            ELSE '24+ hours'\n",
    "        END as time_bucket\n",
    "    FROM mimicdata.mimic.callout\n",
    "    WHERE outcometime IS NOT NULL AND createtime IS NOT NULL\n",
    ") subquery\n",
    "GROUP BY time_bucket\n",
    "ORDER BY \n",
    "    CASE \n",
    "        WHEN time_bucket = '0-4 hours' THEN 1\n",
    "        WHEN time_bucket = '4-8 hours' THEN 2\n",
    "        WHEN time_bucket = '8-12 hours' THEN 3\n",
    "        WHEN time_bucket = '12-24 hours' THEN 4\n",
    "        ELSE 5\n",
    "    END;"
   ]
  },
  {
   "cell_type": "code",
   "execution_count": 0,
   "metadata": {
    "application/vnd.databricks.v1+cell": {
     "cellMetadata": {
      "byteLimit": 2048000,
      "implicitDf": true,
      "rowLimit": 10000
     },
     "inputWidgets": {},
     "nuid": "2f349c2b-c4a9-4f62-933c-47f5e567fc32",
     "showTitle": true,
     "tableResultSettingsMap": {},
     "title": "Success Rate by Unit & Service"
    }
   },
   "outputs": [
    {
     "output_type": "display_data",
     "data": {
      "text/html": [
       "<style scoped>\n",
       "  .table-result-container {\n",
       "    max-height: 300px;\n",
       "    overflow: auto;\n",
       "  }\n",
       "  table, th, td {\n",
       "    border: 1px solid black;\n",
       "    border-collapse: collapse;\n",
       "  }\n",
       "  th, td {\n",
       "    padding: 5px;\n",
       "  }\n",
       "  th {\n",
       "    text-align: left;\n",
       "  }\n",
       "</style><div class='table-result-container'><table class='table-result'><thead style='background-color: white'><tr><th>acknowledge_status</th><th>count</th><th>avg_ack_time_hours</th><th>percentage</th></tr></thead><tbody><tr><td>Acknowledged</td><td>74</td><td>1.33</td><td>96.1</td></tr><tr><td>Revised</td><td>3</td><td>null</td><td>3.9</td></tr></tbody></table></div>"
      ]
     },
     "metadata": {
      "application/vnd.databricks.v1+output": {
       "addedWidgets": {},
       "aggData": [],
       "aggError": "",
       "aggOverflow": false,
       "aggSchema": [],
       "aggSeriesLimitReached": false,
       "aggType": "",
       "arguments": {},
       "columnCustomDisplayInfos": {},
       "data": [
        [
         "Acknowledged",
         74,
         1.33,
         "96.1"
        ],
        [
         "Revised",
         3,
         null,
         "3.9"
        ]
       ],
       "datasetInfos": [],
       "dbfsResultPath": null,
       "isJsonSchema": true,
       "metadata": {
        "createTempViewForImplicitDf": true,
        "dataframeName": "_sqldf",
        "executionCount": 15
       },
       "overflow": false,
       "plotOptions": {
        "customPlotOptions": {},
        "displayType": "table",
        "pivotAggregation": null,
        "pivotColumns": null,
        "xColumns": null,
        "yColumns": null
       },
       "removedWidgets": [],
       "schema": [
        {
         "metadata": "{}",
         "name": "acknowledge_status",
         "type": "\"string\""
        },
        {
         "metadata": "{}",
         "name": "count",
         "type": "\"long\""
        },
        {
         "metadata": "{}",
         "name": "avg_ack_time_hours",
         "type": "\"double\""
        },
        {
         "metadata": "{}",
         "name": "percentage",
         "type": "\"decimal(26,1)\""
        }
       ],
       "type": "table"
      }
     },
     "output_type": "display_data"
    }
   ],
   "source": [
    "%sql\n",
    "SELECT \n",
    "    acknowledge_status,\n",
    "    COUNT(*) as count,\n",
    "    ROUND(AVG((UNIX_TIMESTAMP(acknowledgetime) - UNIX_TIMESTAMP(createtime)) / 3600), 2) as avg_ack_time_hours,\n",
    "    ROUND(COUNT(*) * 100.0 / (SELECT COUNT(*) FROM mimicdata.mimic.callout), 1) as percentage\n",
    "FROM mimicdata.mimic.callout\n",
    "WHERE acknowledge_status IS NOT NULL\n",
    "GROUP BY acknowledge_status\n",
    "ORDER BY count DESC;"
   ]
  },
  {
   "cell_type": "code",
   "execution_count": 0,
   "metadata": {
    "application/vnd.databricks.v1+cell": {
     "cellMetadata": {
      "byteLimit": 2048000,
      "implicitDf": true,
      "rowLimit": 10000
     },
     "inputWidgets": {},
     "nuid": "2a1b7170-bc97-4a1d-9975-86097761f330",
     "showTitle": true,
     "tableResultSettingsMap": {},
     "title": "workload distribution"
    }
   },
   "outputs": [
    {
     "output_type": "display_data",
     "data": {
      "text/html": [
       "<style scoped>\n",
       "  .table-result-container {\n",
       "    max-height: 300px;\n",
       "    overflow: auto;\n",
       "  }\n",
       "  table, th, td {\n",
       "    border: 1px solid black;\n",
       "    border-collapse: collapse;\n",
       "  }\n",
       "  th, td {\n",
       "    padding: 5px;\n",
       "  }\n",
       "  th {\n",
       "    text-align: left;\n",
       "  }\n",
       "</style><div class='table-result-container'><table class='table-result'><thead style='background-color: white'><tr><th>from_unit</th><th>to_service</th><th>transfer_count</th><th>avg_process_hours</th><th>success_rate</th></tr></thead><tbody><tr><td>MICU</td><td>MED</td><td>37</td><td>10.01</td><td>89.2</td></tr><tr><td>SICU</td><td>SURG</td><td>6</td><td>6.91</td><td>100.0</td></tr><tr><td>SICU</td><td>MED</td><td>5</td><td>17.35</td><td>100.0</td></tr><tr><td>CCU</td><td>MED</td><td>4</td><td>15.91</td><td>100.0</td></tr><tr><td>CCU</td><td>CCU</td><td>4</td><td>5.56</td><td>75.0</td></tr><tr><td>SICU</td><td>NSURG</td><td>3</td><td>11.4</td><td>100.0</td></tr><tr><td>SICU</td><td>NMED</td><td>3</td><td>13.29</td><td>100.0</td></tr><tr><td>CSRU</td><td>CSURG</td><td>3</td><td>9.18</td><td>100.0</td></tr><tr><td>TSICU</td><td>TSURG</td><td>2</td><td>7.62</td><td>100.0</td></tr><tr><td>MICU</td><td>OMED</td><td>2</td><td>4.89</td><td>100.0</td></tr></tbody></table></div>"
      ]
     },
     "metadata": {
      "application/vnd.databricks.v1+output": {
       "addedWidgets": {},
       "aggData": [],
       "aggError": "",
       "aggOverflow": false,
       "aggSchema": [],
       "aggSeriesLimitReached": false,
       "aggType": "",
       "arguments": {},
       "columnCustomDisplayInfos": {},
       "data": [
        [
         "MICU",
         "MED",
         37,
         10.01,
         "89.2"
        ],
        [
         "SICU",
         "SURG",
         6,
         6.91,
         "100.0"
        ],
        [
         "SICU",
         "MED",
         5,
         17.35,
         "100.0"
        ],
        [
         "CCU",
         "MED",
         4,
         15.91,
         "100.0"
        ],
        [
         "CCU",
         "CCU",
         4,
         5.56,
         "75.0"
        ],
        [
         "SICU",
         "NSURG",
         3,
         11.4,
         "100.0"
        ],
        [
         "SICU",
         "NMED",
         3,
         13.29,
         "100.0"
        ],
        [
         "CSRU",
         "CSURG",
         3,
         9.18,
         "100.0"
        ],
        [
         "TSICU",
         "TSURG",
         2,
         7.62,
         "100.0"
        ],
        [
         "MICU",
         "OMED",
         2,
         4.89,
         "100.0"
        ]
       ],
       "datasetInfos": [],
       "dbfsResultPath": null,
       "isJsonSchema": true,
       "metadata": {
        "createTempViewForImplicitDf": true,
        "dataframeName": "_sqldf",
        "executionCount": 18
       },
       "overflow": false,
       "plotOptions": {
        "customPlotOptions": {},
        "displayType": "table",
        "pivotAggregation": null,
        "pivotColumns": null,
        "xColumns": null,
        "yColumns": null
       },
       "removedWidgets": [],
       "schema": [
        {
         "metadata": "{}",
         "name": "from_unit",
         "type": "\"string\""
        },
        {
         "metadata": "{}",
         "name": "to_service",
         "type": "\"string\""
        },
        {
         "metadata": "{}",
         "name": "transfer_count",
         "type": "\"long\""
        },
        {
         "metadata": "{}",
         "name": "avg_process_hours",
         "type": "\"double\""
        },
        {
         "metadata": "{}",
         "name": "success_rate",
         "type": "\"decimal(26,1)\""
        }
       ],
       "type": "table"
      }
     },
     "output_type": "display_data"
    }
   ],
   "source": [
    "%sql\n",
    "SELECT \n",
    "    curr_careunit as from_unit,\n",
    "    callout_service as to_service,\n",
    "    COUNT(*) as transfer_count,\n",
    "    ROUND(AVG((UNIX_TIMESTAMP(outcometime) - UNIX_TIMESTAMP(createtime))/3600), 2) as avg_process_hours,\n",
    "    ROUND(COUNT(CASE WHEN callout_outcome = 'Discharged' THEN 1 END) * 100.0 / COUNT(*), 1) as success_rate\n",
    "FROM mimicdata.mimic.callout\n",
    "WHERE curr_careunit IS NOT NULL AND callout_service IS NOT NULL\n",
    "GROUP BY curr_careunit, callout_service\n",
    "HAVING COUNT(*) > 1\n",
    "ORDER BY transfer_count DESC;"
   ]
  },
  {
   "cell_type": "code",
   "execution_count": 0,
   "metadata": {
    "application/vnd.databricks.v1+cell": {
     "cellMetadata": {
      "byteLimit": 2048000,
      "implicitDf": true,
      "rowLimit": 10000
     },
     "inputWidgets": {},
     "nuid": "61810f92-812a-4a43-acf7-a401c03ade27",
     "showTitle": true,
     "tableResultSettingsMap": {},
     "title": "special attention on cases"
    }
   },
   "outputs": [
    {
     "output_type": "display_data",
     "data": {
      "text/html": [
       "<style scoped>\n",
       "  .table-result-container {\n",
       "    max-height: 300px;\n",
       "    overflow: auto;\n",
       "  }\n",
       "  table, th, td {\n",
       "    border: 1px solid black;\n",
       "    border-collapse: collapse;\n",
       "  }\n",
       "  th, td {\n",
       "    padding: 5px;\n",
       "  }\n",
       "  th {\n",
       "    text-align: left;\n",
       "  }\n",
       "</style><div class='table-result-container'><table class='table-result'><thead style='background-color: white'><tr><th>day_of_week</th><th>day_name</th><th>callout_count</th><th>avg_process_hours</th></tr></thead><tbody><tr><td>1</td><td>Monday</td><td>6</td><td>8.06</td></tr><tr><td>2</td><td>Tuesday</td><td>7</td><td>11.01</td></tr><tr><td>3</td><td>Wednesday</td><td>15</td><td>8.29</td></tr><tr><td>4</td><td>Thursday</td><td>15</td><td>12.49</td></tr><tr><td>5</td><td>Friday</td><td>6</td><td>15.53</td></tr><tr><td>6</td><td>Saturday</td><td>16</td><td>9.87</td></tr><tr><td>7</td><td>null</td><td>12</td><td>7.47</td></tr></tbody></table></div>"
      ]
     },
     "metadata": {
      "application/vnd.databricks.v1+output": {
       "addedWidgets": {},
       "aggData": [],
       "aggError": "",
       "aggOverflow": false,
       "aggSchema": [],
       "aggSeriesLimitReached": false,
       "aggType": "",
       "arguments": {},
       "columnCustomDisplayInfos": {},
       "data": [
        [
         1,
         "Monday",
         6,
         8.06
        ],
        [
         2,
         "Tuesday",
         7,
         11.01
        ],
        [
         3,
         "Wednesday",
         15,
         8.29
        ],
        [
         4,
         "Thursday",
         15,
         12.49
        ],
        [
         5,
         "Friday",
         6,
         15.53
        ],
        [
         6,
         "Saturday",
         16,
         9.87
        ],
        [
         7,
         null,
         12,
         7.47
        ]
       ],
       "datasetInfos": [],
       "dbfsResultPath": null,
       "isJsonSchema": true,
       "metadata": {
        "createTempViewForImplicitDf": true,
        "dataframeName": "_sqldf",
        "executionCount": 21
       },
       "overflow": false,
       "plotOptions": {
        "customPlotOptions": {},
        "displayType": "table",
        "pivotAggregation": null,
        "pivotColumns": null,
        "xColumns": null,
        "yColumns": null
       },
       "removedWidgets": [],
       "schema": [
        {
         "metadata": "{}",
         "name": "day_of_week",
         "type": "\"integer\""
        },
        {
         "metadata": "{}",
         "name": "day_name",
         "type": "\"string\""
        },
        {
         "metadata": "{}",
         "name": "callout_count",
         "type": "\"long\""
        },
        {
         "metadata": "{}",
         "name": "avg_process_hours",
         "type": "\"double\""
        }
       ],
       "type": "table"
      }
     },
     "output_type": "display_data"
    }
   ],
   "source": [
    "%sql\n",
    "SELECT \n",
    "    EXTRACT(HOUR FROM createtime) as hour_of_day,\n",
    "    COUNT(*) as callout_count,\n",
    "    ROUND(AVG((UNIX_TIMESTAMP(outcometime) - UNIX_TIMESTAMP(createtime))/3600), 2) as avg_process_hours\n",
    "FROM mimicdata.mimic.callout\n",
    "WHERE createtime IS NOT NULL\n",
    "GROUP BY EXTRACT(HOUR FROM createtime)\n",
    "ORDER BY hour_of_day;\n",
    "\n",
    "SELECT \n",
    "    EXTRACT(DOW FROM createtime) as day_of_week,\n",
    "    CASE EXTRACT(DOW FROM createtime)\n",
    "        WHEN 0 THEN 'Sunday'\n",
    "        WHEN 1 THEN 'Monday'\n",
    "        WHEN 2 THEN 'Tuesday'\n",
    "        WHEN 3 THEN 'Wednesday'\n",
    "        WHEN 4 THEN 'Thursday'\n",
    "        WHEN 5 THEN 'Friday'\n",
    "        WHEN 6 THEN 'Saturday'\n",
    "    END as day_name,\n",
    "    COUNT(*) as callout_count,\n",
    "    ROUND(AVG((UNIX_TIMESTAMP(outcometime) - UNIX_TIMESTAMP(createtime))/3600), 2) as avg_process_hours\n",
    "FROM mimicdata.mimic.callout\n",
    "WHERE createtime IS NOT NULL\n",
    "GROUP BY EXTRACT(DOW FROM createtime)\n",
    "ORDER BY day_of_week;"
   ]
  },
  {
   "cell_type": "code",
   "execution_count": 0,
   "metadata": {
    "application/vnd.databricks.v1+cell": {
     "cellMetadata": {
      "byteLimit": 2048000,
      "rowLimit": 10000
     },
     "inputWidgets": {},
     "nuid": "b15bdcf2-c5f5-420d-8bb0-b1d629310bdc",
     "showTitle": true,
     "tableResultSettingsMap": {},
     "title": "transfer process"
    }
   },
   "outputs": [
    {
     "output_type": "display_data",
     "data": {
      "text/html": [
       "<style scoped>\n",
       "  .table-result-container {\n",
       "    max-height: 300px;\n",
       "    overflow: auto;\n",
       "  }\n",
       "  table, th, td {\n",
       "    border: 1px solid black;\n",
       "    border-collapse: collapse;\n",
       "  }\n",
       "  th, td {\n",
       "    padding: 5px;\n",
       "  }\n",
       "  th {\n",
       "    text-align: left;\n",
       "  }\n",
       "</style><div class='table-result-container'><table class='table-result'><thead style='background-color: white'><tr><th>row_id</th><th>subject_id</th><th>curr_careunit</th><th>callout_service</th><th>callout_outcome</th><th>process_hours</th><th>createtime</th><th>outcometime</th></tr></thead><tbody><tr><td>3948</td><td>10124</td><td>CCU</td><td>MED</td><td>Discharged</td><td>37.03</td><td>2192-04-25T11:08:15Z</td><td>2192-04-27T00:10:03Z</td></tr><tr><td>3947</td><td>10124</td><td>MICU</td><td>MED</td><td>Discharged</td><td>34.65</td><td>2192-04-18T22:30:53Z</td><td>2192-04-20T09:10:04Z</td></tr><tr><td>3935</td><td>10083</td><td>MICU</td><td>MED</td><td>Discharged</td><td>33.7</td><td>2192-11-21T11:28:19Z</td><td>2192-11-22T21:10:02Z</td></tr><tr><td>3923</td><td>10038</td><td>SICU</td><td>MED</td><td>Discharged</td><td>33.51</td><td>2144-02-13T12:09:13Z</td><td>2144-02-14T21:40:03Z</td></tr><tr><td>3921</td><td>10029</td><td>SICU</td><td>MED</td><td>Discharged</td><td>33.27</td><td>2139-09-24T09:53:37Z</td><td>2139-09-25T19:10:01Z</td></tr><tr><td>3939</td><td>10094</td><td>MICU</td><td>MED</td><td>Discharged</td><td>30.82</td><td>2180-03-03T14:50:39Z</td><td>2180-03-04T21:40:03Z</td></tr><tr><td>3946</td><td>10124</td><td>MICU</td><td>MED</td><td>Cancelled</td><td>28.94</td><td>2192-04-17T15:32:11Z</td><td>2192-04-18T20:28:33Z</td></tr></tbody></table></div>"
      ]
     },
     "metadata": {
      "application/vnd.databricks.v1+output": {
       "addedWidgets": {},
       "aggData": [],
       "aggError": "",
       "aggOverflow": false,
       "aggSchema": [],
       "aggSeriesLimitReached": false,
       "aggType": "",
       "arguments": {},
       "columnCustomDisplayInfos": {},
       "data": [
        [
         3948,
         10124,
         "CCU",
         "MED",
         "Discharged",
         37.03,
         "2192-04-25T11:08:15Z",
         "2192-04-27T00:10:03Z"
        ],
        [
         3947,
         10124,
         "MICU",
         "MED",
         "Discharged",
         34.65,
         "2192-04-18T22:30:53Z",
         "2192-04-20T09:10:04Z"
        ],
        [
         3935,
         10083,
         "MICU",
         "MED",
         "Discharged",
         33.7,
         "2192-11-21T11:28:19Z",
         "2192-11-22T21:10:02Z"
        ],
        [
         3923,
         10038,
         "SICU",
         "MED",
         "Discharged",
         33.51,
         "2144-02-13T12:09:13Z",
         "2144-02-14T21:40:03Z"
        ],
        [
         3921,
         10029,
         "SICU",
         "MED",
         "Discharged",
         33.27,
         "2139-09-24T09:53:37Z",
         "2139-09-25T19:10:01Z"
        ],
        [
         3939,
         10094,
         "MICU",
         "MED",
         "Discharged",
         30.82,
         "2180-03-03T14:50:39Z",
         "2180-03-04T21:40:03Z"
        ],
        [
         3946,
         10124,
         "MICU",
         "MED",
         "Cancelled",
         28.94,
         "2192-04-17T15:32:11Z",
         "2192-04-18T20:28:33Z"
        ]
       ],
       "datasetInfos": [],
       "dbfsResultPath": null,
       "isJsonSchema": true,
       "metadata": {},
       "overflow": false,
       "plotOptions": {
        "customPlotOptions": {},
        "displayType": "table",
        "pivotAggregation": null,
        "pivotColumns": null,
        "xColumns": null,
        "yColumns": null
       },
       "removedWidgets": [],
       "schema": [
        {
         "metadata": "{}",
         "name": "row_id",
         "type": "\"integer\""
        },
        {
         "metadata": "{}",
         "name": "subject_id",
         "type": "\"integer\""
        },
        {
         "metadata": "{}",
         "name": "curr_careunit",
         "type": "\"string\""
        },
        {
         "metadata": "{}",
         "name": "callout_service",
         "type": "\"string\""
        },
        {
         "metadata": "{}",
         "name": "callout_outcome",
         "type": "\"string\""
        },
        {
         "metadata": "{}",
         "name": "process_hours",
         "type": "\"double\""
        },
        {
         "metadata": "{}",
         "name": "createtime",
         "type": "\"timestamp\""
        },
        {
         "metadata": "{}",
         "name": "outcometime",
         "type": "\"timestamp\""
        }
       ],
       "type": "table"
      }
     },
     "output_type": "display_data"
    }
   ],
   "source": [
    "query = \"\"\"\n",
    "WITH processing_stats AS (\n",
    "    SELECT \n",
    "        AVG((UNIX_TIMESTAMP(outcometime) - UNIX_TIMESTAMP(createtime))/3600) as mean_hours,\n",
    "        STDDEV((UNIX_TIMESTAMP(outcometime) - UNIX_TIMESTAMP(createtime))/3600) as stddev_hours\n",
    "    FROM mimicdata.mimic.callout\n",
    "    WHERE outcometime IS NOT NULL AND createtime IS NOT NULL\n",
    ")\n",
    "SELECT \n",
    "    c.row_id,\n",
    "    c.subject_id,\n",
    "    c.curr_careunit,\n",
    "    c.callout_service,\n",
    "    c.callout_outcome,\n",
    "    ROUND((UNIX_TIMESTAMP(c.outcometime) - UNIX_TIMESTAMP(c.createtime))/3600, 2) as process_hours,\n",
    "    c.createtime,\n",
    "    c.outcometime\n",
    "FROM mimicdata.mimic.callout c, processing_stats ps\n",
    "WHERE (UNIX_TIMESTAMP(c.outcometime) - UNIX_TIMESTAMP(c.createtime))/3600 > (ps.mean_hours + 2 * ps.stddev_hours)\n",
    "ORDER BY (UNIX_TIMESTAMP(c.outcometime) - UNIX_TIMESTAMP(c.createtime))/3600 DESC\n",
    "\"\"\"\n",
    "\n",
    "df = spark.sql(query)\n",
    "display(df)"
   ]
  },
  {
   "cell_type": "code",
   "execution_count": 0,
   "metadata": {
    "application/vnd.databricks.v1+cell": {
     "cellMetadata": {
      "byteLimit": 2048000,
      "implicitDf": true,
      "rowLimit": 10000
     },
     "inputWidgets": {},
     "nuid": "a4530041-db16-4e90-aa5e-9a4d2b282ddb",
     "showTitle": true,
     "tableResultSettingsMap": {},
     "title": "Patient Flow Efficiency Funnel"
    }
   },
   "outputs": [
    {
     "output_type": "display_data",
     "data": {
      "text/html": [
       "<style scoped>\n",
       "  .table-result-container {\n",
       "    max-height: 300px;\n",
       "    overflow: auto;\n",
       "  }\n",
       "  table, th, td {\n",
       "    border: 1px solid black;\n",
       "    border-collapse: collapse;\n",
       "  }\n",
       "  th, td {\n",
       "    padding: 5px;\n",
       "  }\n",
       "  th {\n",
       "    text-align: left;\n",
       "  }\n",
       "</style><div class='table-result-container'><table class='table-result'><thead style='background-color: white'><tr><th>curr_careunit</th><th>volume</th><th>avg_process_hours</th><th>success_rate_percent</th><th>efficiency_score</th></tr></thead><tbody><tr><td>TSICU</td><td>4</td><td>6.8</td><td>100.0</td><td>146.98</td></tr><tr><td>CSRU</td><td>3</td><td>9.18</td><td>100.0</td><td>108.88</td></tr><tr><td>CCU</td><td>10</td><td>9.47</td><td>90.0</td><td>95.02</td></tr><tr><td>MICU</td><td>41</td><td>9.55</td><td>90.2</td><td>94.54</td></tr><tr><td>SICU</td><td>19</td><td>12.47</td><td>94.7</td><td>75.99</td></tr></tbody></table></div>"
      ]
     },
     "metadata": {
      "application/vnd.databricks.v1+output": {
       "addedWidgets": {},
       "aggData": [],
       "aggError": "",
       "aggOverflow": false,
       "aggSchema": [],
       "aggSeriesLimitReached": false,
       "aggType": "",
       "arguments": {},
       "columnCustomDisplayInfos": {},
       "data": [
        [
         "TSICU",
         4,
         6.8,
         "100.0",
         146.98
        ],
        [
         "CSRU",
         3,
         9.18,
         "100.0",
         108.88
        ],
        [
         "CCU",
         10,
         9.47,
         "90.0",
         95.02
        ],
        [
         "MICU",
         41,
         9.55,
         "90.2",
         94.54
        ],
        [
         "SICU",
         19,
         12.47,
         "94.7",
         75.99
        ]
       ],
       "datasetInfos": [],
       "dbfsResultPath": null,
       "isJsonSchema": true,
       "metadata": {
        "createTempViewForImplicitDf": true,
        "dataframeName": "_sqldf",
        "executionCount": 30
       },
       "overflow": false,
       "plotOptions": {
        "customPlotOptions": {},
        "displayType": "table",
        "pivotAggregation": null,
        "pivotColumns": null,
        "xColumns": null,
        "yColumns": null
       },
       "removedWidgets": [],
       "schema": [
        {
         "metadata": "{}",
         "name": "curr_careunit",
         "type": "\"string\""
        },
        {
         "metadata": "{}",
         "name": "volume",
         "type": "\"long\""
        },
        {
         "metadata": "{}",
         "name": "avg_process_hours",
         "type": "\"double\""
        },
        {
         "metadata": "{}",
         "name": "success_rate_percent",
         "type": "\"decimal(26,1)\""
        },
        {
         "metadata": "{}",
         "name": "efficiency_score",
         "type": "\"double\""
        }
       ],
       "type": "table"
      }
     },
     "output_type": "display_data"
    }
   ],
   "source": [
    "%sql\n",
    "WITH unit_metrics AS (\n",
    "    SELECT \n",
    "        curr_careunit,\n",
    "        COUNT(*) as volume,\n",
    "        AVG((UNIX_TIMESTAMP(outcometime) - UNIX_TIMESTAMP(createtime))/3600) as avg_hours,\n",
    "        COUNT(CASE WHEN callout_outcome = 'Discharged' THEN 1 END) * 100.0 / COUNT(*) as success_rate\n",
    "    FROM mimicdata.mimic.callout\n",
    "    WHERE curr_careunit IS NOT NULL\n",
    "    GROUP BY curr_careunit\n",
    ")\n",
    "SELECT \n",
    "    curr_careunit,\n",
    "    volume,\n",
    "    ROUND(avg_hours, 2) as avg_process_hours,\n",
    "    ROUND(success_rate, 1) as success_rate_percent,\n",
    "    -- Efficiency score: higher success rate and lower processing time = better\n",
    "    ROUND((success_rate / avg_hours) * 10, 2) as efficiency_score\n",
    "FROM unit_metrics\n",
    "WHERE volume >= 3  -- Only units with sufficient volume\n",
    "ORDER BY efficiency_score DESC;"
   ]
  },
  {
   "cell_type": "code",
   "execution_count": 0,
   "metadata": {
    "application/vnd.databricks.v1+cell": {
     "cellMetadata": {},
     "inputWidgets": {},
     "nuid": "fae87055-ca99-43ac-beee-7b9da353dfca",
     "showTitle": false,
     "tableResultSettingsMap": {},
     "title": ""
    }
   },
   "outputs": [],
   "source": []
  }
 ],
 "metadata": {
  "application/vnd.databricks.v1+notebook": {
   "computePreferences": null,
   "dashboards": [],
   "environmentMetadata": {
    "base_environment": "",
    "environment_version": "2"
   },
   "inputWidgetPreferences": null,
   "language": "python",
   "notebookMetadata": {
    "mostRecentlyExecutedCommandWithImplicitDF": {
     "commandId": 4577167799982602,
     "dataframes": [
      "_sqldf"
     ]
    },
    "pythonIndentUnit": 4
   },
   "notebookName": "2.callout",
   "widgets": {}
  },
  "language_info": {
   "name": "python"
  }
 },
 "nbformat": 4,
 "nbformat_minor": 0
}