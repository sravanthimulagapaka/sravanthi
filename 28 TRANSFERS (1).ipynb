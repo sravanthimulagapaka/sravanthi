{
 "cells": [
  {
   "cell_type": "code",
   "execution_count": 0,
   "metadata": {
    "application/vnd.databricks.v1+cell": {
     "cellMetadata": {
      "byteLimit": 2048000,
      "implicitDf": true,
      "rowLimit": 10000
     },
     "inputWidgets": {},
     "nuid": "df4c556a-05b9-45bc-ba0f-fe9fb0b1a231",
     "showTitle": false,
     "tableResultSettingsMap": {},
     "title": ""
    }
   },
   "outputs": [
    {
     "output_type": "display_data",
     "data": {
      "text/html": [
       "<style scoped>\n",
       "  .table-result-container {\n",
       "    max-height: 300px;\n",
       "    overflow: auto;\n",
       "  }\n",
       "  table, th, td {\n",
       "    border: 1px solid black;\n",
       "    border-collapse: collapse;\n",
       "  }\n",
       "  th, td {\n",
       "    padding: 5px;\n",
       "  }\n",
       "  th {\n",
       "    text-align: left;\n",
       "  }\n",
       "</style><div class='table-result-container'><table class='table-result'><thead style='background-color: white'><tr></tr></thead><tbody></tbody></table></div>"
      ]
     },
     "metadata": {
      "application/vnd.databricks.v1+output": {
       "addedWidgets": {},
       "aggData": [],
       "aggError": "",
       "aggOverflow": false,
       "aggSchema": [],
       "aggSeriesLimitReached": false,
       "aggType": "",
       "arguments": {},
       "columnCustomDisplayInfos": {},
       "data": [],
       "datasetInfos": [],
       "dbfsResultPath": null,
       "isJsonSchema": true,
       "metadata": {
        "dataframeName": null
       },
       "overflow": false,
       "plotOptions": {
        "customPlotOptions": {},
        "displayType": "table",
        "pivotAggregation": null,
        "pivotColumns": null,
        "xColumns": null,
        "yColumns": null
       },
       "removedWidgets": [],
       "schema": [],
       "type": "table"
      }
     },
     "output_type": "display_data"
    }
   ],
   "source": [
    "%sql\n",
    "CREATE SCHEMA IF NOT EXISTS mimic"
   ]
  },
  {
   "cell_type": "code",
   "execution_count": 0,
   "metadata": {
    "application/vnd.databricks.v1+cell": {
     "cellMetadata": {
      "byteLimit": 2048000,
      "rowLimit": 10000
     },
     "inputWidgets": {},
     "nuid": "53698ecb-e453-4ace-a0a0-d4d06f382365",
     "showTitle": false,
     "tableResultSettingsMap": {},
     "title": ""
    }
   },
   "outputs": [],
   "source": [
    "transfers_df = spark.read.option(\"header\", \"true\").option(\"inferSchema\", \"true\").csv(\"dbfs:/mnt/mimic/TRANSFERS.csv\")"
   ]
  },
  {
   "cell_type": "code",
   "execution_count": 0,
   "metadata": {
    "application/vnd.databricks.v1+cell": {
     "cellMetadata": {
      "byteLimit": 2048000,
      "rowLimit": 10000
     },
     "inputWidgets": {},
     "nuid": "e7e88fd2-8cd4-4b0a-b718-3fd332a54730",
     "showTitle": false,
     "tableResultSettingsMap": {},
     "title": ""
    }
   },
   "outputs": [],
   "source": [
    "transfers_df.write.format(\"delta\").mode(\"overwrite\").saveAsTable(\"mimic.transfers\")"
   ]
  },
  {
   "cell_type": "code",
   "execution_count": 0,
   "metadata": {
    "application/vnd.databricks.v1+cell": {
     "cellMetadata": {
      "byteLimit": 2048000,
      "implicitDf": true,
      "rowLimit": 10000
     },
     "inputWidgets": {},
     "nuid": "3a8c270d-5135-4439-8267-4d04c43b4789",
     "showTitle": true,
     "tableResultSettingsMap": {},
     "title": "Basic table structure"
    }
   },
   "outputs": [
    {
     "output_type": "display_data",
     "data": {
      "text/html": [
       "<style scoped>\n",
       "  .table-result-container {\n",
       "    max-height: 300px;\n",
       "    overflow: auto;\n",
       "  }\n",
       "  table, th, td {\n",
       "    border: 1px solid black;\n",
       "    border-collapse: collapse;\n",
       "  }\n",
       "  th, td {\n",
       "    padding: 5px;\n",
       "  }\n",
       "  th {\n",
       "    text-align: left;\n",
       "  }\n",
       "</style><div class='table-result-container'><table class='table-result'><thead style='background-color: white'><tr><th>total_records</th><th>unique_patients</th><th>unique_hospital_admissions</th><th>unique_icu_stays</th><th>earliest_date</th><th>latest_date</th></tr></thead><tbody><tr><td>524</td><td>100</td><td>129</td><td>136</td><td>2102-08-29T03:15:39Z</td><td>2202-10-11T18:30:49Z</td></tr></tbody></table></div>"
      ]
     },
     "metadata": {
      "application/vnd.databricks.v1+output": {
       "addedWidgets": {},
       "aggData": [],
       "aggError": "",
       "aggOverflow": false,
       "aggSchema": [],
       "aggSeriesLimitReached": false,
       "aggType": "",
       "arguments": {},
       "columnCustomDisplayInfos": {},
       "data": [
        [
         524,
         100,
         129,
         136,
         "2102-08-29T03:15:39Z",
         "2202-10-11T18:30:49Z"
        ]
       ],
       "datasetInfos": [],
       "dbfsResultPath": null,
       "isJsonSchema": true,
       "metadata": {
        "dataframeName": "_sqldf",
        "executionCount": 5
       },
       "overflow": false,
       "plotOptions": {
        "customPlotOptions": {},
        "displayType": "table",
        "pivotAggregation": null,
        "pivotColumns": null,
        "xColumns": null,
        "yColumns": null
       },
       "removedWidgets": [],
       "schema": [
        {
         "metadata": "{}",
         "name": "total_records",
         "type": "\"long\""
        },
        {
         "metadata": "{}",
         "name": "unique_patients",
         "type": "\"long\""
        },
        {
         "metadata": "{}",
         "name": "unique_hospital_admissions",
         "type": "\"long\""
        },
        {
         "metadata": "{}",
         "name": "unique_icu_stays",
         "type": "\"long\""
        },
        {
         "metadata": "{}",
         "name": "earliest_date",
         "type": "\"timestamp\""
        },
        {
         "metadata": "{}",
         "name": "latest_date",
         "type": "\"timestamp\""
        }
       ],
       "type": "table"
      }
     },
     "output_type": "display_data"
    },
    {
     "output_type": "display_data",
     "data": {
      "text/plain": [
       "Databricks visualization. Run in Databricks to view."
      ]
     },
     "metadata": {
      "application/vnd.databricks.v1.subcommand+json": {
       "baseErrorDetails": null,
       "bindings": {},
       "collapsed": false,
       "command": "%sql WITH q AS (SELECT \n    COUNT(*) as total_records,\n    COUNT(DISTINCT subject_id) as unique_patients,\n    COUNT(DISTINCT hadm_id) as unique_hospital_admissions,\n    COUNT(DISTINCT icustay_id) as unique_icu_stays,\n    MIN(intime) as earliest_date,\n    MAX(intime) as latest_date\nFROM mimicdata_2567611159492892.mimic.transfers) SELECT `total_records`,SUM(`unique_patients`) `column_29df5220190` FROM q GROUP BY `total_records`",
       "commandTitle": "Visualization 1",
       "commandType": "auto",
       "commandVersion": 0,
       "commentThread": [],
       "commentsVisible": false,
       "contentSha256Hex": null,
       "customPlotOptions": {
        "redashChart": [
         {
          "key": "type",
          "value": "CHART"
         },
         {
          "key": "options",
          "value": {
           "alignYAxesAtZero": true,
           "coefficient": 1,
           "columnConfigurationMap": {
            "x": {
             "column": "total_records",
             "id": "column_29df5220188"
            },
            "y": [
             {
              "column": "unique_patients",
              "id": "column_29df5220190",
              "transform": "SUM"
             }
            ]
           },
           "dateTimeFormat": "DD/MM/YYYY HH:mm",
           "direction": {
            "type": "counterclockwise"
           },
           "error_y": {
            "type": "data",
            "visible": true
           },
           "globalSeriesType": "column",
           "isAggregationOn": true,
           "legend": {
            "traceorder": "normal"
           },
           "missingValuesAsZero": true,
           "numberFormat": "0,0.[00000]",
           "percentFormat": "0[.]00%",
           "series": {
            "error_y": {
             "type": "data",
             "visible": true
            },
            "stacking": null
           },
           "seriesOptions": {
            "column_29df5220190": {
             "type": "column",
             "yAxis": 0
            },
            "column_29df5220193": {
             "type": "column",
             "yAxis": 0
            }
           },
           "showDataLabels": false,
           "sizemode": "diameter",
           "sortX": true,
           "sortY": true,
           "swappedAxes": false,
           "textFormat": "",
           "useAggregationsUi": true,
           "valuesOptions": {},
           "version": 2,
           "xAxis": {
            "labels": {
             "enabled": true
            },
            "type": "-"
           },
           "yAxis": [
            {
             "type": "-"
            },
            {
             "opposite": true,
             "type": "-"
            }
           ]
          }
         }
        ]
       },
       "datasetPreviewNameToCmdIdMap": {},
       "diffDeletes": [],
       "diffInserts": [],
       "displayType": "redashChart",
       "error": null,
       "errorDetails": null,
       "errorSummary": null,
       "errorTraceType": null,
       "finishTime": 0,
       "globalVars": {},
       "guid": "",
       "height": "auto",
       "hideCommandCode": false,
       "hideCommandResult": false,
       "iPythonMetadata": null,
       "inputWidgets": {},
       "isLockedInExamMode": false,
       "latestUser": "a user",
       "latestUserId": null,
       "listResultMetadata": null,
       "metadata": {},
       "nuid": "be9042ab-80d1-4276-bcb8-5fcf0ef44ded",
       "origId": 0,
       "parentHierarchy": [],
       "pivotAggregation": null,
       "pivotColumns": null,
       "position": 5.0,
       "resultDbfsErrorMessage": null,
       "resultDbfsStatus": "INLINED_IN_TREE",
       "results": null,
       "showCommandTitle": false,
       "startTime": 0,
       "state": "input",
       "streamStates": {},
       "subcommandOptions": {
        "queryPlan": {
         "groups": [
          {
           "column": "total_records",
           "type": "column"
          }
         ],
         "selects": [
          {
           "column": "total_records",
           "type": "column"
          },
          {
           "alias": "column_29df5220190",
           "args": [
            {
             "column": "unique_patients",
             "type": "column"
            }
           ],
           "function": "SUM",
           "type": "function"
          }
         ]
        }
       },
       "submitTime": 0,
       "subtype": "tableResultSubCmd.visualization",
       "tableResultIndex": 0,
       "tableResultSettingsMap": {},
       "useConsistentColors": false,
       "version": "CommandV1",
       "width": "auto",
       "workflows": [],
       "xColumns": null,
       "yColumns": null
      }
     },
     "output_type": "display_data"
    }
   ],
   "source": [
    "%sql\n",
    "SELECT \n",
    "    COUNT(*) as total_records,\n",
    "    COUNT(DISTINCT subject_id) as unique_patients,\n",
    "    COUNT(DISTINCT hadm_id) as unique_hospital_admissions,\n",
    "    COUNT(DISTINCT icustay_id) as unique_icu_stays,\n",
    "    MIN(intime) as earliest_date,\n",
    "    MAX(intime) as latest_date\n",
    "FROM mimicdata_2567611159492892.mimic.transfers;\n"
   ]
  },
  {
   "cell_type": "code",
   "execution_count": 0,
   "metadata": {
    "application/vnd.databricks.v1+cell": {
     "cellMetadata": {
      "byteLimit": 2048000,
      "implicitDf": true,
      "rowLimit": 10000
     },
     "inputWidgets": {},
     "nuid": "5ffe0057-6c1e-4891-9847-ac8e468dfa30",
     "showTitle": true,
     "tableResultSettingsMap": {},
     "title": "Data completeness check"
    }
   },
   "outputs": [
    {
     "output_type": "display_data",
     "data": {
      "text/html": [
       "<style scoped>\n",
       "  .table-result-container {\n",
       "    max-height: 300px;\n",
       "    overflow: auto;\n",
       "  }\n",
       "  table, th, td {\n",
       "    border: 1px solid black;\n",
       "    border-collapse: collapse;\n",
       "  }\n",
       "  th, td {\n",
       "    padding: 5px;\n",
       "  }\n",
       "  th {\n",
       "    text-align: left;\n",
       "  }\n",
       "</style><div class='table-result-container'><table class='table-result'><thead style='background-color: white'><tr><th>column_name</th><th>total_count</th><th>non_null_count</th><th>completeness_pct</th></tr></thead><tbody><tr><td>row_id</td><td>524</td><td>524</td><td>100.00</td></tr><tr><td>subject_id</td><td>524</td><td>524</td><td>100.00</td></tr><tr><td>hadm_id</td><td>524</td><td>524</td><td>100.00</td></tr><tr><td>icustay_id</td><td>524</td><td>167</td><td>31.87</td></tr><tr><td>prev_careunit</td><td>524</td><td>167</td><td>31.87</td></tr><tr><td>curr_careunit</td><td>524</td><td>167</td><td>31.87</td></tr><tr><td>los</td><td>524</td><td>395</td><td>75.38</td></tr></tbody></table></div>"
      ]
     },
     "metadata": {
      "application/vnd.databricks.v1+output": {
       "addedWidgets": {},
       "aggData": [],
       "aggError": "",
       "aggOverflow": false,
       "aggSchema": [],
       "aggSeriesLimitReached": false,
       "aggType": "",
       "arguments": {},
       "columnCustomDisplayInfos": {},
       "data": [
        [
         "row_id",
         524,
         524,
         "100.00"
        ],
        [
         "subject_id",
         524,
         524,
         "100.00"
        ],
        [
         "hadm_id",
         524,
         524,
         "100.00"
        ],
        [
         "icustay_id",
         524,
         167,
         "31.87"
        ],
        [
         "prev_careunit",
         524,
         167,
         "31.87"
        ],
        [
         "curr_careunit",
         524,
         167,
         "31.87"
        ],
        [
         "los",
         524,
         395,
         "75.38"
        ]
       ],
       "datasetInfos": [],
       "dbfsResultPath": null,
       "isJsonSchema": true,
       "metadata": {
        "dataframeName": "_sqldf",
        "executionCount": 6
       },
       "overflow": false,
       "plotOptions": {
        "customPlotOptions": {},
        "displayType": "table",
        "pivotAggregation": null,
        "pivotColumns": null,
        "xColumns": null,
        "yColumns": null
       },
       "removedWidgets": [],
       "schema": [
        {
         "metadata": "{}",
         "name": "column_name",
         "type": "\"string\""
        },
        {
         "metadata": "{}",
         "name": "total_count",
         "type": "\"long\""
        },
        {
         "metadata": "{}",
         "name": "non_null_count",
         "type": "\"long\""
        },
        {
         "metadata": "{}",
         "name": "completeness_pct",
         "type": "\"decimal(27,2)\""
        }
       ],
       "type": "table"
      }
     },
     "output_type": "display_data"
    },
    {
     "output_type": "display_data",
     "data": {
      "text/plain": [
       "Databricks visualization. Run in Databricks to view."
      ]
     },
     "metadata": {
      "application/vnd.databricks.v1.subcommand+json": {
       "baseErrorDetails": null,
       "bindings": {},
       "collapsed": false,
       "command": "%sql WITH q AS (SELECT \n    'row_id' as column_name, COUNT(*) as total_count, COUNT(row_id) as non_null_count,\n    ROUND(COUNT(row_id) * 100.0 / COUNT(*), 2) as completeness_pct\nFROM mimicdata_2567611159492892.mimic.transfers\nUNION ALL\nSELECT 'subject_id', COUNT(*), COUNT(subject_id), ROUND(COUNT(subject_id) * 100.0 / COUNT(*), 2) FROM mimicdata_2567611159492892.mimic.transfers\nUNION ALL\nSELECT 'hadm_id', COUNT(*), COUNT(hadm_id), ROUND(COUNT(hadm_id) * 100.0 / COUNT(*), 2) FROM mimicdata_2567611159492892.mimic.transfers\nUNION ALL\nSELECT 'icustay_id', COUNT(*), COUNT(icustay_id), ROUND(COUNT(icustay_id) * 100.0 / COUNT(*), 2) FROM mimicdata_2567611159492892.mimic.transfers\nUNION ALL\nSELECT 'prev_careunit', COUNT(*), COUNT(prev_careunit), ROUND(COUNT(prev_careunit) * 100.0 / COUNT(*), 2) FROM mimicdata_2567611159492892.mimic.transfers\nUNION ALL\nSELECT 'curr_careunit', COUNT(*), COUNT(curr_careunit), ROUND(COUNT(curr_careunit) * 100.0 / COUNT(*), 2) FROM mimicdata_2567611159492892.mimic.transfers\nUNION ALL\nSELECT 'los', COUNT(*), COUNT(los), ROUND(COUNT(los) * 100.0 / COUNT(*), 2) FROM mimicdata_2567611159492892.mimic.transfers) SELECT `column_name`,SUM(`non_null_count`) `column_29df5220197` FROM q GROUP BY `column_name`",
       "commandTitle": "Visualization 1",
       "commandType": "auto",
       "commandVersion": 0,
       "commentThread": [],
       "commentsVisible": false,
       "contentSha256Hex": null,
       "customPlotOptions": {
        "redashChart": [
         {
          "key": "type",
          "value": "CHART"
         },
         {
          "key": "options",
          "value": {
           "alignYAxesAtZero": true,
           "coefficient": 1,
           "columnConfigurationMap": {
            "x": {
             "column": "column_name",
             "id": "column_29df5220195"
            },
            "y": [
             {
              "column": "non_null_count",
              "id": "column_29df5220197",
              "transform": "SUM"
             }
            ]
           },
           "dateTimeFormat": "DD/MM/YYYY HH:mm",
           "direction": {
            "type": "counterclockwise"
           },
           "error_y": {
            "type": "data",
            "visible": true
           },
           "globalSeriesType": "column",
           "isAggregationOn": true,
           "legend": {
            "traceorder": "normal"
           },
           "missingValuesAsZero": true,
           "numberFormat": "0,0.[00000]",
           "percentFormat": "0[.]00%",
           "series": {
            "error_y": {
             "type": "data",
             "visible": true
            },
            "stacking": null
           },
           "seriesOptions": {
            "column_29df5220197": {
             "color": "#BF7080",
             "type": "column",
             "yAxis": 0
            }
           },
           "showDataLabels": false,
           "sizemode": "diameter",
           "sortX": true,
           "sortY": true,
           "swappedAxes": false,
           "textFormat": "",
           "useAggregationsUi": true,
           "valuesOptions": {},
           "version": 2,
           "xAxis": {
            "labels": {
             "enabled": true
            },
            "type": "-"
           },
           "yAxis": [
            {
             "type": "-"
            },
            {
             "opposite": true,
             "type": "-"
            }
           ]
          }
         }
        ]
       },
       "datasetPreviewNameToCmdIdMap": {},
       "diffDeletes": [],
       "diffInserts": [],
       "displayType": "redashChart",
       "error": null,
       "errorDetails": null,
       "errorSummary": null,
       "errorTraceType": null,
       "finishTime": 0,
       "globalVars": {},
       "guid": "",
       "height": "auto",
       "hideCommandCode": false,
       "hideCommandResult": false,
       "iPythonMetadata": null,
       "inputWidgets": {},
       "isLockedInExamMode": false,
       "latestUser": "a user",
       "latestUserId": null,
       "listResultMetadata": null,
       "metadata": {},
       "nuid": "0743592b-acf4-4c1d-b81f-074735e3d926",
       "origId": 0,
       "parentHierarchy": [],
       "pivotAggregation": null,
       "pivotColumns": null,
       "position": 6.0,
       "resultDbfsErrorMessage": null,
       "resultDbfsStatus": "INLINED_IN_TREE",
       "results": null,
       "showCommandTitle": false,
       "startTime": 0,
       "state": "input",
       "streamStates": {},
       "subcommandOptions": {
        "queryPlan": {
         "groups": [
          {
           "column": "column_name",
           "type": "column"
          }
         ],
         "selects": [
          {
           "column": "column_name",
           "type": "column"
          },
          {
           "alias": "column_29df5220197",
           "args": [
            {
             "column": "non_null_count",
             "type": "column"
            }
           ],
           "function": "SUM",
           "type": "function"
          }
         ]
        }
       },
       "submitTime": 0,
       "subtype": "tableResultSubCmd.visualization",
       "tableResultIndex": 0,
       "tableResultSettingsMap": {},
       "useConsistentColors": false,
       "version": "CommandV1",
       "width": "auto",
       "workflows": [],
       "xColumns": null,
       "yColumns": null
      }
     },
     "output_type": "display_data"
    }
   ],
   "source": [
    "%sql\n",
    "SELECT \n",
    "    'row_id' as column_name, COUNT(*) as total_count, COUNT(row_id) as non_null_count,\n",
    "    ROUND(COUNT(row_id) * 100.0 / COUNT(*), 2) as completeness_pct\n",
    "FROM mimicdata_2567611159492892.mimic.transfers\n",
    "UNION ALL\n",
    "SELECT 'subject_id', COUNT(*), COUNT(subject_id), ROUND(COUNT(subject_id) * 100.0 / COUNT(*), 2) FROM mimicdata_2567611159492892.mimic.transfers\n",
    "UNION ALL\n",
    "SELECT 'hadm_id', COUNT(*), COUNT(hadm_id), ROUND(COUNT(hadm_id) * 100.0 / COUNT(*), 2) FROM mimicdata_2567611159492892.mimic.transfers\n",
    "UNION ALL\n",
    "SELECT 'icustay_id', COUNT(*), COUNT(icustay_id), ROUND(COUNT(icustay_id) * 100.0 / COUNT(*), 2) FROM mimicdata_2567611159492892.mimic.transfers\n",
    "UNION ALL\n",
    "SELECT 'prev_careunit', COUNT(*), COUNT(prev_careunit), ROUND(COUNT(prev_careunit) * 100.0 / COUNT(*), 2) FROM mimicdata_2567611159492892.mimic.transfers\n",
    "UNION ALL\n",
    "SELECT 'curr_careunit', COUNT(*), COUNT(curr_careunit), ROUND(COUNT(curr_careunit) * 100.0 / COUNT(*), 2) FROM mimicdata_2567611159492892.mimic.transfers\n",
    "UNION ALL\n",
    "SELECT 'los', COUNT(*), COUNT(los), ROUND(COUNT(los) * 100.0 / COUNT(*), 2) FROM mimicdata_2567611159492892.mimic.transfers;"
   ]
  },
  {
   "cell_type": "code",
   "execution_count": 0,
   "metadata": {
    "application/vnd.databricks.v1+cell": {
     "cellMetadata": {
      "byteLimit": 2048000,
      "implicitDf": true,
      "rowLimit": 10000
     },
     "inputWidgets": {},
     "nuid": "ef22b42a-85cb-462b-a376-16e7b698dff4",
     "showTitle": true,
     "tableResultSettingsMap": {},
     "title": "Event type distribution"
    }
   },
   "outputs": [
    {
     "output_type": "display_data",
     "data": {
      "text/html": [
       "<style scoped>\n",
       "  .table-result-container {\n",
       "    max-height: 300px;\n",
       "    overflow: auto;\n",
       "  }\n",
       "  table, th, td {\n",
       "    border: 1px solid black;\n",
       "    border-collapse: collapse;\n",
       "  }\n",
       "  th, td {\n",
       "    padding: 5px;\n",
       "  }\n",
       "  th {\n",
       "    text-align: left;\n",
       "  }\n",
       "</style><div class='table-result-container'><table class='table-result'><thead style='background-color: white'><tr><th>eventtype</th><th>event_count</th><th>percentage</th></tr></thead><tbody><tr><td>transfer</td><td>266</td><td>50.76</td></tr><tr><td>admit</td><td>129</td><td>24.62</td></tr><tr><td>discharge</td><td>129</td><td>24.62</td></tr></tbody></table></div>"
      ]
     },
     "metadata": {
      "application/vnd.databricks.v1+output": {
       "addedWidgets": {},
       "aggData": [],
       "aggError": "",
       "aggOverflow": false,
       "aggSchema": [],
       "aggSeriesLimitReached": false,
       "aggType": "",
       "arguments": {},
       "columnCustomDisplayInfos": {},
       "data": [
        [
         "transfer",
         266,
         "50.76"
        ],
        [
         "admit",
         129,
         "24.62"
        ],
        [
         "discharge",
         129,
         "24.62"
        ]
       ],
       "datasetInfos": [],
       "dbfsResultPath": null,
       "isJsonSchema": true,
       "metadata": {
        "dataframeName": "_sqldf",
        "executionCount": 8
       },
       "overflow": false,
       "plotOptions": {
        "customPlotOptions": {},
        "displayType": "table",
        "pivotAggregation": null,
        "pivotColumns": null,
        "xColumns": null,
        "yColumns": null
       },
       "removedWidgets": [],
       "schema": [
        {
         "metadata": "{}",
         "name": "eventtype",
         "type": "\"string\""
        },
        {
         "metadata": "{}",
         "name": "event_count",
         "type": "\"long\""
        },
        {
         "metadata": "{}",
         "name": "percentage",
         "type": "\"decimal(27,2)\""
        }
       ],
       "type": "table"
      }
     },
     "output_type": "display_data"
    },
    {
     "output_type": "display_data",
     "data": {
      "text/plain": [
       "Databricks visualization. Run in Databricks to view."
      ]
     },
     "metadata": {
      "application/vnd.databricks.v1.subcommand+json": {
       "baseErrorDetails": null,
       "bindings": {},
       "collapsed": false,
       "command": "%sql WITH q AS (SELECT \n    eventtype,\n    COUNT(*) as event_count,\n    ROUND(COUNT(*) * 100.0 / (SELECT COUNT(*) FROM mimicdata_2567611159492892.mimic.transfers), 2) as percentage\nFROM mimicdata_2567611159492892.mimic.transfers\nGROUP BY eventtype\nORDER BY event_count DESC) SELECT `eventtype`,SUM(`percentage`) `column_29df5220203`,SUM(`event_count`) `column_29df5220204`,`eventtype` FROM q GROUP BY `eventtype`",
       "commandTitle": "Visualization 1",
       "commandType": "auto",
       "commandVersion": 0,
       "commentThread": [],
       "commentsVisible": false,
       "contentSha256Hex": null,
       "customPlotOptions": {
        "redashChart": [
         {
          "key": "type",
          "value": "CHART"
         },
         {
          "key": "options",
          "value": {
           "alignYAxesAtZero": true,
           "coefficient": 1,
           "columnConfigurationMap": {
            "series": {
             "column": "eventtype",
             "id": "column_29df5220201"
            },
            "x": {
             "column": "eventtype",
             "id": "column_29df5220202"
            },
            "y": [
             {
              "column": "percentage",
              "id": "column_29df5220203",
              "transform": "SUM"
             },
             {
              "column": "event_count",
              "id": "column_29df5220204",
              "transform": "SUM"
             }
            ]
           },
           "dateTimeFormat": "DD/MM/YYYY HH:mm",
           "direction": {
            "type": "counterclockwise"
           },
           "error_y": {
            "type": "data",
            "visible": true
           },
           "globalSeriesType": "column",
           "isAggregationOn": true,
           "legend": {
            "traceorder": "normal"
           },
           "missingValuesAsZero": true,
           "numberFormat": "0,0.[00000]",
           "percentFormat": "0[.]00%",
           "series": {
            "error_y": {
             "type": "data",
             "visible": true
            },
            "stacking": null
           },
           "seriesOptions": {
            "column_29df5220200": {
             "name": "percentage",
             "type": "column",
             "yAxis": 0
            },
            "column_29df5220203": {
             "type": "column",
             "yAxis": 0
            },
            "column_29df5220204": {
             "type": "column",
             "yAxis": 0
            },
            "event_count": {
             "type": "column",
             "yAxis": 0
            },
            "percentage": {
             "type": "column",
             "yAxis": 0
            }
           },
           "showDataLabels": false,
           "sizemode": "diameter",
           "sortX": true,
           "sortY": true,
           "swappedAxes": false,
           "textFormat": "",
           "useAggregationsUi": true,
           "valuesOptions": {},
           "version": 2,
           "xAxis": {
            "labels": {
             "enabled": true
            },
            "type": "-"
           },
           "yAxis": [
            {
             "type": "-"
            },
            {
             "opposite": true,
             "type": "-"
            }
           ]
          }
         }
        ]
       },
       "datasetPreviewNameToCmdIdMap": {},
       "diffDeletes": [],
       "diffInserts": [],
       "displayType": "redashChart",
       "error": null,
       "errorDetails": null,
       "errorSummary": null,
       "errorTraceType": null,
       "finishTime": 0,
       "globalVars": {},
       "guid": "",
       "height": "auto",
       "hideCommandCode": false,
       "hideCommandResult": false,
       "iPythonMetadata": null,
       "inputWidgets": {},
       "isLockedInExamMode": false,
       "latestUser": "a user",
       "latestUserId": null,
       "listResultMetadata": null,
       "metadata": {},
       "nuid": "5631b353-afd3-4f3e-b255-7d0d3e37e67f",
       "origId": 0,
       "parentHierarchy": [],
       "pivotAggregation": null,
       "pivotColumns": null,
       "position": 7.0,
       "resultDbfsErrorMessage": null,
       "resultDbfsStatus": "INLINED_IN_TREE",
       "results": null,
       "showCommandTitle": false,
       "startTime": 0,
       "state": "input",
       "streamStates": {},
       "subcommandOptions": {
        "queryPlan": {
         "groups": [
          {
           "column": "eventtype",
           "type": "column"
          },
          {
           "column": "eventtype",
           "type": "column"
          }
         ],
         "selects": [
          {
           "column": "eventtype",
           "type": "column"
          },
          {
           "alias": "column_29df5220203",
           "args": [
            {
             "column": "percentage",
             "type": "column"
            }
           ],
           "function": "SUM",
           "type": "function"
          },
          {
           "alias": "column_29df5220204",
           "args": [
            {
             "column": "event_count",
             "type": "column"
            }
           ],
           "function": "SUM",
           "type": "function"
          },
          {
           "column": "eventtype",
           "type": "column"
          }
         ]
        }
       },
       "submitTime": 0,
       "subtype": "tableResultSubCmd.visualization",
       "tableResultIndex": 0,
       "tableResultSettingsMap": {},
       "useConsistentColors": false,
       "version": "CommandV1",
       "width": "auto",
       "workflows": [],
       "xColumns": null,
       "yColumns": null
      }
     },
     "output_type": "display_data"
    }
   ],
   "source": [
    "%sql\n",
    "SELECT \n",
    "    eventtype,\n",
    "    COUNT(*) as event_count,\n",
    "    ROUND(COUNT(*) * 100.0 / (SELECT COUNT(*) FROM mimicdata_2567611159492892.mimic.transfers), 2) as percentage\n",
    "FROM mimicdata_2567611159492892.mimic.transfers\n",
    "GROUP BY eventtype\n",
    "ORDER BY event_count DESC;"
   ]
  },
  {
   "cell_type": "code",
   "execution_count": 0,
   "metadata": {
    "application/vnd.databricks.v1+cell": {
     "cellMetadata": {
      "byteLimit": 2048000,
      "implicitDf": true,
      "rowLimit": 10000
     },
     "inputWidgets": {},
     "nuid": "25416bf2-050e-4d1d-8c21-ef8dd7b84219",
     "showTitle": true,
     "tableResultSettingsMap": {},
     "title": "Data source distribution"
    }
   },
   "outputs": [
    {
     "output_type": "display_data",
     "data": {
      "text/html": [
       "<style scoped>\n",
       "  .table-result-container {\n",
       "    max-height: 300px;\n",
       "    overflow: auto;\n",
       "  }\n",
       "  table, th, td {\n",
       "    border: 1px solid black;\n",
       "    border-collapse: collapse;\n",
       "  }\n",
       "  th, td {\n",
       "    padding: 5px;\n",
       "  }\n",
       "  th {\n",
       "    text-align: left;\n",
       "  }\n",
       "</style><div class='table-result-container'><table class='table-result'><thead style='background-color: white'><tr><th>dbsource</th><th>record_count</th><th>percentage</th></tr></thead><tbody><tr><td>carevue</td><td>237</td><td>45.23</td></tr><tr><td>metavision</td><td>287</td><td>54.77</td></tr></tbody></table></div>"
      ]
     },
     "metadata": {
      "application/vnd.databricks.v1+output": {
       "addedWidgets": {},
       "aggData": [],
       "aggError": "",
       "aggOverflow": false,
       "aggSchema": [],
       "aggSeriesLimitReached": false,
       "aggType": "",
       "arguments": {},
       "columnCustomDisplayInfos": {},
       "data": [
        [
         "carevue",
         237,
         "45.23"
        ],
        [
         "metavision",
         287,
         "54.77"
        ]
       ],
       "datasetInfos": [],
       "dbfsResultPath": null,
       "isJsonSchema": true,
       "metadata": {
        "dataframeName": "_sqldf",
        "executionCount": 10
       },
       "overflow": false,
       "plotOptions": {
        "customPlotOptions": {},
        "displayType": "table",
        "pivotAggregation": null,
        "pivotColumns": null,
        "xColumns": null,
        "yColumns": null
       },
       "removedWidgets": [],
       "schema": [
        {
         "metadata": "{}",
         "name": "dbsource",
         "type": "\"string\""
        },
        {
         "metadata": "{}",
         "name": "record_count",
         "type": "\"long\""
        },
        {
         "metadata": "{}",
         "name": "percentage",
         "type": "\"decimal(27,2)\""
        }
       ],
       "type": "table"
      }
     },
     "output_type": "display_data"
    },
    {
     "output_type": "display_data",
     "data": {
      "text/plain": [
       "Databricks visualization. Run in Databricks to view."
      ]
     },
     "metadata": {
      "application/vnd.databricks.v1.subcommand+json": {
       "baseErrorDetails": null,
       "bindings": {},
       "collapsed": false,
       "command": "%sql WITH q AS (SELECT \n    dbsource,\n    COUNT(*) as record_count,\n    ROUND(COUNT(*) * 100.0 / (SELECT COUNT(*) FROM mimicdata_2567611159492892.mimic.transfers), 2) as percentage\nFROM mimicdata_2567611159492892.mimic.transfers\nGROUP BY dbsource) SELECT `dbsource`,SUM(`percentage`) `column_29df5220208`,`dbsource` FROM q GROUP BY `dbsource`",
       "commandTitle": "Visualization 1",
       "commandType": "auto",
       "commandVersion": 0,
       "commentThread": [],
       "commentsVisible": false,
       "contentSha256Hex": null,
       "customPlotOptions": {
        "redashChart": [
         {
          "key": "type",
          "value": "CHART"
         },
         {
          "key": "options",
          "value": {
           "alignYAxesAtZero": true,
           "coefficient": 1,
           "columnConfigurationMap": {
            "series": {
             "column": "dbsource",
             "id": "column_29df5220209"
            },
            "x": {
             "column": "dbsource",
             "id": "column_29df5220210"
            },
            "y": [
             {
              "column": "percentage",
              "id": "column_29df5220208",
              "transform": "SUM"
             }
            ]
           },
           "dateTimeFormat": "DD/MM/YYYY HH:mm",
           "direction": {
            "type": "counterclockwise"
           },
           "error_y": {
            "type": "data",
            "visible": true
           },
           "globalSeriesType": "column",
           "isAggregationOn": true,
           "legend": {
            "traceorder": "normal"
           },
           "missingValuesAsZero": true,
           "numberFormat": "0,0.[00000]",
           "percentFormat": "0[.]00%",
           "series": {
            "error_y": {
             "type": "data",
             "visible": true
            },
            "stacking": null
           },
           "seriesOptions": {
            "column_29df5220208": {
             "name": "percentage",
             "type": "column",
             "yAxis": 0
            }
           },
           "showDataLabels": false,
           "sizemode": "diameter",
           "sortX": true,
           "sortY": true,
           "swappedAxes": false,
           "textFormat": "",
           "useAggregationsUi": true,
           "valuesOptions": {},
           "version": 2,
           "xAxis": {
            "labels": {
             "enabled": true
            },
            "type": "-"
           },
           "yAxis": [
            {
             "type": "-"
            },
            {
             "opposite": true,
             "type": "-"
            }
           ]
          }
         }
        ]
       },
       "datasetPreviewNameToCmdIdMap": {},
       "diffDeletes": [],
       "diffInserts": [],
       "displayType": "redashChart",
       "error": null,
       "errorDetails": null,
       "errorSummary": null,
       "errorTraceType": null,
       "finishTime": 0,
       "globalVars": {},
       "guid": "",
       "height": "auto",
       "hideCommandCode": false,
       "hideCommandResult": false,
       "iPythonMetadata": null,
       "inputWidgets": {},
       "isLockedInExamMode": false,
       "latestUser": "a user",
       "latestUserId": null,
       "listResultMetadata": null,
       "metadata": {},
       "nuid": "93b4056b-6f2e-437e-a229-e4c709f14911",
       "origId": 0,
       "parentHierarchy": [],
       "pivotAggregation": null,
       "pivotColumns": null,
       "position": 8.0,
       "resultDbfsErrorMessage": null,
       "resultDbfsStatus": "INLINED_IN_TREE",
       "results": null,
       "showCommandTitle": false,
       "startTime": 0,
       "state": "input",
       "streamStates": {},
       "subcommandOptions": {
        "queryPlan": {
         "groups": [
          {
           "column": "dbsource",
           "type": "column"
          },
          {
           "column": "dbsource",
           "type": "column"
          }
         ],
         "selects": [
          {
           "column": "dbsource",
           "type": "column"
          },
          {
           "alias": "column_29df5220208",
           "args": [
            {
             "column": "percentage",
             "type": "column"
            }
           ],
           "function": "SUM",
           "type": "function"
          },
          {
           "column": "dbsource",
           "type": "column"
          }
         ]
        }
       },
       "submitTime": 0,
       "subtype": "tableResultSubCmd.visualization",
       "tableResultIndex": 0,
       "tableResultSettingsMap": {},
       "useConsistentColors": false,
       "version": "CommandV1",
       "width": "auto",
       "workflows": [],
       "xColumns": null,
       "yColumns": null
      }
     },
     "output_type": "display_data"
    }
   ],
   "source": [
    "%sql\n",
    "SELECT \n",
    "    dbsource,\n",
    "    COUNT(*) as record_count,\n",
    "    ROUND(COUNT(*) * 100.0 / (SELECT COUNT(*) FROM mimicdata_2567611159492892.mimic.transfers), 2) as percentage\n",
    "FROM mimicdata_2567611159492892.mimic.transfers\n",
    "GROUP BY dbsource;\n"
   ]
  },
  {
   "cell_type": "code",
   "execution_count": 0,
   "metadata": {
    "application/vnd.databricks.v1+cell": {
     "cellMetadata": {
      "byteLimit": 2048000,
      "implicitDf": true,
      "rowLimit": 10000
     },
     "inputWidgets": {},
     "nuid": "668f4868-53de-4824-95e9-1d8950c97a51",
     "showTitle": true,
     "tableResultSettingsMap": {},
     "title": "Care unit frequency"
    }
   },
   "outputs": [
    {
     "output_type": "display_data",
     "data": {
      "text/html": [
       "<style scoped>\n",
       "  .table-result-container {\n",
       "    max-height: 300px;\n",
       "    overflow: auto;\n",
       "  }\n",
       "  table, th, td {\n",
       "    border: 1px solid black;\n",
       "    border-collapse: collapse;\n",
       "  }\n",
       "  th, td {\n",
       "    padding: 5px;\n",
       "  }\n",
       "  th {\n",
       "    text-align: left;\n",
       "  }\n",
       "</style><div class='table-result-container'><table class='table-result'><thead style='background-color: white'><tr><th>category</th><th>care_unit</th><th>frequency</th></tr></thead><tbody><tr><td>Current Care Units</td><td>MICU</td><td>95</td></tr><tr><td>Current Care Units</td><td>SICU</td><td>27</td></tr><tr><td>Current Care Units</td><td>CCU</td><td>26</td></tr><tr><td>Current Care Units</td><td>TSICU</td><td>12</td></tr><tr><td>Current Care Units</td><td>CSRU</td><td>7</td></tr><tr><td>Previous Care Units</td><td>MICU</td><td>95</td></tr><tr><td>Previous Care Units</td><td>SICU</td><td>27</td></tr><tr><td>Previous Care Units</td><td>CCU</td><td>26</td></tr><tr><td>Previous Care Units</td><td>TSICU</td><td>12</td></tr><tr><td>Previous Care Units</td><td>CSRU</td><td>7</td></tr></tbody></table></div>"
      ]
     },
     "metadata": {
      "application/vnd.databricks.v1+output": {
       "addedWidgets": {},
       "aggData": [],
       "aggError": "",
       "aggOverflow": false,
       "aggSchema": [],
       "aggSeriesLimitReached": false,
       "aggType": "",
       "arguments": {},
       "columnCustomDisplayInfos": {},
       "data": [
        [
         "Current Care Units",
         "MICU",
         95
        ],
        [
         "Current Care Units",
         "SICU",
         27
        ],
        [
         "Current Care Units",
         "CCU",
         26
        ],
        [
         "Current Care Units",
         "TSICU",
         12
        ],
        [
         "Current Care Units",
         "CSRU",
         7
        ],
        [
         "Previous Care Units",
         "MICU",
         95
        ],
        [
         "Previous Care Units",
         "SICU",
         27
        ],
        [
         "Previous Care Units",
         "CCU",
         26
        ],
        [
         "Previous Care Units",
         "TSICU",
         12
        ],
        [
         "Previous Care Units",
         "CSRU",
         7
        ]
       ],
       "datasetInfos": [],
       "dbfsResultPath": null,
       "isJsonSchema": true,
       "metadata": {
        "dataframeName": "_sqldf",
        "executionCount": 11
       },
       "overflow": false,
       "plotOptions": {
        "customPlotOptions": {},
        "displayType": "table",
        "pivotAggregation": null,
        "pivotColumns": null,
        "xColumns": null,
        "yColumns": null
       },
       "removedWidgets": [],
       "schema": [
        {
         "metadata": "{}",
         "name": "category",
         "type": "\"string\""
        },
        {
         "metadata": "{}",
         "name": "care_unit",
         "type": "\"string\""
        },
        {
         "metadata": "{}",
         "name": "frequency",
         "type": "\"long\""
        }
       ],
       "type": "table"
      }
     },
     "output_type": "display_data"
    },
    {
     "output_type": "display_data",
     "data": {
      "text/plain": [
       "Databricks visualization. Run in Databricks to view."
      ]
     },
     "metadata": {
      "application/vnd.databricks.v1.subcommand+json": {
       "baseErrorDetails": null,
       "bindings": {},
       "collapsed": false,
       "command": "%sql WITH q AS (SELECT \n    'Current Care Units' as category,\n    curr_careunit as care_unit,\n    COUNT(*) as frequency\nFROM mimicdata_2567611159492892.mimic.transfers\nWHERE curr_careunit IS NOT NULL\nGROUP BY curr_careunit\nUNION ALL\nSELECT \n    'Previous Care Units' as category,\n    prev_careunit as care_unit,\n    COUNT(*) as frequency\nFROM mimicdata_2567611159492892.mimic.transfers\nWHERE prev_careunit IS NOT NULL\nGROUP BY prev_careunit\nORDER BY category, frequency DESC) SELECT `category`,`care_unit`,COUNT(`care_unit`) `column_29df5220217`,SUM(`frequency`) `column_29df5220218` FROM q GROUP BY `care_unit`,`category`",
       "commandTitle": "Visualization 1",
       "commandType": "auto",
       "commandVersion": 0,
       "commentThread": [],
       "commentsVisible": false,
       "contentSha256Hex": null,
       "customPlotOptions": {
        "redashChart": [
         {
          "key": "type",
          "value": "CHART"
         },
         {
          "key": "options",
          "value": {
           "alignYAxesAtZero": true,
           "coefficient": 1,
           "columnConfigurationMap": {
            "series": {
             "column": "care_unit",
             "id": "column_29df5220213"
            },
            "x": {
             "column": "category",
             "id": "column_29df5220212"
            },
            "y": [
             {
              "column": "care_unit",
              "id": "column_29df5220217",
              "transform": "COUNT"
             },
             {
              "column": "frequency",
              "id": "column_29df5220218",
              "transform": "SUM"
             }
            ]
           },
           "dateTimeFormat": "DD/MM/YYYY HH:mm",
           "direction": {
            "type": "counterclockwise"
           },
           "error_y": {
            "type": "data",
            "visible": true
           },
           "globalSeriesType": "column",
           "isAggregationOn": true,
           "legend": {
            "traceorder": "normal"
           },
           "missingValuesAsZero": true,
           "numberFormat": "0,0.[00000]",
           "percentFormat": "0[.]00%",
           "series": {
            "error_y": {
             "type": "data",
             "visible": true
            },
            "stacking": null
           },
           "seriesOptions": {
            "care_unit": {
             "type": "column",
             "yAxis": 0
            },
            "column_29df5220214": {
             "name": "frequency",
             "type": "column",
             "yAxis": 0
            },
            "column_29df5220217": {
             "type": "column",
             "yAxis": 0
            },
            "column_29df5220218": {
             "name": "frequency",
             "type": "column",
             "yAxis": 0
            },
            "frequency": {
             "name": "frequency",
             "type": "column",
             "yAxis": 0
            }
           },
           "showDataLabels": false,
           "sizemode": "diameter",
           "sortX": true,
           "sortY": true,
           "swappedAxes": false,
           "textFormat": "",
           "useAggregationsUi": true,
           "valuesOptions": {},
           "version": 2,
           "xAxis": {
            "labels": {
             "enabled": true
            },
            "type": "-"
           },
           "yAxis": [
            {
             "type": "-"
            },
            {
             "opposite": true,
             "type": "-"
            }
           ]
          }
         }
        ]
       },
       "datasetPreviewNameToCmdIdMap": {},
       "diffDeletes": [],
       "diffInserts": [],
       "displayType": "redashChart",
       "error": null,
       "errorDetails": null,
       "errorSummary": null,
       "errorTraceType": null,
       "finishTime": 0,
       "globalVars": {},
       "guid": "",
       "height": "auto",
       "hideCommandCode": false,
       "hideCommandResult": false,
       "iPythonMetadata": null,
       "inputWidgets": {},
       "isLockedInExamMode": false,
       "latestUser": "a user",
       "latestUserId": null,
       "listResultMetadata": null,
       "metadata": {},
       "nuid": "1c26d85b-ce5e-4ca8-840b-9487d8d7a568",
       "origId": 0,
       "parentHierarchy": [],
       "pivotAggregation": null,
       "pivotColumns": null,
       "position": 9.0,
       "resultDbfsErrorMessage": null,
       "resultDbfsStatus": "INLINED_IN_TREE",
       "results": null,
       "showCommandTitle": false,
       "startTime": 0,
       "state": "input",
       "streamStates": {},
       "subcommandOptions": {
        "queryPlan": {
         "groups": [
          {
           "column": "category",
           "type": "column"
          },
          {
           "column": "care_unit",
           "type": "column"
          }
         ],
         "selects": [
          {
           "column": "category",
           "type": "column"
          },
          {
           "column": "care_unit",
           "type": "column"
          },
          {
           "alias": "column_29df5220217",
           "args": [
            {
             "column": "care_unit",
             "type": "column"
            }
           ],
           "function": "COUNT",
           "type": "function"
          },
          {
           "alias": "column_29df5220218",
           "args": [
            {
             "column": "frequency",
             "type": "column"
            }
           ],
           "function": "SUM",
           "type": "function"
          }
         ]
        }
       },
       "submitTime": 0,
       "subtype": "tableResultSubCmd.visualization",
       "tableResultIndex": 0,
       "tableResultSettingsMap": {},
       "useConsistentColors": false,
       "version": "CommandV1",
       "width": "auto",
       "workflows": [],
       "xColumns": null,
       "yColumns": null
      }
     },
     "output_type": "display_data"
    }
   ],
   "source": [
    "%sql\n",
    "SELECT \n",
    "    'Current Care Units' as category,\n",
    "    curr_careunit as care_unit,\n",
    "    COUNT(*) as frequency\n",
    "FROM mimicdata_2567611159492892.mimic.transfers\n",
    "WHERE curr_careunit IS NOT NULL\n",
    "GROUP BY curr_careunit\n",
    "UNION ALL\n",
    "SELECT \n",
    "    'Previous Care Units' as category,\n",
    "    prev_careunit as care_unit,\n",
    "    COUNT(*) as frequency\n",
    "FROM mimicdata_2567611159492892.mimic.transfers\n",
    "WHERE prev_careunit IS NOT NULL\n",
    "GROUP BY prev_careunit\n",
    "ORDER BY category, frequency DESC;"
   ]
  },
  {
   "cell_type": "code",
   "execution_count": 0,
   "metadata": {
    "application/vnd.databricks.v1+cell": {
     "cellMetadata": {
      "byteLimit": 2048000,
      "implicitDf": true,
      "rowLimit": 10000
     },
     "inputWidgets": {},
     "nuid": "e15df686-b958-456b-9153-d19449be35ad",
     "showTitle": true,
     "tableResultSettingsMap": {},
     "title": "Length of stay statistics"
    }
   },
   "outputs": [
    {
     "output_type": "display_data",
     "data": {
      "text/html": [
       "<style scoped>\n",
       "  .table-result-container {\n",
       "    max-height: 300px;\n",
       "    overflow: auto;\n",
       "  }\n",
       "  table, th, td {\n",
       "    border: 1px solid black;\n",
       "    border-collapse: collapse;\n",
       "  }\n",
       "  th, td {\n",
       "    padding: 5px;\n",
       "  }\n",
       "  th {\n",
       "    text-align: left;\n",
       "  }\n",
       "</style><div class='table-result-container'><table class='table-result'><thead style='background-color: white'><tr><th>records_with_los</th><th>avg_los_hours</th><th>avg_los_days</th><th>min_los_hours</th><th>max_los_hours</th><th>median_los_hours</th><th>p75_los_hours</th><th>p95_los_hours</th></tr></thead><tbody><tr><td>394</td><td>71.9</td><td>3.0</td><td>0.01</td><td>1415.45</td><td>38.71</td><td>71.62</td><td>232.89</td></tr></tbody></table></div>"
      ]
     },
     "metadata": {
      "application/vnd.databricks.v1+output": {
       "addedWidgets": {},
       "aggData": [],
       "aggError": "",
       "aggOverflow": false,
       "aggSchema": [],
       "aggSeriesLimitReached": false,
       "aggType": "",
       "arguments": {},
       "columnCustomDisplayInfos": {},
       "data": [
        [
         394,
         71.9,
         3.0,
         0.01,
         1415.45,
         38.71,
         71.62,
         232.89
        ]
       ],
       "datasetInfos": [],
       "dbfsResultPath": null,
       "isJsonSchema": true,
       "metadata": {
        "dataframeName": "_sqldf",
        "executionCount": 13
       },
       "overflow": false,
       "plotOptions": {
        "customPlotOptions": {},
        "displayType": "table",
        "pivotAggregation": null,
        "pivotColumns": null,
        "xColumns": null,
        "yColumns": null
       },
       "removedWidgets": [],
       "schema": [
        {
         "metadata": "{}",
         "name": "records_with_los",
         "type": "\"long\""
        },
        {
         "metadata": "{}",
         "name": "avg_los_hours",
         "type": "\"double\""
        },
        {
         "metadata": "{}",
         "name": "avg_los_days",
         "type": "\"double\""
        },
        {
         "metadata": "{}",
         "name": "min_los_hours",
         "type": "\"double\""
        },
        {
         "metadata": "{}",
         "name": "max_los_hours",
         "type": "\"double\""
        },
        {
         "metadata": "{}",
         "name": "median_los_hours",
         "type": "\"double\""
        },
        {
         "metadata": "{}",
         "name": "p75_los_hours",
         "type": "\"double\""
        },
        {
         "metadata": "{}",
         "name": "p95_los_hours",
         "type": "\"double\""
        }
       ],
       "type": "table"
      }
     },
     "output_type": "display_data"
    }
   ],
   "source": [
    "%sql\n",
    "SELECT \n",
    "    COUNT(los) as records_with_los,\n",
    "    ROUND(AVG(los), 2) as avg_los_hours,\n",
    "    ROUND(AVG(los) / 24, 2) as avg_los_days,\n",
    "    ROUND(MIN(los), 2) as min_los_hours,\n",
    "    ROUND(MAX(los), 2) as max_los_hours,\n",
    "    ROUND(PERCENTILE_CONT(0.5) WITHIN GROUP (ORDER BY los), 2) as median_los_hours,\n",
    "    ROUND(PERCENTILE_CONT(0.75) WITHIN GROUP (ORDER BY los), 2) as p75_los_hours,\n",
    "    ROUND(PERCENTILE_CONT(0.95) WITHIN GROUP (ORDER BY los), 2) as p95_los_hours\n",
    "FROM mimicdata_2567611159492892.mimic.transfers\n",
    "WHERE los IS NOT NULL AND los > 0;"
   ]
  },
  {
   "cell_type": "code",
   "execution_count": 0,
   "metadata": {
    "application/vnd.databricks.v1+cell": {
     "cellMetadata": {
      "byteLimit": 2048000,
      "implicitDf": true,
      "rowLimit": 10000
     },
     "inputWidgets": {},
     "nuid": "8a1bfe4c-7dd0-421b-a20a-297582968c93",
     "showTitle": true,
     "tableResultSettingsMap": {},
     "title": "Daily transfers"
    }
   },
   "outputs": [
    {
     "output_type": "display_data",
     "data": {
      "text/html": [
       "<style scoped>\n",
       "  .table-result-container {\n",
       "    max-height: 300px;\n",
       "    overflow: auto;\n",
       "  }\n",
       "  table, th, td {\n",
       "    border: 1px solid black;\n",
       "    border-collapse: collapse;\n",
       "  }\n",
       "  th, td {\n",
       "    padding: 5px;\n",
       "  }\n",
       "  th {\n",
       "    text-align: left;\n",
       "  }\n",
       "</style><div class='table-result-container'><table class='table-result'><thead style='background-color: white'><tr><th>transfer_date</th><th>eventtype</th><th>daily_count</th></tr></thead><tbody><tr><td>2102-08-29</td><td>admit</td><td>1</td></tr><tr><td>2102-08-29</td><td>transfer</td><td>2</td></tr><tr><td>2102-08-31</td><td>transfer</td><td>1</td></tr><tr><td>2102-09-01</td><td>transfer</td><td>2</td></tr><tr><td>2102-09-03</td><td>transfer</td><td>2</td></tr><tr><td>2102-09-06</td><td>discharge</td><td>1</td></tr><tr><td>2104-09-24</td><td>admit</td><td>1</td></tr><tr><td>2104-09-26</td><td>transfer</td><td>1</td></tr><tr><td>2104-09-30</td><td>discharge</td><td>1</td></tr><tr><td>2104-10-24</td><td>admit</td><td>1</td></tr><tr><td>2104-10-25</td><td>transfer</td><td>1</td></tr><tr><td>2104-10-28</td><td>discharge</td><td>1</td></tr><tr><td>2105-05-29</td><td>admit</td><td>1</td></tr><tr><td>2105-05-30</td><td>transfer</td><td>1</td></tr><tr><td>2105-06-08</td><td>transfer</td><td>2</td></tr><tr><td>2105-06-11</td><td>discharge</td><td>1</td></tr><tr><td>2106-08-30</td><td>admit</td><td>1</td></tr><tr><td>2106-08-31</td><td>discharge</td><td>1</td></tr><tr><td>2107-01-05</td><td>admit</td><td>1</td></tr><tr><td>2107-01-08</td><td>transfer</td><td>1</td></tr><tr><td>2107-01-11</td><td>discharge</td><td>1</td></tr><tr><td>2107-01-16</td><td>admit</td><td>1</td></tr><tr><td>2107-01-29</td><td>admit</td><td>1</td></tr><tr><td>2107-01-30</td><td>transfer</td><td>1</td></tr><tr><td>2107-02-08</td><td>transfer</td><td>1</td></tr><tr><td>2107-02-10</td><td>discharge</td><td>2</td></tr><tr><td>2107-03-21</td><td>admit</td><td>1</td></tr><tr><td>2107-03-21</td><td>transfer</td><td>1</td></tr><tr><td>2107-03-22</td><td>transfer</td><td>1</td></tr><tr><td>2107-03-24</td><td>transfer</td><td>1</td></tr><tr><td>2107-03-31</td><td>discharge</td><td>1</td></tr><tr><td>2107-05-12</td><td>admit</td><td>1</td></tr><tr><td>2107-05-14</td><td>transfer</td><td>1</td></tr><tr><td>2107-05-18</td><td>discharge</td><td>1</td></tr><tr><td>2110-12-29</td><td>admit</td><td>1</td></tr><tr><td>2111-01-04</td><td>transfer</td><td>1</td></tr><tr><td>2111-01-06</td><td>transfer</td><td>3</td></tr><tr><td>2111-01-07</td><td>transfer</td><td>1</td></tr><tr><td>2111-01-09</td><td>transfer</td><td>1</td></tr><tr><td>2111-01-12</td><td>transfer</td><td>1</td></tr><tr><td>2111-01-14</td><td>discharge</td><td>1</td></tr><tr><td>2112-02-04</td><td>admit</td><td>1</td></tr><tr><td>2112-02-09</td><td>transfer</td><td>1</td></tr><tr><td>2112-02-12</td><td>discharge</td><td>1</td></tr><tr><td>2112-05-04</td><td>admit</td><td>1</td></tr><tr><td>2112-05-04</td><td>transfer</td><td>1</td></tr><tr><td>2112-05-06</td><td>transfer</td><td>2</td></tr><tr><td>2112-05-11</td><td>discharge</td><td>1</td></tr><tr><td>2112-05-22</td><td>admit</td><td>1</td></tr><tr><td>2112-05-23</td><td>transfer</td><td>3</td></tr><tr><td>2112-05-25</td><td>discharge</td><td>1</td></tr><tr><td>2112-05-28</td><td>admit</td><td>1</td></tr><tr><td>2112-05-29</td><td>transfer</td><td>1</td></tr><tr><td>2112-06-01</td><td>transfer</td><td>2</td></tr><tr><td>2112-06-07</td><td>discharge</td><td>1</td></tr><tr><td>2115-05-12</td><td>admit</td><td>1</td></tr><tr><td>2115-05-13</td><td>transfer</td><td>2</td></tr><tr><td>2115-05-15</td><td>discharge</td><td>1</td></tr><tr><td>2117-03-21</td><td>admit</td><td>1</td></tr><tr><td>2117-03-21</td><td>transfer</td><td>1</td></tr><tr><td>2117-03-22</td><td>transfer</td><td>2</td></tr><tr><td>2117-03-23</td><td>transfer</td><td>2</td></tr><tr><td>2117-03-28</td><td>transfer</td><td>1</td></tr><tr><td>2117-03-31</td><td>discharge</td><td>1</td></tr><tr><td>2117-08-05</td><td>admit</td><td>1</td></tr><tr><td>2117-08-05</td><td>transfer</td><td>1</td></tr><tr><td>2117-08-13</td><td>transfer</td><td>1</td></tr><tr><td>2117-08-15</td><td>transfer</td><td>2</td></tr><tr><td>2117-08-19</td><td>discharge</td><td>1</td></tr><tr><td>2117-08-21</td><td>admit</td><td>1</td></tr><tr><td>2117-08-21</td><td>transfer</td><td>1</td></tr><tr><td>2117-08-23</td><td>transfer</td><td>3</td></tr><tr><td>2117-08-26</td><td>discharge</td><td>1</td></tr><tr><td>2118-10-06</td><td>admit</td><td>1</td></tr><tr><td>2118-10-08</td><td>transfer</td><td>1</td></tr><tr><td>2118-10-09</td><td>discharge</td><td>1</td></tr><tr><td>2119-10-17</td><td>admit</td><td>1</td></tr><tr><td>2119-10-21</td><td>transfer</td><td>1</td></tr><tr><td>2119-10-30</td><td>transfer</td><td>2</td></tr><tr><td>2119-11-14</td><td>discharge</td><td>1</td></tr><tr><td>2120-08-24</td><td>admit</td><td>1</td></tr><tr><td>2120-08-24</td><td>transfer</td><td>1</td></tr><tr><td>2120-08-25</td><td>transfer</td><td>2</td></tr><tr><td>2120-08-31</td><td>discharge</td><td>1</td></tr><tr><td>2121-12-07</td><td>admit</td><td>1</td></tr><tr><td>2121-12-09</td><td>transfer</td><td>1</td></tr><tr><td>2121-12-11</td><td>transfer</td><td>1</td></tr><tr><td>2121-12-12</td><td>discharge</td><td>1</td></tr><tr><td>2123-08-23</td><td>admit</td><td>1</td></tr><tr><td>2123-08-24</td><td>transfer</td><td>1</td></tr><tr><td>2123-09-17</td><td>discharge</td><td>1</td></tr><tr><td>2123-11-24</td><td>admit</td><td>1</td></tr><tr><td>2123-12-25</td><td>transfer</td><td>1</td></tr><tr><td>2123-12-30</td><td>discharge</td><td>1</td></tr><tr><td>2124-01-12</td><td>admit</td><td>1</td></tr><tr><td>2124-01-13</td><td>transfer</td><td>1</td></tr><tr><td>2124-01-14</td><td>discharge</td><td>1</td></tr><tr><td>2125-10-04</td><td>admit</td><td>1</td></tr><tr><td>2125-10-07</td><td>discharge</td><td>1</td></tr><tr><td>2126-08-14</td><td>admit</td><td>1</td></tr><tr><td>2126-08-28</td><td>discharge</td><td>1</td></tr><tr><td>2127-03-19</td><td>admit</td><td>1</td></tr><tr><td>2127-03-19</td><td>discharge</td><td>1</td></tr><tr><td>2127-07-23</td><td>admit</td><td>1</td></tr><tr><td>2127-07-23</td><td>transfer</td><td>1</td></tr><tr><td>2127-07-29</td><td>transfer</td><td>1</td></tr><tr><td>2127-07-30</td><td>transfer</td><td>3</td></tr><tr><td>2127-08-01</td><td>transfer</td><td>1</td></tr><tr><td>2127-08-04</td><td>discharge</td><td>1</td></tr><tr><td>2127-10-06</td><td>admit</td><td>1</td></tr><tr><td>2127-10-28</td><td>discharge</td><td>1</td></tr><tr><td>2128-03-22</td><td>admit</td><td>1</td></tr><tr><td>2128-03-23</td><td>transfer</td><td>1</td></tr><tr><td>2128-03-24</td><td>discharge</td><td>1</td></tr><tr><td>2128-11-04</td><td>admit</td><td>1</td></tr><tr><td>2128-11-05</td><td>transfer</td><td>1</td></tr><tr><td>2128-11-06</td><td>transfer</td><td>1</td></tr><tr><td>2128-11-08</td><td>transfer</td><td>1</td></tr><tr><td>2128-11-10</td><td>discharge</td><td>1</td></tr><tr><td>2129-03-03</td><td>admit</td><td>1</td></tr><tr><td>2129-03-04</td><td>transfer</td><td>2</td></tr><tr><td>2129-03-05</td><td>transfer</td><td>1</td></tr><tr><td>2129-03-07</td><td>discharge</td><td>1</td></tr><tr><td>2129-05-02</td><td>admit</td><td>1</td></tr><tr><td>2129-05-03</td><td>transfer</td><td>1</td></tr><tr><td>2129-05-06</td><td>discharge</td><td>1</td></tr><tr><td>2129-11-24</td><td>admit</td><td>1</td></tr><tr><td>2129-11-24</td><td>transfer</td><td>1</td></tr><tr><td>2129-11-25</td><td>transfer</td><td>1</td></tr><tr><td>2129-12-01</td><td>discharge</td><td>1</td></tr><tr><td>2130-02-04</td><td>admit</td><td>1</td></tr><tr><td>2130-02-06</td><td>transfer</td><td>1</td></tr><tr><td>2130-02-08</td><td>transfer</td><td>2</td></tr><tr><td>2130-02-10</td><td>discharge</td><td>1</td></tr><tr><td>2130-08-12</td><td>admit</td><td>1</td></tr><tr><td>2130-08-12</td><td>transfer</td><td>1</td></tr><tr><td>2130-08-15</td><td>transfer</td><td>1</td></tr><tr><td>2130-08-18</td><td>discharge</td><td>1</td></tr><tr><td>2130-10-06</td><td>admit</td><td>1</td></tr><tr><td>2130-10-06</td><td>discharge</td><td>1</td></tr><tr><td>2131-07-26</td><td>admit</td><td>1</td></tr><tr><td>2131-07-27</td><td>transfer</td><td>1</td></tr><tr><td>2131-07-28</td><td>discharge</td><td>1</td></tr><tr><td>2131-07-28</td><td>transfer</td><td>1</td></tr><tr><td>2132-08-05</td><td>admit</td><td>1</td></tr><tr><td>2132-08-08</td><td>discharge</td><td>1</td></tr><tr><td>2132-12-05</td><td>admit</td><td>1</td></tr><tr><td>2132-12-05</td><td>transfer</td><td>2</td></tr><tr><td>2132-12-06</td><td>transfer</td><td>1</td></tr><tr><td>2132-12-08</td><td>discharge</td><td>1</td></tr><tr><td>2135-10-24</td><td>admit</td><td>1</td></tr><tr><td>2135-10-24</td><td>transfer</td><td>2</td></tr><tr><td>2135-10-25</td><td>transfer</td><td>1</td></tr><tr><td>2135-10-27</td><td>discharge</td><td>1</td></tr><tr><td>2138-04-02</td><td>admit</td><td>1</td></tr><tr><td>2138-04-07</td><td>transfer</td><td>2</td></tr><tr><td>2138-04-08</td><td>transfer</td><td>1</td></tr><tr><td>2138-04-11</td><td>transfer</td><td>1</td></tr><tr><td>2138-04-15</td><td>discharge</td><td>1</td></tr><tr><td>2138-06-05</td><td>admit</td><td>1</td></tr><tr><td>2138-06-05</td><td>transfer</td><td>2</td></tr><tr><td>2138-06-07</td><td>transfer</td><td>1</td></tr><tr><td>2138-06-09</td><td>transfer</td><td>1</td></tr><tr><td>2138-06-11</td><td>discharge</td><td>1</td></tr><tr><td>2138-11-09</td><td>admit</td><td>1</td></tr><tr><td>2138-11-09</td><td>transfer</td><td>2</td></tr><tr><td>2138-11-10</td><td>transfer</td><td>1</td></tr><tr><td>2138-11-12</td><td>transfer</td><td>2</td></tr><tr><td>2138-11-14</td><td>transfer</td><td>1</td></tr><tr><td>2138-11-17</td><td>transfer</td><td>1</td></tr><tr><td>2138-11-18</td><td>discharge</td><td>1</td></tr><tr><td>2139-09-22</td><td>admit</td><td>1</td></tr><tr><td>2139-09-23</td><td>transfer</td><td>1</td></tr><tr><td>2139-09-25</td><td>transfer</td><td>1</td></tr><tr><td>2139-10-02</td><td>discharge</td><td>1</td></tr><tr><td>2141-01-25</td><td>admit</td><td>1</td></tr><tr><td>2141-01-26</td><td>discharge</td><td>1</td></tr><tr><td>2142-11-26</td><td>admit</td><td>1</td></tr><tr><td>2142-11-29</td><td>transfer</td><td>1</td></tr><tr><td>2142-11-30</td><td>discharge</td><td>1</td></tr><tr><td>2144-02-09</td><td>admit</td><td>1</td></tr><tr><td>2144-02-09</td><td>transfer</td><td>1</td></tr><tr><td>2144-02-11</td><td>transfer</td><td>1</td></tr><tr><td>2144-02-14</td><td>transfer</td><td>1</td></tr><tr><td>2144-02-21</td><td>discharge</td><td>1</td></tr><tr><td>2144-07-11</td><td>admit</td><td>1</td></tr><tr><td>2144-07-13</td><td>transfer</td><td>2</td></tr><tr><td>2144-07-14</td><td>transfer</td><td>1</td></tr><tr><td>2144-07-18</td><td>admit</td><td>1</td></tr><tr><td>2144-07-18</td><td>transfer</td><td>1</td></tr><tr><td>2144-07-19</td><td>transfer</td><td>1</td></tr><tr><td>2144-07-28</td><td>discharge</td><td>1</td></tr><tr><td>2144-08-01</td><td>transfer</td><td>1</td></tr><tr><td>2144-09-14</td><td>transfer</td><td>1</td></tr><tr><td>2144-10-15</td><td>admit</td><td>1</td></tr><tr><td>2144-10-24</td><td>discharge</td><td>1</td></tr><tr><td>2144-11-12</td><td>discharge</td><td>1</td></tr><tr><td>2144-12-24</td><td>admit</td><td>1</td></tr><tr><td>2144-12-31</td><td>discharge</td><td>1</td></tr><tr><td>2145-07-07</td><td>admit</td><td>1</td></tr><tr><td>2145-07-09</td><td>transfer</td><td>1</td></tr><tr><td>2145-07-10</td><td>transfer</td><td>1</td></tr><tr><td>2145-07-17</td><td>transfer</td><td>1</td></tr><tr><td>2145-07-20</td><td>discharge</td><td>1</td></tr><tr><td>2145-09-06</td><td>admit</td><td>1</td></tr><tr><td>2145-09-07</td><td>transfer</td><td>1</td></tr><tr><td>2145-09-09</td><td>discharge</td><td>1</td></tr><tr><td>2145-12-01</td><td>admit</td><td>1</td></tr><tr><td>2145-12-02</td><td>transfer</td><td>1</td></tr><tr><td>2145-12-14</td><td>transfer</td><td>1</td></tr><tr><td>2145-12-18</td><td>discharge</td><td>1</td></tr><tr><td>2146-07-21</td><td>admit</td><td>1</td></tr><tr><td>2146-07-22</td><td>discharge</td><td>1</td></tr><tr><td>2147-02-06</td><td>admit</td><td>1</td></tr><tr><td>2147-02-14</td><td>transfer</td><td>1</td></tr><tr><td>2147-02-15</td><td>transfer</td><td>4</td></tr><tr><td>2147-02-17</td><td>discharge</td><td>1</td></tr><tr><td>2147-02-23</td><td>admit</td><td>1</td></tr><tr><td>2147-02-25</td><td>transfer</td><td>1</td></tr><tr><td>2147-02-27</td><td>discharge</td><td>1</td></tr><tr><td>2147-10-03</td><td>admit</td><td>1</td></tr><tr><td>2147-11-01</td><td>transfer</td><td>1</td></tr><tr><td>2147-11-04</td><td>discharge</td><td>1</td></tr><tr><td>2148-01-13</td><td>admit</td><td>1</td></tr><tr><td>2148-01-13</td><td>transfer</td><td>1</td></tr><tr><td>2148-01-19</td><td>discharge</td><td>1</td></tr><tr><td>2149-05-26</td><td>admit</td><td>1</td></tr><tr><td>2149-05-26</td><td>transfer</td><td>2</td></tr><tr><td>2149-05-29</td><td>transfer</td><td>1</td></tr><tr><td>2149-05-31</td><td>transfer</td><td>1</td></tr><tr><td>2149-06-03</td><td>discharge</td><td>1</td></tr><tr><td>2150-08-07</td><td>admit</td><td>1</td></tr><tr><td>2150-08-09</td><td>transfer</td><td>3</td></tr><tr><td>2150-08-13</td><td>discharge</td><td>1</td></tr><tr><td>2150-08-22</td><td>admit</td><td>1</td></tr><tr><td>2150-08-29</td><td>discharge</td><td>1</td></tr><tr><td>2151-08-13</td><td>admit</td><td>1</td></tr><tr><td>2151-08-13</td><td>transfer</td><td>2</td></tr><tr><td>2151-08-14</td><td>transfer</td><td>1</td></tr><tr><td>2151-08-17</td><td>discharge</td><td>1</td></tr><tr><td>2151-09-12</td><td>admit</td><td>1</td></tr><tr><td>2151-09-12</td><td>transfer</td><td>3</td></tr><tr><td>2151-09-14</td><td>transfer</td><td>1</td></tr><tr><td>2151-09-15</td><td>discharge</td><td>1</td></tr><tr><td>2152-10-02</td><td>admit</td><td>1</td></tr><tr><td>2152-10-03</td><td>transfer</td><td>2</td></tr><tr><td>2152-10-07</td><td>transfer</td><td>2</td></tr><tr><td>2152-10-09</td><td>admit</td><td>1</td></tr><tr><td>2152-10-09</td><td>discharge</td><td>1</td></tr><tr><td>2152-10-11</td><td>discharge</td><td>1</td></tr><tr><td>2155-03-08</td><td>admit</td><td>1</td></tr><tr><td>2155-03-10</td><td>transfer</td><td>1</td></tr><tr><td>2155-03-11</td><td>discharge</td><td>1</td></tr><tr><td>2155-12-16</td><td>admit</td><td>1</td></tr><tr><td>2155-12-17</td><td>transfer</td><td>1</td></tr><tr><td>2155-12-24</td><td>discharge</td><td>1</td></tr><tr><td>2159-11-17</td><td>admit</td><td>1</td></tr><tr><td>2159-11-20</td><td>transfer</td><td>1</td></tr><tr><td>2159-11-22</td><td>discharge</td><td>1</td></tr><tr><td>2160-05-04</td><td>admit</td><td>1</td></tr><tr><td>2160-05-04</td><td>transfer</td><td>1</td></tr><tr><td>2160-05-05</td><td>transfer</td><td>1</td></tr><tr><td>2160-05-08</td><td>discharge</td><td>1</td></tr><tr><td>2160-12-16</td><td>admit</td><td>1</td></tr><tr><td>2160-12-17</td><td>transfer</td><td>1</td></tr><tr><td>2160-12-21</td><td>discharge</td><td>1</td></tr><tr><td>2160-12-26</td><td>admit</td><td>1</td></tr><tr><td>2160-12-26</td><td>transfer</td><td>1</td></tr><tr><td>2160-12-27</td><td>discharge</td><td>1</td></tr><tr><td>2160-12-27</td><td>transfer</td><td>1</td></tr><tr><td>2161-01-30</td><td>admit</td><td>1</td></tr><tr><td>2161-02-03</td><td>transfer</td><td>1</td></tr><tr><td>2161-02-04</td><td>transfer</td><td>1</td></tr><tr><td>2161-02-06</td><td>transfer</td><td>2</td></tr><tr><td>2161-02-19</td><td>discharge</td><td>1</td></tr><tr><td>2161-09-14</td><td>admit</td><td>1</td></tr><tr><td>2161-09-14</td><td>transfer</td><td>2</td></tr><tr><td>2161-09-15</td><td>transfer</td><td>1</td></tr><tr><td>2161-09-17</td><td>transfer</td><td>1</td></tr><tr><td>2161-09-19</td><td>discharge</td><td>1</td></tr><tr><td>2162-01-16</td><td>admit</td><td>1</td></tr><tr><td>2162-01-17</td><td>transfer</td><td>1</td></tr><tr><td>2162-01-19</td><td>discharge</td><td>1</td></tr><tr><td>2163-05-14</td><td>admit</td><td>1</td></tr><tr><td>2163-05-16</td><td>discharge</td><td>1</td></tr><tr><td>2163-11-21</td><td>admit</td><td>1</td></tr><tr><td>2163-11-22</td><td>transfer</td><td>1</td></tr><tr><td>2163-11-24</td><td>transfer</td><td>1</td></tr><tr><td>2163-11-25</td><td>transfer</td><td>1</td></tr><tr><td>2163-12-01</td><td>discharge</td><td>1</td></tr><tr><td>2164-10-23</td><td>admit</td><td>1</td></tr><tr><td>2164-10-25</td><td>transfer</td><td>1</td></tr><tr><td>2164-11-01</td><td>discharge</td><td>1</td></tr><tr><td>2165-12-19</td><td>admit</td><td>1</td></tr><tr><td>2165-12-21</td><td>transfer</td><td>1</td></tr><tr><td>2165-12-25</td><td>discharge</td><td>1</td></tr><tr><td>2166-02-12</td><td>admit</td><td>1</td></tr><tr><td>2166-02-13</td><td>transfer</td><td>1</td></tr><tr><td>2166-02-26</td><td>discharge</td><td>1</td></tr><tr><td>2167-02-11</td><td>admit</td><td>1</td></tr><tr><td>2167-02-12</td><td>transfer</td><td>1</td></tr><tr><td>2167-02-18</td><td>transfer</td><td>1</td></tr><tr><td>2167-02-19</td><td>discharge</td><td>1</td></tr><tr><td>2169-05-06</td><td>admit</td><td>1</td></tr><tr><td>2169-05-07</td><td>transfer</td><td>1</td></tr><tr><td>2169-05-08</td><td>transfer</td><td>1</td></tr><tr><td>2169-05-10</td><td>transfer</td><td>1</td></tr><tr><td>2169-05-11</td><td>transfer</td><td>1</td></tr><tr><td>2169-05-12</td><td>discharge</td><td>1</td></tr><tr><td>2170-12-02</td><td>admit</td><td>1</td></tr><tr><td>2170-12-03</td><td>discharge</td><td>1</td></tr><tr><td>2170-12-15</td><td>admit</td><td>1</td></tr><tr><td>2170-12-15</td><td>transfer</td><td>1</td></tr><tr><td>2170-12-19</td><td>transfer</td><td>1</td></tr><tr><td>2170-12-24</td><td>discharge</td><td>1</td></tr><tr><td>2171-07-12</td><td>admit</td><td>1</td></tr><tr><td>2171-07-12</td><td>transfer</td><td>1</td></tr><tr><td>2171-08-17</td><td>discharge</td><td>1</td></tr><tr><td>2171-10-30</td><td>admit</td><td>1</td></tr><tr><td>2171-11-04</td><td>transfer</td><td>1</td></tr><tr><td>2171-11-05</td><td>transfer</td><td>1</td></tr><tr><td>2171-11-06</td><td>discharge</td><td>1</td></tr><tr><td>2173-11-27</td><td>admit</td><td>1</td></tr><tr><td>2173-11-28</td><td>transfer</td><td>1</td></tr><tr><td>2173-11-30</td><td>discharge</td><td>1</td></tr><tr><td>2175-10-02</td><td>admit</td><td>1</td></tr><tr><td>2175-10-02</td><td>transfer</td><td>1</td></tr><tr><td>2175-10-03</td><td>transfer</td><td>1</td></tr><tr><td>2175-10-06</td><td>discharge</td><td>1</td></tr><tr><td>2176-07-14</td><td>admit</td><td>1</td></tr><tr><td>2176-07-16</td><td>transfer</td><td>1</td></tr><tr><td>2176-07-18</td><td>discharge</td><td>1</td></tr><tr><td>2178-05-14</td><td>admit</td><td>1</td></tr><tr><td>2178-05-14</td><td>transfer</td><td>1</td></tr><tr><td>2178-05-15</td><td>discharge</td><td>1</td></tr><tr><td>2179-04-17</td><td>admit</td><td>1</td></tr><tr><td>2179-04-20</td><td>transfer</td><td>1</td></tr><tr><td>2179-04-21</td><td>transfer</td><td>1</td></tr><tr><td>2179-04-23</td><td>discharge</td><td>1</td></tr><tr><td>2180-01-14</td><td>admit</td><td>1</td></tr><tr><td>2180-01-19</td><td>transfer</td><td>1</td></tr><tr><td>2180-01-21</td><td>transfer</td><td>1</td></tr><tr><td>2180-02-01</td><td>discharge</td><td>1</td></tr><tr><td>2180-02-29</td><td>admit</td><td>1</td></tr><tr><td>2180-02-29</td><td>transfer</td><td>1</td></tr><tr><td>2180-03-04</td><td>transfer</td><td>1</td></tr><tr><td>2180-03-10</td><td>discharge</td><td>1</td></tr><tr><td>2180-03-15</td><td>admit</td><td>1</td></tr><tr><td>2180-03-19</td><td>transfer</td><td>2</td></tr><tr><td>2180-03-20</td><td>discharge</td><td>1</td></tr><tr><td>2180-07-19</td><td>admit</td><td>1</td></tr><tr><td>2180-07-20</td><td>discharge</td><td>1</td></tr><tr><td>2184-08-04</td><td>admit</td><td>1</td></tr><tr><td>2184-08-06</td><td>transfer</td><td>2</td></tr><tr><td>2184-08-10</td><td>discharge</td><td>1</td></tr><tr><td>2185-03-24</td><td>admit</td><td>1</td></tr><tr><td>2185-03-26</td><td>discharge</td><td>1</td></tr><tr><td>2185-04-14</td><td>admit</td><td>1</td></tr><tr><td>2185-04-16</td><td>transfer</td><td>1</td></tr><tr><td>2185-04-24</td><td>transfer</td><td>1</td></tr><tr><td>2185-04-26</td><td>discharge</td><td>1</td></tr><tr><td>2186-02-09</td><td>admit</td><td>1</td></tr><tr><td>2186-02-10</td><td>transfer</td><td>3</td></tr><tr><td>2186-02-11</td><td>transfer</td><td>1</td></tr><tr><td>2186-02-12</td><td>discharge</td><td>1</td></tr><tr><td>2186-07-06</td><td>admit</td><td>1</td></tr><tr><td>2186-07-07</td><td>discharge</td><td>1</td></tr><tr><td>2188-02-08</td><td>admit</td><td>1</td></tr><tr><td>2188-02-08</td><td>transfer</td><td>1</td></tr><tr><td>2188-02-09</td><td>transfer</td><td>2</td></tr><tr><td>2188-02-12</td><td>transfer</td><td>1</td></tr><tr><td>2188-02-27</td><td>discharge</td><td>1</td></tr><tr><td>2189-09-08</td><td>admit</td><td>1</td></tr><tr><td>2189-09-08</td><td>transfer</td><td>1</td></tr><tr><td>2189-09-09</td><td>transfer</td><td>1</td></tr><tr><td>2189-09-10</td><td>transfer</td><td>1</td></tr><tr><td>2189-09-20</td><td>discharge</td><td>1</td></tr><tr><td>2190-07-13</td><td>admit</td><td>1</td></tr><tr><td>2190-07-13</td><td>transfer</td><td>1</td></tr><tr><td>2190-07-20</td><td>transfer</td><td>1</td></tr><tr><td>2190-07-25</td><td>discharge</td><td>1</td></tr><tr><td>2192-03-26</td><td>admit</td><td>1</td></tr><tr><td>2192-03-29</td><td>transfer</td><td>1</td></tr><tr><td>2192-04-01</td><td>transfer</td><td>1</td></tr><tr><td>2192-04-05</td><td>discharge</td><td>1</td></tr><tr><td>2192-04-16</td><td>admit</td><td>1</td></tr><tr><td>2192-04-20</td><td>transfer</td><td>1</td></tr><tr><td>2192-04-24</td><td>transfer</td><td>1</td></tr><tr><td>2192-04-26</td><td>transfer</td><td>1</td></tr><tr><td>2192-04-27</td><td>transfer</td><td>1</td></tr><tr><td>2192-04-30</td><td>transfer</td><td>2</td></tr><tr><td>2192-05-15</td><td>discharge</td><td>1</td></tr><tr><td>2192-11-20</td><td>admit</td><td>1</td></tr><tr><td>2192-11-22</td><td>transfer</td><td>1</td></tr><tr><td>2192-11-23</td><td>transfer</td><td>1</td></tr><tr><td>2192-11-24</td><td>transfer</td><td>1</td></tr><tr><td>2192-11-29</td><td>transfer</td><td>1</td></tr><tr><td>2192-12-07</td><td>discharge</td><td>1</td></tr><tr><td>2193-10-15</td><td>admit</td><td>1</td></tr><tr><td>2193-10-15</td><td>transfer</td><td>2</td></tr><tr><td>2193-10-16</td><td>transfer</td><td>1</td></tr><tr><td>2193-10-17</td><td>transfer</td><td>2</td></tr><tr><td>2193-10-20</td><td>discharge</td><td>1</td></tr><tr><td>2194-07-26</td><td>admit</td><td>1</td></tr><tr><td>2194-07-29</td><td>transfer</td><td>1</td></tr><tr><td>2194-07-30</td><td>transfer</td><td>2</td></tr><tr><td>2194-07-31</td><td>transfer</td><td>1</td></tr><tr><td>2194-08-01</td><td>transfer</td><td>1</td></tr><tr><td>2194-08-06</td><td>discharge</td><td>1</td></tr><tr><td>2195-05-17</td><td>admit</td><td>1</td></tr><tr><td>2195-05-19</td><td>transfer</td><td>1</td></tr><tr><td>2195-05-21</td><td>transfer</td><td>1</td></tr><tr><td>2195-05-24</td><td>discharge</td><td>1</td></tr><tr><td>2198-06-28</td><td>admit</td><td>1</td></tr><tr><td>2198-06-29</td><td>admit</td><td>1</td></tr><tr><td>2198-06-29</td><td>transfer</td><td>1</td></tr><tr><td>2198-07-06</td><td>transfer</td><td>1</td></tr><tr><td>2198-07-10</td><td>discharge</td><td>1</td></tr><tr><td>2198-07-20</td><td>discharge</td><td>1</td></tr><tr><td>2198-10-29</td><td>admit</td><td>1</td></tr><tr><td>2198-10-31</td><td>transfer</td><td>1</td></tr><tr><td>2198-11-05</td><td>discharge</td><td>1</td></tr><tr><td>2199-01-13</td><td>admit</td><td>1</td></tr><tr><td>2199-01-16</td><td>discharge</td><td>1</td></tr><tr><td>2199-01-31</td><td>admit</td><td>1</td></tr><tr><td>2199-02-01</td><td>transfer</td><td>2</td></tr><tr><td>2199-02-11</td><td>transfer</td><td>1</td></tr><tr><td>2199-02-14</td><td>discharge</td><td>1</td></tr><tr><td>2200-03-17</td><td>admit</td><td>1</td></tr><tr><td>2200-03-23</td><td>transfer</td><td>4</td></tr><tr><td>2200-03-28</td><td>discharge</td><td>1</td></tr><tr><td>2200-06-09</td><td>admit</td><td>1</td></tr><tr><td>2200-06-11</td><td>transfer</td><td>1</td></tr><tr><td>2200-06-13</td><td>discharge</td><td>1</td></tr><tr><td>2200-10-29</td><td>admit</td><td>1</td></tr><tr><td>2200-11-03</td><td>discharge</td><td>1</td></tr><tr><td>2201-05-12</td><td>admit</td><td>1</td></tr><tr><td>2201-05-12</td><td>transfer</td><td>2</td></tr><tr><td>2201-05-13</td><td>transfer</td><td>1</td></tr><tr><td>2201-05-19</td><td>discharge</td><td>1</td></tr><tr><td>2201-08-10</td><td>admit</td><td>1</td></tr><tr><td>2201-08-11</td><td>transfer</td><td>1</td></tr><tr><td>2201-08-12</td><td>transfer</td><td>1</td></tr><tr><td>2201-08-13</td><td>discharge</td><td>1</td></tr><tr><td>2201-09-28</td><td>admit</td><td>1</td></tr><tr><td>2201-09-28</td><td>transfer</td><td>1</td></tr><tr><td>2201-10-01</td><td>discharge</td><td>1</td></tr><tr><td>2201-11-16</td><td>admit</td><td>1</td></tr><tr><td>2201-11-19</td><td>discharge</td><td>1</td></tr><tr><td>2201-12-31</td><td>admit</td><td>1</td></tr><tr><td>2201-12-31</td><td>transfer</td><td>1</td></tr><tr><td>2202-01-01</td><td>transfer</td><td>1</td></tr><tr><td>2202-01-03</td><td>discharge</td><td>1</td></tr><tr><td>2202-02-15</td><td>admit</td><td>1</td></tr><tr><td>2202-02-15</td><td>transfer</td><td>1</td></tr><tr><td>2202-02-17</td><td>transfer</td><td>2</td></tr><tr><td>2202-02-19</td><td>discharge</td><td>1</td></tr><tr><td>2202-05-01</td><td>admit</td><td>1</td></tr><tr><td>2202-05-02</td><td>transfer</td><td>1</td></tr><tr><td>2202-05-04</td><td>discharge</td><td>1</td></tr><tr><td>2202-09-16</td><td>admit</td><td>1</td></tr><tr><td>2202-09-18</td><td>transfer</td><td>1</td></tr><tr><td>2202-09-23</td><td>discharge</td><td>1</td></tr><tr><td>2202-10-03</td><td>admit</td><td>1</td></tr><tr><td>2202-10-04</td><td>transfer</td><td>1</td></tr><tr><td>2202-10-11</td><td>discharge</td><td>1</td></tr></tbody></table></div>"
      ]
     },
     "metadata": {
      "application/vnd.databricks.v1+output": {
       "addedWidgets": {},
       "aggData": [],
       "aggError": "",
       "aggOverflow": false,
       "aggSchema": [],
       "aggSeriesLimitReached": false,
       "aggType": "",
       "arguments": {},
       "columnCustomDisplayInfos": {},
       "data": [
        [
         "2102-08-29",
         "admit",
         1
        ],
        [
         "2102-08-29",
         "transfer",
         2
        ],
        [
         "2102-08-31",
         "transfer",
         1
        ],
        [
         "2102-09-01",
         "transfer",
         2
        ],
        [
         "2102-09-03",
         "transfer",
         2
        ],
        [
         "2102-09-06",
         "discharge",
         1
        ],
        [
         "2104-09-24",
         "admit",
         1
        ],
        [
         "2104-09-26",
         "transfer",
         1
        ],
        [
         "2104-09-30",
         "discharge",
         1
        ],
        [
         "2104-10-24",
         "admit",
         1
        ],
        [
         "2104-10-25",
         "transfer",
         1
        ],
        [
         "2104-10-28",
         "discharge",
         1
        ],
        [
         "2105-05-29",
         "admit",
         1
        ],
        [
         "2105-05-30",
         "transfer",
         1
        ],
        [
         "2105-06-08",
         "transfer",
         2
        ],
        [
         "2105-06-11",
         "discharge",
         1
        ],
        [
         "2106-08-30",
         "admit",
         1
        ],
        [
         "2106-08-31",
         "discharge",
         1
        ],
        [
         "2107-01-05",
         "admit",
         1
        ],
        [
         "2107-01-08",
         "transfer",
         1
        ],
        [
         "2107-01-11",
         "discharge",
         1
        ],
        [
         "2107-01-16",
         "admit",
         1
        ],
        [
         "2107-01-29",
         "admit",
         1
        ],
        [
         "2107-01-30",
         "transfer",
         1
        ],
        [
         "2107-02-08",
         "transfer",
         1
        ],
        [
         "2107-02-10",
         "discharge",
         2
        ],
        [
         "2107-03-21",
         "admit",
         1
        ],
        [
         "2107-03-21",
         "transfer",
         1
        ],
        [
         "2107-03-22",
         "transfer",
         1
        ],
        [
         "2107-03-24",
         "transfer",
         1
        ],
        [
         "2107-03-31",
         "discharge",
         1
        ],
        [
         "2107-05-12",
         "admit",
         1
        ],
        [
         "2107-05-14",
         "transfer",
         1
        ],
        [
         "2107-05-18",
         "discharge",
         1
        ],
        [
         "2110-12-29",
         "admit",
         1
        ],
        [
         "2111-01-04",
         "transfer",
         1
        ],
        [
         "2111-01-06",
         "transfer",
         3
        ],
        [
         "2111-01-07",
         "transfer",
         1
        ],
        [
         "2111-01-09",
         "transfer",
         1
        ],
        [
         "2111-01-12",
         "transfer",
         1
        ],
        [
         "2111-01-14",
         "discharge",
         1
        ],
        [
         "2112-02-04",
         "admit",
         1
        ],
        [
         "2112-02-09",
         "transfer",
         1
        ],
        [
         "2112-02-12",
         "discharge",
         1
        ],
        [
         "2112-05-04",
         "admit",
         1
        ],
        [
         "2112-05-04",
         "transfer",
         1
        ],
        [
         "2112-05-06",
         "transfer",
         2
        ],
        [
         "2112-05-11",
         "discharge",
         1
        ],
        [
         "2112-05-22",
         "admit",
         1
        ],
        [
         "2112-05-23",
         "transfer",
         3
        ],
        [
         "2112-05-25",
         "discharge",
         1
        ],
        [
         "2112-05-28",
         "admit",
         1
        ],
        [
         "2112-05-29",
         "transfer",
         1
        ],
        [
         "2112-06-01",
         "transfer",
         2
        ],
        [
         "2112-06-07",
         "discharge",
         1
        ],
        [
         "2115-05-12",
         "admit",
         1
        ],
        [
         "2115-05-13",
         "transfer",
         2
        ],
        [
         "2115-05-15",
         "discharge",
         1
        ],
        [
         "2117-03-21",
         "admit",
         1
        ],
        [
         "2117-03-21",
         "transfer",
         1
        ],
        [
         "2117-03-22",
         "transfer",
         2
        ],
        [
         "2117-03-23",
         "transfer",
         2
        ],
        [
         "2117-03-28",
         "transfer",
         1
        ],
        [
         "2117-03-31",
         "discharge",
         1
        ],
        [
         "2117-08-05",
         "admit",
         1
        ],
        [
         "2117-08-05",
         "transfer",
         1
        ],
        [
         "2117-08-13",
         "transfer",
         1
        ],
        [
         "2117-08-15",
         "transfer",
         2
        ],
        [
         "2117-08-19",
         "discharge",
         1
        ],
        [
         "2117-08-21",
         "admit",
         1
        ],
        [
         "2117-08-21",
         "transfer",
         1
        ],
        [
         "2117-08-23",
         "transfer",
         3
        ],
        [
         "2117-08-26",
         "discharge",
         1
        ],
        [
         "2118-10-06",
         "admit",
         1
        ],
        [
         "2118-10-08",
         "transfer",
         1
        ],
        [
         "2118-10-09",
         "discharge",
         1
        ],
        [
         "2119-10-17",
         "admit",
         1
        ],
        [
         "2119-10-21",
         "transfer",
         1
        ],
        [
         "2119-10-30",
         "transfer",
         2
        ],
        [
         "2119-11-14",
         "discharge",
         1
        ],
        [
         "2120-08-24",
         "admit",
         1
        ],
        [
         "2120-08-24",
         "transfer",
         1
        ],
        [
         "2120-08-25",
         "transfer",
         2
        ],
        [
         "2120-08-31",
         "discharge",
         1
        ],
        [
         "2121-12-07",
         "admit",
         1
        ],
        [
         "2121-12-09",
         "transfer",
         1
        ],
        [
         "2121-12-11",
         "transfer",
         1
        ],
        [
         "2121-12-12",
         "discharge",
         1
        ],
        [
         "2123-08-23",
         "admit",
         1
        ],
        [
         "2123-08-24",
         "transfer",
         1
        ],
        [
         "2123-09-17",
         "discharge",
         1
        ],
        [
         "2123-11-24",
         "admit",
         1
        ],
        [
         "2123-12-25",
         "transfer",
         1
        ],
        [
         "2123-12-30",
         "discharge",
         1
        ],
        [
         "2124-01-12",
         "admit",
         1
        ],
        [
         "2124-01-13",
         "transfer",
         1
        ],
        [
         "2124-01-14",
         "discharge",
         1
        ],
        [
         "2125-10-04",
         "admit",
         1
        ],
        [
         "2125-10-07",
         "discharge",
         1
        ],
        [
         "2126-08-14",
         "admit",
         1
        ],
        [
         "2126-08-28",
         "discharge",
         1
        ],
        [
         "2127-03-19",
         "admit",
         1
        ],
        [
         "2127-03-19",
         "discharge",
         1
        ],
        [
         "2127-07-23",
         "admit",
         1
        ],
        [
         "2127-07-23",
         "transfer",
         1
        ],
        [
         "2127-07-29",
         "transfer",
         1
        ],
        [
         "2127-07-30",
         "transfer",
         3
        ],
        [
         "2127-08-01",
         "transfer",
         1
        ],
        [
         "2127-08-04",
         "discharge",
         1
        ],
        [
         "2127-10-06",
         "admit",
         1
        ],
        [
         "2127-10-28",
         "discharge",
         1
        ],
        [
         "2128-03-22",
         "admit",
         1
        ],
        [
         "2128-03-23",
         "transfer",
         1
        ],
        [
         "2128-03-24",
         "discharge",
         1
        ],
        [
         "2128-11-04",
         "admit",
         1
        ],
        [
         "2128-11-05",
         "transfer",
         1
        ],
        [
         "2128-11-06",
         "transfer",
         1
        ],
        [
         "2128-11-08",
         "transfer",
         1
        ],
        [
         "2128-11-10",
         "discharge",
         1
        ],
        [
         "2129-03-03",
         "admit",
         1
        ],
        [
         "2129-03-04",
         "transfer",
         2
        ],
        [
         "2129-03-05",
         "transfer",
         1
        ],
        [
         "2129-03-07",
         "discharge",
         1
        ],
        [
         "2129-05-02",
         "admit",
         1
        ],
        [
         "2129-05-03",
         "transfer",
         1
        ],
        [
         "2129-05-06",
         "discharge",
         1
        ],
        [
         "2129-11-24",
         "admit",
         1
        ],
        [
         "2129-11-24",
         "transfer",
         1
        ],
        [
         "2129-11-25",
         "transfer",
         1
        ],
        [
         "2129-12-01",
         "discharge",
         1
        ],
        [
         "2130-02-04",
         "admit",
         1
        ],
        [
         "2130-02-06",
         "transfer",
         1
        ],
        [
         "2130-02-08",
         "transfer",
         2
        ],
        [
         "2130-02-10",
         "discharge",
         1
        ],
        [
         "2130-08-12",
         "admit",
         1
        ],
        [
         "2130-08-12",
         "transfer",
         1
        ],
        [
         "2130-08-15",
         "transfer",
         1
        ],
        [
         "2130-08-18",
         "discharge",
         1
        ],
        [
         "2130-10-06",
         "admit",
         1
        ],
        [
         "2130-10-06",
         "discharge",
         1
        ],
        [
         "2131-07-26",
         "admit",
         1
        ],
        [
         "2131-07-27",
         "transfer",
         1
        ],
        [
         "2131-07-28",
         "discharge",
         1
        ],
        [
         "2131-07-28",
         "transfer",
         1
        ],
        [
         "2132-08-05",
         "admit",
         1
        ],
        [
         "2132-08-08",
         "discharge",
         1
        ],
        [
         "2132-12-05",
         "admit",
         1
        ],
        [
         "2132-12-05",
         "transfer",
         2
        ],
        [
         "2132-12-06",
         "transfer",
         1
        ],
        [
         "2132-12-08",
         "discharge",
         1
        ],
        [
         "2135-10-24",
         "admit",
         1
        ],
        [
         "2135-10-24",
         "transfer",
         2
        ],
        [
         "2135-10-25",
         "transfer",
         1
        ],
        [
         "2135-10-27",
         "discharge",
         1
        ],
        [
         "2138-04-02",
         "admit",
         1
        ],
        [
         "2138-04-07",
         "transfer",
         2
        ],
        [
         "2138-04-08",
         "transfer",
         1
        ],
        [
         "2138-04-11",
         "transfer",
         1
        ],
        [
         "2138-04-15",
         "discharge",
         1
        ],
        [
         "2138-06-05",
         "admit",
         1
        ],
        [
         "2138-06-05",
         "transfer",
         2
        ],
        [
         "2138-06-07",
         "transfer",
         1
        ],
        [
         "2138-06-09",
         "transfer",
         1
        ],
        [
         "2138-06-11",
         "discharge",
         1
        ],
        [
         "2138-11-09",
         "admit",
         1
        ],
        [
         "2138-11-09",
         "transfer",
         2
        ],
        [
         "2138-11-10",
         "transfer",
         1
        ],
        [
         "2138-11-12",
         "transfer",
         2
        ],
        [
         "2138-11-14",
         "transfer",
         1
        ],
        [
         "2138-11-17",
         "transfer",
         1
        ],
        [
         "2138-11-18",
         "discharge",
         1
        ],
        [
         "2139-09-22",
         "admit",
         1
        ],
        [
         "2139-09-23",
         "transfer",
         1
        ],
        [
         "2139-09-25",
         "transfer",
         1
        ],
        [
         "2139-10-02",
         "discharge",
         1
        ],
        [
         "2141-01-25",
         "admit",
         1
        ],
        [
         "2141-01-26",
         "discharge",
         1
        ],
        [
         "2142-11-26",
         "admit",
         1
        ],
        [
         "2142-11-29",
         "transfer",
         1
        ],
        [
         "2142-11-30",
         "discharge",
         1
        ],
        [
         "2144-02-09",
         "admit",
         1
        ],
        [
         "2144-02-09",
         "transfer",
         1
        ],
        [
         "2144-02-11",
         "transfer",
         1
        ],
        [
         "2144-02-14",
         "transfer",
         1
        ],
        [
         "2144-02-21",
         "discharge",
         1
        ],
        [
         "2144-07-11",
         "admit",
         1
        ],
        [
         "2144-07-13",
         "transfer",
         2
        ],
        [
         "2144-07-14",
         "transfer",
         1
        ],
        [
         "2144-07-18",
         "admit",
         1
        ],
        [
         "2144-07-18",
         "transfer",
         1
        ],
        [
         "2144-07-19",
         "transfer",
         1
        ],
        [
         "2144-07-28",
         "discharge",
         1
        ],
        [
         "2144-08-01",
         "transfer",
         1
        ],
        [
         "2144-09-14",
         "transfer",
         1
        ],
        [
         "2144-10-15",
         "admit",
         1
        ],
        [
         "2144-10-24",
         "discharge",
         1
        ],
        [
         "2144-11-12",
         "discharge",
         1
        ],
        [
         "2144-12-24",
         "admit",
         1
        ],
        [
         "2144-12-31",
         "discharge",
         1
        ],
        [
         "2145-07-07",
         "admit",
         1
        ],
        [
         "2145-07-09",
         "transfer",
         1
        ],
        [
         "2145-07-10",
         "transfer",
         1
        ],
        [
         "2145-07-17",
         "transfer",
         1
        ],
        [
         "2145-07-20",
         "discharge",
         1
        ],
        [
         "2145-09-06",
         "admit",
         1
        ],
        [
         "2145-09-07",
         "transfer",
         1
        ],
        [
         "2145-09-09",
         "discharge",
         1
        ],
        [
         "2145-12-01",
         "admit",
         1
        ],
        [
         "2145-12-02",
         "transfer",
         1
        ],
        [
         "2145-12-14",
         "transfer",
         1
        ],
        [
         "2145-12-18",
         "discharge",
         1
        ],
        [
         "2146-07-21",
         "admit",
         1
        ],
        [
         "2146-07-22",
         "discharge",
         1
        ],
        [
         "2147-02-06",
         "admit",
         1
        ],
        [
         "2147-02-14",
         "transfer",
         1
        ],
        [
         "2147-02-15",
         "transfer",
         4
        ],
        [
         "2147-02-17",
         "discharge",
         1
        ],
        [
         "2147-02-23",
         "admit",
         1
        ],
        [
         "2147-02-25",
         "transfer",
         1
        ],
        [
         "2147-02-27",
         "discharge",
         1
        ],
        [
         "2147-10-03",
         "admit",
         1
        ],
        [
         "2147-11-01",
         "transfer",
         1
        ],
        [
         "2147-11-04",
         "discharge",
         1
        ],
        [
         "2148-01-13",
         "admit",
         1
        ],
        [
         "2148-01-13",
         "transfer",
         1
        ],
        [
         "2148-01-19",
         "discharge",
         1
        ],
        [
         "2149-05-26",
         "admit",
         1
        ],
        [
         "2149-05-26",
         "transfer",
         2
        ],
        [
         "2149-05-29",
         "transfer",
         1
        ],
        [
         "2149-05-31",
         "transfer",
         1
        ],
        [
         "2149-06-03",
         "discharge",
         1
        ],
        [
         "2150-08-07",
         "admit",
         1
        ],
        [
         "2150-08-09",
         "transfer",
         3
        ],
        [
         "2150-08-13",
         "discharge",
         1
        ],
        [
         "2150-08-22",
         "admit",
         1
        ],
        [
         "2150-08-29",
         "discharge",
         1
        ],
        [
         "2151-08-13",
         "admit",
         1
        ],
        [
         "2151-08-13",
         "transfer",
         2
        ],
        [
         "2151-08-14",
         "transfer",
         1
        ],
        [
         "2151-08-17",
         "discharge",
         1
        ],
        [
         "2151-09-12",
         "admit",
         1
        ],
        [
         "2151-09-12",
         "transfer",
         3
        ],
        [
         "2151-09-14",
         "transfer",
         1
        ],
        [
         "2151-09-15",
         "discharge",
         1
        ],
        [
         "2152-10-02",
         "admit",
         1
        ],
        [
         "2152-10-03",
         "transfer",
         2
        ],
        [
         "2152-10-07",
         "transfer",
         2
        ],
        [
         "2152-10-09",
         "admit",
         1
        ],
        [
         "2152-10-09",
         "discharge",
         1
        ],
        [
         "2152-10-11",
         "discharge",
         1
        ],
        [
         "2155-03-08",
         "admit",
         1
        ],
        [
         "2155-03-10",
         "transfer",
         1
        ],
        [
         "2155-03-11",
         "discharge",
         1
        ],
        [
         "2155-12-16",
         "admit",
         1
        ],
        [
         "2155-12-17",
         "transfer",
         1
        ],
        [
         "2155-12-24",
         "discharge",
         1
        ],
        [
         "2159-11-17",
         "admit",
         1
        ],
        [
         "2159-11-20",
         "transfer",
         1
        ],
        [
         "2159-11-22",
         "discharge",
         1
        ],
        [
         "2160-05-04",
         "admit",
         1
        ],
        [
         "2160-05-04",
         "transfer",
         1
        ],
        [
         "2160-05-05",
         "transfer",
         1
        ],
        [
         "2160-05-08",
         "discharge",
         1
        ],
        [
         "2160-12-16",
         "admit",
         1
        ],
        [
         "2160-12-17",
         "transfer",
         1
        ],
        [
         "2160-12-21",
         "discharge",
         1
        ],
        [
         "2160-12-26",
         "admit",
         1
        ],
        [
         "2160-12-26",
         "transfer",
         1
        ],
        [
         "2160-12-27",
         "discharge",
         1
        ],
        [
         "2160-12-27",
         "transfer",
         1
        ],
        [
         "2161-01-30",
         "admit",
         1
        ],
        [
         "2161-02-03",
         "transfer",
         1
        ],
        [
         "2161-02-04",
         "transfer",
         1
        ],
        [
         "2161-02-06",
         "transfer",
         2
        ],
        [
         "2161-02-19",
         "discharge",
         1
        ],
        [
         "2161-09-14",
         "admit",
         1
        ],
        [
         "2161-09-14",
         "transfer",
         2
        ],
        [
         "2161-09-15",
         "transfer",
         1
        ],
        [
         "2161-09-17",
         "transfer",
         1
        ],
        [
         "2161-09-19",
         "discharge",
         1
        ],
        [
         "2162-01-16",
         "admit",
         1
        ],
        [
         "2162-01-17",
         "transfer",
         1
        ],
        [
         "2162-01-19",
         "discharge",
         1
        ],
        [
         "2163-05-14",
         "admit",
         1
        ],
        [
         "2163-05-16",
         "discharge",
         1
        ],
        [
         "2163-11-21",
         "admit",
         1
        ],
        [
         "2163-11-22",
         "transfer",
         1
        ],
        [
         "2163-11-24",
         "transfer",
         1
        ],
        [
         "2163-11-25",
         "transfer",
         1
        ],
        [
         "2163-12-01",
         "discharge",
         1
        ],
        [
         "2164-10-23",
         "admit",
         1
        ],
        [
         "2164-10-25",
         "transfer",
         1
        ],
        [
         "2164-11-01",
         "discharge",
         1
        ],
        [
         "2165-12-19",
         "admit",
         1
        ],
        [
         "2165-12-21",
         "transfer",
         1
        ],
        [
         "2165-12-25",
         "discharge",
         1
        ],
        [
         "2166-02-12",
         "admit",
         1
        ],
        [
         "2166-02-13",
         "transfer",
         1
        ],
        [
         "2166-02-26",
         "discharge",
         1
        ],
        [
         "2167-02-11",
         "admit",
         1
        ],
        [
         "2167-02-12",
         "transfer",
         1
        ],
        [
         "2167-02-18",
         "transfer",
         1
        ],
        [
         "2167-02-19",
         "discharge",
         1
        ],
        [
         "2169-05-06",
         "admit",
         1
        ],
        [
         "2169-05-07",
         "transfer",
         1
        ],
        [
         "2169-05-08",
         "transfer",
         1
        ],
        [
         "2169-05-10",
         "transfer",
         1
        ],
        [
         "2169-05-11",
         "transfer",
         1
        ],
        [
         "2169-05-12",
         "discharge",
         1
        ],
        [
         "2170-12-02",
         "admit",
         1
        ],
        [
         "2170-12-03",
         "discharge",
         1
        ],
        [
         "2170-12-15",
         "admit",
         1
        ],
        [
         "2170-12-15",
         "transfer",
         1
        ],
        [
         "2170-12-19",
         "transfer",
         1
        ],
        [
         "2170-12-24",
         "discharge",
         1
        ],
        [
         "2171-07-12",
         "admit",
         1
        ],
        [
         "2171-07-12",
         "transfer",
         1
        ],
        [
         "2171-08-17",
         "discharge",
         1
        ],
        [
         "2171-10-30",
         "admit",
         1
        ],
        [
         "2171-11-04",
         "transfer",
         1
        ],
        [
         "2171-11-05",
         "transfer",
         1
        ],
        [
         "2171-11-06",
         "discharge",
         1
        ],
        [
         "2173-11-27",
         "admit",
         1
        ],
        [
         "2173-11-28",
         "transfer",
         1
        ],
        [
         "2173-11-30",
         "discharge",
         1
        ],
        [
         "2175-10-02",
         "admit",
         1
        ],
        [
         "2175-10-02",
         "transfer",
         1
        ],
        [
         "2175-10-03",
         "transfer",
         1
        ],
        [
         "2175-10-06",
         "discharge",
         1
        ],
        [
         "2176-07-14",
         "admit",
         1
        ],
        [
         "2176-07-16",
         "transfer",
         1
        ],
        [
         "2176-07-18",
         "discharge",
         1
        ],
        [
         "2178-05-14",
         "admit",
         1
        ],
        [
         "2178-05-14",
         "transfer",
         1
        ],
        [
         "2178-05-15",
         "discharge",
         1
        ],
        [
         "2179-04-17",
         "admit",
         1
        ],
        [
         "2179-04-20",
         "transfer",
         1
        ],
        [
         "2179-04-21",
         "transfer",
         1
        ],
        [
         "2179-04-23",
         "discharge",
         1
        ],
        [
         "2180-01-14",
         "admit",
         1
        ],
        [
         "2180-01-19",
         "transfer",
         1
        ],
        [
         "2180-01-21",
         "transfer",
         1
        ],
        [
         "2180-02-01",
         "discharge",
         1
        ],
        [
         "2180-02-29",
         "admit",
         1
        ],
        [
         "2180-02-29",
         "transfer",
         1
        ],
        [
         "2180-03-04",
         "transfer",
         1
        ],
        [
         "2180-03-10",
         "discharge",
         1
        ],
        [
         "2180-03-15",
         "admit",
         1
        ],
        [
         "2180-03-19",
         "transfer",
         2
        ],
        [
         "2180-03-20",
         "discharge",
         1
        ],
        [
         "2180-07-19",
         "admit",
         1
        ],
        [
         "2180-07-20",
         "discharge",
         1
        ],
        [
         "2184-08-04",
         "admit",
         1
        ],
        [
         "2184-08-06",
         "transfer",
         2
        ],
        [
         "2184-08-10",
         "discharge",
         1
        ],
        [
         "2185-03-24",
         "admit",
         1
        ],
        [
         "2185-03-26",
         "discharge",
         1
        ],
        [
         "2185-04-14",
         "admit",
         1
        ],
        [
         "2185-04-16",
         "transfer",
         1
        ],
        [
         "2185-04-24",
         "transfer",
         1
        ],
        [
         "2185-04-26",
         "discharge",
         1
        ],
        [
         "2186-02-09",
         "admit",
         1
        ],
        [
         "2186-02-10",
         "transfer",
         3
        ],
        [
         "2186-02-11",
         "transfer",
         1
        ],
        [
         "2186-02-12",
         "discharge",
         1
        ],
        [
         "2186-07-06",
         "admit",
         1
        ],
        [
         "2186-07-07",
         "discharge",
         1
        ],
        [
         "2188-02-08",
         "admit",
         1
        ],
        [
         "2188-02-08",
         "transfer",
         1
        ],
        [
         "2188-02-09",
         "transfer",
         2
        ],
        [
         "2188-02-12",
         "transfer",
         1
        ],
        [
         "2188-02-27",
         "discharge",
         1
        ],
        [
         "2189-09-08",
         "admit",
         1
        ],
        [
         "2189-09-08",
         "transfer",
         1
        ],
        [
         "2189-09-09",
         "transfer",
         1
        ],
        [
         "2189-09-10",
         "transfer",
         1
        ],
        [
         "2189-09-20",
         "discharge",
         1
        ],
        [
         "2190-07-13",
         "admit",
         1
        ],
        [
         "2190-07-13",
         "transfer",
         1
        ],
        [
         "2190-07-20",
         "transfer",
         1
        ],
        [
         "2190-07-25",
         "discharge",
         1
        ],
        [
         "2192-03-26",
         "admit",
         1
        ],
        [
         "2192-03-29",
         "transfer",
         1
        ],
        [
         "2192-04-01",
         "transfer",
         1
        ],
        [
         "2192-04-05",
         "discharge",
         1
        ],
        [
         "2192-04-16",
         "admit",
         1
        ],
        [
         "2192-04-20",
         "transfer",
         1
        ],
        [
         "2192-04-24",
         "transfer",
         1
        ],
        [
         "2192-04-26",
         "transfer",
         1
        ],
        [
         "2192-04-27",
         "transfer",
         1
        ],
        [
         "2192-04-30",
         "transfer",
         2
        ],
        [
         "2192-05-15",
         "discharge",
         1
        ],
        [
         "2192-11-20",
         "admit",
         1
        ],
        [
         "2192-11-22",
         "transfer",
         1
        ],
        [
         "2192-11-23",
         "transfer",
         1
        ],
        [
         "2192-11-24",
         "transfer",
         1
        ],
        [
         "2192-11-29",
         "transfer",
         1
        ],
        [
         "2192-12-07",
         "discharge",
         1
        ],
        [
         "2193-10-15",
         "admit",
         1
        ],
        [
         "2193-10-15",
         "transfer",
         2
        ],
        [
         "2193-10-16",
         "transfer",
         1
        ],
        [
         "2193-10-17",
         "transfer",
         2
        ],
        [
         "2193-10-20",
         "discharge",
         1
        ],
        [
         "2194-07-26",
         "admit",
         1
        ],
        [
         "2194-07-29",
         "transfer",
         1
        ],
        [
         "2194-07-30",
         "transfer",
         2
        ],
        [
         "2194-07-31",
         "transfer",
         1
        ],
        [
         "2194-08-01",
         "transfer",
         1
        ],
        [
         "2194-08-06",
         "discharge",
         1
        ],
        [
         "2195-05-17",
         "admit",
         1
        ],
        [
         "2195-05-19",
         "transfer",
         1
        ],
        [
         "2195-05-21",
         "transfer",
         1
        ],
        [
         "2195-05-24",
         "discharge",
         1
        ],
        [
         "2198-06-28",
         "admit",
         1
        ],
        [
         "2198-06-29",
         "admit",
         1
        ],
        [
         "2198-06-29",
         "transfer",
         1
        ],
        [
         "2198-07-06",
         "transfer",
         1
        ],
        [
         "2198-07-10",
         "discharge",
         1
        ],
        [
         "2198-07-20",
         "discharge",
         1
        ],
        [
         "2198-10-29",
         "admit",
         1
        ],
        [
         "2198-10-31",
         "transfer",
         1
        ],
        [
         "2198-11-05",
         "discharge",
         1
        ],
        [
         "2199-01-13",
         "admit",
         1
        ],
        [
         "2199-01-16",
         "discharge",
         1
        ],
        [
         "2199-01-31",
         "admit",
         1
        ],
        [
         "2199-02-01",
         "transfer",
         2
        ],
        [
         "2199-02-11",
         "transfer",
         1
        ],
        [
         "2199-02-14",
         "discharge",
         1
        ],
        [
         "2200-03-17",
         "admit",
         1
        ],
        [
         "2200-03-23",
         "transfer",
         4
        ],
        [
         "2200-03-28",
         "discharge",
         1
        ],
        [
         "2200-06-09",
         "admit",
         1
        ],
        [
         "2200-06-11",
         "transfer",
         1
        ],
        [
         "2200-06-13",
         "discharge",
         1
        ],
        [
         "2200-10-29",
         "admit",
         1
        ],
        [
         "2200-11-03",
         "discharge",
         1
        ],
        [
         "2201-05-12",
         "admit",
         1
        ],
        [
         "2201-05-12",
         "transfer",
         2
        ],
        [
         "2201-05-13",
         "transfer",
         1
        ],
        [
         "2201-05-19",
         "discharge",
         1
        ],
        [
         "2201-08-10",
         "admit",
         1
        ],
        [
         "2201-08-11",
         "transfer",
         1
        ],
        [
         "2201-08-12",
         "transfer",
         1
        ],
        [
         "2201-08-13",
         "discharge",
         1
        ],
        [
         "2201-09-28",
         "admit",
         1
        ],
        [
         "2201-09-28",
         "transfer",
         1
        ],
        [
         "2201-10-01",
         "discharge",
         1
        ],
        [
         "2201-11-16",
         "admit",
         1
        ],
        [
         "2201-11-19",
         "discharge",
         1
        ],
        [
         "2201-12-31",
         "admit",
         1
        ],
        [
         "2201-12-31",
         "transfer",
         1
        ],
        [
         "2202-01-01",
         "transfer",
         1
        ],
        [
         "2202-01-03",
         "discharge",
         1
        ],
        [
         "2202-02-15",
         "admit",
         1
        ],
        [
         "2202-02-15",
         "transfer",
         1
        ],
        [
         "2202-02-17",
         "transfer",
         2
        ],
        [
         "2202-02-19",
         "discharge",
         1
        ],
        [
         "2202-05-01",
         "admit",
         1
        ],
        [
         "2202-05-02",
         "transfer",
         1
        ],
        [
         "2202-05-04",
         "discharge",
         1
        ],
        [
         "2202-09-16",
         "admit",
         1
        ],
        [
         "2202-09-18",
         "transfer",
         1
        ],
        [
         "2202-09-23",
         "discharge",
         1
        ],
        [
         "2202-10-03",
         "admit",
         1
        ],
        [
         "2202-10-04",
         "transfer",
         1
        ],
        [
         "2202-10-11",
         "discharge",
         1
        ]
       ],
       "datasetInfos": [],
       "dbfsResultPath": null,
       "isJsonSchema": true,
       "metadata": {
        "dataframeName": "_sqldf",
        "executionCount": 15
       },
       "overflow": false,
       "plotOptions": {
        "customPlotOptions": {},
        "displayType": "table",
        "pivotAggregation": null,
        "pivotColumns": null,
        "xColumns": null,
        "yColumns": null
       },
       "removedWidgets": [],
       "schema": [
        {
         "metadata": "{}",
         "name": "transfer_date",
         "type": "\"date\""
        },
        {
         "metadata": "{}",
         "name": "eventtype",
         "type": "\"string\""
        },
        {
         "metadata": "{}",
         "name": "daily_count",
         "type": "\"long\""
        }
       ],
       "type": "table"
      }
     },
     "output_type": "display_data"
    },
    {
     "output_type": "display_data",
     "data": {
      "text/plain": [
       "Databricks visualization. Run in Databricks to view."
      ]
     },
     "metadata": {
      "application/vnd.databricks.v1.subcommand+json": {
       "baseErrorDetails": null,
       "bindings": {},
       "collapsed": false,
       "command": "%sql WITH q AS (SELECT \n    DATE(intime) as transfer_date,\n    eventtype,\n    COUNT(*) as daily_count\nFROM mimicdata_2567611159492892.mimic.transfers\nWHERE intime IS NOT NULL\nGROUP BY DATE(intime), eventtype\nORDER BY transfer_date, eventtype) SELECT `eventtype`,`eventtype`,SUM(`daily_count`) `column_29df5220234` FROM q GROUP BY `eventtype`",
       "commandTitle": "Visualization 1",
       "commandType": "auto",
       "commandVersion": 0,
       "commentThread": [],
       "commentsVisible": false,
       "contentSha256Hex": null,
       "customPlotOptions": {
        "redashChart": [
         {
          "key": "type",
          "value": "CHART"
         },
         {
          "key": "options",
          "value": {
           "alignYAxesAtZero": true,
           "coefficient": 1,
           "columnConfigurationMap": {
            "series": {
             "column": "eventtype",
             "id": "column_29df5220233"
            },
            "x": {
             "column": "eventtype",
             "id": "column_29df5220237"
            },
            "y": [
             {
              "column": "daily_count",
              "id": "column_29df5220234",
              "transform": "SUM"
             }
            ]
           },
           "dateTimeFormat": "DD/MM/YYYY HH:mm",
           "direction": {
            "type": "counterclockwise"
           },
           "error_y": {
            "type": "data",
            "visible": true
           },
           "globalSeriesType": "column",
           "isAggregationOn": true,
           "legend": {
            "traceorder": "normal"
           },
           "missingValuesAsZero": true,
           "numberFormat": "0,0.[00000]",
           "percentFormat": "0[.]00%",
           "series": {
            "error_y": {
             "type": "data",
             "visible": true
            },
            "stacking": null
           },
           "seriesOptions": {
            "column_29df5220234": {
             "name": "daily_count",
             "type": "column",
             "yAxis": 0
            }
           },
           "showDataLabels": false,
           "sizemode": "diameter",
           "sortX": true,
           "sortY": true,
           "swappedAxes": false,
           "textFormat": "",
           "useAggregationsUi": true,
           "valuesOptions": {},
           "version": 2,
           "xAxis": {
            "labels": {
             "enabled": true
            },
            "type": "-"
           },
           "yAxis": [
            {
             "type": "-"
            },
            {
             "opposite": true,
             "type": "-"
            }
           ]
          }
         }
        ]
       },
       "datasetPreviewNameToCmdIdMap": {},
       "diffDeletes": [],
       "diffInserts": [],
       "displayType": "redashChart",
       "error": null,
       "errorDetails": null,
       "errorSummary": null,
       "errorTraceType": null,
       "finishTime": 0,
       "globalVars": {},
       "guid": "",
       "height": "auto",
       "hideCommandCode": false,
       "hideCommandResult": false,
       "iPythonMetadata": null,
       "inputWidgets": {},
       "isLockedInExamMode": false,
       "latestUser": "a user",
       "latestUserId": null,
       "listResultMetadata": null,
       "metadata": {},
       "nuid": "26ded1ab-fff3-4576-a454-cc2372dc6309",
       "origId": 0,
       "parentHierarchy": [],
       "pivotAggregation": null,
       "pivotColumns": null,
       "position": 11.0,
       "resultDbfsErrorMessage": null,
       "resultDbfsStatus": "INLINED_IN_TREE",
       "results": null,
       "showCommandTitle": false,
       "startTime": 0,
       "state": "input",
       "streamStates": {},
       "subcommandOptions": {
        "queryPlan": {
         "groups": [
          {
           "column": "eventtype",
           "type": "column"
          },
          {
           "column": "eventtype",
           "type": "column"
          }
         ],
         "selects": [
          {
           "column": "eventtype",
           "type": "column"
          },
          {
           "column": "eventtype",
           "type": "column"
          },
          {
           "alias": "column_29df5220234",
           "args": [
            {
             "column": "daily_count",
             "type": "column"
            }
           ],
           "function": "SUM",
           "type": "function"
          }
         ]
        }
       },
       "submitTime": 0,
       "subtype": "tableResultSubCmd.visualization",
       "tableResultIndex": 0,
       "tableResultSettingsMap": {},
       "useConsistentColors": false,
       "version": "CommandV1",
       "width": "auto",
       "workflows": [],
       "xColumns": null,
       "yColumns": null
      }
     },
     "output_type": "display_data"
    },
    {
     "output_type": "display_data",
     "data": {
      "text/plain": [
       "Databricks visualization. Run in Databricks to view."
      ]
     },
     "metadata": {
      "application/vnd.databricks.v1.subcommand+json": {
       "baseErrorDetails": null,
       "bindings": {},
       "collapsed": false,
       "command": "%sql WITH q AS (SELECT \n    DATE(intime) as transfer_date,\n    eventtype,\n    COUNT(*) as daily_count\nFROM mimicdata_2567611159492892.mimic.transfers\nWHERE intime IS NOT NULL\nGROUP BY DATE(intime), eventtype\nORDER BY transfer_date, eventtype) SELECT `transfer_date`,`eventtype`,SUM(`daily_count`) `column_29df5220240` FROM q GROUP BY `eventtype`,`transfer_date`",
       "commandTitle": "Visualization 2",
       "commandType": "auto",
       "commandVersion": 0,
       "commentThread": [],
       "commentsVisible": false,
       "contentSha256Hex": null,
       "customPlotOptions": {
        "redashChart": [
         {
          "key": "type",
          "value": "CHART"
         },
         {
          "key": "options",
          "value": {
           "alignYAxesAtZero": true,
           "coefficient": 1,
           "columnConfigurationMap": {
            "series": {
             "column": "eventtype",
             "id": "column_29df5220239"
            },
            "x": {
             "column": "transfer_date",
             "id": "column_29df5220238"
            },
            "y": [
             {
              "column": "daily_count",
              "id": "column_29df5220240",
              "transform": "SUM"
             }
            ]
           },
           "dateTimeFormat": "DD/MM/YYYY HH:mm",
           "direction": {
            "type": "counterclockwise"
           },
           "error_y": {
            "type": "data",
            "visible": true
           },
           "globalSeriesType": "column",
           "legend": {
            "traceorder": "normal"
           },
           "missingValuesAsZero": true,
           "numberFormat": "0,0.[00000]",
           "percentFormat": "0[.]00%",
           "series": {
            "error_y": {
             "type": "data",
             "visible": true
            },
            "stacking": null
           },
           "seriesOptions": {
            "column_29df5220240": {
             "name": "daily_count",
             "type": "column",
             "yAxis": 0
            }
           },
           "showDataLabels": false,
           "sizemode": "diameter",
           "sortX": true,
           "sortY": true,
           "swappedAxes": false,
           "textFormat": "",
           "useAggregationsUi": true,
           "valuesOptions": {},
           "version": 2,
           "xAxis": {
            "labels": {
             "enabled": true
            },
            "type": "-"
           },
           "yAxis": [
            {
             "type": "-"
            },
            {
             "opposite": true,
             "type": "-"
            }
           ]
          }
         }
        ]
       },
       "datasetPreviewNameToCmdIdMap": {},
       "diffDeletes": [],
       "diffInserts": [],
       "displayType": "redashChart",
       "error": null,
       "errorDetails": null,
       "errorSummary": null,
       "errorTraceType": null,
       "finishTime": 0,
       "globalVars": {},
       "guid": "",
       "height": "auto",
       "hideCommandCode": false,
       "hideCommandResult": false,
       "iPythonMetadata": null,
       "inputWidgets": {},
       "isLockedInExamMode": false,
       "latestUser": "a user",
       "latestUserId": null,
       "listResultMetadata": null,
       "metadata": {},
       "nuid": "7b0a70b1-de1f-4d56-9703-19da2cddde63",
       "origId": 0,
       "parentHierarchy": [],
       "pivotAggregation": null,
       "pivotColumns": null,
       "position": 12.0,
       "resultDbfsErrorMessage": null,
       "resultDbfsStatus": "INLINED_IN_TREE",
       "results": null,
       "showCommandTitle": false,
       "startTime": 0,
       "state": "input",
       "streamStates": {},
       "subcommandOptions": {
        "queryPlan": {
         "groups": [
          {
           "column": "transfer_date",
           "type": "column"
          },
          {
           "column": "eventtype",
           "type": "column"
          }
         ],
         "selects": [
          {
           "column": "transfer_date",
           "type": "column"
          },
          {
           "column": "eventtype",
           "type": "column"
          },
          {
           "alias": "column_29df5220240",
           "args": [
            {
             "column": "daily_count",
             "type": "column"
            }
           ],
           "function": "SUM",
           "type": "function"
          }
         ]
        }
       },
       "submitTime": 0,
       "subtype": "tableResultSubCmd.visualization",
       "tableResultIndex": 0,
       "tableResultSettingsMap": {},
       "useConsistentColors": false,
       "version": "CommandV1",
       "width": "auto",
       "workflows": [],
       "xColumns": null,
       "yColumns": null
      }
     },
     "output_type": "display_data"
    }
   ],
   "source": [
    "%sql\n",
    "SELECT \n",
    "    DATE(intime) as transfer_date,\n",
    "    eventtype,\n",
    "    COUNT(*) as daily_count\n",
    "FROM mimicdata_2567611159492892.mimic.transfers\n",
    "WHERE intime IS NOT NULL\n",
    "GROUP BY DATE(intime), eventtype\n",
    "ORDER BY transfer_date, eventtype;"
   ]
  },
  {
   "cell_type": "code",
   "execution_count": 0,
   "metadata": {
    "application/vnd.databricks.v1+cell": {
     "cellMetadata": {
      "byteLimit": 2048000,
      "implicitDf": true,
      "rowLimit": 10000
     },
     "inputWidgets": {},
     "nuid": "e6437fec-70de-436c-b681-f8b529587e30",
     "showTitle": true,
     "tableResultSettingsMap": {},
     "title": "CARE UNIT TRANSFER FLOW"
    }
   },
   "outputs": [
    {
     "output_type": "display_data",
     "data": {
      "text/html": [
       "<style scoped>\n",
       "  .table-result-container {\n",
       "    max-height: 300px;\n",
       "    overflow: auto;\n",
       "  }\n",
       "  table, th, td {\n",
       "    border: 1px solid black;\n",
       "    border-collapse: collapse;\n",
       "  }\n",
       "  th, td {\n",
       "    padding: 5px;\n",
       "  }\n",
       "  th {\n",
       "    text-align: left;\n",
       "  }\n",
       "</style><div class='table-result-container'><table class='table-result'><thead style='background-color: white'><tr><th>source_unit</th><th>target_unit</th><th>transfer_count</th><th>avg_los_hours</th></tr></thead><tbody><tr><td>ADMISSION</td><td>DISCHARGE</td><td>212</td><td>44.42</td></tr><tr><td>ADMISSION</td><td>MICU</td><td>82</td><td>73.89</td></tr><tr><td>MICU</td><td>DISCHARGE</td><td>81</td><td>97.2</td></tr><tr><td>SICU</td><td>DISCHARGE</td><td>26</td><td>61.05</td></tr><tr><td>ADMISSION</td><td>SICU</td><td>24</td><td>129.62</td></tr><tr><td>ADMISSION</td><td>CCU</td><td>22</td><td>80.09</td></tr><tr><td>CCU</td><td>DISCHARGE</td><td>22</td><td>47.06</td></tr><tr><td>ADMISSION</td><td>TSICU</td><td>11</td><td>80.18</td></tr><tr><td>MICU</td><td>MICU</td><td>11</td><td>105.1</td></tr><tr><td>TSICU</td><td>DISCHARGE</td><td>10</td><td>39.21</td></tr><tr><td>ADMISSION</td><td>CSRU</td><td>6</td><td>83.44</td></tr><tr><td>CSRU</td><td>DISCHARGE</td><td>6</td><td>98.71</td></tr><tr><td>CCU</td><td>CCU</td><td>3</td><td>152.35</td></tr><tr><td>MICU</td><td>SICU</td><td>2</td><td>195.6</td></tr><tr><td>SICU</td><td>SICU</td><td>1</td><td>24.37</td></tr><tr><td>TSICU</td><td>TSICU</td><td>1</td><td>12.05</td></tr><tr><td>TSICU</td><td>MICU</td><td>1</td><td>53.69</td></tr><tr><td>CCU</td><td>MICU</td><td>1</td><td>18.93</td></tr><tr><td>MICU</td><td>CCU</td><td>1</td><td>25.31</td></tr><tr><td>CSRU</td><td>CSRU</td><td>1</td><td>22.26</td></tr></tbody></table></div>"
      ]
     },
     "metadata": {
      "application/vnd.databricks.v1+output": {
       "addedWidgets": {},
       "aggData": [],
       "aggError": "",
       "aggOverflow": false,
       "aggSchema": [],
       "aggSeriesLimitReached": false,
       "aggType": "",
       "arguments": {},
       "columnCustomDisplayInfos": {},
       "data": [
        [
         "ADMISSION",
         "DISCHARGE",
         212,
         44.42
        ],
        [
         "ADMISSION",
         "MICU",
         82,
         73.89
        ],
        [
         "MICU",
         "DISCHARGE",
         81,
         97.2
        ],
        [
         "SICU",
         "DISCHARGE",
         26,
         61.05
        ],
        [
         "ADMISSION",
         "SICU",
         24,
         129.62
        ],
        [
         "ADMISSION",
         "CCU",
         22,
         80.09
        ],
        [
         "CCU",
         "DISCHARGE",
         22,
         47.06
        ],
        [
         "ADMISSION",
         "TSICU",
         11,
         80.18
        ],
        [
         "MICU",
         "MICU",
         11,
         105.1
        ],
        [
         "TSICU",
         "DISCHARGE",
         10,
         39.21
        ],
        [
         "ADMISSION",
         "CSRU",
         6,
         83.44
        ],
        [
         "CSRU",
         "DISCHARGE",
         6,
         98.71
        ],
        [
         "CCU",
         "CCU",
         3,
         152.35
        ],
        [
         "MICU",
         "SICU",
         2,
         195.6
        ],
        [
         "SICU",
         "SICU",
         1,
         24.37
        ],
        [
         "TSICU",
         "TSICU",
         1,
         12.05
        ],
        [
         "TSICU",
         "MICU",
         1,
         53.69
        ],
        [
         "CCU",
         "MICU",
         1,
         18.93
        ],
        [
         "MICU",
         "CCU",
         1,
         25.31
        ],
        [
         "CSRU",
         "CSRU",
         1,
         22.26
        ]
       ],
       "datasetInfos": [],
       "dbfsResultPath": null,
       "isJsonSchema": true,
       "metadata": {
        "dataframeName": "_sqldf",
        "executionCount": 17
       },
       "overflow": false,
       "plotOptions": {
        "customPlotOptions": {},
        "displayType": "table",
        "pivotAggregation": null,
        "pivotColumns": null,
        "xColumns": null,
        "yColumns": null
       },
       "removedWidgets": [],
       "schema": [
        {
         "metadata": "{}",
         "name": "source_unit",
         "type": "\"string\""
        },
        {
         "metadata": "{}",
         "name": "target_unit",
         "type": "\"string\""
        },
        {
         "metadata": "{}",
         "name": "transfer_count",
         "type": "\"long\""
        },
        {
         "metadata": "{}",
         "name": "avg_los_hours",
         "type": "\"double\""
        }
       ],
       "type": "table"
      }
     },
     "output_type": "display_data"
    },
    {
     "output_type": "display_data",
     "data": {
      "text/plain": [
       "Databricks visualization. Run in Databricks to view."
      ]
     },
     "metadata": {
      "application/vnd.databricks.v1.subcommand+json": {
       "baseErrorDetails": null,
       "bindings": {},
       "collapsed": false,
       "command": "%sql WITH q AS (SELECT \n    COALESCE(prev_careunit, 'ADMISSION') as source_unit,\n    COALESCE(curr_careunit, 'DISCHARGE') as target_unit,\n    COUNT(*) as transfer_count,\n    ROUND(AVG(los), 2) as avg_los_hours\nFROM mimicdata_2567611159492892.mimic.transfers\nGROUP BY prev_careunit, curr_careunit\nHAVING COUNT(*) > 0\nORDER BY transfer_count DESC) SELECT `source_unit`,SUM(`transfer_count`) `column_29df5220245` FROM q GROUP BY `source_unit`",
       "commandTitle": "Visualization 1",
       "commandType": "auto",
       "commandVersion": 0,
       "commentThread": [],
       "commentsVisible": false,
       "contentSha256Hex": null,
       "customPlotOptions": {
        "redashChart": [
         {
          "key": "type",
          "value": "CHART"
         },
         {
          "key": "options",
          "value": {
           "alignYAxesAtZero": true,
           "coefficient": 1,
           "columnConfigurationMap": {
            "x": {
             "column": "source_unit",
             "id": "column_29df5220243"
            },
            "y": [
             {
              "column": "transfer_count",
              "id": "column_29df5220245",
              "transform": "SUM"
             }
            ]
           },
           "dateTimeFormat": "DD/MM/YYYY HH:mm",
           "direction": {
            "type": "counterclockwise"
           },
           "error_y": {
            "type": "data",
            "visible": true
           },
           "globalSeriesType": "column",
           "isAggregationOn": true,
           "legend": {
            "traceorder": "normal"
           },
           "missingValuesAsZero": true,
           "numberFormat": "0,0.[00000]",
           "percentFormat": "0[.]00%",
           "series": {
            "error_y": {
             "type": "data",
             "visible": true
            },
            "stacking": null
           },
           "seriesOptions": {
            "column_29df5220245": {
             "color": "#00A972",
             "type": "column",
             "yAxis": 0
            }
           },
           "showDataLabels": false,
           "sizemode": "diameter",
           "sortX": true,
           "sortY": true,
           "swappedAxes": false,
           "textFormat": "",
           "useAggregationsUi": true,
           "valuesOptions": {},
           "version": 2,
           "xAxis": {
            "labels": {
             "enabled": true
            },
            "type": "-"
           },
           "yAxis": [
            {
             "type": "-"
            },
            {
             "opposite": true,
             "type": "-"
            }
           ]
          }
         }
        ]
       },
       "datasetPreviewNameToCmdIdMap": {},
       "diffDeletes": [],
       "diffInserts": [],
       "displayType": "redashChart",
       "error": null,
       "errorDetails": null,
       "errorSummary": null,
       "errorTraceType": null,
       "finishTime": 0,
       "globalVars": {},
       "guid": "",
       "height": "auto",
       "hideCommandCode": false,
       "hideCommandResult": false,
       "iPythonMetadata": null,
       "inputWidgets": {},
       "isLockedInExamMode": false,
       "latestUser": "a user",
       "latestUserId": null,
       "listResultMetadata": null,
       "metadata": {},
       "nuid": "25d2824b-9f46-40d8-91c7-42b7b1571f39",
       "origId": 0,
       "parentHierarchy": [],
       "pivotAggregation": null,
       "pivotColumns": null,
       "position": 12.0,
       "resultDbfsErrorMessage": null,
       "resultDbfsStatus": "INLINED_IN_TREE",
       "results": null,
       "showCommandTitle": false,
       "startTime": 0,
       "state": "input",
       "streamStates": {},
       "subcommandOptions": {
        "queryPlan": {
         "groups": [
          {
           "column": "source_unit",
           "type": "column"
          }
         ],
         "selects": [
          {
           "column": "source_unit",
           "type": "column"
          },
          {
           "alias": "column_29df5220245",
           "args": [
            {
             "column": "transfer_count",
             "type": "column"
            }
           ],
           "function": "SUM",
           "type": "function"
          }
         ]
        }
       },
       "submitTime": 0,
       "subtype": "tableResultSubCmd.visualization",
       "tableResultIndex": 0,
       "tableResultSettingsMap": {},
       "useConsistentColors": false,
       "version": "CommandV1",
       "width": "auto",
       "workflows": [],
       "xColumns": null,
       "yColumns": null
      }
     },
     "output_type": "display_data"
    },
    {
     "output_type": "display_data",
     "data": {
      "text/plain": [
       "Databricks visualization. Run in Databricks to view."
      ]
     },
     "metadata": {
      "application/vnd.databricks.v1.subcommand+json": {
       "baseErrorDetails": null,
       "bindings": {},
       "collapsed": false,
       "command": "%sql WITH q AS (SELECT \n    COALESCE(prev_careunit, 'ADMISSION') as source_unit,\n    COALESCE(curr_careunit, 'DISCHARGE') as target_unit,\n    COUNT(*) as transfer_count,\n    ROUND(AVG(los), 2) as avg_los_hours\nFROM mimicdata_2567611159492892.mimic.transfers\nGROUP BY prev_careunit, curr_careunit\nHAVING COUNT(*) > 0\nORDER BY transfer_count DESC) SELECT `target_unit`,SUM(`transfer_count`) `column_29df5220249` FROM q GROUP BY `target_unit`",
       "commandTitle": "Visualization 2",
       "commandType": "auto",
       "commandVersion": 0,
       "commentThread": [],
       "commentsVisible": false,
       "contentSha256Hex": null,
       "customPlotOptions": {
        "redashChart": [
         {
          "key": "type",
          "value": "CHART"
         },
         {
          "key": "options",
          "value": {
           "alignYAxesAtZero": true,
           "coefficient": 1,
           "columnConfigurationMap": {
            "x": {
             "column": "target_unit",
             "id": "column_29df5220247"
            },
            "y": [
             {
              "column": "transfer_count",
              "id": "column_29df5220249",
              "transform": "SUM"
             }
            ]
           },
           "dateTimeFormat": "DD/MM/YYYY HH:mm",
           "direction": {
            "type": "counterclockwise"
           },
           "error_y": {
            "type": "data",
            "visible": true
           },
           "globalSeriesType": "column",
           "isAggregationOn": true,
           "legend": {
            "traceorder": "normal"
           },
           "missingValuesAsZero": true,
           "numberFormat": "0,0.[00000]",
           "percentFormat": "0[.]00%",
           "series": {
            "error_y": {
             "type": "data",
             "visible": true
            },
            "stacking": null
           },
           "seriesOptions": {
            "column_29df5220249": {
             "type": "column",
             "yAxis": 0
            }
           },
           "showDataLabels": false,
           "sizemode": "diameter",
           "sortX": true,
           "sortY": true,
           "swappedAxes": false,
           "textFormat": "",
           "useAggregationsUi": true,
           "valuesOptions": {},
           "version": 2,
           "xAxis": {
            "labels": {
             "enabled": true
            },
            "type": "-"
           },
           "yAxis": [
            {
             "type": "-"
            },
            {
             "opposite": true,
             "type": "-"
            }
           ]
          }
         }
        ]
       },
       "datasetPreviewNameToCmdIdMap": {},
       "diffDeletes": [],
       "diffInserts": [],
       "displayType": "redashChart",
       "error": null,
       "errorDetails": null,
       "errorSummary": null,
       "errorTraceType": null,
       "finishTime": 0,
       "globalVars": {},
       "guid": "",
       "height": "auto",
       "hideCommandCode": false,
       "hideCommandResult": false,
       "iPythonMetadata": null,
       "inputWidgets": {},
       "isLockedInExamMode": false,
       "latestUser": "a user",
       "latestUserId": null,
       "listResultMetadata": null,
       "metadata": {},
       "nuid": "9124e402-2804-4f88-bb2a-0571b28b94f9",
       "origId": 0,
       "parentHierarchy": [],
       "pivotAggregation": null,
       "pivotColumns": null,
       "position": 13.0,
       "resultDbfsErrorMessage": null,
       "resultDbfsStatus": "INLINED_IN_TREE",
       "results": null,
       "showCommandTitle": false,
       "startTime": 0,
       "state": "input",
       "streamStates": {},
       "subcommandOptions": {
        "queryPlan": {
         "groups": [
          {
           "column": "target_unit",
           "type": "column"
          }
         ],
         "selects": [
          {
           "column": "target_unit",
           "type": "column"
          },
          {
           "alias": "column_29df5220249",
           "args": [
            {
             "column": "transfer_count",
             "type": "column"
            }
           ],
           "function": "SUM",
           "type": "function"
          }
         ]
        }
       },
       "submitTime": 0,
       "subtype": "tableResultSubCmd.visualization",
       "tableResultIndex": 0,
       "tableResultSettingsMap": {},
       "useConsistentColors": false,
       "version": "CommandV1",
       "width": "auto",
       "workflows": [],
       "xColumns": null,
       "yColumns": null
      }
     },
     "output_type": "display_data"
    }
   ],
   "source": [
    "%sql\n",
    "SELECT \n",
    "    COALESCE(prev_careunit, 'ADMISSION') as source_unit,\n",
    "    COALESCE(curr_careunit, 'DISCHARGE') as target_unit,\n",
    "    COUNT(*) as transfer_count,\n",
    "    ROUND(AVG(los), 2) as avg_los_hours\n",
    "FROM mimicdata_2567611159492892.mimic.transfers\n",
    "GROUP BY prev_careunit, curr_careunit\n",
    "HAVING COUNT(*) > 0\n",
    "ORDER BY transfer_count DESC;"
   ]
  },
  {
   "cell_type": "code",
   "execution_count": 0,
   "metadata": {
    "application/vnd.databricks.v1+cell": {
     "cellMetadata": {
      "byteLimit": 2048000,
      "implicitDf": true,
      "rowLimit": 10000
     },
     "inputWidgets": {},
     "nuid": "8d21aa96-55d8-44fd-a32f-702ee9bb628b",
     "showTitle": true,
     "tableResultSettingsMap": {},
     "title": "ADMISSION VS DISCHARGE BALANCE BY CARE UNIT"
    }
   },
   "outputs": [
    {
     "output_type": "display_data",
     "data": {
      "text/html": [
       "<style scoped>\n",
       "  .table-result-container {\n",
       "    max-height: 300px;\n",
       "    overflow: auto;\n",
       "  }\n",
       "  table, th, td {\n",
       "    border: 1px solid black;\n",
       "    border-collapse: collapse;\n",
       "  }\n",
       "  th, td {\n",
       "    padding: 5px;\n",
       "  }\n",
       "  th {\n",
       "    text-align: left;\n",
       "  }\n",
       "</style><div class='table-result-container'><table class='table-result'><thead style='background-color: white'><tr><th>care_unit</th><th>admissions</th><th>discharges</th><th>net_flow</th></tr></thead><tbody><tr><td>MICU</td><td>55</td><td>22</td><td>33</td></tr><tr><td>TSICU</td><td>9</td><td>5</td><td>4</td></tr><tr><td>SICU</td><td>8</td><td>6</td><td>2</td></tr><tr><td>CSRU</td><td>3</td><td>1</td><td>2</td></tr><tr><td>CCU</td><td>11</td><td>9</td><td>2</td></tr></tbody></table></div>"
      ]
     },
     "metadata": {
      "application/vnd.databricks.v1+output": {
       "addedWidgets": {},
       "aggData": [],
       "aggError": "",
       "aggOverflow": false,
       "aggSchema": [],
       "aggSeriesLimitReached": false,
       "aggType": "",
       "arguments": {},
       "columnCustomDisplayInfos": {},
       "data": [
        [
         "MICU",
         55,
         22,
         33
        ],
        [
         "TSICU",
         9,
         5,
         4
        ],
        [
         "SICU",
         8,
         6,
         2
        ],
        [
         "CSRU",
         3,
         1,
         2
        ],
        [
         "CCU",
         11,
         9,
         2
        ]
       ],
       "datasetInfos": [],
       "dbfsResultPath": null,
       "isJsonSchema": true,
       "metadata": {
        "dataframeName": "_sqldf",
        "executionCount": 19
       },
       "overflow": false,
       "plotOptions": {
        "customPlotOptions": {},
        "displayType": "table",
        "pivotAggregation": null,
        "pivotColumns": null,
        "xColumns": null,
        "yColumns": null
       },
       "removedWidgets": [],
       "schema": [
        {
         "metadata": "{}",
         "name": "care_unit",
         "type": "\"string\""
        },
        {
         "metadata": "{}",
         "name": "admissions",
         "type": "\"long\""
        },
        {
         "metadata": "{}",
         "name": "discharges",
         "type": "\"long\""
        },
        {
         "metadata": "{}",
         "name": "net_flow",
         "type": "\"long\""
        }
       ],
       "type": "table"
      }
     },
     "output_type": "display_data"
    },
    {
     "output_type": "display_data",
     "data": {
      "text/plain": [
       "Databricks visualization. Run in Databricks to view."
      ]
     },
     "metadata": {
      "application/vnd.databricks.v1.subcommand+json": {
       "baseErrorDetails": null,
       "bindings": {},
       "collapsed": false,
       "command": "%sql WITH q AS (SELECT \n    care_unit,\n    SUM(CASE WHEN event_type = 'admissions' THEN event_count ELSE 0 END) as admissions,\n    SUM(CASE WHEN event_type = 'discharges' THEN event_count ELSE 0 END) as discharges,\n    SUM(CASE WHEN event_type = 'admissions' THEN event_count ELSE 0 END) - \n    SUM(CASE WHEN event_type = 'discharges' THEN event_count ELSE 0 END) as net_flow\nFROM (\n    SELECT curr_careunit as care_unit, 'admissions' as event_type, COUNT(*) as event_count\n    FROM mimicdata_2567611159492892.mimic.transfers \n    WHERE eventtype = 'admit' AND curr_careunit IS NOT NULL\n    GROUP BY curr_careunit\n    \n    UNION ALL\n    \n    SELECT prev_careunit as care_unit, 'discharges' as event_type, COUNT(*) as event_count\n    FROM mimicdata_2567611159492892.mimic.transfers \n    WHERE eventtype = 'discharge' AND prev_careunit IS NOT NULL\n    GROUP BY prev_careunit\n) combined\nGROUP BY care_unit\nORDER BY net_flow DESC) SELECT `care_unit`,SUM(`admissions`) `column_29df5220256` FROM q GROUP BY `care_unit`",
       "commandTitle": "Visualization 1",
       "commandType": "auto",
       "commandVersion": 0,
       "commentThread": [],
       "commentsVisible": false,
       "contentSha256Hex": null,
       "customPlotOptions": {
        "redashChart": [
         {
          "key": "type",
          "value": "CHART"
         },
         {
          "key": "options",
          "value": {
           "alignYAxesAtZero": true,
           "coefficient": 1,
           "columnConfigurationMap": {
            "x": {
             "column": "care_unit",
             "id": "column_29df5220255"
            },
            "y": [
             {
              "column": "admissions",
              "id": "column_29df5220256",
              "transform": "SUM"
             }
            ]
           },
           "dateTimeFormat": "DD/MM/YYYY HH:mm",
           "direction": {
            "type": "counterclockwise"
           },
           "error_y": {
            "type": "data",
            "visible": true
           },
           "globalSeriesType": "pie",
           "isAggregationOn": true,
           "legend": {
            "traceorder": "normal"
           },
           "missingValuesAsZero": true,
           "numberFormat": "0,0.[00000]",
           "percentFormat": "0[.]00%",
           "series": {
            "error_y": {
             "type": "data",
             "visible": true
            },
            "stacking": null
           },
           "seriesOptions": {
            "admissions": {
             "type": "pie",
             "yAxis": 0
            },
            "column_29df5220256": {
             "type": "pie",
             "yAxis": 0
            }
           },
           "showDataLabels": true,
           "sizemode": "diameter",
           "sortX": true,
           "sortY": true,
           "swappedAxes": false,
           "textFormat": "",
           "useAggregationsUi": true,
           "valuesOptions": {},
           "version": 2,
           "xAxis": {
            "labels": {
             "enabled": true
            },
            "type": "-"
           },
           "yAxis": [
            {
             "type": "-"
            },
            {
             "opposite": true,
             "type": "-"
            }
           ]
          }
         }
        ]
       },
       "datasetPreviewNameToCmdIdMap": {},
       "diffDeletes": [],
       "diffInserts": [],
       "displayType": "redashChart",
       "error": null,
       "errorDetails": null,
       "errorSummary": null,
       "errorTraceType": null,
       "finishTime": 0,
       "globalVars": {},
       "guid": "",
       "height": "auto",
       "hideCommandCode": false,
       "hideCommandResult": false,
       "iPythonMetadata": null,
       "inputWidgets": {},
       "isLockedInExamMode": false,
       "latestUser": "a user",
       "latestUserId": null,
       "listResultMetadata": null,
       "metadata": {},
       "nuid": "e9d5305e-3687-436d-b2e1-00a5b22063f4",
       "origId": 0,
       "parentHierarchy": [],
       "pivotAggregation": null,
       "pivotColumns": null,
       "position": 13.0,
       "resultDbfsErrorMessage": null,
       "resultDbfsStatus": "INLINED_IN_TREE",
       "results": null,
       "showCommandTitle": false,
       "startTime": 0,
       "state": "input",
       "streamStates": {},
       "subcommandOptions": {
        "queryPlan": {
         "groups": [
          {
           "column": "care_unit",
           "type": "column"
          }
         ],
         "selects": [
          {
           "column": "care_unit",
           "type": "column"
          },
          {
           "alias": "column_29df5220256",
           "args": [
            {
             "column": "admissions",
             "type": "column"
            }
           ],
           "function": "SUM",
           "type": "function"
          }
         ]
        }
       },
       "submitTime": 0,
       "subtype": "tableResultSubCmd.visualization",
       "tableResultIndex": 0,
       "tableResultSettingsMap": {},
       "useConsistentColors": false,
       "version": "CommandV1",
       "width": "auto",
       "workflows": [],
       "xColumns": null,
       "yColumns": null
      }
     },
     "output_type": "display_data"
    },
    {
     "output_type": "display_data",
     "data": {
      "text/plain": [
       "Databricks visualization. Run in Databricks to view."
      ]
     },
     "metadata": {
      "application/vnd.databricks.v1.subcommand+json": {
       "baseErrorDetails": null,
       "bindings": {},
       "collapsed": false,
       "command": "%sql WITH q AS (SELECT \n    care_unit,\n    SUM(CASE WHEN event_type = 'admissions' THEN event_count ELSE 0 END) as admissions,\n    SUM(CASE WHEN event_type = 'discharges' THEN event_count ELSE 0 END) as discharges,\n    SUM(CASE WHEN event_type = 'admissions' THEN event_count ELSE 0 END) - \n    SUM(CASE WHEN event_type = 'discharges' THEN event_count ELSE 0 END) as net_flow\nFROM (\n    SELECT curr_careunit as care_unit, 'admissions' as event_type, COUNT(*) as event_count\n    FROM mimicdata_2567611159492892.mimic.transfers \n    WHERE eventtype = 'admit' AND curr_careunit IS NOT NULL\n    GROUP BY curr_careunit\n    \n    UNION ALL\n    \n    SELECT prev_careunit as care_unit, 'discharges' as event_type, COUNT(*) as event_count\n    FROM mimicdata_2567611159492892.mimic.transfers \n    WHERE eventtype = 'discharge' AND prev_careunit IS NOT NULL\n    GROUP BY prev_careunit\n) combined\nGROUP BY care_unit\nORDER BY net_flow DESC) SELECT `care_unit`,SUM(`admissions`) `column_29df5220260`,SUM(`discharges`) `column_29df5220263`,SUM(`net_flow`) `column_29df5220266` FROM q GROUP BY `care_unit`",
       "commandTitle": "Visualization 2",
       "commandType": "auto",
       "commandVersion": 0,
       "commentThread": [],
       "commentsVisible": false,
       "contentSha256Hex": null,
       "customPlotOptions": {
        "redashChart": [
         {
          "key": "type",
          "value": "CHART"
         },
         {
          "key": "options",
          "value": {
           "alignYAxesAtZero": true,
           "coefficient": 1,
           "columnConfigurationMap": {
            "x": {
             "column": "care_unit",
             "id": "column_29df5220258"
            },
            "y": [
             {
              "column": "admissions",
              "id": "column_29df5220260",
              "transform": "SUM"
             },
             {
              "column": "discharges",
              "id": "column_29df5220263",
              "transform": "SUM"
             },
             {
              "column": "net_flow",
              "id": "column_29df5220266",
              "transform": "SUM"
             }
            ]
           },
           "dateTimeFormat": "DD/MM/YYYY HH:mm",
           "direction": {
            "type": "counterclockwise"
           },
           "error_y": {
            "type": "data",
            "visible": true
           },
           "globalSeriesType": "column",
           "isAggregationOn": true,
           "legend": {
            "traceorder": "normal"
           },
           "missingValuesAsZero": true,
           "numberFormat": "0,0.[00000]",
           "percentFormat": "0[.]00%",
           "series": {
            "error_y": {
             "type": "data",
             "visible": true
            },
            "stacking": null
           },
           "seriesOptions": {
            "column_29df5220260": {
             "type": "column",
             "yAxis": 0
            },
            "column_29df5220263": {
             "type": "column",
             "yAxis": 0
            },
            "column_29df5220266": {
             "type": "column",
             "yAxis": 0
            }
           },
           "showDataLabels": false,
           "sizemode": "diameter",
           "sortX": true,
           "sortY": true,
           "swappedAxes": false,
           "textFormat": "",
           "useAggregationsUi": true,
           "valuesOptions": {},
           "version": 2,
           "xAxis": {
            "labels": {
             "enabled": true
            },
            "type": "-"
           },
           "yAxis": [
            {
             "type": "-"
            },
            {
             "opposite": true,
             "type": "-"
            }
           ]
          }
         }
        ]
       },
       "datasetPreviewNameToCmdIdMap": {},
       "diffDeletes": [],
       "diffInserts": [],
       "displayType": "redashChart",
       "error": null,
       "errorDetails": null,
       "errorSummary": null,
       "errorTraceType": null,
       "finishTime": 0,
       "globalVars": {},
       "guid": "",
       "height": "auto",
       "hideCommandCode": false,
       "hideCommandResult": false,
       "iPythonMetadata": null,
       "inputWidgets": {},
       "isLockedInExamMode": false,
       "latestUser": "a user",
       "latestUserId": null,
       "listResultMetadata": null,
       "metadata": {},
       "nuid": "c2e691c4-29b6-4cd5-87ed-6fe9d8da6736",
       "origId": 0,
       "parentHierarchy": [],
       "pivotAggregation": null,
       "pivotColumns": null,
       "position": 14.0,
       "resultDbfsErrorMessage": null,
       "resultDbfsStatus": "INLINED_IN_TREE",
       "results": null,
       "showCommandTitle": false,
       "startTime": 0,
       "state": "input",
       "streamStates": {},
       "subcommandOptions": {
        "queryPlan": {
         "groups": [
          {
           "column": "care_unit",
           "type": "column"
          }
         ],
         "selects": [
          {
           "column": "care_unit",
           "type": "column"
          },
          {
           "alias": "column_29df5220260",
           "args": [
            {
             "column": "admissions",
             "type": "column"
            }
           ],
           "function": "SUM",
           "type": "function"
          },
          {
           "alias": "column_29df5220263",
           "args": [
            {
             "column": "discharges",
             "type": "column"
            }
           ],
           "function": "SUM",
           "type": "function"
          },
          {
           "alias": "column_29df5220266",
           "args": [
            {
             "column": "net_flow",
             "type": "column"
            }
           ],
           "function": "SUM",
           "type": "function"
          }
         ]
        }
       },
       "submitTime": 0,
       "subtype": "tableResultSubCmd.visualization",
       "tableResultIndex": 0,
       "tableResultSettingsMap": {},
       "useConsistentColors": false,
       "version": "CommandV1",
       "width": "auto",
       "workflows": [],
       "xColumns": null,
       "yColumns": null
      }
     },
     "output_type": "display_data"
    }
   ],
   "source": [
    "%sql\n",
    "SELECT \n",
    "    care_unit,\n",
    "    SUM(CASE WHEN event_type = 'admissions' THEN event_count ELSE 0 END) as admissions,\n",
    "    SUM(CASE WHEN event_type = 'discharges' THEN event_count ELSE 0 END) as discharges,\n",
    "    SUM(CASE WHEN event_type = 'admissions' THEN event_count ELSE 0 END) - \n",
    "    SUM(CASE WHEN event_type = 'discharges' THEN event_count ELSE 0 END) as net_flow\n",
    "FROM (\n",
    "    SELECT curr_careunit as care_unit, 'admissions' as event_type, COUNT(*) as event_count\n",
    "    FROM mimicdata_2567611159492892.mimic.transfers \n",
    "    WHERE eventtype = 'admit' AND curr_careunit IS NOT NULL\n",
    "    GROUP BY curr_careunit\n",
    "    \n",
    "    UNION ALL\n",
    "    \n",
    "    SELECT prev_careunit as care_unit, 'discharges' as event_type, COUNT(*) as event_count\n",
    "    FROM mimicdata_2567611159492892.mimic.transfers \n",
    "    WHERE eventtype = 'discharge' AND prev_careunit IS NOT NULL\n",
    "    GROUP BY prev_careunit\n",
    ") combined\n",
    "GROUP BY care_unit\n",
    "ORDER BY net_flow DESC;"
   ]
  },
  {
   "cell_type": "code",
   "execution_count": 0,
   "metadata": {
    "application/vnd.databricks.v1+cell": {
     "cellMetadata": {
      "byteLimit": 2048000,
      "implicitDf": true,
      "rowLimit": 10000
     },
     "inputWidgets": {},
     "nuid": "516f2676-1e5c-45a7-8e84-a30c86f2cf0d",
     "showTitle": true,
     "tableResultSettingsMap": {},
     "title": "AVERAGE LENGTH OF STAY BY CARE UNIT"
    }
   },
   "outputs": [
    {
     "output_type": "display_data",
     "data": {
      "text/html": [
       "<style scoped>\n",
       "  .table-result-container {\n",
       "    max-height: 300px;\n",
       "    overflow: auto;\n",
       "  }\n",
       "  table, th, td {\n",
       "    border: 1px solid black;\n",
       "    border-collapse: collapse;\n",
       "  }\n",
       "  th, td {\n",
       "    padding: 5px;\n",
       "  }\n",
       "  th {\n",
       "    text-align: left;\n",
       "  }\n",
       "</style><div class='table-result-container'><table class='table-result'><thead style='background-color: white'><tr><th>care_unit</th><th>total_stays</th><th>avg_los_hours</th><th>avg_los_days</th><th>min_los_hours</th><th>max_los_hours</th><th>median_los_hours</th></tr></thead><tbody><tr><td>SICU</td><td>27</td><td>130.61</td><td>5.44</td><td>1.29</td><td>849.76</td><td>57.74</td></tr><tr><td>CCU</td><td>26</td><td>86.32</td><td>3.6</td><td>0.03</td><td>599.92</td><td>44.33</td></tr><tr><td>MICU</td><td>94</td><td>77.53</td><td>3.23</td><td>0.04</td><td>746.96</td><td>39.27</td></tr><tr><td>CSRU</td><td>7</td><td>74.7</td><td>3.11</td><td>21.64</td><td>195.4</td><td>31.88</td></tr><tr><td>TSICU</td><td>12</td><td>74.5</td><td>3.1</td><td>0.79</td><td>537.35</td><td>20.86</td></tr></tbody></table></div>"
      ]
     },
     "metadata": {
      "application/vnd.databricks.v1+output": {
       "addedWidgets": {},
       "aggData": [],
       "aggError": "",
       "aggOverflow": false,
       "aggSchema": [],
       "aggSeriesLimitReached": false,
       "aggType": "",
       "arguments": {},
       "columnCustomDisplayInfos": {},
       "data": [
        [
         "SICU",
         27,
         130.61,
         5.44,
         1.29,
         849.76,
         57.74
        ],
        [
         "CCU",
         26,
         86.32,
         3.6,
         0.03,
         599.92,
         44.33
        ],
        [
         "MICU",
         94,
         77.53,
         3.23,
         0.04,
         746.96,
         39.27
        ],
        [
         "CSRU",
         7,
         74.7,
         3.11,
         21.64,
         195.4,
         31.88
        ],
        [
         "TSICU",
         12,
         74.5,
         3.1,
         0.79,
         537.35,
         20.86
        ]
       ],
       "datasetInfos": [],
       "dbfsResultPath": null,
       "isJsonSchema": true,
       "metadata": {
        "dataframeName": "_sqldf",
        "executionCount": 21
       },
       "overflow": false,
       "plotOptions": {
        "customPlotOptions": {},
        "displayType": "table",
        "pivotAggregation": null,
        "pivotColumns": null,
        "xColumns": null,
        "yColumns": null
       },
       "removedWidgets": [],
       "schema": [
        {
         "metadata": "{}",
         "name": "care_unit",
         "type": "\"string\""
        },
        {
         "metadata": "{}",
         "name": "total_stays",
         "type": "\"long\""
        },
        {
         "metadata": "{}",
         "name": "avg_los_hours",
         "type": "\"double\""
        },
        {
         "metadata": "{}",
         "name": "avg_los_days",
         "type": "\"double\""
        },
        {
         "metadata": "{}",
         "name": "min_los_hours",
         "type": "\"double\""
        },
        {
         "metadata": "{}",
         "name": "max_los_hours",
         "type": "\"double\""
        },
        {
         "metadata": "{}",
         "name": "median_los_hours",
         "type": "\"double\""
        }
       ],
       "type": "table"
      }
     },
     "output_type": "display_data"
    },
    {
     "output_type": "display_data",
     "data": {
      "text/plain": [
       "Databricks visualization. Run in Databricks to view."
      ]
     },
     "metadata": {
      "application/vnd.databricks.v1.subcommand+json": {
       "baseErrorDetails": null,
       "bindings": {},
       "collapsed": false,
       "command": "%sql WITH q AS (SELECT \n    curr_careunit as care_unit,\n    COUNT(*) as total_stays,\n    ROUND(AVG(los), 2) as avg_los_hours,\n    ROUND(AVG(los) / 24, 2) as avg_los_days,\n    ROUND(MIN(los), 2) as min_los_hours,\n    ROUND(MAX(los), 2) as max_los_hours,\n    ROUND(PERCENTILE_CONT(0.5) WITHIN GROUP (ORDER BY los), 2) as median_los_hours\nFROM mimicdata_2567611159492892.mimic.transfers\nWHERE curr_careunit IS NOT NULL AND los IS NOT NULL AND los > 0\nGROUP BY curr_careunit\nORDER BY avg_los_hours DESC) SELECT `care_unit`,SUM(`total_stays`) `column_29df5220270`,SUM(`avg_los_hours`) `column_29df5220273`,SUM(`avg_los_days`) `column_29df5220279` FROM q GROUP BY `care_unit`",
       "commandTitle": "Visualization 1",
       "commandType": "auto",
       "commandVersion": 0,
       "commentThread": [],
       "commentsVisible": false,
       "contentSha256Hex": null,
       "customPlotOptions": {
        "redashChart": [
         {
          "key": "type",
          "value": "CHART"
         },
         {
          "key": "options",
          "value": {
           "alignYAxesAtZero": true,
           "coefficient": 1,
           "columnConfigurationMap": {
            "x": {
             "column": "care_unit",
             "id": "column_29df5220268"
            },
            "y": [
             {
              "column": "total_stays",
              "id": "column_29df5220270",
              "transform": "SUM"
             },
             {
              "column": "avg_los_hours",
              "id": "column_29df5220273",
              "transform": "SUM"
             },
             {
              "column": "avg_los_days",
              "id": "column_29df5220279",
              "transform": "SUM"
             }
            ]
           },
           "dateTimeFormat": "DD/MM/YYYY HH:mm",
           "direction": {
            "type": "counterclockwise"
           },
           "error_y": {
            "type": "data",
            "visible": true
           },
           "globalSeriesType": "column",
           "isAggregationOn": true,
           "legend": {
            "traceorder": "normal"
           },
           "missingValuesAsZero": true,
           "numberFormat": "0,0.[00000]",
           "percentFormat": "0[.]00%",
           "series": {
            "error_y": {
             "type": "data",
             "visible": true
            },
            "stacking": null
           },
           "seriesOptions": {
            "column_29df5220270": {
             "type": "column",
             "yAxis": 0
            },
            "column_29df5220273": {
             "type": "column",
             "yAxis": 0
            },
            "column_29df5220276": {
             "type": "column",
             "yAxis": 0
            },
            "column_29df5220279": {
             "type": "column",
             "yAxis": 0
            }
           },
           "showDataLabels": false,
           "sizemode": "diameter",
           "sortX": true,
           "sortY": true,
           "swappedAxes": false,
           "textFormat": "",
           "useAggregationsUi": true,
           "valuesOptions": {},
           "version": 2,
           "xAxis": {
            "labels": {
             "enabled": true
            },
            "type": "-"
           },
           "yAxis": [
            {
             "type": "-"
            },
            {
             "opposite": true,
             "type": "-"
            }
           ]
          }
         }
        ]
       },
       "datasetPreviewNameToCmdIdMap": {},
       "diffDeletes": [],
       "diffInserts": [],
       "displayType": "redashChart",
       "error": null,
       "errorDetails": null,
       "errorSummary": null,
       "errorTraceType": null,
       "finishTime": 0,
       "globalVars": {},
       "guid": "",
       "height": "auto",
       "hideCommandCode": false,
       "hideCommandResult": false,
       "iPythonMetadata": null,
       "inputWidgets": {},
       "isLockedInExamMode": false,
       "latestUser": "a user",
       "latestUserId": null,
       "listResultMetadata": null,
       "metadata": {},
       "nuid": "6a948ce8-5bf4-4356-aa24-6df4062680a5",
       "origId": 0,
       "parentHierarchy": [],
       "pivotAggregation": null,
       "pivotColumns": null,
       "position": 14.0,
       "resultDbfsErrorMessage": null,
       "resultDbfsStatus": "INLINED_IN_TREE",
       "results": null,
       "showCommandTitle": false,
       "startTime": 0,
       "state": "input",
       "streamStates": {},
       "subcommandOptions": {
        "queryPlan": {
         "groups": [
          {
           "column": "care_unit",
           "type": "column"
          }
         ],
         "selects": [
          {
           "column": "care_unit",
           "type": "column"
          },
          {
           "alias": "column_29df5220270",
           "args": [
            {
             "column": "total_stays",
             "type": "column"
            }
           ],
           "function": "SUM",
           "type": "function"
          },
          {
           "alias": "column_29df5220273",
           "args": [
            {
             "column": "avg_los_hours",
             "type": "column"
            }
           ],
           "function": "SUM",
           "type": "function"
          },
          {
           "alias": "column_29df5220279",
           "args": [
            {
             "column": "avg_los_days",
             "type": "column"
            }
           ],
           "function": "SUM",
           "type": "function"
          }
         ]
        }
       },
       "submitTime": 0,
       "subtype": "tableResultSubCmd.visualization",
       "tableResultIndex": 0,
       "tableResultSettingsMap": {},
       "useConsistentColors": false,
       "version": "CommandV1",
       "width": "auto",
       "workflows": [],
       "xColumns": null,
       "yColumns": null
      }
     },
     "output_type": "display_data"
    }
   ],
   "source": [
    "%sql\n",
    "SELECT \n",
    "    curr_careunit as care_unit,\n",
    "    COUNT(*) as total_stays,\n",
    "    ROUND(AVG(los), 2) as avg_los_hours,\n",
    "    ROUND(AVG(los) / 24, 2) as avg_los_days,\n",
    "    ROUND(MIN(los), 2) as min_los_hours,\n",
    "    ROUND(MAX(los), 2) as max_los_hours,\n",
    "    ROUND(PERCENTILE_CONT(0.5) WITHIN GROUP (ORDER BY los), 2) as median_los_hours\n",
    "FROM mimicdata_2567611159492892.mimic.transfers\n",
    "WHERE curr_careunit IS NOT NULL AND los IS NOT NULL AND los > 0\n",
    "GROUP BY curr_careunit\n",
    "ORDER BY avg_los_hours DESC;"
   ]
  },
  {
   "cell_type": "code",
   "execution_count": 0,
   "metadata": {
    "application/vnd.databricks.v1+cell": {
     "cellMetadata": {
      "byteLimit": 2048000,
      "implicitDf": true,
      "rowLimit": 10000
     },
     "inputWidgets": {},
     "nuid": "6b3aed0f-c92c-4be5-bbbf-d78624853b60",
     "showTitle": true,
     "tableResultSettingsMap": {},
     "title": "Patient Complexity"
    }
   },
   "outputs": [
    {
     "output_type": "display_data",
     "data": {
      "text/html": [
       "<style scoped>\n",
       "  .table-result-container {\n",
       "    max-height: 300px;\n",
       "    overflow: auto;\n",
       "  }\n",
       "  table, th, td {\n",
       "    border: 1px solid black;\n",
       "    border-collapse: collapse;\n",
       "  }\n",
       "  th, td {\n",
       "    padding: 5px;\n",
       "  }\n",
       "  th {\n",
       "    text-align: left;\n",
       "  }\n",
       "</style><div class='table-result-container'><table class='table-result'><thead style='background-color: white'><tr><th>transfer_count</th><th>number_of_patients</th><th>percentage</th></tr></thead><tbody><tr><td>2</td><td>17</td><td>17.00</td></tr><tr><td>3</td><td>22</td><td>22.00</td></tr><tr><td>4</td><td>19</td><td>19.00</td></tr><tr><td>5</td><td>12</td><td>12.00</td></tr><tr><td>6</td><td>11</td><td>11.00</td></tr><tr><td>7</td><td>5</td><td>5.00</td></tr><tr><td>8</td><td>3</td><td>3.00</td></tr><tr><td>9</td><td>4</td><td>4.00</td></tr><tr><td>10</td><td>2</td><td>2.00</td></tr><tr><td>12</td><td>2</td><td>2.00</td></tr><tr><td>15</td><td>2</td><td>2.00</td></tr><tr><td>53</td><td>1</td><td>1.00</td></tr></tbody></table></div>"
      ]
     },
     "metadata": {
      "application/vnd.databricks.v1+output": {
       "addedWidgets": {},
       "aggData": [],
       "aggError": "",
       "aggOverflow": false,
       "aggSchema": [],
       "aggSeriesLimitReached": false,
       "aggType": "",
       "arguments": {},
       "columnCustomDisplayInfos": {},
       "data": [
        [
         2,
         17,
         "17.00"
        ],
        [
         3,
         22,
         "22.00"
        ],
        [
         4,
         19,
         "19.00"
        ],
        [
         5,
         12,
         "12.00"
        ],
        [
         6,
         11,
         "11.00"
        ],
        [
         7,
         5,
         "5.00"
        ],
        [
         8,
         3,
         "3.00"
        ],
        [
         9,
         4,
         "4.00"
        ],
        [
         10,
         2,
         "2.00"
        ],
        [
         12,
         2,
         "2.00"
        ],
        [
         15,
         2,
         "2.00"
        ],
        [
         53,
         1,
         "1.00"
        ]
       ],
       "datasetInfos": [],
       "dbfsResultPath": null,
       "isJsonSchema": true,
       "metadata": {
        "dataframeName": "_sqldf",
        "executionCount": 23
       },
       "overflow": false,
       "plotOptions": {
        "customPlotOptions": {},
        "displayType": "table",
        "pivotAggregation": null,
        "pivotColumns": null,
        "xColumns": null,
        "yColumns": null
       },
       "removedWidgets": [],
       "schema": [
        {
         "metadata": "{}",
         "name": "transfer_count",
         "type": "\"long\""
        },
        {
         "metadata": "{}",
         "name": "number_of_patients",
         "type": "\"long\""
        },
        {
         "metadata": "{}",
         "name": "percentage",
         "type": "\"decimal(27,2)\""
        }
       ],
       "type": "table"
      }
     },
     "output_type": "display_data"
    },
    {
     "output_type": "display_data",
     "data": {
      "text/plain": [
       "Databricks visualization. Run in Databricks to view."
      ]
     },
     "metadata": {
      "application/vnd.databricks.v1.subcommand+json": {
       "baseErrorDetails": null,
       "bindings": {},
       "collapsed": false,
       "command": "%sql WITH q AS (SELECT \n    transfer_count,\n    COUNT(*) as number_of_patients,\n    ROUND(COUNT(*) * 100.0 / (SELECT COUNT(DISTINCT subject_id) FROM mimicdata_2567611159492892.mimic.transfers), 2) as percentage\nFROM (\n    SELECT subject_id, COUNT(*) as transfer_count\n    FROM mimicdata_2567611159492892.mimic.transfers\n    GROUP BY subject_id\n) patient_transfers\nGROUP BY transfer_count\nORDER BY transfer_count) SELECT `transfer_count`,SUM(`number_of_patients`) `column_29df5220283` FROM q GROUP BY `transfer_count`",
       "commandTitle": "Visualization 1",
       "commandType": "auto",
       "commandVersion": 0,
       "commentThread": [],
       "commentsVisible": false,
       "contentSha256Hex": null,
       "customPlotOptions": {
        "redashChart": [
         {
          "key": "type",
          "value": "CHART"
         },
         {
          "key": "options",
          "value": {
           "alignYAxesAtZero": true,
           "coefficient": 1,
           "columnConfigurationMap": {
            "x": {
             "column": "transfer_count",
             "id": "column_29df5220281"
            },
            "y": [
             {
              "column": "number_of_patients",
              "id": "column_29df5220283",
              "transform": "SUM"
             }
            ]
           },
           "dateTimeFormat": "DD/MM/YYYY HH:mm",
           "direction": {
            "type": "counterclockwise"
           },
           "error_y": {
            "type": "data",
            "visible": true
           },
           "globalSeriesType": "column",
           "isAggregationOn": true,
           "legend": {
            "traceorder": "normal"
           },
           "missingValuesAsZero": true,
           "numberFormat": "0,0.[00000]",
           "percentFormat": "0[.]00%",
           "series": {
            "error_y": {
             "type": "data",
             "visible": true
            },
            "stacking": null
           },
           "seriesOptions": {
            "column_29df5220283": {
             "color": "#AB4057",
             "type": "column",
             "yAxis": 0
            },
            "column_29df5220286": {
             "type": "column",
             "yAxis": 0
            }
           },
           "showDataLabels": false,
           "sizemode": "diameter",
           "sortX": true,
           "sortY": true,
           "swappedAxes": false,
           "textFormat": "",
           "useAggregationsUi": true,
           "valuesOptions": {},
           "version": 2,
           "xAxis": {
            "labels": {
             "enabled": true
            },
            "type": "-"
           },
           "yAxis": [
            {
             "type": "-"
            },
            {
             "opposite": true,
             "type": "-"
            }
           ]
          }
         }
        ]
       },
       "datasetPreviewNameToCmdIdMap": {},
       "diffDeletes": [],
       "diffInserts": [],
       "displayType": "redashChart",
       "error": null,
       "errorDetails": null,
       "errorSummary": null,
       "errorTraceType": null,
       "finishTime": 0,
       "globalVars": {},
       "guid": "",
       "height": "auto",
       "hideCommandCode": false,
       "hideCommandResult": false,
       "iPythonMetadata": null,
       "inputWidgets": {},
       "isLockedInExamMode": false,
       "latestUser": "a user",
       "latestUserId": null,
       "listResultMetadata": null,
       "metadata": {},
       "nuid": "f82d00be-3af1-4e42-ace7-fb1356423816",
       "origId": 0,
       "parentHierarchy": [],
       "pivotAggregation": null,
       "pivotColumns": null,
       "position": 15.0,
       "resultDbfsErrorMessage": null,
       "resultDbfsStatus": "INLINED_IN_TREE",
       "results": null,
       "showCommandTitle": false,
       "startTime": 0,
       "state": "input",
       "streamStates": {},
       "subcommandOptions": {
        "queryPlan": {
         "groups": [
          {
           "column": "transfer_count",
           "type": "column"
          }
         ],
         "selects": [
          {
           "column": "transfer_count",
           "type": "column"
          },
          {
           "alias": "column_29df5220283",
           "args": [
            {
             "column": "number_of_patients",
             "type": "column"
            }
           ],
           "function": "SUM",
           "type": "function"
          }
         ]
        }
       },
       "submitTime": 0,
       "subtype": "tableResultSubCmd.visualization",
       "tableResultIndex": 0,
       "tableResultSettingsMap": {},
       "useConsistentColors": false,
       "version": "CommandV1",
       "width": "auto",
       "workflows": [],
       "xColumns": null,
       "yColumns": null
      }
     },
     "output_type": "display_data"
    }
   ],
   "source": [
    "%sql\n",
    "SELECT \n",
    "    transfer_count,\n",
    "    COUNT(*) as number_of_patients,\n",
    "    ROUND(COUNT(*) * 100.0 / (SELECT COUNT(DISTINCT subject_id) FROM mimicdata_2567611159492892.mimic.transfers), 2) as percentage\n",
    "FROM (\n",
    "    SELECT subject_id, COUNT(*) as transfer_count\n",
    "    FROM mimicdata_2567611159492892.mimic.transfers\n",
    "    GROUP BY subject_id\n",
    ") patient_transfers\n",
    "GROUP BY transfer_count\n",
    "ORDER BY transfer_count;"
   ]
  },
  {
   "cell_type": "code",
   "execution_count": 0,
   "metadata": {
    "application/vnd.databricks.v1+cell": {
     "cellMetadata": {
      "byteLimit": 2048000,
      "implicitDf": true,
      "rowLimit": 10000
     },
     "inputWidgets": {},
     "nuid": "51da60f8-8346-47cf-8cf5-f29fb5bd018c",
     "showTitle": true,
     "tableResultSettingsMap": {},
     "title": "ICU UTILIZATION"
    }
   },
   "outputs": [
    {
     "output_type": "display_data",
     "data": {
      "text/html": [
       "<style scoped>\n",
       "  .table-result-container {\n",
       "    max-height: 300px;\n",
       "    overflow: auto;\n",
       "  }\n",
       "  table, th, td {\n",
       "    border: 1px solid black;\n",
       "    border-collapse: collapse;\n",
       "  }\n",
       "  th, td {\n",
       "    padding: 5px;\n",
       "  }\n",
       "  th {\n",
       "    text-align: left;\n",
       "  }\n",
       "</style><div class='table-result-container'><table class='table-result'><thead style='background-color: white'><tr><th>category</th><th>event_count</th><th>percentage</th></tr></thead><tbody><tr><td>ICU Events</td><td>167</td><td>31.87</td></tr><tr><td>Non-ICU Events</td><td>357</td><td>68.13</td></tr></tbody></table></div>"
      ]
     },
     "metadata": {
      "application/vnd.databricks.v1+output": {
       "addedWidgets": {},
       "aggData": [],
       "aggError": "",
       "aggOverflow": false,
       "aggSchema": [],
       "aggSeriesLimitReached": false,
       "aggType": "",
       "arguments": {},
       "columnCustomDisplayInfos": {},
       "data": [
        [
         "ICU Events",
         167,
         "31.87"
        ],
        [
         "Non-ICU Events",
         357,
         "68.13"
        ]
       ],
       "datasetInfos": [],
       "dbfsResultPath": null,
       "isJsonSchema": true,
       "metadata": {
        "dataframeName": "_sqldf",
        "executionCount": 25
       },
       "overflow": false,
       "plotOptions": {
        "customPlotOptions": {},
        "displayType": "table",
        "pivotAggregation": null,
        "pivotColumns": null,
        "xColumns": null,
        "yColumns": null
       },
       "removedWidgets": [],
       "schema": [
        {
         "metadata": "{}",
         "name": "category",
         "type": "\"string\""
        },
        {
         "metadata": "{}",
         "name": "event_count",
         "type": "\"long\""
        },
        {
         "metadata": "{}",
         "name": "percentage",
         "type": "\"decimal(27,2)\""
        }
       ],
       "type": "table"
      }
     },
     "output_type": "display_data"
    },
    {
     "output_type": "display_data",
     "data": {
      "text/plain": [
       "Databricks visualization. Run in Databricks to view."
      ]
     },
     "metadata": {
      "application/vnd.databricks.v1.subcommand+json": {
       "baseErrorDetails": null,
       "bindings": {},
       "collapsed": false,
       "command": "%sql WITH q AS (SELECT \n    'ICU Events' as category,\n    COUNT(*) as event_count,\n    ROUND(COUNT(*) * 100.0 / (SELECT COUNT(*) FROM mimicdata_2567611159492892.mimic.transfers), 2) as percentage\nFROM mimicdata_2567611159492892.mimic.transfers\nWHERE icustay_id IS NOT NULL\n\nUNION ALL\n\nSELECT \n    'Non-ICU Events' as category,\n    COUNT(*) as event_count,\n    ROUND(COUNT(*) * 100.0 / (SELECT COUNT(*) FROM mimicdata_2567611159492892.mimic.transfers), 2) as percentage\nFROM mimicdata_2567611159492892.mimic.transfers\nWHERE icustay_id IS NULL) SELECT `category`,SUM(`percentage`) `column_29df5220292`,SUM(`event_count`) `column_29df5220293`,`category` FROM q GROUP BY `category`",
       "commandTitle": "Visualization 1",
       "commandType": "auto",
       "commandVersion": 0,
       "commentThread": [],
       "commentsVisible": false,
       "contentSha256Hex": null,
       "customPlotOptions": {
        "redashChart": [
         {
          "key": "type",
          "value": "CHART"
         },
         {
          "key": "options",
          "value": {
           "alignYAxesAtZero": true,
           "coefficient": 1,
           "columnConfigurationMap": {
            "series": {
             "column": "category",
             "id": "column_29df5220290"
            },
            "x": {
             "column": "category",
             "id": "column_29df5220291"
            },
            "y": [
             {
              "column": "percentage",
              "id": "column_29df5220292",
              "transform": "SUM"
             },
             {
              "column": "event_count",
              "id": "column_29df5220293",
              "transform": "SUM"
             }
            ]
           },
           "dateTimeFormat": "DD/MM/YYYY HH:mm",
           "direction": {
            "type": "counterclockwise"
           },
           "error_y": {
            "type": "data",
            "visible": true
           },
           "globalSeriesType": "column",
           "isAggregationOn": true,
           "legend": {
            "traceorder": "normal"
           },
           "missingValuesAsZero": true,
           "numberFormat": "0,0.[00000]",
           "percentFormat": "0[.]00%",
           "series": {
            "error_y": {
             "type": "data",
             "visible": true
            },
            "stacking": null
           },
           "seriesOptions": {
            "column_29df5220289": {
             "name": "percentage",
             "type": "column",
             "yAxis": 0
            },
            "column_29df5220292": {
             "type": "column",
             "yAxis": 0
            },
            "column_29df5220293": {
             "type": "column",
             "yAxis": 0
            },
            "event_count": {
             "type": "column",
             "yAxis": 0
            },
            "percentage": {
             "type": "column",
             "yAxis": 0
            }
           },
           "showDataLabels": false,
           "sizemode": "diameter",
           "sortX": true,
           "sortY": true,
           "swappedAxes": false,
           "textFormat": "",
           "useAggregationsUi": true,
           "valuesOptions": {},
           "version": 2,
           "xAxis": {
            "labels": {
             "enabled": true
            },
            "type": "-"
           },
           "yAxis": [
            {
             "type": "-"
            },
            {
             "opposite": true,
             "type": "-"
            }
           ]
          }
         }
        ]
       },
       "datasetPreviewNameToCmdIdMap": {},
       "diffDeletes": [],
       "diffInserts": [],
       "displayType": "redashChart",
       "error": null,
       "errorDetails": null,
       "errorSummary": null,
       "errorTraceType": null,
       "finishTime": 0,
       "globalVars": {},
       "guid": "",
       "height": "auto",
       "hideCommandCode": false,
       "hideCommandResult": false,
       "iPythonMetadata": null,
       "inputWidgets": {},
       "isLockedInExamMode": false,
       "latestUser": "a user",
       "latestUserId": null,
       "listResultMetadata": null,
       "metadata": {},
       "nuid": "cdfa5e0c-3d24-41a8-b00c-a72b1ec42e0f",
       "origId": 0,
       "parentHierarchy": [],
       "pivotAggregation": null,
       "pivotColumns": null,
       "position": 16.0,
       "resultDbfsErrorMessage": null,
       "resultDbfsStatus": "INLINED_IN_TREE",
       "results": null,
       "showCommandTitle": false,
       "startTime": 0,
       "state": "input",
       "streamStates": {},
       "subcommandOptions": {
        "queryPlan": {
         "groups": [
          {
           "column": "category",
           "type": "column"
          },
          {
           "column": "category",
           "type": "column"
          }
         ],
         "selects": [
          {
           "column": "category",
           "type": "column"
          },
          {
           "alias": "column_29df5220292",
           "args": [
            {
             "column": "percentage",
             "type": "column"
            }
           ],
           "function": "SUM",
           "type": "function"
          },
          {
           "alias": "column_29df5220293",
           "args": [
            {
             "column": "event_count",
             "type": "column"
            }
           ],
           "function": "SUM",
           "type": "function"
          },
          {
           "column": "category",
           "type": "column"
          }
         ]
        }
       },
       "submitTime": 0,
       "subtype": "tableResultSubCmd.visualization",
       "tableResultIndex": 0,
       "tableResultSettingsMap": {},
       "useConsistentColors": false,
       "version": "CommandV1",
       "width": "auto",
       "workflows": [],
       "xColumns": null,
       "yColumns": null
      }
     },
     "output_type": "display_data"
    }
   ],
   "source": [
    "%sql\n",
    "SELECT \n",
    "    'ICU Events' as category,\n",
    "    COUNT(*) as event_count,\n",
    "    ROUND(COUNT(*) * 100.0 / (SELECT COUNT(*) FROM mimicdata_2567611159492892.mimic.transfers), 2) as percentage\n",
    "FROM mimicdata_2567611159492892.mimic.transfers\n",
    "WHERE icustay_id IS NOT NULL\n",
    "\n",
    "UNION ALL\n",
    "\n",
    "SELECT \n",
    "    'Non-ICU Events' as category,\n",
    "    COUNT(*) as event_count,\n",
    "    ROUND(COUNT(*) * 100.0 / (SELECT COUNT(*) FROM mimicdata_2567611159492892.mimic.transfers), 2) as percentage\n",
    "FROM mimicdata_2567611159492892.mimic.transfers\n",
    "WHERE icustay_id IS NULL;"
   ]
  },
  {
   "cell_type": "code",
   "execution_count": 0,
   "metadata": {
    "application/vnd.databricks.v1+cell": {
     "cellMetadata": {
      "byteLimit": 2048000,
      "implicitDf": true,
      "rowLimit": 10000
     },
     "inputWidgets": {},
     "nuid": "138cbdfe-7803-4d4b-b52d-6c776629cfc8",
     "showTitle": true,
     "tableResultSettingsMap": {},
     "title": "READMISSION ANALYSIS"
    }
   },
   "outputs": [
    {
     "output_type": "display_data",
     "data": {
      "text/html": [
       "<style scoped>\n",
       "  .table-result-container {\n",
       "    max-height: 300px;\n",
       "    overflow: auto;\n",
       "  }\n",
       "  table, th, td {\n",
       "    border: 1px solid black;\n",
       "    border-collapse: collapse;\n",
       "  }\n",
       "  th, td {\n",
       "    padding: 5px;\n",
       "  }\n",
       "  th {\n",
       "    text-align: left;\n",
       "  }\n",
       "</style><div class='table-result-container'><table class='table-result'><thead style='background-color: white'><tr><th>subject_id</th><th>hospital_admissions</th><th>total_events</th><th>first_admission</th><th>last_event</th></tr></thead><tbody><tr><td>41976</td><td>15</td><td>53</td><td>2198-10-29T06:55:20Z</td><td>2202-10-11T18:30:49Z</td></tr><tr><td>44083</td><td>3</td><td>15</td><td>2112-05-04T01:45:43Z</td><td>2112-06-07T16:54:04Z</td></tr><tr><td>10088</td><td>3</td><td>10</td><td>2107-01-05T00:03:45Z</td><td>2107-05-18T13:29:09Z</td></tr><tr><td>10117</td><td>2</td><td>15</td><td>2138-06-05T17:23:00Z</td><td>2138-11-18T23:13:16Z</td></tr><tr><td>10124</td><td>2</td><td>12</td><td>2192-03-26T15:31:25Z</td><td>2192-05-15T23:34:21Z</td></tr><tr><td>10119</td><td>2</td><td>12</td><td>2117-08-05T18:28:22Z</td><td>2117-08-26T13:59:40Z</td></tr><tr><td>42135</td><td>2</td><td>10</td><td>2127-07-23T15:22:08Z</td><td>2127-10-28T06:57:19Z</td></tr><tr><td>40310</td><td>2</td><td>9</td><td>2144-07-11T15:02:58Z</td><td>2144-12-31T21:02:59Z</td></tr><tr><td>40124</td><td>2</td><td>9</td><td>2130-02-04T02:27:27Z</td><td>2130-08-18T15:27:55Z</td></tr><tr><td>10094</td><td>2</td><td>8</td><td>2180-02-29T18:54:39Z</td><td>2180-03-20T19:34:49Z</td></tr><tr><td>41795</td><td>2</td><td>8</td><td>2145-07-07T01:21:16Z</td><td>2145-09-09T16:27:09Z</td></tr><tr><td>42346</td><td>2</td><td>7</td><td>2160-12-16T13:47:43Z</td><td>2160-12-27T11:13:47Z</td></tr><tr><td>10059</td><td>2</td><td>7</td><td>2150-08-07T21:41:28Z</td><td>2150-08-29T20:09:50Z</td></tr><tr><td>43881</td><td>2</td><td>6</td><td>2104-09-24T17:31:48Z</td><td>2104-10-28T15:06:13Z</td></tr></tbody></table></div>"
      ]
     },
     "metadata": {
      "application/vnd.databricks.v1+output": {
       "addedWidgets": {},
       "aggData": [],
       "aggError": "",
       "aggOverflow": false,
       "aggSchema": [],
       "aggSeriesLimitReached": false,
       "aggType": "",
       "arguments": {},
       "columnCustomDisplayInfos": {},
       "data": [
        [
         41976,
         15,
         53,
         "2198-10-29T06:55:20Z",
         "2202-10-11T18:30:49Z"
        ],
        [
         44083,
         3,
         15,
         "2112-05-04T01:45:43Z",
         "2112-06-07T16:54:04Z"
        ],
        [
         10088,
         3,
         10,
         "2107-01-05T00:03:45Z",
         "2107-05-18T13:29:09Z"
        ],
        [
         10117,
         2,
         15,
         "2138-06-05T17:23:00Z",
         "2138-11-18T23:13:16Z"
        ],
        [
         10124,
         2,
         12,
         "2192-03-26T15:31:25Z",
         "2192-05-15T23:34:21Z"
        ],
        [
         10119,
         2,
         12,
         "2117-08-05T18:28:22Z",
         "2117-08-26T13:59:40Z"
        ],
        [
         42135,
         2,
         10,
         "2127-07-23T15:22:08Z",
         "2127-10-28T06:57:19Z"
        ],
        [
         40310,
         2,
         9,
         "2144-07-11T15:02:58Z",
         "2144-12-31T21:02:59Z"
        ],
        [
         40124,
         2,
         9,
         "2130-02-04T02:27:27Z",
         "2130-08-18T15:27:55Z"
        ],
        [
         10094,
         2,
         8,
         "2180-02-29T18:54:39Z",
         "2180-03-20T19:34:49Z"
        ],
        [
         41795,
         2,
         8,
         "2145-07-07T01:21:16Z",
         "2145-09-09T16:27:09Z"
        ],
        [
         42346,
         2,
         7,
         "2160-12-16T13:47:43Z",
         "2160-12-27T11:13:47Z"
        ],
        [
         10059,
         2,
         7,
         "2150-08-07T21:41:28Z",
         "2150-08-29T20:09:50Z"
        ],
        [
         43881,
         2,
         6,
         "2104-09-24T17:31:48Z",
         "2104-10-28T15:06:13Z"
        ]
       ],
       "datasetInfos": [],
       "dbfsResultPath": null,
       "isJsonSchema": true,
       "metadata": {
        "dataframeName": "_sqldf",
        "executionCount": 27
       },
       "overflow": false,
       "plotOptions": {
        "customPlotOptions": {},
        "displayType": "table",
        "pivotAggregation": null,
        "pivotColumns": null,
        "xColumns": null,
        "yColumns": null
       },
       "removedWidgets": [],
       "schema": [
        {
         "metadata": "{}",
         "name": "subject_id",
         "type": "\"integer\""
        },
        {
         "metadata": "{}",
         "name": "hospital_admissions",
         "type": "\"long\""
        },
        {
         "metadata": "{}",
         "name": "total_events",
         "type": "\"long\""
        },
        {
         "metadata": "{}",
         "name": "first_admission",
         "type": "\"timestamp\""
        },
        {
         "metadata": "{}",
         "name": "last_event",
         "type": "\"timestamp\""
        }
       ],
       "type": "table"
      }
     },
     "output_type": "display_data"
    }
   ],
   "source": [
    "%sql\n",
    "SELECT \n",
    "    subject_id,\n",
    "    COUNT(DISTINCT hadm_id) as hospital_admissions,\n",
    "    COUNT(*) as total_events,\n",
    "    MIN(intime) as first_admission,\n",
    "    MAX(intime) as last_event\n",
    "FROM mimicdata_2567611159492892.mimic.transfers\n",
    "GROUP BY subject_id\n",
    "HAVING COUNT(DISTINCT hadm_id) > 1\n",
    "ORDER BY hospital_admissions DESC, total_events DESC;"
   ]
  },
  {
   "cell_type": "code",
   "execution_count": 0,
   "metadata": {
    "application/vnd.databricks.v1+cell": {
     "cellMetadata": {
      "byteLimit": 2048000,
      "implicitDf": true,
      "rowLimit": 10000
     },
     "inputWidgets": {},
     "nuid": "3721cfc9-6f79-4688-bfd4-fc06b0769fc3",
     "showTitle": true,
     "tableResultSettingsMap": {},
     "title": "INTER-WARD TRANSFER"
    }
   },
   "outputs": [
    {
     "output_type": "display_data",
     "data": {
      "text/html": [
       "<style scoped>\n",
       "  .table-result-container {\n",
       "    max-height: 300px;\n",
       "    overflow: auto;\n",
       "  }\n",
       "  table, th, td {\n",
       "    border: 1px solid black;\n",
       "    border-collapse: collapse;\n",
       "  }\n",
       "  th, td {\n",
       "    padding: 5px;\n",
       "  }\n",
       "  th {\n",
       "    text-align: left;\n",
       "  }\n",
       "</style><div class='table-result-container'><table class='table-result'><thead style='background-color: white'><tr><th>transfer_type</th><th>transfer_count</th></tr></thead><tbody><tr><td>Same Ward Transfers</td><td>65</td></tr><tr><td>Different Ward Transfers</td><td>201</td></tr></tbody></table></div>"
      ]
     },
     "metadata": {
      "application/vnd.databricks.v1+output": {
       "addedWidgets": {},
       "aggData": [],
       "aggError": "",
       "aggOverflow": false,
       "aggSchema": [],
       "aggSeriesLimitReached": false,
       "aggType": "",
       "arguments": {},
       "columnCustomDisplayInfos": {},
       "data": [
        [
         "Same Ward Transfers",
         65
        ],
        [
         "Different Ward Transfers",
         201
        ]
       ],
       "datasetInfos": [],
       "dbfsResultPath": null,
       "isJsonSchema": true,
       "metadata": {
        "dataframeName": "_sqldf",
        "executionCount": 29
       },
       "overflow": false,
       "plotOptions": {
        "customPlotOptions": {},
        "displayType": "table",
        "pivotAggregation": null,
        "pivotColumns": null,
        "xColumns": null,
        "yColumns": null
       },
       "removedWidgets": [],
       "schema": [
        {
         "metadata": "{}",
         "name": "transfer_type",
         "type": "\"string\""
        },
        {
         "metadata": "{}",
         "name": "transfer_count",
         "type": "\"long\""
        }
       ],
       "type": "table"
      }
     },
     "output_type": "display_data"
    },
    {
     "output_type": "display_data",
     "data": {
      "text/plain": [
       "Databricks visualization. Run in Databricks to view."
      ]
     },
     "metadata": {
      "application/vnd.databricks.v1.subcommand+json": {
       "baseErrorDetails": null,
       "bindings": {},
       "collapsed": false,
       "command": "%sql WITH q AS (SELECT \n    'Same Ward Transfers' as transfer_type,\n    COUNT(*) as transfer_count\nFROM mimicdata_2567611159492892.mimic.transfers\nWHERE eventtype = 'transfer' \n    AND prev_wardid IS NOT NULL \n    AND curr_wardid IS NOT NULL\n    AND prev_wardid = curr_wardid\n\nUNION ALL\n\nSELECT \n    'Different Ward Transfers' as transfer_type,\n    COUNT(*) as transfer_count\nFROM mimicdata_2567611159492892.mimic.transfers\nWHERE eventtype = 'transfer' \n    AND prev_wardid IS NOT NULL \n    AND curr_wardid IS NOT NULL\n    AND prev_wardid != curr_wardid) SELECT `transfer_type`,SUM(`transfer_count`) `column_29df5220297` FROM q GROUP BY `transfer_type`",
       "commandTitle": "Visualization 1",
       "commandType": "auto",
       "commandVersion": 0,
       "commentThread": [],
       "commentsVisible": false,
       "contentSha256Hex": null,
       "customPlotOptions": {
        "redashChart": [
         {
          "key": "type",
          "value": "CHART"
         },
         {
          "key": "options",
          "value": {
           "alignYAxesAtZero": true,
           "coefficient": 1,
           "columnConfigurationMap": {
            "x": {
             "column": "transfer_type",
             "id": "column_29df5220296"
            },
            "y": [
             {
              "column": "transfer_count",
              "id": "column_29df5220297",
              "transform": "SUM"
             }
            ]
           },
           "dateTimeFormat": "DD/MM/YYYY HH:mm",
           "direction": {
            "type": "counterclockwise"
           },
           "error_y": {
            "type": "data",
            "visible": true
           },
           "globalSeriesType": "column",
           "isAggregationOn": true,
           "legend": {
            "traceorder": "normal"
           },
           "missingValuesAsZero": true,
           "numberFormat": "0,0.[00000]",
           "percentFormat": "0[.]00%",
           "series": {
            "error_y": {
             "type": "data",
             "visible": true
            },
            "stacking": null
           },
           "seriesOptions": {
            "column_29df5220297": {
             "color": "#99DDB4",
             "name": "transfer_count",
             "yAxis": 0
            }
           },
           "showDataLabels": false,
           "sizemode": "diameter",
           "sortX": true,
           "sortY": true,
           "swappedAxes": false,
           "textFormat": "",
           "useAggregationsUi": true,
           "valuesOptions": {},
           "version": 2,
           "xAxis": {
            "labels": {
             "enabled": true
            },
            "type": "-"
           },
           "yAxis": [
            {
             "type": "-"
            },
            {
             "opposite": true,
             "type": "-"
            }
           ]
          }
         }
        ]
       },
       "datasetPreviewNameToCmdIdMap": {},
       "diffDeletes": [],
       "diffInserts": [],
       "displayType": "redashChart",
       "error": null,
       "errorDetails": null,
       "errorSummary": null,
       "errorTraceType": null,
       "finishTime": 0,
       "globalVars": {},
       "guid": "",
       "height": "auto",
       "hideCommandCode": false,
       "hideCommandResult": false,
       "iPythonMetadata": null,
       "inputWidgets": {},
       "isLockedInExamMode": false,
       "latestUser": "a user",
       "latestUserId": null,
       "listResultMetadata": null,
       "metadata": {},
       "nuid": "c8ed6553-68ff-4a2d-b4fb-8ea897bdd3eb",
       "origId": 0,
       "parentHierarchy": [],
       "pivotAggregation": null,
       "pivotColumns": null,
       "position": 18.0,
       "resultDbfsErrorMessage": null,
       "resultDbfsStatus": "INLINED_IN_TREE",
       "results": null,
       "showCommandTitle": false,
       "startTime": 0,
       "state": "input",
       "streamStates": {},
       "subcommandOptions": {
        "queryPlan": {
         "groups": [
          {
           "column": "transfer_type",
           "type": "column"
          }
         ],
         "selects": [
          {
           "column": "transfer_type",
           "type": "column"
          },
          {
           "alias": "column_29df5220297",
           "args": [
            {
             "column": "transfer_count",
             "type": "column"
            }
           ],
           "function": "SUM",
           "type": "function"
          }
         ]
        }
       },
       "submitTime": 0,
       "subtype": "tableResultSubCmd.visualization",
       "tableResultIndex": 0,
       "tableResultSettingsMap": {},
       "useConsistentColors": false,
       "version": "CommandV1",
       "width": "auto",
       "workflows": [],
       "xColumns": null,
       "yColumns": null
      }
     },
     "output_type": "display_data"
    }
   ],
   "source": [
    "%sql\n",
    "SELECT \n",
    "    'Same Ward Transfers' as transfer_type,\n",
    "    COUNT(*) as transfer_count\n",
    "FROM mimicdata_2567611159492892.mimic.transfers\n",
    "WHERE eventtype = 'transfer' \n",
    "    AND prev_wardid IS NOT NULL \n",
    "    AND curr_wardid IS NOT NULL\n",
    "    AND prev_wardid = curr_wardid\n",
    "\n",
    "UNION ALL\n",
    "\n",
    "SELECT \n",
    "    'Different Ward Transfers' as transfer_type,\n",
    "    COUNT(*) as transfer_count\n",
    "FROM mimicdata_2567611159492892.mimic.transfers\n",
    "WHERE eventtype = 'transfer' \n",
    "    AND prev_wardid IS NOT NULL \n",
    "    AND curr_wardid IS NOT NULL\n",
    "    AND prev_wardid != curr_wardid;\n"
   ]
  },
  {
   "cell_type": "code",
   "execution_count": 0,
   "metadata": {
    "application/vnd.databricks.v1+cell": {
     "cellMetadata": {
      "byteLimit": 2048000,
      "implicitDf": true,
      "rowLimit": 10000
     },
     "inputWidgets": {},
     "nuid": "41b7036a-7698-43f6-af78-055d664801e0",
     "showTitle": true,
     "tableResultSettingsMap": {},
     "title": "Hour of Day(TRANSFER TIMING)"
    }
   },
   "outputs": [
    {
     "output_type": "display_data",
     "data": {
      "text/html": [
       "<style scoped>\n",
       "  .table-result-container {\n",
       "    max-height: 300px;\n",
       "    overflow: auto;\n",
       "  }\n",
       "  table, th, td {\n",
       "    border: 1px solid black;\n",
       "    border-collapse: collapse;\n",
       "  }\n",
       "  th, td {\n",
       "    padding: 5px;\n",
       "  }\n",
       "  th {\n",
       "    text-align: left;\n",
       "  }\n",
       "</style><div class='table-result-container'><table class='table-result'><thead style='background-color: white'><tr><th>hour_of_day</th><th>eventtype</th><th>transfer_count</th></tr></thead><tbody><tr><td>0</td><td>admit</td><td>7</td></tr><tr><td>0</td><td>transfer</td><td>5</td></tr><tr><td>1</td><td>admit</td><td>4</td></tr><tr><td>1</td><td>discharge</td><td>2</td></tr><tr><td>1</td><td>transfer</td><td>7</td></tr><tr><td>2</td><td>admit</td><td>5</td></tr><tr><td>2</td><td>discharge</td><td>1</td></tr><tr><td>2</td><td>transfer</td><td>6</td></tr><tr><td>3</td><td>admit</td><td>4</td></tr><tr><td>3</td><td>discharge</td><td>3</td></tr><tr><td>3</td><td>transfer</td><td>8</td></tr><tr><td>4</td><td>admit</td><td>2</td></tr><tr><td>4</td><td>discharge</td><td>2</td></tr><tr><td>4</td><td>transfer</td><td>3</td></tr><tr><td>5</td><td>admit</td><td>4</td></tr><tr><td>5</td><td>transfer</td><td>2</td></tr><tr><td>6</td><td>admit</td><td>4</td></tr><tr><td>6</td><td>discharge</td><td>7</td></tr><tr><td>6</td><td>transfer</td><td>3</td></tr><tr><td>7</td><td>admit</td><td>1</td></tr><tr><td>7</td><td>transfer</td><td>3</td></tr><tr><td>8</td><td>admit</td><td>2</td></tr><tr><td>8</td><td>transfer</td><td>7</td></tr><tr><td>9</td><td>admit</td><td>1</td></tr><tr><td>9</td><td>discharge</td><td>1</td></tr><tr><td>9</td><td>transfer</td><td>4</td></tr><tr><td>10</td><td>admit</td><td>3</td></tr><tr><td>10</td><td>discharge</td><td>1</td></tr><tr><td>10</td><td>transfer</td><td>7</td></tr><tr><td>11</td><td>admit</td><td>4</td></tr><tr><td>11</td><td>discharge</td><td>8</td></tr><tr><td>11</td><td>transfer</td><td>9</td></tr><tr><td>12</td><td>admit</td><td>3</td></tr><tr><td>12</td><td>discharge</td><td>3</td></tr><tr><td>12</td><td>transfer</td><td>16</td></tr><tr><td>13</td><td>admit</td><td>4</td></tr><tr><td>13</td><td>discharge</td><td>8</td></tr><tr><td>13</td><td>transfer</td><td>14</td></tr><tr><td>14</td><td>admit</td><td>7</td></tr><tr><td>14</td><td>discharge</td><td>22</td></tr><tr><td>14</td><td>transfer</td><td>16</td></tr><tr><td>15</td><td>admit</td><td>6</td></tr><tr><td>15</td><td>discharge</td><td>16</td></tr><tr><td>15</td><td>transfer</td><td>24</td></tr><tr><td>16</td><td>admit</td><td>11</td></tr><tr><td>16</td><td>discharge</td><td>16</td></tr><tr><td>16</td><td>transfer</td><td>20</td></tr><tr><td>17</td><td>admit</td><td>11</td></tr><tr><td>17</td><td>discharge</td><td>14</td></tr><tr><td>17</td><td>transfer</td><td>31</td></tr><tr><td>18</td><td>admit</td><td>10</td></tr><tr><td>18</td><td>discharge</td><td>9</td></tr><tr><td>18</td><td>transfer</td><td>23</td></tr><tr><td>19</td><td>admit</td><td>7</td></tr><tr><td>19</td><td>discharge</td><td>6</td></tr><tr><td>19</td><td>transfer</td><td>10</td></tr><tr><td>20</td><td>admit</td><td>8</td></tr><tr><td>20</td><td>discharge</td><td>5</td></tr><tr><td>20</td><td>transfer</td><td>14</td></tr><tr><td>21</td><td>admit</td><td>8</td></tr><tr><td>21</td><td>discharge</td><td>1</td></tr><tr><td>21</td><td>transfer</td><td>14</td></tr><tr><td>22</td><td>admit</td><td>7</td></tr><tr><td>22</td><td>discharge</td><td>1</td></tr><tr><td>22</td><td>transfer</td><td>13</td></tr><tr><td>23</td><td>admit</td><td>6</td></tr><tr><td>23</td><td>discharge</td><td>3</td></tr><tr><td>23</td><td>transfer</td><td>7</td></tr></tbody></table></div>"
      ]
     },
     "metadata": {
      "application/vnd.databricks.v1+output": {
       "addedWidgets": {},
       "aggData": [],
       "aggError": "",
       "aggOverflow": false,
       "aggSchema": [],
       "aggSeriesLimitReached": false,
       "aggType": "",
       "arguments": {},
       "columnCustomDisplayInfos": {},
       "data": [
        [
         0,
         "admit",
         7
        ],
        [
         0,
         "transfer",
         5
        ],
        [
         1,
         "admit",
         4
        ],
        [
         1,
         "discharge",
         2
        ],
        [
         1,
         "transfer",
         7
        ],
        [
         2,
         "admit",
         5
        ],
        [
         2,
         "discharge",
         1
        ],
        [
         2,
         "transfer",
         6
        ],
        [
         3,
         "admit",
         4
        ],
        [
         3,
         "discharge",
         3
        ],
        [
         3,
         "transfer",
         8
        ],
        [
         4,
         "admit",
         2
        ],
        [
         4,
         "discharge",
         2
        ],
        [
         4,
         "transfer",
         3
        ],
        [
         5,
         "admit",
         4
        ],
        [
         5,
         "transfer",
         2
        ],
        [
         6,
         "admit",
         4
        ],
        [
         6,
         "discharge",
         7
        ],
        [
         6,
         "transfer",
         3
        ],
        [
         7,
         "admit",
         1
        ],
        [
         7,
         "transfer",
         3
        ],
        [
         8,
         "admit",
         2
        ],
        [
         8,
         "transfer",
         7
        ],
        [
         9,
         "admit",
         1
        ],
        [
         9,
         "discharge",
         1
        ],
        [
         9,
         "transfer",
         4
        ],
        [
         10,
         "admit",
         3
        ],
        [
         10,
         "discharge",
         1
        ],
        [
         10,
         "transfer",
         7
        ],
        [
         11,
         "admit",
         4
        ],
        [
         11,
         "discharge",
         8
        ],
        [
         11,
         "transfer",
         9
        ],
        [
         12,
         "admit",
         3
        ],
        [
         12,
         "discharge",
         3
        ],
        [
         12,
         "transfer",
         16
        ],
        [
         13,
         "admit",
         4
        ],
        [
         13,
         "discharge",
         8
        ],
        [
         13,
         "transfer",
         14
        ],
        [
         14,
         "admit",
         7
        ],
        [
         14,
         "discharge",
         22
        ],
        [
         14,
         "transfer",
         16
        ],
        [
         15,
         "admit",
         6
        ],
        [
         15,
         "discharge",
         16
        ],
        [
         15,
         "transfer",
         24
        ],
        [
         16,
         "admit",
         11
        ],
        [
         16,
         "discharge",
         16
        ],
        [
         16,
         "transfer",
         20
        ],
        [
         17,
         "admit",
         11
        ],
        [
         17,
         "discharge",
         14
        ],
        [
         17,
         "transfer",
         31
        ],
        [
         18,
         "admit",
         10
        ],
        [
         18,
         "discharge",
         9
        ],
        [
         18,
         "transfer",
         23
        ],
        [
         19,
         "admit",
         7
        ],
        [
         19,
         "discharge",
         6
        ],
        [
         19,
         "transfer",
         10
        ],
        [
         20,
         "admit",
         8
        ],
        [
         20,
         "discharge",
         5
        ],
        [
         20,
         "transfer",
         14
        ],
        [
         21,
         "admit",
         8
        ],
        [
         21,
         "discharge",
         1
        ],
        [
         21,
         "transfer",
         14
        ],
        [
         22,
         "admit",
         7
        ],
        [
         22,
         "discharge",
         1
        ],
        [
         22,
         "transfer",
         13
        ],
        [
         23,
         "admit",
         6
        ],
        [
         23,
         "discharge",
         3
        ],
        [
         23,
         "transfer",
         7
        ]
       ],
       "datasetInfos": [],
       "dbfsResultPath": null,
       "isJsonSchema": true,
       "metadata": {
        "dataframeName": "_sqldf",
        "executionCount": 31
       },
       "overflow": false,
       "plotOptions": {
        "customPlotOptions": {},
        "displayType": "table",
        "pivotAggregation": null,
        "pivotColumns": null,
        "xColumns": null,
        "yColumns": null
       },
       "removedWidgets": [],
       "schema": [
        {
         "metadata": "{}",
         "name": "hour_of_day",
         "type": "\"integer\""
        },
        {
         "metadata": "{}",
         "name": "eventtype",
         "type": "\"string\""
        },
        {
         "metadata": "{}",
         "name": "transfer_count",
         "type": "\"long\""
        }
       ],
       "type": "table"
      }
     },
     "output_type": "display_data"
    },
    {
     "output_type": "display_data",
     "data": {
      "text/plain": [
       "Databricks visualization. Run in Databricks to view."
      ]
     },
     "metadata": {
      "application/vnd.databricks.v1.subcommand+json": {
       "baseErrorDetails": null,
       "bindings": {},
       "collapsed": false,
       "command": "%sql WITH q AS (SELECT \n    EXTRACT(HOUR FROM intime) as hour_of_day,\n    eventtype,\n    COUNT(*) as transfer_count\nFROM mimicdata_2567611159492892.mimic.transfers\nWHERE intime IS NOT NULL\nGROUP BY EXTRACT(HOUR FROM intime), eventtype\nORDER BY hour_of_day, eventtype) SELECT `eventtype`,SUM(`transfer_count`) `column_29df5220300`,SUM(`hour_of_day`) `column_29df5220305`,`eventtype` FROM q GROUP BY `eventtype`",
       "commandTitle": "Visualization 1",
       "commandType": "auto",
       "commandVersion": 0,
       "commentThread": [],
       "commentsVisible": false,
       "contentSha256Hex": null,
       "customPlotOptions": {
        "redashChart": [
         {
          "key": "type",
          "value": "CHART"
         },
         {
          "key": "options",
          "value": {
           "alignYAxesAtZero": true,
           "coefficient": 1,
           "columnConfigurationMap": {
            "series": {
             "column": "eventtype",
             "id": "column_29df5220301"
            },
            "x": {
             "column": "eventtype",
             "id": "column_29df5220303"
            },
            "y": [
             {
              "column": "transfer_count",
              "id": "column_29df5220300",
              "transform": "SUM"
             },
             {
              "column": "hour_of_day",
              "id": "column_29df5220305",
              "transform": "SUM"
             }
            ]
           },
           "dateTimeFormat": "DD/MM/YYYY HH:mm",
           "direction": {
            "type": "counterclockwise"
           },
           "error_y": {
            "type": "data",
            "visible": true
           },
           "globalSeriesType": "column",
           "isAggregationOn": true,
           "legend": {
            "traceorder": "normal"
           },
           "missingValuesAsZero": true,
           "numberFormat": "0,0.[00000]",
           "percentFormat": "0[.]00%",
           "series": {
            "error_y": {
             "type": "data",
             "visible": true
            },
            "stacking": null
           },
           "seriesOptions": {
            "column_29df5220300": {
             "name": "transfer_count",
             "type": "column",
             "yAxis": 0
            },
            "column_29df5220305": {
             "type": "column",
             "yAxis": 0
            }
           },
           "showDataLabels": false,
           "sizemode": "diameter",
           "sortX": true,
           "sortY": true,
           "swappedAxes": false,
           "textFormat": "",
           "useAggregationsUi": true,
           "valuesOptions": {},
           "version": 2,
           "xAxis": {
            "labels": {
             "enabled": true
            },
            "type": "-"
           },
           "yAxis": [
            {
             "type": "-"
            },
            {
             "opposite": true,
             "type": "-"
            }
           ]
          }
         }
        ]
       },
       "datasetPreviewNameToCmdIdMap": {},
       "diffDeletes": [],
       "diffInserts": [],
       "displayType": "redashChart",
       "error": null,
       "errorDetails": null,
       "errorSummary": null,
       "errorTraceType": null,
       "finishTime": 0,
       "globalVars": {},
       "guid": "",
       "height": "auto",
       "hideCommandCode": false,
       "hideCommandResult": false,
       "iPythonMetadata": null,
       "inputWidgets": {},
       "isLockedInExamMode": false,
       "latestUser": "a user",
       "latestUserId": null,
       "listResultMetadata": null,
       "metadata": {},
       "nuid": "d8000354-f3a9-4659-a468-cf84169fc252",
       "origId": 0,
       "parentHierarchy": [],
       "pivotAggregation": null,
       "pivotColumns": null,
       "position": 19.0,
       "resultDbfsErrorMessage": null,
       "resultDbfsStatus": "INLINED_IN_TREE",
       "results": null,
       "showCommandTitle": false,
       "startTime": 0,
       "state": "input",
       "streamStates": {},
       "subcommandOptions": {
        "queryPlan": {
         "groups": [
          {
           "column": "eventtype",
           "type": "column"
          },
          {
           "column": "eventtype",
           "type": "column"
          }
         ],
         "selects": [
          {
           "column": "eventtype",
           "type": "column"
          },
          {
           "alias": "column_29df5220300",
           "args": [
            {
             "column": "transfer_count",
             "type": "column"
            }
           ],
           "function": "SUM",
           "type": "function"
          },
          {
           "alias": "column_29df5220305",
           "args": [
            {
             "column": "hour_of_day",
             "type": "column"
            }
           ],
           "function": "SUM",
           "type": "function"
          },
          {
           "column": "eventtype",
           "type": "column"
          }
         ]
        }
       },
       "submitTime": 0,
       "subtype": "tableResultSubCmd.visualization",
       "tableResultIndex": 0,
       "tableResultSettingsMap": {},
       "useConsistentColors": false,
       "version": "CommandV1",
       "width": "auto",
       "workflows": [],
       "xColumns": null,
       "yColumns": null
      }
     },
     "output_type": "display_data"
    }
   ],
   "source": [
    "%sql\n",
    "SELECT \n",
    "    EXTRACT(HOUR FROM intime) as hour_of_day,\n",
    "    eventtype,\n",
    "    COUNT(*) as transfer_count\n",
    "FROM mimicdata_2567611159492892.mimic.transfers\n",
    "WHERE intime IS NOT NULL\n",
    "GROUP BY EXTRACT(HOUR FROM intime), eventtype\n",
    "ORDER BY hour_of_day, eventtype;\n"
   ]
  },
  {
   "cell_type": "code",
   "execution_count": 0,
   "metadata": {
    "application/vnd.databricks.v1+cell": {
     "cellMetadata": {
      "byteLimit": 2048000,
      "implicitDf": true,
      "rowLimit": 10000
     },
     "inputWidgets": {},
     "nuid": "71c594f8-4903-4792-831f-6ee5616b1210",
     "showTitle": true,
     "tableResultSettingsMap": {},
     "title": "DATA SOURCE"
    }
   },
   "outputs": [
    {
     "output_type": "display_data",
     "data": {
      "text/html": [
       "<style scoped>\n",
       "  .table-result-container {\n",
       "    max-height: 300px;\n",
       "    overflow: auto;\n",
       "  }\n",
       "  table, th, td {\n",
       "    border: 1px solid black;\n",
       "    border-collapse: collapse;\n",
       "  }\n",
       "  th, td {\n",
       "    padding: 5px;\n",
       "  }\n",
       "  th {\n",
       "    text-align: left;\n",
       "  }\n",
       "</style><div class='table-result-container'><table class='table-result'><thead style='background-color: white'><tr><th>dbsource</th><th>eventtype</th><th>record_count</th><th>los_completeness_pct</th><th>careunit_completeness_pct</th></tr></thead><tbody><tr><td>carevue</td><td>admit</td><td>57</td><td>100.00</td><td>59.65</td></tr><tr><td>carevue</td><td>discharge</td><td>57</td><td>0.00</td><td>0.00</td></tr><tr><td>carevue</td><td>transfer</td><td>123</td><td>100.00</td><td>29.27</td></tr><tr><td>metavision</td><td>admit</td><td>72</td><td>100.00</td><td>72.22</td></tr><tr><td>metavision</td><td>discharge</td><td>72</td><td>0.00</td><td>0.00</td></tr><tr><td>metavision</td><td>transfer</td><td>143</td><td>100.00</td><td>31.47</td></tr></tbody></table></div>"
      ]
     },
     "metadata": {
      "application/vnd.databricks.v1+output": {
       "addedWidgets": {},
       "aggData": [],
       "aggError": "",
       "aggOverflow": false,
       "aggSchema": [],
       "aggSeriesLimitReached": false,
       "aggType": "",
       "arguments": {},
       "columnCustomDisplayInfos": {},
       "data": [
        [
         "carevue",
         "admit",
         57,
         "100.00",
         "59.65"
        ],
        [
         "carevue",
         "discharge",
         57,
         "0.00",
         "0.00"
        ],
        [
         "carevue",
         "transfer",
         123,
         "100.00",
         "29.27"
        ],
        [
         "metavision",
         "admit",
         72,
         "100.00",
         "72.22"
        ],
        [
         "metavision",
         "discharge",
         72,
         "0.00",
         "0.00"
        ],
        [
         "metavision",
         "transfer",
         143,
         "100.00",
         "31.47"
        ]
       ],
       "datasetInfos": [],
       "dbfsResultPath": null,
       "isJsonSchema": true,
       "metadata": {
        "dataframeName": "_sqldf",
        "executionCount": 33
       },
       "overflow": false,
       "plotOptions": {
        "customPlotOptions": {},
        "displayType": "table",
        "pivotAggregation": null,
        "pivotColumns": null,
        "xColumns": null,
        "yColumns": null
       },
       "removedWidgets": [],
       "schema": [
        {
         "metadata": "{}",
         "name": "dbsource",
         "type": "\"string\""
        },
        {
         "metadata": "{}",
         "name": "eventtype",
         "type": "\"string\""
        },
        {
         "metadata": "{}",
         "name": "record_count",
         "type": "\"long\""
        },
        {
         "metadata": "{}",
         "name": "los_completeness_pct",
         "type": "\"decimal(8,2)\""
        },
        {
         "metadata": "{}",
         "name": "careunit_completeness_pct",
         "type": "\"decimal(8,2)\""
        }
       ],
       "type": "table"
      }
     },
     "output_type": "display_data"
    },
    {
     "output_type": "display_data",
     "data": {
      "text/plain": [
       "Databricks visualization. Run in Databricks to view."
      ]
     },
     "metadata": {
      "application/vnd.databricks.v1.subcommand+json": {
       "baseErrorDetails": null,
       "bindings": {},
       "collapsed": false,
       "command": "%sql WITH q AS (SELECT \n    dbsource,\n    eventtype,\n    COUNT(*) as record_count,\n    ROUND(AVG(CASE WHEN los IS NOT NULL THEN 1.0 ELSE 0.0 END) * 100, 2) as los_completeness_pct,\n    ROUND(AVG(CASE WHEN curr_careunit IS NOT NULL THEN 1.0 ELSE 0.0 END) * 100, 2) as careunit_completeness_pct\nFROM mimicdata_2567611159492892.mimic.transfers\nGROUP BY dbsource, eventtype\nORDER BY dbsource, eventtype) SELECT `eventtype`,SUM(`record_count`) `column_29df5220313`,SUM(`los_completeness_pct`) `column_29df5220316`,SUM(`careunit_completeness_pct`) `column_29df5220319` FROM q GROUP BY `eventtype`",
       "commandTitle": "Visualization 1",
       "commandType": "auto",
       "commandVersion": 0,
       "commentThread": [],
       "commentsVisible": false,
       "contentSha256Hex": null,
       "customPlotOptions": {
        "redashChart": [
         {
          "key": "type",
          "value": "CHART"
         },
         {
          "key": "options",
          "value": {
           "alignYAxesAtZero": true,
           "coefficient": 1,
           "columnConfigurationMap": {
            "x": {
             "column": "eventtype",
             "id": "column_29df5220311"
            },
            "y": [
             {
              "column": "record_count",
              "id": "column_29df5220313",
              "transform": "SUM"
             },
             {
              "column": "los_completeness_pct",
              "id": "column_29df5220316",
              "transform": "SUM"
             },
             {
              "column": "careunit_completeness_pct",
              "id": "column_29df5220319",
              "transform": "SUM"
             }
            ]
           },
           "dateTimeFormat": "DD/MM/YYYY HH:mm",
           "direction": {
            "type": "counterclockwise"
           },
           "error_y": {
            "type": "data",
            "visible": true
           },
           "globalSeriesType": "column",
           "isAggregationOn": true,
           "legend": {
            "traceorder": "normal"
           },
           "missingValuesAsZero": true,
           "numberFormat": "0,0.[00000]",
           "percentFormat": "0[.]00%",
           "series": {
            "error_y": {
             "type": "data",
             "visible": true
            },
            "stacking": null
           },
           "seriesOptions": {
            "column_29df5220309": {
             "type": "column",
             "yAxis": 0
            },
            "column_29df5220313": {
             "type": "column",
             "yAxis": 0
            },
            "column_29df5220316": {
             "type": "column",
             "yAxis": 0
            },
            "column_29df5220319": {
             "type": "column",
             "yAxis": 0
            }
           },
           "showDataLabels": false,
           "sizemode": "diameter",
           "sortX": true,
           "sortY": true,
           "swappedAxes": false,
           "textFormat": "",
           "useAggregationsUi": true,
           "valuesOptions": {},
           "version": 2,
           "xAxis": {
            "labels": {
             "enabled": true
            },
            "type": "-"
           },
           "yAxis": [
            {
             "type": "-"
            },
            {
             "opposite": true,
             "type": "-"
            }
           ]
          }
         }
        ]
       },
       "datasetPreviewNameToCmdIdMap": {},
       "diffDeletes": [],
       "diffInserts": [],
       "displayType": "redashChart",
       "error": null,
       "errorDetails": null,
       "errorSummary": null,
       "errorTraceType": null,
       "finishTime": 0,
       "globalVars": {},
       "guid": "",
       "height": "auto",
       "hideCommandCode": false,
       "hideCommandResult": false,
       "iPythonMetadata": null,
       "inputWidgets": {},
       "isLockedInExamMode": false,
       "latestUser": "a user",
       "latestUserId": null,
       "listResultMetadata": null,
       "metadata": {},
       "nuid": "81467000-3028-4e97-97f1-4c9fe865d43d",
       "origId": 0,
       "parentHierarchy": [],
       "pivotAggregation": null,
       "pivotColumns": null,
       "position": 20.0,
       "resultDbfsErrorMessage": null,
       "resultDbfsStatus": "INLINED_IN_TREE",
       "results": null,
       "showCommandTitle": false,
       "startTime": 0,
       "state": "input",
       "streamStates": {},
       "subcommandOptions": {
        "queryPlan": {
         "groups": [
          {
           "column": "eventtype",
           "type": "column"
          }
         ],
         "selects": [
          {
           "column": "eventtype",
           "type": "column"
          },
          {
           "alias": "column_29df5220313",
           "args": [
            {
             "column": "record_count",
             "type": "column"
            }
           ],
           "function": "SUM",
           "type": "function"
          },
          {
           "alias": "column_29df5220316",
           "args": [
            {
             "column": "los_completeness_pct",
             "type": "column"
            }
           ],
           "function": "SUM",
           "type": "function"
          },
          {
           "alias": "column_29df5220319",
           "args": [
            {
             "column": "careunit_completeness_pct",
             "type": "column"
            }
           ],
           "function": "SUM",
           "type": "function"
          }
         ]
        }
       },
       "submitTime": 0,
       "subtype": "tableResultSubCmd.visualization",
       "tableResultIndex": 0,
       "tableResultSettingsMap": {},
       "useConsistentColors": false,
       "version": "CommandV1",
       "width": "auto",
       "workflows": [],
       "xColumns": null,
       "yColumns": null
      }
     },
     "output_type": "display_data"
    }
   ],
   "source": [
    "%sql\n",
    "SELECT \n",
    "    dbsource,\n",
    "    eventtype,\n",
    "    COUNT(*) as record_count,\n",
    "    ROUND(AVG(CASE WHEN los IS NOT NULL THEN 1.0 ELSE 0.0 END) * 100, 2) as los_completeness_pct,\n",
    "    ROUND(AVG(CASE WHEN curr_careunit IS NOT NULL THEN 1.0 ELSE 0.0 END) * 100, 2) as careunit_completeness_pct\n",
    "FROM mimicdata_2567611159492892.mimic.transfers\n",
    "GROUP BY dbsource, eventtype\n",
    "ORDER BY dbsource, eventtype;"
   ]
  },
  {
   "cell_type": "code",
   "execution_count": 0,
   "metadata": {
    "application/vnd.databricks.v1+cell": {
     "cellMetadata": {
      "byteLimit": 2048000,
      "implicitDf": true,
      "rowLimit": 10000
     },
     "inputWidgets": {},
     "nuid": "682d89cd-5fcc-4816-9115-d1dbb8723250",
     "showTitle": true,
     "tableResultSettingsMap": {},
     "title": "PATIENT JOURNEY"
    }
   },
   "outputs": [
    {
     "output_type": "display_data",
     "data": {
      "text/html": [
       "<style scoped>\n",
       "  .table-result-container {\n",
       "    max-height: 300px;\n",
       "    overflow: auto;\n",
       "  }\n",
       "  table, th, td {\n",
       "    border: 1px solid black;\n",
       "    border-collapse: collapse;\n",
       "  }\n",
       "  th, td {\n",
       "    padding: 5px;\n",
       "  }\n",
       "  th {\n",
       "    text-align: left;\n",
       "  }\n",
       "</style><div class='table-result-container'><table class='table-result'><thead style='background-color: white'><tr><th>subject_id</th><th>total_events</th><th>units_visited</th><th>transfer_count</th><th>avg_los_per_event</th><th>complexity_score</th></tr></thead><tbody><tr><td>41976</td><td>53</td><td>3</td><td>23</td><td>53.4</td><td>24.0</td></tr><tr><td>10117</td><td>15</td><td>2</td><td>11</td><td>27.54</td><td>8.6</td></tr><tr><td>44083</td><td>15</td><td>2</td><td>9</td><td>41.08</td><td>8.0</td></tr><tr><td>10124</td><td>12</td><td>2</td><td>8</td><td>93.78</td><td>6.8</td></tr><tr><td>10119</td><td>12</td><td>1</td><td>8</td><td>46.1</td><td>6.4</td></tr><tr><td>42135</td><td>10</td><td>1</td><td>6</td><td>100.33</td><td>5.2</td></tr><tr><td>42231</td><td>9</td><td>1</td><td>7</td><td>25.63</td><td>5.2</td></tr><tr><td>43746</td><td>9</td><td>1</td><td>7</td><td>48.03</td><td>5.2</td></tr><tr><td>40310</td><td>9</td><td>2</td><td>5</td><td>449.77</td><td>5.0</td></tr><tr><td>40124</td><td>9</td><td>2</td><td>5</td><td>44.69</td><td>5.0</td></tr><tr><td>10088</td><td>10</td><td>2</td><td>4</td><td>85.36</td><td>5.0</td></tr><tr><td>42199</td><td>8</td><td>1</td><td>6</td><td>34.18</td><td>4.6</td></tr><tr><td>10094</td><td>8</td><td>1</td><td>4</td><td>59.29</td><td>4.0</td></tr><tr><td>10046</td><td>7</td><td>1</td><td>5</td><td>42.57</td><td>4.0</td></tr><tr><td>40286</td><td>7</td><td>1</td><td>5</td><td>22.09</td><td>4.0</td></tr><tr><td>41795</td><td>8</td><td>1</td><td>4</td><td>68.25</td><td>4.0</td></tr><tr><td>10042</td><td>7</td><td>1</td><td>5</td><td>45.06</td><td>4.0</td></tr><tr><td>42346</td><td>7</td><td>2</td><td>3</td><td>29.15</td><td>3.8</td></tr><tr><td>10083</td><td>6</td><td>2</td><td>4</td><td>84.01</td><td>3.8</td></tr><tr><td>43870</td><td>6</td><td>2</td><td>4</td><td>10.95</td><td>3.8</td></tr></tbody></table></div>"
      ]
     },
     "metadata": {
      "application/vnd.databricks.v1+output": {
       "addedWidgets": {},
       "aggData": [],
       "aggError": "",
       "aggOverflow": false,
       "aggSchema": [],
       "aggSeriesLimitReached": false,
       "aggType": "",
       "arguments": {},
       "columnCustomDisplayInfos": {},
       "data": [
        [
         41976,
         53,
         3,
         23,
         53.4,
         "24.0"
        ],
        [
         10117,
         15,
         2,
         11,
         27.54,
         "8.6"
        ],
        [
         44083,
         15,
         2,
         9,
         41.08,
         "8.0"
        ],
        [
         10124,
         12,
         2,
         8,
         93.78,
         "6.8"
        ],
        [
         10119,
         12,
         1,
         8,
         46.1,
         "6.4"
        ],
        [
         42135,
         10,
         1,
         6,
         100.33,
         "5.2"
        ],
        [
         42231,
         9,
         1,
         7,
         25.63,
         "5.2"
        ],
        [
         43746,
         9,
         1,
         7,
         48.03,
         "5.2"
        ],
        [
         40310,
         9,
         2,
         5,
         449.77,
         "5.0"
        ],
        [
         40124,
         9,
         2,
         5,
         44.69,
         "5.0"
        ],
        [
         10088,
         10,
         2,
         4,
         85.36,
         "5.0"
        ],
        [
         42199,
         8,
         1,
         6,
         34.18,
         "4.6"
        ],
        [
         10094,
         8,
         1,
         4,
         59.29,
         "4.0"
        ],
        [
         10046,
         7,
         1,
         5,
         42.57,
         "4.0"
        ],
        [
         40286,
         7,
         1,
         5,
         22.09,
         "4.0"
        ],
        [
         41795,
         8,
         1,
         4,
         68.25,
         "4.0"
        ],
        [
         10042,
         7,
         1,
         5,
         45.06,
         "4.0"
        ],
        [
         42346,
         7,
         2,
         3,
         29.15,
         "3.8"
        ],
        [
         10083,
         6,
         2,
         4,
         84.01,
         "3.8"
        ],
        [
         43870,
         6,
         2,
         4,
         10.95,
         "3.8"
        ]
       ],
       "datasetInfos": [],
       "dbfsResultPath": null,
       "isJsonSchema": true,
       "metadata": {
        "dataframeName": "_sqldf",
        "executionCount": 35
       },
       "overflow": false,
       "plotOptions": {
        "customPlotOptions": {},
        "displayType": "table",
        "pivotAggregation": null,
        "pivotColumns": null,
        "xColumns": null,
        "yColumns": null
       },
       "removedWidgets": [],
       "schema": [
        {
         "metadata": "{}",
         "name": "subject_id",
         "type": "\"integer\""
        },
        {
         "metadata": "{}",
         "name": "total_events",
         "type": "\"long\""
        },
        {
         "metadata": "{}",
         "name": "units_visited",
         "type": "\"long\""
        },
        {
         "metadata": "{}",
         "name": "transfer_count",
         "type": "\"long\""
        },
        {
         "metadata": "{}",
         "name": "avg_los_per_event",
         "type": "\"double\""
        },
        {
         "metadata": "{}",
         "name": "complexity_score",
         "type": "\"decimal(24,1)\""
        }
       ],
       "type": "table"
      }
     },
     "output_type": "display_data"
    },
    {
     "output_type": "display_data",
     "data": {
      "text/plain": [
       "Databricks visualization. Run in Databricks to view."
      ]
     },
     "metadata": {
      "application/vnd.databricks.v1.subcommand+json": {
       "baseErrorDetails": null,
       "bindings": {},
       "collapsed": false,
       "command": "%sql WITH q AS (SELECT \n    subject_id,\n    COUNT(*) as total_events,\n    COUNT(DISTINCT curr_careunit) as units_visited,\n    COUNT(CASE WHEN eventtype = 'transfer' THEN 1 END) as transfer_count,\n    ROUND(AVG(los), 2) as avg_los_per_event,\n    \n    (COUNT(*) * 0.3 + COUNT(DISTINCT curr_careunit) * 0.4 + COUNT(CASE WHEN eventtype = 'transfer' THEN 1 END) * 0.3) as complexity_score\nFROM mimicdata_2567611159492892.mimic.transfers\nGROUP BY subject_id\nORDER BY complexity_score DESC\nLIMIT 20) SELECT `total_events`,SUM(`units_visited`) `column_29df5220323` FROM q GROUP BY `total_events`",
       "commandTitle": "Visualization 1",
       "commandType": "auto",
       "commandVersion": 0,
       "commentThread": [],
       "commentsVisible": false,
       "contentSha256Hex": null,
       "customPlotOptions": {
        "redashChart": [
         {
          "key": "type",
          "value": "CHART"
         },
         {
          "key": "options",
          "value": {
           "alignYAxesAtZero": true,
           "coefficient": 1,
           "columnConfigurationMap": {
            "x": {
             "column": "total_events",
             "id": "column_29df5220321"
            },
            "y": [
             {
              "column": "units_visited",
              "id": "column_29df5220323",
              "transform": "SUM"
             }
            ]
           },
           "dateTimeFormat": "DD/MM/YYYY HH:mm",
           "direction": {
            "type": "counterclockwise"
           },
           "error_y": {
            "type": "data",
            "visible": true
           },
           "globalSeriesType": "column",
           "isAggregationOn": true,
           "legend": {
            "traceorder": "normal"
           },
           "missingValuesAsZero": true,
           "numberFormat": "0,0.[00000]",
           "percentFormat": "0[.]00%",
           "series": {
            "error_y": {
             "type": "data",
             "visible": true
            },
            "stacking": null
           },
           "seriesOptions": {
            "column_29df5220323": {
             "type": "column",
             "yAxis": 0
            },
            "column_29df5220326": {
             "type": "column",
             "yAxis": 0
            },
            "column_29df5220329": {
             "type": "column",
             "yAxis": 0
            }
           },
           "showDataLabels": false,
           "sizemode": "diameter",
           "sortX": true,
           "sortY": true,
           "swappedAxes": false,
           "textFormat": "",
           "useAggregationsUi": true,
           "valuesOptions": {},
           "version": 2,
           "xAxis": {
            "labels": {
             "enabled": true
            },
            "type": "-"
           },
           "yAxis": [
            {
             "type": "-"
            },
            {
             "opposite": true,
             "type": "-"
            }
           ]
          }
         }
        ]
       },
       "datasetPreviewNameToCmdIdMap": {},
       "diffDeletes": [],
       "diffInserts": [],
       "displayType": "redashChart",
       "error": null,
       "errorDetails": null,
       "errorSummary": null,
       "errorTraceType": null,
       "finishTime": 0,
       "globalVars": {},
       "guid": "",
       "height": "auto",
       "hideCommandCode": false,
       "hideCommandResult": false,
       "iPythonMetadata": null,
       "inputWidgets": {},
       "isLockedInExamMode": false,
       "latestUser": "a user",
       "latestUserId": null,
       "listResultMetadata": null,
       "metadata": {},
       "nuid": "1266259d-0ce0-4691-9515-9aae315163d1",
       "origId": 0,
       "parentHierarchy": [],
       "pivotAggregation": null,
       "pivotColumns": null,
       "position": 21.0,
       "resultDbfsErrorMessage": null,
       "resultDbfsStatus": "INLINED_IN_TREE",
       "results": null,
       "showCommandTitle": false,
       "startTime": 0,
       "state": "input",
       "streamStates": {},
       "subcommandOptions": {
        "queryPlan": {
         "groups": [
          {
           "column": "total_events",
           "type": "column"
          }
         ],
         "selects": [
          {
           "column": "total_events",
           "type": "column"
          },
          {
           "alias": "column_29df5220323",
           "args": [
            {
             "column": "units_visited",
             "type": "column"
            }
           ],
           "function": "SUM",
           "type": "function"
          }
         ]
        }
       },
       "submitTime": 0,
       "subtype": "tableResultSubCmd.visualization",
       "tableResultIndex": 0,
       "tableResultSettingsMap": {},
       "useConsistentColors": false,
       "version": "CommandV1",
       "width": "auto",
       "workflows": [],
       "xColumns": null,
       "yColumns": null
      }
     },
     "output_type": "display_data"
    }
   ],
   "source": [
    "%sql\n",
    "SELECT \n",
    "    subject_id,\n",
    "    COUNT(*) as total_events,\n",
    "    COUNT(DISTINCT curr_careunit) as units_visited,\n",
    "    COUNT(CASE WHEN eventtype = 'transfer' THEN 1 END) as transfer_count,\n",
    "    ROUND(AVG(los), 2) as avg_los_per_event,\n",
    "    -- Complexity score: combines event count, units visited, and transfers\n",
    "    (COUNT(*) * 0.3 + COUNT(DISTINCT curr_careunit) * 0.4 + COUNT(CASE WHEN eventtype = 'transfer' THEN 1 END) * 0.3) as complexity_score\n",
    "FROM mimicdata_2567611159492892.mimic.transfers\n",
    "GROUP BY subject_id\n",
    "ORDER BY complexity_score DESC\n",
    "LIMIT 20;\n"
   ]
  },
  {
   "cell_type": "code",
   "execution_count": 0,
   "metadata": {
    "application/vnd.databricks.v1+cell": {
     "cellMetadata": {
      "byteLimit": 2048000,
      "implicitDf": true,
      "rowLimit": 10000
     },
     "inputWidgets": {},
     "nuid": "be0e936f-9bf8-46ab-9bd6-a8dc7936756d",
     "showTitle": true,
     "tableResultSettingsMap": {},
     "title": "BED TURNOVER"
    }
   },
   "outputs": [
    {
     "output_type": "display_data",
     "data": {
      "text/html": [
       "<style scoped>\n",
       "  .table-result-container {\n",
       "    max-height: 300px;\n",
       "    overflow: auto;\n",
       "  }\n",
       "  table, th, td {\n",
       "    border: 1px solid black;\n",
       "    border-collapse: collapse;\n",
       "  }\n",
       "  th, td {\n",
       "    padding: 5px;\n",
       "  }\n",
       "  th {\n",
       "    text-align: left;\n",
       "  }\n",
       "</style><div class='table-result-container'><table class='table-result'><thead style='background-color: white'><tr><th>care_unit</th><th>total_events</th><th>unique_patients</th><th>events_per_patient</th><th>avg_los_hours</th><th>avg_daily_turnover</th></tr></thead><tbody><tr><td>MICU</td><td>95</td><td>56</td><td>1.70</td><td>76.71</td><td>3.17</td></tr><tr><td>SICU</td><td>27</td><td>22</td><td>1.23</td><td>130.61</td><td>0.90</td></tr><tr><td>CCU</td><td>26</td><td>21</td><td>1.24</td><td>86.32</td><td>0.87</td></tr><tr><td>TSICU</td><td>12</td><td>11</td><td>1.09</td><td>74.5</td><td>0.40</td></tr><tr><td>CSRU</td><td>7</td><td>6</td><td>1.17</td><td>74.7</td><td>0.23</td></tr></tbody></table></div>"
      ]
     },
     "metadata": {
      "application/vnd.databricks.v1+output": {
       "addedWidgets": {},
       "aggData": [],
       "aggError": "",
       "aggOverflow": false,
       "aggSchema": [],
       "aggSeriesLimitReached": false,
       "aggType": "",
       "arguments": {},
       "columnCustomDisplayInfos": {},
       "data": [
        [
         "MICU",
         95,
         56,
         "1.70",
         76.71,
         "3.17"
        ],
        [
         "SICU",
         27,
         22,
         "1.23",
         130.61,
         "0.90"
        ],
        [
         "CCU",
         26,
         21,
         "1.24",
         86.32,
         "0.87"
        ],
        [
         "TSICU",
         12,
         11,
         "1.09",
         74.5,
         "0.40"
        ],
        [
         "CSRU",
         7,
         6,
         "1.17",
         74.7,
         "0.23"
        ]
       ],
       "datasetInfos": [],
       "dbfsResultPath": null,
       "isJsonSchema": true,
       "metadata": {
        "dataframeName": "_sqldf",
        "executionCount": 37
       },
       "overflow": false,
       "plotOptions": {
        "customPlotOptions": {},
        "displayType": "table",
        "pivotAggregation": null,
        "pivotColumns": null,
        "xColumns": null,
        "yColumns": null
       },
       "removedWidgets": [],
       "schema": [
        {
         "metadata": "{}",
         "name": "care_unit",
         "type": "\"string\""
        },
        {
         "metadata": "{}",
         "name": "total_events",
         "type": "\"long\""
        },
        {
         "metadata": "{}",
         "name": "unique_patients",
         "type": "\"long\""
        },
        {
         "metadata": "{}",
         "name": "events_per_patient",
         "type": "\"decimal(25,2)\""
        },
        {
         "metadata": "{}",
         "name": "avg_los_hours",
         "type": "\"double\""
        },
        {
         "metadata": "{}",
         "name": "avg_daily_turnover",
         "type": "\"decimal(24,2)\""
        }
       ],
       "type": "table"
      }
     },
     "output_type": "display_data"
    },
    {
     "output_type": "display_data",
     "data": {
      "text/plain": [
       "Databricks visualization. Run in Databricks to view."
      ]
     },
     "metadata": {
      "application/vnd.databricks.v1.subcommand+json": {
       "baseErrorDetails": null,
       "bindings": {},
       "collapsed": false,
       "command": "%sql WITH q AS (SELECT \n    curr_careunit as care_unit,\n    COUNT(*) as total_events,\n    COUNT(DISTINCT subject_id) as unique_patients,\n    ROUND(COUNT(*) * 1.0 / COUNT(DISTINCT subject_id), 2) as events_per_patient,\n    ROUND(AVG(los), 2) as avg_los_hours,\n    \n    ROUND(COUNT(*) / 30.0, 2) as avg_daily_turnover\nFROM mimicdata_2567611159492892.mimic.transfers\nWHERE curr_careunit IS NOT NULL\nGROUP BY curr_careunit\nORDER BY avg_daily_turnover DESC) SELECT `care_unit`,SUM(`total_events`) `column_29df5220333`,SUM(`unique_patients`) `column_29df5220336`,SUM(`events_per_patient`) `column_29df5220339`,SUM(`avg_daily_turnover`) `column_29df5220342` FROM q GROUP BY `care_unit`",
       "commandTitle": "Visualization 1",
       "commandType": "auto",
       "commandVersion": 0,
       "commentThread": [],
       "commentsVisible": false,
       "contentSha256Hex": null,
       "customPlotOptions": {
        "redashChart": [
         {
          "key": "type",
          "value": "CHART"
         },
         {
          "key": "options",
          "value": {
           "alignYAxesAtZero": true,
           "coefficient": 1,
           "columnConfigurationMap": {
            "x": {
             "column": "care_unit",
             "id": "column_29df5220331"
            },
            "y": [
             {
              "column": "total_events",
              "id": "column_29df5220333",
              "transform": "SUM"
             },
             {
              "column": "unique_patients",
              "id": "column_29df5220336",
              "transform": "SUM"
             },
             {
              "column": "events_per_patient",
              "id": "column_29df5220339",
              "transform": "SUM"
             },
             {
              "column": "avg_daily_turnover",
              "id": "column_29df5220342",
              "transform": "SUM"
             }
            ]
           },
           "dateTimeFormat": "DD/MM/YYYY HH:mm",
           "direction": {
            "type": "counterclockwise"
           },
           "error_y": {
            "type": "data",
            "visible": true
           },
           "globalSeriesType": "column",
           "isAggregationOn": true,
           "legend": {
            "traceorder": "normal"
           },
           "missingValuesAsZero": true,
           "numberFormat": "0,0.[00000]",
           "percentFormat": "0[.]00%",
           "series": {
            "error_y": {
             "type": "data",
             "visible": true
            },
            "stacking": null
           },
           "seriesOptions": {
            "column_29df5220333": {
             "type": "column",
             "yAxis": 0
            },
            "column_29df5220336": {
             "type": "column",
             "yAxis": 0
            },
            "column_29df5220339": {
             "type": "column",
             "yAxis": 0
            },
            "column_29df5220342": {
             "type": "column",
             "yAxis": 0
            }
           },
           "showDataLabels": false,
           "sizemode": "diameter",
           "sortX": true,
           "sortY": true,
           "swappedAxes": false,
           "textFormat": "",
           "useAggregationsUi": true,
           "valuesOptions": {},
           "version": 2,
           "xAxis": {
            "labels": {
             "enabled": true
            },
            "type": "-"
           },
           "yAxis": [
            {
             "type": "-"
            },
            {
             "opposite": true,
             "type": "-"
            }
           ]
          }
         }
        ]
       },
       "datasetPreviewNameToCmdIdMap": {},
       "diffDeletes": [],
       "diffInserts": [],
       "displayType": "redashChart",
       "error": null,
       "errorDetails": null,
       "errorSummary": null,
       "errorTraceType": null,
       "finishTime": 0,
       "globalVars": {},
       "guid": "",
       "height": "auto",
       "hideCommandCode": false,
       "hideCommandResult": false,
       "iPythonMetadata": null,
       "inputWidgets": {},
       "isLockedInExamMode": false,
       "latestUser": "a user",
       "latestUserId": null,
       "listResultMetadata": null,
       "metadata": {},
       "nuid": "8c80f5fd-a132-4e6e-a477-b8eb9f9b5e41",
       "origId": 0,
       "parentHierarchy": [],
       "pivotAggregation": null,
       "pivotColumns": null,
       "position": 22.0,
       "resultDbfsErrorMessage": null,
       "resultDbfsStatus": "INLINED_IN_TREE",
       "results": null,
       "showCommandTitle": false,
       "startTime": 0,
       "state": "input",
       "streamStates": {},
       "subcommandOptions": {
        "queryPlan": {
         "groups": [
          {
           "column": "care_unit",
           "type": "column"
          }
         ],
         "selects": [
          {
           "column": "care_unit",
           "type": "column"
          },
          {
           "alias": "column_29df5220333",
           "args": [
            {
             "column": "total_events",
             "type": "column"
            }
           ],
           "function": "SUM",
           "type": "function"
          },
          {
           "alias": "column_29df5220336",
           "args": [
            {
             "column": "unique_patients",
             "type": "column"
            }
           ],
           "function": "SUM",
           "type": "function"
          },
          {
           "alias": "column_29df5220339",
           "args": [
            {
             "column": "events_per_patient",
             "type": "column"
            }
           ],
           "function": "SUM",
           "type": "function"
          },
          {
           "alias": "column_29df5220342",
           "args": [
            {
             "column": "avg_daily_turnover",
             "type": "column"
            }
           ],
           "function": "SUM",
           "type": "function"
          }
         ]
        }
       },
       "submitTime": 0,
       "subtype": "tableResultSubCmd.visualization",
       "tableResultIndex": 0,
       "tableResultSettingsMap": {},
       "useConsistentColors": false,
       "version": "CommandV1",
       "width": "auto",
       "workflows": [],
       "xColumns": null,
       "yColumns": null
      }
     },
     "output_type": "display_data"
    }
   ],
   "source": [
    "%sql\n",
    "SELECT \n",
    "    curr_careunit as care_unit,\n",
    "    COUNT(*) as total_events,\n",
    "    COUNT(DISTINCT subject_id) as unique_patients,\n",
    "    ROUND(COUNT(*) * 1.0 / COUNT(DISTINCT subject_id), 2) as events_per_patient,\n",
    "    ROUND(AVG(los), 2) as avg_los_hours,\n",
    "    -- Turnover rate (events per day, assuming 30-day period)\n",
    "    ROUND(COUNT(*) / 30.0, 2) as avg_daily_turnover\n",
    "FROM mimicdata_2567611159492892.mimic.transfers\n",
    "WHERE curr_careunit IS NOT NULL\n",
    "GROUP BY curr_careunit\n",
    "ORDER BY avg_daily_turnover DESC;"
   ]
  },
  {
   "cell_type": "code",
   "execution_count": 0,
   "metadata": {
    "application/vnd.databricks.v1+cell": {
     "cellMetadata": {
      "byteLimit": 2048000,
      "implicitDf": true,
      "rowLimit": 10000
     },
     "inputWidgets": {},
     "nuid": "0dc4a6c2-8f58-49d0-a01b-8d933d73c723",
     "showTitle": true,
     "tableResultSettingsMap": {},
     "title": "TRANSFER SUCCESS RATE"
    }
   },
   "outputs": [
    {
     "output_type": "display_data",
     "data": {
      "text/html": [
       "<style scoped>\n",
       "  .table-result-container {\n",
       "    max-height: 300px;\n",
       "    overflow: auto;\n",
       "  }\n",
       "  table, th, td {\n",
       "    border: 1px solid black;\n",
       "    border-collapse: collapse;\n",
       "  }\n",
       "  th, td {\n",
       "    padding: 5px;\n",
       "  }\n",
       "  th {\n",
       "    text-align: left;\n",
       "  }\n",
       "</style><div class='table-result-container'><table class='table-result'><thead style='background-color: white'><tr><th>metric</th><th>count</th></tr></thead><tbody><tr><td>Total Transfers</td><td>266.00000000000000</td></tr><tr><td>Bounce-backs (24h)</td><td>2.00000000000000</td></tr><tr><td>Success Rate %</td><td>99.24812030075188</td></tr></tbody></table></div>"
      ]
     },
     "metadata": {
      "application/vnd.databricks.v1+output": {
       "addedWidgets": {},
       "aggData": [],
       "aggError": "",
       "aggOverflow": false,
       "aggSchema": [],
       "aggSeriesLimitReached": false,
       "aggType": "",
       "arguments": {},
       "columnCustomDisplayInfos": {},
       "data": [
        [
         "Total Transfers",
         "266.00000000000000"
        ],
        [
         "Bounce-backs (24h)",
         "2.00000000000000"
        ],
        [
         "Success Rate %",
         "99.24812030075188"
        ]
       ],
       "datasetInfos": [],
       "dbfsResultPath": null,
       "isJsonSchema": true,
       "metadata": {
        "dataframeName": "_sqldf",
        "executionCount": 40
       },
       "overflow": false,
       "plotOptions": {
        "customPlotOptions": {},
        "displayType": "table",
        "pivotAggregation": null,
        "pivotColumns": null,
        "xColumns": null,
        "yColumns": null
       },
       "removedWidgets": [],
       "schema": [
        {
         "metadata": "{}",
         "name": "metric",
         "type": "\"string\""
        },
        {
         "metadata": "{}",
         "name": "count",
         "type": "\"decimal(38,14)\""
        }
       ],
       "type": "table"
      }
     },
     "output_type": "display_data"
    },
    {
     "output_type": "display_data",
     "data": {
      "text/plain": [
       "Databricks visualization. Run in Databricks to view."
      ]
     },
     "metadata": {
      "application/vnd.databricks.v1.subcommand+json": {
       "baseErrorDetails": null,
       "bindings": {},
       "collapsed": false,
       "command": "%sql WITH q AS (WITH bounce_backs AS (\n    SELECT \n        t1.subject_id,\n        t1.hadm_id,\n        t1.outtime as first_transfer_out,\n        t2.intime as return_time,\n        t1.curr_careunit as left_unit,\n        t2.curr_careunit as return_unit,\n        (unix_timestamp(t2.intime) - unix_timestamp(t1.outtime)) / 3600 as hours_between\n    FROM mimicdata_2567611159492892.mimic.transfers t1\n    JOIN mimicdata_2567611159492892.mimic.transfers t2 \n        ON t1.subject_id = t2.subject_id \n        AND t1.hadm_id = t2.hadm_id\n        AND t1.outtime < t2.intime\n        AND t1.curr_careunit = t2.curr_careunit\n        AND (unix_timestamp(t2.intime) - unix_timestamp(t1.outtime)) / 3600 <= 24\n    WHERE t1.eventtype = 'transfer' AND t2.eventtype IN ('transfer', 'admit')\n)\nSELECT \n    'Total Transfers' as metric,\n    COUNT(*) as count\nFROM mimicdata_2567611159492892.mimic.transfers\nWHERE eventtype = 'transfer'\n\nUNION ALL\n\nSELECT \n    'Bounce-backs (24h)' as metric,\n    COUNT(*) as count\nFROM bounce_backs\n\nUNION ALL\n\nSELECT \n    'Success Rate %' as metric,\n    ROUND(\n        (SELECT COUNT(*) FROM mimicdata_2567611159492892.mimic.transfers WHERE eventtype = 'transfer') - COUNT(*)\n    ) * 100.0 / (SELECT COUNT(*) FROM mimicdata_2567611159492892.mimic.transfers WHERE eventtype = 'transfer') as count\nFROM bounce_backs) SELECT `metric`,SUM(`count`) `column_29df5220345` FROM q GROUP BY `metric`",
       "commandTitle": "Visualization 1",
       "commandType": "auto",
       "commandVersion": 0,
       "commentThread": [],
       "commentsVisible": false,
       "contentSha256Hex": null,
       "customPlotOptions": {
        "redashChart": [
         {
          "key": "type",
          "value": "CHART"
         },
         {
          "key": "options",
          "value": {
           "alignYAxesAtZero": true,
           "coefficient": 1,
           "columnConfigurationMap": {
            "x": {
             "column": "metric",
             "id": "column_29df5220344"
            },
            "y": [
             {
              "column": "count",
              "id": "column_29df5220345",
              "transform": "SUM"
             }
            ]
           },
           "dateTimeFormat": "DD/MM/YYYY HH:mm",
           "direction": {
            "type": "counterclockwise"
           },
           "error_y": {
            "type": "data",
            "visible": true
           },
           "globalSeriesType": "pie",
           "legend": {
            "traceorder": "normal"
           },
           "missingValuesAsZero": true,
           "numberFormat": "0,0.[00000]",
           "percentFormat": "0[.]00%",
           "series": {
            "error_y": {
             "type": "data",
             "visible": true
            },
            "stacking": null
           },
           "seriesOptions": {
            "column_29df5220345": {
             "name": "count",
             "type": "pie",
             "yAxis": 0
            }
           },
           "showDataLabels": true,
           "sizemode": "diameter",
           "sortX": true,
           "sortY": true,
           "swappedAxes": false,
           "textFormat": "",
           "useAggregationsUi": true,
           "valuesOptions": {},
           "version": 2,
           "xAxis": {
            "labels": {
             "enabled": true
            },
            "type": "-"
           },
           "yAxis": [
            {
             "type": "-"
            },
            {
             "opposite": true,
             "type": "-"
            }
           ]
          }
         }
        ]
       },
       "datasetPreviewNameToCmdIdMap": {},
       "diffDeletes": [],
       "diffInserts": [],
       "displayType": "redashChart",
       "error": null,
       "errorDetails": null,
       "errorSummary": null,
       "errorTraceType": null,
       "finishTime": 0,
       "globalVars": {},
       "guid": "",
       "height": "auto",
       "hideCommandCode": false,
       "hideCommandResult": false,
       "iPythonMetadata": null,
       "inputWidgets": {},
       "isLockedInExamMode": false,
       "latestUser": "a user",
       "latestUserId": null,
       "listResultMetadata": null,
       "metadata": {},
       "nuid": "8deada47-af96-4c3b-9944-4cf8e80a36c1",
       "origId": 0,
       "parentHierarchy": [],
       "pivotAggregation": null,
       "pivotColumns": null,
       "position": 23.0,
       "resultDbfsErrorMessage": null,
       "resultDbfsStatus": "INLINED_IN_TREE",
       "results": null,
       "showCommandTitle": false,
       "startTime": 0,
       "state": "input",
       "streamStates": {},
       "subcommandOptions": {
        "queryPlan": {
         "groups": [
          {
           "column": "metric",
           "type": "column"
          }
         ],
         "selects": [
          {
           "column": "metric",
           "type": "column"
          },
          {
           "alias": "column_29df5220345",
           "args": [
            {
             "column": "count",
             "type": "column"
            }
           ],
           "function": "SUM",
           "type": "function"
          }
         ]
        }
       },
       "submitTime": 0,
       "subtype": "tableResultSubCmd.visualization",
       "tableResultIndex": 0,
       "tableResultSettingsMap": {},
       "useConsistentColors": false,
       "version": "CommandV1",
       "width": "auto",
       "workflows": [],
       "xColumns": null,
       "yColumns": null
      }
     },
     "output_type": "display_data"
    }
   ],
   "source": [
    "%sql\n",
    "WITH bounce_backs AS (\n",
    "    SELECT \n",
    "        t1.subject_id,\n",
    "        t1.hadm_id,\n",
    "        t1.outtime as first_transfer_out,\n",
    "        t2.intime as return_time,\n",
    "        t1.curr_careunit as left_unit,\n",
    "        t2.curr_careunit as return_unit,\n",
    "        (unix_timestamp(t2.intime) - unix_timestamp(t1.outtime)) / 3600 as hours_between\n",
    "    FROM mimicdata_2567611159492892.mimic.transfers t1\n",
    "    JOIN mimicdata_2567611159492892.mimic.transfers t2 \n",
    "        ON t1.subject_id = t2.subject_id \n",
    "        AND t1.hadm_id = t2.hadm_id\n",
    "        AND t1.outtime < t2.intime\n",
    "        AND t1.curr_careunit = t2.curr_careunit\n",
    "        AND (unix_timestamp(t2.intime) - unix_timestamp(t1.outtime)) / 3600 <= 24\n",
    "    WHERE t1.eventtype = 'transfer' AND t2.eventtype IN ('transfer', 'admit')\n",
    ")\n",
    "SELECT \n",
    "    'Total Transfers' as metric,\n",
    "    COUNT(*) as count\n",
    "FROM mimicdata_2567611159492892.mimic.transfers\n",
    "WHERE eventtype = 'transfer'\n",
    "\n",
    "UNION ALL\n",
    "\n",
    "SELECT \n",
    "    'Bounce-backs (24h)' as metric,\n",
    "    COUNT(*) as count\n",
    "FROM bounce_backs\n",
    "\n",
    "UNION ALL\n",
    "\n",
    "SELECT \n",
    "    'Success Rate %' as metric,\n",
    "    ROUND(\n",
    "        (SELECT COUNT(*) FROM mimicdata_2567611159492892.mimic.transfers WHERE eventtype = 'transfer') - COUNT(*)\n",
    "    ) * 100.0 / (SELECT COUNT(*) FROM mimicdata_2567611159492892.mimic.transfers WHERE eventtype = 'transfer') as count\n",
    "FROM bounce_backs;"
   ]
  },
  {
   "cell_type": "code",
   "execution_count": 0,
   "metadata": {
    "application/vnd.databricks.v1+cell": {
     "cellMetadata": {
      "byteLimit": 2048000,
      "implicitDf": true,
      "rowLimit": 10000
     },
     "inputWidgets": {},
     "nuid": "7f4f25cc-390d-4f41-abb8-61c8704c3074",
     "showTitle": true,
     "tableResultSettingsMap": {},
     "title": "Daily Occupancy"
    }
   },
   "outputs": [
    {
     "output_type": "display_data",
     "data": {
      "text/html": [
       "<style scoped>\n",
       "  .table-result-container {\n",
       "    max-height: 300px;\n",
       "    overflow: auto;\n",
       "  }\n",
       "  table, th, td {\n",
       "    border: 1px solid black;\n",
       "    border-collapse: collapse;\n",
       "  }\n",
       "  th, td {\n",
       "    padding: 5px;\n",
       "  }\n",
       "  th {\n",
       "    text-align: left;\n",
       "  }\n",
       "</style><div class='table-result-container'><table class='table-result'><thead style='background-color: white'><tr><th>care_unit</th><th>census_date</th><th>daily_census</th></tr></thead><tbody><tr><td>CCU</td><td>2107-01-16</td><td>1</td></tr><tr><td>CCU</td><td>2107-01-29</td><td>1</td></tr><tr><td>CCU</td><td>2112-05-23</td><td>2</td></tr><tr><td>CCU</td><td>2112-05-29</td><td>1</td></tr><tr><td>CCU</td><td>2128-11-08</td><td>1</td></tr><tr><td>CCU</td><td>2130-08-12</td><td>2</td></tr><tr><td>CCU</td><td>2131-07-27</td><td>1</td></tr><tr><td>CCU</td><td>2144-07-13</td><td>1</td></tr><tr><td>CCU</td><td>2149-05-29</td><td>1</td></tr><tr><td>CCU</td><td>2166-02-12</td><td>1</td></tr><tr><td>CCU</td><td>2166-02-13</td><td>1</td></tr><tr><td>CCU</td><td>2171-10-30</td><td>1</td></tr><tr><td>CCU</td><td>2176-07-14</td><td>1</td></tr><tr><td>CCU</td><td>2179-04-20</td><td>1</td></tr><tr><td>CCU</td><td>2180-07-19</td><td>1</td></tr><tr><td>CCU</td><td>2184-08-04</td><td>1</td></tr><tr><td>CCU</td><td>2186-02-11</td><td>1</td></tr><tr><td>CCU</td><td>2186-07-06</td><td>1</td></tr><tr><td>CCU</td><td>2188-02-12</td><td>1</td></tr><tr><td>CCU</td><td>2192-04-24</td><td>1</td></tr><tr><td>CCU</td><td>2192-11-23</td><td>1</td></tr><tr><td>CCU</td><td>2194-07-26</td><td>1</td></tr><tr><td>CCU</td><td>2201-09-28</td><td>2</td></tr><tr><td>CSRU</td><td>2121-12-07</td><td>1</td></tr><tr><td>CSRU</td><td>2141-01-25</td><td>1</td></tr><tr><td>CSRU</td><td>2147-02-06</td><td>1</td></tr><tr><td>CSRU</td><td>2175-10-02</td><td>1</td></tr><tr><td>CSRU</td><td>2189-09-08</td><td>1</td></tr><tr><td>CSRU</td><td>2189-09-09</td><td>1</td></tr><tr><td>CSRU</td><td>2190-07-13</td><td>1</td></tr><tr><td>MICU</td><td>2102-08-31</td><td>1</td></tr><tr><td>MICU</td><td>2104-09-24</td><td>1</td></tr><tr><td>MICU</td><td>2105-06-08</td><td>1</td></tr><tr><td>MICU</td><td>2107-01-05</td><td>1</td></tr><tr><td>MICU</td><td>2107-03-24</td><td>1</td></tr><tr><td>MICU</td><td>2107-05-12</td><td>1</td></tr><tr><td>MICU</td><td>2115-05-12</td><td>1</td></tr><tr><td>MICU</td><td>2118-10-06</td><td>1</td></tr><tr><td>MICU</td><td>2119-10-17</td><td>1</td></tr><tr><td>MICU</td><td>2119-10-30</td><td>1</td></tr><tr><td>MICU</td><td>2120-08-24</td><td>1</td></tr><tr><td>MICU</td><td>2120-08-25</td><td>1</td></tr><tr><td>MICU</td><td>2123-08-23</td><td>1</td></tr><tr><td>MICU</td><td>2123-11-24</td><td>1</td></tr><tr><td>MICU</td><td>2124-01-12</td><td>1</td></tr><tr><td>MICU</td><td>2125-10-04</td><td>1</td></tr><tr><td>MICU</td><td>2126-08-14</td><td>1</td></tr><tr><td>MICU</td><td>2127-07-29</td><td>1</td></tr><tr><td>MICU</td><td>2127-10-06</td><td>1</td></tr><tr><td>MICU</td><td>2128-03-22</td><td>1</td></tr><tr><td>MICU</td><td>2128-11-04</td><td>1</td></tr><tr><td>MICU</td><td>2129-05-02</td><td>1</td></tr><tr><td>MICU</td><td>2129-11-24</td><td>1</td></tr><tr><td>MICU</td><td>2130-02-04</td><td>1</td></tr><tr><td>MICU</td><td>2135-10-24</td><td>1</td></tr><tr><td>MICU</td><td>2138-04-08</td><td>1</td></tr><tr><td>MICU</td><td>2138-06-05</td><td>1</td></tr><tr><td>MICU</td><td>2138-11-12</td><td>1</td></tr><tr><td>MICU</td><td>2144-07-13</td><td>1</td></tr><tr><td>MICU</td><td>2144-07-14</td><td>1</td></tr><tr><td>MICU</td><td>2144-07-18</td><td>1</td></tr><tr><td>MICU</td><td>2144-12-24</td><td>1</td></tr><tr><td>MICU</td><td>2145-07-07</td><td>1</td></tr><tr><td>MICU</td><td>2145-07-10</td><td>1</td></tr><tr><td>MICU</td><td>2145-09-06</td><td>1</td></tr><tr><td>MICU</td><td>2145-12-01</td><td>1</td></tr><tr><td>MICU</td><td>2145-12-02</td><td>1</td></tr><tr><td>MICU</td><td>2146-07-21</td><td>1</td></tr><tr><td>MICU</td><td>2147-02-23</td><td>1</td></tr><tr><td>MICU</td><td>2148-01-13</td><td>2</td></tr><tr><td>MICU</td><td>2150-08-07</td><td>1</td></tr><tr><td>MICU</td><td>2150-08-09</td><td>1</td></tr><tr><td>MICU</td><td>2150-08-22</td><td>1</td></tr><tr><td>MICU</td><td>2151-08-13</td><td>1</td></tr><tr><td>MICU</td><td>2152-10-03</td><td>2</td></tr><tr><td>MICU</td><td>2152-10-09</td><td>1</td></tr><tr><td>MICU</td><td>2155-03-10</td><td>1</td></tr><tr><td>MICU</td><td>2155-12-16</td><td>1</td></tr><tr><td>MICU</td><td>2160-05-04</td><td>2</td></tr><tr><td>MICU</td><td>2160-12-16</td><td>1</td></tr><tr><td>MICU</td><td>2161-09-15</td><td>1</td></tr><tr><td>MICU</td><td>2162-01-16</td><td>1</td></tr><tr><td>MICU</td><td>2163-05-14</td><td>1</td></tr><tr><td>MICU</td><td>2163-11-21</td><td>1</td></tr><tr><td>MICU</td><td>2163-11-24</td><td>1</td></tr><tr><td>MICU</td><td>2164-10-23</td><td>1</td></tr><tr><td>MICU</td><td>2165-12-19</td><td>1</td></tr><tr><td>MICU</td><td>2167-02-11</td><td>1</td></tr><tr><td>MICU</td><td>2169-05-06</td><td>1</td></tr><tr><td>MICU</td><td>2169-05-07</td><td>1</td></tr><tr><td>MICU</td><td>2169-05-11</td><td>1</td></tr><tr><td>MICU</td><td>2178-05-14</td><td>2</td></tr><tr><td>MICU</td><td>2179-04-17</td><td>1</td></tr><tr><td>MICU</td><td>2180-01-21</td><td>1</td></tr><tr><td>MICU</td><td>2180-02-29</td><td>2</td></tr><tr><td>MICU</td><td>2180-03-15</td><td>1</td></tr><tr><td>MICU</td><td>2185-03-24</td><td>1</td></tr><tr><td>MICU</td><td>2185-04-14</td><td>1</td></tr><tr><td>MICU</td><td>2192-03-29</td><td>1</td></tr><tr><td>MICU</td><td>2192-04-16</td><td>1</td></tr><tr><td>MICU</td><td>2192-04-30</td><td>1</td></tr><tr><td>MICU</td><td>2192-11-20</td><td>1</td></tr><tr><td>MICU</td><td>2193-10-15</td><td>1</td></tr><tr><td>MICU</td><td>2193-10-16</td><td>1</td></tr><tr><td>MICU</td><td>2199-01-13</td><td>1</td></tr><tr><td>MICU</td><td>2199-01-31</td><td>1</td></tr><tr><td>MICU</td><td>2199-02-01</td><td>1</td></tr><tr><td>MICU</td><td>2200-03-17</td><td>1</td></tr><tr><td>MICU</td><td>2200-03-23</td><td>2</td></tr><tr><td>MICU</td><td>2200-06-09</td><td>1</td></tr><tr><td>MICU</td><td>2200-10-29</td><td>1</td></tr><tr><td>MICU</td><td>2201-05-12</td><td>2</td></tr><tr><td>MICU</td><td>2201-08-10</td><td>1</td></tr><tr><td>MICU</td><td>2201-11-16</td><td>1</td></tr><tr><td>MICU</td><td>2202-02-15</td><td>1</td></tr><tr><td>MICU</td><td>2202-05-01</td><td>1</td></tr><tr><td>MICU</td><td>2202-09-16</td><td>1</td></tr><tr><td>MICU</td><td>2202-10-03</td><td>1</td></tr><tr><td>SICU</td><td>2111-01-07</td><td>1</td></tr><tr><td>SICU</td><td>2111-01-12</td><td>1</td></tr><tr><td>SICU</td><td>2112-05-04</td><td>1</td></tr><tr><td>SICU</td><td>2115-05-13</td><td>1</td></tr><tr><td>SICU</td><td>2117-03-23</td><td>1</td></tr><tr><td>SICU</td><td>2117-08-05</td><td>1</td></tr><tr><td>SICU</td><td>2117-08-21</td><td>1</td></tr><tr><td>SICU</td><td>2129-03-04</td><td>1</td></tr><tr><td>SICU</td><td>2129-11-25</td><td>1</td></tr><tr><td>SICU</td><td>2132-08-05</td><td>1</td></tr><tr><td>SICU</td><td>2132-12-05</td><td>2</td></tr><tr><td>SICU</td><td>2139-09-23</td><td>1</td></tr><tr><td>SICU</td><td>2142-11-26</td><td>1</td></tr><tr><td>SICU</td><td>2144-02-11</td><td>1</td></tr><tr><td>SICU</td><td>2144-10-15</td><td>1</td></tr><tr><td>SICU</td><td>2147-10-03</td><td>1</td></tr><tr><td>SICU</td><td>2161-02-04</td><td>1</td></tr><tr><td>SICU</td><td>2170-12-15</td><td>1</td></tr><tr><td>SICU</td><td>2171-07-12</td><td>1</td></tr><tr><td>SICU</td><td>2173-11-27</td><td>1</td></tr><tr><td>SICU</td><td>2186-02-09</td><td>1</td></tr><tr><td>SICU</td><td>2195-05-17</td><td>1</td></tr><tr><td>SICU</td><td>2198-06-29</td><td>1</td></tr><tr><td>SICU</td><td>2198-10-29</td><td>1</td></tr><tr><td>SICU</td><td>2199-02-01</td><td>1</td></tr><tr><td>SICU</td><td>2201-12-31</td><td>1</td></tr><tr><td>TSICU</td><td>2104-10-24</td><td>1</td></tr><tr><td>TSICU</td><td>2106-08-30</td><td>1</td></tr><tr><td>TSICU</td><td>2112-02-04</td><td>1</td></tr><tr><td>TSICU</td><td>2127-03-19</td><td>1</td></tr><tr><td>TSICU</td><td>2130-10-06</td><td>1</td></tr><tr><td>TSICU</td><td>2138-11-12</td><td>1</td></tr><tr><td>TSICU</td><td>2151-09-12</td><td>1</td></tr><tr><td>TSICU</td><td>2159-11-17</td><td>1</td></tr><tr><td>TSICU</td><td>2160-12-26</td><td>2</td></tr><tr><td>TSICU</td><td>2170-12-02</td><td>1</td></tr><tr><td>TSICU</td><td>2198-06-28</td><td>1</td></tr></tbody></table></div>"
      ]
     },
     "metadata": {
      "application/vnd.databricks.v1+output": {
       "addedWidgets": {},
       "aggData": [],
       "aggError": "",
       "aggOverflow": false,
       "aggSchema": [],
       "aggSeriesLimitReached": false,
       "aggType": "",
       "arguments": {},
       "columnCustomDisplayInfos": {},
       "data": [
        [
         "CCU",
         "2107-01-16",
         1
        ],
        [
         "CCU",
         "2107-01-29",
         1
        ],
        [
         "CCU",
         "2112-05-23",
         2
        ],
        [
         "CCU",
         "2112-05-29",
         1
        ],
        [
         "CCU",
         "2128-11-08",
         1
        ],
        [
         "CCU",
         "2130-08-12",
         2
        ],
        [
         "CCU",
         "2131-07-27",
         1
        ],
        [
         "CCU",
         "2144-07-13",
         1
        ],
        [
         "CCU",
         "2149-05-29",
         1
        ],
        [
         "CCU",
         "2166-02-12",
         1
        ],
        [
         "CCU",
         "2166-02-13",
         1
        ],
        [
         "CCU",
         "2171-10-30",
         1
        ],
        [
         "CCU",
         "2176-07-14",
         1
        ],
        [
         "CCU",
         "2179-04-20",
         1
        ],
        [
         "CCU",
         "2180-07-19",
         1
        ],
        [
         "CCU",
         "2184-08-04",
         1
        ],
        [
         "CCU",
         "2186-02-11",
         1
        ],
        [
         "CCU",
         "2186-07-06",
         1
        ],
        [
         "CCU",
         "2188-02-12",
         1
        ],
        [
         "CCU",
         "2192-04-24",
         1
        ],
        [
         "CCU",
         "2192-11-23",
         1
        ],
        [
         "CCU",
         "2194-07-26",
         1
        ],
        [
         "CCU",
         "2201-09-28",
         2
        ],
        [
         "CSRU",
         "2121-12-07",
         1
        ],
        [
         "CSRU",
         "2141-01-25",
         1
        ],
        [
         "CSRU",
         "2147-02-06",
         1
        ],
        [
         "CSRU",
         "2175-10-02",
         1
        ],
        [
         "CSRU",
         "2189-09-08",
         1
        ],
        [
         "CSRU",
         "2189-09-09",
         1
        ],
        [
         "CSRU",
         "2190-07-13",
         1
        ],
        [
         "MICU",
         "2102-08-31",
         1
        ],
        [
         "MICU",
         "2104-09-24",
         1
        ],
        [
         "MICU",
         "2105-06-08",
         1
        ],
        [
         "MICU",
         "2107-01-05",
         1
        ],
        [
         "MICU",
         "2107-03-24",
         1
        ],
        [
         "MICU",
         "2107-05-12",
         1
        ],
        [
         "MICU",
         "2115-05-12",
         1
        ],
        [
         "MICU",
         "2118-10-06",
         1
        ],
        [
         "MICU",
         "2119-10-17",
         1
        ],
        [
         "MICU",
         "2119-10-30",
         1
        ],
        [
         "MICU",
         "2120-08-24",
         1
        ],
        [
         "MICU",
         "2120-08-25",
         1
        ],
        [
         "MICU",
         "2123-08-23",
         1
        ],
        [
         "MICU",
         "2123-11-24",
         1
        ],
        [
         "MICU",
         "2124-01-12",
         1
        ],
        [
         "MICU",
         "2125-10-04",
         1
        ],
        [
         "MICU",
         "2126-08-14",
         1
        ],
        [
         "MICU",
         "2127-07-29",
         1
        ],
        [
         "MICU",
         "2127-10-06",
         1
        ],
        [
         "MICU",
         "2128-03-22",
         1
        ],
        [
         "MICU",
         "2128-11-04",
         1
        ],
        [
         "MICU",
         "2129-05-02",
         1
        ],
        [
         "MICU",
         "2129-11-24",
         1
        ],
        [
         "MICU",
         "2130-02-04",
         1
        ],
        [
         "MICU",
         "2135-10-24",
         1
        ],
        [
         "MICU",
         "2138-04-08",
         1
        ],
        [
         "MICU",
         "2138-06-05",
         1
        ],
        [
         "MICU",
         "2138-11-12",
         1
        ],
        [
         "MICU",
         "2144-07-13",
         1
        ],
        [
         "MICU",
         "2144-07-14",
         1
        ],
        [
         "MICU",
         "2144-07-18",
         1
        ],
        [
         "MICU",
         "2144-12-24",
         1
        ],
        [
         "MICU",
         "2145-07-07",
         1
        ],
        [
         "MICU",
         "2145-07-10",
         1
        ],
        [
         "MICU",
         "2145-09-06",
         1
        ],
        [
         "MICU",
         "2145-12-01",
         1
        ],
        [
         "MICU",
         "2145-12-02",
         1
        ],
        [
         "MICU",
         "2146-07-21",
         1
        ],
        [
         "MICU",
         "2147-02-23",
         1
        ],
        [
         "MICU",
         "2148-01-13",
         2
        ],
        [
         "MICU",
         "2150-08-07",
         1
        ],
        [
         "MICU",
         "2150-08-09",
         1
        ],
        [
         "MICU",
         "2150-08-22",
         1
        ],
        [
         "MICU",
         "2151-08-13",
         1
        ],
        [
         "MICU",
         "2152-10-03",
         2
        ],
        [
         "MICU",
         "2152-10-09",
         1
        ],
        [
         "MICU",
         "2155-03-10",
         1
        ],
        [
         "MICU",
         "2155-12-16",
         1
        ],
        [
         "MICU",
         "2160-05-04",
         2
        ],
        [
         "MICU",
         "2160-12-16",
         1
        ],
        [
         "MICU",
         "2161-09-15",
         1
        ],
        [
         "MICU",
         "2162-01-16",
         1
        ],
        [
         "MICU",
         "2163-05-14",
         1
        ],
        [
         "MICU",
         "2163-11-21",
         1
        ],
        [
         "MICU",
         "2163-11-24",
         1
        ],
        [
         "MICU",
         "2164-10-23",
         1
        ],
        [
         "MICU",
         "2165-12-19",
         1
        ],
        [
         "MICU",
         "2167-02-11",
         1
        ],
        [
         "MICU",
         "2169-05-06",
         1
        ],
        [
         "MICU",
         "2169-05-07",
         1
        ],
        [
         "MICU",
         "2169-05-11",
         1
        ],
        [
         "MICU",
         "2178-05-14",
         2
        ],
        [
         "MICU",
         "2179-04-17",
         1
        ],
        [
         "MICU",
         "2180-01-21",
         1
        ],
        [
         "MICU",
         "2180-02-29",
         2
        ],
        [
         "MICU",
         "2180-03-15",
         1
        ],
        [
         "MICU",
         "2185-03-24",
         1
        ],
        [
         "MICU",
         "2185-04-14",
         1
        ],
        [
         "MICU",
         "2192-03-29",
         1
        ],
        [
         "MICU",
         "2192-04-16",
         1
        ],
        [
         "MICU",
         "2192-04-30",
         1
        ],
        [
         "MICU",
         "2192-11-20",
         1
        ],
        [
         "MICU",
         "2193-10-15",
         1
        ],
        [
         "MICU",
         "2193-10-16",
         1
        ],
        [
         "MICU",
         "2199-01-13",
         1
        ],
        [
         "MICU",
         "2199-01-31",
         1
        ],
        [
         "MICU",
         "2199-02-01",
         1
        ],
        [
         "MICU",
         "2200-03-17",
         1
        ],
        [
         "MICU",
         "2200-03-23",
         2
        ],
        [
         "MICU",
         "2200-06-09",
         1
        ],
        [
         "MICU",
         "2200-10-29",
         1
        ],
        [
         "MICU",
         "2201-05-12",
         2
        ],
        [
         "MICU",
         "2201-08-10",
         1
        ],
        [
         "MICU",
         "2201-11-16",
         1
        ],
        [
         "MICU",
         "2202-02-15",
         1
        ],
        [
         "MICU",
         "2202-05-01",
         1
        ],
        [
         "MICU",
         "2202-09-16",
         1
        ],
        [
         "MICU",
         "2202-10-03",
         1
        ],
        [
         "SICU",
         "2111-01-07",
         1
        ],
        [
         "SICU",
         "2111-01-12",
         1
        ],
        [
         "SICU",
         "2112-05-04",
         1
        ],
        [
         "SICU",
         "2115-05-13",
         1
        ],
        [
         "SICU",
         "2117-03-23",
         1
        ],
        [
         "SICU",
         "2117-08-05",
         1
        ],
        [
         "SICU",
         "2117-08-21",
         1
        ],
        [
         "SICU",
         "2129-03-04",
         1
        ],
        [
         "SICU",
         "2129-11-25",
         1
        ],
        [
         "SICU",
         "2132-08-05",
         1
        ],
        [
         "SICU",
         "2132-12-05",
         2
        ],
        [
         "SICU",
         "2139-09-23",
         1
        ],
        [
         "SICU",
         "2142-11-26",
         1
        ],
        [
         "SICU",
         "2144-02-11",
         1
        ],
        [
         "SICU",
         "2144-10-15",
         1
        ],
        [
         "SICU",
         "2147-10-03",
         1
        ],
        [
         "SICU",
         "2161-02-04",
         1
        ],
        [
         "SICU",
         "2170-12-15",
         1
        ],
        [
         "SICU",
         "2171-07-12",
         1
        ],
        [
         "SICU",
         "2173-11-27",
         1
        ],
        [
         "SICU",
         "2186-02-09",
         1
        ],
        [
         "SICU",
         "2195-05-17",
         1
        ],
        [
         "SICU",
         "2198-06-29",
         1
        ],
        [
         "SICU",
         "2198-10-29",
         1
        ],
        [
         "SICU",
         "2199-02-01",
         1
        ],
        [
         "SICU",
         "2201-12-31",
         1
        ],
        [
         "TSICU",
         "2104-10-24",
         1
        ],
        [
         "TSICU",
         "2106-08-30",
         1
        ],
        [
         "TSICU",
         "2112-02-04",
         1
        ],
        [
         "TSICU",
         "2127-03-19",
         1
        ],
        [
         "TSICU",
         "2130-10-06",
         1
        ],
        [
         "TSICU",
         "2138-11-12",
         1
        ],
        [
         "TSICU",
         "2151-09-12",
         1
        ],
        [
         "TSICU",
         "2159-11-17",
         1
        ],
        [
         "TSICU",
         "2160-12-26",
         2
        ],
        [
         "TSICU",
         "2170-12-02",
         1
        ],
        [
         "TSICU",
         "2198-06-28",
         1
        ]
       ],
       "datasetInfos": [],
       "dbfsResultPath": null,
       "isJsonSchema": true,
       "metadata": {
        "dataframeName": "_sqldf",
        "executionCount": 41
       },
       "overflow": false,
       "plotOptions": {
        "customPlotOptions": {},
        "displayType": "table",
        "pivotAggregation": null,
        "pivotColumns": null,
        "xColumns": null,
        "yColumns": null
       },
       "removedWidgets": [],
       "schema": [
        {
         "metadata": "{}",
         "name": "care_unit",
         "type": "\"string\""
        },
        {
         "metadata": "{}",
         "name": "census_date",
         "type": "\"date\""
        },
        {
         "metadata": "{}",
         "name": "daily_census",
         "type": "\"long\""
        }
       ],
       "type": "table"
      }
     },
     "output_type": "display_data"
    },
    {
     "output_type": "display_data",
     "data": {
      "text/plain": [
       "Databricks visualization. Run in Databricks to view."
      ]
     },
     "metadata": {
      "application/vnd.databricks.v1.subcommand+json": {
       "baseErrorDetails": null,
       "bindings": {},
       "collapsed": false,
       "command": "%sql WITH q AS (SELECT \n    care_unit,\n    census_date,\n    SUM(occupied) as daily_census\nFROM (\n    SELECT \n        curr_careunit as care_unit,\n        DATE(intime) as census_date,\n        1 as occupied\n    FROM mimicdata_2567611159492892.mimic.transfers\n    WHERE curr_careunit IS NOT NULL \n        AND eventtype IN ('admit', 'transfer')\n        AND intime IS NOT NULL\n) daily_admissions\nGROUP BY care_unit, census_date\nORDER BY care_unit, census_date) SELECT `care_unit`,`care_unit`,SUM(`daily_census`) `column_29df5220349` FROM q GROUP BY `care_unit`",
       "commandTitle": "Visualization 1",
       "commandType": "auto",
       "commandVersion": 0,
       "commentThread": [],
       "commentsVisible": false,
       "contentSha256Hex": null,
       "customPlotOptions": {
        "redashChart": [
         {
          "key": "type",
          "value": "CHART"
         },
         {
          "key": "options",
          "value": {
           "alignYAxesAtZero": true,
           "coefficient": 1,
           "columnConfigurationMap": {
            "series": {
             "column": "care_unit",
             "id": "column_29df5220348"
            },
            "x": {
             "column": "care_unit",
             "id": "column_29df5220352"
            },
            "y": [
             {
              "column": "daily_census",
              "id": "column_29df5220349",
              "transform": "SUM"
             }
            ]
           },
           "dateTimeFormat": "DD/MM/YYYY HH:mm",
           "direction": {
            "type": "counterclockwise"
           },
           "error_y": {
            "type": "data",
            "visible": true
           },
           "globalSeriesType": "column",
           "isAggregationOn": true,
           "legend": {
            "traceorder": "normal"
           },
           "missingValuesAsZero": true,
           "numberFormat": "0,0.[00000]",
           "percentFormat": "0[.]00%",
           "series": {
            "error_y": {
             "type": "data",
             "visible": true
            },
            "stacking": null
           },
           "seriesOptions": {
            "column_29df5220349": {
             "name": "daily_census",
             "type": "column",
             "yAxis": 0
            },
            "column_29df5220354": {
             "type": "column",
             "yAxis": 0
            },
            "column_29df5220357": {
             "type": "column",
             "yAxis": 0
            }
           },
           "showDataLabels": false,
           "sizemode": "diameter",
           "sortX": true,
           "sortY": true,
           "swappedAxes": false,
           "textFormat": "",
           "useAggregationsUi": true,
           "valuesOptions": {},
           "version": 2,
           "xAxis": {
            "labels": {
             "enabled": true
            },
            "type": "-"
           },
           "yAxis": [
            {
             "type": "-"
            },
            {
             "opposite": true,
             "type": "-"
            }
           ]
          }
         }
        ]
       },
       "datasetPreviewNameToCmdIdMap": {},
       "diffDeletes": [],
       "diffInserts": [],
       "displayType": "redashChart",
       "error": null,
       "errorDetails": null,
       "errorSummary": null,
       "errorTraceType": null,
       "finishTime": 0,
       "globalVars": {},
       "guid": "",
       "height": "auto",
       "hideCommandCode": false,
       "hideCommandResult": false,
       "iPythonMetadata": null,
       "inputWidgets": {},
       "isLockedInExamMode": false,
       "latestUser": "a user",
       "latestUserId": null,
       "listResultMetadata": null,
       "metadata": {},
       "nuid": "bec1d799-ee2c-45e2-92a7-1f3c014186b7",
       "origId": 0,
       "parentHierarchy": [],
       "pivotAggregation": null,
       "pivotColumns": null,
       "position": 24.0,
       "resultDbfsErrorMessage": null,
       "resultDbfsStatus": "INLINED_IN_TREE",
       "results": null,
       "showCommandTitle": false,
       "startTime": 0,
       "state": "input",
       "streamStates": {},
       "subcommandOptions": {
        "queryPlan": {
         "groups": [
          {
           "column": "care_unit",
           "type": "column"
          },
          {
           "column": "care_unit",
           "type": "column"
          }
         ],
         "selects": [
          {
           "column": "care_unit",
           "type": "column"
          },
          {
           "column": "care_unit",
           "type": "column"
          },
          {
           "alias": "column_29df5220349",
           "args": [
            {
             "column": "daily_census",
             "type": "column"
            }
           ],
           "function": "SUM",
           "type": "function"
          }
         ]
        }
       },
       "submitTime": 0,
       "subtype": "tableResultSubCmd.visualization",
       "tableResultIndex": 0,
       "tableResultSettingsMap": {},
       "useConsistentColors": false,
       "version": "CommandV1",
       "width": "auto",
       "workflows": [],
       "xColumns": null,
       "yColumns": null
      }
     },
     "output_type": "display_data"
    }
   ],
   "source": [
    "%sql\n",
    "SELECT \n",
    "    care_unit,\n",
    "    census_date,\n",
    "    SUM(occupied) as daily_census\n",
    "FROM (\n",
    "    SELECT \n",
    "        curr_careunit as care_unit,\n",
    "        DATE(intime) as census_date,\n",
    "        1 as occupied\n",
    "    FROM mimicdata_2567611159492892.mimic.transfers\n",
    "    WHERE curr_careunit IS NOT NULL \n",
    "        AND eventtype IN ('admit', 'transfer')\n",
    "        AND intime IS NOT NULL\n",
    ") daily_admissions\n",
    "GROUP BY care_unit, census_date\n",
    "ORDER BY care_unit, census_date;"
   ]
  },
  {
   "cell_type": "code",
   "execution_count": 0,
   "metadata": {
    "application/vnd.databricks.v1+cell": {
     "cellMetadata": {
      "byteLimit": 2048000,
      "implicitDf": true,
      "rowLimit": 10000
     },
     "inputWidgets": {},
     "nuid": "ae0fd286-ea0c-403b-84b6-395ea9b33f3a",
     "showTitle": true,
     "tableResultSettingsMap": {},
     "title": "ICU to Non-ICU Movement"
    }
   },
   "outputs": [
    {
     "output_type": "display_data",
     "data": {
      "text/html": [
       "<style scoped>\n",
       "  .table-result-container {\n",
       "    max-height: 300px;\n",
       "    overflow: auto;\n",
       "  }\n",
       "  table, th, td {\n",
       "    border: 1px solid black;\n",
       "    border-collapse: collapse;\n",
       "  }\n",
       "  th, td {\n",
       "    padding: 5px;\n",
       "  }\n",
       "  th {\n",
       "    text-align: left;\n",
       "  }\n",
       "</style><div class='table-result-container'><table class='table-result'><thead style='background-color: white'><tr><th>flow_direction</th><th>transfer_count</th><th>avg_los_hours</th></tr></thead><tbody><tr><td>ICU to Non-ICU</td><td>71</td><td>99.64</td></tr><tr><td>Non-ICU to ICU</td><td>36</td><td>25.95</td></tr></tbody></table></div>"
      ]
     },
     "metadata": {
      "application/vnd.databricks.v1+output": {
       "addedWidgets": {},
       "aggData": [],
       "aggError": "",
       "aggOverflow": false,
       "aggSchema": [],
       "aggSeriesLimitReached": false,
       "aggType": "",
       "arguments": {},
       "columnCustomDisplayInfos": {},
       "data": [
        [
         "ICU to Non-ICU",
         71,
         99.64
        ],
        [
         "Non-ICU to ICU",
         36,
         25.95
        ]
       ],
       "datasetInfos": [],
       "dbfsResultPath": null,
       "isJsonSchema": true,
       "metadata": {
        "dataframeName": "_sqldf",
        "executionCount": 44
       },
       "overflow": false,
       "plotOptions": {
        "customPlotOptions": {},
        "displayType": "table",
        "pivotAggregation": null,
        "pivotColumns": null,
        "xColumns": null,
        "yColumns": null
       },
       "removedWidgets": [],
       "schema": [
        {
         "metadata": "{}",
         "name": "flow_direction",
         "type": "\"string\""
        },
        {
         "metadata": "{}",
         "name": "transfer_count",
         "type": "\"long\""
        },
        {
         "metadata": "{}",
         "name": "avg_los_hours",
         "type": "\"double\""
        }
       ],
       "type": "table"
      }
     },
     "output_type": "display_data"
    },
    {
     "output_type": "display_data",
     "data": {
      "text/plain": [
       "Databricks visualization. Run in Databricks to view."
      ]
     },
     "metadata": {
      "application/vnd.databricks.v1.subcommand+json": {
       "baseErrorDetails": null,
       "bindings": {},
       "collapsed": false,
       "command": "%sql WITH q AS (SELECT \n    'ICU to Non-ICU' as flow_direction,\n    COUNT(*) as transfer_count,\n    ROUND(AVG(t1.los), 2) as avg_los_hours\nFROM mimicdata_2567611159492892.mimic.transfers t1\nJOIN mimicdata_2567611159492892.mimic.transfers t2 ON t1.subject_id = t2.subject_id \n    AND t1.hadm_id = t2.hadm_id\n    AND t1.outtime = t2.intime\nWHERE t1.icustay_id IS NOT NULL \n    AND t2.icustay_id IS NULL\n    AND t1.eventtype = 'transfer'\n\nUNION ALL\n\nSELECT \n    'Non-ICU to ICU' as flow_direction,\n    COUNT(*) as transfer_count,\n    ROUND(AVG(t1.los), 2) as avg_los_hours\nFROM mimicdata_2567611159492892.mimic.transfers t1\nJOIN mimicdata_2567611159492892.mimic.transfers t2 ON t1.subject_id = t2.subject_id \n    AND t1.hadm_id = t2.hadm_id\n    AND t1.outtime = t2.intime\nWHERE t1.icustay_id IS NULL \n    AND t2.icustay_id IS NOT NULL\n    AND t1.eventtype = 'transfer') SELECT `flow_direction`,SUM(`avg_los_hours`) `column_29df5220363`,SUM(`transfer_count`) `column_29df5220364`,`flow_direction` FROM q GROUP BY `flow_direction`",
       "commandTitle": "Visualization 1",
       "commandType": "auto",
       "commandVersion": 0,
       "commentThread": [],
       "commentsVisible": false,
       "contentSha256Hex": null,
       "customPlotOptions": {
        "redashChart": [
         {
          "key": "type",
          "value": "CHART"
         },
         {
          "key": "options",
          "value": {
           "alignYAxesAtZero": true,
           "coefficient": 1,
           "columnConfigurationMap": {
            "series": {
             "column": "flow_direction",
             "id": "column_29df5220361"
            },
            "x": {
             "column": "flow_direction",
             "id": "column_29df5220362"
            },
            "y": [
             {
              "column": "avg_los_hours",
              "id": "column_29df5220363",
              "transform": "SUM"
             },
             {
              "column": "transfer_count",
              "id": "column_29df5220364",
              "transform": "SUM"
             }
            ]
           },
           "dateTimeFormat": "DD/MM/YYYY HH:mm",
           "direction": {
            "type": "counterclockwise"
           },
           "error_y": {
            "type": "data",
            "visible": true
           },
           "globalSeriesType": "column",
           "isAggregationOn": true,
           "legend": {
            "traceorder": "normal"
           },
           "missingValuesAsZero": true,
           "numberFormat": "0,0.[00000]",
           "percentFormat": "0[.]00%",
           "series": {
            "error_y": {
             "type": "data",
             "visible": true
            },
            "stacking": null
           },
           "seriesOptions": {
            "avg_los_hours": {
             "type": "column",
             "yAxis": 0
            },
            "column_29df5220360": {
             "name": "avg_los_hours",
             "type": "column",
             "yAxis": 0
            },
            "column_29df5220363": {
             "type": "column",
             "yAxis": 0
            },
            "column_29df5220364": {
             "type": "column",
             "yAxis": 0
            },
            "transfer_count": {
             "type": "column",
             "yAxis": 0
            }
           },
           "showDataLabels": false,
           "sizemode": "diameter",
           "sortX": true,
           "sortY": true,
           "swappedAxes": false,
           "textFormat": "",
           "useAggregationsUi": true,
           "valuesOptions": {},
           "version": 2,
           "xAxis": {
            "labels": {
             "enabled": true
            },
            "type": "-"
           },
           "yAxis": [
            {
             "type": "-"
            },
            {
             "opposite": true,
             "type": "-"
            }
           ]
          }
         }
        ]
       },
       "datasetPreviewNameToCmdIdMap": {},
       "diffDeletes": [],
       "diffInserts": [],
       "displayType": "redashChart",
       "error": null,
       "errorDetails": null,
       "errorSummary": null,
       "errorTraceType": null,
       "finishTime": 0,
       "globalVars": {},
       "guid": "",
       "height": "auto",
       "hideCommandCode": false,
       "hideCommandResult": false,
       "iPythonMetadata": null,
       "inputWidgets": {},
       "isLockedInExamMode": false,
       "latestUser": "a user",
       "latestUserId": null,
       "listResultMetadata": null,
       "metadata": {},
       "nuid": "165dba96-38c9-44df-9bf5-589e663f7f71",
       "origId": 0,
       "parentHierarchy": [],
       "pivotAggregation": null,
       "pivotColumns": null,
       "position": 25.0,
       "resultDbfsErrorMessage": null,
       "resultDbfsStatus": "INLINED_IN_TREE",
       "results": null,
       "showCommandTitle": false,
       "startTime": 0,
       "state": "input",
       "streamStates": {},
       "subcommandOptions": {
        "queryPlan": {
         "groups": [
          {
           "column": "flow_direction",
           "type": "column"
          },
          {
           "column": "flow_direction",
           "type": "column"
          }
         ],
         "selects": [
          {
           "column": "flow_direction",
           "type": "column"
          },
          {
           "alias": "column_29df5220363",
           "args": [
            {
             "column": "avg_los_hours",
             "type": "column"
            }
           ],
           "function": "SUM",
           "type": "function"
          },
          {
           "alias": "column_29df5220364",
           "args": [
            {
             "column": "transfer_count",
             "type": "column"
            }
           ],
           "function": "SUM",
           "type": "function"
          },
          {
           "column": "flow_direction",
           "type": "column"
          }
         ]
        }
       },
       "submitTime": 0,
       "subtype": "tableResultSubCmd.visualization",
       "tableResultIndex": 0,
       "tableResultSettingsMap": {},
       "useConsistentColors": false,
       "version": "CommandV1",
       "width": "auto",
       "workflows": [],
       "xColumns": null,
       "yColumns": null
      }
     },
     "output_type": "display_data"
    }
   ],
   "source": [
    "%sql\n",
    "SELECT \n",
    "    'ICU to Non-ICU' as flow_direction,\n",
    "    COUNT(*) as transfer_count,\n",
    "    ROUND(AVG(t1.los), 2) as avg_los_hours\n",
    "FROM mimicdata_2567611159492892.mimic.transfers t1\n",
    "JOIN mimicdata_2567611159492892.mimic.transfers t2 ON t1.subject_id = t2.subject_id \n",
    "    AND t1.hadm_id = t2.hadm_id\n",
    "    AND t1.outtime = t2.intime\n",
    "WHERE t1.icustay_id IS NOT NULL \n",
    "    AND t2.icustay_id IS NULL\n",
    "    AND t1.eventtype = 'transfer'\n",
    "\n",
    "UNION ALL\n",
    "\n",
    "SELECT \n",
    "    'Non-ICU to ICU' as flow_direction,\n",
    "    COUNT(*) as transfer_count,\n",
    "    ROUND(AVG(t1.los), 2) as avg_los_hours\n",
    "FROM mimicdata_2567611159492892.mimic.transfers t1\n",
    "JOIN mimicdata_2567611159492892.mimic.transfers t2 ON t1.subject_id = t2.subject_id \n",
    "    AND t1.hadm_id = t2.hadm_id\n",
    "    AND t1.outtime = t2.intime\n",
    "WHERE t1.icustay_id IS NULL \n",
    "    AND t2.icustay_id IS NOT NULL\n",
    "    AND t1.eventtype = 'transfer';"
   ]
  },
  {
   "cell_type": "code",
   "execution_count": 0,
   "metadata": {
    "application/vnd.databricks.v1+cell": {
     "cellMetadata": {
      "byteLimit": 2048000,
      "implicitDf": true,
      "rowLimit": 10000
     },
     "inputWidgets": {},
     "nuid": "46b3efac-b5e9-4a0e-9624-5384570d3a69",
     "showTitle": true,
     "tableResultSettingsMap": {},
     "title": "key values"
    }
   },
   "outputs": [
    {
     "output_type": "display_data",
     "data": {
      "text/html": [
       "<style scoped>\n",
       "  .table-result-container {\n",
       "    max-height: 300px;\n",
       "    overflow: auto;\n",
       "  }\n",
       "  table, th, td {\n",
       "    border: 1px solid black;\n",
       "    border-collapse: collapse;\n",
       "  }\n",
       "  th, td {\n",
       "    padding: 5px;\n",
       "  }\n",
       "  th {\n",
       "    text-align: left;\n",
       "  }\n",
       "</style><div class='table-result-container'><table class='table-result'><thead style='background-color: white'><tr><th>metric</th><th>value</th><th>unit</th></tr></thead><tbody><tr><td>Total Transfers</td><td>266.0</td><td></td></tr><tr><td>Average LOS</td><td>71.9</td><td>hours</td></tr><tr><td>ICU Utilization</td><td>31.87</td><td>%</td></tr><tr><td>Complex Patients (5+ events)</td><td>42.0</td><td>patients</td></tr></tbody></table></div>"
      ]
     },
     "metadata": {
      "application/vnd.databricks.v1+output": {
       "addedWidgets": {},
       "aggData": [],
       "aggError": "",
       "aggOverflow": false,
       "aggSchema": [],
       "aggSeriesLimitReached": false,
       "aggType": "",
       "arguments": {},
       "columnCustomDisplayInfos": {},
       "data": [
        [
         "Total Transfers",
         266.0,
         ""
        ],
        [
         "Average LOS",
         71.9,
         "hours"
        ],
        [
         "ICU Utilization",
         31.87,
         "%"
        ],
        [
         "Complex Patients (5+ events)",
         42.0,
         "patients"
        ]
       ],
       "datasetInfos": [],
       "dbfsResultPath": null,
       "isJsonSchema": true,
       "metadata": {
        "dataframeName": "_sqldf",
        "executionCount": 45
       },
       "overflow": false,
       "plotOptions": {
        "customPlotOptions": {},
        "displayType": "table",
        "pivotAggregation": null,
        "pivotColumns": null,
        "xColumns": null,
        "yColumns": null
       },
       "removedWidgets": [],
       "schema": [
        {
         "metadata": "{}",
         "name": "metric",
         "type": "\"string\""
        },
        {
         "metadata": "{}",
         "name": "value",
         "type": "\"double\""
        },
        {
         "metadata": "{}",
         "name": "unit",
         "type": "\"string\""
        }
       ],
       "type": "table"
      }
     },
     "output_type": "display_data"
    },
    {
     "output_type": "display_data",
     "data": {
      "text/plain": [
       "Databricks visualization. Run in Databricks to view."
      ]
     },
     "metadata": {
      "application/vnd.databricks.v1.subcommand+json": {
       "baseErrorDetails": null,
       "bindings": {},
       "collapsed": false,
       "command": "%sql WITH q AS (SELECT \n    'Total Transfers' as metric,\n    COUNT(*) as value,\n    '' as unit\nFROM mimicdata_2567611159492892.mimic.transfers\nWHERE eventtype = 'transfer'\n\nUNION ALL\n\nSELECT \n    'Average LOS',\n    ROUND(AVG(los), 2),\n    'hours'\nFROM mimicdata_2567611159492892.mimic.transfers\nWHERE los IS NOT NULL AND los > 0\n\nUNION ALL\n\nSELECT \n    'ICU Utilization',\n    ROUND(COUNT(CASE WHEN icustay_id IS NOT NULL THEN 1 END) * 100.0 / COUNT(*), 2),\n    '%'\nFROM mimicdata_2567611159492892.mimic.transfers\n\nUNION ALL\n\nSELECT \n    'Complex Patients (5+ events)',\n    (SELECT COUNT(*) FROM (\n        SELECT subject_id FROM mimicdata_2567611159492892.mimic.transfers GROUP BY subject_id HAVING COUNT(*) >= 5\n    ) complex_patients),\n    'patients') SELECT `metric`,`unit`,SUM(`value`) `column_29df5220369` FROM q GROUP BY `metric`,`unit`",
       "commandTitle": "Visualization 1",
       "commandType": "auto",
       "commandVersion": 0,
       "commentThread": [],
       "commentsVisible": false,
       "contentSha256Hex": null,
       "customPlotOptions": {
        "redashChart": [
         {
          "key": "type",
          "value": "CHART"
         },
         {
          "key": "options",
          "value": {
           "alignYAxesAtZero": true,
           "coefficient": 1,
           "columnConfigurationMap": {
            "series": {
             "column": "unit",
             "id": "column_29df5220368"
            },
            "x": {
             "column": "metric",
             "id": "column_29df5220367"
            },
            "y": [
             {
              "column": "value",
              "id": "column_29df5220369",
              "transform": "SUM"
             }
            ]
           },
           "dateTimeFormat": "DD/MM/YYYY HH:mm",
           "direction": {
            "type": "counterclockwise"
           },
           "error_y": {
            "type": "data",
            "visible": true
           },
           "globalSeriesType": "column",
           "isAggregationOn": true,
           "legend": {
            "traceorder": "normal"
           },
           "missingValuesAsZero": true,
           "numberFormat": "0,0.[00000]",
           "percentFormat": "0[.]00%",
           "series": {
            "error_y": {
             "type": "data",
             "visible": true
            },
            "stacking": "stack"
           },
           "seriesOptions": {
            "column_29df5220369": {
             "name": "value",
             "type": "column",
             "yAxis": 0
            },
            "column_29df5220372": {
             "type": "column",
             "yAxis": 0
            }
           },
           "showDataLabels": false,
           "sizemode": "diameter",
           "sortX": true,
           "sortY": true,
           "swappedAxes": true,
           "textFormat": "",
           "useAggregationsUi": true,
           "valuesOptions": {},
           "version": 2,
           "xAxis": {
            "labels": {
             "enabled": true
            },
            "type": "-"
           },
           "yAxis": [
            {
             "type": "-"
            },
            {
             "opposite": true,
             "type": "-"
            }
           ]
          }
         }
        ]
       },
       "datasetPreviewNameToCmdIdMap": {},
       "diffDeletes": [],
       "diffInserts": [],
       "displayType": "redashChart",
       "error": null,
       "errorDetails": null,
       "errorSummary": null,
       "errorTraceType": null,
       "finishTime": 0,
       "globalVars": {},
       "guid": "",
       "height": "auto",
       "hideCommandCode": false,
       "hideCommandResult": false,
       "iPythonMetadata": null,
       "inputWidgets": {},
       "isLockedInExamMode": false,
       "latestUser": "a user",
       "latestUserId": null,
       "listResultMetadata": null,
       "metadata": {},
       "nuid": "f34512bc-c60c-47e6-84cd-55181728ab55",
       "origId": 0,
       "parentHierarchy": [],
       "pivotAggregation": null,
       "pivotColumns": null,
       "position": 26.0,
       "resultDbfsErrorMessage": null,
       "resultDbfsStatus": "INLINED_IN_TREE",
       "results": null,
       "showCommandTitle": false,
       "startTime": 0,
       "state": "input",
       "streamStates": {},
       "subcommandOptions": {
        "queryPlan": {
         "groups": [
          {
           "column": "metric",
           "type": "column"
          },
          {
           "column": "unit",
           "type": "column"
          }
         ],
         "selects": [
          {
           "column": "metric",
           "type": "column"
          },
          {
           "column": "unit",
           "type": "column"
          },
          {
           "alias": "column_29df5220369",
           "args": [
            {
             "column": "value",
             "type": "column"
            }
           ],
           "function": "SUM",
           "type": "function"
          }
         ]
        }
       },
       "submitTime": 0,
       "subtype": "tableResultSubCmd.visualization",
       "tableResultIndex": 0,
       "tableResultSettingsMap": {},
       "useConsistentColors": false,
       "version": "CommandV1",
       "width": "auto",
       "workflows": [],
       "xColumns": null,
       "yColumns": null
      }
     },
     "output_type": "display_data"
    }
   ],
   "source": [
    "%sql\n",
    "SELECT \n",
    "    'Total Transfers' as metric,\n",
    "    COUNT(*) as value,\n",
    "    '' as unit\n",
    "FROM mimicdata_2567611159492892.mimic.transfers\n",
    "WHERE eventtype = 'transfer'\n",
    "\n",
    "UNION ALL\n",
    "\n",
    "SELECT \n",
    "    'Average LOS',\n",
    "    ROUND(AVG(los), 2),\n",
    "    'hours'\n",
    "FROM mimicdata_2567611159492892.mimic.transfers\n",
    "WHERE los IS NOT NULL AND los > 0\n",
    "\n",
    "UNION ALL\n",
    "\n",
    "SELECT \n",
    "    'ICU Utilization',\n",
    "    ROUND(COUNT(CASE WHEN icustay_id IS NOT NULL THEN 1 END) * 100.0 / COUNT(*), 2),\n",
    "    '%'\n",
    "FROM mimicdata_2567611159492892.mimic.transfers\n",
    "\n",
    "UNION ALL\n",
    "\n",
    "SELECT \n",
    "    'Complex Patients (5+ events)',\n",
    "    (SELECT COUNT(*) FROM (\n",
    "        SELECT subject_id FROM mimicdata_2567611159492892.mimic.transfers GROUP BY subject_id HAVING COUNT(*) >= 5\n",
    "    ) complex_patients),\n",
    "    'patients'\n"
   ]
  }
 ],
 "metadata": {
  "application/vnd.databricks.v1+notebook": {
   "computePreferences": null,
   "dashboards": [],
   "environmentMetadata": {
    "base_environment": "",
    "environment_version": "2"
   },
   "inputWidgetPreferences": null,
   "language": "python",
   "notebookMetadata": {
    "mostRecentlyExecutedCommandWithImplicitDF": {
     "commandId": 8786638941637318,
     "dataframes": [
      "_sqldf"
     ]
    },
    "pythonIndentUnit": 4
   },
   "notebookName": "28 TRANSFERS",
   "widgets": {}
  },
  "language_info": {
   "name": "python"
  }
 },
 "nbformat": 4,
 "nbformat_minor": 0
}