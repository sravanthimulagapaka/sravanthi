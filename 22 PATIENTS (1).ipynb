{
 "cells": [
  {
   "cell_type": "code",
   "execution_count": 0,
   "metadata": {
    "application/vnd.databricks.v1+cell": {
     "cellMetadata": {
      "byteLimit": 2048000,
      "implicitDf": true,
      "rowLimit": 10000
     },
     "inputWidgets": {},
     "nuid": "9ac2b8ca-56f9-4598-87ff-5c88c9c60cc0",
     "showTitle": false,
     "tableResultSettingsMap": {},
     "title": ""
    }
   },
   "outputs": [
    {
     "output_type": "display_data",
     "data": {
      "text/html": [
       "<style scoped>\n",
       "  .table-result-container {\n",
       "    max-height: 300px;\n",
       "    overflow: auto;\n",
       "  }\n",
       "  table, th, td {\n",
       "    border: 1px solid black;\n",
       "    border-collapse: collapse;\n",
       "  }\n",
       "  th, td {\n",
       "    padding: 5px;\n",
       "  }\n",
       "  th {\n",
       "    text-align: left;\n",
       "  }\n",
       "</style><div class='table-result-container'><table class='table-result'><thead style='background-color: white'><tr></tr></thead><tbody></tbody></table></div>"
      ]
     },
     "metadata": {
      "application/vnd.databricks.v1+output": {
       "addedWidgets": {},
       "aggData": [],
       "aggError": "",
       "aggOverflow": false,
       "aggSchema": [],
       "aggSeriesLimitReached": false,
       "aggType": "",
       "arguments": {},
       "columnCustomDisplayInfos": {},
       "data": [],
       "datasetInfos": [],
       "dbfsResultPath": null,
       "isJsonSchema": true,
       "metadata": {
        "dataframeName": null
       },
       "overflow": false,
       "plotOptions": {
        "customPlotOptions": {},
        "displayType": "table",
        "pivotAggregation": null,
        "pivotColumns": null,
        "xColumns": null,
        "yColumns": null
       },
       "removedWidgets": [],
       "schema": [],
       "type": "table"
      }
     },
     "output_type": "display_data"
    }
   ],
   "source": [
    "%sql\n",
    "CREATE SCHEMA IF NOT EXISTS mimic"
   ]
  },
  {
   "cell_type": "code",
   "execution_count": 0,
   "metadata": {
    "application/vnd.databricks.v1+cell": {
     "cellMetadata": {
      "byteLimit": 2048000,
      "rowLimit": 10000
     },
     "inputWidgets": {},
     "nuid": "b24d2d0c-5bce-4b54-906e-e6d26e39e006",
     "showTitle": false,
     "tableResultSettingsMap": {},
     "title": ""
    }
   },
   "outputs": [],
   "source": [
    "patients_df = spark.read.option(\"header\", \"true\").option(\"inferSchema\", \"true\").csv(\"dbfs:/mnt/mimic/PATIENTS.csv\")"
   ]
  },
  {
   "cell_type": "code",
   "execution_count": 0,
   "metadata": {
    "application/vnd.databricks.v1+cell": {
     "cellMetadata": {
      "byteLimit": 2048000,
      "rowLimit": 10000
     },
     "inputWidgets": {},
     "nuid": "b123e7e5-dca4-4e09-9ea6-0487a2473fa4",
     "showTitle": false,
     "tableResultSettingsMap": {},
     "title": ""
    }
   },
   "outputs": [],
   "source": [
    "patients_df.write.format(\"delta\").mode(\"overwrite\").saveAsTable(\"mimic.patients\")"
   ]
  },
  {
   "cell_type": "code",
   "execution_count": 0,
   "metadata": {
    "application/vnd.databricks.v1+cell": {
     "cellMetadata": {
      "byteLimit": 2048000,
      "implicitDf": true,
      "rowLimit": 10000
     },
     "inputWidgets": {},
     "nuid": "4b33a6e1-f0e1-4ea9-b85b-2b034f40e075",
     "showTitle": true,
     "tableResultSettingsMap": {},
     "title": "Total patient counts& gender"
    }
   },
   "outputs": [
    {
     "output_type": "display_data",
     "data": {
      "text/html": [
       "<style scoped>\n",
       "  .table-result-container {\n",
       "    max-height: 300px;\n",
       "    overflow: auto;\n",
       "  }\n",
       "  table, th, td {\n",
       "    border: 1px solid black;\n",
       "    border-collapse: collapse;\n",
       "  }\n",
       "  th, td {\n",
       "    padding: 5px;\n",
       "  }\n",
       "  th {\n",
       "    text-align: left;\n",
       "  }\n",
       "</style><div class='table-result-container'><table class='table-result'><thead style='background-color: white'><tr><th>total_patients</th><th>unique_patients</th><th>male_count</th><th>female_count</th><th>male_percentage</th><th>female_percentage</th></tr></thead><tbody><tr><td>100</td><td>100</td><td>45</td><td>55</td><td>45.00</td><td>55.00</td></tr></tbody></table></div>"
      ]
     },
     "metadata": {
      "application/vnd.databricks.v1+output": {
       "addedWidgets": {},
       "aggData": [],
       "aggError": "",
       "aggOverflow": false,
       "aggSchema": [],
       "aggSeriesLimitReached": false,
       "aggType": "",
       "arguments": {},
       "columnCustomDisplayInfos": {},
       "data": [
        [
         100,
         100,
         45,
         55,
         "45.00",
         "55.00"
        ]
       ],
       "datasetInfos": [],
       "dbfsResultPath": null,
       "isJsonSchema": true,
       "metadata": {
        "createTempViewForImplicitDf": true,
        "dataframeName": "_sqldf",
        "executionCount": 3
       },
       "overflow": false,
       "plotOptions": {
        "customPlotOptions": {},
        "displayType": "table",
        "pivotAggregation": null,
        "pivotColumns": null,
        "xColumns": null,
        "yColumns": null
       },
       "removedWidgets": [],
       "schema": [
        {
         "metadata": "{}",
         "name": "total_patients",
         "type": "\"long\""
        },
        {
         "metadata": "{}",
         "name": "unique_patients",
         "type": "\"long\""
        },
        {
         "metadata": "{}",
         "name": "male_count",
         "type": "\"long\""
        },
        {
         "metadata": "{}",
         "name": "female_count",
         "type": "\"long\""
        },
        {
         "metadata": "{}",
         "name": "male_percentage",
         "type": "\"decimal(8,2)\""
        },
        {
         "metadata": "{}",
         "name": "female_percentage",
         "type": "\"decimal(8,2)\""
        }
       ],
       "type": "table"
      }
     },
     "output_type": "display_data"
    },
    {
     "output_type": "display_data",
     "data": {
      "text/plain": [
       "Databricks visualization. Run in Databricks to view."
      ]
     },
     "metadata": {
      "application/vnd.databricks.v1.subcommand+json": {
       "baseErrorDetails": null,
       "bindings": {},
       "collapsed": false,
       "command": "%sql WITH q AS (SELECT \n    COUNT(*) AS total_patients,\n    COUNT(DISTINCT subject_id) AS unique_patients,\n    SUM(CASE WHEN gender = 'M' THEN 1 ELSE 0 END) AS male_count,\n    SUM(CASE WHEN gender = 'F' THEN 1 ELSE 0 END) AS female_count,\n    ROUND(AVG(CASE WHEN gender = 'M' THEN 1.0 ELSE 0.0 END) * 100, 2) AS male_percentage,\n    ROUND(AVG(CASE WHEN gender = 'F' THEN 1.0 ELSE 0.0 END) * 100, 2) AS female_percentage\nFROM mimicdata_2567611159492892.mimic.patients) SELECT `total_patients`,SUM(`male_count`) `column_29df52201695`,SUM(`female_count`) `column_29df52201698`,SUM(`female_count`) `column_29df52201701` FROM q GROUP BY `total_patients`",
       "commandTitle": "Visualization 1",
       "commandType": "auto",
       "commandVersion": 0,
       "commentThread": [],
       "commentsVisible": false,
       "contentSha256Hex": null,
       "customPlotOptions": {
        "redashChart": [
         {
          "key": "type",
          "value": "CHART"
         },
         {
          "key": "options",
          "value": {
           "alignYAxesAtZero": true,
           "coefficient": 1,
           "columnConfigurationMap": {
            "x": {
             "column": "total_patients",
             "id": "column_29df52201693"
            },
            "y": [
             {
              "column": "male_count",
              "id": "column_29df52201695",
              "transform": "SUM"
             },
             {
              "column": "female_count",
              "id": "column_29df52201698",
              "transform": "SUM"
             },
             {
              "column": "female_count",
              "id": "column_29df52201701",
              "transform": "SUM"
             }
            ]
           },
           "dateTimeFormat": "DD/MM/YYYY HH:mm",
           "direction": {
            "type": "counterclockwise"
           },
           "error_y": {
            "type": "data",
            "visible": true
           },
           "globalSeriesType": "column",
           "isAggregationOn": true,
           "legend": {
            "traceorder": "normal"
           },
           "missingValuesAsZero": true,
           "numberFormat": "0,0.[00000]",
           "percentFormat": "0[.]00%",
           "series": {
            "error_y": {
             "type": "data",
             "visible": true
            },
            "stacking": null
           },
           "seriesOptions": {
            "column_29df52201695": {
             "type": "column",
             "yAxis": 0
            },
            "column_29df52201698": {
             "type": "column",
             "yAxis": 0
            },
            "column_29df52201701": {
             "type": "column",
             "yAxis": 0
            }
           },
           "showDataLabels": false,
           "sizemode": "diameter",
           "sortX": true,
           "sortY": true,
           "swappedAxes": false,
           "textFormat": "",
           "useAggregationsUi": true,
           "valuesOptions": {},
           "version": 2,
           "xAxis": {
            "labels": {
             "enabled": true
            },
            "type": "-"
           },
           "yAxis": [
            {
             "type": "-"
            },
            {
             "opposite": true,
             "type": "-"
            }
           ]
          }
         }
        ]
       },
       "datasetPreviewNameToCmdIdMap": {},
       "diffDeletes": [],
       "diffInserts": [],
       "displayType": "redashChart",
       "error": null,
       "errorDetails": null,
       "errorSummary": null,
       "errorTraceType": null,
       "finishTime": 0,
       "globalVars": {},
       "guid": "",
       "height": "auto",
       "hideCommandCode": false,
       "hideCommandResult": false,
       "iPythonMetadata": null,
       "inputWidgets": {},
       "isLockedInExamMode": false,
       "latestUser": "a user",
       "latestUserId": null,
       "listResultMetadata": null,
       "metadata": {},
       "nuid": "10dd136d-1db0-4d83-a659-67fba2fcd09f",
       "origId": 0,
       "parentHierarchy": [],
       "pivotAggregation": null,
       "pivotColumns": null,
       "position": 5.0,
       "resultDbfsErrorMessage": null,
       "resultDbfsStatus": "INLINED_IN_TREE",
       "results": null,
       "showCommandTitle": false,
       "startTime": 0,
       "state": "input",
       "streamStates": {},
       "subcommandOptions": {
        "queryPlan": {
         "groups": [
          {
           "column": "total_patients",
           "type": "column"
          }
         ],
         "selects": [
          {
           "column": "total_patients",
           "type": "column"
          },
          {
           "alias": "column_29df52201695",
           "args": [
            {
             "column": "male_count",
             "type": "column"
            }
           ],
           "function": "SUM",
           "type": "function"
          },
          {
           "alias": "column_29df52201698",
           "args": [
            {
             "column": "female_count",
             "type": "column"
            }
           ],
           "function": "SUM",
           "type": "function"
          },
          {
           "alias": "column_29df52201701",
           "args": [
            {
             "column": "female_count",
             "type": "column"
            }
           ],
           "function": "SUM",
           "type": "function"
          }
         ]
        }
       },
       "submitTime": 0,
       "subtype": "tableResultSubCmd.visualization",
       "tableResultIndex": 0,
       "tableResultSettingsMap": {},
       "useConsistentColors": false,
       "version": "CommandV1",
       "width": "auto",
       "workflows": [],
       "xColumns": null,
       "yColumns": null
      }
     },
     "output_type": "display_data"
    }
   ],
   "source": [
    "%sql\n",
    "SELECT \n",
    "    COUNT(*) AS total_patients,\n",
    "    COUNT(DISTINCT subject_id) AS unique_patients,\n",
    "    SUM(CASE WHEN gender = 'M' THEN 1 ELSE 0 END) AS male_count,\n",
    "    SUM(CASE WHEN gender = 'F' THEN 1 ELSE 0 END) AS female_count,\n",
    "    ROUND(AVG(CASE WHEN gender = 'M' THEN 1.0 ELSE 0.0 END) * 100, 2) AS male_percentage,\n",
    "    ROUND(AVG(CASE WHEN gender = 'F' THEN 1.0 ELSE 0.0 END) * 100, 2) AS female_percentage\n",
    "FROM mimicdata_2567611159492892.mimic.patients;"
   ]
  },
  {
   "cell_type": "code",
   "execution_count": 0,
   "metadata": {
    "application/vnd.databricks.v1+cell": {
     "cellMetadata": {
      "byteLimit": 2048000,
      "implicitDf": true,
      "rowLimit": 10000
     },
     "inputWidgets": {},
     "nuid": "a896b4a6-6365-47cb-bb7f-36c7ecadb635",
     "showTitle": true,
     "tableResultSettingsMap": {},
     "title": "Age at death"
    }
   },
   "outputs": [
    {
     "output_type": "display_data",
     "data": {
      "text/html": [
       "<style scoped>\n",
       "  .table-result-container {\n",
       "    max-height: 300px;\n",
       "    overflow: auto;\n",
       "  }\n",
       "  table, th, td {\n",
       "    border: 1px solid black;\n",
       "    border-collapse: collapse;\n",
       "  }\n",
       "  th, td {\n",
       "    padding: 5px;\n",
       "  }\n",
       "  th {\n",
       "    text-align: left;\n",
       "  }\n",
       "</style><div class='table-result-container'><table class='table-result'><thead style='background-color: white'><tr><th>gender</th><th>patient_count</th><th>avg_age_at_death</th><th>min_age_at_death</th><th>max_age_at_death</th><th>stddev_age</th></tr></thead><tbody><tr><td>F</td><td>55</td><td>94.2</td><td>20.0</td><td>302.4</td><td>67.9</td></tr><tr><td>M</td><td>45</td><td>83.6</td><td>27.0</td><td>301.1</td><td>60.9</td></tr></tbody></table></div>"
      ]
     },
     "metadata": {
      "application/vnd.databricks.v1+output": {
       "addedWidgets": {},
       "aggData": [],
       "aggError": "",
       "aggOverflow": false,
       "aggSchema": [],
       "aggSeriesLimitReached": false,
       "aggType": "",
       "arguments": {},
       "columnCustomDisplayInfos": {},
       "data": [
        [
         "F",
         55,
         "94.2",
         "20.0",
         "302.4",
         67.9
        ],
        [
         "M",
         45,
         "83.6",
         "27.0",
         "301.1",
         60.9
        ]
       ],
       "datasetInfos": [],
       "dbfsResultPath": null,
       "isJsonSchema": true,
       "metadata": {
        "dataframeName": "_sqldf",
        "executionCount": 3
       },
       "overflow": false,
       "plotOptions": {
        "customPlotOptions": {},
        "displayType": "table",
        "pivotAggregation": null,
        "pivotColumns": null,
        "xColumns": null,
        "yColumns": null
       },
       "removedWidgets": [],
       "schema": [
        {
         "metadata": "{}",
         "name": "gender",
         "type": "\"string\""
        },
        {
         "metadata": "{}",
         "name": "patient_count",
         "type": "\"long\""
        },
        {
         "metadata": "{}",
         "name": "avg_age_at_death",
         "type": "\"decimal(14,1)\""
        },
        {
         "metadata": "{}",
         "name": "min_age_at_death",
         "type": "\"decimal(14,1)\""
        },
        {
         "metadata": "{}",
         "name": "max_age_at_death",
         "type": "\"decimal(14,1)\""
        },
        {
         "metadata": "{}",
         "name": "stddev_age",
         "type": "\"double\""
        }
       ],
       "type": "table"
      }
     },
     "output_type": "display_data"
    },
    {
     "output_type": "display_data",
     "data": {
      "text/plain": [
       "Databricks visualization. Run in Databricks to view."
      ]
     },
     "metadata": {
      "application/vnd.databricks.v1.subcommand+json": {
       "baseErrorDetails": null,
       "bindings": {},
       "collapsed": false,
       "command": "%sql WITH q AS (SELECT \n    gender,\n    COUNT(*) AS patient_count,\n    ROUND(AVG(DATEDIFF(dod, dob) / 365.25), 1) AS avg_age_at_death,\n    ROUND(MIN(DATEDIFF(dod, dob) / 365.25), 1) AS min_age_at_death,\n    ROUND(MAX(DATEDIFF(dod, dob) / 365.25), 1) AS max_age_at_death,\n    ROUND(STDDEV(DATEDIFF(dod, dob) / 365.25), 1) AS stddev_age\nFROM  mimicdata_2567611159492892.mimic.patients\nWHERE dod IS NOT NULL\nGROUP BY gender\nORDER BY gender) SELECT `gender`,SUM(`patient_count`) `column_29df52201705` FROM q GROUP BY `gender`",
       "commandTitle": "Visualization 1",
       "commandType": "auto",
       "commandVersion": 0,
       "commentThread": [],
       "commentsVisible": false,
       "contentSha256Hex": null,
       "customPlotOptions": {
        "redashChart": [
         {
          "key": "type",
          "value": "CHART"
         },
         {
          "key": "options",
          "value": {
           "alignYAxesAtZero": true,
           "coefficient": 1,
           "columnConfigurationMap": {
            "x": {
             "column": "gender",
             "id": "column_29df52201703"
            },
            "y": [
             {
              "column": "patient_count",
              "id": "column_29df52201705",
              "transform": "SUM"
             }
            ]
           },
           "dateTimeFormat": "DD/MM/YYYY HH:mm",
           "direction": {
            "type": "counterclockwise"
           },
           "error_y": {
            "type": "data",
            "visible": true
           },
           "globalSeriesType": "column",
           "isAggregationOn": true,
           "legend": {
            "traceorder": "normal"
           },
           "missingValuesAsZero": true,
           "numberFormat": "0,0.[00000]",
           "percentFormat": "0[.]00%",
           "series": {
            "error_y": {
             "type": "data",
             "visible": true
            },
            "stacking": null
           },
           "seriesOptions": {
            "column_29df52201705": {
             "type": "column",
             "yAxis": 0
            }
           },
           "showDataLabels": false,
           "sizemode": "diameter",
           "sortX": true,
           "sortY": true,
           "swappedAxes": false,
           "textFormat": "",
           "useAggregationsUi": true,
           "valuesOptions": {},
           "version": 2,
           "xAxis": {
            "labels": {
             "enabled": true
            },
            "type": "-"
           },
           "yAxis": [
            {
             "type": "-"
            },
            {
             "opposite": true,
             "type": "-"
            }
           ]
          }
         }
        ]
       },
       "datasetPreviewNameToCmdIdMap": {},
       "diffDeletes": [],
       "diffInserts": [],
       "displayType": "redashChart",
       "error": null,
       "errorDetails": null,
       "errorSummary": null,
       "errorTraceType": null,
       "finishTime": 0,
       "globalVars": {},
       "guid": "",
       "height": "auto",
       "hideCommandCode": false,
       "hideCommandResult": false,
       "iPythonMetadata": null,
       "inputWidgets": {},
       "isLockedInExamMode": false,
       "latestUser": "a user",
       "latestUserId": null,
       "listResultMetadata": null,
       "metadata": {},
       "nuid": "8ece0730-dbef-4fe1-93ce-ced2cbb179c3",
       "origId": 0,
       "parentHierarchy": [],
       "pivotAggregation": null,
       "pivotColumns": null,
       "position": 6.0,
       "resultDbfsErrorMessage": null,
       "resultDbfsStatus": "INLINED_IN_TREE",
       "results": null,
       "showCommandTitle": false,
       "startTime": 0,
       "state": "input",
       "streamStates": {},
       "subcommandOptions": {
        "queryPlan": {
         "groups": [
          {
           "column": "gender",
           "type": "column"
          }
         ],
         "selects": [
          {
           "column": "gender",
           "type": "column"
          },
          {
           "alias": "column_29df52201705",
           "args": [
            {
             "column": "patient_count",
             "type": "column"
            }
           ],
           "function": "SUM",
           "type": "function"
          }
         ]
        }
       },
       "submitTime": 0,
       "subtype": "tableResultSubCmd.visualization",
       "tableResultIndex": 0,
       "tableResultSettingsMap": {},
       "useConsistentColors": false,
       "version": "CommandV1",
       "width": "auto",
       "workflows": [],
       "xColumns": null,
       "yColumns": null
      }
     },
     "output_type": "display_data"
    },
    {
     "output_type": "display_data",
     "data": {
      "text/plain": [
       "Databricks visualization. Run in Databricks to view."
      ]
     },
     "metadata": {
      "application/vnd.databricks.v1.subcommand+json": {
       "baseErrorDetails": null,
       "bindings": {},
       "collapsed": false,
       "command": "%sql WITH q AS (SELECT \n    gender,\n    COUNT(*) AS patient_count,\n    ROUND(AVG(DATEDIFF(dod, dob) / 365.25), 1) AS avg_age_at_death,\n    ROUND(MIN(DATEDIFF(dod, dob) / 365.25), 1) AS min_age_at_death,\n    ROUND(MAX(DATEDIFF(dod, dob) / 365.25), 1) AS max_age_at_death,\n    ROUND(STDDEV(DATEDIFF(dod, dob) / 365.25), 1) AS stddev_age\nFROM  mimicdata_2567611159492892.mimic.patients\nWHERE dod IS NOT NULL\nGROUP BY gender\nORDER BY gender) SELECT `gender`,SUM(`patient_count`) `column_29df52201709`,SUM(`avg_age_at_death`) `column_29df52201712`,SUM(`min_age_at_death`) `column_29df52201715`,SUM(`max_age_at_death`) `column_29df52201718` FROM q GROUP BY `gender`",
       "commandTitle": "Visualization 2",
       "commandType": "auto",
       "commandVersion": 0,
       "commentThread": [],
       "commentsVisible": false,
       "contentSha256Hex": null,
       "customPlotOptions": {
        "redashChart": [
         {
          "key": "type",
          "value": "CHART"
         },
         {
          "key": "options",
          "value": {
           "alignYAxesAtZero": true,
           "coefficient": 1,
           "columnConfigurationMap": {
            "x": {
             "column": "gender",
             "id": "column_29df52201707"
            },
            "y": [
             {
              "column": "patient_count",
              "id": "column_29df52201709",
              "transform": "SUM"
             },
             {
              "column": "avg_age_at_death",
              "id": "column_29df52201712",
              "transform": "SUM"
             },
             {
              "column": "min_age_at_death",
              "id": "column_29df52201715",
              "transform": "SUM"
             },
             {
              "column": "max_age_at_death",
              "id": "column_29df52201718",
              "transform": "SUM"
             }
            ]
           },
           "dateTimeFormat": "DD/MM/YYYY HH:mm",
           "direction": {
            "type": "counterclockwise"
           },
           "error_y": {
            "type": "data",
            "visible": true
           },
           "globalSeriesType": "column",
           "isAggregationOn": true,
           "legend": {
            "traceorder": "normal"
           },
           "missingValuesAsZero": true,
           "numberFormat": "0,0.[00000]",
           "percentFormat": "0[.]00%",
           "series": {
            "error_y": {
             "type": "data",
             "visible": true
            },
            "stacking": null
           },
           "seriesOptions": {
            "column_29df52201709": {
             "type": "column",
             "yAxis": 0
            },
            "column_29df52201712": {
             "type": "column",
             "yAxis": 0
            },
            "column_29df52201715": {
             "type": "column",
             "yAxis": 0
            },
            "column_29df52201718": {
             "type": "column",
             "yAxis": 0
            }
           },
           "showDataLabels": false,
           "sizemode": "diameter",
           "sortX": true,
           "sortY": true,
           "swappedAxes": false,
           "textFormat": "",
           "useAggregationsUi": true,
           "valuesOptions": {},
           "version": 2,
           "xAxis": {
            "labels": {
             "enabled": true
            },
            "type": "-"
           },
           "yAxis": [
            {
             "type": "-"
            },
            {
             "opposite": true,
             "type": "-"
            }
           ]
          }
         }
        ]
       },
       "datasetPreviewNameToCmdIdMap": {},
       "diffDeletes": [],
       "diffInserts": [],
       "displayType": "redashChart",
       "error": null,
       "errorDetails": null,
       "errorSummary": null,
       "errorTraceType": null,
       "finishTime": 0,
       "globalVars": {},
       "guid": "",
       "height": "auto",
       "hideCommandCode": false,
       "hideCommandResult": false,
       "iPythonMetadata": null,
       "inputWidgets": {},
       "isLockedInExamMode": false,
       "latestUser": "a user",
       "latestUserId": null,
       "listResultMetadata": null,
       "metadata": {},
       "nuid": "216c25b8-0792-45c6-ab34-5a725d491d2c",
       "origId": 0,
       "parentHierarchy": [],
       "pivotAggregation": null,
       "pivotColumns": null,
       "position": 7.0,
       "resultDbfsErrorMessage": null,
       "resultDbfsStatus": "INLINED_IN_TREE",
       "results": null,
       "showCommandTitle": false,
       "startTime": 0,
       "state": "input",
       "streamStates": {},
       "subcommandOptions": {
        "queryPlan": {
         "groups": [
          {
           "column": "gender",
           "type": "column"
          }
         ],
         "selects": [
          {
           "column": "gender",
           "type": "column"
          },
          {
           "alias": "column_29df52201709",
           "args": [
            {
             "column": "patient_count",
             "type": "column"
            }
           ],
           "function": "SUM",
           "type": "function"
          },
          {
           "alias": "column_29df52201712",
           "args": [
            {
             "column": "avg_age_at_death",
             "type": "column"
            }
           ],
           "function": "SUM",
           "type": "function"
          },
          {
           "alias": "column_29df52201715",
           "args": [
            {
             "column": "min_age_at_death",
             "type": "column"
            }
           ],
           "function": "SUM",
           "type": "function"
          },
          {
           "alias": "column_29df52201718",
           "args": [
            {
             "column": "max_age_at_death",
             "type": "column"
            }
           ],
           "function": "SUM",
           "type": "function"
          }
         ]
        }
       },
       "submitTime": 0,
       "subtype": "tableResultSubCmd.visualization",
       "tableResultIndex": 0,
       "tableResultSettingsMap": {},
       "useConsistentColors": false,
       "version": "CommandV1",
       "width": "auto",
       "workflows": [],
       "xColumns": null,
       "yColumns": null
      }
     },
     "output_type": "display_data"
    }
   ],
   "source": [
    "%sql\n",
    "SELECT \n",
    "    MIN(DATEDIFF(dod, dob) / 365.25) AS min_age_at_death,\n",
    "    MAX(DATEDIFF(dod, dob) / 365.25) AS max_age_at_death,\n",
    "    ROUND(AVG(DATEDIFF(dod, dob) / 365.25), 2) AS avg_age_at_death,\n",
    "    ROUND(STDDEV(DATEDIFF(dod, dob) / 365.25), 2) AS stddev_age_at_death,\n",
    "    COUNT(CASE WHEN DATEDIFF(dod, dob) / 365.25 >= 100 THEN 1 END) AS centenarians_count\n",
    "FROM mimicdata_2567611159492892.mimic.patients\n",
    "WHERE dod IS NOT NULL;\n",
    "\n",
    "-- Age distribution by gender\n",
    "SELECT \n",
    "    gender,\n",
    "    COUNT(*) AS patient_count,\n",
    "    ROUND(AVG(DATEDIFF(dod, dob) / 365.25), 1) AS avg_age_at_death,\n",
    "    ROUND(MIN(DATEDIFF(dod, dob) / 365.25), 1) AS min_age_at_death,\n",
    "    ROUND(MAX(DATEDIFF(dod, dob) / 365.25), 1) AS max_age_at_death,\n",
    "    ROUND(STDDEV(DATEDIFF(dod, dob) / 365.25), 1) AS stddev_age\n",
    "FROM  mimicdata_2567611159492892.mimic.patients\n",
    "WHERE dod IS NOT NULL\n",
    "GROUP BY gender\n",
    "ORDER BY gender;"
   ]
  },
  {
   "cell_type": "code",
   "execution_count": 0,
   "metadata": {
    "application/vnd.databricks.v1+cell": {
     "cellMetadata": {
      "byteLimit": 2048000,
      "implicitDf": true,
      "rowLimit": 10000
     },
     "inputWidgets": {},
     "nuid": "157557f7-bd23-4a54-8097-e41735d67d35",
     "showTitle": true,
     "tableResultSettingsMap": {},
     "title": "Age groups at death"
    }
   },
   "outputs": [
    {
     "output_type": "display_data",
     "data": {
      "text/html": [
       "<style scoped>\n",
       "  .table-result-container {\n",
       "    max-height: 300px;\n",
       "    overflow: auto;\n",
       "  }\n",
       "  table, th, td {\n",
       "    border: 1px solid black;\n",
       "    border-collapse: collapse;\n",
       "  }\n",
       "  th, td {\n",
       "    padding: 5px;\n",
       "  }\n",
       "  th {\n",
       "    text-align: left;\n",
       "  }\n",
       "</style><div class='table-result-container'><table class='table-result'><thead style='background-color: white'><tr><th>age_group</th><th>patient_count</th><th>percentage</th></tr></thead><tbody><tr><td>0-20</td><td>1</td><td>1.00</td></tr><tr><td>21-40</td><td>4</td><td>4.00</td></tr><tr><td>41-60</td><td>15</td><td>15.00</td></tr><tr><td>61-80</td><td>34</td><td>34.00</td></tr><tr><td>81-100</td><td>34</td><td>34.00</td></tr><tr><td>100+</td><td>8</td><td>8.00</td></tr><tr><td>Unknown</td><td>4</td><td>4.00</td></tr></tbody></table></div>"
      ]
     },
     "metadata": {
      "application/vnd.databricks.v1+output": {
       "addedWidgets": {},
       "aggData": [],
       "aggError": "",
       "aggOverflow": false,
       "aggSchema": [],
       "aggSeriesLimitReached": false,
       "aggType": "",
       "arguments": {},
       "columnCustomDisplayInfos": {},
       "data": [
        [
         "0-20",
         1,
         "1.00"
        ],
        [
         "21-40",
         4,
         "4.00"
        ],
        [
         "41-60",
         15,
         "15.00"
        ],
        [
         "61-80",
         34,
         "34.00"
        ],
        [
         "81-100",
         34,
         "34.00"
        ],
        [
         "100+",
         8,
         "8.00"
        ],
        [
         "Unknown",
         4,
         "4.00"
        ]
       ],
       "datasetInfos": [],
       "dbfsResultPath": null,
       "isJsonSchema": true,
       "metadata": {
        "dataframeName": "_sqldf",
        "executionCount": 4
       },
       "overflow": false,
       "plotOptions": {
        "customPlotOptions": {},
        "displayType": "table",
        "pivotAggregation": null,
        "pivotColumns": null,
        "xColumns": null,
        "yColumns": null
       },
       "removedWidgets": [],
       "schema": [
        {
         "metadata": "{}",
         "name": "age_group",
         "type": "\"string\""
        },
        {
         "metadata": "{}",
         "name": "patient_count",
         "type": "\"long\""
        },
        {
         "metadata": "{}",
         "name": "percentage",
         "type": "\"decimal(27,2)\""
        }
       ],
       "type": "table"
      }
     },
     "output_type": "display_data"
    },
    {
     "output_type": "display_data",
     "data": {
      "text/plain": [
       "Databricks visualization. Run in Databricks to view."
      ]
     },
     "metadata": {
      "application/vnd.databricks.v1.subcommand+json": {
       "baseErrorDetails": null,
       "bindings": {},
       "collapsed": false,
       "command": "%sql WITH q AS (SELECT \n    CASE \n        WHEN DATEDIFF(dod, dob) / 365.25 BETWEEN 0 AND 20 THEN '0-20'\n        WHEN DATEDIFF(dod, dob) / 365.25 BETWEEN 21 AND 40 THEN '21-40'\n        WHEN DATEDIFF(dod, dob) / 365.25 BETWEEN 41 AND 60 THEN '41-60'\n        WHEN DATEDIFF(dod, dob) / 365.25 BETWEEN 61 AND 80 THEN '61-80'\n        WHEN DATEDIFF(dod, dob) / 365.25 BETWEEN 81 AND 100 THEN '81-100'\n        WHEN DATEDIFF(dod, dob) / 365.25 > 100 THEN '100+'\n        ELSE 'Unknown'\n    END AS age_group,\n    COUNT(*) AS patient_count,\n    ROUND(COUNT(*) * 100.0 / (SELECT COUNT(*) FROM mimicdata_2567611159492892.mimic.patients WHERE dod IS NOT NULL), 2) AS percentage\nFROM mimicdata_2567611159492892.mimic.patients \nWHERE dod IS NOT NULL\nGROUP BY \n    CASE \n        WHEN DATEDIFF(dod, dob) / 365.25 BETWEEN 0 AND 20 THEN '0-20'\n        WHEN DATEDIFF(dod, dob) / 365.25 BETWEEN 21 AND 40 THEN '21-40'\n        WHEN DATEDIFF(dod, dob) / 365.25 BETWEEN 41 AND 60 THEN '41-60'\n        WHEN DATEDIFF(dod, dob) / 365.25 BETWEEN 61 AND 80 THEN '61-80'\n        WHEN DATEDIFF(dod, dob) / 365.25 BETWEEN 81 AND 100 THEN '81-100'\n        WHEN DATEDIFF(dod, dob) / 365.25 > 100 THEN '100+'\n        ELSE 'Unknown'\n    END\nORDER BY \n    CASE age_group\n        WHEN '0-20' THEN 1\n        WHEN '21-40' THEN 2\n        WHEN '41-60' THEN 3\n        WHEN '61-80' THEN 4\n        WHEN '81-100' THEN 5\n        WHEN '100+' THEN 6\n        ELSE 7\n    END) SELECT `age_group`,SUM(`patient_count`) `column_29df52201724`,`age_group` FROM q GROUP BY `age_group`",
       "commandTitle": "Visualization 1",
       "commandType": "auto",
       "commandVersion": 0,
       "commentThread": [],
       "commentsVisible": false,
       "contentSha256Hex": null,
       "customPlotOptions": {
        "redashChart": [
         {
          "key": "type",
          "value": "CHART"
         },
         {
          "key": "options",
          "value": {
           "alignYAxesAtZero": true,
           "coefficient": 1,
           "columnConfigurationMap": {
            "series": {
             "column": "age_group",
             "id": "column_29df52201722"
            },
            "x": {
             "column": "age_group",
             "id": "column_29df52201723"
            },
            "y": [
             {
              "column": "patient_count",
              "id": "column_29df52201724",
              "transform": "SUM"
             }
            ]
           },
           "dateTimeFormat": "DD/MM/YYYY HH:mm",
           "direction": {
            "type": "counterclockwise"
           },
           "error_y": {
            "type": "data",
            "visible": true
           },
           "globalSeriesType": "column",
           "isAggregationOn": true,
           "legend": {
            "traceorder": "normal"
           },
           "missingValuesAsZero": true,
           "numberFormat": "0,0.[00000]",
           "percentFormat": "0[.]00%",
           "series": {
            "error_y": {
             "type": "data",
             "visible": true
            },
            "stacking": null
           },
           "seriesOptions": {
            "column_29df52201721": {
             "name": "percentage",
             "type": "column",
             "yAxis": 0
            },
            "column_29df52201724": {
             "type": "column",
             "yAxis": 0
            },
            "patient_count": {
             "type": "column",
             "yAxis": 0
            }
           },
           "showDataLabels": false,
           "sizemode": "diameter",
           "sortX": true,
           "sortY": true,
           "swappedAxes": false,
           "textFormat": "",
           "useAggregationsUi": true,
           "valuesOptions": {},
           "version": 2,
           "xAxis": {
            "labels": {
             "enabled": true
            },
            "type": "-"
           },
           "yAxis": [
            {
             "type": "-"
            },
            {
             "opposite": true,
             "type": "-"
            }
           ]
          }
         }
        ]
       },
       "datasetPreviewNameToCmdIdMap": {},
       "diffDeletes": [],
       "diffInserts": [],
       "displayType": "redashChart",
       "error": null,
       "errorDetails": null,
       "errorSummary": null,
       "errorTraceType": null,
       "finishTime": 0,
       "globalVars": {},
       "guid": "",
       "height": "auto",
       "hideCommandCode": false,
       "hideCommandResult": false,
       "iPythonMetadata": null,
       "inputWidgets": {},
       "isLockedInExamMode": false,
       "latestUser": "a user",
       "latestUserId": null,
       "listResultMetadata": null,
       "metadata": {},
       "nuid": "62d147bc-dfaa-417d-aa62-d123b78a5e09",
       "origId": 0,
       "parentHierarchy": [],
       "pivotAggregation": null,
       "pivotColumns": null,
       "position": 7.0,
       "resultDbfsErrorMessage": null,
       "resultDbfsStatus": "INLINED_IN_TREE",
       "results": null,
       "showCommandTitle": false,
       "startTime": 0,
       "state": "input",
       "streamStates": {},
       "subcommandOptions": {
        "queryPlan": {
         "groups": [
          {
           "column": "age_group",
           "type": "column"
          },
          {
           "column": "age_group",
           "type": "column"
          }
         ],
         "selects": [
          {
           "column": "age_group",
           "type": "column"
          },
          {
           "alias": "column_29df52201724",
           "args": [
            {
             "column": "patient_count",
             "type": "column"
            }
           ],
           "function": "SUM",
           "type": "function"
          },
          {
           "column": "age_group",
           "type": "column"
          }
         ]
        }
       },
       "submitTime": 0,
       "subtype": "tableResultSubCmd.visualization",
       "tableResultIndex": 0,
       "tableResultSettingsMap": {},
       "useConsistentColors": false,
       "version": "CommandV1",
       "width": "auto",
       "workflows": [],
       "xColumns": null,
       "yColumns": null
      }
     },
     "output_type": "display_data"
    }
   ],
   "source": [
    "%sql\n",
    "SELECT \n",
    "    CASE \n",
    "        WHEN DATEDIFF(dod, dob) / 365.25 BETWEEN 0 AND 20 THEN '0-20'\n",
    "        WHEN DATEDIFF(dod, dob) / 365.25 BETWEEN 21 AND 40 THEN '21-40'\n",
    "        WHEN DATEDIFF(dod, dob) / 365.25 BETWEEN 41 AND 60 THEN '41-60'\n",
    "        WHEN DATEDIFF(dod, dob) / 365.25 BETWEEN 61 AND 80 THEN '61-80'\n",
    "        WHEN DATEDIFF(dod, dob) / 365.25 BETWEEN 81 AND 100 THEN '81-100'\n",
    "        WHEN DATEDIFF(dod, dob) / 365.25 > 100 THEN '100+'\n",
    "        ELSE 'Unknown'\n",
    "    END AS age_group,\n",
    "    COUNT(*) AS patient_count,\n",
    "    ROUND(COUNT(*) * 100.0 / (SELECT COUNT(*) FROM mimicdata_2567611159492892.mimic.patients WHERE dod IS NOT NULL), 2) AS percentage\n",
    "FROM mimicdata_2567611159492892.mimic.patients \n",
    "WHERE dod IS NOT NULL\n",
    "GROUP BY \n",
    "    CASE \n",
    "        WHEN DATEDIFF(dod, dob) / 365.25 BETWEEN 0 AND 20 THEN '0-20'\n",
    "        WHEN DATEDIFF(dod, dob) / 365.25 BETWEEN 21 AND 40 THEN '21-40'\n",
    "        WHEN DATEDIFF(dod, dob) / 365.25 BETWEEN 41 AND 60 THEN '41-60'\n",
    "        WHEN DATEDIFF(dod, dob) / 365.25 BETWEEN 61 AND 80 THEN '61-80'\n",
    "        WHEN DATEDIFF(dod, dob) / 365.25 BETWEEN 81 AND 100 THEN '81-100'\n",
    "        WHEN DATEDIFF(dod, dob) / 365.25 > 100 THEN '100+'\n",
    "        ELSE 'Unknown'\n",
    "    END\n",
    "ORDER BY \n",
    "    CASE age_group\n",
    "        WHEN '0-20' THEN 1\n",
    "        WHEN '21-40' THEN 2\n",
    "        WHEN '41-60' THEN 3\n",
    "        WHEN '61-80' THEN 4\n",
    "        WHEN '81-100' THEN 5\n",
    "        WHEN '100+' THEN 6\n",
    "        ELSE 7\n",
    "    END;"
   ]
  },
  {
   "cell_type": "code",
   "execution_count": 0,
   "metadata": {
    "application/vnd.databricks.v1+cell": {
     "cellMetadata": {
      "byteLimit": 2048000,
      "implicitDf": true,
      "rowLimit": 10000
     },
     "inputWidgets": {},
     "nuid": "4f741015-4c5a-413b-9e9b-17ecdfb5c0ce",
     "showTitle": true,
     "tableResultSettingsMap": {},
     "title": "Birth/death decade"
    }
   },
   "outputs": [
    {
     "output_type": "display_data",
     "data": {
      "text/html": [
       "<style scoped>\n",
       "  .table-result-container {\n",
       "    max-height: 300px;\n",
       "    overflow: auto;\n",
       "  }\n",
       "  table, th, td {\n",
       "    border: 1px solid black;\n",
       "    border-collapse: collapse;\n",
       "  }\n",
       "  th, td {\n",
       "    padding: 5px;\n",
       "  }\n",
       "  th {\n",
       "    text-align: left;\n",
       "  }\n",
       "</style><div class='table-result-container'><table class='table-result'><thead style='background-color: white'><tr><th>death_year</th><th>deaths_per_year</th><th>male_deaths</th><th>female_deaths</th></tr></thead><tbody><tr><td>2105</td><td>3</td><td>2</td><td>1</td></tr><tr><td>2107</td><td>3</td><td>2</td><td>1</td></tr><tr><td>2108</td><td>1</td><td>0</td><td>1</td></tr><tr><td>2111</td><td>1</td><td>0</td><td>1</td></tr><tr><td>2112</td><td>1</td><td>1</td><td>0</td></tr><tr><td>2114</td><td>1</td><td>1</td><td>0</td></tr><tr><td>2115</td><td>1</td><td>1</td><td>0</td></tr><tr><td>2117</td><td>1</td><td>0</td><td>1</td></tr><tr><td>2119</td><td>1</td><td>0</td><td>1</td></tr><tr><td>2120</td><td>2</td><td>1</td><td>1</td></tr><tr><td>2122</td><td>1</td><td>0</td><td>1</td></tr><tr><td>2123</td><td>1</td><td>0</td><td>1</td></tr><tr><td>2124</td><td>1</td><td>0</td><td>1</td></tr><tr><td>2125</td><td>2</td><td>0</td><td>2</td></tr><tr><td>2126</td><td>2</td><td>1</td><td>1</td></tr><tr><td>2127</td><td>2</td><td>2</td><td>0</td></tr><tr><td>2128</td><td>2</td><td>2</td><td>0</td></tr><tr><td>2129</td><td>2</td><td>0</td><td>2</td></tr><tr><td>2130</td><td>2</td><td>1</td><td>1</td></tr><tr><td>2131</td><td>1</td><td>0</td><td>1</td></tr><tr><td>2132</td><td>1</td><td>1</td><td>0</td></tr><tr><td>2133</td><td>2</td><td>1</td><td>1</td></tr><tr><td>2136</td><td>1</td><td>1</td><td>0</td></tr><tr><td>2138</td><td>2</td><td>1</td><td>1</td></tr><tr><td>2140</td><td>1</td><td>1</td><td>0</td></tr><tr><td>2141</td><td>1</td><td>1</td><td>0</td></tr><tr><td>2142</td><td>1</td><td>1</td><td>0</td></tr><tr><td>2144</td><td>2</td><td>1</td><td>1</td></tr><tr><td>2145</td><td>2</td><td>1</td><td>1</td></tr><tr><td>2146</td><td>1</td><td>1</td><td>0</td></tr><tr><td>2147</td><td>3</td><td>1</td><td>2</td></tr><tr><td>2148</td><td>1</td><td>0</td><td>1</td></tr><tr><td>2150</td><td>3</td><td>2</td><td>1</td></tr><tr><td>2151</td><td>1</td><td>0</td><td>1</td></tr><tr><td>2152</td><td>3</td><td>0</td><td>3</td></tr><tr><td>2154</td><td>1</td><td>0</td><td>1</td></tr><tr><td>2155</td><td>1</td><td>0</td><td>1</td></tr><tr><td>2156</td><td>1</td><td>1</td><td>0</td></tr><tr><td>2159</td><td>1</td><td>0</td><td>1</td></tr><tr><td>2160</td><td>2</td><td>0</td><td>2</td></tr><tr><td>2161</td><td>1</td><td>1</td><td>0</td></tr><tr><td>2163</td><td>2</td><td>2</td><td>0</td></tr><tr><td>2165</td><td>3</td><td>2</td><td>1</td></tr><tr><td>2166</td><td>2</td><td>2</td><td>0</td></tr><tr><td>2167</td><td>1</td><td>1</td><td>0</td></tr><tr><td>2169</td><td>1</td><td>1</td><td>0</td></tr><tr><td>2170</td><td>1</td><td>0</td><td>1</td></tr><tr><td>2171</td><td>2</td><td>0</td><td>2</td></tr><tr><td>2173</td><td>1</td><td>1</td><td>0</td></tr><tr><td>2176</td><td>1</td><td>0</td><td>1</td></tr><tr><td>2178</td><td>3</td><td>1</td><td>2</td></tr><tr><td>2180</td><td>2</td><td>1</td><td>1</td></tr><tr><td>2181</td><td>1</td><td>1</td><td>0</td></tr><tr><td>2182</td><td>1</td><td>1</td><td>0</td></tr><tr><td>2184</td><td>1</td><td>0</td><td>1</td></tr><tr><td>2185</td><td>1</td><td>0</td><td>1</td></tr><tr><td>2186</td><td>2</td><td>0</td><td>2</td></tr><tr><td>2188</td><td>1</td><td>0</td><td>1</td></tr><tr><td>2190</td><td>1</td><td>0</td><td>1</td></tr><tr><td>2191</td><td>1</td><td>1</td><td>0</td></tr><tr><td>2192</td><td>2</td><td>0</td><td>2</td></tr><tr><td>2193</td><td>1</td><td>0</td><td>1</td></tr><tr><td>2195</td><td>2</td><td>0</td><td>2</td></tr><tr><td>2196</td><td>1</td><td>0</td><td>1</td></tr><tr><td>2200</td><td>1</td><td>1</td><td>0</td></tr><tr><td>2201</td><td>1</td><td>0</td><td>1</td></tr><tr><td>2202</td><td>1</td><td>1</td><td>0</td></tr></tbody></table></div>"
      ]
     },
     "metadata": {
      "application/vnd.databricks.v1+output": {
       "addedWidgets": {},
       "aggData": [],
       "aggError": "",
       "aggOverflow": false,
       "aggSchema": [],
       "aggSeriesLimitReached": false,
       "aggType": "",
       "arguments": {},
       "columnCustomDisplayInfos": {},
       "data": [
        [
         2105,
         3,
         2,
         1
        ],
        [
         2107,
         3,
         2,
         1
        ],
        [
         2108,
         1,
         0,
         1
        ],
        [
         2111,
         1,
         0,
         1
        ],
        [
         2112,
         1,
         1,
         0
        ],
        [
         2114,
         1,
         1,
         0
        ],
        [
         2115,
         1,
         1,
         0
        ],
        [
         2117,
         1,
         0,
         1
        ],
        [
         2119,
         1,
         0,
         1
        ],
        [
         2120,
         2,
         1,
         1
        ],
        [
         2122,
         1,
         0,
         1
        ],
        [
         2123,
         1,
         0,
         1
        ],
        [
         2124,
         1,
         0,
         1
        ],
        [
         2125,
         2,
         0,
         2
        ],
        [
         2126,
         2,
         1,
         1
        ],
        [
         2127,
         2,
         2,
         0
        ],
        [
         2128,
         2,
         2,
         0
        ],
        [
         2129,
         2,
         0,
         2
        ],
        [
         2130,
         2,
         1,
         1
        ],
        [
         2131,
         1,
         0,
         1
        ],
        [
         2132,
         1,
         1,
         0
        ],
        [
         2133,
         2,
         1,
         1
        ],
        [
         2136,
         1,
         1,
         0
        ],
        [
         2138,
         2,
         1,
         1
        ],
        [
         2140,
         1,
         1,
         0
        ],
        [
         2141,
         1,
         1,
         0
        ],
        [
         2142,
         1,
         1,
         0
        ],
        [
         2144,
         2,
         1,
         1
        ],
        [
         2145,
         2,
         1,
         1
        ],
        [
         2146,
         1,
         1,
         0
        ],
        [
         2147,
         3,
         1,
         2
        ],
        [
         2148,
         1,
         0,
         1
        ],
        [
         2150,
         3,
         2,
         1
        ],
        [
         2151,
         1,
         0,
         1
        ],
        [
         2152,
         3,
         0,
         3
        ],
        [
         2154,
         1,
         0,
         1
        ],
        [
         2155,
         1,
         0,
         1
        ],
        [
         2156,
         1,
         1,
         0
        ],
        [
         2159,
         1,
         0,
         1
        ],
        [
         2160,
         2,
         0,
         2
        ],
        [
         2161,
         1,
         1,
         0
        ],
        [
         2163,
         2,
         2,
         0
        ],
        [
         2165,
         3,
         2,
         1
        ],
        [
         2166,
         2,
         2,
         0
        ],
        [
         2167,
         1,
         1,
         0
        ],
        [
         2169,
         1,
         1,
         0
        ],
        [
         2170,
         1,
         0,
         1
        ],
        [
         2171,
         2,
         0,
         2
        ],
        [
         2173,
         1,
         1,
         0
        ],
        [
         2176,
         1,
         0,
         1
        ],
        [
         2178,
         3,
         1,
         2
        ],
        [
         2180,
         2,
         1,
         1
        ],
        [
         2181,
         1,
         1,
         0
        ],
        [
         2182,
         1,
         1,
         0
        ],
        [
         2184,
         1,
         0,
         1
        ],
        [
         2185,
         1,
         0,
         1
        ],
        [
         2186,
         2,
         0,
         2
        ],
        [
         2188,
         1,
         0,
         1
        ],
        [
         2190,
         1,
         0,
         1
        ],
        [
         2191,
         1,
         1,
         0
        ],
        [
         2192,
         2,
         0,
         2
        ],
        [
         2193,
         1,
         0,
         1
        ],
        [
         2195,
         2,
         0,
         2
        ],
        [
         2196,
         1,
         0,
         1
        ],
        [
         2200,
         1,
         1,
         0
        ],
        [
         2201,
         1,
         0,
         1
        ],
        [
         2202,
         1,
         1,
         0
        ]
       ],
       "datasetInfos": [],
       "dbfsResultPath": null,
       "isJsonSchema": true,
       "metadata": {
        "dataframeName": "_sqldf",
        "executionCount": 5
       },
       "overflow": false,
       "plotOptions": {
        "customPlotOptions": {},
        "displayType": "table",
        "pivotAggregation": null,
        "pivotColumns": null,
        "xColumns": null,
        "yColumns": null
       },
       "removedWidgets": [],
       "schema": [
        {
         "metadata": "{}",
         "name": "death_year",
         "type": "\"integer\""
        },
        {
         "metadata": "{}",
         "name": "deaths_per_year",
         "type": "\"long\""
        },
        {
         "metadata": "{}",
         "name": "male_deaths",
         "type": "\"long\""
        },
        {
         "metadata": "{}",
         "name": "female_deaths",
         "type": "\"long\""
        }
       ],
       "type": "table"
      }
     },
     "output_type": "display_data"
    },
    {
     "output_type": "display_data",
     "data": {
      "text/plain": [
       "Databricks visualization. Run in Databricks to view."
      ]
     },
     "metadata": {
      "application/vnd.databricks.v1.subcommand+json": {
       "baseErrorDetails": null,
       "bindings": {},
       "collapsed": false,
       "command": "%sql WITH q AS (SELECT \n    YEAR(dod) AS death_year,\n    COUNT(*) AS deaths_per_year,\n    SUM(CASE WHEN gender = 'M' THEN 1 ELSE 0 END) AS male_deaths,\n    SUM(CASE WHEN gender = 'F' THEN 1 ELSE 0 END) AS female_deaths\nFROM mimicdata_2567611159492892.mimic.patients \nWHERE dod IS NOT NULL\nGROUP BY YEAR(dod)\nORDER BY YEAR(dod)) SELECT `death_year`,SUM(`deaths_per_year`) `column_29df52201728`,SUM(`male_deaths`) `column_29df52201731`,SUM(`female_deaths`) `column_29df52201734` FROM q GROUP BY `death_year`",
       "commandTitle": "Visualization 1",
       "commandType": "auto",
       "commandVersion": 0,
       "commentThread": [],
       "commentsVisible": false,
       "contentSha256Hex": null,
       "customPlotOptions": {
        "redashChart": [
         {
          "key": "type",
          "value": "CHART"
         },
         {
          "key": "options",
          "value": {
           "alignYAxesAtZero": true,
           "coefficient": 1,
           "columnConfigurationMap": {
            "x": {
             "column": "death_year",
             "id": "column_29df52201726"
            },
            "y": [
             {
              "column": "deaths_per_year",
              "id": "column_29df52201728",
              "transform": "SUM"
             },
             {
              "column": "male_deaths",
              "id": "column_29df52201731",
              "transform": "SUM"
             },
             {
              "column": "female_deaths",
              "id": "column_29df52201734",
              "transform": "SUM"
             }
            ]
           },
           "dateTimeFormat": "DD/MM/YYYY HH:mm",
           "direction": {
            "type": "counterclockwise"
           },
           "error_y": {
            "type": "data",
            "visible": true
           },
           "globalSeriesType": "column",
           "isAggregationOn": true,
           "legend": {
            "traceorder": "normal"
           },
           "missingValuesAsZero": true,
           "numberFormat": "0,0.[00000]",
           "percentFormat": "0[.]00%",
           "series": {
            "error_y": {
             "type": "data",
             "visible": true
            },
            "stacking": null
           },
           "seriesOptions": {
            "column_29df52201728": {
             "type": "column",
             "yAxis": 0
            },
            "column_29df52201731": {
             "type": "column",
             "yAxis": 0
            },
            "column_29df52201734": {
             "type": "column",
             "yAxis": 0
            }
           },
           "showDataLabels": false,
           "sizemode": "diameter",
           "sortX": true,
           "sortY": true,
           "swappedAxes": false,
           "textFormat": "",
           "useAggregationsUi": true,
           "valuesOptions": {},
           "version": 2,
           "xAxis": {
            "labels": {
             "enabled": true
            },
            "type": "-"
           },
           "yAxis": [
            {
             "type": "-"
            },
            {
             "opposite": true,
             "type": "-"
            }
           ]
          }
         }
        ]
       },
       "datasetPreviewNameToCmdIdMap": {},
       "diffDeletes": [],
       "diffInserts": [],
       "displayType": "redashChart",
       "error": null,
       "errorDetails": null,
       "errorSummary": null,
       "errorTraceType": null,
       "finishTime": 0,
       "globalVars": {},
       "guid": "",
       "height": "auto",
       "hideCommandCode": false,
       "hideCommandResult": false,
       "iPythonMetadata": null,
       "inputWidgets": {},
       "isLockedInExamMode": false,
       "latestUser": "a user",
       "latestUserId": null,
       "listResultMetadata": null,
       "metadata": {},
       "nuid": "f93b874f-30dd-4f91-b381-2e806eedf23a",
       "origId": 0,
       "parentHierarchy": [],
       "pivotAggregation": null,
       "pivotColumns": null,
       "position": 8.0,
       "resultDbfsErrorMessage": null,
       "resultDbfsStatus": "INLINED_IN_TREE",
       "results": null,
       "showCommandTitle": false,
       "startTime": 0,
       "state": "input",
       "streamStates": {},
       "subcommandOptions": {
        "queryPlan": {
         "groups": [
          {
           "column": "death_year",
           "type": "column"
          }
         ],
         "selects": [
          {
           "column": "death_year",
           "type": "column"
          },
          {
           "alias": "column_29df52201728",
           "args": [
            {
             "column": "deaths_per_year",
             "type": "column"
            }
           ],
           "function": "SUM",
           "type": "function"
          },
          {
           "alias": "column_29df52201731",
           "args": [
            {
             "column": "male_deaths",
             "type": "column"
            }
           ],
           "function": "SUM",
           "type": "function"
          },
          {
           "alias": "column_29df52201734",
           "args": [
            {
             "column": "female_deaths",
             "type": "column"
            }
           ],
           "function": "SUM",
           "type": "function"
          }
         ]
        }
       },
       "submitTime": 0,
       "subtype": "tableResultSubCmd.visualization",
       "tableResultIndex": 0,
       "tableResultSettingsMap": {},
       "useConsistentColors": false,
       "version": "CommandV1",
       "width": "auto",
       "workflows": [],
       "xColumns": null,
       "yColumns": null
      }
     },
     "output_type": "display_data"
    }
   ],
   "source": [
    "%sql\n",
    "SELECT \n",
    "    CONCAT(FLOOR(YEAR(dob) / 10) * 10, 's') AS birth_decade,\n",
    "    COUNT(*) AS patient_count,\n",
    "    ROUND(COUNT(*) * 100.0 / (SELECT COUNT(*) FROM mimicdata_2567611159492892.mimic.patients), 2) AS percentage\n",
    "FROM mimicdata_2567611159492892.mimic.patients\n",
    "GROUP BY FLOOR(YEAR(dob) / 10) * 10\n",
    "ORDER BY FLOOR(YEAR(dob) / 10) * 10;\n",
    "\n",
    "-- Death decade distribution\n",
    "SELECT \n",
    "    CONCAT(FLOOR(YEAR(dod) / 10) * 10, 's') AS death_decade,\n",
    "    COUNT(*) AS death_count,\n",
    "    ROUND(COUNT(*) * 100.0 / (SELECT COUNT(*) FROM mimicdata_2567611159492892.mimic.patients WHERE dod IS NOT NULL), 2) AS percentage\n",
    "FROM mimicdata_2567611159492892.mimic.patients\n",
    "WHERE dod IS NOT NULL\n",
    "GROUP BY FLOOR(YEAR(dod) / 10) * 10\n",
    "ORDER BY FLOOR(YEAR(dod) / 10) * 10;\n",
    "\n",
    "-- Year-over-year death trends (for line charts)\n",
    "SELECT \n",
    "    YEAR(dod) AS death_year,\n",
    "    COUNT(*) AS deaths_per_year,\n",
    "    SUM(CASE WHEN gender = 'M' THEN 1 ELSE 0 END) AS male_deaths,\n",
    "    SUM(CASE WHEN gender = 'F' THEN 1 ELSE 0 END) AS female_deaths\n",
    "FROM mimicdata_2567611159492892.mimic.patients \n",
    "WHERE dod IS NOT NULL\n",
    "GROUP BY YEAR(dod)\n",
    "ORDER BY YEAR(dod);"
   ]
  },
  {
   "cell_type": "code",
   "execution_count": 0,
   "metadata": {
    "application/vnd.databricks.v1+cell": {
     "cellMetadata": {
      "byteLimit": 2048000,
      "implicitDf": true,
      "rowLimit": 10000
     },
     "inputWidgets": {},
     "nuid": "f98bba2d-af71-47af-9600-a8051cf1d65d",
     "showTitle": true,
     "tableResultSettingsMap": {},
     "title": "Data completeness analysis"
    }
   },
   "outputs": [
    {
     "output_type": "display_data",
     "data": {
      "text/html": [
       "<style scoped>\n",
       "  .table-result-container {\n",
       "    max-height: 300px;\n",
       "    overflow: auto;\n",
       "  }\n",
       "  table, th, td {\n",
       "    border: 1px solid black;\n",
       "    border-collapse: collapse;\n",
       "  }\n",
       "  th, td {\n",
       "    padding: 5px;\n",
       "  }\n",
       "  th {\n",
       "    text-align: left;\n",
       "  }\n",
       "</style><div class='table-result-container'><table class='table-result'><thead style='background-color: white'><tr><th>metric</th><th>count</th><th>completeness</th></tr></thead><tbody><tr><td>Records with DOB</td><td>100</td><td>100.00%</td></tr><tr><td>Records with DOD</td><td>100</td><td>100.00%</td></tr><tr><td>Records with Hospital DOD</td><td>70</td><td>70.00%</td></tr><tr><td>Records with SSN DOD</td><td>77</td><td>77.00%</td></tr><tr><td>Total Records</td><td>100</td><td>100%</td></tr></tbody></table></div>"
      ]
     },
     "metadata": {
      "application/vnd.databricks.v1+output": {
       "addedWidgets": {},
       "aggData": [],
       "aggError": "",
       "aggOverflow": false,
       "aggSchema": [],
       "aggSeriesLimitReached": false,
       "aggType": "",
       "arguments": {},
       "columnCustomDisplayInfos": {},
       "data": [
        [
         "Records with DOB",
         100,
         "100.00%"
        ],
        [
         "Records with DOD",
         100,
         "100.00%"
        ],
        [
         "Records with Hospital DOD",
         70,
         "70.00%"
        ],
        [
         "Records with SSN DOD",
         77,
         "77.00%"
        ],
        [
         "Total Records",
         100,
         "100%"
        ]
       ],
       "datasetInfos": [],
       "dbfsResultPath": null,
       "isJsonSchema": true,
       "metadata": {
        "dataframeName": "_sqldf",
        "executionCount": 6
       },
       "overflow": false,
       "plotOptions": {
        "customPlotOptions": {},
        "displayType": "table",
        "pivotAggregation": null,
        "pivotColumns": null,
        "xColumns": null,
        "yColumns": null
       },
       "removedWidgets": [],
       "schema": [
        {
         "metadata": "{}",
         "name": "metric",
         "type": "\"string\""
        },
        {
         "metadata": "{}",
         "name": "count",
         "type": "\"long\""
        },
        {
         "metadata": "{}",
         "name": "completeness",
         "type": "\"string\""
        }
       ],
       "type": "table"
      }
     },
     "output_type": "display_data"
    },
    {
     "output_type": "display_data",
     "data": {
      "text/plain": [
       "Databricks visualization. Run in Databricks to view."
      ]
     },
     "metadata": {
      "application/vnd.databricks.v1.subcommand+json": {
       "baseErrorDetails": null,
       "bindings": {},
       "collapsed": false,
       "command": "%sql WITH q AS (SELECT \n    'Total Records' AS metric,\n    COUNT(*) AS count,\n    '100%' AS completeness\nFROM mimicdata_2567611159492892.mimic.patients\n\nUNION ALL\n\nSELECT \n    'Records with DOB' AS metric,\n    COUNT(*) AS count,\n    CONCAT(ROUND(COUNT(*) * 100.0 / (SELECT COUNT(*) FROM mimicdata_2567611159492892.mimic.patients), 2), '%') AS completeness\nFROM mimicdata_2567611159492892.mimic.patients\nWHERE dob IS NOT NULL\n\nUNION ALL\n\nSELECT \n    'Records with DOD' AS metric,\n    COUNT(*) AS count,\n    CONCAT(ROUND(COUNT(*) * 100.0 / (SELECT COUNT(*) FROM mimicdata_2567611159492892.mimic.patients), 2), '%') AS completeness\nFROM mimicdata_2567611159492892.mimic.patients \nWHERE dod IS NOT NULL\n\nUNION ALL\n\nSELECT \n    'Records with Hospital DOD' AS metric,\n    COUNT(*) AS count,\n    CONCAT(ROUND(COUNT(*) * 100.0 / (SELECT COUNT(*) FROM mimicdata_2567611159492892.mimic.patients), 2), '%') AS completeness\nFROM mimicdata_2567611159492892.mimic.patients \nWHERE dod_hosp IS NOT NULL\n\nUNION ALL\n\nSELECT \n    'Records with SSN DOD' AS metric,\n    COUNT(*) AS count,\n    CONCAT(ROUND(COUNT(*) * 100.0 / (SELECT COUNT(*) FROM mimicdata_2567611159492892.mimic.patients), 2), '%') AS completeness\nFROM mimicdata_2567611159492892.mimic.patients \nWHERE dod_ssn IS NOT NULL) SELECT `metric`,`completeness`,SUM(`count`) `column_29df52201738` FROM q GROUP BY `completeness`,`metric`",
       "commandTitle": "Visualization 1",
       "commandType": "auto",
       "commandVersion": 0,
       "commentThread": [],
       "commentsVisible": false,
       "contentSha256Hex": null,
       "customPlotOptions": {
        "redashChart": [
         {
          "key": "type",
          "value": "CHART"
         },
         {
          "key": "options",
          "value": {
           "alignYAxesAtZero": true,
           "coefficient": 1,
           "columnConfigurationMap": {
            "series": {
             "column": "completeness",
             "id": "column_29df52201737"
            },
            "x": {
             "column": "metric",
             "id": "column_29df52201736"
            },
            "y": [
             {
              "column": "count",
              "id": "column_29df52201738",
              "transform": "SUM"
             }
            ]
           },
           "dateTimeFormat": "DD/MM/YYYY HH:mm",
           "direction": {
            "type": "counterclockwise"
           },
           "error_y": {
            "type": "data",
            "visible": true
           },
           "globalSeriesType": "column",
           "legend": {
            "traceorder": "normal"
           },
           "missingValuesAsZero": true,
           "numberFormat": "0,0.[00000]",
           "percentFormat": "0[.]00%",
           "series": {
            "error_y": {
             "type": "data",
             "visible": true
            },
            "stacking": "stack"
           },
           "seriesOptions": {
            "column_29df52201738": {
             "name": "count",
             "yAxis": 0
            }
           },
           "showDataLabels": false,
           "sizemode": "diameter",
           "sortX": true,
           "sortY": true,
           "swappedAxes": true,
           "textFormat": "",
           "useAggregationsUi": true,
           "valuesOptions": {},
           "version": 2,
           "xAxis": {
            "labels": {
             "enabled": true
            },
            "type": "-"
           },
           "yAxis": [
            {
             "type": "-"
            },
            {
             "opposite": true,
             "type": "-"
            }
           ]
          }
         }
        ]
       },
       "datasetPreviewNameToCmdIdMap": {},
       "diffDeletes": [],
       "diffInserts": [],
       "displayType": "redashChart",
       "error": null,
       "errorDetails": null,
       "errorSummary": null,
       "errorTraceType": null,
       "finishTime": 0,
       "globalVars": {},
       "guid": "",
       "height": "auto",
       "hideCommandCode": false,
       "hideCommandResult": false,
       "iPythonMetadata": null,
       "inputWidgets": {},
       "isLockedInExamMode": false,
       "latestUser": "a user",
       "latestUserId": null,
       "listResultMetadata": null,
       "metadata": {},
       "nuid": "99d39384-40e7-4522-9b42-5a76d9908607",
       "origId": 0,
       "parentHierarchy": [],
       "pivotAggregation": null,
       "pivotColumns": null,
       "position": 9.0,
       "resultDbfsErrorMessage": null,
       "resultDbfsStatus": "INLINED_IN_TREE",
       "results": null,
       "showCommandTitle": false,
       "startTime": 0,
       "state": "input",
       "streamStates": {},
       "subcommandOptions": {
        "queryPlan": {
         "groups": [
          {
           "column": "metric",
           "type": "column"
          },
          {
           "column": "completeness",
           "type": "column"
          }
         ],
         "selects": [
          {
           "column": "metric",
           "type": "column"
          },
          {
           "column": "completeness",
           "type": "column"
          },
          {
           "alias": "column_29df52201738",
           "args": [
            {
             "column": "count",
             "type": "column"
            }
           ],
           "function": "SUM",
           "type": "function"
          }
         ]
        }
       },
       "submitTime": 0,
       "subtype": "tableResultSubCmd.visualization",
       "tableResultIndex": 0,
       "tableResultSettingsMap": {},
       "useConsistentColors": false,
       "version": "CommandV1",
       "width": "auto",
       "workflows": [],
       "xColumns": null,
       "yColumns": null
      }
     },
     "output_type": "display_data"
    }
   ],
   "source": [
    "%sql\n",
    "SELECT \n",
    "    'Total Records' AS metric,\n",
    "    COUNT(*) AS count,\n",
    "    '100%' AS completeness\n",
    "FROM mimicdata_2567611159492892.mimic.patients\n",
    "\n",
    "UNION ALL\n",
    "\n",
    "SELECT \n",
    "    'Records with DOB' AS metric,\n",
    "    COUNT(*) AS count,\n",
    "    CONCAT(ROUND(COUNT(*) * 100.0 / (SELECT COUNT(*) FROM mimicdata_2567611159492892.mimic.patients), 2), '%') AS completeness\n",
    "FROM mimicdata_2567611159492892.mimic.patients\n",
    "WHERE dob IS NOT NULL\n",
    "\n",
    "UNION ALL\n",
    "\n",
    "SELECT \n",
    "    'Records with DOD' AS metric,\n",
    "    COUNT(*) AS count,\n",
    "    CONCAT(ROUND(COUNT(*) * 100.0 / (SELECT COUNT(*) FROM mimicdata_2567611159492892.mimic.patients), 2), '%') AS completeness\n",
    "FROM mimicdata_2567611159492892.mimic.patients \n",
    "WHERE dod IS NOT NULL\n",
    "\n",
    "UNION ALL\n",
    "\n",
    "SELECT \n",
    "    'Records with Hospital DOD' AS metric,\n",
    "    COUNT(*) AS count,\n",
    "    CONCAT(ROUND(COUNT(*) * 100.0 / (SELECT COUNT(*) FROM mimicdata_2567611159492892.mimic.patients), 2), '%') AS completeness\n",
    "FROM mimicdata_2567611159492892.mimic.patients \n",
    "WHERE dod_hosp IS NOT NULL\n",
    "\n",
    "UNION ALL\n",
    "\n",
    "SELECT \n",
    "    'Records with SSN DOD' AS metric,\n",
    "    COUNT(*) AS count,\n",
    "    CONCAT(ROUND(COUNT(*) * 100.0 / (SELECT COUNT(*) FROM mimicdata_2567611159492892.mimic.patients), 2), '%') AS completeness\n",
    "FROM mimicdata_2567611159492892.mimic.patients \n",
    "WHERE dod_ssn IS NOT NULL;"
   ]
  },
  {
   "cell_type": "code",
   "execution_count": 0,
   "metadata": {
    "application/vnd.databricks.v1+cell": {
     "cellMetadata": {
      "byteLimit": 2048000,
      "implicitDf": true,
      "rowLimit": 10000
     },
     "inputWidgets": {},
     "nuid": "d0c8d6e9-b4ec-432d-9e35-03aa6c407acc",
     "showTitle": true,
     "tableResultSettingsMap": {},
     "title": "longevity by birth year"
    }
   },
   "outputs": [
    {
     "output_type": "display_data",
     "data": {
      "text/html": [
       "<style scoped>\n",
       "  .table-result-container {\n",
       "    max-height: 300px;\n",
       "    overflow: auto;\n",
       "  }\n",
       "  table, th, td {\n",
       "    border: 1px solid black;\n",
       "    border-collapse: collapse;\n",
       "  }\n",
       "  th, td {\n",
       "    padding: 5px;\n",
       "  }\n",
       "  th {\n",
       "    text-align: left;\n",
       "  }\n",
       "</style><div class='table-result-container'><table class='table-result'><thead style='background-color: white'><tr><th>birth_cohort</th><th>patient_count</th><th>avg_lifespan</th><th>min_lifespan</th><th>max_lifespan</th></tr></thead><tbody><tr><td>1800-1849</td><td>2</td><td>300.9</td><td>300.629706</td><td>301.127995</td></tr><tr><td>1850-1899</td><td>6</td><td>300.5</td><td>299.997262</td><td>302.392882</td></tr><tr><td>2000-2049</td><td>15</td><td>81.0</td><td>68.884326</td><td>89.002053</td></tr><tr><td>2050-2099</td><td>56</td><td>72.5</td><td>27.022587</td><td>91.132101</td></tr><tr><td>2100-2149</td><td>19</td><td>64.2</td><td>29.322382</td><td>86.557153</td></tr><tr><td>2150+</td><td>2</td><td>20.3</td><td>19.989049</td><td>20.553046</td></tr></tbody></table></div>"
      ]
     },
     "metadata": {
      "application/vnd.databricks.v1+output": {
       "addedWidgets": {},
       "aggData": [],
       "aggError": "",
       "aggOverflow": false,
       "aggSchema": [],
       "aggSeriesLimitReached": false,
       "aggType": "",
       "arguments": {},
       "columnCustomDisplayInfos": {},
       "data": [
        [
         "1800-1849",
         2,
         "300.9",
         "300.629706",
         "301.127995"
        ],
        [
         "1850-1899",
         6,
         "300.5",
         "299.997262",
         "302.392882"
        ],
        [
         "2000-2049",
         15,
         "81.0",
         "68.884326",
         "89.002053"
        ],
        [
         "2050-2099",
         56,
         "72.5",
         "27.022587",
         "91.132101"
        ],
        [
         "2100-2149",
         19,
         "64.2",
         "29.322382",
         "86.557153"
        ],
        [
         "2150+",
         2,
         "20.3",
         "19.989049",
         "20.553046"
        ]
       ],
       "datasetInfos": [],
       "dbfsResultPath": null,
       "isJsonSchema": true,
       "metadata": {
        "dataframeName": "_sqldf",
        "executionCount": 7
       },
       "overflow": false,
       "plotOptions": {
        "customPlotOptions": {},
        "displayType": "table",
        "pivotAggregation": null,
        "pivotColumns": null,
        "xColumns": null,
        "yColumns": null
       },
       "removedWidgets": [],
       "schema": [
        {
         "metadata": "{}",
         "name": "birth_cohort",
         "type": "\"string\""
        },
        {
         "metadata": "{}",
         "name": "patient_count",
         "type": "\"long\""
        },
        {
         "metadata": "{}",
         "name": "avg_lifespan",
         "type": "\"decimal(14,1)\""
        },
        {
         "metadata": "{}",
         "name": "min_lifespan",
         "type": "\"decimal(18,6)\""
        },
        {
         "metadata": "{}",
         "name": "max_lifespan",
         "type": "\"decimal(18,6)\""
        }
       ],
       "type": "table"
      }
     },
     "output_type": "display_data"
    },
    {
     "output_type": "display_data",
     "data": {
      "text/plain": [
       "Databricks visualization. Run in Databricks to view."
      ]
     },
     "metadata": {
      "application/vnd.databricks.v1.subcommand+json": {
       "baseErrorDetails": null,
       "bindings": {},
       "collapsed": false,
       "command": "%sql WITH q AS (SELECT \n    CASE \n        WHEN YEAR(dob) BETWEEN 1800 AND 1849 THEN '1800-1849'\n        WHEN YEAR(dob) BETWEEN 1850 AND 1899 THEN '1850-1899'\n        WHEN YEAR(dob) BETWEEN 1900 AND 1949 THEN '1900-1949'\n        WHEN YEAR(dob) BETWEEN 1950 AND 1999 THEN '1950-1999'\n        WHEN YEAR(dob) BETWEEN 2000 AND 2049 THEN '2000-2049'\n        WHEN YEAR(dob) BETWEEN 2050 AND 2099 THEN '2050-2099'\n        WHEN YEAR(dob) BETWEEN 2100 AND 2149 THEN '2100-2149'\n        WHEN YEAR(dob) >= 2150 THEN '2150+'\n        ELSE 'Other'\n    END AS birth_cohort,\n    COUNT(*) AS patient_count,\n    ROUND(AVG(DATEDIFF(dod, dob) / 365.25), 1) AS avg_lifespan,\n    MIN(DATEDIFF(dod, dob) / 365.25) AS min_lifespan,\n    MAX(DATEDIFF(dod, dob) / 365.25) AS max_lifespan\nFROM mimicdata_2567611159492892.mimic.patients\nWHERE dod IS NOT NULL AND dob IS NOT NULL\nGROUP BY \n    CASE \n        WHEN YEAR(dob) BETWEEN 1800 AND 1849 THEN '1800-1849'\n        WHEN YEAR(dob) BETWEEN 1850 AND 1899 THEN '1850-1899'\n        WHEN YEAR(dob) BETWEEN 1900 AND 1949 THEN '1900-1949'\n        WHEN YEAR(dob) BETWEEN 1950 AND 1999 THEN '1950-1999'\n        WHEN YEAR(dob) BETWEEN 2000 AND 2049 THEN '2000-2049'\n        WHEN YEAR(dob) BETWEEN 2050 AND 2099 THEN '2050-2099'\n        WHEN YEAR(dob) BETWEEN 2100 AND 2149 THEN '2100-2149'\n        WHEN YEAR(dob) >= 2150 THEN '2150+'\n        ELSE 'Other'\n    END\nORDER BY avg_lifespan DESC) SELECT `birth_cohort`,SUM(`patient_count`) `column_29df52201742`,SUM(`avg_lifespan`) `column_29df52201745` FROM q GROUP BY `birth_cohort`",
       "commandTitle": "Visualization 1",
       "commandType": "auto",
       "commandVersion": 0,
       "commentThread": [],
       "commentsVisible": false,
       "contentSha256Hex": null,
       "customPlotOptions": {
        "redashChart": [
         {
          "key": "type",
          "value": "CHART"
         },
         {
          "key": "options",
          "value": {
           "alignYAxesAtZero": true,
           "coefficient": 1,
           "columnConfigurationMap": {
            "x": {
             "column": "birth_cohort",
             "id": "column_29df52201740"
            },
            "y": [
             {
              "column": "patient_count",
              "id": "column_29df52201742",
              "transform": "SUM"
             },
             {
              "column": "avg_lifespan",
              "id": "column_29df52201745",
              "transform": "SUM"
             }
            ]
           },
           "dateTimeFormat": "DD/MM/YYYY HH:mm",
           "direction": {
            "type": "counterclockwise"
           },
           "error_y": {
            "type": "data",
            "visible": true
           },
           "globalSeriesType": "column",
           "isAggregationOn": true,
           "legend": {
            "traceorder": "normal"
           },
           "missingValuesAsZero": true,
           "numberFormat": "0,0.[00000]",
           "percentFormat": "0[.]00%",
           "series": {
            "error_y": {
             "type": "data",
             "visible": true
            },
            "stacking": null
           },
           "seriesOptions": {
            "column_29df52201742": {
             "type": "column",
             "yAxis": 0
            },
            "column_29df52201745": {
             "type": "column",
             "yAxis": 0
            }
           },
           "showDataLabels": false,
           "sizemode": "diameter",
           "sortX": true,
           "sortY": true,
           "swappedAxes": false,
           "textFormat": "",
           "useAggregationsUi": true,
           "valuesOptions": {},
           "version": 2,
           "xAxis": {
            "labels": {
             "enabled": true
            },
            "type": "-"
           },
           "yAxis": [
            {
             "type": "-"
            },
            {
             "opposite": true,
             "type": "-"
            }
           ]
          }
         }
        ]
       },
       "datasetPreviewNameToCmdIdMap": {},
       "diffDeletes": [],
       "diffInserts": [],
       "displayType": "redashChart",
       "error": null,
       "errorDetails": null,
       "errorSummary": null,
       "errorTraceType": null,
       "finishTime": 0,
       "globalVars": {},
       "guid": "",
       "height": "auto",
       "hideCommandCode": false,
       "hideCommandResult": false,
       "iPythonMetadata": null,
       "inputWidgets": {},
       "isLockedInExamMode": false,
       "latestUser": "a user",
       "latestUserId": null,
       "listResultMetadata": null,
       "metadata": {},
       "nuid": "240ae573-75ad-4f36-acb6-c6b05fd9975e",
       "origId": 0,
       "parentHierarchy": [],
       "pivotAggregation": null,
       "pivotColumns": null,
       "position": 10.0,
       "resultDbfsErrorMessage": null,
       "resultDbfsStatus": "INLINED_IN_TREE",
       "results": null,
       "showCommandTitle": false,
       "startTime": 0,
       "state": "input",
       "streamStates": {},
       "subcommandOptions": {
        "queryPlan": {
         "groups": [
          {
           "column": "birth_cohort",
           "type": "column"
          }
         ],
         "selects": [
          {
           "column": "birth_cohort",
           "type": "column"
          },
          {
           "alias": "column_29df52201742",
           "args": [
            {
             "column": "patient_count",
             "type": "column"
            }
           ],
           "function": "SUM",
           "type": "function"
          },
          {
           "alias": "column_29df52201745",
           "args": [
            {
             "column": "avg_lifespan",
             "type": "column"
            }
           ],
           "function": "SUM",
           "type": "function"
          }
         ]
        }
       },
       "submitTime": 0,
       "subtype": "tableResultSubCmd.visualization",
       "tableResultIndex": 0,
       "tableResultSettingsMap": {},
       "useConsistentColors": false,
       "version": "CommandV1",
       "width": "auto",
       "workflows": [],
       "xColumns": null,
       "yColumns": null
      }
     },
     "output_type": "display_data"
    }
   ],
   "source": [
    "%sql\n",
    "SELECT \n",
    "    CASE \n",
    "        WHEN YEAR(dob) BETWEEN 1800 AND 1849 THEN '1800-1849'\n",
    "        WHEN YEAR(dob) BETWEEN 1850 AND 1899 THEN '1850-1899'\n",
    "        WHEN YEAR(dob) BETWEEN 1900 AND 1949 THEN '1900-1949'\n",
    "        WHEN YEAR(dob) BETWEEN 1950 AND 1999 THEN '1950-1999'\n",
    "        WHEN YEAR(dob) BETWEEN 2000 AND 2049 THEN '2000-2049'\n",
    "        WHEN YEAR(dob) BETWEEN 2050 AND 2099 THEN '2050-2099'\n",
    "        WHEN YEAR(dob) BETWEEN 2100 AND 2149 THEN '2100-2149'\n",
    "        WHEN YEAR(dob) >= 2150 THEN '2150+'\n",
    "        ELSE 'Other'\n",
    "    END AS birth_cohort,\n",
    "    COUNT(*) AS patient_count,\n",
    "    ROUND(AVG(DATEDIFF(dod, dob) / 365.25), 1) AS avg_lifespan,\n",
    "    MIN(DATEDIFF(dod, dob) / 365.25) AS min_lifespan,\n",
    "    MAX(DATEDIFF(dod, dob) / 365.25) AS max_lifespan\n",
    "FROM mimicdata_2567611159492892.mimic.patients\n",
    "WHERE dod IS NOT NULL AND dob IS NOT NULL\n",
    "GROUP BY \n",
    "    CASE \n",
    "        WHEN YEAR(dob) BETWEEN 1800 AND 1849 THEN '1800-1849'\n",
    "        WHEN YEAR(dob) BETWEEN 1850 AND 1899 THEN '1850-1899'\n",
    "        WHEN YEAR(dob) BETWEEN 1900 AND 1949 THEN '1900-1949'\n",
    "        WHEN YEAR(dob) BETWEEN 1950 AND 1999 THEN '1950-1999'\n",
    "        WHEN YEAR(dob) BETWEEN 2000 AND 2049 THEN '2000-2049'\n",
    "        WHEN YEAR(dob) BETWEEN 2050 AND 2099 THEN '2050-2099'\n",
    "        WHEN YEAR(dob) BETWEEN 2100 AND 2149 THEN '2100-2149'\n",
    "        WHEN YEAR(dob) >= 2150 THEN '2150+'\n",
    "        ELSE 'Other'\n",
    "    END\n",
    "ORDER BY avg_lifespan DESC;\n"
   ]
  },
  {
   "cell_type": "code",
   "execution_count": 0,
   "metadata": {
    "application/vnd.databricks.v1+cell": {
     "cellMetadata": {
      "byteLimit": 2048000,
      "implicitDf": true,
      "rowLimit": 10000
     },
     "inputWidgets": {},
     "nuid": "be66e8b1-78d3-45ca-bcb1-d6b3c714dc8c",
     "showTitle": true,
     "tableResultSettingsMap": {},
     "title": "Outlier Detection"
    }
   },
   "outputs": [
    {
     "output_type": "display_data",
     "data": {
      "text/html": [
       "<style scoped>\n",
       "  .table-result-container {\n",
       "    max-height: 300px;\n",
       "    overflow: auto;\n",
       "  }\n",
       "  table, th, td {\n",
       "    border: 1px solid black;\n",
       "    border-collapse: collapse;\n",
       "  }\n",
       "  th, td {\n",
       "    padding: 5px;\n",
       "  }\n",
       "  th {\n",
       "    text-align: left;\n",
       "  }\n",
       "</style><div class='table-result-container'><table class='table-result'><thead style='background-color: white'><tr><th>anomaly_type</th><th>count</th></tr></thead><tbody><tr><td>Extremely Long Lifespan (>120 years)</td><td>8</td></tr><tr><td>Future Birth Dates</td><td>91</td></tr><tr><td>Death Before Birth</td><td>0</td></tr><tr><td>Mismatched Death Dates</td><td>1</td></tr></tbody></table></div>"
      ]
     },
     "metadata": {
      "application/vnd.databricks.v1+output": {
       "addedWidgets": {},
       "aggData": [],
       "aggError": "",
       "aggOverflow": false,
       "aggSchema": [],
       "aggSeriesLimitReached": false,
       "aggType": "",
       "arguments": {},
       "columnCustomDisplayInfos": {},
       "data": [
        [
         "Extremely Long Lifespan (>120 years)",
         8
        ],
        [
         "Future Birth Dates",
         91
        ],
        [
         "Death Before Birth",
         0
        ],
        [
         "Mismatched Death Dates",
         1
        ]
       ],
       "datasetInfos": [],
       "dbfsResultPath": null,
       "isJsonSchema": true,
       "metadata": {
        "dataframeName": "_sqldf",
        "executionCount": 8
       },
       "overflow": false,
       "plotOptions": {
        "customPlotOptions": {},
        "displayType": "table",
        "pivotAggregation": null,
        "pivotColumns": null,
        "xColumns": null,
        "yColumns": null
       },
       "removedWidgets": [],
       "schema": [
        {
         "metadata": "{}",
         "name": "anomaly_type",
         "type": "\"string\""
        },
        {
         "metadata": "{}",
         "name": "count",
         "type": "\"long\""
        }
       ],
       "type": "table"
      }
     },
     "output_type": "display_data"
    },
    {
     "output_type": "display_data",
     "data": {
      "text/plain": [
       "Databricks visualization. Run in Databricks to view."
      ]
     },
     "metadata": {
      "application/vnd.databricks.v1.subcommand+json": {
       "baseErrorDetails": null,
       "bindings": {},
       "collapsed": false,
       "command": "%sql WITH q AS (SELECT \n    'Extremely Long Lifespan (>120 years)' AS anomaly_type,\n    COUNT(*) AS count\nFROM mimicdata_2567611159492892.mimic.patients \nWHERE DATEDIFF(dod, dob) / 365.25 > 120\n\nUNION ALL\n\nSELECT \n    'Future Birth Dates' AS anomaly_type,\n    COUNT(*) AS count\nFROM mimicdata_2567611159492892.mimic.patients \nWHERE YEAR(dob) > 2025\n\nUNION ALL\n\nSELECT \n    'Death Before Birth' AS anomaly_type,\n    COUNT(*) AS count\nFROM mimicdata_2567611159492892.mimic.patients \nWHERE dod < dob\n\nUNION ALL\n\nSELECT \n    'Mismatched Death Dates' AS anomaly_type,\n    COUNT(*) AS count\nFROM mimicdata_2567611159492892.mimic.patients \nWHERE dod_hosp IS NOT NULL \n    AND dod_ssn IS NOT NULL \n    AND ABS(DATEDIFF(dod_hosp, dod_ssn)) > 30) SELECT `anomaly_type`,SUM(`count`) `column_29df52201748` FROM q GROUP BY `anomaly_type`",
       "commandTitle": "Visualization 1",
       "commandType": "auto",
       "commandVersion": 0,
       "commentThread": [],
       "commentsVisible": false,
       "contentSha256Hex": null,
       "customPlotOptions": {
        "redashChart": [
         {
          "key": "type",
          "value": "CHART"
         },
         {
          "key": "options",
          "value": {
           "alignYAxesAtZero": true,
           "coefficient": 1,
           "columnConfigurationMap": {
            "x": {
             "column": "anomaly_type",
             "id": "column_29df52201747"
            },
            "y": [
             {
              "column": "count",
              "id": "column_29df52201748",
              "transform": "SUM"
             }
            ]
           },
           "dateTimeFormat": "DD/MM/YYYY HH:mm",
           "direction": {
            "type": "counterclockwise"
           },
           "error_y": {
            "type": "data",
            "visible": true
           },
           "globalSeriesType": "pie",
           "legend": {
            "traceorder": "normal"
           },
           "missingValuesAsZero": true,
           "numberFormat": "0,0.[00000]",
           "percentFormat": "0[.]00%",
           "series": {
            "error_y": {
             "type": "data",
             "visible": true
            },
            "stacking": null
           },
           "seriesOptions": {
            "column_29df52201748": {
             "name": "count",
             "type": "pie",
             "yAxis": 0
            }
           },
           "showDataLabels": true,
           "sizemode": "diameter",
           "sortX": true,
           "sortY": true,
           "swappedAxes": false,
           "textFormat": "",
           "useAggregationsUi": true,
           "valuesOptions": {},
           "version": 2,
           "xAxis": {
            "labels": {
             "enabled": true
            },
            "type": "-"
           },
           "yAxis": [
            {
             "type": "-"
            },
            {
             "opposite": true,
             "type": "-"
            }
           ]
          }
         }
        ]
       },
       "datasetPreviewNameToCmdIdMap": {},
       "diffDeletes": [],
       "diffInserts": [],
       "displayType": "redashChart",
       "error": null,
       "errorDetails": null,
       "errorSummary": null,
       "errorTraceType": null,
       "finishTime": 0,
       "globalVars": {},
       "guid": "",
       "height": "auto",
       "hideCommandCode": false,
       "hideCommandResult": false,
       "iPythonMetadata": null,
       "inputWidgets": {},
       "isLockedInExamMode": false,
       "latestUser": "a user",
       "latestUserId": null,
       "listResultMetadata": null,
       "metadata": {},
       "nuid": "609a466a-65fd-4e2b-a2bb-b74897241f54",
       "origId": 0,
       "parentHierarchy": [],
       "pivotAggregation": null,
       "pivotColumns": null,
       "position": 11.0,
       "resultDbfsErrorMessage": null,
       "resultDbfsStatus": "INLINED_IN_TREE",
       "results": null,
       "showCommandTitle": false,
       "startTime": 0,
       "state": "input",
       "streamStates": {},
       "subcommandOptions": {
        "queryPlan": {
         "groups": [
          {
           "column": "anomaly_type",
           "type": "column"
          }
         ],
         "selects": [
          {
           "column": "anomaly_type",
           "type": "column"
          },
          {
           "alias": "column_29df52201748",
           "args": [
            {
             "column": "count",
             "type": "column"
            }
           ],
           "function": "SUM",
           "type": "function"
          }
         ]
        }
       },
       "submitTime": 0,
       "subtype": "tableResultSubCmd.visualization",
       "tableResultIndex": 0,
       "tableResultSettingsMap": {},
       "useConsistentColors": false,
       "version": "CommandV1",
       "width": "auto",
       "workflows": [],
       "xColumns": null,
       "yColumns": null
      }
     },
     "output_type": "display_data"
    }
   ],
   "source": [
    "%sql\n",
    "SELECT \n",
    "    'Extremely Long Lifespan (>120 years)' AS anomaly_type,\n",
    "    COUNT(*) AS count\n",
    "FROM mimicdata_2567611159492892.mimic.patients \n",
    "WHERE DATEDIFF(dod, dob) / 365.25 > 120\n",
    "\n",
    "UNION ALL\n",
    "\n",
    "SELECT \n",
    "    'Future Birth Dates' AS anomaly_type,\n",
    "    COUNT(*) AS count\n",
    "FROM mimicdata_2567611159492892.mimic.patients \n",
    "WHERE YEAR(dob) > 2025\n",
    "\n",
    "UNION ALL\n",
    "\n",
    "SELECT \n",
    "    'Death Before Birth' AS anomaly_type,\n",
    "    COUNT(*) AS count\n",
    "FROM mimicdata_2567611159492892.mimic.patients \n",
    "WHERE dod < dob\n",
    "\n",
    "UNION ALL\n",
    "\n",
    "SELECT \n",
    "    'Mismatched Death Dates' AS anomaly_type,\n",
    "    COUNT(*) AS count\n",
    "FROM mimicdata_2567611159492892.mimic.patients \n",
    "WHERE dod_hosp IS NOT NULL \n",
    "    AND dod_ssn IS NOT NULL \n",
    "    AND ABS(DATEDIFF(dod_hosp, dod_ssn)) > 30;\n",
    "\n"
   ]
  },
  {
   "cell_type": "code",
   "execution_count": 0,
   "metadata": {
    "application/vnd.databricks.v1+cell": {
     "cellMetadata": {
      "byteLimit": 2048000,
      "implicitDf": true,
      "rowLimit": 10000
     },
     "inputWidgets": {},
     "nuid": "bbfbbc77-bbc1-46a1-aa38-020b9f51b089",
     "showTitle": true,
     "tableResultSettingsMap": {},
     "title": "Gender based data"
    }
   },
   "outputs": [
    {
     "output_type": "display_data",
     "data": {
      "text/html": [
       "<style scoped>\n",
       "  .table-result-container {\n",
       "    max-height: 300px;\n",
       "    overflow: auto;\n",
       "  }\n",
       "  table, th, td {\n",
       "    border: 1px solid black;\n",
       "    border-collapse: collapse;\n",
       "  }\n",
       "  th, td {\n",
       "    padding: 5px;\n",
       "  }\n",
       "  th {\n",
       "    text-align: left;\n",
       "  }\n",
       "</style><div class='table-result-container'><table class='table-result'><thead style='background-color: white'><tr><th>analysis_type</th><th>male_avg_age</th><th>female_avg_age</th><th>female_advantage_years</th></tr></thead><tbody><tr><td>Male vs Female Longevity Comparison</td><td>83.58</td><td>94.17</td><td>10.59</td></tr></tbody></table></div>"
      ]
     },
     "metadata": {
      "application/vnd.databricks.v1+output": {
       "addedWidgets": {},
       "aggData": [],
       "aggError": "",
       "aggOverflow": false,
       "aggSchema": [],
       "aggSeriesLimitReached": false,
       "aggType": "",
       "arguments": {},
       "columnCustomDisplayInfos": {},
       "data": [
        [
         "Male vs Female Longevity Comparison",
         "83.58",
         "94.17",
         "10.59"
        ]
       ],
       "datasetInfos": [],
       "dbfsResultPath": null,
       "isJsonSchema": true,
       "metadata": {
        "dataframeName": "_sqldf",
        "executionCount": 9
       },
       "overflow": false,
       "plotOptions": {
        "customPlotOptions": {},
        "displayType": "table",
        "pivotAggregation": null,
        "pivotColumns": null,
        "xColumns": null,
        "yColumns": null
       },
       "removedWidgets": [],
       "schema": [
        {
         "metadata": "{}",
         "name": "analysis_type",
         "type": "\"string\""
        },
        {
         "metadata": "{}",
         "name": "male_avg_age",
         "type": "\"decimal(15,2)\""
        },
        {
         "metadata": "{}",
         "name": "female_avg_age",
         "type": "\"decimal(15,2)\""
        },
        {
         "metadata": "{}",
         "name": "female_advantage_years",
         "type": "\"decimal(16,2)\""
        }
       ],
       "type": "table"
      }
     },
     "output_type": "display_data"
    },
    {
     "output_type": "display_data",
     "data": {
      "text/plain": [
       "Databricks visualization. Run in Databricks to view."
      ]
     },
     "metadata": {
      "application/vnd.databricks.v1.subcommand+json": {
       "baseErrorDetails": null,
       "bindings": {},
       "collapsed": false,
       "command": "%sql WITH q AS (SELECT \n    'Male vs Female Longevity Comparison' AS analysis_type,\n    (SELECT ROUND(AVG(DATEDIFF(dod, dob) / 365.25), 2) FROM mimicdata_2567611159492892.mimic.patients WHERE gender = 'M' AND dod IS NOT NULL) AS male_avg_age,\n    (SELECT ROUND(AVG(DATEDIFF(dod, dob) / 365.25), 2) FROM mimicdata_2567611159492892.mimic.patients WHERE gender = 'F' AND dod IS NOT NULL) AS female_avg_age,\n    (SELECT ROUND(AVG(DATEDIFF(dod, dob) / 365.25), 2) FROM mimicdata_2567611159492892.mimic.patients WHERE gender = 'F' AND dod IS NOT NULL) - \n    (SELECT ROUND(AVG(DATEDIFF(dod, dob) / 365.25), 2) FROM mimicdata_2567611159492892.mimic.patients WHERE gender = 'M' AND dod IS NOT NULL) AS female_advantage_years) SELECT `analysis_type`,SUM(`male_avg_age`) `column_29df52201752`,SUM(`female_avg_age`) `column_29df52201755`,SUM(`female_advantage_years`) `column_29df52201758` FROM q GROUP BY `analysis_type`",
       "commandTitle": "Visualization 1",
       "commandType": "auto",
       "commandVersion": 0,
       "commentThread": [],
       "commentsVisible": false,
       "contentSha256Hex": null,
       "customPlotOptions": {
        "redashChart": [
         {
          "key": "type",
          "value": "CHART"
         },
         {
          "key": "options",
          "value": {
           "alignYAxesAtZero": true,
           "coefficient": 1,
           "columnConfigurationMap": {
            "x": {
             "column": "analysis_type",
             "id": "column_29df52201750"
            },
            "y": [
             {
              "column": "male_avg_age",
              "id": "column_29df52201752",
              "transform": "SUM"
             },
             {
              "column": "female_avg_age",
              "id": "column_29df52201755",
              "transform": "SUM"
             },
             {
              "column": "female_advantage_years",
              "id": "column_29df52201758",
              "transform": "SUM"
             }
            ]
           },
           "dateTimeFormat": "DD/MM/YYYY HH:mm",
           "direction": {
            "type": "counterclockwise"
           },
           "error_y": {
            "type": "data",
            "visible": true
           },
           "globalSeriesType": "column",
           "isAggregationOn": true,
           "legend": {
            "traceorder": "normal"
           },
           "missingValuesAsZero": true,
           "numberFormat": "0,0.[00000]",
           "percentFormat": "0[.]00%",
           "series": {
            "error_y": {
             "type": "data",
             "visible": true
            },
            "stacking": null
           },
           "seriesOptions": {
            "column_29df52201752": {
             "type": "column",
             "yAxis": 0
            },
            "column_29df52201755": {
             "type": "column",
             "yAxis": 0
            },
            "column_29df52201758": {
             "type": "column",
             "yAxis": 0
            }
           },
           "showDataLabels": false,
           "sizemode": "diameter",
           "sortX": true,
           "sortY": true,
           "swappedAxes": false,
           "textFormat": "",
           "useAggregationsUi": true,
           "valuesOptions": {},
           "version": 2,
           "xAxis": {
            "labels": {
             "enabled": true
            },
            "type": "-"
           },
           "yAxis": [
            {
             "type": "-"
            },
            {
             "opposite": true,
             "type": "-"
            }
           ]
          }
         }
        ]
       },
       "datasetPreviewNameToCmdIdMap": {},
       "diffDeletes": [],
       "diffInserts": [],
       "displayType": "redashChart",
       "error": null,
       "errorDetails": null,
       "errorSummary": null,
       "errorTraceType": null,
       "finishTime": 0,
       "globalVars": {},
       "guid": "",
       "height": "auto",
       "hideCommandCode": false,
       "hideCommandResult": false,
       "iPythonMetadata": null,
       "inputWidgets": {},
       "isLockedInExamMode": false,
       "latestUser": "a user",
       "latestUserId": null,
       "listResultMetadata": null,
       "metadata": {},
       "nuid": "d69b8ec9-70b5-4bb5-b964-b81413d169e4",
       "origId": 0,
       "parentHierarchy": [],
       "pivotAggregation": null,
       "pivotColumns": null,
       "position": 12.0,
       "resultDbfsErrorMessage": null,
       "resultDbfsStatus": "INLINED_IN_TREE",
       "results": null,
       "showCommandTitle": false,
       "startTime": 0,
       "state": "input",
       "streamStates": {},
       "subcommandOptions": {
        "queryPlan": {
         "groups": [
          {
           "column": "analysis_type",
           "type": "column"
          }
         ],
         "selects": [
          {
           "column": "analysis_type",
           "type": "column"
          },
          {
           "alias": "column_29df52201752",
           "args": [
            {
             "column": "male_avg_age",
             "type": "column"
            }
           ],
           "function": "SUM",
           "type": "function"
          },
          {
           "alias": "column_29df52201755",
           "args": [
            {
             "column": "female_avg_age",
             "type": "column"
            }
           ],
           "function": "SUM",
           "type": "function"
          },
          {
           "alias": "column_29df52201758",
           "args": [
            {
             "column": "female_advantage_years",
             "type": "column"
            }
           ],
           "function": "SUM",
           "type": "function"
          }
         ]
        }
       },
       "submitTime": 0,
       "subtype": "tableResultSubCmd.visualization",
       "tableResultIndex": 0,
       "tableResultSettingsMap": {},
       "useConsistentColors": false,
       "version": "CommandV1",
       "width": "auto",
       "workflows": [],
       "xColumns": null,
       "yColumns": null
      }
     },
     "output_type": "display_data"
    }
   ],
   "source": [
    "%sql\n",
    "SELECT \n",
    "    'Male vs Female Longevity Comparison' AS analysis_type,\n",
    "    (SELECT ROUND(AVG(DATEDIFF(dod, dob) / 365.25), 2) FROM mimicdata_2567611159492892.mimic.patients WHERE gender = 'M' AND dod IS NOT NULL) AS male_avg_age,\n",
    "    (SELECT ROUND(AVG(DATEDIFF(dod, dob) / 365.25), 2) FROM mimicdata_2567611159492892.mimic.patients WHERE gender = 'F' AND dod IS NOT NULL) AS female_avg_age,\n",
    "    (SELECT ROUND(AVG(DATEDIFF(dod, dob) / 365.25), 2) FROM mimicdata_2567611159492892.mimic.patients WHERE gender = 'F' AND dod IS NOT NULL) - \n",
    "    (SELECT ROUND(AVG(DATEDIFF(dod, dob) / 365.25), 2) FROM mimicdata_2567611159492892.mimic.patients WHERE gender = 'M' AND dod IS NOT NULL) AS female_advantage_years;"
   ]
  },
  {
   "cell_type": "code",
   "execution_count": 0,
   "metadata": {
    "application/vnd.databricks.v1+cell": {
     "cellMetadata": {
      "byteLimit": 2048000,
      "implicitDf": true,
      "rowLimit": 10000
     },
     "inputWidgets": {},
     "nuid": "ad78ce84-4a3b-4b23-92e5-ce6fd66fae24",
     "showTitle": true,
     "tableResultSettingsMap": {},
     "title": "Death patterns by month"
    }
   },
   "outputs": [
    {
     "output_type": "display_data",
     "data": {
      "text/html": [
       "<style scoped>\n",
       "  .table-result-container {\n",
       "    max-height: 300px;\n",
       "    overflow: auto;\n",
       "  }\n",
       "  table, th, td {\n",
       "    border: 1px solid black;\n",
       "    border-collapse: collapse;\n",
       "  }\n",
       "  th, td {\n",
       "    padding: 5px;\n",
       "  }\n",
       "  th {\n",
       "    text-align: left;\n",
       "  }\n",
       "</style><div class='table-result-container'><table class='table-result'><thead style='background-color: white'><tr><th>death_month</th><th>month_number</th><th>death_count</th><th>percentage</th></tr></thead><tbody><tr><td>January</td><td>1</td><td>8</td><td>8.00</td></tr><tr><td>February</td><td>2</td><td>11</td><td>11.00</td></tr><tr><td>March</td><td>3</td><td>12</td><td>12.00</td></tr><tr><td>April</td><td>4</td><td>5</td><td>5.00</td></tr><tr><td>May</td><td>5</td><td>10</td><td>10.00</td></tr><tr><td>June</td><td>6</td><td>2</td><td>2.00</td></tr><tr><td>July</td><td>7</td><td>4</td><td>4.00</td></tr><tr><td>August</td><td>8</td><td>8</td><td>8.00</td></tr><tr><td>September</td><td>9</td><td>11</td><td>11.00</td></tr><tr><td>October</td><td>10</td><td>7</td><td>7.00</td></tr><tr><td>November</td><td>11</td><td>11</td><td>11.00</td></tr><tr><td>December</td><td>12</td><td>11</td><td>11.00</td></tr></tbody></table></div>"
      ]
     },
     "metadata": {
      "application/vnd.databricks.v1+output": {
       "addedWidgets": {},
       "aggData": [],
       "aggError": "",
       "aggOverflow": false,
       "aggSchema": [],
       "aggSeriesLimitReached": false,
       "aggType": "",
       "arguments": {},
       "columnCustomDisplayInfos": {},
       "data": [
        [
         "January",
         1,
         8,
         "8.00"
        ],
        [
         "February",
         2,
         11,
         "11.00"
        ],
        [
         "March",
         3,
         12,
         "12.00"
        ],
        [
         "April",
         4,
         5,
         "5.00"
        ],
        [
         "May",
         5,
         10,
         "10.00"
        ],
        [
         "June",
         6,
         2,
         "2.00"
        ],
        [
         "July",
         7,
         4,
         "4.00"
        ],
        [
         "August",
         8,
         8,
         "8.00"
        ],
        [
         "September",
         9,
         11,
         "11.00"
        ],
        [
         "October",
         10,
         7,
         "7.00"
        ],
        [
         "November",
         11,
         11,
         "11.00"
        ],
        [
         "December",
         12,
         11,
         "11.00"
        ]
       ],
       "datasetInfos": [],
       "dbfsResultPath": null,
       "isJsonSchema": true,
       "metadata": {
        "dataframeName": "_sqldf",
        "executionCount": 10
       },
       "overflow": false,
       "plotOptions": {
        "customPlotOptions": {},
        "displayType": "table",
        "pivotAggregation": null,
        "pivotColumns": null,
        "xColumns": null,
        "yColumns": null
       },
       "removedWidgets": [],
       "schema": [
        {
         "metadata": "{}",
         "name": "death_month",
         "type": "\"string\""
        },
        {
         "metadata": "{}",
         "name": "month_number",
         "type": "\"integer\""
        },
        {
         "metadata": "{}",
         "name": "death_count",
         "type": "\"long\""
        },
        {
         "metadata": "{}",
         "name": "percentage",
         "type": "\"decimal(27,2)\""
        }
       ],
       "type": "table"
      }
     },
     "output_type": "display_data"
    },
    {
     "output_type": "display_data",
     "data": {
      "text/plain": [
       "Databricks visualization. Run in Databricks to view."
      ]
     },
     "metadata": {
      "application/vnd.databricks.v1.subcommand+json": {
       "baseErrorDetails": null,
       "bindings": {},
       "collapsed": false,
       "command": "%sql WITH q AS (SELECT \n    DATE_FORMAT(dod, 'MMMM') AS death_month,\n    MONTH(dod) AS month_number,\n    COUNT(*) AS death_count,\n    ROUND(COUNT(*) * 100.0 / (SELECT COUNT(*) FROM mimicdata_2567611159492892.mimic.patients WHERE dod IS NOT NULL), 2) AS percentage\nFROM mimicdata_2567611159492892.mimic.patients \nWHERE dod IS NOT NULL\nGROUP BY MONTH(dod), DATE_FORMAT(dod, 'MMMM')\nORDER BY MONTH(dod)) SELECT `death_month`,SUM(`death_count`) `column_29df52201762` FROM q GROUP BY `death_month`",
       "commandTitle": "Visualization 1",
       "commandType": "auto",
       "commandVersion": 0,
       "commentThread": [],
       "commentsVisible": false,
       "contentSha256Hex": null,
       "customPlotOptions": {
        "redashChart": [
         {
          "key": "type",
          "value": "CHART"
         },
         {
          "key": "options",
          "value": {
           "alignYAxesAtZero": true,
           "coefficient": 1,
           "columnConfigurationMap": {
            "x": {
             "column": "death_month",
             "id": "column_29df52201760"
            },
            "y": [
             {
              "column": "death_count",
              "id": "column_29df52201762",
              "transform": "SUM"
             }
            ]
           },
           "dateTimeFormat": "DD/MM/YYYY HH:mm",
           "direction": {
            "type": "counterclockwise"
           },
           "error_y": {
            "type": "data",
            "visible": true
           },
           "globalSeriesType": "column",
           "isAggregationOn": true,
           "legend": {
            "traceorder": "normal"
           },
           "missingValuesAsZero": true,
           "numberFormat": "0,0.[00000]",
           "percentFormat": "0[.]00%",
           "series": {
            "error_y": {
             "type": "data",
             "visible": true
            },
            "stacking": null
           },
           "seriesOptions": {
            "column_29df52201762": {
             "type": "column",
             "yAxis": 0
            }
           },
           "showDataLabels": false,
           "sizemode": "diameter",
           "sortX": true,
           "sortY": true,
           "swappedAxes": false,
           "textFormat": "",
           "useAggregationsUi": true,
           "valuesOptions": {},
           "version": 2,
           "xAxis": {
            "labels": {
             "enabled": true
            },
            "type": "-"
           },
           "yAxis": [
            {
             "type": "-"
            },
            {
             "opposite": true,
             "type": "-"
            }
           ]
          }
         }
        ]
       },
       "datasetPreviewNameToCmdIdMap": {},
       "diffDeletes": [],
       "diffInserts": [],
       "displayType": "redashChart",
       "error": null,
       "errorDetails": null,
       "errorSummary": null,
       "errorTraceType": null,
       "finishTime": 0,
       "globalVars": {},
       "guid": "",
       "height": "auto",
       "hideCommandCode": false,
       "hideCommandResult": false,
       "iPythonMetadata": null,
       "inputWidgets": {},
       "isLockedInExamMode": false,
       "latestUser": "a user",
       "latestUserId": null,
       "listResultMetadata": null,
       "metadata": {},
       "nuid": "0f3f7ab9-4163-4457-995d-60900bbf3f14",
       "origId": 0,
       "parentHierarchy": [],
       "pivotAggregation": null,
       "pivotColumns": null,
       "position": 13.0,
       "resultDbfsErrorMessage": null,
       "resultDbfsStatus": "INLINED_IN_TREE",
       "results": null,
       "showCommandTitle": false,
       "startTime": 0,
       "state": "input",
       "streamStates": {},
       "subcommandOptions": {
        "queryPlan": {
         "groups": [
          {
           "column": "death_month",
           "type": "column"
          }
         ],
         "selects": [
          {
           "column": "death_month",
           "type": "column"
          },
          {
           "alias": "column_29df52201762",
           "args": [
            {
             "column": "death_count",
             "type": "column"
            }
           ],
           "function": "SUM",
           "type": "function"
          }
         ]
        }
       },
       "submitTime": 0,
       "subtype": "tableResultSubCmd.visualization",
       "tableResultIndex": 0,
       "tableResultSettingsMap": {},
       "useConsistentColors": false,
       "version": "CommandV1",
       "width": "auto",
       "workflows": [],
       "xColumns": null,
       "yColumns": null
      }
     },
     "output_type": "display_data"
    }
   ],
   "source": [
    "%sql\n",
    "SELECT \n",
    "    DATE_FORMAT(dod, 'MMMM') AS death_month,\n",
    "    MONTH(dod) AS month_number,\n",
    "    COUNT(*) AS death_count,\n",
    "    ROUND(COUNT(*) * 100.0 / (SELECT COUNT(*) FROM mimicdata_2567611159492892.mimic.patients WHERE dod IS NOT NULL), 2) AS percentage\n",
    "FROM mimicdata_2567611159492892.mimic.patients \n",
    "WHERE dod IS NOT NULL\n",
    "GROUP BY MONTH(dod), DATE_FORMAT(dod, 'MMMM')\n",
    "ORDER BY MONTH(dod);"
   ]
  },
  {
   "cell_type": "code",
   "execution_count": 0,
   "metadata": {
    "application/vnd.databricks.v1+cell": {
     "cellMetadata": {},
     "inputWidgets": {},
     "nuid": "29a6b563-e5b4-4a6d-b9ac-4a5132fb9354",
     "showTitle": false,
     "tableResultSettingsMap": {},
     "title": ""
    }
   },
   "outputs": [],
   "source": []
  }
 ],
 "metadata": {
  "application/vnd.databricks.v1+notebook": {
   "computePreferences": null,
   "dashboards": [],
   "environmentMetadata": {
    "base_environment": "",
    "environment_version": "2"
   },
   "inputWidgetPreferences": null,
   "language": "python",
   "notebookMetadata": {
    "mostRecentlyExecutedCommandWithImplicitDF": {
     "commandId": 2623705180340240,
     "dataframes": [
      "_sqldf"
     ]
    },
    "pythonIndentUnit": 4
   },
   "notebookName": "22 PATIENTS",
   "widgets": {}
  },
  "language_info": {
   "name": "python"
  }
 },
 "nbformat": 4,
 "nbformat_minor": 0
}