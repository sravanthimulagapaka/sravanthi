{
 "cells": [
  {
   "cell_type": "code",
   "execution_count": 0,
   "metadata": {
    "application/vnd.databricks.v1+cell": {
     "cellMetadata": {
      "byteLimit": 2048000,
      "implicitDf": true,
      "rowLimit": 10000
     },
     "inputWidgets": {},
     "nuid": "886f0fea-8614-4294-b54c-ffc29914b320",
     "showTitle": false,
     "tableResultSettingsMap": {},
     "title": ""
    }
   },
   "outputs": [
    {
     "output_type": "display_data",
     "data": {
      "text/html": [
       "<style scoped>\n",
       "  .table-result-container {\n",
       "    max-height: 300px;\n",
       "    overflow: auto;\n",
       "  }\n",
       "  table, th, td {\n",
       "    border: 1px solid black;\n",
       "    border-collapse: collapse;\n",
       "  }\n",
       "  th, td {\n",
       "    padding: 5px;\n",
       "  }\n",
       "  th {\n",
       "    text-align: left;\n",
       "  }\n",
       "</style><div class='table-result-container'><table class='table-result'><thead style='background-color: white'><tr></tr></thead><tbody></tbody></table></div>"
      ]
     },
     "metadata": {
      "application/vnd.databricks.v1+output": {
       "addedWidgets": {},
       "aggData": [],
       "aggError": "",
       "aggOverflow": false,
       "aggSchema": [],
       "aggSeriesLimitReached": false,
       "aggType": "",
       "arguments": {},
       "columnCustomDisplayInfos": {},
       "data": [],
       "datasetInfos": [],
       "dbfsResultPath": null,
       "isJsonSchema": true,
       "metadata": {
        "dataframeName": null
       },
       "overflow": false,
       "plotOptions": {
        "customPlotOptions": {},
        "displayType": "table",
        "pivotAggregation": null,
        "pivotColumns": null,
        "xColumns": null,
        "yColumns": null
       },
       "removedWidgets": [],
       "schema": [],
       "type": "table"
      }
     },
     "output_type": "display_data"
    }
   ],
   "source": [
    "%sql\n",
    "CREATE SCHEMA IF NOT EXISTS mimic"
   ]
  },
  {
   "cell_type": "code",
   "execution_count": 0,
   "metadata": {
    "application/vnd.databricks.v1+cell": {
     "cellMetadata": {
      "byteLimit": 2048000,
      "rowLimit": 10000
     },
     "inputWidgets": {},
     "nuid": "3af1ea07-7957-4716-b9c8-58bab78cbbeb",
     "showTitle": false,
     "tableResultSettingsMap": {},
     "title": ""
    }
   },
   "outputs": [],
   "source": [
    "admissions_df = spark.read.option(\"header\", \"true\").option(\"inferSchema\", \"true\").csv(\"dbfs:/mnt/mimic/ADMISSIONS.csv\")\n",
    "patients_df = spark.read.option(\"header\", \"true\").option(\"inferSchema\", \"true\").csv(\"dbfs:/mnt/mimic/PATIENTS.csv\")\n",
    "icustays_df = spark.read.option(\"header\", \"true\").option(\"inferSchema\", \"true\").csv(\"dbfs:/mnt/mimic/ICUSTAYS.csv\")"
   ]
  },
  {
   "cell_type": "code",
   "execution_count": 0,
   "metadata": {
    "application/vnd.databricks.v1+cell": {
     "cellMetadata": {
      "byteLimit": 2048000,
      "rowLimit": 10000
     },
     "inputWidgets": {},
     "nuid": "80ae3d9c-f348-4b49-b137-4cae4f8833c2",
     "showTitle": false,
     "tableResultSettingsMap": {},
     "title": ""
    }
   },
   "outputs": [],
   "source": [
    "admissions_df.write.format(\"delta\").mode(\"overwrite\").saveAsTable(\"mimic.admissions\")\n",
    "patients_df.write.format(\"delta\").mode(\"overwrite\").saveAsTable(\"mimic.patients\")\n",
    "icustays_df.write.format(\"delta\").mode(\"overwrite\").saveAsTable(\"mimic.icustays\")"
   ]
  },
  {
   "cell_type": "code",
   "execution_count": 0,
   "metadata": {
    "application/vnd.databricks.v1+cell": {
     "cellMetadata": {
      "byteLimit": 2048000,
      "implicitDf": true,
      "rowLimit": 10000
     },
     "inputWidgets": {},
     "nuid": "4c7dfbcc-5a6d-4dc0-b6a2-d71fd323a813",
     "showTitle": false,
     "tableResultSettingsMap": {},
     "title": ""
    }
   },
   "outputs": [
    {
     "output_type": "display_data",
     "data": {
      "text/html": [
       "<style scoped>\n",
       "  .table-result-container {\n",
       "    max-height: 300px;\n",
       "    overflow: auto;\n",
       "  }\n",
       "  table, th, td {\n",
       "    border: 1px solid black;\n",
       "    border-collapse: collapse;\n",
       "  }\n",
       "  th, td {\n",
       "    padding: 5px;\n",
       "  }\n",
       "  th {\n",
       "    text-align: left;\n",
       "  }\n",
       "</style><div class='table-result-container'><table class='table-result'><thead style='background-color: white'><tr><th>admission_type</th><th>first_icu</th><th>last_icu</th><th>discharge_location</th><th>patient_count</th><th>avg_icu_los</th><th>percentage</th></tr></thead><tbody><tr><td>EMERGENCY</td><td>MICU</td><td>MICU</td><td>SNF</td><td>24</td><td>2.68</td><td>17.65</td></tr><tr><td>EMERGENCY</td><td>MICU</td><td>MICU</td><td>DEAD/EXPIRED</td><td>22</td><td>5.63</td><td>16.18</td></tr><tr><td>EMERGENCY</td><td>MICU</td><td>MICU</td><td>HOME</td><td>10</td><td>1.62</td><td>7.35</td></tr><tr><td>EMERGENCY</td><td>SICU</td><td>SICU</td><td>DEAD/EXPIRED</td><td>6</td><td>12.34</td><td>4.41</td></tr><tr><td>EMERGENCY</td><td>SICU</td><td>SICU</td><td>SNF</td><td>6</td><td>2.58</td><td>4.41</td></tr><tr><td>EMERGENCY</td><td>CCU</td><td>CCU</td><td>DEAD/EXPIRED</td><td>6</td><td>5.78</td><td>4.41</td></tr><tr><td>EMERGENCY</td><td>TSICU</td><td>TSICU</td><td>DEAD/EXPIRED</td><td>6</td><td>1.44</td><td>4.41</td></tr><tr><td>EMERGENCY</td><td>MICU</td><td>MICU</td><td>REHAB/DISTINCT PART HOSP</td><td>5</td><td>10.16</td><td>3.68</td></tr><tr><td>EMERGENCY</td><td>CCU</td><td>CCU</td><td>SNF</td><td>4</td><td>2.5</td><td>2.94</td></tr><tr><td>EMERGENCY</td><td>SICU</td><td>SICU</td><td>HOME HEALTH CARE</td><td>3</td><td>2.34</td><td>2.21</td></tr><tr><td>EMERGENCY</td><td>SICU</td><td>SICU</td><td>REHAB/DISTINCT PART HOSP</td><td>3</td><td>4.07</td><td>2.21</td></tr><tr><td>EMERGENCY</td><td>MICU</td><td>MICU</td><td>ICF</td><td>3</td><td>1.64</td><td>2.21</td></tr><tr><td>EMERGENCY</td><td>MICU</td><td>MICU</td><td>HOME HEALTH CARE</td><td>3</td><td>1.45</td><td>2.21</td></tr><tr><td>ELECTIVE</td><td>CSRU</td><td>CSRU</td><td>SNF</td><td>3</td><td>3.61</td><td>2.21</td></tr><tr><td>EMERGENCY</td><td>MICU</td><td>SICU</td><td>DEAD/EXPIRED</td><td>2</td><td>4.47</td><td>1.47</td></tr><tr><td>EMERGENCY</td><td>TSICU</td><td>TSICU</td><td>HOME</td><td>2</td><td>1.13</td><td>1.47</td></tr><tr><td>EMERGENCY</td><td>CCU</td><td>CCU</td><td>HOME HEALTH CARE</td><td>2</td><td>2.25</td><td>1.47</td></tr><tr><td>EMERGENCY</td><td>CCU</td><td>CCU</td><td>HOME</td><td>2</td><td>2.47</td><td>1.47</td></tr><tr><td>EMERGENCY</td><td>CCU</td><td>CCU</td><td>REHAB/DISTINCT PART HOSP</td><td>2</td><td>13.94</td><td>1.47</td></tr><tr><td>ELECTIVE</td><td>SICU</td><td>SICU</td><td>HOME HEALTH CARE</td><td>2</td><td>4.52</td><td>1.47</td></tr><tr><td>ELECTIVE</td><td>MICU</td><td>MICU</td><td>REHAB/DISTINCT PART HOSP</td><td>1</td><td>1.73</td><td>0.74</td></tr><tr><td>URGENT</td><td>CCU</td><td>CCU</td><td>HOME HEALTH CARE</td><td>1</td><td>4.73</td><td>0.74</td></tr><tr><td>EMERGENCY</td><td>MICU</td><td>SICU</td><td>SNF</td><td>1</td><td>10.78</td><td>0.74</td></tr><tr><td>ELECTIVE</td><td>SICU</td><td>SICU</td><td>HOME</td><td>1</td><td>1.38</td><td>0.74</td></tr><tr><td>URGENT</td><td>MICU</td><td>MICU</td><td>DEAD/EXPIRED</td><td>1</td><td>5.69</td><td>0.74</td></tr><tr><td>EMERGENCY</td><td>CCU</td><td>MICU</td><td>REHAB/DISTINCT PART HOSP</td><td>1</td><td>19.58</td><td>0.74</td></tr><tr><td>EMERGENCY</td><td>CSRU</td><td>CSRU</td><td>HOME HEALTH CARE</td><td>1</td><td>8.14</td><td>0.74</td></tr><tr><td>EMERGENCY</td><td>TSICU</td><td>TSICU</td><td>REHAB/DISTINCT PART HOSP</td><td>1</td><td>22.39</td><td>0.74</td></tr><tr><td>EMERGENCY</td><td>SICU</td><td>CCU</td><td>DEAD/EXPIRED</td><td>1</td><td>2.28</td><td>0.74</td></tr><tr><td>EMERGENCY</td><td>MICU</td><td>CCU</td><td>HOSPICE-HOME</td><td>1</td><td>4.58</td><td>0.74</td></tr><tr><td>EMERGENCY</td><td>CSRU</td><td>CSRU</td><td>DEAD/EXPIRED</td><td>1</td><td>0.9</td><td>0.74</td></tr><tr><td>EMERGENCY</td><td>SICU</td><td>SICU</td><td>LONG TERM CARE HOSPITAL</td><td>1</td><td>8.93</td><td>0.74</td></tr><tr><td>EMERGENCY</td><td>TSICU</td><td>MICU</td><td>DEAD/EXPIRED</td><td>1</td><td>2.67</td><td>0.74</td></tr><tr><td>EMERGENCY</td><td>CCU</td><td>CCU</td><td>LONG TERM CARE HOSPITAL</td><td>1</td><td>2.97</td><td>0.74</td></tr><tr><td>EMERGENCY</td><td>MICU</td><td>MICU</td><td>HOME WITH HOME IV PROVIDR</td><td>1</td><td>1.92</td><td>0.74</td></tr><tr><td>EMERGENCY</td><td>MICU</td><td>MICU</td><td>DISCH-TRAN TO PSYCH HOSP</td><td>1</td><td>1.14</td><td>0.74</td></tr><tr><td>ELECTIVE</td><td>MICU</td><td>MICU</td><td>HOME HEALTH CARE</td><td>1</td><td>1.14</td><td>0.74</td></tr><tr><td>EMERGENCY</td><td>CSRU</td><td>CSRU</td><td>SNF</td><td>1</td><td>1.91</td><td>0.74</td></tr><tr><td>EMERGENCY</td><td>MICU</td><td>CCU</td><td>HOME HEALTH CARE</td><td>1</td><td>4.25</td><td>0.74</td></tr><tr><td>EMERGENCY</td><td>TSICU</td><td>TSICU</td><td>SNF</td><td>1</td><td>3.55</td><td>0.74</td></tr></tbody></table></div>"
      ]
     },
     "metadata": {
      "application/vnd.databricks.v1+output": {
       "addedWidgets": {},
       "aggData": [],
       "aggError": "",
       "aggOverflow": false,
       "aggSchema": [],
       "aggSeriesLimitReached": false,
       "aggType": "",
       "arguments": {},
       "columnCustomDisplayInfos": {},
       "data": [
        [
         "EMERGENCY",
         "MICU",
         "MICU",
         "SNF",
         24,
         2.68,
         "17.65"
        ],
        [
         "EMERGENCY",
         "MICU",
         "MICU",
         "DEAD/EXPIRED",
         22,
         5.63,
         "16.18"
        ],
        [
         "EMERGENCY",
         "MICU",
         "MICU",
         "HOME",
         10,
         1.62,
         "7.35"
        ],
        [
         "EMERGENCY",
         "SICU",
         "SICU",
         "DEAD/EXPIRED",
         6,
         12.34,
         "4.41"
        ],
        [
         "EMERGENCY",
         "SICU",
         "SICU",
         "SNF",
         6,
         2.58,
         "4.41"
        ],
        [
         "EMERGENCY",
         "CCU",
         "CCU",
         "DEAD/EXPIRED",
         6,
         5.78,
         "4.41"
        ],
        [
         "EMERGENCY",
         "TSICU",
         "TSICU",
         "DEAD/EXPIRED",
         6,
         1.44,
         "4.41"
        ],
        [
         "EMERGENCY",
         "MICU",
         "MICU",
         "REHAB/DISTINCT PART HOSP",
         5,
         10.16,
         "3.68"
        ],
        [
         "EMERGENCY",
         "CCU",
         "CCU",
         "SNF",
         4,
         2.5,
         "2.94"
        ],
        [
         "EMERGENCY",
         "SICU",
         "SICU",
         "HOME HEALTH CARE",
         3,
         2.34,
         "2.21"
        ],
        [
         "EMERGENCY",
         "SICU",
         "SICU",
         "REHAB/DISTINCT PART HOSP",
         3,
         4.07,
         "2.21"
        ],
        [
         "EMERGENCY",
         "MICU",
         "MICU",
         "ICF",
         3,
         1.64,
         "2.21"
        ],
        [
         "EMERGENCY",
         "MICU",
         "MICU",
         "HOME HEALTH CARE",
         3,
         1.45,
         "2.21"
        ],
        [
         "ELECTIVE",
         "CSRU",
         "CSRU",
         "SNF",
         3,
         3.61,
         "2.21"
        ],
        [
         "EMERGENCY",
         "MICU",
         "SICU",
         "DEAD/EXPIRED",
         2,
         4.47,
         "1.47"
        ],
        [
         "EMERGENCY",
         "TSICU",
         "TSICU",
         "HOME",
         2,
         1.13,
         "1.47"
        ],
        [
         "EMERGENCY",
         "CCU",
         "CCU",
         "HOME HEALTH CARE",
         2,
         2.25,
         "1.47"
        ],
        [
         "EMERGENCY",
         "CCU",
         "CCU",
         "HOME",
         2,
         2.47,
         "1.47"
        ],
        [
         "EMERGENCY",
         "CCU",
         "CCU",
         "REHAB/DISTINCT PART HOSP",
         2,
         13.94,
         "1.47"
        ],
        [
         "ELECTIVE",
         "SICU",
         "SICU",
         "HOME HEALTH CARE",
         2,
         4.52,
         "1.47"
        ],
        [
         "ELECTIVE",
         "MICU",
         "MICU",
         "REHAB/DISTINCT PART HOSP",
         1,
         1.73,
         "0.74"
        ],
        [
         "URGENT",
         "CCU",
         "CCU",
         "HOME HEALTH CARE",
         1,
         4.73,
         "0.74"
        ],
        [
         "EMERGENCY",
         "MICU",
         "SICU",
         "SNF",
         1,
         10.78,
         "0.74"
        ],
        [
         "ELECTIVE",
         "SICU",
         "SICU",
         "HOME",
         1,
         1.38,
         "0.74"
        ],
        [
         "URGENT",
         "MICU",
         "MICU",
         "DEAD/EXPIRED",
         1,
         5.69,
         "0.74"
        ],
        [
         "EMERGENCY",
         "CCU",
         "MICU",
         "REHAB/DISTINCT PART HOSP",
         1,
         19.58,
         "0.74"
        ],
        [
         "EMERGENCY",
         "CSRU",
         "CSRU",
         "HOME HEALTH CARE",
         1,
         8.14,
         "0.74"
        ],
        [
         "EMERGENCY",
         "TSICU",
         "TSICU",
         "REHAB/DISTINCT PART HOSP",
         1,
         22.39,
         "0.74"
        ],
        [
         "EMERGENCY",
         "SICU",
         "CCU",
         "DEAD/EXPIRED",
         1,
         2.28,
         "0.74"
        ],
        [
         "EMERGENCY",
         "MICU",
         "CCU",
         "HOSPICE-HOME",
         1,
         4.58,
         "0.74"
        ],
        [
         "EMERGENCY",
         "CSRU",
         "CSRU",
         "DEAD/EXPIRED",
         1,
         0.9,
         "0.74"
        ],
        [
         "EMERGENCY",
         "SICU",
         "SICU",
         "LONG TERM CARE HOSPITAL",
         1,
         8.93,
         "0.74"
        ],
        [
         "EMERGENCY",
         "TSICU",
         "MICU",
         "DEAD/EXPIRED",
         1,
         2.67,
         "0.74"
        ],
        [
         "EMERGENCY",
         "CCU",
         "CCU",
         "LONG TERM CARE HOSPITAL",
         1,
         2.97,
         "0.74"
        ],
        [
         "EMERGENCY",
         "MICU",
         "MICU",
         "HOME WITH HOME IV PROVIDR",
         1,
         1.92,
         "0.74"
        ],
        [
         "EMERGENCY",
         "MICU",
         "MICU",
         "DISCH-TRAN TO PSYCH HOSP",
         1,
         1.14,
         "0.74"
        ],
        [
         "ELECTIVE",
         "MICU",
         "MICU",
         "HOME HEALTH CARE",
         1,
         1.14,
         "0.74"
        ],
        [
         "EMERGENCY",
         "CSRU",
         "CSRU",
         "SNF",
         1,
         1.91,
         "0.74"
        ],
        [
         "EMERGENCY",
         "MICU",
         "CCU",
         "HOME HEALTH CARE",
         1,
         4.25,
         "0.74"
        ],
        [
         "EMERGENCY",
         "TSICU",
         "TSICU",
         "SNF",
         1,
         3.55,
         "0.74"
        ]
       ],
       "datasetInfos": [],
       "dbfsResultPath": null,
       "isJsonSchema": true,
       "metadata": {
        "dataframeName": "_sqldf",
        "executionCount": 4
       },
       "overflow": false,
       "plotOptions": {
        "customPlotOptions": {},
        "displayType": "table",
        "pivotAggregation": null,
        "pivotColumns": null,
        "xColumns": null,
        "yColumns": null
       },
       "removedWidgets": [],
       "schema": [
        {
         "metadata": "{}",
         "name": "admission_type",
         "type": "\"string\""
        },
        {
         "metadata": "{}",
         "name": "first_icu",
         "type": "\"string\""
        },
        {
         "metadata": "{}",
         "name": "last_icu",
         "type": "\"string\""
        },
        {
         "metadata": "{}",
         "name": "discharge_location",
         "type": "\"string\""
        },
        {
         "metadata": "{}",
         "name": "patient_count",
         "type": "\"long\""
        },
        {
         "metadata": "{}",
         "name": "avg_icu_los",
         "type": "\"double\""
        },
        {
         "metadata": "{}",
         "name": "percentage",
         "type": "\"decimal(27,2)\""
        }
       ],
       "type": "table"
      }
     },
     "output_type": "display_data"
    },
    {
     "output_type": "display_data",
     "data": {
      "text/plain": [
       "Databricks visualization. Run in Databricks to view."
      ]
     },
     "metadata": {
      "application/vnd.databricks.v1.subcommand+json": {
       "baseErrorDetails": null,
       "bindings": {},
       "collapsed": false,
       "command": "%sql WITH q AS (WITH patient_journey AS (\n    SELECT \n        a.admission_type,\n        i.first_careunit,\n        i.last_careunit,\n        a.discharge_location,\n        COUNT(*) as patient_count,\n        AVG(i.los) as avg_icu_los\n    FROM mimicdata_2567611159492892.mimic.admissions a\n    LEFT JOIN mimicdata_2567611159492892.mimic.icustays i ON a.hadm_id = i.hadm_id\n    WHERE a.admission_type IS NOT NULL \n      AND a.discharge_location IS NOT NULL\n    GROUP BY a.admission_type, i.first_careunit, i.last_careunit, a.discharge_location\n)\nSELECT \n    admission_type,\n    COALESCE(first_careunit, 'No ICU') as first_icu,\n    COALESCE(last_careunit, 'No ICU') as last_icu,\n    discharge_location,\n    patient_count,\n    ROUND(avg_icu_los, 2) as avg_icu_los,\n    ROUND(100.0 * patient_count / SUM(patient_count) OVER(), 2) as percentage\nFROM patient_journey\nORDER BY patient_count DESC) SELECT `admission_type`,SUM(`patient_count`) `column_fbd9411594`,SUM(`avg_icu_los`) `column_fbd9411597` FROM q GROUP BY `admission_type`",
       "commandTitle": "Visualization 1",
       "commandType": "auto",
       "commandVersion": 0,
       "commentThread": [],
       "commentsVisible": false,
       "contentSha256Hex": null,
       "customPlotOptions": {
        "redashChart": [
         {
          "key": "type",
          "value": "CHART"
         },
         {
          "key": "options",
          "value": {
           "alignYAxesAtZero": true,
           "coefficient": 1,
           "columnConfigurationMap": {
            "x": {
             "column": "admission_type",
             "id": "column_fbd9411592"
            },
            "y": [
             {
              "column": "patient_count",
              "id": "column_fbd9411594",
              "transform": "SUM"
             },
             {
              "column": "avg_icu_los",
              "id": "column_fbd9411597",
              "transform": "SUM"
             }
            ]
           },
           "dateTimeFormat": "DD/MM/YYYY HH:mm",
           "direction": {
            "type": "counterclockwise"
           },
           "error_y": {
            "type": "data",
            "visible": true
           },
           "globalSeriesType": "column",
           "isAggregationOn": true,
           "legend": {
            "traceorder": "normal"
           },
           "missingValuesAsZero": true,
           "numberFormat": "0,0.[00000]",
           "percentFormat": "0[.]00%",
           "series": {
            "error_y": {
             "type": "data",
             "visible": true
            },
            "stacking": null
           },
           "seriesOptions": {
            "column_fbd9411594": {
             "type": "column",
             "yAxis": 0
            },
            "column_fbd9411597": {
             "type": "column",
             "yAxis": 0
            }
           },
           "showDataLabels": false,
           "sizemode": "diameter",
           "sortX": true,
           "sortY": true,
           "swappedAxes": false,
           "textFormat": "",
           "useAggregationsUi": true,
           "valuesOptions": {},
           "version": 2,
           "xAxis": {
            "labels": {
             "enabled": true
            },
            "type": "-"
           },
           "yAxis": [
            {
             "type": "-"
            },
            {
             "opposite": true,
             "type": "-"
            }
           ]
          }
         }
        ]
       },
       "datasetPreviewNameToCmdIdMap": {},
       "diffDeletes": [],
       "diffInserts": [],
       "displayType": "redashChart",
       "error": null,
       "errorDetails": null,
       "errorSummary": null,
       "errorTraceType": null,
       "finishTime": 0,
       "globalVars": {},
       "guid": "",
       "height": "auto",
       "hideCommandCode": false,
       "hideCommandResult": false,
       "iPythonMetadata": null,
       "inputWidgets": {},
       "isLockedInExamMode": false,
       "latestUser": "a user",
       "latestUserId": null,
       "listResultMetadata": null,
       "metadata": {},
       "nuid": "3ccdb2c4-029e-4a07-a4ab-e5e0d1f9fc7e",
       "origId": 0,
       "parentHierarchy": [],
       "pivotAggregation": null,
       "pivotColumns": null,
       "position": 5.0,
       "resultDbfsErrorMessage": null,
       "resultDbfsStatus": "INLINED_IN_TREE",
       "results": null,
       "showCommandTitle": false,
       "startTime": 0,
       "state": "input",
       "streamStates": {},
       "subcommandOptions": {
        "queryPlan": {
         "groups": [
          {
           "column": "admission_type",
           "type": "column"
          }
         ],
         "selects": [
          {
           "column": "admission_type",
           "type": "column"
          },
          {
           "alias": "column_fbd9411594",
           "args": [
            {
             "column": "patient_count",
             "type": "column"
            }
           ],
           "function": "SUM",
           "type": "function"
          },
          {
           "alias": "column_fbd9411597",
           "args": [
            {
             "column": "avg_icu_los",
             "type": "column"
            }
           ],
           "function": "SUM",
           "type": "function"
          }
         ]
        }
       },
       "submitTime": 0,
       "subtype": "tableResultSubCmd.visualization",
       "tableResultIndex": 0,
       "tableResultSettingsMap": {},
       "useConsistentColors": false,
       "version": "CommandV1",
       "width": "auto",
       "workflows": [],
       "xColumns": null,
       "yColumns": null
      }
     },
     "output_type": "display_data"
    },
    {
     "output_type": "display_data",
     "data": {
      "text/plain": [
       "Databricks visualization. Run in Databricks to view."
      ]
     },
     "metadata": {
      "application/vnd.databricks.v1.subcommand+json": {
       "baseErrorDetails": null,
       "bindings": {},
       "collapsed": false,
       "command": "%sql WITH q AS (WITH patient_journey AS (\n    SELECT \n        a.admission_type,\n        i.first_careunit,\n        i.last_careunit,\n        a.discharge_location,\n        COUNT(*) as patient_count,\n        AVG(i.los) as avg_icu_los\n    FROM mimicdata_2567611159492892.mimic.admissions a\n    LEFT JOIN mimicdata_2567611159492892.mimic.icustays i ON a.hadm_id = i.hadm_id\n    WHERE a.admission_type IS NOT NULL \n      AND a.discharge_location IS NOT NULL\n    GROUP BY a.admission_type, i.first_careunit, i.last_careunit, a.discharge_location\n)\nSELECT \n    admission_type,\n    COALESCE(first_careunit, 'No ICU') as first_icu,\n    COALESCE(last_careunit, 'No ICU') as last_icu,\n    discharge_location,\n    patient_count,\n    ROUND(avg_icu_los, 2) as avg_icu_los,\n    ROUND(100.0 * patient_count / SUM(patient_count) OVER(), 2) as percentage\nFROM patient_journey\nORDER BY patient_count DESC) SELECT `first_icu`,SUM(`patient_count`) `column_fbd94115101` FROM q GROUP BY `first_icu`",
       "commandTitle": "Visualization 2",
       "commandType": "auto",
       "commandVersion": 0,
       "commentThread": [],
       "commentsVisible": false,
       "contentSha256Hex": null,
       "customPlotOptions": {
        "redashChart": [
         {
          "key": "type",
          "value": "CHART"
         },
         {
          "key": "options",
          "value": {
           "alignYAxesAtZero": true,
           "coefficient": 1,
           "columnConfigurationMap": {
            "x": {
             "column": "first_icu",
             "id": "column_fbd9411599"
            },
            "y": [
             {
              "column": "patient_count",
              "id": "column_fbd94115101",
              "transform": "SUM"
             }
            ]
           },
           "dateTimeFormat": "DD/MM/YYYY HH:mm",
           "direction": {
            "type": "counterclockwise"
           },
           "error_y": {
            "type": "data",
            "visible": true
           },
           "globalSeriesType": "pie",
           "isAggregationOn": true,
           "legend": {
            "traceorder": "normal"
           },
           "missingValuesAsZero": true,
           "numberFormat": "0,0.[00000]",
           "percentFormat": "0[.]00%",
           "series": {
            "error_y": {
             "type": "data",
             "visible": true
            },
            "stacking": null
           },
           "seriesOptions": {
            "column_fbd94115101": {
             "type": "pie",
             "yAxis": 0
            }
           },
           "showDataLabels": true,
           "sizemode": "diameter",
           "sortX": true,
           "sortY": true,
           "swappedAxes": false,
           "textFormat": "",
           "useAggregationsUi": true,
           "valuesOptions": {},
           "version": 2,
           "xAxis": {
            "labels": {
             "enabled": true
            },
            "type": "-"
           },
           "yAxis": [
            {
             "type": "-"
            },
            {
             "opposite": true,
             "type": "-"
            }
           ]
          }
         }
        ]
       },
       "datasetPreviewNameToCmdIdMap": {},
       "diffDeletes": [],
       "diffInserts": [],
       "displayType": "redashChart",
       "error": null,
       "errorDetails": null,
       "errorSummary": null,
       "errorTraceType": null,
       "finishTime": 0,
       "globalVars": {},
       "guid": "",
       "height": "auto",
       "hideCommandCode": false,
       "hideCommandResult": false,
       "iPythonMetadata": null,
       "inputWidgets": {},
       "isLockedInExamMode": false,
       "latestUser": "a user",
       "latestUserId": null,
       "listResultMetadata": null,
       "metadata": {},
       "nuid": "214107c1-2464-42c5-b43b-026159a6ccee",
       "origId": 0,
       "parentHierarchy": [],
       "pivotAggregation": null,
       "pivotColumns": null,
       "position": 6.0,
       "resultDbfsErrorMessage": null,
       "resultDbfsStatus": "INLINED_IN_TREE",
       "results": null,
       "showCommandTitle": false,
       "startTime": 0,
       "state": "input",
       "streamStates": {},
       "subcommandOptions": {
        "queryPlan": {
         "groups": [
          {
           "column": "first_icu",
           "type": "column"
          }
         ],
         "selects": [
          {
           "column": "first_icu",
           "type": "column"
          },
          {
           "alias": "column_fbd94115101",
           "args": [
            {
             "column": "patient_count",
             "type": "column"
            }
           ],
           "function": "SUM",
           "type": "function"
          }
         ]
        }
       },
       "submitTime": 0,
       "subtype": "tableResultSubCmd.visualization",
       "tableResultIndex": 0,
       "tableResultSettingsMap": {},
       "useConsistentColors": false,
       "version": "CommandV1",
       "width": "auto",
       "workflows": [],
       "xColumns": null,
       "yColumns": null
      }
     },
     "output_type": "display_data"
    },
    {
     "output_type": "display_data",
     "data": {
      "text/plain": [
       "Databricks visualization. Run in Databricks to view."
      ]
     },
     "metadata": {
      "application/vnd.databricks.v1.subcommand+json": {
       "baseErrorDetails": null,
       "bindings": {},
       "collapsed": false,
       "command": "%sql WITH q AS (WITH patient_journey AS (\n    SELECT \n        a.admission_type,\n        i.first_careunit,\n        i.last_careunit,\n        a.discharge_location,\n        COUNT(*) as patient_count,\n        AVG(i.los) as avg_icu_los\n    FROM mimicdata_2567611159492892.mimic.admissions a\n    LEFT JOIN mimicdata_2567611159492892.mimic.icustays i ON a.hadm_id = i.hadm_id\n    WHERE a.admission_type IS NOT NULL \n      AND a.discharge_location IS NOT NULL\n    GROUP BY a.admission_type, i.first_careunit, i.last_careunit, a.discharge_location\n)\nSELECT \n    admission_type,\n    COALESCE(first_careunit, 'No ICU') as first_icu,\n    COALESCE(last_careunit, 'No ICU') as last_icu,\n    discharge_location,\n    patient_count,\n    ROUND(avg_icu_los, 2) as avg_icu_los,\n    ROUND(100.0 * patient_count / SUM(patient_count) OVER(), 2) as percentage\nFROM patient_journey\nORDER BY patient_count DESC) SELECT `discharge_location`,SUM(`patient_count`) `column_fbd94115105` FROM q GROUP BY `discharge_location`",
       "commandTitle": "Visualization 3",
       "commandType": "auto",
       "commandVersion": 0,
       "commentThread": [],
       "commentsVisible": false,
       "contentSha256Hex": null,
       "customPlotOptions": {
        "redashChart": [
         {
          "key": "type",
          "value": "CHART"
         },
         {
          "key": "options",
          "value": {
           "alignYAxesAtZero": true,
           "coefficient": 1,
           "columnConfigurationMap": {
            "x": {
             "column": "discharge_location",
             "id": "column_fbd94115103"
            },
            "y": [
             {
              "column": "patient_count",
              "id": "column_fbd94115105",
              "transform": "SUM"
             }
            ]
           },
           "dateTimeFormat": "DD/MM/YYYY HH:mm",
           "direction": {
            "type": "counterclockwise"
           },
           "error_y": {
            "type": "data",
            "visible": true
           },
           "globalSeriesType": "pie",
           "isAggregationOn": true,
           "legend": {
            "traceorder": "normal"
           },
           "missingValuesAsZero": true,
           "numberFormat": "0,0.[00000]",
           "percentFormat": "0[.]00%",
           "series": {
            "error_y": {
             "type": "data",
             "visible": true
            },
            "stacking": null
           },
           "seriesOptions": {
            "column_fbd94115105": {
             "type": "pie",
             "yAxis": 0
            }
           },
           "showDataLabels": true,
           "sizemode": "diameter",
           "sortX": true,
           "sortY": true,
           "swappedAxes": false,
           "textFormat": "",
           "useAggregationsUi": true,
           "valuesOptions": {},
           "version": 2,
           "xAxis": {
            "labels": {
             "enabled": true
            },
            "type": "-"
           },
           "yAxis": [
            {
             "type": "-"
            },
            {
             "opposite": true,
             "type": "-"
            }
           ]
          }
         }
        ]
       },
       "datasetPreviewNameToCmdIdMap": {},
       "diffDeletes": [],
       "diffInserts": [],
       "displayType": "redashChart",
       "error": null,
       "errorDetails": null,
       "errorSummary": null,
       "errorTraceType": null,
       "finishTime": 0,
       "globalVars": {},
       "guid": "",
       "height": "auto",
       "hideCommandCode": false,
       "hideCommandResult": false,
       "iPythonMetadata": null,
       "inputWidgets": {},
       "isLockedInExamMode": false,
       "latestUser": "a user",
       "latestUserId": null,
       "listResultMetadata": null,
       "metadata": {},
       "nuid": "0576499b-8a9a-4313-bed0-12c7bef1aac8",
       "origId": 0,
       "parentHierarchy": [],
       "pivotAggregation": null,
       "pivotColumns": null,
       "position": 7.0,
       "resultDbfsErrorMessage": null,
       "resultDbfsStatus": "INLINED_IN_TREE",
       "results": null,
       "showCommandTitle": false,
       "startTime": 0,
       "state": "input",
       "streamStates": {},
       "subcommandOptions": {
        "queryPlan": {
         "groups": [
          {
           "column": "discharge_location",
           "type": "column"
          }
         ],
         "selects": [
          {
           "column": "discharge_location",
           "type": "column"
          },
          {
           "alias": "column_fbd94115105",
           "args": [
            {
             "column": "patient_count",
             "type": "column"
            }
           ],
           "function": "SUM",
           "type": "function"
          }
         ]
        }
       },
       "submitTime": 0,
       "subtype": "tableResultSubCmd.visualization",
       "tableResultIndex": 0,
       "tableResultSettingsMap": {},
       "useConsistentColors": false,
       "version": "CommandV1",
       "width": "auto",
       "workflows": [],
       "xColumns": null,
       "yColumns": null
      }
     },
     "output_type": "display_data"
    }
   ],
   "source": [
    "%sql\n",
    "WITH patient_journey AS (\n",
    "    SELECT \n",
    "        a.admission_type,\n",
    "        i.first_careunit,\n",
    "        i.last_careunit,\n",
    "        a.discharge_location,\n",
    "        COUNT(*) as patient_count,\n",
    "        AVG(i.los) as avg_icu_los\n",
    "    FROM mimicdata_2567611159492892.mimic.admissions a\n",
    "    LEFT JOIN mimicdata_2567611159492892.mimic.icustays i ON a.hadm_id = i.hadm_id\n",
    "    WHERE a.admission_type IS NOT NULL \n",
    "      AND a.discharge_location IS NOT NULL\n",
    "    GROUP BY a.admission_type, i.first_careunit, i.last_careunit, a.discharge_location\n",
    ")\n",
    "SELECT \n",
    "    admission_type,\n",
    "    COALESCE(first_careunit, 'No ICU') as first_icu,\n",
    "    COALESCE(last_careunit, 'No ICU') as last_icu,\n",
    "    discharge_location,\n",
    "    patient_count,\n",
    "    ROUND(avg_icu_los, 2) as avg_icu_los,\n",
    "    ROUND(100.0 * patient_count / SUM(patient_count) OVER(), 2) as percentage\n",
    "FROM patient_journey\n",
    "ORDER BY patient_count DESC;"
   ]
  },
  {
   "cell_type": "code",
   "execution_count": 0,
   "metadata": {
    "application/vnd.databricks.v1+cell": {
     "cellMetadata": {
      "byteLimit": 2048000,
      "implicitDf": true,
      "rowLimit": 10000
     },
     "inputWidgets": {},
     "nuid": "e18521c5-b203-4968-a845-0bf08b8b33f6",
     "showTitle": true,
     "tableResultSettingsMap": {},
     "title": "MORTALITY RISK BY PATIENT AGE & ICU LOS"
    }
   },
   "outputs": [
    {
     "output_type": "display_data",
     "data": {
      "text/html": [
       "<style scoped>\n",
       "  .table-result-container {\n",
       "    max-height: 300px;\n",
       "    overflow: auto;\n",
       "  }\n",
       "  table, th, td {\n",
       "    border: 1px solid black;\n",
       "    border-collapse: collapse;\n",
       "  }\n",
       "  th, td {\n",
       "    padding: 5px;\n",
       "  }\n",
       "  th {\n",
       "    text-align: left;\n",
       "  }\n",
       "</style><div class='table-result-container'><table class='table-result'><thead style='background-color: white'><tr><th>age_group</th><th>icu_los_category</th><th>total_patients</th><th>deaths</th><th>mortality_rate</th></tr></thead><tbody><tr><td>30-49</td><td>2+ weeks</td><td>5</td><td>3</td><td>60.00</td></tr><tr><td>50-69</td><td>1-2 weeks</td><td>6</td><td>2</td><td>33.33</td></tr><tr><td>50-69</td><td>1-3 days</td><td>22</td><td>1</td><td>4.55</td></tr><tr><td>50-69</td><td>3-7 days</td><td>7</td><td>3</td><td>42.86</td></tr><tr><td>50-69</td><td>< 1 day</td><td>5</td><td>1</td><td>20.00</td></tr><tr><td>70-84</td><td>1-2 weeks</td><td>6</td><td>2</td><td>33.33</td></tr><tr><td>70-84</td><td>1-3 days</td><td>28</td><td>8</td><td>28.57</td></tr><tr><td>70-84</td><td>3-7 days</td><td>8</td><td>2</td><td>25.00</td></tr><tr><td>70-84</td><td>< 1 day</td><td>6</td><td>2</td><td>33.33</td></tr><tr><td>85+</td><td>1-3 days</td><td>14</td><td>7</td><td>50.00</td></tr><tr><td>85+</td><td>3-7 days</td><td>5</td><td>1</td><td>20.00</td></tr><tr><td>85+</td><td>< 1 day</td><td>9</td><td>5</td><td>55.56</td></tr></tbody></table></div>"
      ]
     },
     "metadata": {
      "application/vnd.databricks.v1+output": {
       "addedWidgets": {},
       "aggData": [],
       "aggError": "",
       "aggOverflow": false,
       "aggSchema": [],
       "aggSeriesLimitReached": false,
       "aggType": "",
       "arguments": {},
       "columnCustomDisplayInfos": {},
       "data": [
        [
         "30-49",
         "2+ weeks",
         5,
         3,
         "60.00"
        ],
        [
         "50-69",
         "1-2 weeks",
         6,
         2,
         "33.33"
        ],
        [
         "50-69",
         "1-3 days",
         22,
         1,
         "4.55"
        ],
        [
         "50-69",
         "3-7 days",
         7,
         3,
         "42.86"
        ],
        [
         "50-69",
         "< 1 day",
         5,
         1,
         "20.00"
        ],
        [
         "70-84",
         "1-2 weeks",
         6,
         2,
         "33.33"
        ],
        [
         "70-84",
         "1-3 days",
         28,
         8,
         "28.57"
        ],
        [
         "70-84",
         "3-7 days",
         8,
         2,
         "25.00"
        ],
        [
         "70-84",
         "< 1 day",
         6,
         2,
         "33.33"
        ],
        [
         "85+",
         "1-3 days",
         14,
         7,
         "50.00"
        ],
        [
         "85+",
         "3-7 days",
         5,
         1,
         "20.00"
        ],
        [
         "85+",
         "< 1 day",
         9,
         5,
         "55.56"
        ]
       ],
       "datasetInfos": [],
       "dbfsResultPath": null,
       "isJsonSchema": true,
       "metadata": {
        "dataframeName": "_sqldf",
        "executionCount": 6
       },
       "overflow": false,
       "plotOptions": {
        "customPlotOptions": {},
        "displayType": "table",
        "pivotAggregation": null,
        "pivotColumns": null,
        "xColumns": null,
        "yColumns": null
       },
       "removedWidgets": [],
       "schema": [
        {
         "metadata": "{}",
         "name": "age_group",
         "type": "\"string\""
        },
        {
         "metadata": "{}",
         "name": "icu_los_category",
         "type": "\"string\""
        },
        {
         "metadata": "{}",
         "name": "total_patients",
         "type": "\"long\""
        },
        {
         "metadata": "{}",
         "name": "deaths",
         "type": "\"long\""
        },
        {
         "metadata": "{}",
         "name": "mortality_rate",
         "type": "\"decimal(27,2)\""
        }
       ],
       "type": "table"
      }
     },
     "output_type": "display_data"
    },
    {
     "output_type": "display_data",
     "data": {
      "text/plain": [
       "Databricks visualization. Run in Databricks to view."
      ]
     },
     "metadata": {
      "application/vnd.databricks.v1.subcommand+json": {
       "baseErrorDetails": null,
       "bindings": {},
       "collapsed": false,
       "command": "%sql WITH q AS (WITH age_icu_mortality AS (\n    SELECT \n        CASE \n            WHEN EXTRACT(YEAR FROM a.admittime) - EXTRACT(YEAR FROM p.dob) < 30 THEN '18-29'\n            WHEN EXTRACT(YEAR FROM a.admittime) - EXTRACT(YEAR FROM p.dob) < 50 THEN '30-49'\n            WHEN EXTRACT(YEAR FROM a.admittime) - EXTRACT(YEAR FROM p.dob) < 70 THEN '50-69'\n            WHEN EXTRACT(YEAR FROM a.admittime) - EXTRACT(YEAR FROM p.dob) < 85 THEN '70-84'\n            ELSE '85+'\n        END as age_group,\n        CASE \n            WHEN i.los IS NULL THEN 'No ICU'\n            WHEN i.los < 1 THEN '< 1 day'\n            WHEN i.los < 3 THEN '1-3 days'\n            WHEN i.los < 7 THEN '3-7 days'\n            WHEN i.los < 14 THEN '1-2 weeks'\n            ELSE '2+ weeks'\n        END as icu_los_category,\n        COUNT(*) as total_patients,\n        SUM(CASE WHEN a.hospital_expire_flag = 1 THEN 1 ELSE 0 END) as deaths,\n        ROUND(100.0 * SUM(CASE WHEN a.hospital_expire_flag = 1 THEN 1 ELSE 0 END) / COUNT(*), 2) as mortality_rate\n    FROM mimicdata_2567611159492892.mimic.patients p\n    JOIN mimicdata_2567611159492892.mimic.admissions a ON p.subject_id = a.subject_id\n    LEFT JOIN mimicdata_2567611159492892.mimic.icustays i ON a.hadm_id = i.hadm_id\n    GROUP BY age_group, icu_los_category\n)\nSELECT * FROM age_icu_mortality\nWHERE total_patients >= 5  \nORDER BY age_group, icu_los_category) SELECT `age_group`,SUM(`total_patients`) `column_fbd94115142`,SUM(`deaths`) `column_fbd94115145`,SUM(`mortality_rate`) `column_fbd94115148` FROM q GROUP BY `age_group`",
       "commandTitle": "Visualization 1",
       "commandType": "auto",
       "commandVersion": 0,
       "commentThread": [],
       "commentsVisible": false,
       "contentSha256Hex": null,
       "customPlotOptions": {
        "redashChart": [
         {
          "key": "type",
          "value": "CHART"
         },
         {
          "key": "options",
          "value": {
           "alignYAxesAtZero": true,
           "coefficient": 1,
           "columnConfigurationMap": {
            "x": {
             "column": "age_group",
             "id": "column_fbd94115140"
            },
            "y": [
             {
              "column": "total_patients",
              "id": "column_fbd94115142",
              "transform": "SUM"
             },
             {
              "column": "deaths",
              "id": "column_fbd94115145",
              "transform": "SUM"
             },
             {
              "column": "mortality_rate",
              "id": "column_fbd94115148",
              "transform": "SUM"
             }
            ]
           },
           "dateTimeFormat": "DD/MM/YYYY HH:mm",
           "direction": {
            "type": "counterclockwise"
           },
           "error_y": {
            "type": "data",
            "visible": true
           },
           "globalSeriesType": "column",
           "isAggregationOn": true,
           "legend": {
            "traceorder": "normal"
           },
           "missingValuesAsZero": true,
           "numberFormat": "0,0.[00000]",
           "percentFormat": "0[.]00%",
           "series": {
            "error_y": {
             "type": "data",
             "visible": true
            },
            "stacking": null
           },
           "seriesOptions": {
            "column_fbd94115142": {
             "type": "column",
             "yAxis": 0
            },
            "column_fbd94115145": {
             "type": "column",
             "yAxis": 0
            },
            "column_fbd94115148": {
             "type": "column",
             "yAxis": 0
            }
           },
           "showDataLabels": false,
           "sizemode": "diameter",
           "sortX": true,
           "sortY": true,
           "swappedAxes": false,
           "textFormat": "",
           "useAggregationsUi": true,
           "valuesOptions": {},
           "version": 2,
           "xAxis": {
            "labels": {
             "enabled": true
            },
            "type": "-"
           },
           "yAxis": [
            {
             "type": "-"
            },
            {
             "opposite": true,
             "type": "-"
            }
           ]
          }
         }
        ]
       },
       "datasetPreviewNameToCmdIdMap": {},
       "diffDeletes": [],
       "diffInserts": [],
       "displayType": "redashChart",
       "error": null,
       "errorDetails": null,
       "errorSummary": null,
       "errorTraceType": null,
       "finishTime": 0,
       "globalVars": {},
       "guid": "",
       "height": "auto",
       "hideCommandCode": false,
       "hideCommandResult": false,
       "iPythonMetadata": null,
       "inputWidgets": {},
       "isLockedInExamMode": false,
       "latestUser": "a user",
       "latestUserId": null,
       "listResultMetadata": null,
       "metadata": {},
       "nuid": "fb9951ea-85e2-439b-a896-0f4c91846e28",
       "origId": 0,
       "parentHierarchy": [],
       "pivotAggregation": null,
       "pivotColumns": null,
       "position": 6.0,
       "resultDbfsErrorMessage": null,
       "resultDbfsStatus": "INLINED_IN_TREE",
       "results": null,
       "showCommandTitle": false,
       "startTime": 0,
       "state": "input",
       "streamStates": {},
       "subcommandOptions": {
        "queryPlan": {
         "groups": [
          {
           "column": "age_group",
           "type": "column"
          }
         ],
         "selects": [
          {
           "column": "age_group",
           "type": "column"
          },
          {
           "alias": "column_fbd94115142",
           "args": [
            {
             "column": "total_patients",
             "type": "column"
            }
           ],
           "function": "SUM",
           "type": "function"
          },
          {
           "alias": "column_fbd94115145",
           "args": [
            {
             "column": "deaths",
             "type": "column"
            }
           ],
           "function": "SUM",
           "type": "function"
          },
          {
           "alias": "column_fbd94115148",
           "args": [
            {
             "column": "mortality_rate",
             "type": "column"
            }
           ],
           "function": "SUM",
           "type": "function"
          }
         ]
        }
       },
       "submitTime": 0,
       "subtype": "tableResultSubCmd.visualization",
       "tableResultIndex": 0,
       "tableResultSettingsMap": {},
       "useConsistentColors": false,
       "version": "CommandV1",
       "width": "auto",
       "workflows": [],
       "xColumns": null,
       "yColumns": null
      }
     },
     "output_type": "display_data"
    },
    {
     "output_type": "display_data",
     "data": {
      "text/plain": [
       "Databricks visualization. Run in Databricks to view."
      ]
     },
     "metadata": {
      "application/vnd.databricks.v1.subcommand+json": {
       "baseErrorDetails": null,
       "bindings": {},
       "collapsed": false,
       "command": "%sql WITH q AS (WITH age_icu_mortality AS (\n    SELECT \n        CASE \n            WHEN EXTRACT(YEAR FROM a.admittime) - EXTRACT(YEAR FROM p.dob) < 30 THEN '18-29'\n            WHEN EXTRACT(YEAR FROM a.admittime) - EXTRACT(YEAR FROM p.dob) < 50 THEN '30-49'\n            WHEN EXTRACT(YEAR FROM a.admittime) - EXTRACT(YEAR FROM p.dob) < 70 THEN '50-69'\n            WHEN EXTRACT(YEAR FROM a.admittime) - EXTRACT(YEAR FROM p.dob) < 85 THEN '70-84'\n            ELSE '85+'\n        END as age_group,\n        CASE \n            WHEN i.los IS NULL THEN 'No ICU'\n            WHEN i.los < 1 THEN '< 1 day'\n            WHEN i.los < 3 THEN '1-3 days'\n            WHEN i.los < 7 THEN '3-7 days'\n            WHEN i.los < 14 THEN '1-2 weeks'\n            ELSE '2+ weeks'\n        END as icu_los_category,\n        COUNT(*) as total_patients,\n        SUM(CASE WHEN a.hospital_expire_flag = 1 THEN 1 ELSE 0 END) as deaths,\n        ROUND(100.0 * SUM(CASE WHEN a.hospital_expire_flag = 1 THEN 1 ELSE 0 END) / COUNT(*), 2) as mortality_rate\n    FROM mimicdata_2567611159492892.mimic.patients p\n    JOIN mimicdata_2567611159492892.mimic.admissions a ON p.subject_id = a.subject_id\n    LEFT JOIN mimicdata_2567611159492892.mimic.icustays i ON a.hadm_id = i.hadm_id\n    GROUP BY age_group, icu_los_category\n)\nSELECT * FROM age_icu_mortality\nWHERE total_patients >= 5  \nORDER BY age_group, icu_los_category) SELECT `icu_los_category`,SUM(`total_patients`) `column_fbd94115152`,SUM(`deaths`) `column_fbd94115155`,SUM(`mortality_rate`) `column_fbd94115158` FROM q GROUP BY `icu_los_category`",
       "commandTitle": "Visualization 2",
       "commandType": "auto",
       "commandVersion": 0,
       "commentThread": [],
       "commentsVisible": false,
       "contentSha256Hex": null,
       "customPlotOptions": {
        "redashChart": [
         {
          "key": "type",
          "value": "CHART"
         },
         {
          "key": "options",
          "value": {
           "alignYAxesAtZero": true,
           "coefficient": 1,
           "columnConfigurationMap": {
            "x": {
             "column": "icu_los_category",
             "id": "column_fbd94115150"
            },
            "y": [
             {
              "column": "total_patients",
              "id": "column_fbd94115152",
              "transform": "SUM"
             },
             {
              "column": "deaths",
              "id": "column_fbd94115155",
              "transform": "SUM"
             },
             {
              "column": "mortality_rate",
              "id": "column_fbd94115158",
              "transform": "SUM"
             }
            ]
           },
           "dateTimeFormat": "DD/MM/YYYY HH:mm",
           "direction": {
            "type": "counterclockwise"
           },
           "error_y": {
            "type": "data",
            "visible": true
           },
           "globalSeriesType": "column",
           "isAggregationOn": true,
           "legend": {
            "traceorder": "normal"
           },
           "missingValuesAsZero": true,
           "numberFormat": "0,0.[00000]",
           "percentFormat": "0[.]00%",
           "series": {
            "error_y": {
             "type": "data",
             "visible": true
            },
            "stacking": null
           },
           "seriesOptions": {
            "column_fbd94115152": {
             "type": "column",
             "yAxis": 0
            },
            "column_fbd94115155": {
             "type": "column",
             "yAxis": 0
            },
            "column_fbd94115158": {
             "type": "column",
             "yAxis": 0
            }
           },
           "showDataLabels": false,
           "sizemode": "diameter",
           "sortX": true,
           "sortY": true,
           "swappedAxes": false,
           "textFormat": "",
           "useAggregationsUi": true,
           "valuesOptions": {},
           "version": 2,
           "xAxis": {
            "labels": {
             "enabled": true
            },
            "type": "-"
           },
           "yAxis": [
            {
             "type": "-"
            },
            {
             "opposite": true,
             "type": "-"
            }
           ]
          }
         }
        ]
       },
       "datasetPreviewNameToCmdIdMap": {},
       "diffDeletes": [],
       "diffInserts": [],
       "displayType": "redashChart",
       "error": null,
       "errorDetails": null,
       "errorSummary": null,
       "errorTraceType": null,
       "finishTime": 0,
       "globalVars": {},
       "guid": "",
       "height": "auto",
       "hideCommandCode": false,
       "hideCommandResult": false,
       "iPythonMetadata": null,
       "inputWidgets": {},
       "isLockedInExamMode": false,
       "latestUser": "a user",
       "latestUserId": null,
       "listResultMetadata": null,
       "metadata": {},
       "nuid": "66eb975e-6a16-4265-8624-1a27c08dd749",
       "origId": 0,
       "parentHierarchy": [],
       "pivotAggregation": null,
       "pivotColumns": null,
       "position": 7.0,
       "resultDbfsErrorMessage": null,
       "resultDbfsStatus": "INLINED_IN_TREE",
       "results": null,
       "showCommandTitle": false,
       "startTime": 0,
       "state": "input",
       "streamStates": {},
       "subcommandOptions": {
        "queryPlan": {
         "groups": [
          {
           "column": "icu_los_category",
           "type": "column"
          }
         ],
         "selects": [
          {
           "column": "icu_los_category",
           "type": "column"
          },
          {
           "alias": "column_fbd94115152",
           "args": [
            {
             "column": "total_patients",
             "type": "column"
            }
           ],
           "function": "SUM",
           "type": "function"
          },
          {
           "alias": "column_fbd94115155",
           "args": [
            {
             "column": "deaths",
             "type": "column"
            }
           ],
           "function": "SUM",
           "type": "function"
          },
          {
           "alias": "column_fbd94115158",
           "args": [
            {
             "column": "mortality_rate",
             "type": "column"
            }
           ],
           "function": "SUM",
           "type": "function"
          }
         ]
        }
       },
       "submitTime": 0,
       "subtype": "tableResultSubCmd.visualization",
       "tableResultIndex": 0,
       "tableResultSettingsMap": {},
       "useConsistentColors": false,
       "version": "CommandV1",
       "width": "auto",
       "workflows": [],
       "xColumns": null,
       "yColumns": null
      }
     },
     "output_type": "display_data"
    }
   ],
   "source": [
    "%sql\n",
    "WITH age_icu_mortality AS (\n",
    "    SELECT \n",
    "        CASE \n",
    "            WHEN EXTRACT(YEAR FROM a.admittime) - EXTRACT(YEAR FROM p.dob) < 30 THEN '18-29'\n",
    "            WHEN EXTRACT(YEAR FROM a.admittime) - EXTRACT(YEAR FROM p.dob) < 50 THEN '30-49'\n",
    "            WHEN EXTRACT(YEAR FROM a.admittime) - EXTRACT(YEAR FROM p.dob) < 70 THEN '50-69'\n",
    "            WHEN EXTRACT(YEAR FROM a.admittime) - EXTRACT(YEAR FROM p.dob) < 85 THEN '70-84'\n",
    "            ELSE '85+'\n",
    "        END as age_group,\n",
    "        CASE \n",
    "            WHEN i.los IS NULL THEN 'No ICU'\n",
    "            WHEN i.los < 1 THEN '< 1 day'\n",
    "            WHEN i.los < 3 THEN '1-3 days'\n",
    "            WHEN i.los < 7 THEN '3-7 days'\n",
    "            WHEN i.los < 14 THEN '1-2 weeks'\n",
    "            ELSE '2+ weeks'\n",
    "        END as icu_los_category,\n",
    "        COUNT(*) as total_patients,\n",
    "        SUM(CASE WHEN a.hospital_expire_flag = 1 THEN 1 ELSE 0 END) as deaths,\n",
    "        ROUND(100.0 * SUM(CASE WHEN a.hospital_expire_flag = 1 THEN 1 ELSE 0 END) / COUNT(*), 2) as mortality_rate\n",
    "    FROM mimicdata_2567611159492892.mimic.patients p\n",
    "    JOIN mimicdata_2567611159492892.mimic.admissions a ON p.subject_id = a.subject_id\n",
    "    LEFT JOIN mimicdata_2567611159492892.mimic.icustays i ON a.hadm_id = i.hadm_id\n",
    "    GROUP BY age_group, icu_los_category\n",
    ")\n",
    "SELECT * FROM age_icu_mortality\n",
    "WHERE total_patients >= 5  \n",
    "ORDER BY age_group, icu_los_category;"
   ]
  },
  {
   "cell_type": "code",
   "execution_count": 0,
   "metadata": {
    "application/vnd.databricks.v1+cell": {
     "cellMetadata": {
      "byteLimit": 2048000,
      "implicitDf": true,
      "rowLimit": 10000
     },
     "inputWidgets": {},
     "nuid": "e7f85fee-0f82-43db-b229-c1b8fab2792d",
     "showTitle": true,
     "tableResultSettingsMap": {},
     "title": "READMISSION RATE ANALYSIS"
    }
   },
   "outputs": [
    {
     "output_type": "display_data",
     "data": {
      "text/html": [
       "<style scoped>\n",
       "  .table-result-container {\n",
       "    max-height: 300px;\n",
       "    overflow: auto;\n",
       "  }\n",
       "  table, th, td {\n",
       "    border: 1px solid black;\n",
       "    border-collapse: collapse;\n",
       "  }\n",
       "  th, td {\n",
       "    padding: 5px;\n",
       "  }\n",
       "  th {\n",
       "    text-align: left;\n",
       "  }\n",
       "</style><div class='table-result-container'><table class='table-result'><thead style='background-color: white'><tr><th>age_group</th><th>gender</th><th>total_discharges</th><th>readmissions_30d</th><th>readmissions_90d</th><th>readmission_rate_30d</th><th>readmission_rate_90d</th></tr></thead><tbody><tr><td>18-29</td><td>F</td><td>1</td><td>0</td><td>0</td><td>0.00</td><td>0.00</td></tr><tr><td>18-29</td><td>M</td><td>1</td><td>0</td><td>0</td><td>0.00</td><td>0.00</td></tr><tr><td>30-49</td><td>F</td><td>1</td><td>0</td><td>0</td><td>0.00</td><td>0.00</td></tr><tr><td>30-49</td><td>M</td><td>4</td><td>0</td><td>3</td><td>0.00</td><td>75.00</td></tr><tr><td>50-69</td><td>F</td><td>7</td><td>0</td><td>0</td><td>0.00</td><td>0.00</td></tr><tr><td>50-69</td><td>M</td><td>26</td><td>6</td><td>14</td><td>23.08</td><td>53.85</td></tr><tr><td>70+</td><td>F</td><td>29</td><td>2</td><td>2</td><td>6.90</td><td>6.90</td></tr><tr><td>70+</td><td>M</td><td>20</td><td>3</td><td>3</td><td>15.00</td><td>15.00</td></tr></tbody></table></div>"
      ]
     },
     "metadata": {
      "application/vnd.databricks.v1+output": {
       "addedWidgets": {},
       "aggData": [],
       "aggError": "",
       "aggOverflow": false,
       "aggSchema": [],
       "aggSeriesLimitReached": false,
       "aggType": "",
       "arguments": {},
       "columnCustomDisplayInfos": {},
       "data": [
        [
         "18-29",
         "F",
         1,
         0,
         0,
         "0.00",
         "0.00"
        ],
        [
         "18-29",
         "M",
         1,
         0,
         0,
         "0.00",
         "0.00"
        ],
        [
         "30-49",
         "F",
         1,
         0,
         0,
         "0.00",
         "0.00"
        ],
        [
         "30-49",
         "M",
         4,
         0,
         3,
         "0.00",
         "75.00"
        ],
        [
         "50-69",
         "F",
         7,
         0,
         0,
         "0.00",
         "0.00"
        ],
        [
         "50-69",
         "M",
         26,
         6,
         14,
         "23.08",
         "53.85"
        ],
        [
         "70+",
         "F",
         29,
         2,
         2,
         "6.90",
         "6.90"
        ],
        [
         "70+",
         "M",
         20,
         3,
         3,
         "15.00",
         "15.00"
        ]
       ],
       "datasetInfos": [],
       "dbfsResultPath": null,
       "isJsonSchema": true,
       "metadata": {
        "dataframeName": "_sqldf",
        "executionCount": 7
       },
       "overflow": false,
       "plotOptions": {
        "customPlotOptions": {},
        "displayType": "table",
        "pivotAggregation": null,
        "pivotColumns": null,
        "xColumns": null,
        "yColumns": null
       },
       "removedWidgets": [],
       "schema": [
        {
         "metadata": "{}",
         "name": "age_group",
         "type": "\"string\""
        },
        {
         "metadata": "{}",
         "name": "gender",
         "type": "\"string\""
        },
        {
         "metadata": "{}",
         "name": "total_discharges",
         "type": "\"long\""
        },
        {
         "metadata": "{}",
         "name": "readmissions_30d",
         "type": "\"long\""
        },
        {
         "metadata": "{}",
         "name": "readmissions_90d",
         "type": "\"long\""
        },
        {
         "metadata": "{}",
         "name": "readmission_rate_30d",
         "type": "\"decimal(27,2)\""
        },
        {
         "metadata": "{}",
         "name": "readmission_rate_90d",
         "type": "\"decimal(27,2)\""
        }
       ],
       "type": "table"
      }
     },
     "output_type": "display_data"
    },
    {
     "output_type": "display_data",
     "data": {
      "text/plain": [
       "Databricks visualization. Run in Databricks to view."
      ]
     },
     "metadata": {
      "application/vnd.databricks.v1.subcommand+json": {
       "baseErrorDetails": null,
       "bindings": {},
       "collapsed": false,
       "command": "%sql WITH q AS (WITH readmissions AS (\n    SELECT \n        p.subject_id,\n        p.gender,\n        EXTRACT(YEAR FROM a.admittime) - EXTRACT(YEAR FROM p.dob) as age_at_admission,\n        a.hadm_id,\n        a.admittime,\n        a.dischtime,\n        a.hospital_expire_flag,\n        LAG(a.dischtime) OVER (PARTITION BY p.subject_id ORDER BY a.admittime) as prev_discharge,\n        LEAD(a.admittime) OVER (PARTITION BY p.subject_id ORDER BY a.admittime) as next_admission\n    FROM mimicdata_2567611159492892.mimic.patients p\n    JOIN mimicdata_2567611159492892.mimic.admissions a ON p.subject_id = a.subject_id\n),\nreadmission_analysis AS (\n    SELECT \n        subject_id,\n        gender,\n        CASE \n            WHEN age_at_admission < 30 THEN '18-29'\n            WHEN age_at_admission < 50 THEN '30-49'\n            WHEN age_at_admission < 70 THEN '50-69'\n            ELSE '70+'\n        END as age_group,\n        hadm_id,\n        admittime,\n        CASE \n            WHEN next_admission IS NOT NULL \n             AND next_admission <= dischtime + INTERVAL '30 days' THEN 1 \n            ELSE 0 \n        END as readmitted_30d,\n        CASE \n            WHEN next_admission IS NOT NULL \n             AND next_admission <= dischtime + INTERVAL '90 days' THEN 1 \n            ELSE 0 \n        END as readmitted_90d\n    FROM readmissions\n    WHERE hospital_expire_flag = 0  \n)\nSELECT \n    age_group,\n    gender,\n    COUNT(*) as total_discharges,\n    SUM(readmitted_30d) as readmissions_30d,\n    SUM(readmitted_90d) as readmissions_90d,\n    ROUND(100.0 * SUM(readmitted_30d) / COUNT(*), 2) as readmission_rate_30d,\n    ROUND(100.0 * SUM(readmitted_90d) / COUNT(*), 2) as readmission_rate_90d\nFROM readmission_analysis\nGROUP BY age_group, gender\nORDER BY age_group, gender) SELECT `age_group`,SUM(`total_discharges`) `column_fbd94115164`,SUM(`readmissions_30d`) `column_fbd94115167`,SUM(`readmissions_90d`) `column_fbd94115170`,SUM(`readmissions_90d`) `column_fbd94115173` FROM q GROUP BY `age_group`",
       "commandTitle": "Visualization 1",
       "commandType": "auto",
       "commandVersion": 0,
       "commentThread": [],
       "commentsVisible": false,
       "contentSha256Hex": null,
       "customPlotOptions": {
        "redashChart": [
         {
          "key": "type",
          "value": "CHART"
         },
         {
          "key": "options",
          "value": {
           "alignYAxesAtZero": true,
           "coefficient": 1,
           "columnConfigurationMap": {
            "x": {
             "column": "age_group",
             "id": "column_fbd94115162"
            },
            "y": [
             {
              "column": "total_discharges",
              "id": "column_fbd94115164",
              "transform": "SUM"
             },
             {
              "column": "readmissions_30d",
              "id": "column_fbd94115167",
              "transform": "SUM"
             },
             {
              "column": "readmissions_90d",
              "id": "column_fbd94115170",
              "transform": "SUM"
             },
             {
              "column": "readmissions_90d",
              "id": "column_fbd94115173",
              "transform": "SUM"
             }
            ]
           },
           "dateTimeFormat": "DD/MM/YYYY HH:mm",
           "direction": {
            "type": "counterclockwise"
           },
           "error_y": {
            "type": "data",
            "visible": true
           },
           "globalSeriesType": "column",
           "isAggregationOn": true,
           "legend": {
            "traceorder": "normal"
           },
           "missingValuesAsZero": true,
           "numberFormat": "0,0.[00000]",
           "percentFormat": "0[.]00%",
           "series": {
            "error_y": {
             "type": "data",
             "visible": true
            },
            "stacking": null
           },
           "seriesOptions": {
            "column_fbd94115164": {
             "type": "column",
             "yAxis": 0
            },
            "column_fbd94115167": {
             "type": "column",
             "yAxis": 0
            },
            "column_fbd94115170": {
             "type": "column",
             "yAxis": 0
            },
            "column_fbd94115173": {
             "type": "column",
             "yAxis": 0
            }
           },
           "showDataLabels": false,
           "sizemode": "diameter",
           "sortX": true,
           "sortY": true,
           "swappedAxes": false,
           "textFormat": "",
           "useAggregationsUi": true,
           "valuesOptions": {},
           "version": 2,
           "xAxis": {
            "labels": {
             "enabled": true
            },
            "type": "-"
           },
           "yAxis": [
            {
             "type": "-"
            },
            {
             "opposite": true,
             "type": "-"
            }
           ]
          }
         }
        ]
       },
       "datasetPreviewNameToCmdIdMap": {},
       "diffDeletes": [],
       "diffInserts": [],
       "displayType": "redashChart",
       "error": null,
       "errorDetails": null,
       "errorSummary": null,
       "errorTraceType": null,
       "finishTime": 0,
       "globalVars": {},
       "guid": "",
       "height": "auto",
       "hideCommandCode": false,
       "hideCommandResult": false,
       "iPythonMetadata": null,
       "inputWidgets": {},
       "isLockedInExamMode": false,
       "latestUser": "a user",
       "latestUserId": null,
       "listResultMetadata": null,
       "metadata": {},
       "nuid": "544fd3b2-0cdc-4f10-93d9-102e2dbd2a1e",
       "origId": 0,
       "parentHierarchy": [],
       "pivotAggregation": null,
       "pivotColumns": null,
       "position": 7.0,
       "resultDbfsErrorMessage": null,
       "resultDbfsStatus": "INLINED_IN_TREE",
       "results": null,
       "showCommandTitle": false,
       "startTime": 0,
       "state": "input",
       "streamStates": {},
       "subcommandOptions": {
        "queryPlan": {
         "groups": [
          {
           "column": "age_group",
           "type": "column"
          }
         ],
         "selects": [
          {
           "column": "age_group",
           "type": "column"
          },
          {
           "alias": "column_fbd94115164",
           "args": [
            {
             "column": "total_discharges",
             "type": "column"
            }
           ],
           "function": "SUM",
           "type": "function"
          },
          {
           "alias": "column_fbd94115167",
           "args": [
            {
             "column": "readmissions_30d",
             "type": "column"
            }
           ],
           "function": "SUM",
           "type": "function"
          },
          {
           "alias": "column_fbd94115170",
           "args": [
            {
             "column": "readmissions_90d",
             "type": "column"
            }
           ],
           "function": "SUM",
           "type": "function"
          },
          {
           "alias": "column_fbd94115173",
           "args": [
            {
             "column": "readmissions_90d",
             "type": "column"
            }
           ],
           "function": "SUM",
           "type": "function"
          }
         ]
        }
       },
       "submitTime": 0,
       "subtype": "tableResultSubCmd.visualization",
       "tableResultIndex": 0,
       "tableResultSettingsMap": {},
       "useConsistentColors": false,
       "version": "CommandV1",
       "width": "auto",
       "workflows": [],
       "xColumns": null,
       "yColumns": null
      }
     },
     "output_type": "display_data"
    },
    {
     "output_type": "display_data",
     "data": {
      "text/plain": [
       "Databricks visualization. Run in Databricks to view."
      ]
     },
     "metadata": {
      "application/vnd.databricks.v1.subcommand+json": {
       "baseErrorDetails": null,
       "bindings": {},
       "collapsed": false,
       "command": "%sql WITH q AS (WITH readmissions AS (\n    SELECT \n        p.subject_id,\n        p.gender,\n        EXTRACT(YEAR FROM a.admittime) - EXTRACT(YEAR FROM p.dob) as age_at_admission,\n        a.hadm_id,\n        a.admittime,\n        a.dischtime,\n        a.hospital_expire_flag,\n        LAG(a.dischtime) OVER (PARTITION BY p.subject_id ORDER BY a.admittime) as prev_discharge,\n        LEAD(a.admittime) OVER (PARTITION BY p.subject_id ORDER BY a.admittime) as next_admission\n    FROM mimicdata_2567611159492892.mimic.patients p\n    JOIN mimicdata_2567611159492892.mimic.admissions a ON p.subject_id = a.subject_id\n),\nreadmission_analysis AS (\n    SELECT \n        subject_id,\n        gender,\n        CASE \n            WHEN age_at_admission < 30 THEN '18-29'\n            WHEN age_at_admission < 50 THEN '30-49'\n            WHEN age_at_admission < 70 THEN '50-69'\n            ELSE '70+'\n        END as age_group,\n        hadm_id,\n        admittime,\n        CASE \n            WHEN next_admission IS NOT NULL \n             AND next_admission <= dischtime + INTERVAL '30 days' THEN 1 \n            ELSE 0 \n        END as readmitted_30d,\n        CASE \n            WHEN next_admission IS NOT NULL \n             AND next_admission <= dischtime + INTERVAL '90 days' THEN 1 \n            ELSE 0 \n        END as readmitted_90d\n    FROM readmissions\n    WHERE hospital_expire_flag = 0  \n)\nSELECT \n    age_group,\n    gender,\n    COUNT(*) as total_discharges,\n    SUM(readmitted_30d) as readmissions_30d,\n    SUM(readmitted_90d) as readmissions_90d,\n    ROUND(100.0 * SUM(readmitted_30d) / COUNT(*), 2) as readmission_rate_30d,\n    ROUND(100.0 * SUM(readmitted_90d) / COUNT(*), 2) as readmission_rate_90d\nFROM readmission_analysis\nGROUP BY age_group, gender\nORDER BY age_group, gender) SELECT `gender`,SUM(`total_discharges`) `column_fbd94115176`,SUM(`readmissions_30d`) `column_fbd94115183`,SUM(`readmissions_90d`) `column_fbd94115186` FROM q GROUP BY `gender`",
       "commandTitle": "Visualization 2",
       "commandType": "auto",
       "commandVersion": 0,
       "commentThread": [],
       "commentsVisible": false,
       "contentSha256Hex": null,
       "customPlotOptions": {
        "redashChart": [
         {
          "key": "type",
          "value": "CHART"
         },
         {
          "key": "options",
          "value": {
           "alignYAxesAtZero": true,
           "coefficient": 1,
           "columnConfigurationMap": {
            "x": {
             "column": "gender",
             "id": "column_fbd94115178"
            },
            "y": [
             {
              "column": "total_discharges",
              "id": "column_fbd94115176",
              "transform": "SUM"
             },
             {
              "column": "readmissions_30d",
              "id": "column_fbd94115183",
              "transform": "SUM"
             },
             {
              "column": "readmissions_90d",
              "id": "column_fbd94115186",
              "transform": "SUM"
             }
            ]
           },
           "dateTimeFormat": "DD/MM/YYYY HH:mm",
           "direction": {
            "type": "counterclockwise"
           },
           "error_y": {
            "type": "data",
            "visible": true
           },
           "globalSeriesType": "column",
           "isAggregationOn": true,
           "legend": {
            "traceorder": "normal"
           },
           "missingValuesAsZero": true,
           "numberFormat": "0,0.[00000]",
           "percentFormat": "0[.]00%",
           "series": {
            "error_y": {
             "type": "data",
             "visible": true
            },
            "stacking": null
           },
           "seriesOptions": {
            "column_fbd94115176": {
             "type": "column",
             "yAxis": 0
            },
            "column_fbd94115180": {
             "type": "column",
             "yAxis": 0
            },
            "column_fbd94115183": {
             "type": "column",
             "yAxis": 0
            },
            "column_fbd94115186": {
             "type": "column",
             "yAxis": 0
            }
           },
           "showDataLabels": false,
           "sizemode": "diameter",
           "sortX": true,
           "sortY": true,
           "swappedAxes": false,
           "textFormat": "",
           "useAggregationsUi": true,
           "valuesOptions": {},
           "version": 2,
           "xAxis": {
            "labels": {
             "enabled": true
            },
            "type": "-"
           },
           "yAxis": [
            {
             "type": "-"
            },
            {
             "opposite": true,
             "type": "-"
            }
           ]
          }
         }
        ]
       },
       "datasetPreviewNameToCmdIdMap": {},
       "diffDeletes": [],
       "diffInserts": [],
       "displayType": "redashChart",
       "error": null,
       "errorDetails": null,
       "errorSummary": null,
       "errorTraceType": null,
       "finishTime": 0,
       "globalVars": {},
       "guid": "",
       "height": "auto",
       "hideCommandCode": false,
       "hideCommandResult": false,
       "iPythonMetadata": null,
       "inputWidgets": {},
       "isLockedInExamMode": false,
       "latestUser": "a user",
       "latestUserId": null,
       "listResultMetadata": null,
       "metadata": {},
       "nuid": "f5ced720-7201-4565-8f44-6dfb75798d20",
       "origId": 0,
       "parentHierarchy": [],
       "pivotAggregation": null,
       "pivotColumns": null,
       "position": 8.0,
       "resultDbfsErrorMessage": null,
       "resultDbfsStatus": "INLINED_IN_TREE",
       "results": null,
       "showCommandTitle": false,
       "startTime": 0,
       "state": "input",
       "streamStates": {},
       "subcommandOptions": {
        "queryPlan": {
         "groups": [
          {
           "column": "gender",
           "type": "column"
          }
         ],
         "selects": [
          {
           "column": "gender",
           "type": "column"
          },
          {
           "alias": "column_fbd94115176",
           "args": [
            {
             "column": "total_discharges",
             "type": "column"
            }
           ],
           "function": "SUM",
           "type": "function"
          },
          {
           "alias": "column_fbd94115183",
           "args": [
            {
             "column": "readmissions_30d",
             "type": "column"
            }
           ],
           "function": "SUM",
           "type": "function"
          },
          {
           "alias": "column_fbd94115186",
           "args": [
            {
             "column": "readmissions_90d",
             "type": "column"
            }
           ],
           "function": "SUM",
           "type": "function"
          }
         ]
        }
       },
       "submitTime": 0,
       "subtype": "tableResultSubCmd.visualization",
       "tableResultIndex": 0,
       "tableResultSettingsMap": {},
       "useConsistentColors": false,
       "version": "CommandV1",
       "width": "auto",
       "workflows": [],
       "xColumns": null,
       "yColumns": null
      }
     },
     "output_type": "display_data"
    }
   ],
   "source": [
    "%sql\n",
    "WITH readmissions AS (\n",
    "    SELECT \n",
    "        p.subject_id,\n",
    "        p.gender,\n",
    "        EXTRACT(YEAR FROM a.admittime) - EXTRACT(YEAR FROM p.dob) as age_at_admission,\n",
    "        a.hadm_id,\n",
    "        a.admittime,\n",
    "        a.dischtime,\n",
    "        a.hospital_expire_flag,\n",
    "        LAG(a.dischtime) OVER (PARTITION BY p.subject_id ORDER BY a.admittime) as prev_discharge,\n",
    "        LEAD(a.admittime) OVER (PARTITION BY p.subject_id ORDER BY a.admittime) as next_admission\n",
    "    FROM mimicdata_2567611159492892.mimic.patients p\n",
    "    JOIN mimicdata_2567611159492892.mimic.admissions a ON p.subject_id = a.subject_id\n",
    "),\n",
    "readmission_analysis AS (\n",
    "    SELECT \n",
    "        subject_id,\n",
    "        gender,\n",
    "        CASE \n",
    "            WHEN age_at_admission < 30 THEN '18-29'\n",
    "            WHEN age_at_admission < 50 THEN '30-49'\n",
    "            WHEN age_at_admission < 70 THEN '50-69'\n",
    "            ELSE '70+'\n",
    "        END as age_group,\n",
    "        hadm_id,\n",
    "        admittime,\n",
    "        CASE \n",
    "            WHEN next_admission IS NOT NULL \n",
    "             AND next_admission <= dischtime + INTERVAL '30 days' THEN 1 \n",
    "            ELSE 0 \n",
    "        END as readmitted_30d,\n",
    "        CASE \n",
    "            WHEN next_admission IS NOT NULL \n",
    "             AND next_admission <= dischtime + INTERVAL '90 days' THEN 1 \n",
    "            ELSE 0 \n",
    "        END as readmitted_90d\n",
    "    FROM readmissions\n",
    "    WHERE hospital_expire_flag = 0  \n",
    ")\n",
    "SELECT \n",
    "    age_group,\n",
    "    gender,\n",
    "    COUNT(*) as total_discharges,\n",
    "    SUM(readmitted_30d) as readmissions_30d,\n",
    "    SUM(readmitted_90d) as readmissions_90d,\n",
    "    ROUND(100.0 * SUM(readmitted_30d) / COUNT(*), 2) as readmission_rate_30d,\n",
    "    ROUND(100.0 * SUM(readmitted_90d) / COUNT(*), 2) as readmission_rate_90d\n",
    "FROM readmission_analysis\n",
    "GROUP BY age_group, gender\n",
    "ORDER BY age_group, gender;\n"
   ]
  },
  {
   "cell_type": "code",
   "execution_count": 0,
   "metadata": {
    "application/vnd.databricks.v1+cell": {
     "cellMetadata": {
      "byteLimit": 2048000,
      "implicitDf": true,
      "rowLimit": 10000
     },
     "inputWidgets": {},
     "nuid": "c71870fe-5f1e-4bdf-bfb5-50b7cc52513f",
     "showTitle": true,
     "tableResultSettingsMap": {},
     "title": "CARE ESCALATION"
    }
   },
   "outputs": [
    {
     "output_type": "display_data",
     "data": {
      "text/html": [
       "<style scoped>\n",
       "  .table-result-container {\n",
       "    max-height: 300px;\n",
       "    overflow: auto;\n",
       "  }\n",
       "  table, th, td {\n",
       "    border: 1px solid black;\n",
       "    border-collapse: collapse;\n",
       "  }\n",
       "  th, td {\n",
       "    padding: 5px;\n",
       "  }\n",
       "  th {\n",
       "    text-align: left;\n",
       "  }\n",
       "</style><div class='table-result-container'><table class='table-result'><thead style='background-color: white'><tr><th>admission_type</th><th>age_group</th><th>gender</th><th>total_admissions</th><th>icu_transfers</th><th>icu_transfer_rate</th><th>avg_hours_to_icu</th><th>mortality_rate</th></tr></thead><tbody><tr><td>URGENT</td><td>70+</td><td>F</td><td>2</td><td>2</td><td>100.00</td><td>0.03</td><td>50.00</td></tr><tr><td>EMERGENCY</td><td>30-49</td><td>M</td><td>7</td><td>7</td><td>100.00</td><td>24.8</td><td>42.86</td></tr><tr><td>EMERGENCY</td><td>50-69</td><td>F</td><td>11</td><td>11</td><td>100.00</td><td>36.89</td><td>36.36</td></tr><tr><td>ELECTIVE</td><td>50-69</td><td>M</td><td>2</td><td>2</td><td>100.00</td><td>9.41</td><td>0.00</td></tr><tr><td>EMERGENCY</td><td>50-69</td><td>M</td><td>28</td><td>28</td><td>100.00</td><td>7.83</td><td>14.29</td></tr><tr><td>ELECTIVE</td><td>70+</td><td>M</td><td>1</td><td>1</td><td>100.00</td><td>21.57</td><td>0.00</td></tr><tr><td>EMERGENCY</td><td>18-29</td><td>F</td><td>2</td><td>2</td><td>100.00</td><td>0.02</td><td>50.00</td></tr><tr><td>EMERGENCY</td><td>70+</td><td>M</td><td>32</td><td>32</td><td>100.00</td><td>21.64</td><td>37.50</td></tr><tr><td>EMERGENCY</td><td>70+</td><td>F</td><td>39</td><td>39</td><td>100.00</td><td>39.99</td><td>41.03</td></tr><tr><td>ELECTIVE</td><td>70+</td><td>F</td><td>5</td><td>5</td><td>100.00</td><td>15.36</td><td>0.00</td></tr><tr><td>EMERGENCY</td><td>18-29</td><td>M</td><td>3</td><td>3</td><td>100.00</td><td>0.02</td><td>66.67</td></tr><tr><td>EMERGENCY</td><td>30-49</td><td>F</td><td>4</td><td>4</td><td>100.00</td><td>28.17</td><td>75.00</td></tr></tbody></table></div>"
      ]
     },
     "metadata": {
      "application/vnd.databricks.v1+output": {
       "addedWidgets": {},
       "aggData": [],
       "aggError": "",
       "aggOverflow": false,
       "aggSchema": [],
       "aggSeriesLimitReached": false,
       "aggType": "",
       "arguments": {},
       "columnCustomDisplayInfos": {},
       "data": [
        [
         "URGENT",
         "70+",
         "F",
         2,
         2,
         "100.00",
         0.03,
         "50.00"
        ],
        [
         "EMERGENCY",
         "30-49",
         "M",
         7,
         7,
         "100.00",
         24.8,
         "42.86"
        ],
        [
         "EMERGENCY",
         "50-69",
         "F",
         11,
         11,
         "100.00",
         36.89,
         "36.36"
        ],
        [
         "ELECTIVE",
         "50-69",
         "M",
         2,
         2,
         "100.00",
         9.41,
         "0.00"
        ],
        [
         "EMERGENCY",
         "50-69",
         "M",
         28,
         28,
         "100.00",
         7.83,
         "14.29"
        ],
        [
         "ELECTIVE",
         "70+",
         "M",
         1,
         1,
         "100.00",
         21.57,
         "0.00"
        ],
        [
         "EMERGENCY",
         "18-29",
         "F",
         2,
         2,
         "100.00",
         0.02,
         "50.00"
        ],
        [
         "EMERGENCY",
         "70+",
         "M",
         32,
         32,
         "100.00",
         21.64,
         "37.50"
        ],
        [
         "EMERGENCY",
         "70+",
         "F",
         39,
         39,
         "100.00",
         39.99,
         "41.03"
        ],
        [
         "ELECTIVE",
         "70+",
         "F",
         5,
         5,
         "100.00",
         15.36,
         "0.00"
        ],
        [
         "EMERGENCY",
         "18-29",
         "M",
         3,
         3,
         "100.00",
         0.02,
         "66.67"
        ],
        [
         "EMERGENCY",
         "30-49",
         "F",
         4,
         4,
         "100.00",
         28.17,
         "75.00"
        ]
       ],
       "datasetInfos": [],
       "dbfsResultPath": null,
       "isJsonSchema": true,
       "metadata": {
        "dataframeName": "_sqldf",
        "executionCount": 8
       },
       "overflow": false,
       "plotOptions": {
        "customPlotOptions": {},
        "displayType": "table",
        "pivotAggregation": null,
        "pivotColumns": null,
        "xColumns": null,
        "yColumns": null
       },
       "removedWidgets": [],
       "schema": [
        {
         "metadata": "{}",
         "name": "admission_type",
         "type": "\"string\""
        },
        {
         "metadata": "{}",
         "name": "age_group",
         "type": "\"string\""
        },
        {
         "metadata": "{}",
         "name": "gender",
         "type": "\"string\""
        },
        {
         "metadata": "{}",
         "name": "total_admissions",
         "type": "\"long\""
        },
        {
         "metadata": "{}",
         "name": "icu_transfers",
         "type": "\"long\""
        },
        {
         "metadata": "{}",
         "name": "icu_transfer_rate",
         "type": "\"decimal(27,2)\""
        },
        {
         "metadata": "{}",
         "name": "avg_hours_to_icu",
         "type": "\"double\""
        },
        {
         "metadata": "{}",
         "name": "mortality_rate",
         "type": "\"decimal(27,2)\""
        }
       ],
       "type": "table"
      }
     },
     "output_type": "display_data"
    },
    {
     "output_type": "display_data",
     "data": {
      "text/plain": [
       "Databricks visualization. Run in Databricks to view."
      ]
     },
     "metadata": {
      "application/vnd.databricks.v1.subcommand+json": {
       "baseErrorDetails": null,
       "bindings": {},
       "collapsed": false,
       "command": "%sql WITH q AS (WITH care_escalation AS (\n    SELECT \n        a.admission_type,\n        EXTRACT(YEAR FROM a.admittime) - EXTRACT(YEAR FROM p.dob) as age_at_admission,\n        p.gender,\n        CASE WHEN i.icustay_id IS NOT NULL THEN 1 ELSE 0 END as required_icu,\n        a.hospital_expire_flag,\n        CASE \n            WHEN i.intime IS NOT NULL \n            THEN (UNIX_TIMESTAMP(i.intime) - UNIX_TIMESTAMP(a.admittime))/3600 \n            ELSE NULL \n        END as hours_to_icu\n    FROM mimicdata_2567611159492892.mimic.patients p\n    JOIN mimicdata_2567611159492892.mimic.admissions a ON p.subject_id = a.subject_id\n    LEFT JOIN mimicdata_2567611159492892.mimic.icustays i ON a.hadm_id = i.hadm_id\n    \n) SELECT \n    admission_type,\n    CASE \n        WHEN age_at_admission < 30 THEN '18-29'\n        WHEN age_at_admission < 50 THEN '30-49'\n        WHEN age_at_admission < 70 THEN '50-69'\n        ELSE '70+'\n    END as age_group,\n    gender,\n    COUNT(*) as total_admissions,\n    SUM(required_icu) as icu_transfers,\n    ROUND(100.0 * SUM(required_icu) / COUNT(*), 2) as icu_transfer_rate,\n    ROUND(AVG(hours_to_icu), 2) as avg_hours_to_icu,\n    ROUND(100.0 * SUM(hospital_expire_flag) / COUNT(*), 2) as mortality_rate\nFROM care_escalation\nGROUP BY admission_type, age_group, gender\nORDER BY icu_transfer_rate DESC) SELECT `admission_type`,COUNT(`admission_type`) `column_fbd94115190`,COUNT(`total_admissions`) `column_fbd94115193`,SUM(`icu_transfers`) `column_fbd94115196`,SUM(`avg_hours_to_icu`) `column_fbd94115199`,SUM(`mortality_rate`) `column_fbd94115202` FROM q GROUP BY `admission_type`",
       "commandTitle": "Visualization 1",
       "commandType": "auto",
       "commandVersion": 0,
       "commentThread": [],
       "commentsVisible": false,
       "contentSha256Hex": null,
       "customPlotOptions": {
        "redashChart": [
         {
          "key": "type",
          "value": "CHART"
         },
         {
          "key": "options",
          "value": {
           "alignYAxesAtZero": true,
           "coefficient": 1,
           "columnConfigurationMap": {
            "x": {
             "column": "admission_type",
             "id": "column_fbd94115188"
            },
            "y": [
             {
              "column": "admission_type",
              "id": "column_fbd94115190",
              "transform": "COUNT"
             },
             {
              "column": "total_admissions",
              "id": "column_fbd94115193",
              "transform": "COUNT"
             },
             {
              "column": "icu_transfers",
              "id": "column_fbd94115196",
              "transform": "SUM"
             },
             {
              "column": "avg_hours_to_icu",
              "id": "column_fbd94115199",
              "transform": "SUM"
             },
             {
              "column": "mortality_rate",
              "id": "column_fbd94115202",
              "transform": "SUM"
             }
            ]
           },
           "dateTimeFormat": "DD/MM/YYYY HH:mm",
           "direction": {
            "type": "counterclockwise"
           },
           "error_y": {
            "type": "data",
            "visible": true
           },
           "globalSeriesType": "column",
           "isAggregationOn": true,
           "legend": {
            "traceorder": "normal"
           },
           "missingValuesAsZero": true,
           "numberFormat": "0,0.[00000]",
           "percentFormat": "0[.]00%",
           "series": {
            "error_y": {
             "type": "data",
             "visible": true
            },
            "stacking": null
           },
           "seriesOptions": {
            "column_fbd94115190": {
             "type": "column",
             "yAxis": 0
            },
            "column_fbd94115193": {
             "type": "column",
             "yAxis": 0
            },
            "column_fbd94115196": {
             "type": "column",
             "yAxis": 0
            },
            "column_fbd94115199": {
             "type": "column",
             "yAxis": 0
            },
            "column_fbd94115202": {
             "type": "column",
             "yAxis": 0
            }
           },
           "showDataLabels": false,
           "sizemode": "diameter",
           "sortX": true,
           "sortY": true,
           "swappedAxes": false,
           "textFormat": "",
           "useAggregationsUi": true,
           "valuesOptions": {},
           "version": 2,
           "xAxis": {
            "labels": {
             "enabled": true
            },
            "type": "-"
           },
           "yAxis": [
            {
             "type": "-"
            },
            {
             "opposite": true,
             "type": "-"
            }
           ]
          }
         }
        ]
       },
       "datasetPreviewNameToCmdIdMap": {},
       "diffDeletes": [],
       "diffInserts": [],
       "displayType": "redashChart",
       "error": null,
       "errorDetails": null,
       "errorSummary": null,
       "errorTraceType": null,
       "finishTime": 0,
       "globalVars": {},
       "guid": "",
       "height": "auto",
       "hideCommandCode": false,
       "hideCommandResult": false,
       "iPythonMetadata": null,
       "inputWidgets": {},
       "isLockedInExamMode": false,
       "latestUser": "a user",
       "latestUserId": null,
       "listResultMetadata": null,
       "metadata": {},
       "nuid": "6e3f3c65-2b5b-4e73-97ec-9eafed82d813",
       "origId": 0,
       "parentHierarchy": [],
       "pivotAggregation": null,
       "pivotColumns": null,
       "position": 8.0,
       "resultDbfsErrorMessage": null,
       "resultDbfsStatus": "INLINED_IN_TREE",
       "results": null,
       "showCommandTitle": false,
       "startTime": 0,
       "state": "input",
       "streamStates": {},
       "subcommandOptions": {
        "queryPlan": {
         "groups": [
          {
           "column": "admission_type",
           "type": "column"
          }
         ],
         "selects": [
          {
           "column": "admission_type",
           "type": "column"
          },
          {
           "alias": "column_fbd94115190",
           "args": [
            {
             "column": "admission_type",
             "type": "column"
            }
           ],
           "function": "COUNT",
           "type": "function"
          },
          {
           "alias": "column_fbd94115193",
           "args": [
            {
             "column": "total_admissions",
             "type": "column"
            }
           ],
           "function": "COUNT",
           "type": "function"
          },
          {
           "alias": "column_fbd94115196",
           "args": [
            {
             "column": "icu_transfers",
             "type": "column"
            }
           ],
           "function": "SUM",
           "type": "function"
          },
          {
           "alias": "column_fbd94115199",
           "args": [
            {
             "column": "avg_hours_to_icu",
             "type": "column"
            }
           ],
           "function": "SUM",
           "type": "function"
          },
          {
           "alias": "column_fbd94115202",
           "args": [
            {
             "column": "mortality_rate",
             "type": "column"
            }
           ],
           "function": "SUM",
           "type": "function"
          }
         ]
        }
       },
       "submitTime": 0,
       "subtype": "tableResultSubCmd.visualization",
       "tableResultIndex": 0,
       "tableResultSettingsMap": {},
       "useConsistentColors": false,
       "version": "CommandV1",
       "width": "auto",
       "workflows": [],
       "xColumns": null,
       "yColumns": null
      }
     },
     "output_type": "display_data"
    },
    {
     "output_type": "display_data",
     "data": {
      "text/plain": [
       "Databricks visualization. Run in Databricks to view."
      ]
     },
     "metadata": {
      "application/vnd.databricks.v1.subcommand+json": {
       "baseErrorDetails": null,
       "bindings": {},
       "collapsed": false,
       "command": "%sql WITH q AS (WITH care_escalation AS (\n    SELECT \n        a.admission_type,\n        EXTRACT(YEAR FROM a.admittime) - EXTRACT(YEAR FROM p.dob) as age_at_admission,\n        p.gender,\n        CASE WHEN i.icustay_id IS NOT NULL THEN 1 ELSE 0 END as required_icu,\n        a.hospital_expire_flag,\n        CASE \n            WHEN i.intime IS NOT NULL \n            THEN (UNIX_TIMESTAMP(i.intime) - UNIX_TIMESTAMP(a.admittime))/3600 \n            ELSE NULL \n        END as hours_to_icu\n    FROM mimicdata_2567611159492892.mimic.patients p\n    JOIN mimicdata_2567611159492892.mimic.admissions a ON p.subject_id = a.subject_id\n    LEFT JOIN mimicdata_2567611159492892.mimic.icustays i ON a.hadm_id = i.hadm_id\n    \n) SELECT \n    admission_type,\n    CASE \n        WHEN age_at_admission < 30 THEN '18-29'\n        WHEN age_at_admission < 50 THEN '30-49'\n        WHEN age_at_admission < 70 THEN '50-69'\n        ELSE '70+'\n    END as age_group,\n    gender,\n    COUNT(*) as total_admissions,\n    SUM(required_icu) as icu_transfers,\n    ROUND(100.0 * SUM(required_icu) / COUNT(*), 2) as icu_transfer_rate,\n    ROUND(AVG(hours_to_icu), 2) as avg_hours_to_icu,\n    ROUND(100.0 * SUM(hospital_expire_flag) / COUNT(*), 2) as mortality_rate\nFROM care_escalation\nGROUP BY admission_type, age_group, gender\nORDER BY icu_transfer_rate DESC) SELECT `gender`,SUM(`mortality_rate`) `column_fbd94115206`,SUM(`icu_transfers`) `column_fbd94115209`,SUM(`total_admissions`) `column_fbd94115212`,SUM(`avg_hours_to_icu`) `column_fbd94115215` FROM q GROUP BY `gender`",
       "commandTitle": "Visualization 2",
       "commandType": "auto",
       "commandVersion": 0,
       "commentThread": [],
       "commentsVisible": false,
       "contentSha256Hex": null,
       "customPlotOptions": {
        "redashChart": [
         {
          "key": "type",
          "value": "CHART"
         },
         {
          "key": "options",
          "value": {
           "alignYAxesAtZero": true,
           "coefficient": 1,
           "columnConfigurationMap": {
            "x": {
             "column": "gender",
             "id": "column_fbd94115204"
            },
            "y": [
             {
              "column": "mortality_rate",
              "id": "column_fbd94115206",
              "transform": "SUM"
             },
             {
              "column": "icu_transfers",
              "id": "column_fbd94115209",
              "transform": "SUM"
             },
             {
              "column": "total_admissions",
              "id": "column_fbd94115212",
              "transform": "SUM"
             },
             {
              "column": "avg_hours_to_icu",
              "id": "column_fbd94115215",
              "transform": "SUM"
             }
            ]
           },
           "dateTimeFormat": "DD/MM/YYYY HH:mm",
           "direction": {
            "type": "counterclockwise"
           },
           "error_y": {
            "type": "data",
            "visible": true
           },
           "globalSeriesType": "column",
           "isAggregationOn": true,
           "legend": {
            "traceorder": "normal"
           },
           "missingValuesAsZero": true,
           "numberFormat": "0,0.[00000]",
           "percentFormat": "0[.]00%",
           "series": {
            "error_y": {
             "type": "data",
             "visible": true
            },
            "stacking": null
           },
           "seriesOptions": {
            "column_fbd94115206": {
             "type": "column",
             "yAxis": 0
            },
            "column_fbd94115209": {
             "type": "column",
             "yAxis": 0
            },
            "column_fbd94115212": {
             "type": "column",
             "yAxis": 0
            },
            "column_fbd94115215": {
             "type": "column",
             "yAxis": 0
            }
           },
           "showDataLabels": false,
           "sizemode": "diameter",
           "sortX": true,
           "sortY": true,
           "swappedAxes": false,
           "textFormat": "",
           "useAggregationsUi": true,
           "valuesOptions": {},
           "version": 2,
           "xAxis": {
            "labels": {
             "enabled": true
            },
            "type": "-"
           },
           "yAxis": [
            {
             "type": "-"
            },
            {
             "opposite": true,
             "type": "-"
            }
           ]
          }
         }
        ]
       },
       "datasetPreviewNameToCmdIdMap": {},
       "diffDeletes": [],
       "diffInserts": [],
       "displayType": "redashChart",
       "error": null,
       "errorDetails": null,
       "errorSummary": null,
       "errorTraceType": null,
       "finishTime": 0,
       "globalVars": {},
       "guid": "",
       "height": "auto",
       "hideCommandCode": false,
       "hideCommandResult": false,
       "iPythonMetadata": null,
       "inputWidgets": {},
       "isLockedInExamMode": false,
       "latestUser": "a user",
       "latestUserId": null,
       "listResultMetadata": null,
       "metadata": {},
       "nuid": "8ef2bf6e-aeee-4157-b4aa-bc102876af5a",
       "origId": 0,
       "parentHierarchy": [],
       "pivotAggregation": null,
       "pivotColumns": null,
       "position": 9.0,
       "resultDbfsErrorMessage": null,
       "resultDbfsStatus": "INLINED_IN_TREE",
       "results": null,
       "showCommandTitle": false,
       "startTime": 0,
       "state": "input",
       "streamStates": {},
       "subcommandOptions": {
        "queryPlan": {
         "groups": [
          {
           "column": "gender",
           "type": "column"
          }
         ],
         "selects": [
          {
           "column": "gender",
           "type": "column"
          },
          {
           "alias": "column_fbd94115206",
           "args": [
            {
             "column": "mortality_rate",
             "type": "column"
            }
           ],
           "function": "SUM",
           "type": "function"
          },
          {
           "alias": "column_fbd94115209",
           "args": [
            {
             "column": "icu_transfers",
             "type": "column"
            }
           ],
           "function": "SUM",
           "type": "function"
          },
          {
           "alias": "column_fbd94115212",
           "args": [
            {
             "column": "total_admissions",
             "type": "column"
            }
           ],
           "function": "SUM",
           "type": "function"
          },
          {
           "alias": "column_fbd94115215",
           "args": [
            {
             "column": "avg_hours_to_icu",
             "type": "column"
            }
           ],
           "function": "SUM",
           "type": "function"
          }
         ]
        }
       },
       "submitTime": 0,
       "subtype": "tableResultSubCmd.visualization",
       "tableResultIndex": 0,
       "tableResultSettingsMap": {},
       "useConsistentColors": false,
       "version": "CommandV1",
       "width": "auto",
       "workflows": [],
       "xColumns": null,
       "yColumns": null
      }
     },
     "output_type": "display_data"
    }
   ],
   "source": [
    "%sql\n",
    "WITH care_escalation AS (\n",
    "    SELECT \n",
    "        a.admission_type,\n",
    "        EXTRACT(YEAR FROM a.admittime) - EXTRACT(YEAR FROM p.dob) as age_at_admission,\n",
    "        p.gender,\n",
    "        CASE WHEN i.icustay_id IS NOT NULL THEN 1 ELSE 0 END as required_icu,\n",
    "        a.hospital_expire_flag,\n",
    "        CASE \n",
    "            WHEN i.intime IS NOT NULL \n",
    "            THEN (UNIX_TIMESTAMP(i.intime) - UNIX_TIMESTAMP(a.admittime))/3600 \n",
    "            ELSE NULL \n",
    "        END as hours_to_icu\n",
    "    FROM mimicdata_2567611159492892.mimic.patients p\n",
    "    JOIN mimicdata_2567611159492892.mimic.admissions a ON p.subject_id = a.subject_id\n",
    "    LEFT JOIN mimicdata_2567611159492892.mimic.icustays i ON a.hadm_id = i.hadm_id\n",
    "    \n",
    ") SELECT \n",
    "    admission_type,\n",
    "    CASE \n",
    "        WHEN age_at_admission < 30 THEN '18-29'\n",
    "        WHEN age_at_admission < 50 THEN '30-49'\n",
    "        WHEN age_at_admission < 70 THEN '50-69'\n",
    "        ELSE '70+'\n",
    "    END as age_group,\n",
    "    gender,\n",
    "    COUNT(*) as total_admissions,\n",
    "    SUM(required_icu) as icu_transfers,\n",
    "    ROUND(100.0 * SUM(required_icu) / COUNT(*), 2) as icu_transfer_rate,\n",
    "    ROUND(AVG(hours_to_icu), 2) as avg_hours_to_icu,\n",
    "    ROUND(100.0 * SUM(hospital_expire_flag) / COUNT(*), 2) as mortality_rate\n",
    "FROM care_escalation\n",
    "GROUP BY admission_type, age_group, gender\n",
    "ORDER BY icu_transfer_rate DESC;\n"
   ]
  },
  {
   "cell_type": "code",
   "execution_count": 0,
   "metadata": {
    "application/vnd.databricks.v1+cell": {
     "cellMetadata": {
      "byteLimit": 2048000,
      "implicitDf": true,
      "rowLimit": 10000
     },
     "inputWidgets": {},
     "nuid": "bbc9ec5c-c6a2-4f74-8a6e-7913b950e59d",
     "showTitle": true,
     "tableResultSettingsMap": {},
     "title": "LENGTH OF STAY CASCADE"
    }
   },
   "outputs": [
    {
     "output_type": "display_data",
     "data": {
      "text/html": [
       "<style scoped>\n",
       "  .table-result-container {\n",
       "    max-height: 300px;\n",
       "    overflow: auto;\n",
       "  }\n",
       "  table, th, td {\n",
       "    border: 1px solid black;\n",
       "    border-collapse: collapse;\n",
       "  }\n",
       "  th, td {\n",
       "    padding: 5px;\n",
       "  }\n",
       "  th {\n",
       "    text-align: left;\n",
       "  }\n",
       "</style><div class='table-result-container'><table class='table-result'><thead style='background-color: white'><tr><th>admission_type</th><th>age_group</th><th>gender</th><th>total_patients</th><th>avg_hospital_los</th><th>avg_icu_los</th><th>icu_utilization_rate</th><th>mortality_rate</th><th>avg_hospital_los_with_icu</th></tr></thead><tbody><tr><td>EMERGENCY</td><td>30-49</td><td>M</td><td>7</td><td>25.57</td><td>8.98</td><td>100.00</td><td>42.86</td><td>25.57</td></tr><tr><td>EMERGENCY</td><td>50-69</td><td>F</td><td>11</td><td>12.0</td><td>4.1</td><td>100.00</td><td>36.36</td><td>12.0</td></tr><tr><td>EMERGENCY</td><td>70+</td><td>F</td><td>39</td><td>8.77</td><td>4.13</td><td>100.00</td><td>41.03</td><td>8.77</td></tr><tr><td>ELECTIVE</td><td>70+</td><td>F</td><td>5</td><td>8.2</td><td>2.74</td><td>100.00</td><td>0.00</td><td>8.2</td></tr><tr><td>EMERGENCY</td><td>70+</td><td>M</td><td>32</td><td>6.22</td><td>2.59</td><td>100.00</td><td>37.50</td><td>6.22</td></tr><tr><td>EMERGENCY</td><td>50-69</td><td>M</td><td>28</td><td>5.93</td><td>3.45</td><td>100.00</td><td>14.29</td><td>5.93</td></tr></tbody></table></div>"
      ]
     },
     "metadata": {
      "application/vnd.databricks.v1+output": {
       "addedWidgets": {},
       "aggData": [],
       "aggError": "",
       "aggOverflow": false,
       "aggSchema": [],
       "aggSeriesLimitReached": false,
       "aggType": "",
       "arguments": {},
       "columnCustomDisplayInfos": {},
       "data": [
        [
         "EMERGENCY",
         "30-49",
         "M",
         7,
         25.57,
         8.98,
         "100.00",
         "42.86",
         25.57
        ],
        [
         "EMERGENCY",
         "50-69",
         "F",
         11,
         12.0,
         4.1,
         "100.00",
         "36.36",
         12.0
        ],
        [
         "EMERGENCY",
         "70+",
         "F",
         39,
         8.77,
         4.13,
         "100.00",
         "41.03",
         8.77
        ],
        [
         "ELECTIVE",
         "70+",
         "F",
         5,
         8.2,
         2.74,
         "100.00",
         "0.00",
         8.2
        ],
        [
         "EMERGENCY",
         "70+",
         "M",
         32,
         6.22,
         2.59,
         "100.00",
         "37.50",
         6.22
        ],
        [
         "EMERGENCY",
         "50-69",
         "M",
         28,
         5.93,
         3.45,
         "100.00",
         "14.29",
         5.93
        ]
       ],
       "datasetInfos": [],
       "dbfsResultPath": null,
       "isJsonSchema": true,
       "metadata": {
        "dataframeName": "_sqldf",
        "executionCount": 9
       },
       "overflow": false,
       "plotOptions": {
        "customPlotOptions": {},
        "displayType": "table",
        "pivotAggregation": null,
        "pivotColumns": null,
        "xColumns": null,
        "yColumns": null
       },
       "removedWidgets": [],
       "schema": [
        {
         "metadata": "{}",
         "name": "admission_type",
         "type": "\"string\""
        },
        {
         "metadata": "{}",
         "name": "age_group",
         "type": "\"string\""
        },
        {
         "metadata": "{}",
         "name": "gender",
         "type": "\"string\""
        },
        {
         "metadata": "{}",
         "name": "total_patients",
         "type": "\"long\""
        },
        {
         "metadata": "{}",
         "name": "avg_hospital_los",
         "type": "\"double\""
        },
        {
         "metadata": "{}",
         "name": "avg_icu_los",
         "type": "\"double\""
        },
        {
         "metadata": "{}",
         "name": "icu_utilization_rate",
         "type": "\"decimal(27,2)\""
        },
        {
         "metadata": "{}",
         "name": "mortality_rate",
         "type": "\"decimal(27,2)\""
        },
        {
         "metadata": "{}",
         "name": "avg_hospital_los_with_icu",
         "type": "\"double\""
        }
       ],
       "type": "table"
      }
     },
     "output_type": "display_data"
    },
    {
     "output_type": "display_data",
     "data": {
      "text/plain": [
       "Databricks visualization. Run in Databricks to view."
      ]
     },
     "metadata": {
      "application/vnd.databricks.v1.subcommand+json": {
       "baseErrorDetails": null,
       "bindings": {},
       "collapsed": false,
       "command": "%sql WITH q AS (WITH los_analysis AS (\n    SELECT \n        p.subject_id,\n        p.gender,\n        EXTRACT(YEAR FROM a.admittime) - EXTRACT(YEAR FROM p.dob) as age,\n        a.admission_type,\n        DATEDIFF(DAY, a.admittime, a.dischtime) as hospital_los,\n        i.los as icu_los,\n        a.hospital_expire_flag,\n        CASE WHEN i.icustay_id IS NOT NULL THEN 1 ELSE 0 END as had_icu_stay\n    FROM  mimicdata_2567611159492892.mimic.patients p\n    JOIN  mimicdata_2567611159492892.mimic.admissions a ON p.subject_id = a.subject_id\n    LEFT JOIN  mimicdata_2567611159492892.mimic.icustays i ON a.hadm_id = i.hadm_id\n)\nSELECT \n    admission_type,\n    CASE \n        WHEN age < 30 THEN '18-29'\n        WHEN age < 50 THEN '30-49'\n        WHEN age < 70 THEN '50-69'\n        ELSE '70+'\n    END as age_group,\n    gender,\n    COUNT(*) as total_patients,\n    ROUND(AVG(hospital_los), 2) as avg_hospital_los,\n    ROUND(AVG(CASE WHEN had_icu_stay = 1 THEN icu_los END), 2) as avg_icu_los,\n    ROUND(100.0 * SUM(had_icu_stay) / COUNT(*), 2) as icu_utilization_rate,\n    ROUND(100.0 * SUM(hospital_expire_flag) / COUNT(*), 2) as mortality_rate,\n    ROUND(AVG(CASE WHEN had_icu_stay = 1 THEN hospital_los END), 2) as avg_hospital_los_with_icu\nFROM los_analysis\nGROUP BY admission_type, age_group, gender\nHAVING COUNT(*) >= 5\nORDER BY avg_hospital_los DESC) SELECT `age_group`,SUM(`icu_utilization_rate`) `column_fbd94115219`,SUM(`mortality_rate`) `column_fbd94115222`,SUM(`avg_icu_los`) `column_fbd94115225` FROM q GROUP BY `age_group`",
       "commandTitle": "Visualization 1",
       "commandType": "auto",
       "commandVersion": 0,
       "commentThread": [],
       "commentsVisible": false,
       "contentSha256Hex": null,
       "customPlotOptions": {
        "redashChart": [
         {
          "key": "type",
          "value": "CHART"
         },
         {
          "key": "options",
          "value": {
           "alignYAxesAtZero": true,
           "coefficient": 1,
           "columnConfigurationMap": {
            "x": {
             "column": "age_group",
             "id": "column_fbd94115217"
            },
            "y": [
             {
              "column": "icu_utilization_rate",
              "id": "column_fbd94115219",
              "transform": "SUM"
             },
             {
              "column": "mortality_rate",
              "id": "column_fbd94115222",
              "transform": "SUM"
             },
             {
              "column": "avg_icu_los",
              "id": "column_fbd94115225",
              "transform": "SUM"
             }
            ]
           },
           "dateTimeFormat": "DD/MM/YYYY HH:mm",
           "direction": {
            "type": "counterclockwise"
           },
           "error_y": {
            "type": "data",
            "visible": true
           },
           "globalSeriesType": "column",
           "isAggregationOn": true,
           "legend": {
            "traceorder": "normal"
           },
           "missingValuesAsZero": true,
           "numberFormat": "0,0.[00000]",
           "percentFormat": "0[.]00%",
           "series": {
            "error_y": {
             "type": "data",
             "visible": true
            },
            "stacking": null
           },
           "seriesOptions": {
            "column_fbd94115219": {
             "type": "column",
             "yAxis": 0
            },
            "column_fbd94115222": {
             "type": "column",
             "yAxis": 0
            },
            "column_fbd94115225": {
             "type": "column",
             "yAxis": 0
            }
           },
           "showDataLabels": false,
           "sizemode": "diameter",
           "sortX": true,
           "sortY": true,
           "swappedAxes": false,
           "textFormat": "",
           "useAggregationsUi": true,
           "valuesOptions": {},
           "version": 2,
           "xAxis": {
            "labels": {
             "enabled": true
            },
            "type": "-"
           },
           "yAxis": [
            {
             "type": "-"
            },
            {
             "opposite": true,
             "type": "-"
            }
           ]
          }
         }
        ]
       },
       "datasetPreviewNameToCmdIdMap": {},
       "diffDeletes": [],
       "diffInserts": [],
       "displayType": "redashChart",
       "error": null,
       "errorDetails": null,
       "errorSummary": null,
       "errorTraceType": null,
       "finishTime": 0,
       "globalVars": {},
       "guid": "",
       "height": "auto",
       "hideCommandCode": false,
       "hideCommandResult": false,
       "iPythonMetadata": null,
       "inputWidgets": {},
       "isLockedInExamMode": false,
       "latestUser": "a user",
       "latestUserId": null,
       "listResultMetadata": null,
       "metadata": {},
       "nuid": "9452abc0-694b-4e3b-9fd5-92051d758d96",
       "origId": 0,
       "parentHierarchy": [],
       "pivotAggregation": null,
       "pivotColumns": null,
       "position": 9.0,
       "resultDbfsErrorMessage": null,
       "resultDbfsStatus": "INLINED_IN_TREE",
       "results": null,
       "showCommandTitle": false,
       "startTime": 0,
       "state": "input",
       "streamStates": {},
       "subcommandOptions": {
        "queryPlan": {
         "groups": [
          {
           "column": "age_group",
           "type": "column"
          }
         ],
         "selects": [
          {
           "column": "age_group",
           "type": "column"
          },
          {
           "alias": "column_fbd94115219",
           "args": [
            {
             "column": "icu_utilization_rate",
             "type": "column"
            }
           ],
           "function": "SUM",
           "type": "function"
          },
          {
           "alias": "column_fbd94115222",
           "args": [
            {
             "column": "mortality_rate",
             "type": "column"
            }
           ],
           "function": "SUM",
           "type": "function"
          },
          {
           "alias": "column_fbd94115225",
           "args": [
            {
             "column": "avg_icu_los",
             "type": "column"
            }
           ],
           "function": "SUM",
           "type": "function"
          }
         ]
        }
       },
       "submitTime": 0,
       "subtype": "tableResultSubCmd.visualization",
       "tableResultIndex": 0,
       "tableResultSettingsMap": {},
       "useConsistentColors": false,
       "version": "CommandV1",
       "width": "auto",
       "workflows": [],
       "xColumns": null,
       "yColumns": null
      }
     },
     "output_type": "display_data"
    }
   ],
   "source": [
    "%sql\n",
    "WITH los_analysis AS (\n",
    "    SELECT \n",
    "        p.subject_id,\n",
    "        p.gender,\n",
    "        EXTRACT(YEAR FROM a.admittime) - EXTRACT(YEAR FROM p.dob) as age,\n",
    "        a.admission_type,\n",
    "        DATEDIFF(DAY, a.admittime, a.dischtime) as hospital_los,\n",
    "        i.los as icu_los,\n",
    "        a.hospital_expire_flag,\n",
    "        CASE WHEN i.icustay_id IS NOT NULL THEN 1 ELSE 0 END as had_icu_stay\n",
    "    FROM  mimicdata_2567611159492892.mimic.patients p\n",
    "    JOIN  mimicdata_2567611159492892.mimic.admissions a ON p.subject_id = a.subject_id\n",
    "    LEFT JOIN  mimicdata_2567611159492892.mimic.icustays i ON a.hadm_id = i.hadm_id\n",
    ")\n",
    "SELECT \n",
    "    admission_type,\n",
    "    CASE \n",
    "        WHEN age < 30 THEN '18-29'\n",
    "        WHEN age < 50 THEN '30-49'\n",
    "        WHEN age < 70 THEN '50-69'\n",
    "        ELSE '70+'\n",
    "    END as age_group,\n",
    "    gender,\n",
    "    COUNT(*) as total_patients,\n",
    "    ROUND(AVG(hospital_los), 2) as avg_hospital_los,\n",
    "    ROUND(AVG(CASE WHEN had_icu_stay = 1 THEN icu_los END), 2) as avg_icu_los,\n",
    "    ROUND(100.0 * SUM(had_icu_stay) / COUNT(*), 2) as icu_utilization_rate,\n",
    "    ROUND(100.0 * SUM(hospital_expire_flag) / COUNT(*), 2) as mortality_rate,\n",
    "    ROUND(AVG(CASE WHEN had_icu_stay = 1 THEN hospital_los END), 2) as avg_hospital_los_with_icu\n",
    "FROM los_analysis\n",
    "GROUP BY admission_type, age_group, gender\n",
    "HAVING COUNT(*) >= 5\n",
    "ORDER BY avg_hospital_los DESC;"
   ]
  },
  {
   "cell_type": "code",
   "execution_count": 0,
   "metadata": {
    "application/vnd.databricks.v1+cell": {
     "cellMetadata": {
      "byteLimit": 2048000,
      "implicitDf": true,
      "rowLimit": 10000
     },
     "inputWidgets": {},
     "nuid": "dd135e7d-4288-4b8f-8d4e-24fe62ac92f2",
     "showTitle": true,
     "tableResultSettingsMap": {},
     "title": "RISK"
    }
   },
   "outputs": [
    {
     "output_type": "display_data",
     "data": {
      "text/html": [
       "<style scoped>\n",
       "  .table-result-container {\n",
       "    max-height: 300px;\n",
       "    overflow: auto;\n",
       "  }\n",
       "  table, th, td {\n",
       "    border: 1px solid black;\n",
       "    border-collapse: collapse;\n",
       "  }\n",
       "  th, td {\n",
       "    padding: 5px;\n",
       "  }\n",
       "  th {\n",
       "    text-align: left;\n",
       "  }\n",
       "</style><div class='table-result-container'><table class='table-result'><thead style='background-color: white'><tr><th>risk_category</th><th>total_patients</th><th>deaths</th><th>mortality_rate</th><th>avg_age</th><th>avg_hospital_los</th><th>icu_utilization_rate</th></tr></thead><tbody><tr><td>High Risk</td><td>7</td><td>3</td><td>42.86</td><td>36.9</td><td>3.67</td><td>100.00</td></tr><tr><td>Very High Risk</td><td>129</td><td>43</td><td>33.33</td><td>87.3</td><td>10.08</td><td>100.00</td></tr></tbody></table></div>"
      ]
     },
     "metadata": {
      "application/vnd.databricks.v1+output": {
       "addedWidgets": {},
       "aggData": [],
       "aggError": "",
       "aggOverflow": false,
       "aggSchema": [],
       "aggSeriesLimitReached": false,
       "aggType": "",
       "arguments": {},
       "columnCustomDisplayInfos": {},
       "data": [
        [
         "High Risk",
         7,
         3,
         "42.86",
         36.9,
         3.67,
         "100.00"
        ],
        [
         "Very High Risk",
         129,
         43,
         "33.33",
         87.3,
         10.08,
         "100.00"
        ]
       ],
       "datasetInfos": [],
       "dbfsResultPath": null,
       "isJsonSchema": true,
       "metadata": {
        "dataframeName": "_sqldf",
        "executionCount": 11
       },
       "overflow": false,
       "plotOptions": {
        "customPlotOptions": {},
        "displayType": "table",
        "pivotAggregation": null,
        "pivotColumns": null,
        "xColumns": null,
        "yColumns": null
       },
       "removedWidgets": [],
       "schema": [
        {
         "metadata": "{}",
         "name": "risk_category",
         "type": "\"string\""
        },
        {
         "metadata": "{}",
         "name": "total_patients",
         "type": "\"long\""
        },
        {
         "metadata": "{}",
         "name": "deaths",
         "type": "\"long\""
        },
        {
         "metadata": "{}",
         "name": "mortality_rate",
         "type": "\"decimal(27,2)\""
        },
        {
         "metadata": "{}",
         "name": "avg_age",
         "type": "\"double\""
        },
        {
         "metadata": "{}",
         "name": "avg_hospital_los",
         "type": "\"double\""
        },
        {
         "metadata": "{}",
         "name": "icu_utilization_rate",
         "type": "\"decimal(27,2)\""
        }
       ],
       "type": "table"
      }
     },
     "output_type": "display_data"
    },
    {
     "output_type": "display_data",
     "data": {
      "text/plain": [
       "Databricks visualization. Run in Databricks to view."
      ]
     },
     "metadata": {
      "application/vnd.databricks.v1.subcommand+json": {
       "baseErrorDetails": null,
       "bindings": {},
       "collapsed": false,
       "command": "%sql WITH q AS (WITH risk_factors AS (\n    SELECT \n        a.hadm_id,\n        EXTRACT(YEAR FROM a.admittime) - EXTRACT(YEAR FROM p.dob) as age,\n        CASE WHEN p.gender = 'M' THEN 1 ELSE 0 END as is_male,\n        CASE WHEN a.admission_type = 'EMERGENCY' THEN 1 ELSE 0 END as is_emergency,\n        CASE WHEN i.icustay_id IS NOT NULL THEN 1 ELSE 0 END as required_icu,\n        COALESCE(i.los, 0) as icu_los,\n        (UNIX_TIMESTAMP(a.dischtime) - UNIX_TIMESTAMP(a.admittime))/86400 as hospital_los,\n        a.hospital_expire_flag as died_in_hospital\n    FROM mimicdata_2567611159492892.mimic.patients p\n    JOIN mimicdata_2567611159492892.mimic.admissions a ON p.subject_id = a.subject_id\n    LEFT JOIN mimicdata_2567611159492892.mimic.icustays i ON a.hadm_id = i.hadm_id\n),\nrisk_scores AS (\n    SELECT \n        *,\n        \n        (age * 0.02) + \n        (is_male * 0.1) + \n        (is_emergency * 0.3) + \n        (required_icu * 0.5) + \n        (icu_los * 0.1) as risk_score\n    FROM risk_factors\n)\nSELECT \n    CASE \n        WHEN risk_score < 0.5 THEN 'Low Risk'\n        WHEN risk_score < 1.0 THEN 'Medium Risk'\n        WHEN risk_score < 2.0 THEN 'High Risk'\n        ELSE 'Very High Risk'\n    END as risk_category,\n    COUNT(*) as total_patients,\n    SUM(died_in_hospital) as deaths,\n    ROUND(100.0 * SUM(died_in_hospital) / COUNT(*), 2) as mortality_rate,\n    ROUND(AVG(age), 1) as avg_age,\n    ROUND(AVG(hospital_los), 2) as avg_hospital_los,\n    ROUND(100.0 * SUM(required_icu) / COUNT(*), 2) as icu_utilization_rate\nFROM risk_scores\nGROUP BY risk_category\nORDER BY \n    CASE risk_category \n        WHEN 'Low Risk' THEN 1\n        WHEN 'Medium Risk' THEN 2\n        WHEN 'High Risk' THEN 3\n        WHEN 'Very High Risk' THEN 4\n    END) SELECT `risk_category`,SUM(`total_patients`) `column_fbd94115229`,SUM(`deaths`) `column_fbd94115232`,SUM(`mortality_rate`) `column_fbd94115235`,SUM(`avg_age`) `column_fbd94115238`,SUM(`icu_utilization_rate`) `column_fbd94115241` FROM q GROUP BY `risk_category`",
       "commandTitle": "Visualization 1",
       "commandType": "auto",
       "commandVersion": 0,
       "commentThread": [],
       "commentsVisible": false,
       "contentSha256Hex": null,
       "customPlotOptions": {
        "redashChart": [
         {
          "key": "type",
          "value": "CHART"
         },
         {
          "key": "options",
          "value": {
           "alignYAxesAtZero": true,
           "coefficient": 1,
           "columnConfigurationMap": {
            "x": {
             "column": "risk_category",
             "id": "column_fbd94115227"
            },
            "y": [
             {
              "column": "total_patients",
              "id": "column_fbd94115229",
              "transform": "SUM"
             },
             {
              "column": "deaths",
              "id": "column_fbd94115232",
              "transform": "SUM"
             },
             {
              "column": "mortality_rate",
              "id": "column_fbd94115235",
              "transform": "SUM"
             },
             {
              "column": "avg_age",
              "id": "column_fbd94115238",
              "transform": "SUM"
             },
             {
              "column": "icu_utilization_rate",
              "id": "column_fbd94115241",
              "transform": "SUM"
             }
            ]
           },
           "dateTimeFormat": "DD/MM/YYYY HH:mm",
           "direction": {
            "type": "counterclockwise"
           },
           "error_y": {
            "type": "data",
            "visible": true
           },
           "globalSeriesType": "column",
           "isAggregationOn": true,
           "legend": {
            "traceorder": "normal"
           },
           "missingValuesAsZero": true,
           "numberFormat": "0,0.[00000]",
           "percentFormat": "0[.]00%",
           "series": {
            "error_y": {
             "type": "data",
             "visible": true
            },
            "stacking": null
           },
           "seriesOptions": {
            "column_fbd94115229": {
             "type": "column",
             "yAxis": 0
            },
            "column_fbd94115232": {
             "type": "column",
             "yAxis": 0
            },
            "column_fbd94115235": {
             "type": "column",
             "yAxis": 0
            },
            "column_fbd94115238": {
             "type": "column",
             "yAxis": 0
            },
            "column_fbd94115241": {
             "type": "column",
             "yAxis": 0
            }
           },
           "showDataLabels": false,
           "sizemode": "diameter",
           "sortX": true,
           "sortY": true,
           "swappedAxes": false,
           "textFormat": "",
           "useAggregationsUi": true,
           "valuesOptions": {},
           "version": 2,
           "xAxis": {
            "labels": {
             "enabled": true
            },
            "type": "-"
           },
           "yAxis": [
            {
             "type": "-"
            },
            {
             "opposite": true,
             "type": "-"
            }
           ]
          }
         }
        ]
       },
       "datasetPreviewNameToCmdIdMap": {},
       "diffDeletes": [],
       "diffInserts": [],
       "displayType": "redashChart",
       "error": null,
       "errorDetails": null,
       "errorSummary": null,
       "errorTraceType": null,
       "finishTime": 0,
       "globalVars": {},
       "guid": "",
       "height": "auto",
       "hideCommandCode": false,
       "hideCommandResult": false,
       "iPythonMetadata": null,
       "inputWidgets": {},
       "isLockedInExamMode": false,
       "latestUser": "a user",
       "latestUserId": null,
       "listResultMetadata": null,
       "metadata": {},
       "nuid": "a4150378-7682-44e2-b48a-bbea77cde2c2",
       "origId": 0,
       "parentHierarchy": [],
       "pivotAggregation": null,
       "pivotColumns": null,
       "position": 10.0,
       "resultDbfsErrorMessage": null,
       "resultDbfsStatus": "INLINED_IN_TREE",
       "results": null,
       "showCommandTitle": false,
       "startTime": 0,
       "state": "input",
       "streamStates": {},
       "subcommandOptions": {
        "queryPlan": {
         "groups": [
          {
           "column": "risk_category",
           "type": "column"
          }
         ],
         "selects": [
          {
           "column": "risk_category",
           "type": "column"
          },
          {
           "alias": "column_fbd94115229",
           "args": [
            {
             "column": "total_patients",
             "type": "column"
            }
           ],
           "function": "SUM",
           "type": "function"
          },
          {
           "alias": "column_fbd94115232",
           "args": [
            {
             "column": "deaths",
             "type": "column"
            }
           ],
           "function": "SUM",
           "type": "function"
          },
          {
           "alias": "column_fbd94115235",
           "args": [
            {
             "column": "mortality_rate",
             "type": "column"
            }
           ],
           "function": "SUM",
           "type": "function"
          },
          {
           "alias": "column_fbd94115238",
           "args": [
            {
             "column": "avg_age",
             "type": "column"
            }
           ],
           "function": "SUM",
           "type": "function"
          },
          {
           "alias": "column_fbd94115241",
           "args": [
            {
             "column": "icu_utilization_rate",
             "type": "column"
            }
           ],
           "function": "SUM",
           "type": "function"
          }
         ]
        }
       },
       "submitTime": 0,
       "subtype": "tableResultSubCmd.visualization",
       "tableResultIndex": 0,
       "tableResultSettingsMap": {},
       "useConsistentColors": false,
       "version": "CommandV1",
       "width": "auto",
       "workflows": [],
       "xColumns": null,
       "yColumns": null
      }
     },
     "output_type": "display_data"
    }
   ],
   "source": [
    "%sql\n",
    "WITH risk_factors AS (\n",
    "    SELECT \n",
    "        a.hadm_id,\n",
    "        EXTRACT(YEAR FROM a.admittime) - EXTRACT(YEAR FROM p.dob) as age,\n",
    "        CASE WHEN p.gender = 'M' THEN 1 ELSE 0 END as is_male,\n",
    "        CASE WHEN a.admission_type = 'EMERGENCY' THEN 1 ELSE 0 END as is_emergency,\n",
    "        CASE WHEN i.icustay_id IS NOT NULL THEN 1 ELSE 0 END as required_icu,\n",
    "        COALESCE(i.los, 0) as icu_los,\n",
    "        (UNIX_TIMESTAMP(a.dischtime) - UNIX_TIMESTAMP(a.admittime))/86400 as hospital_los,\n",
    "        a.hospital_expire_flag as died_in_hospital\n",
    "    FROM mimicdata_2567611159492892.mimic.patients p\n",
    "    JOIN mimicdata_2567611159492892.mimic.admissions a ON p.subject_id = a.subject_id\n",
    "    LEFT JOIN mimicdata_2567611159492892.mimic.icustays i ON a.hadm_id = i.hadm_id\n",
    "),\n",
    "risk_scores AS (\n",
    "    SELECT \n",
    "        *,\n",
    "        -- risk score calculation\n",
    "        (age * 0.02) + \n",
    "        (is_male * 0.1) + \n",
    "        (is_emergency * 0.3) + \n",
    "        (required_icu * 0.5) + \n",
    "        (icu_los * 0.1) as risk_score\n",
    "    FROM risk_factors\n",
    ")\n",
    "SELECT \n",
    "    CASE \n",
    "        WHEN risk_score < 0.5 THEN 'Low Risk'\n",
    "        WHEN risk_score < 1.0 THEN 'Medium Risk'\n",
    "        WHEN risk_score < 2.0 THEN 'High Risk'\n",
    "        ELSE 'Very High Risk'\n",
    "    END as risk_category,\n",
    "    COUNT(*) as total_patients,\n",
    "    SUM(died_in_hospital) as deaths,\n",
    "    ROUND(100.0 * SUM(died_in_hospital) / COUNT(*), 2) as mortality_rate,\n",
    "    ROUND(AVG(age), 1) as avg_age,\n",
    "    ROUND(AVG(hospital_los), 2) as avg_hospital_los,\n",
    "    ROUND(100.0 * SUM(required_icu) / COUNT(*), 2) as icu_utilization_rate\n",
    "FROM risk_scores\n",
    "GROUP BY risk_category\n",
    "ORDER BY \n",
    "    CASE risk_category \n",
    "        WHEN 'Low Risk' THEN 1\n",
    "        WHEN 'Medium Risk' THEN 2\n",
    "        WHEN 'High Risk' THEN 3\n",
    "        WHEN 'Very High Risk' THEN 4\n",
    "    END;"
   ]
  },
  {
   "cell_type": "code",
   "execution_count": 0,
   "metadata": {
    "application/vnd.databricks.v1+cell": {
     "cellMetadata": {
      "byteLimit": 2048000,
      "implicitDf": true,
      "rowLimit": 10000
     },
     "inputWidgets": {},
     "nuid": "429c87ce-8e27-4fc9-9ef7-aa946ea46ee5",
     "showTitle": true,
     "tableResultSettingsMap": {},
     "title": "CARE UNIT TRANSFER PATTERN"
    }
   },
   "outputs": [
    {
     "output_type": "display_data",
     "data": {
      "text/html": [
       "<style scoped>\n",
       "  .table-result-container {\n",
       "    max-height: 300px;\n",
       "    overflow: auto;\n",
       "  }\n",
       "  table, th, td {\n",
       "    border: 1px solid black;\n",
       "    border-collapse: collapse;\n",
       "  }\n",
       "  th, td {\n",
       "    padding: 5px;\n",
       "  }\n",
       "  th {\n",
       "    text-align: left;\n",
       "  }\n",
       "</style><div class='table-result-container'><table class='table-result'><thead style='background-color: white'><tr><th>first_careunit</th><th>last_careunit</th><th>transfer_count</th><th>avg_icu_los</th><th>mortality_rate</th><th>avg_age</th><th>percentage_of_transfers</th></tr></thead><tbody><tr><td>MICU</td><td>SICU</td><td>3</td><td>6.58</td><td>66.67</td><td>52.7</td><td>100.00</td></tr></tbody></table></div>"
      ]
     },
     "metadata": {
      "application/vnd.databricks.v1+output": {
       "addedWidgets": {},
       "aggData": [],
       "aggError": "",
       "aggOverflow": false,
       "aggSchema": [],
       "aggSeriesLimitReached": false,
       "aggType": "",
       "arguments": {},
       "columnCustomDisplayInfos": {},
       "data": [
        [
         "MICU",
         "SICU",
         3,
         6.58,
         "66.67",
         52.7,
         "100.00"
        ]
       ],
       "datasetInfos": [],
       "dbfsResultPath": null,
       "isJsonSchema": true,
       "metadata": {
        "dataframeName": "_sqldf",
        "executionCount": 12
       },
       "overflow": false,
       "plotOptions": {
        "customPlotOptions": {},
        "displayType": "table",
        "pivotAggregation": null,
        "pivotColumns": null,
        "xColumns": null,
        "yColumns": null
       },
       "removedWidgets": [],
       "schema": [
        {
         "metadata": "{}",
         "name": "first_careunit",
         "type": "\"string\""
        },
        {
         "metadata": "{}",
         "name": "last_careunit",
         "type": "\"string\""
        },
        {
         "metadata": "{}",
         "name": "transfer_count",
         "type": "\"long\""
        },
        {
         "metadata": "{}",
         "name": "avg_icu_los",
         "type": "\"double\""
        },
        {
         "metadata": "{}",
         "name": "mortality_rate",
         "type": "\"decimal(27,2)\""
        },
        {
         "metadata": "{}",
         "name": "avg_age",
         "type": "\"double\""
        },
        {
         "metadata": "{}",
         "name": "percentage_of_transfers",
         "type": "\"decimal(27,2)\""
        }
       ],
       "type": "table"
      }
     },
     "output_type": "display_data"
    },
    {
     "output_type": "display_data",
     "data": {
      "text/plain": [
       "Databricks visualization. Run in Databricks to view."
      ]
     },
     "metadata": {
      "application/vnd.databricks.v1.subcommand+json": {
       "baseErrorDetails": null,
       "bindings": {},
       "collapsed": false,
       "command": "%sql WITH q AS (WITH unit_transfers AS (\n    SELECT \n        i.icustay_id,\n        i.first_careunit,\n        i.last_careunit,\n        CASE WHEN i.first_careunit != i.last_careunit THEN 1 ELSE 0 END as transferred,\n        i.los,\n        a.hospital_expire_flag,\n        EXTRACT(YEAR FROM a.admittime) - EXTRACT(YEAR FROM p.dob) as age\n    FROM mimicdata_2567611159492892.mimic.icustays i\n    JOIN mimicdata_2567611159492892.mimic.admissions a ON i.hadm_id = a.hadm_id\n    JOIN mimicdata_2567611159492892.mimic.patients p ON a.subject_id = p.subject_id\n)\nSELECT \n    first_careunit,\n    last_careunit,\n    COUNT(*) as transfer_count,\n    ROUND(AVG(los), 2) as avg_icu_los,\n    ROUND(100.0 * SUM(hospital_expire_flag) / COUNT(*), 2) as mortality_rate,\n    ROUND(AVG(age), 1) as avg_age,\n    ROUND(100.0 * COUNT(*) / SUM(COUNT(*)) OVER(), 2) as percentage_of_transfers\nFROM unit_transfers\nWHERE transferred = 1\nGROUP BY first_careunit, last_careunit\nHAVING COUNT(*) >= 3\nORDER BY transfer_count DESC) SELECT `first_careunit`,SUM(`transfer_count`) `column_fbd94115247`,SUM(`avg_icu_los`) `column_fbd94115250`,SUM(`mortality_rate`) `column_fbd94115253`,SUM(`percentage_of_transfers`) `column_fbd94115256` FROM q GROUP BY `first_careunit`",
       "commandTitle": "Visualization 1",
       "commandType": "auto",
       "commandVersion": 0,
       "commentThread": [],
       "commentsVisible": false,
       "contentSha256Hex": null,
       "customPlotOptions": {
        "redashChart": [
         {
          "key": "type",
          "value": "CHART"
         },
         {
          "key": "options",
          "value": {
           "alignYAxesAtZero": true,
           "coefficient": 1,
           "columnConfigurationMap": {
            "x": {
             "column": "first_careunit",
             "id": "column_fbd94115245"
            },
            "y": [
             {
              "column": "transfer_count",
              "id": "column_fbd94115247",
              "transform": "SUM"
             },
             {
              "column": "avg_icu_los",
              "id": "column_fbd94115250",
              "transform": "SUM"
             },
             {
              "column": "mortality_rate",
              "id": "column_fbd94115253",
              "transform": "SUM"
             },
             {
              "column": "percentage_of_transfers",
              "id": "column_fbd94115256",
              "transform": "SUM"
             }
            ]
           },
           "dateTimeFormat": "DD/MM/YYYY HH:mm",
           "direction": {
            "type": "counterclockwise"
           },
           "error_y": {
            "type": "data",
            "visible": true
           },
           "globalSeriesType": "column",
           "isAggregationOn": true,
           "legend": {
            "traceorder": "normal"
           },
           "missingValuesAsZero": true,
           "numberFormat": "0,0.[00000]",
           "percentFormat": "0[.]00%",
           "series": {
            "error_y": {
             "type": "data",
             "visible": true
            },
            "stacking": null
           },
           "seriesOptions": {
            "column_fbd94115247": {
             "type": "column",
             "yAxis": 0
            },
            "column_fbd94115250": {
             "type": "column",
             "yAxis": 0
            },
            "column_fbd94115253": {
             "type": "column",
             "yAxis": 0
            },
            "column_fbd94115256": {
             "type": "column",
             "yAxis": 0
            }
           },
           "showDataLabels": false,
           "sizemode": "diameter",
           "sortX": true,
           "sortY": true,
           "swappedAxes": false,
           "textFormat": "",
           "useAggregationsUi": true,
           "valuesOptions": {},
           "version": 2,
           "xAxis": {
            "labels": {
             "enabled": true
            },
            "type": "-"
           },
           "yAxis": [
            {
             "type": "-"
            },
            {
             "opposite": true,
             "type": "-"
            }
           ]
          }
         }
        ]
       },
       "datasetPreviewNameToCmdIdMap": {},
       "diffDeletes": [],
       "diffInserts": [],
       "displayType": "redashChart",
       "error": null,
       "errorDetails": null,
       "errorSummary": null,
       "errorTraceType": null,
       "finishTime": 0,
       "globalVars": {},
       "guid": "",
       "height": "auto",
       "hideCommandCode": false,
       "hideCommandResult": false,
       "iPythonMetadata": null,
       "inputWidgets": {},
       "isLockedInExamMode": false,
       "latestUser": "a user",
       "latestUserId": null,
       "listResultMetadata": null,
       "metadata": {},
       "nuid": "d5185e5f-2d8f-47d5-b67d-37bf19eddf8a",
       "origId": 0,
       "parentHierarchy": [],
       "pivotAggregation": null,
       "pivotColumns": null,
       "position": 11.0,
       "resultDbfsErrorMessage": null,
       "resultDbfsStatus": "INLINED_IN_TREE",
       "results": null,
       "showCommandTitle": false,
       "startTime": 0,
       "state": "input",
       "streamStates": {},
       "subcommandOptions": {
        "queryPlan": {
         "groups": [
          {
           "column": "first_careunit",
           "type": "column"
          }
         ],
         "selects": [
          {
           "column": "first_careunit",
           "type": "column"
          },
          {
           "alias": "column_fbd94115247",
           "args": [
            {
             "column": "transfer_count",
             "type": "column"
            }
           ],
           "function": "SUM",
           "type": "function"
          },
          {
           "alias": "column_fbd94115250",
           "args": [
            {
             "column": "avg_icu_los",
             "type": "column"
            }
           ],
           "function": "SUM",
           "type": "function"
          },
          {
           "alias": "column_fbd94115253",
           "args": [
            {
             "column": "mortality_rate",
             "type": "column"
            }
           ],
           "function": "SUM",
           "type": "function"
          },
          {
           "alias": "column_fbd94115256",
           "args": [
            {
             "column": "percentage_of_transfers",
             "type": "column"
            }
           ],
           "function": "SUM",
           "type": "function"
          }
         ]
        }
       },
       "submitTime": 0,
       "subtype": "tableResultSubCmd.visualization",
       "tableResultIndex": 0,
       "tableResultSettingsMap": {},
       "useConsistentColors": false,
       "version": "CommandV1",
       "width": "auto",
       "workflows": [],
       "xColumns": null,
       "yColumns": null
      }
     },
     "output_type": "display_data"
    }
   ],
   "source": [
    "%sql\n",
    "WITH unit_transfers AS (\n",
    "    SELECT \n",
    "        i.icustay_id,\n",
    "        i.first_careunit,\n",
    "        i.last_careunit,\n",
    "        CASE WHEN i.first_careunit != i.last_careunit THEN 1 ELSE 0 END as transferred,\n",
    "        i.los,\n",
    "        a.hospital_expire_flag,\n",
    "        EXTRACT(YEAR FROM a.admittime) - EXTRACT(YEAR FROM p.dob) as age\n",
    "    FROM mimicdata_2567611159492892.mimic.icustays i\n",
    "    JOIN mimicdata_2567611159492892.mimic.admissions a ON i.hadm_id = a.hadm_id\n",
    "    JOIN mimicdata_2567611159492892.mimic.patients p ON a.subject_id = p.subject_id\n",
    ")\n",
    "SELECT \n",
    "    first_careunit,\n",
    "    last_careunit,\n",
    "    COUNT(*) as transfer_count,\n",
    "    ROUND(AVG(los), 2) as avg_icu_los,\n",
    "    ROUND(100.0 * SUM(hospital_expire_flag) / COUNT(*), 2) as mortality_rate,\n",
    "    ROUND(AVG(age), 1) as avg_age,\n",
    "    ROUND(100.0 * COUNT(*) / SUM(COUNT(*)) OVER(), 2) as percentage_of_transfers\n",
    "FROM unit_transfers\n",
    "WHERE transferred = 1\n",
    "GROUP BY first_careunit, last_careunit\n",
    "HAVING COUNT(*) >= 3\n",
    "ORDER BY transfer_count DESC;"
   ]
  },
  {
   "cell_type": "code",
   "execution_count": 0,
   "metadata": {
    "application/vnd.databricks.v1+cell": {
     "cellMetadata": {
      "byteLimit": 2048000,
      "implicitDf": true,
      "rowLimit": 10000
     },
     "inputWidgets": {},
     "nuid": "32d27a2a-72f6-4bb7-af33-5317516008a1",
     "showTitle": true,
     "tableResultSettingsMap": {},
     "title": "TIME-TO-ICU TRANSFER"
    }
   },
   "outputs": [
    {
     "output_type": "display_data",
     "data": {
      "text/html": [
       "<style scoped>\n",
       "  .table-result-container {\n",
       "    max-height: 300px;\n",
       "    overflow: auto;\n",
       "  }\n",
       "  table, th, td {\n",
       "    border: 1px solid black;\n",
       "    border-collapse: collapse;\n",
       "  }\n",
       "  th, td {\n",
       "    padding: 5px;\n",
       "  }\n",
       "  th {\n",
       "    text-align: left;\n",
       "  }\n",
       "</style><div class='table-result-container'><table class='table-result'><thead style='background-color: white'><tr><th>admission_type</th><th>age_group</th><th>icu_transfers</th><th>avg_hours_to_icu</th><th>median_hours_to_icu</th><th>avg_icu_los</th><th>mortality_rate</th><th>transfers_within_6h</th><th>pct_within_6h</th></tr></thead><tbody><tr><td>EMERGENCY</td><td>18-29</td><td>5</td><td>0.02</td><td>0.02</td><td>5.41</td><td>60.00</td><td>5</td><td>100.00</td></tr><tr><td>EMERGENCY</td><td>50-69</td><td>39</td><td>16.02</td><td>0.03</td><td>3.63</td><td>20.51</td><td>32</td><td>82.05</td></tr><tr><td>ELECTIVE</td><td>70+</td><td>5</td><td>20.02</td><td>14.56</td><td>2.75</td><td>0.00</td><td>2</td><td>40.00</td></tr><tr><td>EMERGENCY</td><td>30-49</td><td>11</td><td>26.03</td><td>0.03</td><td>14.39</td><td>54.55</td><td>7</td><td>63.64</td></tr><tr><td>EMERGENCY</td><td>70+</td><td>71</td><td>31.72</td><td>0.03</td><td>3.44</td><td>39.44</td><td>49</td><td>69.01</td></tr></tbody></table></div>"
      ]
     },
     "metadata": {
      "application/vnd.databricks.v1+output": {
       "addedWidgets": {},
       "aggData": [],
       "aggError": "",
       "aggOverflow": false,
       "aggSchema": [],
       "aggSeriesLimitReached": false,
       "aggType": "",
       "arguments": {},
       "columnCustomDisplayInfos": {},
       "data": [
        [
         "EMERGENCY",
         "18-29",
         5,
         0.02,
         0.02,
         5.41,
         "60.00",
         5,
         "100.00"
        ],
        [
         "EMERGENCY",
         "50-69",
         39,
         16.02,
         0.03,
         3.63,
         "20.51",
         32,
         "82.05"
        ],
        [
         "ELECTIVE",
         "70+",
         5,
         20.02,
         14.56,
         2.75,
         "0.00",
         2,
         "40.00"
        ],
        [
         "EMERGENCY",
         "30-49",
         11,
         26.03,
         0.03,
         14.39,
         "54.55",
         7,
         "63.64"
        ],
        [
         "EMERGENCY",
         "70+",
         71,
         31.72,
         0.03,
         3.44,
         "39.44",
         49,
         "69.01"
        ]
       ],
       "datasetInfos": [],
       "dbfsResultPath": null,
       "isJsonSchema": true,
       "metadata": {
        "dataframeName": "_sqldf",
        "executionCount": 13
       },
       "overflow": false,
       "plotOptions": {
        "customPlotOptions": {},
        "displayType": "table",
        "pivotAggregation": null,
        "pivotColumns": null,
        "xColumns": null,
        "yColumns": null
       },
       "removedWidgets": [],
       "schema": [
        {
         "metadata": "{}",
         "name": "admission_type",
         "type": "\"string\""
        },
        {
         "metadata": "{}",
         "name": "age_group",
         "type": "\"string\""
        },
        {
         "metadata": "{}",
         "name": "icu_transfers",
         "type": "\"long\""
        },
        {
         "metadata": "{}",
         "name": "avg_hours_to_icu",
         "type": "\"double\""
        },
        {
         "metadata": "{}",
         "name": "median_hours_to_icu",
         "type": "\"double\""
        },
        {
         "metadata": "{}",
         "name": "avg_icu_los",
         "type": "\"double\""
        },
        {
         "metadata": "{}",
         "name": "mortality_rate",
         "type": "\"decimal(27,2)\""
        },
        {
         "metadata": "{}",
         "name": "transfers_within_6h",
         "type": "\"long\""
        },
        {
         "metadata": "{}",
         "name": "pct_within_6h",
         "type": "\"decimal(27,2)\""
        }
       ],
       "type": "table"
      }
     },
     "output_type": "display_data"
    },
    {
     "output_type": "display_data",
     "data": {
      "text/plain": [
       "Databricks visualization. Run in Databricks to view."
      ]
     },
     "metadata": {
      "application/vnd.databricks.v1.subcommand+json": {
       "baseErrorDetails": null,
       "bindings": {},
       "collapsed": false,
       "command": "%sql WITH q AS (WITH icu_timing AS (\n    SELECT \n        a.admission_type,\n        EXTRACT(YEAR FROM a.admittime) - EXTRACT(YEAR FROM p.dob) as age,\n        p.gender,\n        (unix_timestamp(i.intime) - unix_timestamp(a.admittime)) / 3600 as hours_to_icu,\n        i.los as icu_los,\n        a.hospital_expire_flag\n    FROM mimicdata_2567611159492892.mimic.patients p\n    JOIN mimicdata_2567611159492892.mimic.admissions a ON p.subject_id = a.subject_id\n    JOIN mimicdata_2567611159492892.mimic.icustays i ON a.hadm_id = i.hadm_id\n    WHERE i.intime >= a.admittime  \n)\nSELECT \n    admission_type,\n    CASE \n        WHEN age < 30 THEN '18-29'\n        WHEN age < 50 THEN '30-49'\n        WHEN age < 70 THEN '50-69'\n        ELSE '70+'\n    END as age_group,\n    COUNT(*) as icu_transfers,\n    ROUND(AVG(hours_to_icu), 2) as avg_hours_to_icu,\n    ROUND(PERCENTILE_CONT(0.5) WITHIN GROUP (ORDER BY hours_to_icu), 2) as median_hours_to_icu,\n    ROUND(AVG(icu_los), 2) as avg_icu_los,\n    ROUND(100.0 * SUM(hospital_expire_flag) / COUNT(*), 2) as mortality_rate,\n    COUNT(CASE WHEN hours_to_icu <= 6 THEN 1 END) as transfers_within_6h,\n    ROUND(100.0 * COUNT(CASE WHEN hours_to_icu <= 6 THEN 1 END) / COUNT(*), 2) as pct_within_6h\nFROM icu_timing\nGROUP BY admission_type, age_group\nHAVING COUNT(*) >= 5\nORDER BY avg_hours_to_icu) SELECT `age_group`,SUM(`avg_hours_to_icu`) `column_fbd94115260`,SUM(`mortality_rate`) `column_fbd94115263`,SUM(`transfers_within_6h`) `column_fbd94115266`,SUM(`pct_within_6h`) `column_fbd94115269` FROM q GROUP BY `age_group`",
       "commandTitle": "Visualization 1",
       "commandType": "auto",
       "commandVersion": 0,
       "commentThread": [],
       "commentsVisible": false,
       "contentSha256Hex": null,
       "customPlotOptions": {
        "redashChart": [
         {
          "key": "type",
          "value": "CHART"
         },
         {
          "key": "options",
          "value": {
           "alignYAxesAtZero": true,
           "coefficient": 1,
           "columnConfigurationMap": {
            "x": {
             "column": "age_group",
             "id": "column_fbd94115258"
            },
            "y": [
             {
              "column": "avg_hours_to_icu",
              "id": "column_fbd94115260",
              "transform": "SUM"
             },
             {
              "column": "mortality_rate",
              "id": "column_fbd94115263",
              "transform": "SUM"
             },
             {
              "column": "transfers_within_6h",
              "id": "column_fbd94115266",
              "transform": "SUM"
             },
             {
              "column": "pct_within_6h",
              "id": "column_fbd94115269",
              "transform": "SUM"
             }
            ]
           },
           "dateTimeFormat": "DD/MM/YYYY HH:mm",
           "direction": {
            "type": "counterclockwise"
           },
           "error_y": {
            "type": "data",
            "visible": true
           },
           "globalSeriesType": "column",
           "isAggregationOn": true,
           "legend": {
            "traceorder": "normal"
           },
           "missingValuesAsZero": true,
           "numberFormat": "0,0.[00000]",
           "percentFormat": "0[.]00%",
           "series": {
            "error_y": {
             "type": "data",
             "visible": true
            },
            "stacking": null
           },
           "seriesOptions": {
            "column_fbd94115260": {
             "type": "column",
             "yAxis": 0
            },
            "column_fbd94115263": {
             "type": "column",
             "yAxis": 0
            },
            "column_fbd94115266": {
             "type": "column",
             "yAxis": 0
            },
            "column_fbd94115269": {
             "type": "column",
             "yAxis": 0
            }
           },
           "showDataLabels": false,
           "sizemode": "diameter",
           "sortX": true,
           "sortY": true,
           "swappedAxes": false,
           "textFormat": "",
           "useAggregationsUi": true,
           "valuesOptions": {},
           "version": 2,
           "xAxis": {
            "labels": {
             "enabled": true
            },
            "type": "-"
           },
           "yAxis": [
            {
             "type": "-"
            },
            {
             "opposite": true,
             "type": "-"
            }
           ]
          }
         }
        ]
       },
       "datasetPreviewNameToCmdIdMap": {},
       "diffDeletes": [],
       "diffInserts": [],
       "displayType": "redashChart",
       "error": null,
       "errorDetails": null,
       "errorSummary": null,
       "errorTraceType": null,
       "finishTime": 0,
       "globalVars": {},
       "guid": "",
       "height": "auto",
       "hideCommandCode": false,
       "hideCommandResult": false,
       "iPythonMetadata": null,
       "inputWidgets": {},
       "isLockedInExamMode": false,
       "latestUser": "a user",
       "latestUserId": null,
       "listResultMetadata": null,
       "metadata": {},
       "nuid": "c684644a-4a5b-4a88-955e-ac4b3f005feb",
       "origId": 0,
       "parentHierarchy": [],
       "pivotAggregation": null,
       "pivotColumns": null,
       "position": 12.0,
       "resultDbfsErrorMessage": null,
       "resultDbfsStatus": "INLINED_IN_TREE",
       "results": null,
       "showCommandTitle": false,
       "startTime": 0,
       "state": "input",
       "streamStates": {},
       "subcommandOptions": {
        "queryPlan": {
         "groups": [
          {
           "column": "age_group",
           "type": "column"
          }
         ],
         "selects": [
          {
           "column": "age_group",
           "type": "column"
          },
          {
           "alias": "column_fbd94115260",
           "args": [
            {
             "column": "avg_hours_to_icu",
             "type": "column"
            }
           ],
           "function": "SUM",
           "type": "function"
          },
          {
           "alias": "column_fbd94115263",
           "args": [
            {
             "column": "mortality_rate",
             "type": "column"
            }
           ],
           "function": "SUM",
           "type": "function"
          },
          {
           "alias": "column_fbd94115266",
           "args": [
            {
             "column": "transfers_within_6h",
             "type": "column"
            }
           ],
           "function": "SUM",
           "type": "function"
          },
          {
           "alias": "column_fbd94115269",
           "args": [
            {
             "column": "pct_within_6h",
             "type": "column"
            }
           ],
           "function": "SUM",
           "type": "function"
          }
         ]
        }
       },
       "submitTime": 0,
       "subtype": "tableResultSubCmd.visualization",
       "tableResultIndex": 0,
       "tableResultSettingsMap": {},
       "useConsistentColors": false,
       "version": "CommandV1",
       "width": "auto",
       "workflows": [],
       "xColumns": null,
       "yColumns": null
      }
     },
     "output_type": "display_data"
    }
   ],
   "source": [
    "%sql\n",
    "WITH icu_timing AS (\n",
    "    SELECT \n",
    "        a.admission_type,\n",
    "        EXTRACT(YEAR FROM a.admittime) - EXTRACT(YEAR FROM p.dob) as age,\n",
    "        p.gender,\n",
    "        (unix_timestamp(i.intime) - unix_timestamp(a.admittime)) / 3600 as hours_to_icu,\n",
    "        i.los as icu_los,\n",
    "        a.hospital_expire_flag\n",
    "    FROM mimicdata_2567611159492892.mimic.patients p\n",
    "    JOIN mimicdata_2567611159492892.mimic.admissions a ON p.subject_id = a.subject_id\n",
    "    JOIN mimicdata_2567611159492892.mimic.icustays i ON a.hadm_id = i.hadm_id\n",
    "    WHERE i.intime >= a.admittime  -- Valid transfer times only\n",
    ")\n",
    "SELECT \n",
    "    admission_type,\n",
    "    CASE \n",
    "        WHEN age < 30 THEN '18-29'\n",
    "        WHEN age < 50 THEN '30-49'\n",
    "        WHEN age < 70 THEN '50-69'\n",
    "        ELSE '70+'\n",
    "    END as age_group,\n",
    "    COUNT(*) as icu_transfers,\n",
    "    ROUND(AVG(hours_to_icu), 2) as avg_hours_to_icu,\n",
    "    ROUND(PERCENTILE_CONT(0.5) WITHIN GROUP (ORDER BY hours_to_icu), 2) as median_hours_to_icu,\n",
    "    ROUND(AVG(icu_los), 2) as avg_icu_los,\n",
    "    ROUND(100.0 * SUM(hospital_expire_flag) / COUNT(*), 2) as mortality_rate,\n",
    "    COUNT(CASE WHEN hours_to_icu <= 6 THEN 1 END) as transfers_within_6h,\n",
    "    ROUND(100.0 * COUNT(CASE WHEN hours_to_icu <= 6 THEN 1 END) / COUNT(*), 2) as pct_within_6h\n",
    "FROM icu_timing\n",
    "GROUP BY admission_type, age_group\n",
    "HAVING COUNT(*) >= 5\n",
    "ORDER BY avg_hours_to_icu;"
   ]
  },
  {
   "cell_type": "code",
   "execution_count": 0,
   "metadata": {
    "application/vnd.databricks.v1+cell": {
     "cellMetadata": {
      "byteLimit": 2048000,
      "implicitDf": true,
      "rowLimit": 10000
     },
     "inputWidgets": {},
     "nuid": "8e6d5cd6-bac6-4e56-a9c7-975c69e5a1fd",
     "showTitle": true,
     "tableResultSettingsMap": {},
     "title": "ICU OCCUPANCY VS HOSPITAL"
    }
   },
   "outputs": [
    {
     "output_type": "display_data",
     "data": {
      "text/html": [
       "<style scoped>\n",
       "  .table-result-container {\n",
       "    max-height: 300px;\n",
       "    overflow: auto;\n",
       "  }\n",
       "  table, th, td {\n",
       "    border: 1px solid black;\n",
       "    border-collapse: collapse;\n",
       "  }\n",
       "  th, td {\n",
       "    padding: 5px;\n",
       "  }\n",
       "  th {\n",
       "    text-align: left;\n",
       "  }\n",
       "</style><div class='table-result-container'><table class='table-result'><thead style='background-color: white'><tr><th>calendar_date</th><th>hospital_census</th><th>icu_census</th><th>icu_occupancy_rate</th><th>general_ward_census</th></tr></thead><tbody><tr><td>2102-08-29</td><td>1</td><td>0</td><td>0.00</td><td>1</td></tr><tr><td>2102-08-31</td><td>1</td><td>1</td><td>100.00</td><td>0</td></tr><tr><td>2102-09-01</td><td>1</td><td>1</td><td>100.00</td><td>0</td></tr><tr><td>2102-09-06</td><td>1</td><td>0</td><td>0.00</td><td>1</td></tr><tr><td>2104-09-24</td><td>1</td><td>1</td><td>100.00</td><td>0</td></tr><tr><td>2104-09-26</td><td>1</td><td>1</td><td>100.00</td><td>0</td></tr><tr><td>2104-09-30</td><td>1</td><td>0</td><td>0.00</td><td>1</td></tr><tr><td>2104-10-24</td><td>1</td><td>1</td><td>100.00</td><td>0</td></tr><tr><td>2104-10-25</td><td>1</td><td>1</td><td>100.00</td><td>0</td></tr><tr><td>2104-11-01</td><td>1</td><td>0</td><td>0.00</td><td>1</td></tr><tr><td>2105-05-29</td><td>1</td><td>0</td><td>0.00</td><td>1</td></tr><tr><td>2105-06-08</td><td>1</td><td>1</td><td>100.00</td><td>0</td></tr><tr><td>2105-06-11</td><td>1</td><td>1</td><td>100.00</td><td>0</td></tr><tr><td>2106-08-30</td><td>1</td><td>1</td><td>100.00</td><td>0</td></tr><tr><td>2106-08-31</td><td>1</td><td>1</td><td>100.00</td><td>0</td></tr><tr><td>2107-01-04</td><td>1</td><td>0</td><td>0.00</td><td>1</td></tr><tr><td>2107-01-05</td><td>1</td><td>1</td><td>100.00</td><td>0</td></tr><tr><td>2107-01-08</td><td>1</td><td>1</td><td>100.00</td><td>0</td></tr><tr><td>2107-01-11</td><td>1</td><td>0</td><td>0.00</td><td>1</td></tr><tr><td>2107-01-16</td><td>1</td><td>1</td><td>100.00</td><td>0</td></tr><tr><td>2107-01-29</td><td>2</td><td>2</td><td>100.00</td><td>0</td></tr><tr><td>2107-01-30</td><td>2</td><td>2</td><td>100.00</td><td>0</td></tr><tr><td>2107-02-10</td><td>2</td><td>1</td><td>50.00</td><td>1</td></tr><tr><td>2107-03-21</td><td>1</td><td>0</td><td>0.00</td><td>1</td></tr><tr><td>2107-03-24</td><td>1</td><td>1</td><td>100.00</td><td>0</td></tr><tr><td>2107-03-30</td><td>1</td><td>1</td><td>100.00</td><td>0</td></tr><tr><td>2107-03-31</td><td>0</td><td>1</td><td>null</td><td>-1</td></tr><tr><td>2107-05-12</td><td>1</td><td>1</td><td>100.00</td><td>0</td></tr><tr><td>2107-05-14</td><td>1</td><td>1</td><td>100.00</td><td>0</td></tr><tr><td>2107-05-18</td><td>1</td><td>0</td><td>0.00</td><td>1</td></tr><tr><td>2110-12-29</td><td>2</td><td>0</td><td>0.00</td><td>2</td></tr><tr><td>2111-01-07</td><td>2</td><td>1</td><td>50.00</td><td>1</td></tr><tr><td>2111-01-09</td><td>2</td><td>1</td><td>50.00</td><td>1</td></tr><tr><td>2111-01-12</td><td>2</td><td>1</td><td>50.00</td><td>1</td></tr><tr><td>2111-01-14</td><td>2</td><td>1</td><td>50.00</td><td>1</td></tr><tr><td>2112-02-04</td><td>1</td><td>1</td><td>100.00</td><td>0</td></tr><tr><td>2112-02-09</td><td>1</td><td>1</td><td>100.00</td><td>0</td></tr><tr><td>2112-02-11</td><td>1</td><td>0</td><td>0.00</td><td>1</td></tr><tr><td>2112-05-04</td><td>1</td><td>1</td><td>100.00</td><td>0</td></tr><tr><td>2112-05-06</td><td>1</td><td>1</td><td>100.00</td><td>0</td></tr><tr><td>2112-05-11</td><td>1</td><td>0</td><td>0.00</td><td>1</td></tr><tr><td>2112-05-22</td><td>1</td><td>0</td><td>0.00</td><td>1</td></tr><tr><td>2112-05-23</td><td>1</td><td>1</td><td>100.00</td><td>0</td></tr><tr><td>2112-05-25</td><td>1</td><td>1</td><td>100.00</td><td>0</td></tr><tr><td>2112-05-28</td><td>1</td><td>0</td><td>0.00</td><td>1</td></tr><tr><td>2112-05-29</td><td>1</td><td>1</td><td>100.00</td><td>0</td></tr><tr><td>2112-06-01</td><td>1</td><td>1</td><td>100.00</td><td>0</td></tr><tr><td>2112-06-07</td><td>1</td><td>0</td><td>0.00</td><td>1</td></tr><tr><td>2115-05-12</td><td>1</td><td>1</td><td>100.00</td><td>0</td></tr><tr><td>2115-05-15</td><td>1</td><td>1</td><td>100.00</td><td>0</td></tr><tr><td>2117-03-21</td><td>1</td><td>0</td><td>0.00</td><td>1</td></tr><tr><td>2117-03-23</td><td>1</td><td>1</td><td>100.00</td><td>0</td></tr><tr><td>2117-03-28</td><td>1</td><td>1</td><td>100.00</td><td>0</td></tr><tr><td>2117-03-31</td><td>1</td><td>0</td><td>0.00</td><td>1</td></tr><tr><td>2117-08-05</td><td>1</td><td>1</td><td>100.00</td><td>0</td></tr><tr><td>2117-08-13</td><td>1</td><td>1</td><td>100.00</td><td>0</td></tr><tr><td>2117-08-19</td><td>1</td><td>0</td><td>0.00</td><td>1</td></tr><tr><td>2117-08-21</td><td>1</td><td>1</td><td>100.00</td><td>0</td></tr><tr><td>2117-08-23</td><td>1</td><td>1</td><td>100.00</td><td>0</td></tr><tr><td>2117-08-26</td><td>1</td><td>0</td><td>0.00</td><td>1</td></tr><tr><td>2118-10-06</td><td>1</td><td>1</td><td>100.00</td><td>0</td></tr><tr><td>2118-10-08</td><td>1</td><td>1</td><td>100.00</td><td>0</td></tr><tr><td>2118-10-09</td><td>1</td><td>0</td><td>0.00</td><td>1</td></tr><tr><td>2119-10-17</td><td>2</td><td>1</td><td>50.00</td><td>1</td></tr><tr><td>2119-10-21</td><td>2</td><td>1</td><td>50.00</td><td>1</td></tr><tr><td>2119-10-30</td><td>2</td><td>1</td><td>50.00</td><td>1</td></tr><tr><td>2119-11-14</td><td>2</td><td>1</td><td>50.00</td><td>1</td></tr><tr><td>2120-08-24</td><td>1</td><td>1</td><td>100.00</td><td>0</td></tr><tr><td>2120-08-25</td><td>1</td><td>1</td><td>100.00</td><td>0</td></tr><tr><td>2120-08-31</td><td>1</td><td>0</td><td>0.00</td><td>1</td></tr><tr><td>2121-12-07</td><td>1</td><td>1</td><td>100.00</td><td>0</td></tr><tr><td>2121-12-09</td><td>1</td><td>1</td><td>100.00</td><td>0</td></tr><tr><td>2121-12-12</td><td>1</td><td>0</td><td>0.00</td><td>1</td></tr><tr><td>2123-08-23</td><td>1</td><td>1</td><td>100.00</td><td>0</td></tr><tr><td>2123-08-24</td><td>1</td><td>1</td><td>100.00</td><td>0</td></tr><tr><td>2123-09-17</td><td>1</td><td>0</td><td>0.00</td><td>1</td></tr><tr><td>2123-11-24</td><td>1</td><td>1</td><td>100.00</td><td>0</td></tr><tr><td>2123-12-25</td><td>1</td><td>1</td><td>100.00</td><td>0</td></tr><tr><td>2123-12-30</td><td>1</td><td>0</td><td>0.00</td><td>1</td></tr><tr><td>2124-01-12</td><td>1</td><td>1</td><td>100.00</td><td>0</td></tr><tr><td>2124-01-13</td><td>1</td><td>1</td><td>100.00</td><td>0</td></tr><tr><td>2124-01-14</td><td>1</td><td>0</td><td>0.00</td><td>1</td></tr><tr><td>2125-10-04</td><td>1</td><td>1</td><td>100.00</td><td>0</td></tr><tr><td>2125-10-07</td><td>1</td><td>1</td><td>100.00</td><td>0</td></tr><tr><td>2126-08-14</td><td>1</td><td>1</td><td>100.00</td><td>0</td></tr><tr><td>2126-08-28</td><td>1</td><td>1</td><td>100.00</td><td>0</td></tr><tr><td>2127-03-19</td><td>1</td><td>1</td><td>100.00</td><td>0</td></tr><tr><td>2127-07-23</td><td>1</td><td>0</td><td>0.00</td><td>1</td></tr><tr><td>2127-07-29</td><td>1</td><td>1</td><td>100.00</td><td>0</td></tr><tr><td>2127-07-30</td><td>1</td><td>1</td><td>100.00</td><td>0</td></tr><tr><td>2127-08-04</td><td>1</td><td>0</td><td>0.00</td><td>1</td></tr><tr><td>2127-10-06</td><td>1</td><td>1</td><td>100.00</td><td>0</td></tr><tr><td>2127-10-28</td><td>1</td><td>1</td><td>100.00</td><td>0</td></tr><tr><td>2128-03-22</td><td>1</td><td>1</td><td>100.00</td><td>0</td></tr><tr><td>2128-03-23</td><td>1</td><td>1</td><td>100.00</td><td>0</td></tr><tr><td>2128-03-24</td><td>1</td><td>0</td><td>0.00</td><td>1</td></tr><tr><td>2128-11-04</td><td>2</td><td>1</td><td>50.00</td><td>1</td></tr><tr><td>2128-11-05</td><td>2</td><td>1</td><td>50.00</td><td>1</td></tr><tr><td>2128-11-08</td><td>2</td><td>1</td><td>50.00</td><td>1</td></tr><tr><td>2128-11-09</td><td>2</td><td>1</td><td>50.00</td><td>1</td></tr><tr><td>2128-11-10</td><td>0</td><td>1</td><td>null</td><td>-1</td></tr><tr><td>2129-03-03</td><td>1</td><td>0</td><td>0.00</td><td>1</td></tr><tr><td>2129-03-04</td><td>1</td><td>1</td><td>100.00</td><td>0</td></tr><tr><td>2129-03-05</td><td>1</td><td>1</td><td>100.00</td><td>0</td></tr><tr><td>2129-03-07</td><td>1</td><td>0</td><td>0.00</td><td>1</td></tr><tr><td>2129-05-02</td><td>1</td><td>1</td><td>100.00</td><td>0</td></tr><tr><td>2129-05-03</td><td>1</td><td>1</td><td>100.00</td><td>0</td></tr><tr><td>2129-05-06</td><td>1</td><td>0</td><td>0.00</td><td>1</td></tr><tr><td>2129-11-24</td><td>1</td><td>1</td><td>100.00</td><td>0</td></tr><tr><td>2129-12-01</td><td>1</td><td>1</td><td>100.00</td><td>0</td></tr><tr><td>2130-02-04</td><td>1</td><td>1</td><td>100.00</td><td>0</td></tr><tr><td>2130-02-06</td><td>1</td><td>1</td><td>100.00</td><td>0</td></tr><tr><td>2130-02-10</td><td>1</td><td>0</td><td>0.00</td><td>1</td></tr><tr><td>2130-08-12</td><td>1</td><td>1</td><td>100.00</td><td>0</td></tr><tr><td>2130-08-15</td><td>1</td><td>1</td><td>100.00</td><td>0</td></tr><tr><td>2130-08-18</td><td>1</td><td>0</td><td>0.00</td><td>1</td></tr><tr><td>2130-10-06</td><td>1</td><td>1</td><td>100.00</td><td>0</td></tr><tr><td>2131-07-26</td><td>1</td><td>0</td><td>0.00</td><td>1</td></tr><tr><td>2131-07-27</td><td>1</td><td>1</td><td>100.00</td><td>0</td></tr><tr><td>2131-07-28</td><td>1</td><td>1</td><td>100.00</td><td>0</td></tr><tr><td>2132-08-05</td><td>1</td><td>1</td><td>100.00</td><td>0</td></tr><tr><td>2132-08-08</td><td>1</td><td>1</td><td>100.00</td><td>0</td></tr><tr><td>2132-12-05</td><td>1</td><td>1</td><td>100.00</td><td>0</td></tr><tr><td>2132-12-06</td><td>1</td><td>1</td><td>100.00</td><td>0</td></tr><tr><td>2132-12-08</td><td>1</td><td>0</td><td>0.00</td><td>1</td></tr><tr><td>2135-10-24</td><td>1</td><td>1</td><td>100.00</td><td>0</td></tr><tr><td>2135-10-25</td><td>1</td><td>1</td><td>100.00</td><td>0</td></tr><tr><td>2135-10-27</td><td>1</td><td>0</td><td>0.00</td><td>1</td></tr><tr><td>2138-04-02</td><td>1</td><td>0</td><td>0.00</td><td>1</td></tr><tr><td>2138-04-08</td><td>1</td><td>1</td><td>100.00</td><td>0</td></tr><tr><td>2138-04-11</td><td>1</td><td>1</td><td>100.00</td><td>0</td></tr><tr><td>2138-04-15</td><td>1</td><td>0</td><td>0.00</td><td>1</td></tr><tr><td>2138-06-05</td><td>1</td><td>1</td><td>100.00</td><td>0</td></tr><tr><td>2138-06-07</td><td>1</td><td>1</td><td>100.00</td><td>0</td></tr><tr><td>2138-06-11</td><td>1</td><td>0</td><td>0.00</td><td>1</td></tr><tr><td>2138-11-09</td><td>1</td><td>0</td><td>0.00</td><td>1</td></tr><tr><td>2138-11-12</td><td>1</td><td>1</td><td>100.00</td><td>0</td></tr><tr><td>2138-11-14</td><td>1</td><td>1</td><td>100.00</td><td>0</td></tr><tr><td>2138-11-18</td><td>1</td><td>0</td><td>0.00</td><td>1</td></tr><tr><td>2139-09-22</td><td>1</td><td>0</td><td>0.00</td><td>1</td></tr><tr><td>2139-09-23</td><td>1</td><td>1</td><td>100.00</td><td>0</td></tr><tr><td>2139-09-25</td><td>1</td><td>1</td><td>100.00</td><td>0</td></tr><tr><td>2139-10-02</td><td>1</td><td>0</td><td>0.00</td><td>1</td></tr><tr><td>2141-01-25</td><td>1</td><td>1</td><td>100.00</td><td>0</td></tr><tr><td>2141-01-26</td><td>1</td><td>1</td><td>100.00</td><td>0</td></tr><tr><td>2142-11-26</td><td>1</td><td>1</td><td>100.00</td><td>0</td></tr><tr><td>2142-11-29</td><td>1</td><td>1</td><td>100.00</td><td>0</td></tr><tr><td>2142-11-30</td><td>1</td><td>0</td><td>0.00</td><td>1</td></tr><tr><td>2144-02-09</td><td>1</td><td>0</td><td>0.00</td><td>1</td></tr><tr><td>2144-02-11</td><td>1</td><td>1</td><td>100.00</td><td>0</td></tr><tr><td>2144-02-14</td><td>1</td><td>1</td><td>100.00</td><td>0</td></tr><tr><td>2144-02-21</td><td>1</td><td>0</td><td>0.00</td><td>1</td></tr><tr><td>2144-07-11</td><td>1</td><td>0</td><td>0.00</td><td>1</td></tr><tr><td>2144-07-13</td><td>1</td><td>1</td><td>100.00</td><td>0</td></tr><tr><td>2144-07-18</td><td>2</td><td>2</td><td>100.00</td><td>0</td></tr><tr><td>2144-07-19</td><td>2</td><td>2</td><td>100.00</td><td>0</td></tr><tr><td>2144-07-28</td><td>2</td><td>1</td><td>50.00</td><td>1</td></tr><tr><td>2144-08-01</td><td>1</td><td>1</td><td>100.00</td><td>0</td></tr><tr><td>2144-10-15</td><td>2</td><td>1</td><td>50.00</td><td>1</td></tr><tr><td>2144-10-24</td><td>2</td><td>1</td><td>50.00</td><td>1</td></tr><tr><td>2144-11-12</td><td>1</td><td>0</td><td>0.00</td><td>1</td></tr><tr><td>2144-12-24</td><td>1</td><td>1</td><td>100.00</td><td>0</td></tr><tr><td>2144-12-31</td><td>1</td><td>1</td><td>100.00</td><td>0</td></tr><tr><td>2145-07-07</td><td>1</td><td>1</td><td>100.00</td><td>0</td></tr><tr><td>2145-07-17</td><td>1</td><td>1</td><td>100.00</td><td>0</td></tr><tr><td>2145-07-20</td><td>1</td><td>0</td><td>0.00</td><td>1</td></tr><tr><td>2145-09-06</td><td>1</td><td>1</td><td>100.00</td><td>0</td></tr><tr><td>2145-09-07</td><td>1</td><td>1</td><td>100.00</td><td>0</td></tr><tr><td>2145-09-09</td><td>1</td><td>0</td><td>0.00</td><td>1</td></tr><tr><td>2145-12-01</td><td>1</td><td>1</td><td>100.00</td><td>0</td></tr><tr><td>2145-12-14</td><td>1</td><td>1</td><td>100.00</td><td>0</td></tr><tr><td>2145-12-18</td><td>1</td><td>0</td><td>0.00</td><td>1</td></tr><tr><td>2146-07-21</td><td>1</td><td>1</td><td>100.00</td><td>0</td></tr><tr><td>2146-07-22</td><td>1</td><td>1</td><td>100.00</td><td>0</td></tr><tr><td>2147-02-06</td><td>1</td><td>1</td><td>100.00</td><td>0</td></tr><tr><td>2147-02-14</td><td>1</td><td>1</td><td>100.00</td><td>0</td></tr><tr><td>2147-02-17</td><td>1</td><td>0</td><td>0.00</td><td>1</td></tr><tr><td>2147-02-23</td><td>1</td><td>1</td><td>100.00</td><td>0</td></tr><tr><td>2147-02-25</td><td>1</td><td>1</td><td>100.00</td><td>0</td></tr><tr><td>2147-02-27</td><td>1</td><td>0</td><td>0.00</td><td>1</td></tr><tr><td>2147-10-03</td><td>1</td><td>1</td><td>100.00</td><td>0</td></tr><tr><td>2147-11-01</td><td>1</td><td>1</td><td>100.00</td><td>0</td></tr><tr><td>2147-11-04</td><td>1</td><td>0</td><td>0.00</td><td>1</td></tr><tr><td>2148-01-13</td><td>1</td><td>1</td><td>100.00</td><td>0</td></tr><tr><td>2148-01-19</td><td>1</td><td>1</td><td>100.00</td><td>0</td></tr><tr><td>2149-05-26</td><td>1</td><td>0</td><td>0.00</td><td>1</td></tr><tr><td>2149-05-29</td><td>1</td><td>1</td><td>100.00</td><td>0</td></tr><tr><td>2149-05-31</td><td>1</td><td>1</td><td>100.00</td><td>0</td></tr><tr><td>2149-06-03</td><td>1</td><td>0</td><td>0.00</td><td>1</td></tr><tr><td>2150-08-07</td><td>1</td><td>1</td><td>100.00</td><td>0</td></tr><tr><td>2150-08-09</td><td>1</td><td>1</td><td>100.00</td><td>0</td></tr><tr><td>2150-08-13</td><td>1</td><td>0</td><td>0.00</td><td>1</td></tr><tr><td>2150-08-22</td><td>1</td><td>1</td><td>100.00</td><td>0</td></tr><tr><td>2150-08-29</td><td>1</td><td>1</td><td>100.00</td><td>0</td></tr><tr><td>2151-08-13</td><td>1</td><td>1</td><td>100.00</td><td>0</td></tr><tr><td>2151-08-14</td><td>1</td><td>1</td><td>100.00</td><td>0</td></tr><tr><td>2151-08-17</td><td>1</td><td>0</td><td>0.00</td><td>1</td></tr><tr><td>2151-09-12</td><td>1</td><td>1</td><td>100.00</td><td>0</td></tr><tr><td>2151-09-14</td><td>1</td><td>1</td><td>100.00</td><td>0</td></tr><tr><td>2151-09-15</td><td>1</td><td>0</td><td>0.00</td><td>1</td></tr><tr><td>2152-10-02</td><td>1</td><td>0</td><td>0.00</td><td>1</td></tr><tr><td>2152-10-03</td><td>1</td><td>1</td><td>100.00</td><td>0</td></tr><tr><td>2152-10-07</td><td>1</td><td>1</td><td>100.00</td><td>0</td></tr><tr><td>2152-10-09</td><td>2</td><td>1</td><td>50.00</td><td>1</td></tr><tr><td>2152-10-11</td><td>1</td><td>0</td><td>0.00</td><td>1</td></tr><tr><td>2155-03-08</td><td>1</td><td>0</td><td>0.00</td><td>1</td></tr><tr><td>2155-03-10</td><td>1</td><td>1</td><td>100.00</td><td>0</td></tr><tr><td>2155-03-11</td><td>1</td><td>1</td><td>100.00</td><td>0</td></tr><tr><td>2155-12-16</td><td>1</td><td>1</td><td>100.00</td><td>0</td></tr><tr><td>2155-12-17</td><td>1</td><td>1</td><td>100.00</td><td>0</td></tr><tr><td>2155-12-24</td><td>1</td><td>0</td><td>0.00</td><td>1</td></tr><tr><td>2159-11-17</td><td>1</td><td>1</td><td>100.00</td><td>0</td></tr><tr><td>2159-11-20</td><td>1</td><td>1</td><td>100.00</td><td>0</td></tr><tr><td>2159-11-22</td><td>1</td><td>0</td><td>0.00</td><td>1</td></tr><tr><td>2160-05-04</td><td>1</td><td>1</td><td>100.00</td><td>0</td></tr><tr><td>2160-05-05</td><td>1</td><td>1</td><td>100.00</td><td>0</td></tr><tr><td>2160-05-08</td><td>1</td><td>0</td><td>0.00</td><td>1</td></tr><tr><td>2160-12-16</td><td>1</td><td>1</td><td>100.00</td><td>0</td></tr><tr><td>2160-12-17</td><td>1</td><td>1</td><td>100.00</td><td>0</td></tr><tr><td>2160-12-21</td><td>1</td><td>0</td><td>0.00</td><td>1</td></tr><tr><td>2160-12-26</td><td>1</td><td>1</td><td>100.00</td><td>0</td></tr><tr><td>2160-12-27</td><td>1</td><td>1</td><td>100.00</td><td>0</td></tr><tr><td>2161-01-30</td><td>1</td><td>0</td><td>0.00</td><td>1</td></tr><tr><td>2161-02-04</td><td>1</td><td>1</td><td>100.00</td><td>0</td></tr><tr><td>2161-02-06</td><td>1</td><td>1</td><td>100.00</td><td>0</td></tr><tr><td>2161-02-19</td><td>1</td><td>0</td><td>0.00</td><td>1</td></tr><tr><td>2161-09-14</td><td>1</td><td>0</td><td>0.00</td><td>1</td></tr><tr><td>2161-09-15</td><td>1</td><td>1</td><td>100.00</td><td>0</td></tr><tr><td>2161-09-17</td><td>1</td><td>1</td><td>100.00</td><td>0</td></tr><tr><td>2161-09-19</td><td>1</td><td>0</td><td>0.00</td><td>1</td></tr><tr><td>2162-01-16</td><td>1</td><td>1</td><td>100.00</td><td>0</td></tr><tr><td>2162-01-17</td><td>1</td><td>1</td><td>100.00</td><td>0</td></tr><tr><td>2162-01-19</td><td>1</td><td>0</td><td>0.00</td><td>1</td></tr><tr><td>2163-05-14</td><td>1</td><td>1</td><td>100.00</td><td>0</td></tr><tr><td>2163-05-15</td><td>1</td><td>1</td><td>100.00</td><td>0</td></tr><tr><td>2163-05-16</td><td>0</td><td>1</td><td>null</td><td>-1</td></tr><tr><td>2163-11-21</td><td>2</td><td>1</td><td>50.00</td><td>1</td></tr><tr><td>2163-11-22</td><td>2</td><td>1</td><td>50.00</td><td>1</td></tr><tr><td>2163-11-24</td><td>2</td><td>1</td><td>50.00</td><td>1</td></tr><tr><td>2163-11-25</td><td>2</td><td>1</td><td>50.00</td><td>1</td></tr><tr><td>2163-12-01</td><td>2</td><td>0</td><td>0.00</td><td>2</td></tr><tr><td>2164-10-23</td><td>1</td><td>1</td><td>100.00</td><td>0</td></tr><tr><td>2164-10-25</td><td>1</td><td>1</td><td>100.00</td><td>0</td></tr><tr><td>2164-11-01</td><td>1</td><td>0</td><td>0.00</td><td>1</td></tr><tr><td>2165-12-19</td><td>1</td><td>1</td><td>100.00</td><td>0</td></tr><tr><td>2165-12-21</td><td>1</td><td>1</td><td>100.00</td><td>0</td></tr><tr><td>2165-12-25</td><td>1</td><td>0</td><td>0.00</td><td>1</td></tr><tr><td>2166-02-12</td><td>1</td><td>1</td><td>100.00</td><td>0</td></tr><tr><td>2166-02-26</td><td>1</td><td>1</td><td>100.00</td><td>0</td></tr><tr><td>2167-02-11</td><td>1</td><td>1</td><td>100.00</td><td>0</td></tr><tr><td>2167-02-12</td><td>1</td><td>1</td><td>100.00</td><td>0</td></tr><tr><td>2167-02-19</td><td>1</td><td>0</td><td>0.00</td><td>1</td></tr><tr><td>2169-05-06</td><td>2</td><td>1</td><td>50.00</td><td>1</td></tr><tr><td>2169-05-08</td><td>2</td><td>1</td><td>50.00</td><td>1</td></tr><tr><td>2169-05-11</td><td>2</td><td>1</td><td>50.00</td><td>1</td></tr><tr><td>2169-05-12</td><td>2</td><td>1</td><td>50.00</td><td>1</td></tr><tr><td>2170-12-02</td><td>1</td><td>1</td><td>100.00</td><td>0</td></tr><tr><td>2170-12-03</td><td>1</td><td>1</td><td>100.00</td><td>0</td></tr><tr><td>2170-12-15</td><td>1</td><td>1</td><td>100.00</td><td>0</td></tr><tr><td>2170-12-19</td><td>1</td><td>1</td><td>100.00</td><td>0</td></tr><tr><td>2170-12-24</td><td>1</td><td>0</td><td>0.00</td><td>1</td></tr><tr><td>2171-07-12</td><td>1</td><td>1</td><td>100.00</td><td>0</td></tr><tr><td>2171-08-16</td><td>1</td><td>1</td><td>100.00</td><td>0</td></tr><tr><td>2171-08-17</td><td>0</td><td>1</td><td>null</td><td>-1</td></tr><tr><td>2171-10-30</td><td>1</td><td>1</td><td>100.00</td><td>0</td></tr><tr><td>2171-11-04</td><td>1</td><td>1</td><td>100.00</td><td>0</td></tr><tr><td>2171-11-06</td><td>1</td><td>0</td><td>0.00</td><td>1</td></tr><tr><td>2173-11-27</td><td>1</td><td>1</td><td>100.00</td><td>0</td></tr><tr><td>2173-11-28</td><td>1</td><td>1</td><td>100.00</td><td>0</td></tr><tr><td>2173-11-30</td><td>1</td><td>0</td><td>0.00</td><td>1</td></tr><tr><td>2175-10-02</td><td>1</td><td>1</td><td>100.00</td><td>0</td></tr><tr><td>2175-10-03</td><td>1</td><td>1</td><td>100.00</td><td>0</td></tr><tr><td>2175-10-06</td><td>1</td><td>0</td><td>0.00</td><td>1</td></tr><tr><td>2176-07-14</td><td>1</td><td>1</td><td>100.00</td><td>0</td></tr><tr><td>2176-07-16</td><td>1</td><td>1</td><td>100.00</td><td>0</td></tr><tr><td>2176-07-18</td><td>1</td><td>0</td><td>0.00</td><td>1</td></tr><tr><td>2178-05-14</td><td>1</td><td>1</td><td>100.00</td><td>0</td></tr><tr><td>2178-05-15</td><td>1</td><td>1</td><td>100.00</td><td>0</td></tr><tr><td>2179-04-17</td><td>1</td><td>1</td><td>100.00</td><td>0</td></tr><tr><td>2179-04-21</td><td>1</td><td>1</td><td>100.00</td><td>0</td></tr><tr><td>2179-04-23</td><td>1</td><td>0</td><td>0.00</td><td>1</td></tr><tr><td>2180-01-14</td><td>1</td><td>0</td><td>0.00</td><td>1</td></tr><tr><td>2180-01-21</td><td>1</td><td>1</td><td>100.00</td><td>0</td></tr><tr><td>2180-02-01</td><td>1</td><td>1</td><td>100.00</td><td>0</td></tr><tr><td>2180-02-29</td><td>1</td><td>1</td><td>100.00</td><td>0</td></tr><tr><td>2180-03-04</td><td>1</td><td>1</td><td>100.00</td><td>0</td></tr><tr><td>2180-03-10</td><td>1</td><td>0</td><td>0.00</td><td>1</td></tr><tr><td>2180-03-15</td><td>1</td><td>1</td><td>100.00</td><td>0</td></tr><tr><td>2180-03-19</td><td>1</td><td>1</td><td>100.00</td><td>0</td></tr><tr><td>2180-03-20</td><td>1</td><td>0</td><td>0.00</td><td>1</td></tr><tr><td>2180-07-19</td><td>1</td><td>1</td><td>100.00</td><td>0</td></tr><tr><td>2180-07-20</td><td>1</td><td>1</td><td>100.00</td><td>0</td></tr><tr><td>2184-08-04</td><td>1</td><td>1</td><td>100.00</td><td>0</td></tr><tr><td>2184-08-06</td><td>1</td><td>1</td><td>100.00</td><td>0</td></tr><tr><td>2184-08-10</td><td>1</td><td>0</td><td>0.00</td><td>1</td></tr><tr><td>2185-03-24</td><td>1</td><td>1</td><td>100.00</td><td>0</td></tr><tr><td>2185-03-26</td><td>1</td><td>1</td><td>100.00</td><td>0</td></tr><tr><td>2185-04-14</td><td>1</td><td>1</td><td>100.00</td><td>0</td></tr><tr><td>2185-04-16</td><td>1</td><td>1</td><td>100.00</td><td>0</td></tr><tr><td>2185-04-26</td><td>1</td><td>0</td><td>0.00</td><td>1</td></tr><tr><td>2186-02-09</td><td>1</td><td>1</td><td>100.00</td><td>0</td></tr><tr><td>2186-02-12</td><td>1</td><td>1</td><td>100.00</td><td>0</td></tr><tr><td>2186-07-06</td><td>1</td><td>1</td><td>100.00</td><td>0</td></tr><tr><td>2186-07-07</td><td>1</td><td>1</td><td>100.00</td><td>0</td></tr><tr><td>2188-02-08</td><td>1</td><td>0</td><td>0.00</td><td>1</td></tr><tr><td>2188-02-12</td><td>1</td><td>1</td><td>100.00</td><td>0</td></tr><tr><td>2188-02-27</td><td>1</td><td>1</td><td>100.00</td><td>0</td></tr><tr><td>2189-09-08</td><td>1</td><td>1</td><td>100.00</td><td>0</td></tr><tr><td>2189-09-10</td><td>1</td><td>1</td><td>100.00</td><td>0</td></tr><tr><td>2189-09-20</td><td>1</td><td>0</td><td>0.00</td><td>1</td></tr><tr><td>2190-07-13</td><td>1</td><td>1</td><td>100.00</td><td>0</td></tr><tr><td>2190-07-20</td><td>1</td><td>1</td><td>100.00</td><td>0</td></tr><tr><td>2190-07-25</td><td>1</td><td>0</td><td>0.00</td><td>1</td></tr><tr><td>2192-03-26</td><td>1</td><td>0</td><td>0.00</td><td>1</td></tr><tr><td>2192-03-29</td><td>1</td><td>1</td><td>100.00</td><td>0</td></tr><tr><td>2192-04-01</td><td>1</td><td>1</td><td>100.00</td><td>0</td></tr><tr><td>2192-04-05</td><td>1</td><td>0</td><td>0.00</td><td>1</td></tr><tr><td>2192-04-16</td><td>3</td><td>1</td><td>33.33</td><td>2</td></tr><tr><td>2192-04-20</td><td>3</td><td>1</td><td>33.33</td><td>2</td></tr><tr><td>2192-04-24</td><td>3</td><td>1</td><td>33.33</td><td>2</td></tr><tr><td>2192-04-26</td><td>3</td><td>1</td><td>33.33</td><td>2</td></tr><tr><td>2192-04-30</td><td>3</td><td>1</td><td>33.33</td><td>2</td></tr><tr><td>2192-05-15</td><td>3</td><td>1</td><td>33.33</td><td>2</td></tr><tr><td>2192-11-20</td><td>1</td><td>1</td><td>100.00</td><td>0</td></tr><tr><td>2192-11-24</td><td>1</td><td>1</td><td>100.00</td><td>0</td></tr><tr><td>2192-12-07</td><td>1</td><td>0</td><td>0.00</td><td>1</td></tr><tr><td>2193-10-15</td><td>1</td><td>1</td><td>100.00</td><td>0</td></tr><tr><td>2193-10-17</td><td>1</td><td>1</td><td>100.00</td><td>0</td></tr><tr><td>2193-10-20</td><td>1</td><td>0</td><td>0.00</td><td>1</td></tr><tr><td>2194-07-26</td><td>1</td><td>1</td><td>100.00</td><td>0</td></tr><tr><td>2194-07-29</td><td>1</td><td>1</td><td>100.00</td><td>0</td></tr><tr><td>2194-08-06</td><td>1</td><td>0</td><td>0.00</td><td>1</td></tr><tr><td>2195-05-17</td><td>1</td><td>1</td><td>100.00</td><td>0</td></tr><tr><td>2195-05-19</td><td>1</td><td>1</td><td>100.00</td><td>0</td></tr><tr><td>2195-05-24</td><td>1</td><td>0</td><td>0.00</td><td>1</td></tr><tr><td>2198-06-28</td><td>1</td><td>1</td><td>100.00</td><td>0</td></tr><tr><td>2198-06-29</td><td>2</td><td>2</td><td>100.00</td><td>0</td></tr><tr><td>2198-07-06</td><td>2</td><td>2</td><td>100.00</td><td>0</td></tr><tr><td>2198-07-20</td><td>2</td><td>1</td><td>50.00</td><td>1</td></tr><tr><td>2198-08-07</td><td>1</td><td>0</td><td>0.00</td><td>1</td></tr><tr><td>2198-10-29</td><td>1</td><td>1</td><td>100.00</td><td>0</td></tr><tr><td>2198-10-31</td><td>1</td><td>1</td><td>100.00</td><td>0</td></tr><tr><td>2198-11-05</td><td>1</td><td>0</td><td>0.00</td><td>1</td></tr><tr><td>2199-01-13</td><td>1</td><td>1</td><td>100.00</td><td>0</td></tr><tr><td>2199-01-16</td><td>1</td><td>1</td><td>100.00</td><td>0</td></tr><tr><td>2199-01-31</td><td>1</td><td>1</td><td>100.00</td><td>0</td></tr><tr><td>2199-02-11</td><td>1</td><td>1</td><td>100.00</td><td>0</td></tr><tr><td>2199-02-14</td><td>1</td><td>0</td><td>0.00</td><td>1</td></tr><tr><td>2200-03-17</td><td>1</td><td>1</td><td>100.00</td><td>0</td></tr><tr><td>2200-03-28</td><td>1</td><td>1</td><td>100.00</td><td>0</td></tr><tr><td>2200-06-09</td><td>1</td><td>1</td><td>100.00</td><td>0</td></tr><tr><td>2200-06-11</td><td>1</td><td>1</td><td>100.00</td><td>0</td></tr><tr><td>2200-06-13</td><td>1</td><td>0</td><td>0.00</td><td>1</td></tr><tr><td>2200-10-29</td><td>1</td><td>1</td><td>100.00</td><td>0</td></tr><tr><td>2200-11-03</td><td>1</td><td>1</td><td>100.00</td><td>0</td></tr><tr><td>2201-05-12</td><td>1</td><td>1</td><td>100.00</td><td>0</td></tr><tr><td>2201-05-13</td><td>1</td><td>1</td><td>100.00</td><td>0</td></tr><tr><td>2201-05-19</td><td>1</td><td>0</td><td>0.00</td><td>1</td></tr><tr><td>2201-08-10</td><td>1</td><td>1</td><td>100.00</td><td>0</td></tr><tr><td>2201-08-11</td><td>1</td><td>1</td><td>100.00</td><td>0</td></tr><tr><td>2201-08-13</td><td>1</td><td>0</td><td>0.00</td><td>1</td></tr><tr><td>2201-09-28</td><td>1</td><td>1</td><td>100.00</td><td>0</td></tr><tr><td>2201-10-01</td><td>1</td><td>1</td><td>100.00</td><td>0</td></tr><tr><td>2201-11-16</td><td>1</td><td>1</td><td>100.00</td><td>0</td></tr><tr><td>2201-11-19</td><td>1</td><td>1</td><td>100.00</td><td>0</td></tr><tr><td>2201-12-31</td><td>1</td><td>1</td><td>100.00</td><td>0</td></tr><tr><td>2202-01-01</td><td>1</td><td>1</td><td>100.00</td><td>0</td></tr><tr><td>2202-01-03</td><td>1</td><td>0</td><td>0.00</td><td>1</td></tr><tr><td>2202-02-15</td><td>1</td><td>1</td><td>100.00</td><td>0</td></tr><tr><td>2202-02-17</td><td>1</td><td>1</td><td>100.00</td><td>0</td></tr><tr><td>2202-02-19</td><td>1</td><td>0</td><td>0.00</td><td>1</td></tr><tr><td>2202-05-01</td><td>1</td><td>1</td><td>100.00</td><td>0</td></tr><tr><td>2202-05-02</td><td>1</td><td>1</td><td>100.00</td><td>0</td></tr><tr><td>2202-05-04</td><td>1</td><td>0</td><td>0.00</td><td>1</td></tr><tr><td>2202-09-16</td><td>1</td><td>1</td><td>100.00</td><td>0</td></tr><tr><td>2202-09-18</td><td>1</td><td>1</td><td>100.00</td><td>0</td></tr><tr><td>2202-09-23</td><td>1</td><td>0</td><td>0.00</td><td>1</td></tr><tr><td>2202-10-03</td><td>1</td><td>1</td><td>100.00</td><td>0</td></tr><tr><td>2202-10-04</td><td>1</td><td>1</td><td>100.00</td><td>0</td></tr><tr><td>2202-10-11</td><td>1</td><td>0</td><td>0.00</td><td>1</td></tr></tbody></table></div>"
      ]
     },
     "metadata": {
      "application/vnd.databricks.v1+output": {
       "addedWidgets": {},
       "aggData": [],
       "aggError": "",
       "aggOverflow": false,
       "aggSchema": [],
       "aggSeriesLimitReached": false,
       "aggType": "",
       "arguments": {},
       "columnCustomDisplayInfos": {},
       "data": [
        [
         "2102-08-29",
         1,
         0,
         "0.00",
         1
        ],
        [
         "2102-08-31",
         1,
         1,
         "100.00",
         0
        ],
        [
         "2102-09-01",
         1,
         1,
         "100.00",
         0
        ],
        [
         "2102-09-06",
         1,
         0,
         "0.00",
         1
        ],
        [
         "2104-09-24",
         1,
         1,
         "100.00",
         0
        ],
        [
         "2104-09-26",
         1,
         1,
         "100.00",
         0
        ],
        [
         "2104-09-30",
         1,
         0,
         "0.00",
         1
        ],
        [
         "2104-10-24",
         1,
         1,
         "100.00",
         0
        ],
        [
         "2104-10-25",
         1,
         1,
         "100.00",
         0
        ],
        [
         "2104-11-01",
         1,
         0,
         "0.00",
         1
        ],
        [
         "2105-05-29",
         1,
         0,
         "0.00",
         1
        ],
        [
         "2105-06-08",
         1,
         1,
         "100.00",
         0
        ],
        [
         "2105-06-11",
         1,
         1,
         "100.00",
         0
        ],
        [
         "2106-08-30",
         1,
         1,
         "100.00",
         0
        ],
        [
         "2106-08-31",
         1,
         1,
         "100.00",
         0
        ],
        [
         "2107-01-04",
         1,
         0,
         "0.00",
         1
        ],
        [
         "2107-01-05",
         1,
         1,
         "100.00",
         0
        ],
        [
         "2107-01-08",
         1,
         1,
         "100.00",
         0
        ],
        [
         "2107-01-11",
         1,
         0,
         "0.00",
         1
        ],
        [
         "2107-01-16",
         1,
         1,
         "100.00",
         0
        ],
        [
         "2107-01-29",
         2,
         2,
         "100.00",
         0
        ],
        [
         "2107-01-30",
         2,
         2,
         "100.00",
         0
        ],
        [
         "2107-02-10",
         2,
         1,
         "50.00",
         1
        ],
        [
         "2107-03-21",
         1,
         0,
         "0.00",
         1
        ],
        [
         "2107-03-24",
         1,
         1,
         "100.00",
         0
        ],
        [
         "2107-03-30",
         1,
         1,
         "100.00",
         0
        ],
        [
         "2107-03-31",
         0,
         1,
         null,
         -1
        ],
        [
         "2107-05-12",
         1,
         1,
         "100.00",
         0
        ],
        [
         "2107-05-14",
         1,
         1,
         "100.00",
         0
        ],
        [
         "2107-05-18",
         1,
         0,
         "0.00",
         1
        ],
        [
         "2110-12-29",
         2,
         0,
         "0.00",
         2
        ],
        [
         "2111-01-07",
         2,
         1,
         "50.00",
         1
        ],
        [
         "2111-01-09",
         2,
         1,
         "50.00",
         1
        ],
        [
         "2111-01-12",
         2,
         1,
         "50.00",
         1
        ],
        [
         "2111-01-14",
         2,
         1,
         "50.00",
         1
        ],
        [
         "2112-02-04",
         1,
         1,
         "100.00",
         0
        ],
        [
         "2112-02-09",
         1,
         1,
         "100.00",
         0
        ],
        [
         "2112-02-11",
         1,
         0,
         "0.00",
         1
        ],
        [
         "2112-05-04",
         1,
         1,
         "100.00",
         0
        ],
        [
         "2112-05-06",
         1,
         1,
         "100.00",
         0
        ],
        [
         "2112-05-11",
         1,
         0,
         "0.00",
         1
        ],
        [
         "2112-05-22",
         1,
         0,
         "0.00",
         1
        ],
        [
         "2112-05-23",
         1,
         1,
         "100.00",
         0
        ],
        [
         "2112-05-25",
         1,
         1,
         "100.00",
         0
        ],
        [
         "2112-05-28",
         1,
         0,
         "0.00",
         1
        ],
        [
         "2112-05-29",
         1,
         1,
         "100.00",
         0
        ],
        [
         "2112-06-01",
         1,
         1,
         "100.00",
         0
        ],
        [
         "2112-06-07",
         1,
         0,
         "0.00",
         1
        ],
        [
         "2115-05-12",
         1,
         1,
         "100.00",
         0
        ],
        [
         "2115-05-15",
         1,
         1,
         "100.00",
         0
        ],
        [
         "2117-03-21",
         1,
         0,
         "0.00",
         1
        ],
        [
         "2117-03-23",
         1,
         1,
         "100.00",
         0
        ],
        [
         "2117-03-28",
         1,
         1,
         "100.00",
         0
        ],
        [
         "2117-03-31",
         1,
         0,
         "0.00",
         1
        ],
        [
         "2117-08-05",
         1,
         1,
         "100.00",
         0
        ],
        [
         "2117-08-13",
         1,
         1,
         "100.00",
         0
        ],
        [
         "2117-08-19",
         1,
         0,
         "0.00",
         1
        ],
        [
         "2117-08-21",
         1,
         1,
         "100.00",
         0
        ],
        [
         "2117-08-23",
         1,
         1,
         "100.00",
         0
        ],
        [
         "2117-08-26",
         1,
         0,
         "0.00",
         1
        ],
        [
         "2118-10-06",
         1,
         1,
         "100.00",
         0
        ],
        [
         "2118-10-08",
         1,
         1,
         "100.00",
         0
        ],
        [
         "2118-10-09",
         1,
         0,
         "0.00",
         1
        ],
        [
         "2119-10-17",
         2,
         1,
         "50.00",
         1
        ],
        [
         "2119-10-21",
         2,
         1,
         "50.00",
         1
        ],
        [
         "2119-10-30",
         2,
         1,
         "50.00",
         1
        ],
        [
         "2119-11-14",
         2,
         1,
         "50.00",
         1
        ],
        [
         "2120-08-24",
         1,
         1,
         "100.00",
         0
        ],
        [
         "2120-08-25",
         1,
         1,
         "100.00",
         0
        ],
        [
         "2120-08-31",
         1,
         0,
         "0.00",
         1
        ],
        [
         "2121-12-07",
         1,
         1,
         "100.00",
         0
        ],
        [
         "2121-12-09",
         1,
         1,
         "100.00",
         0
        ],
        [
         "2121-12-12",
         1,
         0,
         "0.00",
         1
        ],
        [
         "2123-08-23",
         1,
         1,
         "100.00",
         0
        ],
        [
         "2123-08-24",
         1,
         1,
         "100.00",
         0
        ],
        [
         "2123-09-17",
         1,
         0,
         "0.00",
         1
        ],
        [
         "2123-11-24",
         1,
         1,
         "100.00",
         0
        ],
        [
         "2123-12-25",
         1,
         1,
         "100.00",
         0
        ],
        [
         "2123-12-30",
         1,
         0,
         "0.00",
         1
        ],
        [
         "2124-01-12",
         1,
         1,
         "100.00",
         0
        ],
        [
         "2124-01-13",
         1,
         1,
         "100.00",
         0
        ],
        [
         "2124-01-14",
         1,
         0,
         "0.00",
         1
        ],
        [
         "2125-10-04",
         1,
         1,
         "100.00",
         0
        ],
        [
         "2125-10-07",
         1,
         1,
         "100.00",
         0
        ],
        [
         "2126-08-14",
         1,
         1,
         "100.00",
         0
        ],
        [
         "2126-08-28",
         1,
         1,
         "100.00",
         0
        ],
        [
         "2127-03-19",
         1,
         1,
         "100.00",
         0
        ],
        [
         "2127-07-23",
         1,
         0,
         "0.00",
         1
        ],
        [
         "2127-07-29",
         1,
         1,
         "100.00",
         0
        ],
        [
         "2127-07-30",
         1,
         1,
         "100.00",
         0
        ],
        [
         "2127-08-04",
         1,
         0,
         "0.00",
         1
        ],
        [
         "2127-10-06",
         1,
         1,
         "100.00",
         0
        ],
        [
         "2127-10-28",
         1,
         1,
         "100.00",
         0
        ],
        [
         "2128-03-22",
         1,
         1,
         "100.00",
         0
        ],
        [
         "2128-03-23",
         1,
         1,
         "100.00",
         0
        ],
        [
         "2128-03-24",
         1,
         0,
         "0.00",
         1
        ],
        [
         "2128-11-04",
         2,
         1,
         "50.00",
         1
        ],
        [
         "2128-11-05",
         2,
         1,
         "50.00",
         1
        ],
        [
         "2128-11-08",
         2,
         1,
         "50.00",
         1
        ],
        [
         "2128-11-09",
         2,
         1,
         "50.00",
         1
        ],
        [
         "2128-11-10",
         0,
         1,
         null,
         -1
        ],
        [
         "2129-03-03",
         1,
         0,
         "0.00",
         1
        ],
        [
         "2129-03-04",
         1,
         1,
         "100.00",
         0
        ],
        [
         "2129-03-05",
         1,
         1,
         "100.00",
         0
        ],
        [
         "2129-03-07",
         1,
         0,
         "0.00",
         1
        ],
        [
         "2129-05-02",
         1,
         1,
         "100.00",
         0
        ],
        [
         "2129-05-03",
         1,
         1,
         "100.00",
         0
        ],
        [
         "2129-05-06",
         1,
         0,
         "0.00",
         1
        ],
        [
         "2129-11-24",
         1,
         1,
         "100.00",
         0
        ],
        [
         "2129-12-01",
         1,
         1,
         "100.00",
         0
        ],
        [
         "2130-02-04",
         1,
         1,
         "100.00",
         0
        ],
        [
         "2130-02-06",
         1,
         1,
         "100.00",
         0
        ],
        [
         "2130-02-10",
         1,
         0,
         "0.00",
         1
        ],
        [
         "2130-08-12",
         1,
         1,
         "100.00",
         0
        ],
        [
         "2130-08-15",
         1,
         1,
         "100.00",
         0
        ],
        [
         "2130-08-18",
         1,
         0,
         "0.00",
         1
        ],
        [
         "2130-10-06",
         1,
         1,
         "100.00",
         0
        ],
        [
         "2131-07-26",
         1,
         0,
         "0.00",
         1
        ],
        [
         "2131-07-27",
         1,
         1,
         "100.00",
         0
        ],
        [
         "2131-07-28",
         1,
         1,
         "100.00",
         0
        ],
        [
         "2132-08-05",
         1,
         1,
         "100.00",
         0
        ],
        [
         "2132-08-08",
         1,
         1,
         "100.00",
         0
        ],
        [
         "2132-12-05",
         1,
         1,
         "100.00",
         0
        ],
        [
         "2132-12-06",
         1,
         1,
         "100.00",
         0
        ],
        [
         "2132-12-08",
         1,
         0,
         "0.00",
         1
        ],
        [
         "2135-10-24",
         1,
         1,
         "100.00",
         0
        ],
        [
         "2135-10-25",
         1,
         1,
         "100.00",
         0
        ],
        [
         "2135-10-27",
         1,
         0,
         "0.00",
         1
        ],
        [
         "2138-04-02",
         1,
         0,
         "0.00",
         1
        ],
        [
         "2138-04-08",
         1,
         1,
         "100.00",
         0
        ],
        [
         "2138-04-11",
         1,
         1,
         "100.00",
         0
        ],
        [
         "2138-04-15",
         1,
         0,
         "0.00",
         1
        ],
        [
         "2138-06-05",
         1,
         1,
         "100.00",
         0
        ],
        [
         "2138-06-07",
         1,
         1,
         "100.00",
         0
        ],
        [
         "2138-06-11",
         1,
         0,
         "0.00",
         1
        ],
        [
         "2138-11-09",
         1,
         0,
         "0.00",
         1
        ],
        [
         "2138-11-12",
         1,
         1,
         "100.00",
         0
        ],
        [
         "2138-11-14",
         1,
         1,
         "100.00",
         0
        ],
        [
         "2138-11-18",
         1,
         0,
         "0.00",
         1
        ],
        [
         "2139-09-22",
         1,
         0,
         "0.00",
         1
        ],
        [
         "2139-09-23",
         1,
         1,
         "100.00",
         0
        ],
        [
         "2139-09-25",
         1,
         1,
         "100.00",
         0
        ],
        [
         "2139-10-02",
         1,
         0,
         "0.00",
         1
        ],
        [
         "2141-01-25",
         1,
         1,
         "100.00",
         0
        ],
        [
         "2141-01-26",
         1,
         1,
         "100.00",
         0
        ],
        [
         "2142-11-26",
         1,
         1,
         "100.00",
         0
        ],
        [
         "2142-11-29",
         1,
         1,
         "100.00",
         0
        ],
        [
         "2142-11-30",
         1,
         0,
         "0.00",
         1
        ],
        [
         "2144-02-09",
         1,
         0,
         "0.00",
         1
        ],
        [
         "2144-02-11",
         1,
         1,
         "100.00",
         0
        ],
        [
         "2144-02-14",
         1,
         1,
         "100.00",
         0
        ],
        [
         "2144-02-21",
         1,
         0,
         "0.00",
         1
        ],
        [
         "2144-07-11",
         1,
         0,
         "0.00",
         1
        ],
        [
         "2144-07-13",
         1,
         1,
         "100.00",
         0
        ],
        [
         "2144-07-18",
         2,
         2,
         "100.00",
         0
        ],
        [
         "2144-07-19",
         2,
         2,
         "100.00",
         0
        ],
        [
         "2144-07-28",
         2,
         1,
         "50.00",
         1
        ],
        [
         "2144-08-01",
         1,
         1,
         "100.00",
         0
        ],
        [
         "2144-10-15",
         2,
         1,
         "50.00",
         1
        ],
        [
         "2144-10-24",
         2,
         1,
         "50.00",
         1
        ],
        [
         "2144-11-12",
         1,
         0,
         "0.00",
         1
        ],
        [
         "2144-12-24",
         1,
         1,
         "100.00",
         0
        ],
        [
         "2144-12-31",
         1,
         1,
         "100.00",
         0
        ],
        [
         "2145-07-07",
         1,
         1,
         "100.00",
         0
        ],
        [
         "2145-07-17",
         1,
         1,
         "100.00",
         0
        ],
        [
         "2145-07-20",
         1,
         0,
         "0.00",
         1
        ],
        [
         "2145-09-06",
         1,
         1,
         "100.00",
         0
        ],
        [
         "2145-09-07",
         1,
         1,
         "100.00",
         0
        ],
        [
         "2145-09-09",
         1,
         0,
         "0.00",
         1
        ],
        [
         "2145-12-01",
         1,
         1,
         "100.00",
         0
        ],
        [
         "2145-12-14",
         1,
         1,
         "100.00",
         0
        ],
        [
         "2145-12-18",
         1,
         0,
         "0.00",
         1
        ],
        [
         "2146-07-21",
         1,
         1,
         "100.00",
         0
        ],
        [
         "2146-07-22",
         1,
         1,
         "100.00",
         0
        ],
        [
         "2147-02-06",
         1,
         1,
         "100.00",
         0
        ],
        [
         "2147-02-14",
         1,
         1,
         "100.00",
         0
        ],
        [
         "2147-02-17",
         1,
         0,
         "0.00",
         1
        ],
        [
         "2147-02-23",
         1,
         1,
         "100.00",
         0
        ],
        [
         "2147-02-25",
         1,
         1,
         "100.00",
         0
        ],
        [
         "2147-02-27",
         1,
         0,
         "0.00",
         1
        ],
        [
         "2147-10-03",
         1,
         1,
         "100.00",
         0
        ],
        [
         "2147-11-01",
         1,
         1,
         "100.00",
         0
        ],
        [
         "2147-11-04",
         1,
         0,
         "0.00",
         1
        ],
        [
         "2148-01-13",
         1,
         1,
         "100.00",
         0
        ],
        [
         "2148-01-19",
         1,
         1,
         "100.00",
         0
        ],
        [
         "2149-05-26",
         1,
         0,
         "0.00",
         1
        ],
        [
         "2149-05-29",
         1,
         1,
         "100.00",
         0
        ],
        [
         "2149-05-31",
         1,
         1,
         "100.00",
         0
        ],
        [
         "2149-06-03",
         1,
         0,
         "0.00",
         1
        ],
        [
         "2150-08-07",
         1,
         1,
         "100.00",
         0
        ],
        [
         "2150-08-09",
         1,
         1,
         "100.00",
         0
        ],
        [
         "2150-08-13",
         1,
         0,
         "0.00",
         1
        ],
        [
         "2150-08-22",
         1,
         1,
         "100.00",
         0
        ],
        [
         "2150-08-29",
         1,
         1,
         "100.00",
         0
        ],
        [
         "2151-08-13",
         1,
         1,
         "100.00",
         0
        ],
        [
         "2151-08-14",
         1,
         1,
         "100.00",
         0
        ],
        [
         "2151-08-17",
         1,
         0,
         "0.00",
         1
        ],
        [
         "2151-09-12",
         1,
         1,
         "100.00",
         0
        ],
        [
         "2151-09-14",
         1,
         1,
         "100.00",
         0
        ],
        [
         "2151-09-15",
         1,
         0,
         "0.00",
         1
        ],
        [
         "2152-10-02",
         1,
         0,
         "0.00",
         1
        ],
        [
         "2152-10-03",
         1,
         1,
         "100.00",
         0
        ],
        [
         "2152-10-07",
         1,
         1,
         "100.00",
         0
        ],
        [
         "2152-10-09",
         2,
         1,
         "50.00",
         1
        ],
        [
         "2152-10-11",
         1,
         0,
         "0.00",
         1
        ],
        [
         "2155-03-08",
         1,
         0,
         "0.00",
         1
        ],
        [
         "2155-03-10",
         1,
         1,
         "100.00",
         0
        ],
        [
         "2155-03-11",
         1,
         1,
         "100.00",
         0
        ],
        [
         "2155-12-16",
         1,
         1,
         "100.00",
         0
        ],
        [
         "2155-12-17",
         1,
         1,
         "100.00",
         0
        ],
        [
         "2155-12-24",
         1,
         0,
         "0.00",
         1
        ],
        [
         "2159-11-17",
         1,
         1,
         "100.00",
         0
        ],
        [
         "2159-11-20",
         1,
         1,
         "100.00",
         0
        ],
        [
         "2159-11-22",
         1,
         0,
         "0.00",
         1
        ],
        [
         "2160-05-04",
         1,
         1,
         "100.00",
         0
        ],
        [
         "2160-05-05",
         1,
         1,
         "100.00",
         0
        ],
        [
         "2160-05-08",
         1,
         0,
         "0.00",
         1
        ],
        [
         "2160-12-16",
         1,
         1,
         "100.00",
         0
        ],
        [
         "2160-12-17",
         1,
         1,
         "100.00",
         0
        ],
        [
         "2160-12-21",
         1,
         0,
         "0.00",
         1
        ],
        [
         "2160-12-26",
         1,
         1,
         "100.00",
         0
        ],
        [
         "2160-12-27",
         1,
         1,
         "100.00",
         0
        ],
        [
         "2161-01-30",
         1,
         0,
         "0.00",
         1
        ],
        [
         "2161-02-04",
         1,
         1,
         "100.00",
         0
        ],
        [
         "2161-02-06",
         1,
         1,
         "100.00",
         0
        ],
        [
         "2161-02-19",
         1,
         0,
         "0.00",
         1
        ],
        [
         "2161-09-14",
         1,
         0,
         "0.00",
         1
        ],
        [
         "2161-09-15",
         1,
         1,
         "100.00",
         0
        ],
        [
         "2161-09-17",
         1,
         1,
         "100.00",
         0
        ],
        [
         "2161-09-19",
         1,
         0,
         "0.00",
         1
        ],
        [
         "2162-01-16",
         1,
         1,
         "100.00",
         0
        ],
        [
         "2162-01-17",
         1,
         1,
         "100.00",
         0
        ],
        [
         "2162-01-19",
         1,
         0,
         "0.00",
         1
        ],
        [
         "2163-05-14",
         1,
         1,
         "100.00",
         0
        ],
        [
         "2163-05-15",
         1,
         1,
         "100.00",
         0
        ],
        [
         "2163-05-16",
         0,
         1,
         null,
         -1
        ],
        [
         "2163-11-21",
         2,
         1,
         "50.00",
         1
        ],
        [
         "2163-11-22",
         2,
         1,
         "50.00",
         1
        ],
        [
         "2163-11-24",
         2,
         1,
         "50.00",
         1
        ],
        [
         "2163-11-25",
         2,
         1,
         "50.00",
         1
        ],
        [
         "2163-12-01",
         2,
         0,
         "0.00",
         2
        ],
        [
         "2164-10-23",
         1,
         1,
         "100.00",
         0
        ],
        [
         "2164-10-25",
         1,
         1,
         "100.00",
         0
        ],
        [
         "2164-11-01",
         1,
         0,
         "0.00",
         1
        ],
        [
         "2165-12-19",
         1,
         1,
         "100.00",
         0
        ],
        [
         "2165-12-21",
         1,
         1,
         "100.00",
         0
        ],
        [
         "2165-12-25",
         1,
         0,
         "0.00",
         1
        ],
        [
         "2166-02-12",
         1,
         1,
         "100.00",
         0
        ],
        [
         "2166-02-26",
         1,
         1,
         "100.00",
         0
        ],
        [
         "2167-02-11",
         1,
         1,
         "100.00",
         0
        ],
        [
         "2167-02-12",
         1,
         1,
         "100.00",
         0
        ],
        [
         "2167-02-19",
         1,
         0,
         "0.00",
         1
        ],
        [
         "2169-05-06",
         2,
         1,
         "50.00",
         1
        ],
        [
         "2169-05-08",
         2,
         1,
         "50.00",
         1
        ],
        [
         "2169-05-11",
         2,
         1,
         "50.00",
         1
        ],
        [
         "2169-05-12",
         2,
         1,
         "50.00",
         1
        ],
        [
         "2170-12-02",
         1,
         1,
         "100.00",
         0
        ],
        [
         "2170-12-03",
         1,
         1,
         "100.00",
         0
        ],
        [
         "2170-12-15",
         1,
         1,
         "100.00",
         0
        ],
        [
         "2170-12-19",
         1,
         1,
         "100.00",
         0
        ],
        [
         "2170-12-24",
         1,
         0,
         "0.00",
         1
        ],
        [
         "2171-07-12",
         1,
         1,
         "100.00",
         0
        ],
        [
         "2171-08-16",
         1,
         1,
         "100.00",
         0
        ],
        [
         "2171-08-17",
         0,
         1,
         null,
         -1
        ],
        [
         "2171-10-30",
         1,
         1,
         "100.00",
         0
        ],
        [
         "2171-11-04",
         1,
         1,
         "100.00",
         0
        ],
        [
         "2171-11-06",
         1,
         0,
         "0.00",
         1
        ],
        [
         "2173-11-27",
         1,
         1,
         "100.00",
         0
        ],
        [
         "2173-11-28",
         1,
         1,
         "100.00",
         0
        ],
        [
         "2173-11-30",
         1,
         0,
         "0.00",
         1
        ],
        [
         "2175-10-02",
         1,
         1,
         "100.00",
         0
        ],
        [
         "2175-10-03",
         1,
         1,
         "100.00",
         0
        ],
        [
         "2175-10-06",
         1,
         0,
         "0.00",
         1
        ],
        [
         "2176-07-14",
         1,
         1,
         "100.00",
         0
        ],
        [
         "2176-07-16",
         1,
         1,
         "100.00",
         0
        ],
        [
         "2176-07-18",
         1,
         0,
         "0.00",
         1
        ],
        [
         "2178-05-14",
         1,
         1,
         "100.00",
         0
        ],
        [
         "2178-05-15",
         1,
         1,
         "100.00",
         0
        ],
        [
         "2179-04-17",
         1,
         1,
         "100.00",
         0
        ],
        [
         "2179-04-21",
         1,
         1,
         "100.00",
         0
        ],
        [
         "2179-04-23",
         1,
         0,
         "0.00",
         1
        ],
        [
         "2180-01-14",
         1,
         0,
         "0.00",
         1
        ],
        [
         "2180-01-21",
         1,
         1,
         "100.00",
         0
        ],
        [
         "2180-02-01",
         1,
         1,
         "100.00",
         0
        ],
        [
         "2180-02-29",
         1,
         1,
         "100.00",
         0
        ],
        [
         "2180-03-04",
         1,
         1,
         "100.00",
         0
        ],
        [
         "2180-03-10",
         1,
         0,
         "0.00",
         1
        ],
        [
         "2180-03-15",
         1,
         1,
         "100.00",
         0
        ],
        [
         "2180-03-19",
         1,
         1,
         "100.00",
         0
        ],
        [
         "2180-03-20",
         1,
         0,
         "0.00",
         1
        ],
        [
         "2180-07-19",
         1,
         1,
         "100.00",
         0
        ],
        [
         "2180-07-20",
         1,
         1,
         "100.00",
         0
        ],
        [
         "2184-08-04",
         1,
         1,
         "100.00",
         0
        ],
        [
         "2184-08-06",
         1,
         1,
         "100.00",
         0
        ],
        [
         "2184-08-10",
         1,
         0,
         "0.00",
         1
        ],
        [
         "2185-03-24",
         1,
         1,
         "100.00",
         0
        ],
        [
         "2185-03-26",
         1,
         1,
         "100.00",
         0
        ],
        [
         "2185-04-14",
         1,
         1,
         "100.00",
         0
        ],
        [
         "2185-04-16",
         1,
         1,
         "100.00",
         0
        ],
        [
         "2185-04-26",
         1,
         0,
         "0.00",
         1
        ],
        [
         "2186-02-09",
         1,
         1,
         "100.00",
         0
        ],
        [
         "2186-02-12",
         1,
         1,
         "100.00",
         0
        ],
        [
         "2186-07-06",
         1,
         1,
         "100.00",
         0
        ],
        [
         "2186-07-07",
         1,
         1,
         "100.00",
         0
        ],
        [
         "2188-02-08",
         1,
         0,
         "0.00",
         1
        ],
        [
         "2188-02-12",
         1,
         1,
         "100.00",
         0
        ],
        [
         "2188-02-27",
         1,
         1,
         "100.00",
         0
        ],
        [
         "2189-09-08",
         1,
         1,
         "100.00",
         0
        ],
        [
         "2189-09-10",
         1,
         1,
         "100.00",
         0
        ],
        [
         "2189-09-20",
         1,
         0,
         "0.00",
         1
        ],
        [
         "2190-07-13",
         1,
         1,
         "100.00",
         0
        ],
        [
         "2190-07-20",
         1,
         1,
         "100.00",
         0
        ],
        [
         "2190-07-25",
         1,
         0,
         "0.00",
         1
        ],
        [
         "2192-03-26",
         1,
         0,
         "0.00",
         1
        ],
        [
         "2192-03-29",
         1,
         1,
         "100.00",
         0
        ],
        [
         "2192-04-01",
         1,
         1,
         "100.00",
         0
        ],
        [
         "2192-04-05",
         1,
         0,
         "0.00",
         1
        ],
        [
         "2192-04-16",
         3,
         1,
         "33.33",
         2
        ],
        [
         "2192-04-20",
         3,
         1,
         "33.33",
         2
        ],
        [
         "2192-04-24",
         3,
         1,
         "33.33",
         2
        ],
        [
         "2192-04-26",
         3,
         1,
         "33.33",
         2
        ],
        [
         "2192-04-30",
         3,
         1,
         "33.33",
         2
        ],
        [
         "2192-05-15",
         3,
         1,
         "33.33",
         2
        ],
        [
         "2192-11-20",
         1,
         1,
         "100.00",
         0
        ],
        [
         "2192-11-24",
         1,
         1,
         "100.00",
         0
        ],
        [
         "2192-12-07",
         1,
         0,
         "0.00",
         1
        ],
        [
         "2193-10-15",
         1,
         1,
         "100.00",
         0
        ],
        [
         "2193-10-17",
         1,
         1,
         "100.00",
         0
        ],
        [
         "2193-10-20",
         1,
         0,
         "0.00",
         1
        ],
        [
         "2194-07-26",
         1,
         1,
         "100.00",
         0
        ],
        [
         "2194-07-29",
         1,
         1,
         "100.00",
         0
        ],
        [
         "2194-08-06",
         1,
         0,
         "0.00",
         1
        ],
        [
         "2195-05-17",
         1,
         1,
         "100.00",
         0
        ],
        [
         "2195-05-19",
         1,
         1,
         "100.00",
         0
        ],
        [
         "2195-05-24",
         1,
         0,
         "0.00",
         1
        ],
        [
         "2198-06-28",
         1,
         1,
         "100.00",
         0
        ],
        [
         "2198-06-29",
         2,
         2,
         "100.00",
         0
        ],
        [
         "2198-07-06",
         2,
         2,
         "100.00",
         0
        ],
        [
         "2198-07-20",
         2,
         1,
         "50.00",
         1
        ],
        [
         "2198-08-07",
         1,
         0,
         "0.00",
         1
        ],
        [
         "2198-10-29",
         1,
         1,
         "100.00",
         0
        ],
        [
         "2198-10-31",
         1,
         1,
         "100.00",
         0
        ],
        [
         "2198-11-05",
         1,
         0,
         "0.00",
         1
        ],
        [
         "2199-01-13",
         1,
         1,
         "100.00",
         0
        ],
        [
         "2199-01-16",
         1,
         1,
         "100.00",
         0
        ],
        [
         "2199-01-31",
         1,
         1,
         "100.00",
         0
        ],
        [
         "2199-02-11",
         1,
         1,
         "100.00",
         0
        ],
        [
         "2199-02-14",
         1,
         0,
         "0.00",
         1
        ],
        [
         "2200-03-17",
         1,
         1,
         "100.00",
         0
        ],
        [
         "2200-03-28",
         1,
         1,
         "100.00",
         0
        ],
        [
         "2200-06-09",
         1,
         1,
         "100.00",
         0
        ],
        [
         "2200-06-11",
         1,
         1,
         "100.00",
         0
        ],
        [
         "2200-06-13",
         1,
         0,
         "0.00",
         1
        ],
        [
         "2200-10-29",
         1,
         1,
         "100.00",
         0
        ],
        [
         "2200-11-03",
         1,
         1,
         "100.00",
         0
        ],
        [
         "2201-05-12",
         1,
         1,
         "100.00",
         0
        ],
        [
         "2201-05-13",
         1,
         1,
         "100.00",
         0
        ],
        [
         "2201-05-19",
         1,
         0,
         "0.00",
         1
        ],
        [
         "2201-08-10",
         1,
         1,
         "100.00",
         0
        ],
        [
         "2201-08-11",
         1,
         1,
         "100.00",
         0
        ],
        [
         "2201-08-13",
         1,
         0,
         "0.00",
         1
        ],
        [
         "2201-09-28",
         1,
         1,
         "100.00",
         0
        ],
        [
         "2201-10-01",
         1,
         1,
         "100.00",
         0
        ],
        [
         "2201-11-16",
         1,
         1,
         "100.00",
         0
        ],
        [
         "2201-11-19",
         1,
         1,
         "100.00",
         0
        ],
        [
         "2201-12-31",
         1,
         1,
         "100.00",
         0
        ],
        [
         "2202-01-01",
         1,
         1,
         "100.00",
         0
        ],
        [
         "2202-01-03",
         1,
         0,
         "0.00",
         1
        ],
        [
         "2202-02-15",
         1,
         1,
         "100.00",
         0
        ],
        [
         "2202-02-17",
         1,
         1,
         "100.00",
         0
        ],
        [
         "2202-02-19",
         1,
         0,
         "0.00",
         1
        ],
        [
         "2202-05-01",
         1,
         1,
         "100.00",
         0
        ],
        [
         "2202-05-02",
         1,
         1,
         "100.00",
         0
        ],
        [
         "2202-05-04",
         1,
         0,
         "0.00",
         1
        ],
        [
         "2202-09-16",
         1,
         1,
         "100.00",
         0
        ],
        [
         "2202-09-18",
         1,
         1,
         "100.00",
         0
        ],
        [
         "2202-09-23",
         1,
         0,
         "0.00",
         1
        ],
        [
         "2202-10-03",
         1,
         1,
         "100.00",
         0
        ],
        [
         "2202-10-04",
         1,
         1,
         "100.00",
         0
        ],
        [
         "2202-10-11",
         1,
         0,
         "0.00",
         1
        ]
       ],
       "datasetInfos": [],
       "dbfsResultPath": null,
       "isJsonSchema": true,
       "metadata": {
        "dataframeName": "_sqldf",
        "executionCount": 15
       },
       "overflow": false,
       "plotOptions": {
        "customPlotOptions": {},
        "displayType": "table",
        "pivotAggregation": null,
        "pivotColumns": null,
        "xColumns": null,
        "yColumns": null
       },
       "removedWidgets": [],
       "schema": [
        {
         "metadata": "{}",
         "name": "calendar_date",
         "type": "\"date\""
        },
        {
         "metadata": "{}",
         "name": "hospital_census",
         "type": "\"long\""
        },
        {
         "metadata": "{}",
         "name": "icu_census",
         "type": "\"long\""
        },
        {
         "metadata": "{}",
         "name": "icu_occupancy_rate",
         "type": "\"decimal(27,2)\""
        },
        {
         "metadata": "{}",
         "name": "general_ward_census",
         "type": "\"long\""
        }
       ],
       "type": "table"
      }
     },
     "output_type": "display_data"
    }
   ],
   "source": [
    "%sql\n",
    "WITH daily_census AS (\n",
    "    SELECT \n",
    "        calendar_date,\n",
    "        SUM(CASE WHEN calendar_date BETWEEN DATE(a.admittime) AND DATE(a.dischtime) THEN 1 ELSE 0 END) as hospital_census,\n",
    "        SUM(CASE WHEN calendar_date BETWEEN DATE(i.intime) AND DATE(i.outtime) THEN 1 ELSE 0 END) as icu_census\n",
    "    FROM (\n",
    "        SELECT DISTINCT DATE(admittime) as calendar_date FROM mimicdata_2567611159492892.mimic.admissions\n",
    "        UNION\n",
    "        SELECT DISTINCT DATE(dischtime) FROM mimicdata_2567611159492892.mimic.admissions\n",
    "        UNION\n",
    "        SELECT DISTINCT DATE(intime) FROM mimicdata_2567611159492892.mimic.icustays\n",
    "        UNION\n",
    "        SELECT DISTINCT DATE(outtime) FROM mimicdata_2567611159492892.mimic.icustays\n",
    "    ) dates\n",
    "    CROSS JOIN mimicdata_2567611159492892.mimic.admissions a\n",
    "    LEFT JOIN mimicdata_2567611159492892.mimic.icustays i ON a.hadm_id = i.hadm_id\n",
    "    GROUP BY calendar_date\n",
    ")\n",
    "SELECT \n",
    "    calendar_date,\n",
    "    hospital_census,\n",
    "    icu_census,\n",
    "    ROUND(100.0 * icu_census / NULLIF(hospital_census, 0), 2) as icu_occupancy_rate,\n",
    "    hospital_census - icu_census as general_ward_census\n",
    "FROM daily_census\n",
    "WHERE calendar_date IS NOT NULL\n",
    "ORDER BY calendar_date;"
   ]
  },
  {
   "cell_type": "code",
   "execution_count": 0,
   "metadata": {
    "application/vnd.databricks.v1+cell": {
     "cellMetadata": {
      "byteLimit": 2048000,
      "implicitDf": true,
      "rowLimit": 10000
     },
     "inputWidgets": {},
     "nuid": "cec8630f-6404-4936-98ef-1132383d4cd2",
     "showTitle": false,
     "tableResultSettingsMap": {},
     "title": ""
    }
   },
   "outputs": [
    {
     "output_type": "display_data",
     "data": {
      "text/html": [
       "<style scoped>\n",
       "  .table-result-container {\n",
       "    max-height: 300px;\n",
       "    overflow: auto;\n",
       "  }\n",
       "  table, th, td {\n",
       "    border: 1px solid black;\n",
       "    border-collapse: collapse;\n",
       "  }\n",
       "  th, td {\n",
       "    padding: 5px;\n",
       "  }\n",
       "  th {\n",
       "    text-align: left;\n",
       "  }\n",
       "</style><div class='table-result-container'><table class='table-result'><thead style='background-color: white'><tr><th>admission_month</th><th>season</th><th>admission_type</th><th>avg_monthly_admissions</th><th>avg_icu_transfer_rate</th><th>avg_mortality_rate</th><th>avg_length_of_stay</th></tr></thead><tbody><tr><td>1</td><td>Winter</td><td>EMERGENCY</td><td>1.4285714285714286</td><td>100.00</td><td>28.57</td><td>9.6</td></tr><tr><td>1</td><td>Winter</td><td>URGENT</td><td>1.0</td><td>100.00</td><td>100.00</td><td>6.0</td></tr><tr><td>2</td><td>Winter</td><td>EMERGENCY</td><td>1.1</td><td>100.00</td><td>40.00</td><td>9.05</td></tr><tr><td>3</td><td>Spring</td><td>ELECTIVE</td><td>1.0</td><td>100.00</td><td>0.00</td><td>4.0</td></tr><tr><td>3</td><td>Spring</td><td>EMERGENCY</td><td>1.0</td><td>100.00</td><td>66.67</td><td>5.78</td></tr><tr><td>4</td><td>Spring</td><td>EMERGENCY</td><td>1.5</td><td>100.00</td><td>25.00</td><td>15.0</td></tr><tr><td>5</td><td>Spring</td><td>ELECTIVE</td><td>1.0</td><td>100.00</td><td>0.00</td><td>7.0</td></tr><tr><td>5</td><td>Spring</td><td>EMERGENCY</td><td>1.1538461538461537</td><td>100.00</td><td>38.46</td><td>5.35</td></tr><tr><td>6</td><td>Summer</td><td>ELECTIVE</td><td>1.0</td><td>100.00</td><td>0.00</td><td>39.0</td></tr><tr><td>6</td><td>Summer</td><td>EMERGENCY</td><td>1.0</td><td>100.00</td><td>0.00</td><td>10.67</td></tr><tr><td>7</td><td>Summer</td><td>ELECTIVE</td><td>1.0</td><td>100.00</td><td>0.00</td><td>12.0</td></tr><tr><td>7</td><td>Summer</td><td>EMERGENCY</td><td>1.1</td><td>100.00</td><td>30.00</td><td>14.7</td></tr><tr><td>8</td><td>Summer</td><td>ELECTIVE</td><td>1.0</td><td>100.00</td><td>0.00</td><td>8.0</td></tr><tr><td>8</td><td>Summer</td><td>EMERGENCY</td><td>1.1818181818181819</td><td>100.00</td><td>22.73</td><td>7.73</td></tr><tr><td>9</td><td>Fall</td><td>ELECTIVE</td><td>1.0</td><td>100.00</td><td>0.00</td><td>12.0</td></tr><tr><td>9</td><td>Fall</td><td>EMERGENCY</td><td>1.0</td><td>100.00</td><td>14.29</td><td>5.29</td></tr><tr><td>10</td><td>Fall</td><td>ELECTIVE</td><td>1.0</td><td>100.00</td><td>0.00</td><td>4.5</td></tr><tr><td>10</td><td>Fall</td><td>EMERGENCY</td><td>1.1428571428571428</td><td>100.00</td><td>39.29</td><td>10.11</td></tr><tr><td>10</td><td>Fall</td><td>URGENT</td><td>1.0</td><td>100.00</td><td>0.00</td><td>7.0</td></tr><tr><td>11</td><td>Fall</td><td>EMERGENCY</td><td>1.2</td><td>100.00</td><td>40.00</td><td>9.9</td></tr><tr><td>12</td><td>Winter</td><td>EMERGENCY</td><td>1.3</td><td>100.00</td><td>30.00</td><td>7.3</td></tr></tbody></table></div>"
      ]
     },
     "metadata": {
      "application/vnd.databricks.v1+output": {
       "addedWidgets": {},
       "aggData": [],
       "aggError": "",
       "aggOverflow": false,
       "aggSchema": [],
       "aggSeriesLimitReached": false,
       "aggType": "",
       "arguments": {},
       "columnCustomDisplayInfos": {},
       "data": [
        [
         1,
         "Winter",
         "EMERGENCY",
         1.4285714285714286,
         "100.00",
         "28.57",
         9.6
        ],
        [
         1,
         "Winter",
         "URGENT",
         1.0,
         "100.00",
         "100.00",
         6.0
        ],
        [
         2,
         "Winter",
         "EMERGENCY",
         1.1,
         "100.00",
         "40.00",
         9.05
        ],
        [
         3,
         "Spring",
         "ELECTIVE",
         1.0,
         "100.00",
         "0.00",
         4.0
        ],
        [
         3,
         "Spring",
         "EMERGENCY",
         1.0,
         "100.00",
         "66.67",
         5.78
        ],
        [
         4,
         "Spring",
         "EMERGENCY",
         1.5,
         "100.00",
         "25.00",
         15.0
        ],
        [
         5,
         "Spring",
         "ELECTIVE",
         1.0,
         "100.00",
         "0.00",
         7.0
        ],
        [
         5,
         "Spring",
         "EMERGENCY",
         1.1538461538461537,
         "100.00",
         "38.46",
         5.35
        ],
        [
         6,
         "Summer",
         "ELECTIVE",
         1.0,
         "100.00",
         "0.00",
         39.0
        ],
        [
         6,
         "Summer",
         "EMERGENCY",
         1.0,
         "100.00",
         "0.00",
         10.67
        ],
        [
         7,
         "Summer",
         "ELECTIVE",
         1.0,
         "100.00",
         "0.00",
         12.0
        ],
        [
         7,
         "Summer",
         "EMERGENCY",
         1.1,
         "100.00",
         "30.00",
         14.7
        ],
        [
         8,
         "Summer",
         "ELECTIVE",
         1.0,
         "100.00",
         "0.00",
         8.0
        ],
        [
         8,
         "Summer",
         "EMERGENCY",
         1.1818181818181819,
         "100.00",
         "22.73",
         7.73
        ],
        [
         9,
         "Fall",
         "ELECTIVE",
         1.0,
         "100.00",
         "0.00",
         12.0
        ],
        [
         9,
         "Fall",
         "EMERGENCY",
         1.0,
         "100.00",
         "14.29",
         5.29
        ],
        [
         10,
         "Fall",
         "ELECTIVE",
         1.0,
         "100.00",
         "0.00",
         4.5
        ],
        [
         10,
         "Fall",
         "EMERGENCY",
         1.1428571428571428,
         "100.00",
         "39.29",
         10.11
        ],
        [
         10,
         "Fall",
         "URGENT",
         1.0,
         "100.00",
         "0.00",
         7.0
        ],
        [
         11,
         "Fall",
         "EMERGENCY",
         1.2,
         "100.00",
         "40.00",
         9.9
        ],
        [
         12,
         "Winter",
         "EMERGENCY",
         1.3,
         "100.00",
         "30.00",
         7.3
        ]
       ],
       "datasetInfos": [],
       "dbfsResultPath": null,
       "isJsonSchema": true,
       "metadata": {
        "dataframeName": "_sqldf",
        "executionCount": 20
       },
       "overflow": false,
       "plotOptions": {
        "customPlotOptions": {},
        "displayType": "table",
        "pivotAggregation": null,
        "pivotColumns": null,
        "xColumns": null,
        "yColumns": null
       },
       "removedWidgets": [],
       "schema": [
        {
         "metadata": "{}",
         "name": "admission_month",
         "type": "\"integer\""
        },
        {
         "metadata": "{}",
         "name": "season",
         "type": "\"string\""
        },
        {
         "metadata": "{}",
         "name": "admission_type",
         "type": "\"string\""
        },
        {
         "metadata": "{}",
         "name": "avg_monthly_admissions",
         "type": "\"double\""
        },
        {
         "metadata": "{}",
         "name": "avg_icu_transfer_rate",
         "type": "\"decimal(23,2)\""
        },
        {
         "metadata": "{}",
         "name": "avg_mortality_rate",
         "type": "\"decimal(23,2)\""
        },
        {
         "metadata": "{}",
         "name": "avg_length_of_stay",
         "type": "\"double\""
        }
       ],
       "type": "table"
      }
     },
     "output_type": "display_data"
    },
    {
     "output_type": "display_data",
     "data": {
      "text/plain": [
       "Databricks visualization. Run in Databricks to view."
      ]
     },
     "metadata": {
      "application/vnd.databricks.v1.subcommand+json": {
       "baseErrorDetails": null,
       "bindings": {},
       "collapsed": false,
       "command": "%sql WITH q AS (WITH seasonal_patterns AS (\n    SELECT \n        EXTRACT(MONTH FROM a.admittime) as admission_month,\n        EXTRACT(YEAR FROM a.admittime) as admission_year,\n        a.admission_type,\n        COUNT(*) as admissions,\n        SUM(CASE WHEN i.icustay_id IS NOT NULL THEN 1 ELSE 0 END) as icu_transfers,\n        SUM(a.hospital_expire_flag) as deaths,\n        AVG(DATEDIFF(CAST(a.dischtime AS timestamp), CAST(a.admittime AS timestamp))) as avg_los\n    FROM mimicdata_2567611159492892.mimic.admissions a\n    LEFT JOIN mimicdata_2567611159492892.mimic.icustays i ON a.hadm_id = i.hadm_id\n    GROUP BY admission_month, admission_year, admission_type\n)\nSELECT \n    admission_month,\n    CASE \n        WHEN admission_month = 12 OR admission_month <= 2 THEN 'Winter'\n        WHEN admission_month <= 5 THEN 'Spring'\n        WHEN admission_month <= 8 THEN 'Summer'\n        ELSE 'Fall'\n    END as season,\n    admission_type,\n    AVG(admissions) as avg_monthly_admissions,\n    ROUND(AVG(100.0 * icu_transfers / admissions), 2) as avg_icu_transfer_rate,\n    ROUND(AVG(100.0 * deaths / admissions), 2) as avg_mortality_rate,\n    ROUND(AVG(avg_los), 2) as avg_length_of_stay\nFROM seasonal_patterns\nGROUP BY admission_month, season, admission_type\nORDER BY admission_month, admission_type) SELECT `season`,SUM(`avg_monthly_admissions`) `column_fbd94115335`,SUM(`avg_icu_transfer_rate`) `column_fbd94115338`,SUM(`avg_mortality_rate`) `column_fbd94115341`,SUM(`avg_length_of_stay`) `column_fbd94115344` FROM q GROUP BY `season`",
       "commandTitle": "Visualization 1",
       "commandType": "auto",
       "commandVersion": 0,
       "commentThread": [],
       "commentsVisible": false,
       "contentSha256Hex": null,
       "customPlotOptions": {
        "redashChart": [
         {
          "key": "type",
          "value": "CHART"
         },
         {
          "key": "options",
          "value": {
           "alignYAxesAtZero": true,
           "coefficient": 1,
           "columnConfigurationMap": {
            "x": {
             "column": "season",
             "id": "column_fbd94115330"
            },
            "y": [
             {
              "column": "avg_monthly_admissions",
              "id": "column_fbd94115335",
              "transform": "SUM"
             },
             {
              "column": "avg_icu_transfer_rate",
              "id": "column_fbd94115338",
              "transform": "SUM"
             },
             {
              "column": "avg_mortality_rate",
              "id": "column_fbd94115341",
              "transform": "SUM"
             },
             {
              "column": "avg_length_of_stay",
              "id": "column_fbd94115344",
              "transform": "SUM"
             }
            ]
           },
           "dateTimeFormat": "DD/MM/YYYY HH:mm",
           "direction": {
            "type": "counterclockwise"
           },
           "error_y": {
            "type": "data",
            "visible": true
           },
           "globalSeriesType": "column",
           "isAggregationOn": true,
           "legend": {
            "traceorder": "normal"
           },
           "missingValuesAsZero": true,
           "numberFormat": "0,0.[00000]",
           "percentFormat": "0[.]00%",
           "series": {
            "error_y": {
             "type": "data",
             "visible": true
            },
            "stacking": null
           },
           "seriesOptions": {
            "column_fbd94115332": {
             "type": "column",
             "yAxis": 0
            },
            "column_fbd94115335": {
             "type": "column",
             "yAxis": 0
            },
            "column_fbd94115338": {
             "type": "column",
             "yAxis": 0
            },
            "column_fbd94115341": {
             "type": "column",
             "yAxis": 0
            },
            "column_fbd94115344": {
             "type": "column",
             "yAxis": 0
            }
           },
           "showDataLabels": false,
           "sizemode": "diameter",
           "sortX": true,
           "sortY": true,
           "swappedAxes": false,
           "textFormat": "",
           "useAggregationsUi": true,
           "valuesOptions": {},
           "version": 2,
           "xAxis": {
            "labels": {
             "enabled": true
            },
            "type": "-"
           },
           "yAxis": [
            {
             "type": "-"
            },
            {
             "opposite": true,
             "type": "-"
            }
           ]
          }
         }
        ]
       },
       "datasetPreviewNameToCmdIdMap": {},
       "diffDeletes": [],
       "diffInserts": [],
       "displayType": "redashChart",
       "error": null,
       "errorDetails": null,
       "errorSummary": null,
       "errorTraceType": null,
       "finishTime": 0,
       "globalVars": {},
       "guid": "",
       "height": "auto",
       "hideCommandCode": false,
       "hideCommandResult": false,
       "iPythonMetadata": null,
       "inputWidgets": {},
       "isLockedInExamMode": false,
       "latestUser": "a user",
       "latestUserId": null,
       "listResultMetadata": null,
       "metadata": {},
       "nuid": "ddab0f9c-eefb-4f8d-9d8a-a72b828b99bb",
       "origId": 0,
       "parentHierarchy": [],
       "pivotAggregation": null,
       "pivotColumns": null,
       "position": 15.0,
       "resultDbfsErrorMessage": null,
       "resultDbfsStatus": "INLINED_IN_TREE",
       "results": null,
       "showCommandTitle": false,
       "startTime": 0,
       "state": "input",
       "streamStates": {},
       "subcommandOptions": {
        "queryPlan": {
         "groups": [
          {
           "column": "season",
           "type": "column"
          }
         ],
         "selects": [
          {
           "column": "season",
           "type": "column"
          },
          {
           "alias": "column_fbd94115335",
           "args": [
            {
             "column": "avg_monthly_admissions",
             "type": "column"
            }
           ],
           "function": "SUM",
           "type": "function"
          },
          {
           "alias": "column_fbd94115338",
           "args": [
            {
             "column": "avg_icu_transfer_rate",
             "type": "column"
            }
           ],
           "function": "SUM",
           "type": "function"
          },
          {
           "alias": "column_fbd94115341",
           "args": [
            {
             "column": "avg_mortality_rate",
             "type": "column"
            }
           ],
           "function": "SUM",
           "type": "function"
          },
          {
           "alias": "column_fbd94115344",
           "args": [
            {
             "column": "avg_length_of_stay",
             "type": "column"
            }
           ],
           "function": "SUM",
           "type": "function"
          }
         ]
        }
       },
       "submitTime": 0,
       "subtype": "tableResultSubCmd.visualization",
       "tableResultIndex": 0,
       "tableResultSettingsMap": {},
       "useConsistentColors": false,
       "version": "CommandV1",
       "width": "auto",
       "workflows": [],
       "xColumns": null,
       "yColumns": null
      }
     },
     "output_type": "display_data"
    }
   ],
   "source": [
    "%sql\n",
    "WITH seasonal_patterns AS (\n",
    "    SELECT \n",
    "        EXTRACT(MONTH FROM a.admittime) as admission_month,\n",
    "        EXTRACT(YEAR FROM a.admittime) as admission_year,\n",
    "        a.admission_type,\n",
    "        COUNT(*) as admissions,\n",
    "        SUM(CASE WHEN i.icustay_id IS NOT NULL THEN 1 ELSE 0 END) as icu_transfers,\n",
    "        SUM(a.hospital_expire_flag) as deaths,\n",
    "        AVG(DATEDIFF(CAST(a.dischtime AS timestamp), CAST(a.admittime AS timestamp))) as avg_los\n",
    "    FROM mimicdata_2567611159492892.mimic.admissions a\n",
    "    LEFT JOIN mimicdata_2567611159492892.mimic.icustays i ON a.hadm_id = i.hadm_id\n",
    "    GROUP BY admission_month, admission_year, admission_type\n",
    ")\n",
    "SELECT \n",
    "    admission_month,\n",
    "    CASE \n",
    "        WHEN admission_month = 12 OR admission_month <= 2 THEN 'Winter'\n",
    "        WHEN admission_month <= 5 THEN 'Spring'\n",
    "        WHEN admission_month <= 8 THEN 'Summer'\n",
    "        ELSE 'Fall'\n",
    "    END as season,\n",
    "    admission_type,\n",
    "    AVG(admissions) as avg_monthly_admissions,\n",
    "    ROUND(AVG(100.0 * icu_transfers / admissions), 2) as avg_icu_transfer_rate,\n",
    "    ROUND(AVG(100.0 * deaths / admissions), 2) as avg_mortality_rate,\n",
    "    ROUND(AVG(avg_los), 2) as avg_length_of_stay\n",
    "FROM seasonal_patterns\n",
    "GROUP BY admission_month, season, admission_type\n",
    "ORDER BY admission_month, admission_type;"
   ]
  },
  {
   "cell_type": "code",
   "execution_count": 0,
   "metadata": {
    "application/vnd.databricks.v1+cell": {
     "cellMetadata": {
      "byteLimit": 2048000,
      "implicitDf": true,
      "rowLimit": 10000
     },
     "inputWidgets": {},
     "nuid": "ceefa89d-0653-4ac3-ba77-b4344d8e2f4a",
     "showTitle": true,
     "tableResultSettingsMap": {},
     "title": "EMERGENCY VS ELECTIVE CARE PATHWAYS"
    }
   },
   "outputs": [
    {
     "output_type": "display_data",
     "data": {
      "text/html": [
       "<style scoped>\n",
       "  .table-result-container {\n",
       "    max-height: 300px;\n",
       "    overflow: auto;\n",
       "  }\n",
       "  table, th, td {\n",
       "    border: 1px solid black;\n",
       "    border-collapse: collapse;\n",
       "  }\n",
       "  th, td {\n",
       "    padding: 5px;\n",
       "  }\n",
       "  th {\n",
       "    text-align: left;\n",
       "  }\n",
       "</style><div class='table-result-container'><table class='table-result'><thead style='background-color: white'><tr><th>admission_type</th><th>total_admissions</th><th>avg_hospital_los</th><th>icu_utilization_rate</th><th>avg_icu_los</th><th>avg_hours_to_icu</th><th>mortality_rate</th><th>home_discharge_rate</th></tr></thead><tbody><tr><td>EMERGENCY</td><td>126</td><td>9.68</td><td>100.00</td><td>4.53</td><td>25.11</td><td>35.71</td><td>11.11</td></tr><tr><td>URGENT</td><td>2</td><td>6.26</td><td>100.00</td><td>5.21</td><td>0.03</td><td>50.00</td><td>0.00</td></tr><tr><td>ELECTIVE</td><td>8</td><td>11.67</td><td>100.00</td><td>3.01</td><td>14.65</td><td>0.00</td><td>12.50</td></tr></tbody></table></div>"
      ]
     },
     "metadata": {
      "application/vnd.databricks.v1+output": {
       "addedWidgets": {},
       "aggData": [],
       "aggError": "",
       "aggOverflow": false,
       "aggSchema": [],
       "aggSeriesLimitReached": false,
       "aggType": "",
       "arguments": {},
       "columnCustomDisplayInfos": {},
       "data": [
        [
         "EMERGENCY",
         126,
         9.68,
         "100.00",
         4.53,
         25.11,
         "35.71",
         "11.11"
        ],
        [
         "URGENT",
         2,
         6.26,
         "100.00",
         5.21,
         0.03,
         "50.00",
         "0.00"
        ],
        [
         "ELECTIVE",
         8,
         11.67,
         "100.00",
         3.01,
         14.65,
         "0.00",
         "12.50"
        ]
       ],
       "datasetInfos": [],
       "dbfsResultPath": null,
       "isJsonSchema": true,
       "metadata": {
        "dataframeName": "_sqldf",
        "executionCount": 22
       },
       "overflow": false,
       "plotOptions": {
        "customPlotOptions": {},
        "displayType": "table",
        "pivotAggregation": null,
        "pivotColumns": null,
        "xColumns": null,
        "yColumns": null
       },
       "removedWidgets": [],
       "schema": [
        {
         "metadata": "{}",
         "name": "admission_type",
         "type": "\"string\""
        },
        {
         "metadata": "{}",
         "name": "total_admissions",
         "type": "\"long\""
        },
        {
         "metadata": "{}",
         "name": "avg_hospital_los",
         "type": "\"double\""
        },
        {
         "metadata": "{}",
         "name": "icu_utilization_rate",
         "type": "\"decimal(27,2)\""
        },
        {
         "metadata": "{}",
         "name": "avg_icu_los",
         "type": "\"double\""
        },
        {
         "metadata": "{}",
         "name": "avg_hours_to_icu",
         "type": "\"double\""
        },
        {
         "metadata": "{}",
         "name": "mortality_rate",
         "type": "\"decimal(27,2)\""
        },
        {
         "metadata": "{}",
         "name": "home_discharge_rate",
         "type": "\"decimal(27,2)\""
        }
       ],
       "type": "table"
      }
     },
     "output_type": "display_data"
    },
    {
     "output_type": "display_data",
     "data": {
      "text/plain": [
       "Databricks visualization. Run in Databricks to view."
      ]
     },
     "metadata": {
      "application/vnd.databricks.v1.subcommand+json": {
       "baseErrorDetails": null,
       "bindings": {},
       "collapsed": false,
       "command": "%sql WITH q AS (WITH care_pathway_comparison AS (\n    SELECT \n        a.admission_type,\n        (UNIX_TIMESTAMP(a.dischtime) - UNIX_TIMESTAMP(a.admittime))/86400 as hospital_los,\n        CASE WHEN i.icustay_id IS NOT NULL THEN 1 ELSE 0 END as required_icu,\n        COALESCE(i.los, 0) as icu_los,\n        a.hospital_expire_flag,\n        a.discharge_location,\n        CASE \n            WHEN i.intime IS NOT NULL \n            THEN (UNIX_TIMESTAMP(i.intime) - UNIX_TIMESTAMP(a.admittime))/3600 \n            ELSE NULL \n        END as hours_to_icu\n    FROM mimicdata_2567611159492892.mimic.admissions a\n    LEFT JOIN mimicdata_2567611159492892.mimic.icustays i ON a.hadm_id = i.hadm_id\n    WHERE a.admission_type IN ('EMERGENCY', 'ELECTIVE', 'URGENT')\n)\nSELECT \n    admission_type,\n    COUNT(*) as total_admissions,\n    ROUND(AVG(hospital_los), 2) as avg_hospital_los,\n    ROUND(100.0 * SUM(required_icu) / COUNT(*), 2) as icu_utilization_rate,\n    ROUND(AVG(CASE WHEN required_icu = 1 THEN icu_los END), 2) as avg_icu_los,\n    ROUND(AVG(hours_to_icu), 2) as avg_hours_to_icu,\n    ROUND(100.0 * SUM(hospital_expire_flag) / COUNT(*), 2) as mortality_rate,\n    ROUND(100.0 * COUNT(CASE WHEN discharge_location = 'HOME' THEN 1 END) / COUNT(*), 2) as home_discharge_rate\nFROM care_pathway_comparison\nGROUP BY admission_type\nORDER BY \n    CASE admission_type \n        WHEN 'EMERGENCY' THEN 1\n        WHEN 'URGENT' THEN 2\n        WHEN 'ELECTIVE' THEN 3\n    END) SELECT `admission_type`,SUM(`total_admissions`) `column_fbd94115348`,SUM(`avg_hospital_los`) `column_fbd94115351`,SUM(`mortality_rate`) `column_fbd94115354`,SUM(`home_discharge_rate`) `column_fbd94115357` FROM q GROUP BY `admission_type`",
       "commandTitle": "Visualization 1",
       "commandType": "auto",
       "commandVersion": 0,
       "commentThread": [],
       "commentsVisible": false,
       "contentSha256Hex": null,
       "customPlotOptions": {
        "redashChart": [
         {
          "key": "type",
          "value": "CHART"
         },
         {
          "key": "options",
          "value": {
           "alignYAxesAtZero": true,
           "coefficient": 1,
           "columnConfigurationMap": {
            "x": {
             "column": "admission_type",
             "id": "column_fbd94115346"
            },
            "y": [
             {
              "column": "total_admissions",
              "id": "column_fbd94115348",
              "transform": "SUM"
             },
             {
              "column": "avg_hospital_los",
              "id": "column_fbd94115351",
              "transform": "SUM"
             },
             {
              "column": "mortality_rate",
              "id": "column_fbd94115354",
              "transform": "SUM"
             },
             {
              "column": "home_discharge_rate",
              "id": "column_fbd94115357",
              "transform": "SUM"
             }
            ]
           },
           "dateTimeFormat": "DD/MM/YYYY HH:mm",
           "direction": {
            "type": "counterclockwise"
           },
           "error_y": {
            "type": "data",
            "visible": true
           },
           "globalSeriesType": "column",
           "isAggregationOn": true,
           "legend": {
            "traceorder": "normal"
           },
           "missingValuesAsZero": true,
           "numberFormat": "0,0.[00000]",
           "percentFormat": "0[.]00%",
           "series": {
            "error_y": {
             "type": "data",
             "visible": true
            },
            "stacking": null
           },
           "seriesOptions": {
            "column_fbd94115348": {
             "type": "column",
             "yAxis": 0
            },
            "column_fbd94115351": {
             "type": "column",
             "yAxis": 0
            },
            "column_fbd94115354": {
             "type": "column",
             "yAxis": 0
            },
            "column_fbd94115357": {
             "type": "column",
             "yAxis": 0
            }
           },
           "showDataLabels": false,
           "sizemode": "diameter",
           "sortX": true,
           "sortY": true,
           "swappedAxes": false,
           "textFormat": "",
           "useAggregationsUi": true,
           "valuesOptions": {},
           "version": 2,
           "xAxis": {
            "labels": {
             "enabled": true
            },
            "type": "-"
           },
           "yAxis": [
            {
             "type": "-"
            },
            {
             "opposite": true,
             "type": "-"
            }
           ]
          }
         }
        ]
       },
       "datasetPreviewNameToCmdIdMap": {},
       "diffDeletes": [],
       "diffInserts": [],
       "displayType": "redashChart",
       "error": null,
       "errorDetails": null,
       "errorSummary": null,
       "errorTraceType": null,
       "finishTime": 0,
       "globalVars": {},
       "guid": "",
       "height": "auto",
       "hideCommandCode": false,
       "hideCommandResult": false,
       "iPythonMetadata": null,
       "inputWidgets": {},
       "isLockedInExamMode": false,
       "latestUser": "a user",
       "latestUserId": null,
       "listResultMetadata": null,
       "metadata": {},
       "nuid": "23266d21-4e8d-42e2-b083-0f7a84c05bd6",
       "origId": 0,
       "parentHierarchy": [],
       "pivotAggregation": null,
       "pivotColumns": null,
       "position": 16.0,
       "resultDbfsErrorMessage": null,
       "resultDbfsStatus": "INLINED_IN_TREE",
       "results": null,
       "showCommandTitle": false,
       "startTime": 0,
       "state": "input",
       "streamStates": {},
       "subcommandOptions": {
        "queryPlan": {
         "groups": [
          {
           "column": "admission_type",
           "type": "column"
          }
         ],
         "selects": [
          {
           "column": "admission_type",
           "type": "column"
          },
          {
           "alias": "column_fbd94115348",
           "args": [
            {
             "column": "total_admissions",
             "type": "column"
            }
           ],
           "function": "SUM",
           "type": "function"
          },
          {
           "alias": "column_fbd94115351",
           "args": [
            {
             "column": "avg_hospital_los",
             "type": "column"
            }
           ],
           "function": "SUM",
           "type": "function"
          },
          {
           "alias": "column_fbd94115354",
           "args": [
            {
             "column": "mortality_rate",
             "type": "column"
            }
           ],
           "function": "SUM",
           "type": "function"
          },
          {
           "alias": "column_fbd94115357",
           "args": [
            {
             "column": "home_discharge_rate",
             "type": "column"
            }
           ],
           "function": "SUM",
           "type": "function"
          }
         ]
        }
       },
       "submitTime": 0,
       "subtype": "tableResultSubCmd.visualization",
       "tableResultIndex": 0,
       "tableResultSettingsMap": {},
       "useConsistentColors": false,
       "version": "CommandV1",
       "width": "auto",
       "workflows": [],
       "xColumns": null,
       "yColumns": null
      }
     },
     "output_type": "display_data"
    }
   ],
   "source": [
    "%sql\n",
    "WITH care_pathway_comparison AS (\n",
    "    SELECT \n",
    "        a.admission_type,\n",
    "        (UNIX_TIMESTAMP(a.dischtime) - UNIX_TIMESTAMP(a.admittime))/86400 as hospital_los,\n",
    "        CASE WHEN i.icustay_id IS NOT NULL THEN 1 ELSE 0 END as required_icu,\n",
    "        COALESCE(i.los, 0) as icu_los,\n",
    "        a.hospital_expire_flag,\n",
    "        a.discharge_location,\n",
    "        CASE \n",
    "            WHEN i.intime IS NOT NULL \n",
    "            THEN (UNIX_TIMESTAMP(i.intime) - UNIX_TIMESTAMP(a.admittime))/3600 \n",
    "            ELSE NULL \n",
    "        END as hours_to_icu\n",
    "    FROM mimicdata_2567611159492892.mimic.admissions a\n",
    "    LEFT JOIN mimicdata_2567611159492892.mimic.icustays i ON a.hadm_id = i.hadm_id\n",
    "    WHERE a.admission_type IN ('EMERGENCY', 'ELECTIVE', 'URGENT')\n",
    ")\n",
    "SELECT \n",
    "    admission_type,\n",
    "    COUNT(*) as total_admissions,\n",
    "    ROUND(AVG(hospital_los), 2) as avg_hospital_los,\n",
    "    ROUND(100.0 * SUM(required_icu) / COUNT(*), 2) as icu_utilization_rate,\n",
    "    ROUND(AVG(CASE WHEN required_icu = 1 THEN icu_los END), 2) as avg_icu_los,\n",
    "    ROUND(AVG(hours_to_icu), 2) as avg_hours_to_icu,\n",
    "    ROUND(100.0 * SUM(hospital_expire_flag) / COUNT(*), 2) as mortality_rate,\n",
    "    ROUND(100.0 * COUNT(CASE WHEN discharge_location = 'HOME' THEN 1 END) / COUNT(*), 2) as home_discharge_rate\n",
    "FROM care_pathway_comparison\n",
    "GROUP BY admission_type\n",
    "ORDER BY \n",
    "    CASE admission_type \n",
    "        WHEN 'EMERGENCY' THEN 1\n",
    "        WHEN 'URGENT' THEN 2\n",
    "        WHEN 'ELECTIVE' THEN 3\n",
    "    END;"
   ]
  },
  {
   "cell_type": "code",
   "execution_count": 0,
   "metadata": {
    "application/vnd.databricks.v1+cell": {
     "cellMetadata": {
      "byteLimit": 2048000,
      "implicitDf": true,
      "rowLimit": 10000
     },
     "inputWidgets": {},
     "nuid": "c90d357c-f7ba-4600-bff9-3426f1ca08d9",
     "showTitle": true,
     "tableResultSettingsMap": {},
     "title": "INSURANCE IMPACT ON CARE DELIVERY"
    }
   },
   "outputs": [
    {
     "output_type": "display_data",
     "data": {
      "text/html": [
       "<style scoped>\n",
       "  .table-result-container {\n",
       "    max-height: 300px;\n",
       "    overflow: auto;\n",
       "  }\n",
       "  table, th, td {\n",
       "    border: 1px solid black;\n",
       "    border-collapse: collapse;\n",
       "  }\n",
       "  th, td {\n",
       "    padding: 5px;\n",
       "  }\n",
       "  th {\n",
       "    text-align: left;\n",
       "  }\n",
       "</style><div class='table-result-container'><table class='table-result'><thead style='background-color: white'><tr><th>insurance</th><th>total_patients</th><th>avg_age</th><th>female_percentage</th><th>avg_hospital_los</th><th>icu_utilization_rate</th><th>avg_icu_los</th><th>mortality_rate</th><th>home_discharge_rate</th></tr></thead><tbody><tr><td>Medicare</td><td>105</td><td>94.5</td><td>48.57</td><td>8.45</td><td>100.00</td><td>3.93</td><td>33.33</td><td>9.52</td></tr><tr><td>Private</td><td>24</td><td>52.9</td><td>41.67</td><td>15.12</td><td>100.00</td><td>5.89</td><td>25.00</td><td>16.67</td></tr></tbody></table></div>"
      ]
     },
     "metadata": {
      "application/vnd.databricks.v1+output": {
       "addedWidgets": {},
       "aggData": [],
       "aggError": "",
       "aggOverflow": false,
       "aggSchema": [],
       "aggSeriesLimitReached": false,
       "aggType": "",
       "arguments": {},
       "columnCustomDisplayInfos": {},
       "data": [
        [
         "Medicare",
         105,
         94.5,
         "48.57",
         8.45,
         "100.00",
         3.93,
         "33.33",
         "9.52"
        ],
        [
         "Private",
         24,
         52.9,
         "41.67",
         15.12,
         "100.00",
         5.89,
         "25.00",
         "16.67"
        ]
       ],
       "datasetInfos": [],
       "dbfsResultPath": null,
       "isJsonSchema": true,
       "metadata": {
        "dataframeName": "_sqldf",
        "executionCount": 24
       },
       "overflow": false,
       "plotOptions": {
        "customPlotOptions": {},
        "displayType": "table",
        "pivotAggregation": null,
        "pivotColumns": null,
        "xColumns": null,
        "yColumns": null
       },
       "removedWidgets": [],
       "schema": [
        {
         "metadata": "{}",
         "name": "insurance",
         "type": "\"string\""
        },
        {
         "metadata": "{}",
         "name": "total_patients",
         "type": "\"long\""
        },
        {
         "metadata": "{}",
         "name": "avg_age",
         "type": "\"double\""
        },
        {
         "metadata": "{}",
         "name": "female_percentage",
         "type": "\"decimal(27,2)\""
        },
        {
         "metadata": "{}",
         "name": "avg_hospital_los",
         "type": "\"double\""
        },
        {
         "metadata": "{}",
         "name": "icu_utilization_rate",
         "type": "\"decimal(27,2)\""
        },
        {
         "metadata": "{}",
         "name": "avg_icu_los",
         "type": "\"double\""
        },
        {
         "metadata": "{}",
         "name": "mortality_rate",
         "type": "\"decimal(27,2)\""
        },
        {
         "metadata": "{}",
         "name": "home_discharge_rate",
         "type": "\"decimal(27,2)\""
        }
       ],
       "type": "table"
      }
     },
     "output_type": "display_data"
    },
    {
     "output_type": "display_data",
     "data": {
      "text/plain": [
       "Databricks visualization. Run in Databricks to view."
      ]
     },
     "metadata": {
      "application/vnd.databricks.v1.subcommand+json": {
       "baseErrorDetails": null,
       "bindings": {},
       "collapsed": false,
       "command": "%sql WITH q AS (WITH insurance_analysis AS (\n    SELECT \n        a.insurance,\n        EXTRACT(YEAR FROM a.admittime) - EXTRACT(YEAR FROM p.dob) as age,\n        p.gender,\n        a.ethnicity,\n        (unix_timestamp(a.dischtime) - unix_timestamp(a.admittime))/86400 as hospital_los,\n        CASE WHEN i.icustay_id IS NOT NULL THEN 1 ELSE 0 END as used_icu,\n        COALESCE(i.los, 0) as icu_los,\n        a.hospital_expire_flag,\n        a.discharge_location\n    FROM mimicdata_2567611159492892.mimic.patients p\n    JOIN mimicdata_2567611159492892.mimic.admissions a ON p.subject_id = a.subject_id\n    LEFT JOIN mimicdata_2567611159492892.mimic.icustays i ON a.hadm_id = i.hadm_id\n    WHERE a.insurance IS NOT NULL\n)\nSELECT \n    insurance,\n    COUNT(*) as total_patients,\n    ROUND(AVG(age), 1) as avg_age,\n    ROUND(100.0 * SUM(CASE WHEN gender = 'F' THEN 1 ELSE 0 END) / COUNT(*), 2) as female_percentage,\n    ROUND(AVG(hospital_los), 2) as avg_hospital_los,\n    ROUND(100.0 * SUM(used_icu) / COUNT(*), 2) as icu_utilization_rate,\n    ROUND(AVG(CASE WHEN used_icu = 1 THEN icu_los END), 2) as avg_icu_los,\n    ROUND(100.0 * SUM(hospital_expire_flag) / COUNT(*), 2) as mortality_rate,\n    ROUND(100.0 * COUNT(CASE WHEN discharge_location = 'HOME' THEN 1 END) / COUNT(*), 2) as home_discharge_rate\nFROM insurance_analysis\nGROUP BY insurance\nHAVING COUNT(*) >= 10\nORDER BY total_patients DESC) SELECT `insurance`,SUM(`total_patients`) `column_fbd94115361`,SUM(`female_percentage`) `column_fbd94115364`,SUM(`icu_utilization_rate`) `column_fbd94115367`,SUM(`mortality_rate`) `column_fbd94115370`,SUM(`home_discharge_rate`) `column_fbd94115373` FROM q GROUP BY `insurance`",
       "commandTitle": "Visualization 1",
       "commandType": "auto",
       "commandVersion": 0,
       "commentThread": [],
       "commentsVisible": false,
       "contentSha256Hex": null,
       "customPlotOptions": {
        "redashChart": [
         {
          "key": "type",
          "value": "CHART"
         },
         {
          "key": "options",
          "value": {
           "alignYAxesAtZero": true,
           "coefficient": 1,
           "columnConfigurationMap": {
            "x": {
             "column": "insurance",
             "id": "column_fbd94115359"
            },
            "y": [
             {
              "column": "total_patients",
              "id": "column_fbd94115361",
              "transform": "SUM"
             },
             {
              "column": "female_percentage",
              "id": "column_fbd94115364",
              "transform": "SUM"
             },
             {
              "column": "icu_utilization_rate",
              "id": "column_fbd94115367",
              "transform": "SUM"
             },
             {
              "column": "mortality_rate",
              "id": "column_fbd94115370",
              "transform": "SUM"
             },
             {
              "column": "home_discharge_rate",
              "id": "column_fbd94115373",
              "transform": "SUM"
             }
            ]
           },
           "dateTimeFormat": "DD/MM/YYYY HH:mm",
           "direction": {
            "type": "counterclockwise"
           },
           "error_y": {
            "type": "data",
            "visible": true
           },
           "globalSeriesType": "column",
           "isAggregationOn": true,
           "legend": {
            "traceorder": "normal"
           },
           "missingValuesAsZero": true,
           "numberFormat": "0,0.[00000]",
           "percentFormat": "0[.]00%",
           "series": {
            "error_y": {
             "type": "data",
             "visible": true
            },
            "stacking": null
           },
           "seriesOptions": {
            "column_fbd94115361": {
             "type": "column",
             "yAxis": 0
            },
            "column_fbd94115364": {
             "type": "column",
             "yAxis": 0
            },
            "column_fbd94115367": {
             "type": "column",
             "yAxis": 0
            },
            "column_fbd94115370": {
             "type": "column",
             "yAxis": 0
            },
            "column_fbd94115373": {
             "type": "column",
             "yAxis": 0
            }
           },
           "showDataLabels": false,
           "sizemode": "diameter",
           "sortX": true,
           "sortY": true,
           "swappedAxes": false,
           "textFormat": "",
           "useAggregationsUi": true,
           "valuesOptions": {},
           "version": 2,
           "xAxis": {
            "labels": {
             "enabled": true
            },
            "type": "-"
           },
           "yAxis": [
            {
             "type": "-"
            },
            {
             "opposite": true,
             "type": "-"
            }
           ]
          }
         }
        ]
       },
       "datasetPreviewNameToCmdIdMap": {},
       "diffDeletes": [],
       "diffInserts": [],
       "displayType": "redashChart",
       "error": null,
       "errorDetails": null,
       "errorSummary": null,
       "errorTraceType": null,
       "finishTime": 0,
       "globalVars": {},
       "guid": "",
       "height": "auto",
       "hideCommandCode": false,
       "hideCommandResult": false,
       "iPythonMetadata": null,
       "inputWidgets": {},
       "isLockedInExamMode": false,
       "latestUser": "a user",
       "latestUserId": null,
       "listResultMetadata": null,
       "metadata": {},
       "nuid": "ccae5797-bea2-42b9-a916-35efaa2417ff",
       "origId": 0,
       "parentHierarchy": [],
       "pivotAggregation": null,
       "pivotColumns": null,
       "position": 17.0,
       "resultDbfsErrorMessage": null,
       "resultDbfsStatus": "INLINED_IN_TREE",
       "results": null,
       "showCommandTitle": false,
       "startTime": 0,
       "state": "input",
       "streamStates": {},
       "subcommandOptions": {
        "queryPlan": {
         "groups": [
          {
           "column": "insurance",
           "type": "column"
          }
         ],
         "selects": [
          {
           "column": "insurance",
           "type": "column"
          },
          {
           "alias": "column_fbd94115361",
           "args": [
            {
             "column": "total_patients",
             "type": "column"
            }
           ],
           "function": "SUM",
           "type": "function"
          },
          {
           "alias": "column_fbd94115364",
           "args": [
            {
             "column": "female_percentage",
             "type": "column"
            }
           ],
           "function": "SUM",
           "type": "function"
          },
          {
           "alias": "column_fbd94115367",
           "args": [
            {
             "column": "icu_utilization_rate",
             "type": "column"
            }
           ],
           "function": "SUM",
           "type": "function"
          },
          {
           "alias": "column_fbd94115370",
           "args": [
            {
             "column": "mortality_rate",
             "type": "column"
            }
           ],
           "function": "SUM",
           "type": "function"
          },
          {
           "alias": "column_fbd94115373",
           "args": [
            {
             "column": "home_discharge_rate",
             "type": "column"
            }
           ],
           "function": "SUM",
           "type": "function"
          }
         ]
        }
       },
       "submitTime": 0,
       "subtype": "tableResultSubCmd.visualization",
       "tableResultIndex": 0,
       "tableResultSettingsMap": {},
       "useConsistentColors": false,
       "version": "CommandV1",
       "width": "auto",
       "workflows": [],
       "xColumns": null,
       "yColumns": null
      }
     },
     "output_type": "display_data"
    }
   ],
   "source": [
    "%sql\n",
    "WITH insurance_analysis AS (\n",
    "    SELECT \n",
    "        a.insurance,\n",
    "        EXTRACT(YEAR FROM a.admittime) - EXTRACT(YEAR FROM p.dob) as age,\n",
    "        p.gender,\n",
    "        a.ethnicity,\n",
    "        (unix_timestamp(a.dischtime) - unix_timestamp(a.admittime))/86400 as hospital_los,\n",
    "        CASE WHEN i.icustay_id IS NOT NULL THEN 1 ELSE 0 END as used_icu,\n",
    "        COALESCE(i.los, 0) as icu_los,\n",
    "        a.hospital_expire_flag,\n",
    "        a.discharge_location\n",
    "    FROM mimicdata_2567611159492892.mimic.patients p\n",
    "    JOIN mimicdata_2567611159492892.mimic.admissions a ON p.subject_id = a.subject_id\n",
    "    LEFT JOIN mimicdata_2567611159492892.mimic.icustays i ON a.hadm_id = i.hadm_id\n",
    "    WHERE a.insurance IS NOT NULL\n",
    ")\n",
    "SELECT \n",
    "    insurance,\n",
    "    COUNT(*) as total_patients,\n",
    "    ROUND(AVG(age), 1) as avg_age,\n",
    "    ROUND(100.0 * SUM(CASE WHEN gender = 'F' THEN 1 ELSE 0 END) / COUNT(*), 2) as female_percentage,\n",
    "    ROUND(AVG(hospital_los), 2) as avg_hospital_los,\n",
    "    ROUND(100.0 * SUM(used_icu) / COUNT(*), 2) as icu_utilization_rate,\n",
    "    ROUND(AVG(CASE WHEN used_icu = 1 THEN icu_los END), 2) as avg_icu_los,\n",
    "    ROUND(100.0 * SUM(hospital_expire_flag) / COUNT(*), 2) as mortality_rate,\n",
    "    ROUND(100.0 * COUNT(CASE WHEN discharge_location = 'HOME' THEN 1 END) / COUNT(*), 2) as home_discharge_rate\n",
    "FROM insurance_analysis\n",
    "GROUP BY insurance\n",
    "HAVING COUNT(*) >= 10\n",
    "ORDER BY total_patients DESC;"
   ]
  },
  {
   "cell_type": "code",
   "execution_count": 0,
   "metadata": {
    "application/vnd.databricks.v1+cell": {
     "cellMetadata": {
      "byteLimit": 2048000,
      "implicitDf": true,
      "rowLimit": 10000
     },
     "inputWidgets": {},
     "nuid": "7437b99e-ce48-4506-aa0e-8e2fddc302cd",
     "showTitle": true,
     "tableResultSettingsMap": {},
     "title": "MULTI-ADMISSION PATIENT"
    }
   },
   "outputs": [
    {
     "output_type": "display_data",
     "data": {
      "text/html": [
       "<style scoped>\n",
       "  .table-result-container {\n",
       "    max-height: 300px;\n",
       "    overflow: auto;\n",
       "  }\n",
       "  table, th, td {\n",
       "    border: 1px solid black;\n",
       "    border-collapse: collapse;\n",
       "  }\n",
       "  th, td {\n",
       "    padding: 5px;\n",
       "  }\n",
       "  th {\n",
       "    text-align: left;\n",
       "  }\n",
       "</style><div class='table-result-container'><table class='table-result'><thead style='background-color: white'><tr><th>admission_frequency_group</th><th>patient_count</th><th>avg_admissions_per_patient</th><th>avg_total_hospital_days</th><th>avg_icu_stays_per_patient</th><th>avg_total_icu_days</th><th>pct_with_icu_stay</th><th>overall_mortality_rate</th><th>avg_days_between_first_last</th></tr></thead><tbody><tr><td>Single Admission</td><td>81</td><td>1.0</td><td>8.58</td><td>1.0</td><td>4.74</td><td>100.00</td><td>100.00</td><td>0.0</td></tr><tr><td>2-3 Admissions</td><td>17</td><td>2.12</td><td>26.45</td><td>2.12</td><td>8.71</td><td>100.00</td><td>100.00</td><td>52.14</td></tr><tr><td>4-5 Admissions</td><td>1</td><td>4.0</td><td>96.77</td><td>4.0</td><td>24.58</td><td>100.00</td><td>100.00</td><td>21.23</td></tr><tr><td>6+ Admissions</td><td>1</td><td>15.0</td><td>84.41</td><td>15.0</td><td>48.65</td><td>100.00</td><td>100.00</td><td>1433.79</td></tr></tbody></table></div>"
      ]
     },
     "metadata": {
      "application/vnd.databricks.v1+output": {
       "addedWidgets": {},
       "aggData": [],
       "aggError": "",
       "aggOverflow": false,
       "aggSchema": [],
       "aggSeriesLimitReached": false,
       "aggType": "",
       "arguments": {},
       "columnCustomDisplayInfos": {},
       "data": [
        [
         "Single Admission",
         81,
         1.0,
         8.58,
         1.0,
         4.74,
         "100.00",
         "100.00",
         0.0
        ],
        [
         "2-3 Admissions",
         17,
         2.12,
         26.45,
         2.12,
         8.71,
         "100.00",
         "100.00",
         52.14
        ],
        [
         "4-5 Admissions",
         1,
         4.0,
         96.77,
         4.0,
         24.58,
         "100.00",
         "100.00",
         21.23
        ],
        [
         "6+ Admissions",
         1,
         15.0,
         84.41,
         15.0,
         48.65,
         "100.00",
         "100.00",
         1433.79
        ]
       ],
       "datasetInfos": [],
       "dbfsResultPath": null,
       "isJsonSchema": true,
       "metadata": {
        "dataframeName": "_sqldf",
        "executionCount": 1
       },
       "overflow": false,
       "plotOptions": {
        "customPlotOptions": {},
        "displayType": "table",
        "pivotAggregation": null,
        "pivotColumns": null,
        "xColumns": null,
        "yColumns": null
       },
       "removedWidgets": [],
       "schema": [
        {
         "metadata": "{}",
         "name": "admission_frequency_group",
         "type": "\"string\""
        },
        {
         "metadata": "{}",
         "name": "patient_count",
         "type": "\"long\""
        },
        {
         "metadata": "{}",
         "name": "avg_admissions_per_patient",
         "type": "\"double\""
        },
        {
         "metadata": "{}",
         "name": "avg_total_hospital_days",
         "type": "\"double\""
        },
        {
         "metadata": "{}",
         "name": "avg_icu_stays_per_patient",
         "type": "\"double\""
        },
        {
         "metadata": "{}",
         "name": "avg_total_icu_days",
         "type": "\"double\""
        },
        {
         "metadata": "{}",
         "name": "pct_with_icu_stay",
         "type": "\"decimal(27,2)\""
        },
        {
         "metadata": "{}",
         "name": "overall_mortality_rate",
         "type": "\"decimal(27,2)\""
        },
        {
         "metadata": "{}",
         "name": "avg_days_between_first_last",
         "type": "\"double\""
        }
       ],
       "type": "table"
      }
     },
     "output_type": "display_data"
    },
    {
     "output_type": "display_data",
     "data": {
      "text/plain": [
       "Databricks visualization. Run in Databricks to view."
      ]
     },
     "metadata": {
      "application/vnd.databricks.v1.subcommand+json": {
       "baseErrorDetails": null,
       "bindings": {},
       "collapsed": false,
       "command": "%sql WITH q AS (WITH patient_admission_counts AS (\n    SELECT \n        p.subject_id,\n        p.gender,\n        p.dob,\n        p.expire_flag,\n        COUNT(a.hadm_id) as total_admissions,\n        MIN(a.admittime) as first_admission,\n        MAX(a.admittime) as last_admission,\n        SUM((UNIX_TIMESTAMP(a.dischtime) - UNIX_TIMESTAMP(a.admittime))/86400) as total_hospital_days,\n        SUM(CASE WHEN i.icustay_id IS NOT NULL THEN 1 ELSE 0 END) as total_icu_stays,\n        SUM(COALESCE(i.los, 0)) as total_icu_days,\n        SUM(a.hospital_expire_flag) as hospital_deaths\n    FROM mimicdata_2567611159492892.mimic.patients p\n    JOIN mimicdata_2567611159492892.mimic.admissions a ON p.subject_id = a.subject_id\n    LEFT JOIN mimicdata_2567611159492892.mimic.icustays i ON a.hadm_id = i.hadm_id\n    GROUP BY p.subject_id, p.gender, p.dob, p.expire_flag\n)\nSELECT \n    CASE \n        WHEN total_admissions = 1 THEN 'Single Admission'\n        WHEN total_admissions <= 3 THEN '2-3 Admissions'\n        WHEN total_admissions <= 5 THEN '4-5 Admissions'\n        ELSE '6+ Admissions'\n    END as admission_frequency_group,\n    COUNT(*) as patient_count,\n    ROUND(AVG(total_admissions), 2) as avg_admissions_per_patient,\n    ROUND(AVG(total_hospital_days), 2) as avg_total_hospital_days,\n    ROUND(AVG(total_icu_stays), 2) as avg_icu_stays_per_patient,\n    ROUND(AVG(total_icu_days), 2) as avg_total_icu_days,\n    ROUND(100.0 * SUM(CASE WHEN total_icu_stays > 0 THEN 1 ELSE 0 END) / COUNT(*), 2) as pct_with_icu_stay,\n    ROUND(100.0 * SUM(expire_flag) / COUNT(*), 2) as overall_mortality_rate,\n    ROUND(AVG((UNIX_TIMESTAMP(last_admission) - UNIX_TIMESTAMP(first_admission))/86400), 2) as avg_days_between_first_last\nFROM patient_admission_counts\nGROUP BY admission_frequency_group\nORDER BY \n    CASE admission_frequency_group\n        WHEN 'Single Admission' THEN 1\n        WHEN '2-3 Admissions' THEN 2\n        WHEN '4-5 Admissions' THEN 3\n        WHEN '6+ Admissions' THEN 4\n    END) SELECT `admission_frequency_group`,SUM(`patient_count`) `column_fbd94115377`,SUM(`avg_admissions_per_patient`) `column_fbd94115380`,SUM(`avg_total_hospital_days`) `column_fbd94115383`,SUM(`overall_mortality_rate`) `column_fbd94115386` FROM q GROUP BY `admission_frequency_group`",
       "commandTitle": "Visualization 1",
       "commandType": "auto",
       "commandVersion": 0,
       "commentThread": [],
       "commentsVisible": false,
       "contentSha256Hex": null,
       "customPlotOptions": {
        "redashChart": [
         {
          "key": "type",
          "value": "CHART"
         },
         {
          "key": "options",
          "value": {
           "alignYAxesAtZero": true,
           "coefficient": 1,
           "columnConfigurationMap": {
            "x": {
             "column": "admission_frequency_group",
             "id": "column_fbd94115375"
            },
            "y": [
             {
              "column": "patient_count",
              "id": "column_fbd94115377",
              "transform": "SUM"
             },
             {
              "column": "avg_admissions_per_patient",
              "id": "column_fbd94115380",
              "transform": "SUM"
             },
             {
              "column": "avg_total_hospital_days",
              "id": "column_fbd94115383",
              "transform": "SUM"
             },
             {
              "column": "overall_mortality_rate",
              "id": "column_fbd94115386",
              "transform": "SUM"
             }
            ]
           },
           "dateTimeFormat": "DD/MM/YYYY HH:mm",
           "direction": {
            "type": "counterclockwise"
           },
           "error_y": {
            "type": "data",
            "visible": true
           },
           "globalSeriesType": "column",
           "isAggregationOn": true,
           "legend": {
            "traceorder": "normal"
           },
           "missingValuesAsZero": true,
           "numberFormat": "0,0.[00000]",
           "percentFormat": "0[.]00%",
           "series": {
            "error_y": {
             "type": "data",
             "visible": true
            },
            "stacking": null
           },
           "seriesOptions": {
            "column_fbd94115377": {
             "type": "column",
             "yAxis": 0
            },
            "column_fbd94115380": {
             "type": "column",
             "yAxis": 0
            },
            "column_fbd94115383": {
             "type": "column",
             "yAxis": 0
            },
            "column_fbd94115386": {
             "type": "column",
             "yAxis": 0
            },
            "column_fbd94115389": {
             "type": "column",
             "yAxis": 0
            }
           },
           "showDataLabels": false,
           "sizemode": "diameter",
           "sortX": true,
           "sortY": true,
           "swappedAxes": false,
           "textFormat": "",
           "useAggregationsUi": true,
           "valuesOptions": {},
           "version": 2,
           "xAxis": {
            "labels": {
             "enabled": true
            },
            "type": "-"
           },
           "yAxis": [
            {
             "type": "-"
            },
            {
             "opposite": true,
             "type": "-"
            }
           ]
          }
         }
        ]
       },
       "datasetPreviewNameToCmdIdMap": {},
       "diffDeletes": [],
       "diffInserts": [],
       "displayType": "redashChart",
       "error": null,
       "errorDetails": null,
       "errorSummary": null,
       "errorTraceType": null,
       "finishTime": 0,
       "globalVars": {},
       "guid": "",
       "height": "auto",
       "hideCommandCode": false,
       "hideCommandResult": false,
       "iPythonMetadata": null,
       "inputWidgets": {},
       "isLockedInExamMode": false,
       "latestUser": "a user",
       "latestUserId": null,
       "listResultMetadata": null,
       "metadata": {},
       "nuid": "099b9342-c354-4cbc-9277-dd7a514e807f",
       "origId": 0,
       "parentHierarchy": [],
       "pivotAggregation": null,
       "pivotColumns": null,
       "position": 18.0,
       "resultDbfsErrorMessage": null,
       "resultDbfsStatus": "INLINED_IN_TREE",
       "results": null,
       "showCommandTitle": false,
       "startTime": 0,
       "state": "input",
       "streamStates": {},
       "subcommandOptions": {
        "queryPlan": {
         "groups": [
          {
           "column": "admission_frequency_group",
           "type": "column"
          }
         ],
         "selects": [
          {
           "column": "admission_frequency_group",
           "type": "column"
          },
          {
           "alias": "column_fbd94115377",
           "args": [
            {
             "column": "patient_count",
             "type": "column"
            }
           ],
           "function": "SUM",
           "type": "function"
          },
          {
           "alias": "column_fbd94115380",
           "args": [
            {
             "column": "avg_admissions_per_patient",
             "type": "column"
            }
           ],
           "function": "SUM",
           "type": "function"
          },
          {
           "alias": "column_fbd94115383",
           "args": [
            {
             "column": "avg_total_hospital_days",
             "type": "column"
            }
           ],
           "function": "SUM",
           "type": "function"
          },
          {
           "alias": "column_fbd94115386",
           "args": [
            {
             "column": "overall_mortality_rate",
             "type": "column"
            }
           ],
           "function": "SUM",
           "type": "function"
          }
         ]
        }
       },
       "submitTime": 0,
       "subtype": "tableResultSubCmd.visualization",
       "tableResultIndex": 0,
       "tableResultSettingsMap": {},
       "useConsistentColors": false,
       "version": "CommandV1",
       "width": "auto",
       "workflows": [],
       "xColumns": null,
       "yColumns": null
      }
     },
     "output_type": "display_data"
    }
   ],
   "source": [
    "%sql\n",
    "WITH patient_admission_counts AS (\n",
    "    SELECT \n",
    "        p.subject_id,\n",
    "        p.gender,\n",
    "        p.dob,\n",
    "        p.expire_flag,\n",
    "        COUNT(a.hadm_id) as total_admissions,\n",
    "        MIN(a.admittime) as first_admission,\n",
    "        MAX(a.admittime) as last_admission,\n",
    "        SUM((UNIX_TIMESTAMP(a.dischtime) - UNIX_TIMESTAMP(a.admittime))/86400) as total_hospital_days,\n",
    "        SUM(CASE WHEN i.icustay_id IS NOT NULL THEN 1 ELSE 0 END) as total_icu_stays,\n",
    "        SUM(COALESCE(i.los, 0)) as total_icu_days,\n",
    "        SUM(a.hospital_expire_flag) as hospital_deaths\n",
    "    FROM mimicdata_2567611159492892.mimic.patients p\n",
    "    JOIN mimicdata_2567611159492892.mimic.admissions a ON p.subject_id = a.subject_id\n",
    "    LEFT JOIN mimicdata_2567611159492892.mimic.icustays i ON a.hadm_id = i.hadm_id\n",
    "    GROUP BY p.subject_id, p.gender, p.dob, p.expire_flag\n",
    ")\n",
    "SELECT \n",
    "    CASE \n",
    "        WHEN total_admissions = 1 THEN 'Single Admission'\n",
    "        WHEN total_admissions <= 3 THEN '2-3 Admissions'\n",
    "        WHEN total_admissions <= 5 THEN '4-5 Admissions'\n",
    "        ELSE '6+ Admissions'\n",
    "    END as admission_frequency_group,\n",
    "    COUNT(*) as patient_count,\n",
    "    ROUND(AVG(total_admissions), 2) as avg_admissions_per_patient,\n",
    "    ROUND(AVG(total_hospital_days), 2) as avg_total_hospital_days,\n",
    "    ROUND(AVG(total_icu_stays), 2) as avg_icu_stays_per_patient,\n",
    "    ROUND(AVG(total_icu_days), 2) as avg_total_icu_days,\n",
    "    ROUND(100.0 * SUM(CASE WHEN total_icu_stays > 0 THEN 1 ELSE 0 END) / COUNT(*), 2) as pct_with_icu_stay,\n",
    "    ROUND(100.0 * SUM(expire_flag) / COUNT(*), 2) as overall_mortality_rate,\n",
    "    ROUND(AVG((UNIX_TIMESTAMP(last_admission) - UNIX_TIMESTAMP(first_admission))/86400), 2) as avg_days_between_first_last\n",
    "FROM patient_admission_counts\n",
    "GROUP BY admission_frequency_group\n",
    "ORDER BY \n",
    "    CASE admission_frequency_group\n",
    "        WHEN 'Single Admission' THEN 1\n",
    "        WHEN '2-3 Admissions' THEN 2\n",
    "        WHEN '4-5 Admissions' THEN 3\n",
    "        WHEN '6+ Admissions' THEN 4\n",
    "    END;\n"
   ]
  },
  {
   "cell_type": "code",
   "execution_count": 0,
   "metadata": {
    "application/vnd.databricks.v1+cell": {
     "cellMetadata": {
      "byteLimit": 2048000,
      "implicitDf": true,
      "rowLimit": 10000
     },
     "inputWidgets": {},
     "nuid": "b01c3dab-5d09-4f6b-a742-79b23b47219c",
     "showTitle": true,
     "tableResultSettingsMap": {},
     "title": "MORTALITY RISK"
    }
   },
   "outputs": [
    {
     "output_type": "display_data",
     "data": {
      "text/html": [
       "<style scoped>\n",
       "  .table-result-container {\n",
       "    max-height: 300px;\n",
       "    overflow: auto;\n",
       "  }\n",
       "  table, th, td {\n",
       "    border: 1px solid black;\n",
       "    border-collapse: collapse;\n",
       "  }\n",
       "  th, td {\n",
       "    padding: 5px;\n",
       "  }\n",
       "  th {\n",
       "    text-align: left;\n",
       "  }\n",
       "</style><div class='table-result-container'><table class='table-result'><thead style='background-color: white'><tr><th>icu_category</th><th>first_careunit</th><th>age_group</th><th>total_patients</th><th>deaths</th><th>mortality_rate</th><th>mortality_rate_lower_ci</th><th>mortality_rate_upper_ci</th></tr></thead><tbody><tr><td>ICU 1-3 days</td><td>SICU</td><td>70+</td><td>10</td><td>5</td><td>50.00</td><td>19.01</td><td>80.99</td></tr><tr><td>ICU < 1 day</td><td>MICU</td><td>70+</td><td>11</td><td>4</td><td>36.36</td><td>7.94</td><td>64.79</td></tr><tr><td>ICU 1-3 days</td><td>MICU</td><td>70+</td><td>20</td><td>6</td><td>30.00</td><td>9.92</td><td>50.08</td></tr><tr><td>ICU 1-3 days</td><td>MICU</td><td>50-69</td><td>14</td><td>0</td><td>0.00</td><td>0.0</td><td>0.0</td></tr></tbody></table></div>"
      ]
     },
     "metadata": {
      "application/vnd.databricks.v1+output": {
       "addedWidgets": {},
       "aggData": [],
       "aggError": "",
       "aggOverflow": false,
       "aggSchema": [],
       "aggSeriesLimitReached": false,
       "aggType": "",
       "arguments": {},
       "columnCustomDisplayInfos": {},
       "data": [
        [
         "ICU 1-3 days",
         "SICU",
         "70+",
         10,
         5,
         "50.00",
         19.01,
         80.99
        ],
        [
         "ICU < 1 day",
         "MICU",
         "70+",
         11,
         4,
         "36.36",
         7.94,
         64.79
        ],
        [
         "ICU 1-3 days",
         "MICU",
         "70+",
         20,
         6,
         "30.00",
         9.92,
         50.08
        ],
        [
         "ICU 1-3 days",
         "MICU",
         "50-69",
         14,
         0,
         "0.00",
         0.0,
         0.0
        ]
       ],
       "datasetInfos": [],
       "dbfsResultPath": null,
       "isJsonSchema": true,
       "metadata": {
        "dataframeName": "_sqldf",
        "executionCount": 2
       },
       "overflow": false,
       "plotOptions": {
        "customPlotOptions": {},
        "displayType": "table",
        "pivotAggregation": null,
        "pivotColumns": null,
        "xColumns": null,
        "yColumns": null
       },
       "removedWidgets": [],
       "schema": [
        {
         "metadata": "{}",
         "name": "icu_category",
         "type": "\"string\""
        },
        {
         "metadata": "{}",
         "name": "first_careunit",
         "type": "\"string\""
        },
        {
         "metadata": "{}",
         "name": "age_group",
         "type": "\"string\""
        },
        {
         "metadata": "{}",
         "name": "total_patients",
         "type": "\"long\""
        },
        {
         "metadata": "{}",
         "name": "deaths",
         "type": "\"long\""
        },
        {
         "metadata": "{}",
         "name": "mortality_rate",
         "type": "\"decimal(27,2)\""
        },
        {
         "metadata": "{}",
         "name": "mortality_rate_lower_ci",
         "type": "\"double\""
        },
        {
         "metadata": "{}",
         "name": "mortality_rate_upper_ci",
         "type": "\"double\""
        }
       ],
       "type": "table"
      }
     },
     "output_type": "display_data"
    },
    {
     "output_type": "display_data",
     "data": {
      "text/plain": [
       "Databricks visualization. Run in Databricks to view."
      ]
     },
     "metadata": {
      "application/vnd.databricks.v1.subcommand+json": {
       "baseErrorDetails": null,
       "bindings": {},
       "collapsed": false,
       "command": "%sql WITH q AS (WITH mortality_stratification AS (\n    SELECT \n        a.hadm_id,\n        EXTRACT(YEAR FROM a.admittime) - EXTRACT(YEAR FROM p.dob) as age,\n        i.first_careunit,\n        i.los as icu_los,\n        a.admission_type,\n        a.hospital_expire_flag,\n        CASE \n            WHEN i.icustay_id IS NULL THEN 'No ICU'\n            WHEN i.los < 1 THEN 'ICU < 1 day'\n            WHEN i.los < 3 THEN 'ICU 1-3 days'\n            WHEN i.los < 7 THEN 'ICU 3-7 days'\n            ELSE 'ICU 7+ days'\n        END as icu_category\n    FROM mimicdata_2567611159492892.mimic.patients p\n    JOIN mimicdata_2567611159492892.mimic.admissions a ON p.subject_id = a.subject_id\n    LEFT JOIN mimicdata_2567611159492892.mimic.icustays i ON a.hadm_id = i.hadm_id\n)\nSELECT \n    icu_category,\n    first_careunit,\n    CASE \n        WHEN age < 50 THEN '<50'\n        WHEN age < 70 THEN '50-69'\n        ELSE '70+'\n    END as age_group,\n    COUNT(*) as total_patients,\n    SUM(hospital_expire_flag) as deaths,\n    ROUND(100.0 * SUM(hospital_expire_flag) / COUNT(*), 2) as mortality_rate,\n    \n    ROUND(100.0 * SUM(hospital_expire_flag) / COUNT(*) - 1.96 * SQRT(100.0 * SUM(hospital_expire_flag) / COUNT(*) * (100 - 100.0 * SUM(hospital_expire_flag) / COUNT(*)) / COUNT(*)), 2) as mortality_rate_lower_ci,\n    ROUND(100.0 * SUM(hospital_expire_flag) / COUNT(*) + 1.96 * SQRT(100.0 * SUM(hospital_expire_flag) / COUNT(*) * (100 - 100.0 * SUM(hospital_expire_flag) / COUNT(*)) / COUNT(*)), 2) as mortality_rate_upper_ci\nFROM mortality_stratification\nGROUP BY icu_category, first_careunit, age_group\nHAVING COUNT(*) >= 10\nORDER BY mortality_rate DESC) SELECT `icu_category`,SUM(`total_patients`) `column_fbd94115615`,SUM(`deaths`) `column_fbd94115618`,SUM(`mortality_rate`) `column_fbd94115621`,SUM(`mortality_rate_lower_ci`) `column_fbd94115624`,SUM(`mortality_rate_upper_ci`) `column_fbd94115627` FROM q GROUP BY `icu_category`",
       "commandTitle": "Visualization 1",
       "commandType": "auto",
       "commandVersion": 0,
       "commentThread": [],
       "commentsVisible": false,
       "contentSha256Hex": null,
       "customPlotOptions": {
        "redashChart": [
         {
          "key": "type",
          "value": "CHART"
         },
         {
          "key": "options",
          "value": {
           "alignYAxesAtZero": true,
           "coefficient": 1,
           "columnConfigurationMap": {
            "x": {
             "column": "icu_category",
             "id": "column_fbd94115613"
            },
            "y": [
             {
              "column": "total_patients",
              "id": "column_fbd94115615",
              "transform": "SUM"
             },
             {
              "column": "deaths",
              "id": "column_fbd94115618",
              "transform": "SUM"
             },
             {
              "column": "mortality_rate",
              "id": "column_fbd94115621",
              "transform": "SUM"
             },
             {
              "column": "mortality_rate_lower_ci",
              "id": "column_fbd94115624",
              "transform": "SUM"
             },
             {
              "column": "mortality_rate_upper_ci",
              "id": "column_fbd94115627",
              "transform": "SUM"
             }
            ]
           },
           "dateTimeFormat": "DD/MM/YYYY HH:mm",
           "direction": {
            "type": "counterclockwise"
           },
           "error_y": {
            "type": "data",
            "visible": true
           },
           "globalSeriesType": "column",
           "isAggregationOn": true,
           "legend": {
            "traceorder": "normal"
           },
           "missingValuesAsZero": true,
           "numberFormat": "0,0.[00000]",
           "percentFormat": "0[.]00%",
           "series": {
            "error_y": {
             "type": "data",
             "visible": true
            },
            "stacking": null
           },
           "seriesOptions": {
            "column_fbd94115615": {
             "type": "column",
             "yAxis": 0
            },
            "column_fbd94115618": {
             "type": "column",
             "yAxis": 0
            },
            "column_fbd94115621": {
             "type": "column",
             "yAxis": 0
            },
            "column_fbd94115624": {
             "type": "column",
             "yAxis": 0
            },
            "column_fbd94115627": {
             "type": "column",
             "yAxis": 0
            }
           },
           "showDataLabels": false,
           "sizemode": "diameter",
           "sortX": true,
           "sortY": true,
           "swappedAxes": false,
           "textFormat": "",
           "useAggregationsUi": true,
           "valuesOptions": {},
           "version": 2,
           "xAxis": {
            "labels": {
             "enabled": true
            },
            "type": "-"
           },
           "yAxis": [
            {
             "type": "-"
            },
            {
             "opposite": true,
             "type": "-"
            }
           ]
          }
         }
        ]
       },
       "datasetPreviewNameToCmdIdMap": {},
       "diffDeletes": [],
       "diffInserts": [],
       "displayType": "redashChart",
       "error": null,
       "errorDetails": null,
       "errorSummary": null,
       "errorTraceType": null,
       "finishTime": 0,
       "globalVars": {},
       "guid": "",
       "height": "auto",
       "hideCommandCode": false,
       "hideCommandResult": false,
       "iPythonMetadata": null,
       "inputWidgets": {},
       "isLockedInExamMode": false,
       "latestUser": "a user",
       "latestUserId": null,
       "listResultMetadata": null,
       "metadata": {},
       "nuid": "cd03fe5d-3bf9-4873-b2e6-76826198c2d9",
       "origId": 0,
       "parentHierarchy": [],
       "pivotAggregation": null,
       "pivotColumns": null,
       "position": 18.0,
       "resultDbfsErrorMessage": null,
       "resultDbfsStatus": "INLINED_IN_TREE",
       "results": null,
       "showCommandTitle": false,
       "startTime": 0,
       "state": "input",
       "streamStates": {},
       "subcommandOptions": {
        "queryPlan": {
         "groups": [
          {
           "column": "icu_category",
           "type": "column"
          }
         ],
         "selects": [
          {
           "column": "icu_category",
           "type": "column"
          },
          {
           "alias": "column_fbd94115615",
           "args": [
            {
             "column": "total_patients",
             "type": "column"
            }
           ],
           "function": "SUM",
           "type": "function"
          },
          {
           "alias": "column_fbd94115618",
           "args": [
            {
             "column": "deaths",
             "type": "column"
            }
           ],
           "function": "SUM",
           "type": "function"
          },
          {
           "alias": "column_fbd94115621",
           "args": [
            {
             "column": "mortality_rate",
             "type": "column"
            }
           ],
           "function": "SUM",
           "type": "function"
          },
          {
           "alias": "column_fbd94115624",
           "args": [
            {
             "column": "mortality_rate_lower_ci",
             "type": "column"
            }
           ],
           "function": "SUM",
           "type": "function"
          },
          {
           "alias": "column_fbd94115627",
           "args": [
            {
             "column": "mortality_rate_upper_ci",
             "type": "column"
            }
           ],
           "function": "SUM",
           "type": "function"
          }
         ]
        }
       },
       "submitTime": 0,
       "subtype": "tableResultSubCmd.visualization",
       "tableResultIndex": 0,
       "tableResultSettingsMap": {},
       "useConsistentColors": false,
       "version": "CommandV1",
       "width": "auto",
       "workflows": [],
       "xColumns": null,
       "yColumns": null
      }
     },
     "output_type": "display_data"
    }
   ],
   "source": [
    "%sql\n",
    "WITH mortality_stratification AS (\n",
    "    SELECT \n",
    "        a.hadm_id,\n",
    "        EXTRACT(YEAR FROM a.admittime) - EXTRACT(YEAR FROM p.dob) as age,\n",
    "        i.first_careunit,\n",
    "        i.los as icu_los,\n",
    "        a.admission_type,\n",
    "        a.hospital_expire_flag,\n",
    "        CASE \n",
    "            WHEN i.icustay_id IS NULL THEN 'No ICU'\n",
    "            WHEN i.los < 1 THEN 'ICU < 1 day'\n",
    "            WHEN i.los < 3 THEN 'ICU 1-3 days'\n",
    "            WHEN i.los < 7 THEN 'ICU 3-7 days'\n",
    "            ELSE 'ICU 7+ days'\n",
    "        END as icu_category\n",
    "    FROM mimicdata_2567611159492892.mimic.patients p\n",
    "    JOIN mimicdata_2567611159492892.mimic.admissions a ON p.subject_id = a.subject_id\n",
    "    LEFT JOIN mimicdata_2567611159492892.mimic.icustays i ON a.hadm_id = i.hadm_id\n",
    ")\n",
    "SELECT \n",
    "    icu_category,\n",
    "    first_careunit,\n",
    "    CASE \n",
    "        WHEN age < 50 THEN '<50'\n",
    "        WHEN age < 70 THEN '50-69'\n",
    "        ELSE '70+'\n",
    "    END as age_group,\n",
    "    COUNT(*) as total_patients,\n",
    "    SUM(hospital_expire_flag) as deaths,\n",
    "    ROUND(100.0 * SUM(hospital_expire_flag) / COUNT(*), 2) as mortality_rate,\n",
    "    \n",
    "    ROUND(100.0 * SUM(hospital_expire_flag) / COUNT(*) - 1.96 * SQRT(100.0 * SUM(hospital_expire_flag) / COUNT(*) * (100 - 100.0 * SUM(hospital_expire_flag) / COUNT(*)) / COUNT(*)), 2) as mortality_rate_lower_ci,\n",
    "    ROUND(100.0 * SUM(hospital_expire_flag) / COUNT(*) + 1.96 * SQRT(100.0 * SUM(hospital_expire_flag) / COUNT(*) * (100 - 100.0 * SUM(hospital_expire_flag) / COUNT(*)) / COUNT(*)), 2) as mortality_rate_upper_ci\n",
    "FROM mortality_stratification\n",
    "GROUP BY icu_category, first_careunit, age_group\n",
    "HAVING COUNT(*) >= 10\n",
    "ORDER BY mortality_rate DESC;\n"
   ]
  },
  {
   "cell_type": "code",
   "execution_count": 0,
   "metadata": {
    "application/vnd.databricks.v1+cell": {
     "cellMetadata": {
      "byteLimit": 2048000,
      "implicitDf": true,
      "rowLimit": 10000
     },
     "inputWidgets": {},
     "nuid": "a2a9ab8b-51a7-4334-a1b0-6f7b6d19df06",
     "showTitle": true,
     "tableResultSettingsMap": {},
     "title": "CARE EFFICIENCY"
    }
   },
   "outputs": [
    {
     "output_type": "display_data",
     "data": {
      "text/html": [
       "<style scoped>\n",
       "  .table-result-container {\n",
       "    max-height: 300px;\n",
       "    overflow: auto;\n",
       "  }\n",
       "  table, th, td {\n",
       "    border: 1px solid black;\n",
       "    border-collapse: collapse;\n",
       "  }\n",
       "  th, td {\n",
       "    padding: 5px;\n",
       "  }\n",
       "  th {\n",
       "    text-align: left;\n",
       "  }\n",
       "</style><div class='table-result-container'><table class='table-result'><thead style='background-color: white'><tr><th>first_careunit</th><th>admission_type</th><th>total_icu_stays</th><th>avg_icu_los</th><th>survival_rate</th><th>good_outcome_rate</th><th>efficiency_score</th><th>survival_per_icu_day</th><th>avg_patient_age</th></tr></thead><tbody><tr><td>TSICU</td><td>EMERGENCY</td><td>11</td><td>3.59</td><td>36.36</td><td>18.18</td><td>0.051</td><td>0.101</td><td>75.8</td></tr><tr><td>MICU</td><td>EMERGENCY</td><td>74</td><td>4.0</td><td>67.57</td><td>18.92</td><td>0.047</td><td>0.169</td><td>88.0</td></tr><tr><td>CCU</td><td>EMERGENCY</td><td>18</td><td>5.81</td><td>66.67</td><td>22.22</td><td>0.038</td><td>0.115</td><td>81.8</td></tr><tr><td>SICU</td><td>EMERGENCY</td><td>20</td><td>6.0</td><td>65.00</td><td>15.00</td><td>0.025</td><td>0.108</td><td>86.0</td></tr></tbody></table></div>"
      ]
     },
     "metadata": {
      "application/vnd.databricks.v1+output": {
       "addedWidgets": {},
       "aggData": [],
       "aggError": "",
       "aggOverflow": false,
       "aggSchema": [],
       "aggSeriesLimitReached": false,
       "aggType": "",
       "arguments": {},
       "columnCustomDisplayInfos": {},
       "data": [
        [
         "TSICU",
         "EMERGENCY",
         11,
         3.59,
         "36.36",
         "18.18",
         0.051,
         0.101,
         75.8
        ],
        [
         "MICU",
         "EMERGENCY",
         74,
         4.0,
         "67.57",
         "18.92",
         0.047,
         0.169,
         88.0
        ],
        [
         "CCU",
         "EMERGENCY",
         18,
         5.81,
         "66.67",
         "22.22",
         0.038,
         0.115,
         81.8
        ],
        [
         "SICU",
         "EMERGENCY",
         20,
         6.0,
         "65.00",
         "15.00",
         0.025,
         0.108,
         86.0
        ]
       ],
       "datasetInfos": [],
       "dbfsResultPath": null,
       "isJsonSchema": true,
       "metadata": {
        "dataframeName": "_sqldf",
        "executionCount": 3
       },
       "overflow": false,
       "plotOptions": {
        "customPlotOptions": {},
        "displayType": "table",
        "pivotAggregation": null,
        "pivotColumns": null,
        "xColumns": null,
        "yColumns": null
       },
       "removedWidgets": [],
       "schema": [
        {
         "metadata": "{}",
         "name": "first_careunit",
         "type": "\"string\""
        },
        {
         "metadata": "{}",
         "name": "admission_type",
         "type": "\"string\""
        },
        {
         "metadata": "{}",
         "name": "total_icu_stays",
         "type": "\"long\""
        },
        {
         "metadata": "{}",
         "name": "avg_icu_los",
         "type": "\"double\""
        },
        {
         "metadata": "{}",
         "name": "survival_rate",
         "type": "\"decimal(27,2)\""
        },
        {
         "metadata": "{}",
         "name": "good_outcome_rate",
         "type": "\"decimal(27,2)\""
        },
        {
         "metadata": "{}",
         "name": "efficiency_score",
         "type": "\"double\""
        },
        {
         "metadata": "{}",
         "name": "survival_per_icu_day",
         "type": "\"double\""
        },
        {
         "metadata": "{}",
         "name": "avg_patient_age",
         "type": "\"double\""
        }
       ],
       "type": "table"
      }
     },
     "output_type": "display_data"
    },
    {
     "output_type": "display_data",
     "data": {
      "text/plain": [
       "Databricks visualization. Run in Databricks to view."
      ]
     },
     "metadata": {
      "application/vnd.databricks.v1.subcommand+json": {
       "baseErrorDetails": null,
       "bindings": {},
       "collapsed": false,
       "command": "%sql WITH q AS (WITH efficiency_metrics AS (\n    SELECT \n        i.first_careunit,\n        a.admission_type,\n        EXTRACT(YEAR FROM a.admittime) - EXTRACT(YEAR FROM p.dob) as age,\n        i.los as icu_los,\n        CASE WHEN a.hospital_expire_flag = 0 THEN 1 ELSE 0 END as survived,\n        CASE WHEN a.discharge_location IN ('HOME', 'HOME HEALTH CARE') THEN 1 ELSE 0 END as good_outcome\n    FROM mimicdata_2567611159492892.mimic.patients p\n    JOIN mimicdata_2567611159492892.mimic.admissions a ON p.subject_id = a.subject_id\n    JOIN mimicdata_2567611159492892.mimic.icustays i ON a.hadm_id = i.hadm_id\n    WHERE i.los > 0\n)\nSELECT \n    first_careunit,\n    admission_type,\n    COUNT(*) as total_icu_stays,\n    ROUND(AVG(icu_los), 2) as avg_icu_los,\n    ROUND(100.0 * SUM(survived) / COUNT(*), 2) as survival_rate,\n    ROUND(100.0 * SUM(good_outcome) / COUNT(*), 2) as good_outcome_rate,\n    \n    ROUND(SUM(good_outcome) / SUM(icu_los), 3) as efficiency_score,\n    \n    ROUND(SUM(survived) / SUM(icu_los), 3) as survival_per_icu_day,\n    ROUND(AVG(age), 1) as avg_patient_age\nFROM efficiency_metrics\nGROUP BY first_careunit, admission_type\nHAVING COUNT(*) >= 5\nORDER BY efficiency_score DESC) SELECT `first_careunit`,SUM(`total_icu_stays`) `column_fbd94115631`,SUM(`survival_rate`) `column_fbd94115634`,SUM(`survival_per_icu_day`) `column_fbd94115637`,SUM(`good_outcome_rate`) `column_fbd94115640` FROM q GROUP BY `first_careunit`",
       "commandTitle": "Visualization 1",
       "commandType": "auto",
       "commandVersion": 0,
       "commentThread": [],
       "commentsVisible": false,
       "contentSha256Hex": null,
       "customPlotOptions": {
        "redashChart": [
         {
          "key": "type",
          "value": "CHART"
         },
         {
          "key": "options",
          "value": {
           "alignYAxesAtZero": true,
           "coefficient": 1,
           "columnConfigurationMap": {
            "x": {
             "column": "first_careunit",
             "id": "column_fbd94115629"
            },
            "y": [
             {
              "column": "total_icu_stays",
              "id": "column_fbd94115631",
              "transform": "SUM"
             },
             {
              "column": "survival_rate",
              "id": "column_fbd94115634",
              "transform": "SUM"
             },
             {
              "column": "survival_per_icu_day",
              "id": "column_fbd94115637",
              "transform": "SUM"
             },
             {
              "column": "good_outcome_rate",
              "id": "column_fbd94115640",
              "transform": "SUM"
             }
            ]
           },
           "dateTimeFormat": "DD/MM/YYYY HH:mm",
           "direction": {
            "type": "counterclockwise"
           },
           "error_y": {
            "type": "data",
            "visible": true
           },
           "globalSeriesType": "column",
           "isAggregationOn": true,
           "legend": {
            "traceorder": "normal"
           },
           "missingValuesAsZero": true,
           "numberFormat": "0,0.[00000]",
           "percentFormat": "0[.]00%",
           "series": {
            "error_y": {
             "type": "data",
             "visible": true
            },
            "stacking": null
           },
           "seriesOptions": {
            "column_fbd94115631": {
             "type": "column",
             "yAxis": 0
            },
            "column_fbd94115634": {
             "type": "column",
             "yAxis": 0
            },
            "column_fbd94115637": {
             "type": "column",
             "yAxis": 0
            },
            "column_fbd94115640": {
             "type": "column",
             "yAxis": 0
            }
           },
           "showDataLabels": false,
           "sizemode": "diameter",
           "sortX": true,
           "sortY": true,
           "swappedAxes": false,
           "textFormat": "",
           "useAggregationsUi": true,
           "valuesOptions": {},
           "version": 2,
           "xAxis": {
            "labels": {
             "enabled": true
            },
            "type": "-"
           },
           "yAxis": [
            {
             "type": "-"
            },
            {
             "opposite": true,
             "type": "-"
            }
           ]
          }
         }
        ]
       },
       "datasetPreviewNameToCmdIdMap": {},
       "diffDeletes": [],
       "diffInserts": [],
       "displayType": "redashChart",
       "error": null,
       "errorDetails": null,
       "errorSummary": null,
       "errorTraceType": null,
       "finishTime": 0,
       "globalVars": {},
       "guid": "",
       "height": "auto",
       "hideCommandCode": false,
       "hideCommandResult": false,
       "iPythonMetadata": null,
       "inputWidgets": {},
       "isLockedInExamMode": false,
       "latestUser": "a user",
       "latestUserId": null,
       "listResultMetadata": null,
       "metadata": {},
       "nuid": "385539f2-51a8-4dd9-9225-1920f838cd76",
       "origId": 0,
       "parentHierarchy": [],
       "pivotAggregation": null,
       "pivotColumns": null,
       "position": 19.0,
       "resultDbfsErrorMessage": null,
       "resultDbfsStatus": "INLINED_IN_TREE",
       "results": null,
       "showCommandTitle": false,
       "startTime": 0,
       "state": "input",
       "streamStates": {},
       "subcommandOptions": {
        "queryPlan": {
         "groups": [
          {
           "column": "first_careunit",
           "type": "column"
          }
         ],
         "selects": [
          {
           "column": "first_careunit",
           "type": "column"
          },
          {
           "alias": "column_fbd94115631",
           "args": [
            {
             "column": "total_icu_stays",
             "type": "column"
            }
           ],
           "function": "SUM",
           "type": "function"
          },
          {
           "alias": "column_fbd94115634",
           "args": [
            {
             "column": "survival_rate",
             "type": "column"
            }
           ],
           "function": "SUM",
           "type": "function"
          },
          {
           "alias": "column_fbd94115637",
           "args": [
            {
             "column": "survival_per_icu_day",
             "type": "column"
            }
           ],
           "function": "SUM",
           "type": "function"
          },
          {
           "alias": "column_fbd94115640",
           "args": [
            {
             "column": "good_outcome_rate",
             "type": "column"
            }
           ],
           "function": "SUM",
           "type": "function"
          }
         ]
        }
       },
       "submitTime": 0,
       "subtype": "tableResultSubCmd.visualization",
       "tableResultIndex": 0,
       "tableResultSettingsMap": {},
       "useConsistentColors": false,
       "version": "CommandV1",
       "width": "auto",
       "workflows": [],
       "xColumns": null,
       "yColumns": null
      }
     },
     "output_type": "display_data"
    }
   ],
   "source": [
    "%sql\n",
    "WITH efficiency_metrics AS (\n",
    "    SELECT \n",
    "        i.first_careunit,\n",
    "        a.admission_type,\n",
    "        EXTRACT(YEAR FROM a.admittime) - EXTRACT(YEAR FROM p.dob) as age,\n",
    "        i.los as icu_los,\n",
    "        CASE WHEN a.hospital_expire_flag = 0 THEN 1 ELSE 0 END as survived,\n",
    "        CASE WHEN a.discharge_location IN ('HOME', 'HOME HEALTH CARE') THEN 1 ELSE 0 END as good_outcome\n",
    "    FROM mimicdata_2567611159492892.mimic.patients p\n",
    "    JOIN mimicdata_2567611159492892.mimic.admissions a ON p.subject_id = a.subject_id\n",
    "    JOIN mimicdata_2567611159492892.mimic.icustays i ON a.hadm_id = i.hadm_id\n",
    "    WHERE i.los > 0\n",
    ")\n",
    "SELECT \n",
    "    first_careunit,\n",
    "    admission_type,\n",
    "    COUNT(*) as total_icu_stays,\n",
    "    ROUND(AVG(icu_los), 2) as avg_icu_los,\n",
    "    ROUND(100.0 * SUM(survived) / COUNT(*), 2) as survival_rate,\n",
    "    ROUND(100.0 * SUM(good_outcome) / COUNT(*), 2) as good_outcome_rate,\n",
    "    -- Efficiency score: good outcomes per day of ICU care\n",
    "    ROUND(SUM(good_outcome) / SUM(icu_los), 3) as efficiency_score,\n",
    "    -- Survival per ICU day\n",
    "    ROUND(SUM(survived) / SUM(icu_los), 3) as survival_per_icu_day,\n",
    "    ROUND(AVG(age), 1) as avg_patient_age\n",
    "FROM efficiency_metrics\n",
    "GROUP BY first_careunit, admission_type\n",
    "HAVING COUNT(*) >= 5\n",
    "ORDER BY efficiency_score DESC;\n"
   ]
  },
  {
   "cell_type": "code",
   "execution_count": 0,
   "metadata": {
    "application/vnd.databricks.v1+cell": {
     "cellMetadata": {
      "byteLimit": 2048000,
      "implicitDf": true,
      "rowLimit": 10000
     },
     "inputWidgets": {},
     "nuid": "91feaf52-b1fc-44fc-840f-2e2ab95cd8ae",
     "showTitle": true,
     "tableResultSettingsMap": {},
     "title": "PATIENT SAFETY"
    }
   },
   "outputs": [
    {
     "output_type": "display_data",
     "data": {
      "text/html": [
       "<style scoped>\n",
       "  .table-result-container {\n",
       "    max-height: 300px;\n",
       "    overflow: auto;\n",
       "  }\n",
       "  table, th, td {\n",
       "    border: 1px solid black;\n",
       "    border-collapse: collapse;\n",
       "  }\n",
       "  th, td {\n",
       "    padding: 5px;\n",
       "  }\n",
       "  th {\n",
       "    text-align: left;\n",
       "  }\n",
       "</style><div class='table-result-container'><table class='table-result'><thead style='background-color: white'><tr><th>los_category</th><th>total_admissions</th><th>pct_multiple_icu_stays</th><th>pct_with_icu_transfers</th><th>pct_extended_stays</th><th>mortality_rate</th><th>avg_total_icu_days</th><th>high_complexity_rate</th></tr></thead><tbody><tr><td>≤3 days</td><td>35</td><td>0.00</td><td>5.71</td><td>0.00</td><td>51.43</td><td>1.36</td><td>0.00</td></tr><tr><td>4-7 days</td><td>42</td><td>4.76</td><td>4.76</td><td>0.00</td><td>21.43</td><td>2.73</td><td>0.00</td></tr><tr><td>8-14 days</td><td>35</td><td>2.86</td><td>5.71</td><td>0.00</td><td>14.29</td><td>4.6</td><td>0.00</td></tr><tr><td>>14 days</td><td>17</td><td>17.65</td><td>11.76</td><td>100.00</td><td>47.06</td><td>16.59</td><td>0.00</td></tr></tbody></table></div>"
      ]
     },
     "metadata": {
      "application/vnd.databricks.v1+output": {
       "addedWidgets": {},
       "aggData": [],
       "aggError": "",
       "aggOverflow": false,
       "aggSchema": [],
       "aggSeriesLimitReached": false,
       "aggType": "",
       "arguments": {},
       "columnCustomDisplayInfos": {},
       "data": [
        [
         "≤3 days",
         35,
         "0.00",
         "5.71",
         "0.00",
         "51.43",
         1.36,
         "0.00"
        ],
        [
         "4-7 days",
         42,
         "4.76",
         "4.76",
         "0.00",
         "21.43",
         2.73,
         "0.00"
        ],
        [
         "8-14 days",
         35,
         "2.86",
         "5.71",
         "0.00",
         "14.29",
         4.6,
         "0.00"
        ],
        [
         ">14 days",
         17,
         "17.65",
         "11.76",
         "100.00",
         "47.06",
         16.59,
         "0.00"
        ]
       ],
       "datasetInfos": [],
       "dbfsResultPath": null,
       "isJsonSchema": true,
       "metadata": {
        "dataframeName": "_sqldf",
        "executionCount": 4
       },
       "overflow": false,
       "plotOptions": {
        "customPlotOptions": {},
        "displayType": "table",
        "pivotAggregation": null,
        "pivotColumns": null,
        "xColumns": null,
        "yColumns": null
       },
       "removedWidgets": [],
       "schema": [
        {
         "metadata": "{}",
         "name": "los_category",
         "type": "\"string\""
        },
        {
         "metadata": "{}",
         "name": "total_admissions",
         "type": "\"long\""
        },
        {
         "metadata": "{}",
         "name": "pct_multiple_icu_stays",
         "type": "\"decimal(27,2)\""
        },
        {
         "metadata": "{}",
         "name": "pct_with_icu_transfers",
         "type": "\"decimal(27,2)\""
        },
        {
         "metadata": "{}",
         "name": "pct_extended_stays",
         "type": "\"decimal(27,2)\""
        },
        {
         "metadata": "{}",
         "name": "mortality_rate",
         "type": "\"decimal(27,2)\""
        },
        {
         "metadata": "{}",
         "name": "avg_total_icu_days",
         "type": "\"double\""
        },
        {
         "metadata": "{}",
         "name": "high_complexity_rate",
         "type": "\"decimal(27,2)\""
        }
       ],
       "type": "table"
      }
     },
     "output_type": "display_data"
    },
    {
     "output_type": "display_data",
     "data": {
      "text/plain": [
       "Databricks visualization. Run in Databricks to view."
      ]
     },
     "metadata": {
      "application/vnd.databricks.v1.subcommand+json": {
       "baseErrorDetails": null,
       "bindings": {},
       "collapsed": false,
       "command": "%sql WITH q AS (WITH safety_metrics AS (\n    SELECT \n        a.hadm_id,\n        DATEDIFF(a.dischtime, a.admittime) as hospital_los,\n        COUNT(i.icustay_id) as icu_transfers,\n        SUM(i.los) as total_icu_days,\n        a.hospital_expire_flag,\n        CASE \n            WHEN COUNT(i.icustay_id) > 1 THEN 1 \n            ELSE 0 \n        END as multiple_icu_stays,\n        CASE \n            WHEN DATEDIFF(a.dischtime, a.admittime) > 14 THEN 1 \n            ELSE 0 \n        END as extended_stay,\n        CASE \n            WHEN SUM(CASE WHEN i.first_careunit != i.last_careunit THEN 1 ELSE 0 END) > 0 THEN 1 \n            ELSE 0 \n        END as icu_unit_transfers\n    FROM mimicdata_2567611159492892.mimic.admissions a\n    LEFT JOIN mimicdata_2567611159492892.mimic.icustays i ON a.hadm_id = i.hadm_id\n    GROUP BY a.hadm_id, a.admittime, a.dischtime, a.hospital_expire_flag\n)\nSELECT \n    CASE \n        WHEN hospital_los <= 3 THEN '≤3 days'\n        WHEN hospital_los <= 7 THEN '4-7 days'\n        WHEN hospital_los <= 14 THEN '8-14 days'\n        ELSE '>14 days'\n    END as los_category,\n    COUNT(*) as total_admissions,\n    ROUND(100.0 * SUM(multiple_icu_stays) / COUNT(*), 2) as pct_multiple_icu_stays,\n    ROUND(100.0 * SUM(icu_unit_transfers) / COUNT(*), 2) as pct_with_icu_transfers,\n    ROUND(100.0 * SUM(extended_stay) / COUNT(*), 2) as pct_extended_stays,\n    ROUND(100.0 * SUM(hospital_expire_flag) / COUNT(*), 2) as mortality_rate,\n    ROUND(AVG(total_icu_days), 2) as avg_total_icu_days,\n    \n    ROUND(100.0 * SUM(CASE WHEN multiple_icu_stays = 1 AND icu_unit_transfers = 1 THEN 1 ELSE 0 END) / COUNT(*), 2) as high_complexity_rate\nFROM safety_metrics\nGROUP BY los_category\nORDER BY \n    CASE los_category\n        WHEN '≤3 days' THEN 1\n        WHEN '4-7 days' THEN 2\n        WHEN '8-14 days' THEN 3\n        WHEN '>14 days' THEN 4\n    END) SELECT `los_category`,SUM(`total_admissions`) `column_fbd94115644`,SUM(`pct_extended_stays`) `column_fbd94115647`,SUM(`avg_total_icu_days`) `column_fbd94115650`,SUM(`pct_with_icu_transfers`) `column_fbd94115656` FROM q GROUP BY `los_category`",
       "commandTitle": "Visualization 1",
       "commandType": "auto",
       "commandVersion": 0,
       "commentThread": [],
       "commentsVisible": false,
       "contentSha256Hex": null,
       "customPlotOptions": {
        "redashChart": [
         {
          "key": "type",
          "value": "CHART"
         },
         {
          "key": "options",
          "value": {
           "alignYAxesAtZero": true,
           "coefficient": 1,
           "columnConfigurationMap": {
            "x": {
             "column": "los_category",
             "id": "column_fbd94115642"
            },
            "y": [
             {
              "column": "total_admissions",
              "id": "column_fbd94115644",
              "transform": "SUM"
             },
             {
              "column": "pct_extended_stays",
              "id": "column_fbd94115647",
              "transform": "SUM"
             },
             {
              "column": "avg_total_icu_days",
              "id": "column_fbd94115650",
              "transform": "SUM"
             },
             {
              "column": "pct_with_icu_transfers",
              "id": "column_fbd94115656",
              "transform": "SUM"
             }
            ]
           },
           "dateTimeFormat": "DD/MM/YYYY HH:mm",
           "direction": {
            "type": "counterclockwise"
           },
           "error_y": {
            "type": "data",
            "visible": true
           },
           "globalSeriesType": "column",
           "isAggregationOn": true,
           "legend": {
            "traceorder": "normal"
           },
           "missingValuesAsZero": true,
           "numberFormat": "0,0.[00000]",
           "percentFormat": "0[.]00%",
           "series": {
            "error_y": {
             "type": "data",
             "visible": true
            },
            "stacking": null
           },
           "seriesOptions": {
            "column_fbd94115644": {
             "type": "column",
             "yAxis": 0
            },
            "column_fbd94115647": {
             "type": "column",
             "yAxis": 0
            },
            "column_fbd94115650": {
             "type": "column",
             "yAxis": 0
            },
            "column_fbd94115653": {
             "type": "column",
             "yAxis": 0
            },
            "column_fbd94115656": {
             "type": "column",
             "yAxis": 0
            }
           },
           "showDataLabels": false,
           "sizemode": "diameter",
           "sortX": true,
           "sortY": true,
           "swappedAxes": false,
           "textFormat": "",
           "useAggregationsUi": true,
           "valuesOptions": {},
           "version": 2,
           "xAxis": {
            "labels": {
             "enabled": true
            },
            "type": "-"
           },
           "yAxis": [
            {
             "type": "-"
            },
            {
             "opposite": true,
             "type": "-"
            }
           ]
          }
         }
        ]
       },
       "datasetPreviewNameToCmdIdMap": {},
       "diffDeletes": [],
       "diffInserts": [],
       "displayType": "redashChart",
       "error": null,
       "errorDetails": null,
       "errorSummary": null,
       "errorTraceType": null,
       "finishTime": 0,
       "globalVars": {},
       "guid": "",
       "height": "auto",
       "hideCommandCode": false,
       "hideCommandResult": false,
       "iPythonMetadata": null,
       "inputWidgets": {},
       "isLockedInExamMode": false,
       "latestUser": "a user",
       "latestUserId": null,
       "listResultMetadata": null,
       "metadata": {},
       "nuid": "08afe6f3-e5b6-4c1b-ad8e-897b01e0bf5b",
       "origId": 0,
       "parentHierarchy": [],
       "pivotAggregation": null,
       "pivotColumns": null,
       "position": 20.0,
       "resultDbfsErrorMessage": null,
       "resultDbfsStatus": "INLINED_IN_TREE",
       "results": null,
       "showCommandTitle": false,
       "startTime": 0,
       "state": "input",
       "streamStates": {},
       "subcommandOptions": {
        "queryPlan": {
         "groups": [
          {
           "column": "los_category",
           "type": "column"
          }
         ],
         "selects": [
          {
           "column": "los_category",
           "type": "column"
          },
          {
           "alias": "column_fbd94115644",
           "args": [
            {
             "column": "total_admissions",
             "type": "column"
            }
           ],
           "function": "SUM",
           "type": "function"
          },
          {
           "alias": "column_fbd94115647",
           "args": [
            {
             "column": "pct_extended_stays",
             "type": "column"
            }
           ],
           "function": "SUM",
           "type": "function"
          },
          {
           "alias": "column_fbd94115650",
           "args": [
            {
             "column": "avg_total_icu_days",
             "type": "column"
            }
           ],
           "function": "SUM",
           "type": "function"
          },
          {
           "alias": "column_fbd94115656",
           "args": [
            {
             "column": "pct_with_icu_transfers",
             "type": "column"
            }
           ],
           "function": "SUM",
           "type": "function"
          }
         ]
        }
       },
       "submitTime": 0,
       "subtype": "tableResultSubCmd.visualization",
       "tableResultIndex": 0,
       "tableResultSettingsMap": {},
       "useConsistentColors": false,
       "version": "CommandV1",
       "width": "auto",
       "workflows": [],
       "xColumns": null,
       "yColumns": null
      }
     },
     "output_type": "display_data"
    }
   ],
   "source": [
    "%sql\n",
    "WITH safety_metrics AS (\n",
    "    SELECT \n",
    "        a.hadm_id,\n",
    "        DATEDIFF(a.dischtime, a.admittime) as hospital_los,\n",
    "        COUNT(i.icustay_id) as icu_transfers,\n",
    "        SUM(i.los) as total_icu_days,\n",
    "        a.hospital_expire_flag,\n",
    "        CASE \n",
    "            WHEN COUNT(i.icustay_id) > 1 THEN 1 \n",
    "            ELSE 0 \n",
    "        END as multiple_icu_stays,\n",
    "        CASE \n",
    "            WHEN DATEDIFF(a.dischtime, a.admittime) > 14 THEN 1 \n",
    "            ELSE 0 \n",
    "        END as extended_stay,\n",
    "        CASE \n",
    "            WHEN SUM(CASE WHEN i.first_careunit != i.last_careunit THEN 1 ELSE 0 END) > 0 THEN 1 \n",
    "            ELSE 0 \n",
    "        END as icu_unit_transfers\n",
    "    FROM mimicdata_2567611159492892.mimic.admissions a\n",
    "    LEFT JOIN mimicdata_2567611159492892.mimic.icustays i ON a.hadm_id = i.hadm_id\n",
    "    GROUP BY a.hadm_id, a.admittime, a.dischtime, a.hospital_expire_flag\n",
    ")\n",
    "SELECT \n",
    "    CASE \n",
    "        WHEN hospital_los <= 3 THEN '≤3 days'\n",
    "        WHEN hospital_los <= 7 THEN '4-7 days'\n",
    "        WHEN hospital_los <= 14 THEN '8-14 days'\n",
    "        ELSE '>14 days'\n",
    "    END as los_category,\n",
    "    COUNT(*) as total_admissions,\n",
    "    ROUND(100.0 * SUM(multiple_icu_stays) / COUNT(*), 2) as pct_multiple_icu_stays,\n",
    "    ROUND(100.0 * SUM(icu_unit_transfers) / COUNT(*), 2) as pct_with_icu_transfers,\n",
    "    ROUND(100.0 * SUM(extended_stay) / COUNT(*), 2) as pct_extended_stays,\n",
    "    ROUND(100.0 * SUM(hospital_expire_flag) / COUNT(*), 2) as mortality_rate,\n",
    "    ROUND(AVG(total_icu_days), 2) as avg_total_icu_days,\n",
    "    -- Risk indicator: combination of complexity factors\n",
    "    ROUND(100.0 * SUM(CASE WHEN multiple_icu_stays = 1 AND icu_unit_transfers = 1 THEN 1 ELSE 0 END) / COUNT(*), 2) as high_complexity_rate\n",
    "FROM safety_metrics\n",
    "GROUP BY los_category\n",
    "ORDER BY \n",
    "    CASE los_category\n",
    "        WHEN '≤3 days' THEN 1\n",
    "        WHEN '4-7 days' THEN 2\n",
    "        WHEN '8-14 days' THEN 3\n",
    "        WHEN '>14 days' THEN 4\n",
    "    END;"
   ]
  },
  {
   "cell_type": "code",
   "execution_count": 0,
   "metadata": {
    "application/vnd.databricks.v1+cell": {
     "cellMetadata": {
      "byteLimit": 2048000,
      "implicitDf": true,
      "rowLimit": 10000
     },
     "inputWidgets": {},
     "nuid": "91f0e6d1-69c2-40d4-b18d-8a94143518d1",
     "showTitle": true,
     "tableResultSettingsMap": {},
     "title": "AGE-ADJUSTED OUTCOME"
    }
   },
   "outputs": [
    {
     "output_type": "display_data",
     "data": {
      "text/html": [
       "<style scoped>\n",
       "  .table-result-container {\n",
       "    max-height: 300px;\n",
       "    overflow: auto;\n",
       "  }\n",
       "  table, th, td {\n",
       "    border: 1px solid black;\n",
       "    border-collapse: collapse;\n",
       "  }\n",
       "  th, td {\n",
       "    padding: 5px;\n",
       "  }\n",
       "  th {\n",
       "    text-align: left;\n",
       "  }\n",
       "</style><div class='table-result-container'><table class='table-result'><thead style='background-color: white'><tr><th>admission_type</th><th>care_unit</th><th>total_patients</th><th>avg_age</th><th>raw_mortality_rate</th><th>raw_avg_hospital_los</th><th>age_adjusted_mortality_rate</th><th>age_adjusted_avg_los</th><th>mortality_vs_benchmark</th><th>los_vs_benchmark</th></tr></thead><tbody><tr><td>EMERGENCY</td><td>CCU</td><td>18</td><td>81.8</td><td>33.33</td><td>15.74</td><td>30.00</td><td>14.82</td><td>-0.49</td><td>5.99</td></tr><tr><td>EMERGENCY</td><td>MICU</td><td>74</td><td>88.0</td><td>32.43</td><td>8.68</td><td>30.77</td><td>8.77</td><td>-1.39</td><td>-1.07</td></tr><tr><td>EMERGENCY</td><td>SICU</td><td>20</td><td>86.0</td><td>35.00</td><td>11.02</td><td>32.41</td><td>10.94</td><td>1.18</td><td>1.27</td></tr><tr><td>EMERGENCY</td><td>TSICU</td><td>11</td><td>75.8</td><td>63.64</td><td>5.18</td><td>62.71</td><td>4.91</td><td>29.81</td><td>-4.56</td></tr></tbody></table></div>"
      ]
     },
     "metadata": {
      "application/vnd.databricks.v1+output": {
       "addedWidgets": {},
       "aggData": [],
       "aggError": "",
       "aggOverflow": false,
       "aggSchema": [],
       "aggSeriesLimitReached": false,
       "aggType": "",
       "arguments": {},
       "columnCustomDisplayInfos": {},
       "data": [
        [
         "EMERGENCY",
         "CCU",
         18,
         81.8,
         "33.33",
         15.74,
         "30.00",
         14.82,
         "-0.49",
         5.99
        ],
        [
         "EMERGENCY",
         "MICU",
         74,
         88.0,
         "32.43",
         8.68,
         "30.77",
         8.77,
         "-1.39",
         -1.07
        ],
        [
         "EMERGENCY",
         "SICU",
         20,
         86.0,
         "35.00",
         11.02,
         "32.41",
         10.94,
         "1.18",
         1.27
        ],
        [
         "EMERGENCY",
         "TSICU",
         11,
         75.8,
         "63.64",
         5.18,
         "62.71",
         4.91,
         "29.81",
         -4.56
        ]
       ],
       "datasetInfos": [],
       "dbfsResultPath": null,
       "isJsonSchema": true,
       "metadata": {
        "dataframeName": "_sqldf",
        "executionCount": 7
       },
       "overflow": false,
       "plotOptions": {
        "customPlotOptions": {},
        "displayType": "table",
        "pivotAggregation": null,
        "pivotColumns": null,
        "xColumns": null,
        "yColumns": null
       },
       "removedWidgets": [],
       "schema": [
        {
         "metadata": "{}",
         "name": "admission_type",
         "type": "\"string\""
        },
        {
         "metadata": "{}",
         "name": "care_unit",
         "type": "\"string\""
        },
        {
         "metadata": "{}",
         "name": "total_patients",
         "type": "\"long\""
        },
        {
         "metadata": "{}",
         "name": "avg_age",
         "type": "\"double\""
        },
        {
         "metadata": "{}",
         "name": "raw_mortality_rate",
         "type": "\"decimal(27,2)\""
        },
        {
         "metadata": "{}",
         "name": "raw_avg_hospital_los",
         "type": "\"double\""
        },
        {
         "metadata": "{}",
         "name": "age_adjusted_mortality_rate",
         "type": "\"decimal(30,2)\""
        },
        {
         "metadata": "{}",
         "name": "age_adjusted_avg_los",
         "type": "\"double\""
        },
        {
         "metadata": "{}",
         "name": "mortality_vs_benchmark",
         "type": "\"decimal(28,2)\""
        },
        {
         "metadata": "{}",
         "name": "los_vs_benchmark",
         "type": "\"double\""
        }
       ],
       "type": "table"
      }
     },
     "output_type": "display_data"
    },
    {
     "output_type": "display_data",
     "data": {
      "text/plain": [
       "Databricks visualization. Run in Databricks to view."
      ]
     },
     "metadata": {
      "application/vnd.databricks.v1.subcommand+json": {
       "baseErrorDetails": null,
       "bindings": {},
       "collapsed": false,
       "command": "%sql WITH q AS (WITH age_adjusted_outcomes AS (\n    SELECT \n        a.hadm_id,\n        EXTRACT(YEAR FROM a.admittime) - EXTRACT(YEAR FROM p.dob) as age,\n        a.admission_type,\n        i.first_careunit,\n        TIMESTAMPDIFF(SECOND, a.admittime, a.dischtime)/86400 as hospital_los,\n        COALESCE(i.los, 0) as icu_los,\n        a.hospital_expire_flag,\n        \n        CASE \n            WHEN EXTRACT(YEAR FROM a.admittime) - EXTRACT(YEAR FROM p.dob) < 30 THEN 0.15\n            WHEN EXTRACT(YEAR FROM a.admittime) - EXTRACT(YEAR FROM p.dob) < 50 THEN 0.25\n            WHEN EXTRACT(YEAR FROM a.admittime) - EXTRACT(YEAR FROM p.dob) < 70 THEN 0.35\n            ELSE 0.25\n        END as age_weight\n    FROM mimicdata_2567611159492892.mimic.patients p\n    JOIN mimicdata_2567611159492892.mimic.admissions a ON p.subject_id = a.subject_id\n    LEFT JOIN mimicdata_2567611159492892.mimic.icustays i ON a.hadm_id = i.hadm_id\n)\nSELECT \n    admission_type,\n    COALESCE(first_careunit, 'No ICU') as care_unit,\n    COUNT(*) as total_patients,\n    ROUND(AVG(age), 1) as avg_age,\n    \n    ROUND(100.0 * SUM(hospital_expire_flag) / COUNT(*), 2) as raw_mortality_rate,\n    ROUND(AVG(hospital_los), 2) as raw_avg_hospital_los,\n    \n    ROUND(100.0 * SUM(hospital_expire_flag * age_weight) / SUM(age_weight), 2) as age_adjusted_mortality_rate,\n    ROUND(SUM(hospital_los * age_weight) / SUM(age_weight), 2) as age_adjusted_avg_los,\n    \n    ROUND(100.0 * SUM(hospital_expire_flag) / COUNT(*) - \n          (SELECT 100.0 * SUM(hospital_expire_flag) / COUNT(*) FROM age_adjusted_outcomes), 2) as mortality_vs_benchmark,\n    ROUND(AVG(hospital_los) - \n          (SELECT AVG(hospital_los) FROM age_adjusted_outcomes), 2) as los_vs_benchmark\nFROM age_adjusted_outcomes\nGROUP BY admission_type, first_careunit\nHAVING COUNT(*) >= 10\nORDER BY age_adjusted_mortality_rate) SELECT `admission_type`,SUM(`avg_age`) `column_fbd94115660`,SUM(`raw_mortality_rate`) `column_fbd94115663`,SUM(`total_patients`) `column_fbd94115666`,SUM(`mortality_vs_benchmark`) `column_fbd94115669` FROM q GROUP BY `admission_type`",
       "commandTitle": "Visualization 1",
       "commandType": "auto",
       "commandVersion": 0,
       "commentThread": [],
       "commentsVisible": false,
       "contentSha256Hex": null,
       "customPlotOptions": {
        "redashChart": [
         {
          "key": "type",
          "value": "CHART"
         },
         {
          "key": "options",
          "value": {
           "alignYAxesAtZero": true,
           "coefficient": 1,
           "columnConfigurationMap": {
            "x": {
             "column": "admission_type",
             "id": "column_fbd94115658"
            },
            "y": [
             {
              "column": "avg_age",
              "id": "column_fbd94115660",
              "transform": "SUM"
             },
             {
              "column": "raw_mortality_rate",
              "id": "column_fbd94115663",
              "transform": "SUM"
             },
             {
              "column": "total_patients",
              "id": "column_fbd94115666",
              "transform": "SUM"
             },
             {
              "column": "mortality_vs_benchmark",
              "id": "column_fbd94115669",
              "transform": "SUM"
             }
            ]
           },
           "dateTimeFormat": "DD/MM/YYYY HH:mm",
           "direction": {
            "type": "counterclockwise"
           },
           "error_y": {
            "type": "data",
            "visible": true
           },
           "globalSeriesType": "column",
           "isAggregationOn": true,
           "legend": {
            "traceorder": "normal"
           },
           "missingValuesAsZero": true,
           "numberFormat": "0,0.[00000]",
           "percentFormat": "0[.]00%",
           "series": {
            "error_y": {
             "type": "data",
             "visible": true
            },
            "stacking": null
           },
           "seriesOptions": {
            "column_fbd94115660": {
             "type": "column",
             "yAxis": 0
            },
            "column_fbd94115663": {
             "type": "column",
             "yAxis": 0
            },
            "column_fbd94115666": {
             "type": "column",
             "yAxis": 0
            },
            "column_fbd94115669": {
             "type": "column",
             "yAxis": 0
            }
           },
           "showDataLabels": false,
           "sizemode": "diameter",
           "sortX": true,
           "sortY": true,
           "swappedAxes": false,
           "textFormat": "",
           "useAggregationsUi": true,
           "valuesOptions": {},
           "version": 2,
           "xAxis": {
            "labels": {
             "enabled": true
            },
            "type": "-"
           },
           "yAxis": [
            {
             "type": "-"
            },
            {
             "opposite": true,
             "type": "-"
            }
           ]
          }
         }
        ]
       },
       "datasetPreviewNameToCmdIdMap": {},
       "diffDeletes": [],
       "diffInserts": [],
       "displayType": "redashChart",
       "error": null,
       "errorDetails": null,
       "errorSummary": null,
       "errorTraceType": null,
       "finishTime": 0,
       "globalVars": {},
       "guid": "",
       "height": "auto",
       "hideCommandCode": false,
       "hideCommandResult": false,
       "iPythonMetadata": null,
       "inputWidgets": {},
       "isLockedInExamMode": false,
       "latestUser": "a user",
       "latestUserId": null,
       "listResultMetadata": null,
       "metadata": {},
       "nuid": "22a2c4f3-f42d-44a4-b9a9-bd0d440d5c1a",
       "origId": 0,
       "parentHierarchy": [],
       "pivotAggregation": null,
       "pivotColumns": null,
       "position": 21.0,
       "resultDbfsErrorMessage": null,
       "resultDbfsStatus": "INLINED_IN_TREE",
       "results": null,
       "showCommandTitle": false,
       "startTime": 0,
       "state": "input",
       "streamStates": {},
       "subcommandOptions": {
        "queryPlan": {
         "groups": [
          {
           "column": "admission_type",
           "type": "column"
          }
         ],
         "selects": [
          {
           "column": "admission_type",
           "type": "column"
          },
          {
           "alias": "column_fbd94115660",
           "args": [
            {
             "column": "avg_age",
             "type": "column"
            }
           ],
           "function": "SUM",
           "type": "function"
          },
          {
           "alias": "column_fbd94115663",
           "args": [
            {
             "column": "raw_mortality_rate",
             "type": "column"
            }
           ],
           "function": "SUM",
           "type": "function"
          },
          {
           "alias": "column_fbd94115666",
           "args": [
            {
             "column": "total_patients",
             "type": "column"
            }
           ],
           "function": "SUM",
           "type": "function"
          },
          {
           "alias": "column_fbd94115669",
           "args": [
            {
             "column": "mortality_vs_benchmark",
             "type": "column"
            }
           ],
           "function": "SUM",
           "type": "function"
          }
         ]
        }
       },
       "submitTime": 0,
       "subtype": "tableResultSubCmd.visualization",
       "tableResultIndex": 0,
       "tableResultSettingsMap": {},
       "useConsistentColors": false,
       "version": "CommandV1",
       "width": "auto",
       "workflows": [],
       "xColumns": null,
       "yColumns": null
      }
     },
     "output_type": "display_data"
    }
   ],
   "source": [
    "%sql\n",
    "WITH age_adjusted_outcomes AS (\n",
    "    SELECT \n",
    "        a.hadm_id,\n",
    "        EXTRACT(YEAR FROM a.admittime) - EXTRACT(YEAR FROM p.dob) as age,\n",
    "        a.admission_type,\n",
    "        i.first_careunit,\n",
    "        TIMESTAMPDIFF(SECOND, a.admittime, a.dischtime)/86400 as hospital_los,\n",
    "        COALESCE(i.los, 0) as icu_los,\n",
    "        a.hospital_expire_flag,\n",
    "        -- Age standardization weights (approximate)\n",
    "        CASE \n",
    "            WHEN EXTRACT(YEAR FROM a.admittime) - EXTRACT(YEAR FROM p.dob) < 30 THEN 0.15\n",
    "            WHEN EXTRACT(YEAR FROM a.admittime) - EXTRACT(YEAR FROM p.dob) < 50 THEN 0.25\n",
    "            WHEN EXTRACT(YEAR FROM a.admittime) - EXTRACT(YEAR FROM p.dob) < 70 THEN 0.35\n",
    "            ELSE 0.25\n",
    "        END as age_weight\n",
    "    FROM mimicdata_2567611159492892.mimic.patients p\n",
    "    JOIN mimicdata_2567611159492892.mimic.admissions a ON p.subject_id = a.subject_id\n",
    "    LEFT JOIN mimicdata_2567611159492892.mimic.icustays i ON a.hadm_id = i.hadm_id\n",
    ")\n",
    "SELECT \n",
    "    admission_type,\n",
    "    COALESCE(first_careunit, 'No ICU') as care_unit,\n",
    "    COUNT(*) as total_patients,\n",
    "    ROUND(AVG(age), 1) as avg_age,\n",
    "    -- Raw outcomes\n",
    "    ROUND(100.0 * SUM(hospital_expire_flag) / COUNT(*), 2) as raw_mortality_rate,\n",
    "    ROUND(AVG(hospital_los), 2) as raw_avg_hospital_los,\n",
    "    -- Age-adjusted outcomes (simplified calculation)\n",
    "    ROUND(100.0 * SUM(hospital_expire_flag * age_weight) / SUM(age_weight), 2) as age_adjusted_mortality_rate,\n",
    "    ROUND(SUM(hospital_los * age_weight) / SUM(age_weight), 2) as age_adjusted_avg_los,\n",
    "    -- Performance compared to overall average\n",
    "    ROUND(100.0 * SUM(hospital_expire_flag) / COUNT(*) - \n",
    "          (SELECT 100.0 * SUM(hospital_expire_flag) / COUNT(*) FROM age_adjusted_outcomes), 2) as mortality_vs_benchmark,\n",
    "    ROUND(AVG(hospital_los) - \n",
    "          (SELECT AVG(hospital_los) FROM age_adjusted_outcomes), 2) as los_vs_benchmark\n",
    "FROM age_adjusted_outcomes\n",
    "GROUP BY admission_type, first_careunit\n",
    "HAVING COUNT(*) >= 10\n",
    "ORDER BY age_adjusted_mortality_rate;"
   ]
  },
  {
   "cell_type": "code",
   "execution_count": 0,
   "metadata": {
    "application/vnd.databricks.v1+cell": {
     "cellMetadata": {
      "byteLimit": 2048000,
      "implicitDf": true,
      "rowLimit": 10000
     },
     "inputWidgets": {},
     "nuid": "87d2a002-86a0-4543-81a3-f404ccc6f285",
     "showTitle": true,
     "tableResultSettingsMap": {},
     "title": "CARE COORDINATION"
    }
   },
   "outputs": [
    {
     "output_type": "display_data",
     "data": {
      "text/html": [
       "<style scoped>\n",
       "  .table-result-container {\n",
       "    max-height: 300px;\n",
       "    overflow: auto;\n",
       "  }\n",
       "  table, th, td {\n",
       "    border: 1px solid black;\n",
       "    border-collapse: collapse;\n",
       "  }\n",
       "  th, td {\n",
       "    padding: 5px;\n",
       "  }\n",
       "  th {\n",
       "    text-align: left;\n",
       "  }\n",
       "</style><div class='table-result-container'><table class='table-result'><thead style='background-color: white'><tr><th>icu_pathway</th><th>admission_type</th><th>total_patients</th><th>avg_age</th><th>avg_hospital_los</th><th>avg_icu_los</th><th>avg_hours_to_icu</th><th>mortality_rate</th><th>home_discharge_rate</th><th>coordination_effectiveness_score</th></tr></thead><tbody><tr><td>Transferred to ICU</td><td>ELECTIVE</td><td>5</td><td>72.4</td><td>12.94</td><td>2.66</td><td>22.55</td><td>0.00</td><td>80.00</td><td>0.062</td></tr><tr><td>Direct ICU</td><td>EMERGENCY</td><td>93</td><td>90.3</td><td>7.57</td><td>4.18</td><td>0.27</td><td>31.18</td><td>19.35</td><td>0.026</td></tr><tr><td>Transferred to ICU</td><td>EMERGENCY</td><td>33</td><td>72.0</td><td>15.63</td><td>5.53</td><td>95.1</td><td>48.48</td><td>18.18</td><td>0.012</td></tr></tbody></table></div>"
      ]
     },
     "metadata": {
      "application/vnd.databricks.v1+output": {
       "addedWidgets": {},
       "aggData": [],
       "aggError": "",
       "aggOverflow": false,
       "aggSchema": [],
       "aggSeriesLimitReached": false,
       "aggType": "",
       "arguments": {},
       "columnCustomDisplayInfos": {},
       "data": [
        [
         "Transferred to ICU",
         "ELECTIVE",
         5,
         72.4,
         12.94,
         2.66,
         22.55,
         "0.00",
         "80.00",
         0.062
        ],
        [
         "Direct ICU",
         "EMERGENCY",
         93,
         90.3,
         7.57,
         4.18,
         0.27,
         "31.18",
         "19.35",
         0.026
        ],
        [
         "Transferred to ICU",
         "EMERGENCY",
         33,
         72.0,
         15.63,
         5.53,
         95.1,
         "48.48",
         "18.18",
         0.012
        ]
       ],
       "datasetInfos": [],
       "dbfsResultPath": null,
       "isJsonSchema": true,
       "metadata": {
        "dataframeName": "_sqldf",
        "executionCount": 9
       },
       "overflow": false,
       "plotOptions": {
        "customPlotOptions": {},
        "displayType": "table",
        "pivotAggregation": null,
        "pivotColumns": null,
        "xColumns": null,
        "yColumns": null
       },
       "removedWidgets": [],
       "schema": [
        {
         "metadata": "{}",
         "name": "icu_pathway",
         "type": "\"string\""
        },
        {
         "metadata": "{}",
         "name": "admission_type",
         "type": "\"string\""
        },
        {
         "metadata": "{}",
         "name": "total_patients",
         "type": "\"long\""
        },
        {
         "metadata": "{}",
         "name": "avg_age",
         "type": "\"double\""
        },
        {
         "metadata": "{}",
         "name": "avg_hospital_los",
         "type": "\"double\""
        },
        {
         "metadata": "{}",
         "name": "avg_icu_los",
         "type": "\"double\""
        },
        {
         "metadata": "{}",
         "name": "avg_hours_to_icu",
         "type": "\"double\""
        },
        {
         "metadata": "{}",
         "name": "mortality_rate",
         "type": "\"decimal(27,2)\""
        },
        {
         "metadata": "{}",
         "name": "home_discharge_rate",
         "type": "\"decimal(27,2)\""
        },
        {
         "metadata": "{}",
         "name": "coordination_effectiveness_score",
         "type": "\"double\""
        }
       ],
       "type": "table"
      }
     },
     "output_type": "display_data"
    },
    {
     "output_type": "display_data",
     "data": {
      "text/plain": [
       "Databricks visualization. Run in Databricks to view."
      ]
     },
     "metadata": {
      "application/vnd.databricks.v1.subcommand+json": {
       "baseErrorDetails": null,
       "bindings": {},
       "collapsed": false,
       "command": "%sql WITH q AS (WITH care_coordination AS (\n    SELECT \n        a.hadm_id,\n        a.admission_type,\n        CASE \n            WHEN i.intime <= a.admittime + INTERVAL '6 hours' THEN 'Direct ICU'\n            WHEN i.intime IS NOT NULL THEN 'Transferred to ICU'\n            ELSE 'No ICU'\n        END as icu_pathway,\n        EXTRACT(YEAR FROM a.admittime) - EXTRACT(YEAR FROM p.dob) as age,\n        (UNIX_TIMESTAMP(a.dischtime) - UNIX_TIMESTAMP(a.admittime))/86400 as hospital_los,\n        COALESCE(i.los, 0) as icu_los,\n        a.hospital_expire_flag,\n        a.discharge_location,\n        CASE \n            WHEN i.intime IS NOT NULL \n            THEN (UNIX_TIMESTAMP(i.intime) - UNIX_TIMESTAMP(a.admittime))/3600 \n            ELSE NULL \n        END as hours_to_icu\n    FROM mimicdata_2567611159492892.mimic.patients p\n    JOIN mimicdata_2567611159492892.mimic.admissions a ON p.subject_id = a.subject_id\n    LEFT JOIN mimicdata_2567611159492892.mimic.icustays i ON a.hadm_id = i.hadm_id\n)\nSELECT \n    icu_pathway,\n    admission_type,\n    COUNT(*) as total_patients,\n    ROUND(AVG(age), 1) as avg_age,\n    ROUND(AVG(hospital_los), 2) as avg_hospital_los,\n    ROUND(AVG(icu_los), 2) as avg_icu_los,\n    ROUND(AVG(hours_to_icu), 2) as avg_hours_to_icu,\n    ROUND(100.0 * SUM(hospital_expire_flag) / COUNT(*), 2) as mortality_rate,\n    ROUND(100.0 * COUNT(CASE WHEN discharge_location IN ('HOME', 'HOME HEALTH CARE') THEN 1 END) / COUNT(*), 2) as home_discharge_rate,\n    \n    ROUND(COUNT(CASE WHEN discharge_location IN ('HOME', 'HOME HEALTH CARE') THEN 1 END) / SUM(hospital_los), 3) as coordination_effectiveness_score\nFROM care_coordination\nGROUP BY icu_pathway, admission_type\nHAVING COUNT(*) >= 5\nORDER BY coordination_effectiveness_score DESC) SELECT `icu_pathway`,SUM(`total_patients`) `column_fbd94115673`,SUM(`avg_age`) `column_fbd94115676`,SUM(`avg_hospital_los`) `column_fbd94115679`,SUM(`home_discharge_rate`) `column_fbd94115682`,SUM(`home_discharge_rate`) `column_fbd94115685` FROM q GROUP BY `icu_pathway`",
       "commandTitle": "Visualization 1",
       "commandType": "auto",
       "commandVersion": 0,
       "commentThread": [],
       "commentsVisible": false,
       "contentSha256Hex": null,
       "customPlotOptions": {
        "redashChart": [
         {
          "key": "type",
          "value": "CHART"
         },
         {
          "key": "options",
          "value": {
           "alignYAxesAtZero": true,
           "coefficient": 1,
           "columnConfigurationMap": {
            "x": {
             "column": "icu_pathway",
             "id": "column_fbd94115671"
            },
            "y": [
             {
              "column": "total_patients",
              "id": "column_fbd94115673",
              "transform": "SUM"
             },
             {
              "column": "avg_age",
              "id": "column_fbd94115676",
              "transform": "SUM"
             },
             {
              "column": "avg_hospital_los",
              "id": "column_fbd94115679",
              "transform": "SUM"
             },
             {
              "column": "home_discharge_rate",
              "id": "column_fbd94115682",
              "transform": "SUM"
             },
             {
              "column": "home_discharge_rate",
              "id": "column_fbd94115685",
              "transform": "SUM"
             }
            ]
           },
           "dateTimeFormat": "DD/MM/YYYY HH:mm",
           "direction": {
            "type": "counterclockwise"
           },
           "error_y": {
            "type": "data",
            "visible": true
           },
           "globalSeriesType": "column",
           "isAggregationOn": true,
           "legend": {
            "traceorder": "normal"
           },
           "missingValuesAsZero": true,
           "numberFormat": "0,0.[00000]",
           "percentFormat": "0[.]00%",
           "series": {
            "error_y": {
             "type": "data",
             "visible": true
            },
            "stacking": null
           },
           "seriesOptions": {
            "column_fbd94115673": {
             "type": "column",
             "yAxis": 0
            },
            "column_fbd94115676": {
             "type": "column",
             "yAxis": 0
            },
            "column_fbd94115679": {
             "type": "column",
             "yAxis": 0
            },
            "column_fbd94115682": {
             "type": "column",
             "yAxis": 0
            },
            "column_fbd94115685": {
             "type": "column",
             "yAxis": 0
            }
           },
           "showDataLabels": false,
           "sizemode": "diameter",
           "sortX": true,
           "sortY": true,
           "swappedAxes": false,
           "textFormat": "",
           "useAggregationsUi": true,
           "valuesOptions": {},
           "version": 2,
           "xAxis": {
            "labels": {
             "enabled": true
            },
            "type": "-"
           },
           "yAxis": [
            {
             "type": "-"
            },
            {
             "opposite": true,
             "type": "-"
            }
           ]
          }
         }
        ]
       },
       "datasetPreviewNameToCmdIdMap": {},
       "diffDeletes": [],
       "diffInserts": [],
       "displayType": "redashChart",
       "error": null,
       "errorDetails": null,
       "errorSummary": null,
       "errorTraceType": null,
       "finishTime": 0,
       "globalVars": {},
       "guid": "",
       "height": "auto",
       "hideCommandCode": false,
       "hideCommandResult": false,
       "iPythonMetadata": null,
       "inputWidgets": {},
       "isLockedInExamMode": false,
       "latestUser": "a user",
       "latestUserId": null,
       "listResultMetadata": null,
       "metadata": {},
       "nuid": "e89ad928-0201-4ff1-8821-b24a362561ab",
       "origId": 0,
       "parentHierarchy": [],
       "pivotAggregation": null,
       "pivotColumns": null,
       "position": 22.0,
       "resultDbfsErrorMessage": null,
       "resultDbfsStatus": "INLINED_IN_TREE",
       "results": null,
       "showCommandTitle": false,
       "startTime": 0,
       "state": "input",
       "streamStates": {},
       "subcommandOptions": {
        "queryPlan": {
         "groups": [
          {
           "column": "icu_pathway",
           "type": "column"
          }
         ],
         "selects": [
          {
           "column": "icu_pathway",
           "type": "column"
          },
          {
           "alias": "column_fbd94115673",
           "args": [
            {
             "column": "total_patients",
             "type": "column"
            }
           ],
           "function": "SUM",
           "type": "function"
          },
          {
           "alias": "column_fbd94115676",
           "args": [
            {
             "column": "avg_age",
             "type": "column"
            }
           ],
           "function": "SUM",
           "type": "function"
          },
          {
           "alias": "column_fbd94115679",
           "args": [
            {
             "column": "avg_hospital_los",
             "type": "column"
            }
           ],
           "function": "SUM",
           "type": "function"
          },
          {
           "alias": "column_fbd94115682",
           "args": [
            {
             "column": "home_discharge_rate",
             "type": "column"
            }
           ],
           "function": "SUM",
           "type": "function"
          },
          {
           "alias": "column_fbd94115685",
           "args": [
            {
             "column": "home_discharge_rate",
             "type": "column"
            }
           ],
           "function": "SUM",
           "type": "function"
          }
         ]
        }
       },
       "submitTime": 0,
       "subtype": "tableResultSubCmd.visualization",
       "tableResultIndex": 0,
       "tableResultSettingsMap": {},
       "useConsistentColors": false,
       "version": "CommandV1",
       "width": "auto",
       "workflows": [],
       "xColumns": null,
       "yColumns": null
      }
     },
     "output_type": "display_data"
    }
   ],
   "source": [
    "%sql\n",
    "WITH care_coordination AS (\n",
    "    SELECT \n",
    "        a.hadm_id,\n",
    "        a.admission_type,\n",
    "        CASE \n",
    "            WHEN i.intime <= a.admittime + INTERVAL '6 hours' THEN 'Direct ICU'\n",
    "            WHEN i.intime IS NOT NULL THEN 'Transferred to ICU'\n",
    "            ELSE 'No ICU'\n",
    "        END as icu_pathway,\n",
    "        EXTRACT(YEAR FROM a.admittime) - EXTRACT(YEAR FROM p.dob) as age,\n",
    "        (UNIX_TIMESTAMP(a.dischtime) - UNIX_TIMESTAMP(a.admittime))/86400 as hospital_los,\n",
    "        COALESCE(i.los, 0) as icu_los,\n",
    "        a.hospital_expire_flag,\n",
    "        a.discharge_location,\n",
    "        CASE \n",
    "            WHEN i.intime IS NOT NULL \n",
    "            THEN (UNIX_TIMESTAMP(i.intime) - UNIX_TIMESTAMP(a.admittime))/3600 \n",
    "            ELSE NULL \n",
    "        END as hours_to_icu\n",
    "    FROM mimicdata_2567611159492892.mimic.patients p\n",
    "    JOIN mimicdata_2567611159492892.mimic.admissions a ON p.subject_id = a.subject_id\n",
    "    LEFT JOIN mimicdata_2567611159492892.mimic.icustays i ON a.hadm_id = i.hadm_id\n",
    ")\n",
    "SELECT \n",
    "    icu_pathway,\n",
    "    admission_type,\n",
    "    COUNT(*) as total_patients,\n",
    "    ROUND(AVG(age), 1) as avg_age,\n",
    "    ROUND(AVG(hospital_los), 2) as avg_hospital_los,\n",
    "    ROUND(AVG(icu_los), 2) as avg_icu_los,\n",
    "    ROUND(AVG(hours_to_icu), 2) as avg_hours_to_icu,\n",
    "    ROUND(100.0 * SUM(hospital_expire_flag) / COUNT(*), 2) as mortality_rate,\n",
    "    ROUND(100.0 * COUNT(CASE WHEN discharge_location IN ('HOME', 'HOME HEALTH CARE') THEN 1 END) / COUNT(*), 2) as home_discharge_rate,\n",
    "    -- Effectiveness score: home discharges per hospital day\n",
    "    ROUND(COUNT(CASE WHEN discharge_location IN ('HOME', 'HOME HEALTH CARE') THEN 1 END) / SUM(hospital_los), 3) as coordination_effectiveness_score\n",
    "FROM care_coordination\n",
    "GROUP BY icu_pathway, admission_type\n",
    "HAVING COUNT(*) >= 5\n",
    "ORDER BY coordination_effectiveness_score DESC;"
   ]
  }
 ],
 "metadata": {
  "application/vnd.databricks.v1+notebook": {
   "computePreferences": null,
   "dashboards": [],
   "environmentMetadata": {
    "base_environment": "",
    "environment_version": "2"
   },
   "inputWidgetPreferences": null,
   "language": "python",
   "notebookMetadata": {
    "mostRecentlyExecutedCommandWithImplicitDF": {
     "commandId": 8540047121894935,
     "dataframes": [
      "_sqldf"
     ]
    },
    "pythonIndentUnit": 4
   },
   "notebookName": "admissions+patients+icustay",
   "widgets": {}
  },
  "language_info": {
   "name": "python"
  }
 },
 "nbformat": 4,
 "nbformat_minor": 0
}