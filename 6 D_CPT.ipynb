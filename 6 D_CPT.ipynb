{
 "cells": [
  {
   "cell_type": "code",
   "execution_count": 0,
   "metadata": {
    "application/vnd.databricks.v1+cell": {
     "cellMetadata": {
      "byteLimit": 2048000,
      "implicitDf": true,
      "rowLimit": 10000
     },
     "inputWidgets": {},
     "nuid": "5c5743ec-6935-42a6-bac1-8463d60a45ad",
     "showTitle": false,
     "tableResultSettingsMap": {},
     "title": ""
    }
   },
   "outputs": [
    {
     "output_type": "display_data",
     "data": {
      "text/html": [
       "<style scoped>\n",
       "  .table-result-container {\n",
       "    max-height: 300px;\n",
       "    overflow: auto;\n",
       "  }\n",
       "  table, th, td {\n",
       "    border: 1px solid black;\n",
       "    border-collapse: collapse;\n",
       "  }\n",
       "  th, td {\n",
       "    padding: 5px;\n",
       "  }\n",
       "  th {\n",
       "    text-align: left;\n",
       "  }\n",
       "</style><div class='table-result-container'><table class='table-result'><thead style='background-color: white'><tr></tr></thead><tbody></tbody></table></div>"
      ]
     },
     "metadata": {
      "application/vnd.databricks.v1+output": {
       "addedWidgets": {},
       "aggData": [],
       "aggError": "",
       "aggOverflow": false,
       "aggSchema": [],
       "aggSeriesLimitReached": false,
       "aggType": "",
       "arguments": {},
       "columnCustomDisplayInfos": {},
       "data": [],
       "datasetInfos": [],
       "dbfsResultPath": null,
       "isJsonSchema": true,
       "metadata": {
        "dataframeName": null
       },
       "overflow": false,
       "plotOptions": {
        "customPlotOptions": {},
        "displayType": "table",
        "pivotAggregation": null,
        "pivotColumns": null,
        "xColumns": null,
        "yColumns": null
       },
       "removedWidgets": [],
       "schema": [],
       "type": "table"
      }
     },
     "output_type": "display_data"
    }
   ],
   "source": [
    "%sql\n",
    "CREATE SCHEMA IF NOT EXISTS mimic\n"
   ]
  },
  {
   "cell_type": "code",
   "execution_count": 0,
   "metadata": {
    "application/vnd.databricks.v1+cell": {
     "cellMetadata": {
      "byteLimit": 2048000,
      "rowLimit": 10000
     },
     "inputWidgets": {},
     "nuid": "8c5699f7-af39-402f-9bc6-0b240f467abe",
     "showTitle": false,
     "tableResultSettingsMap": {},
     "title": ""
    }
   },
   "outputs": [],
   "source": [
    "d_cpt_df = spark.read.option(\"header\", \"true\").option(\"inferSchema\", \"true\").csv(\"dbfs:/mnt/sravs/D_CPT.csv\")"
   ]
  },
  {
   "cell_type": "code",
   "execution_count": 0,
   "metadata": {
    "application/vnd.databricks.v1+cell": {
     "cellMetadata": {
      "byteLimit": 2048000,
      "rowLimit": 10000
     },
     "inputWidgets": {},
     "nuid": "74b2dc1b-e357-4786-b6f3-2c2d1e78196e",
     "showTitle": false,
     "tableResultSettingsMap": {},
     "title": ""
    }
   },
   "outputs": [],
   "source": [
    "d_cpt_df.write.format(\"delta\").mode(\"overwrite\").saveAsTable(\"mimic.d_cpt\")"
   ]
  },
  {
   "cell_type": "code",
   "execution_count": 0,
   "metadata": {
    "application/vnd.databricks.v1+cell": {
     "cellMetadata": {
      "byteLimit": 2048000,
      "rowLimit": 10000
     },
     "inputWidgets": {},
     "nuid": "27bb8c7a-6b82-428a-b231-b9ec6c8270d8",
     "showTitle": true,
     "tableResultSettingsMap": {},
     "title": "Revenue by Major Category"
    }
   },
   "outputs": [
    {
     "output_type": "display_data",
     "data": {
      "text/html": [
       "<style scoped>\n",
       "  .table-result-container {\n",
       "    max-height: 300px;\n",
       "    overflow: auto;\n",
       "  }\n",
       "  table, th, td {\n",
       "    border: 1px solid black;\n",
       "    border-collapse: collapse;\n",
       "  }\n",
       "  th, td {\n",
       "    padding: 5px;\n",
       "  }\n",
       "  th {\n",
       "    text-align: left;\n",
       "  }\n",
       "</style><div class='table-result-container'><table class='table-result'><thead style='background-color: white'><tr><th>category_name</th><th>subsection_count</th><th>total_code_range</th><th>avg_codes_per_subsection</th><th>pct_of_subsections</th><th>pct_of_total_codes</th></tr></thead><tbody><tr><td>Traditional CPT Codes</td><td>123</td><td>80443</td><td>654.01</td><td>91.79</td><td>98.07</td></tr><tr><td>Performance Measurement</td><td>9</td><td>1391</td><td>154.56</td><td>6.72</td><td>1.70</td></tr><tr><td>Emerging Technology</td><td>2</td><td>196</td><td>98.0</td><td>1.49</td><td>0.24</td></tr></tbody></table></div>"
      ]
     },
     "metadata": {
      "application/vnd.databricks.v1+output": {
       "addedWidgets": {},
       "aggData": [],
       "aggError": "",
       "aggOverflow": false,
       "aggSchema": [],
       "aggSeriesLimitReached": false,
       "aggType": "",
       "arguments": {},
       "columnCustomDisplayInfos": {},
       "data": [
        [
         "Traditional CPT Codes",
         123,
         80443,
         654.01,
         "91.79",
         "98.07"
        ],
        [
         "Performance Measurement",
         9,
         1391,
         154.56,
         "6.72",
         "1.70"
        ],
        [
         "Emerging Technology",
         2,
         196,
         98.0,
         "1.49",
         "0.24"
        ]
       ],
       "datasetInfos": [],
       "dbfsResultPath": null,
       "isJsonSchema": true,
       "metadata": {},
       "overflow": false,
       "plotOptions": {
        "customPlotOptions": {},
        "displayType": "table",
        "pivotAggregation": null,
        "pivotColumns": null,
        "xColumns": null,
        "yColumns": null
       },
       "removedWidgets": [],
       "schema": [
        {
         "metadata": "{}",
         "name": "category_name",
         "type": "\"string\""
        },
        {
         "metadata": "{}",
         "name": "subsection_count",
         "type": "\"long\""
        },
        {
         "metadata": "{}",
         "name": "total_code_range",
         "type": "\"long\""
        },
        {
         "metadata": "{}",
         "name": "avg_codes_per_subsection",
         "type": "\"double\""
        },
        {
         "metadata": "{}",
         "name": "pct_of_subsections",
         "type": "\"decimal(27,2)\""
        },
        {
         "metadata": "{}",
         "name": "pct_of_total_codes",
         "type": "\"decimal(27,2)\""
        }
       ],
       "type": "table"
      }
     },
     "output_type": "display_data"
    }
   ],
   "source": [
    "query = \"\"\"\n",
    "WITH category_summary AS (\n",
    "    SELECT \n",
    "        category,\n",
    "        CASE \n",
    "            WHEN category = 1 THEN 'Traditional CPT Codes'\n",
    "            WHEN category = 2 THEN 'Performance Measurement' \n",
    "            WHEN category = 3 THEN 'Emerging Technology'\n",
    "            ELSE 'Other'\n",
    "        END AS category_name,\n",
    "        COUNT(*) as subsection_count,\n",
    "        SUM(maxcodeinsubsection - mincodeinsubsection + 1) as total_code_range,\n",
    "        ROUND(AVG(maxcodeinsubsection - mincodeinsubsection + 1), 2) as avg_codes_per_subsection\n",
    "    FROM mimicdata.mimic.d_cpt\n",
    "    GROUP BY category\n",
    ")\n",
    "SELECT \n",
    "    category_name,\n",
    "    subsection_count,\n",
    "    total_code_range,\n",
    "    avg_codes_per_subsection,\n",
    "    ROUND(100.0 * subsection_count / SUM(subsection_count) OVER(), 2) as pct_of_subsections,\n",
    "    ROUND(100.0 * total_code_range / SUM(total_code_range) OVER(), 2) as pct_of_total_codes\n",
    "FROM category_summary\n",
    "ORDER BY category;\n",
    "\"\"\"\n",
    "\n",
    "df = spark.sql(query)\n",
    "display(df)"
   ]
  },
  {
   "cell_type": "code",
   "execution_count": 0,
   "metadata": {
    "application/vnd.databricks.v1+cell": {
     "cellMetadata": {
      "byteLimit": 2048000,
      "implicitDf": true,
      "rowLimit": 10000
     },
     "inputWidgets": {},
     "nuid": "28356ace-cc6b-4cc4-a733-3a1f4532d4b0",
     "showTitle": false,
     "tableResultSettingsMap": {},
     "title": ""
    }
   },
   "outputs": [
    {
     "output_type": "display_data",
     "data": {
      "text/html": [
       "<style scoped>\n",
       "  .table-result-container {\n",
       "    max-height: 300px;\n",
       "    overflow: auto;\n",
       "  }\n",
       "  table, th, td {\n",
       "    border: 1px solid black;\n",
       "    border-collapse: collapse;\n",
       "  }\n",
       "  th, td {\n",
       "    padding: 5px;\n",
       "  }\n",
       "  th {\n",
       "    text-align: left;\n",
       "  }\n",
       "</style><div class='table-result-container'><table class='table-result'><thead style='background-color: white'><tr><th>subsectionheader</th><th>sectionheader</th><th>subsectionrange</th><th>code_count</th><th>category_type</th><th>size_rank</th></tr></thead><tbody><tr><td>Musculoskeletal system</td><td>Surgery</td><td>20000-29999</td><td>10000</td><td>Traditional</td><td>1</td></tr><tr><td>Digestive system</td><td>Surgery</td><td>40490-49999</td><td>9510</td><td>Traditional</td><td>2</td></tr><tr><td>Integumentary system</td><td>Surgery</td><td>10040-19499</td><td>9460</td><td>Traditional</td><td>3</td></tr><tr><td>Diagnostic imaging</td><td>Radiology</td><td>70000-76499</td><td>6500</td><td>Traditional</td><td>4</td></tr><tr><td>Cardiovascular system</td><td>Surgery</td><td>33010-37799</td><td>4790</td><td>Traditional</td><td>5</td></tr><tr><td>Nervous system</td><td>Surgery</td><td>61000-64999</td><td>4000</td><td>Traditional</td><td>6</td></tr><tr><td>Urinary system</td><td>Surgery</td><td>50010-53899</td><td>3890</td><td>Traditional</td><td>7</td></tr><tr><td>Eye and ocular adnexa</td><td>Surgery</td><td>65091-68899</td><td>3809</td><td>Traditional</td><td>8</td></tr><tr><td>Respiratory system</td><td>Surgery</td><td>30000-32999</td><td>3000</td><td>Traditional</td><td>9</td></tr><tr><td>Chemistry</td><td>Pathology and laboratory</td><td>82000-84999</td><td>3000</td><td>Traditional</td><td>9</td></tr></tbody></table></div>"
      ]
     },
     "metadata": {
      "application/vnd.databricks.v1+output": {
       "addedWidgets": {},
       "aggData": [],
       "aggError": "",
       "aggOverflow": false,
       "aggSchema": [],
       "aggSeriesLimitReached": false,
       "aggType": "",
       "arguments": {},
       "columnCustomDisplayInfos": {},
       "data": [
        [
         "Musculoskeletal system",
         "Surgery",
         "20000-29999",
         10000,
         "Traditional",
         1
        ],
        [
         "Digestive system",
         "Surgery",
         "40490-49999",
         9510,
         "Traditional",
         2
        ],
        [
         "Integumentary system",
         "Surgery",
         "10040-19499",
         9460,
         "Traditional",
         3
        ],
        [
         "Diagnostic imaging",
         "Radiology",
         "70000-76499",
         6500,
         "Traditional",
         4
        ],
        [
         "Cardiovascular system",
         "Surgery",
         "33010-37799",
         4790,
         "Traditional",
         5
        ],
        [
         "Nervous system",
         "Surgery",
         "61000-64999",
         4000,
         "Traditional",
         6
        ],
        [
         "Urinary system",
         "Surgery",
         "50010-53899",
         3890,
         "Traditional",
         7
        ],
        [
         "Eye and ocular adnexa",
         "Surgery",
         "65091-68899",
         3809,
         "Traditional",
         8
        ],
        [
         "Respiratory system",
         "Surgery",
         "30000-32999",
         3000,
         "Traditional",
         9
        ],
        [
         "Chemistry",
         "Pathology and laboratory",
         "82000-84999",
         3000,
         "Traditional",
         9
        ]
       ],
       "datasetInfos": [],
       "dbfsResultPath": null,
       "isJsonSchema": true,
       "metadata": {
        "createTempViewForImplicitDf": true,
        "dataframeName": "_sqldf",
        "executionCount": 9
       },
       "overflow": false,
       "plotOptions": {
        "customPlotOptions": {},
        "displayType": "table",
        "pivotAggregation": null,
        "pivotColumns": null,
        "xColumns": null,
        "yColumns": null
       },
       "removedWidgets": [],
       "schema": [
        {
         "metadata": "{}",
         "name": "subsectionheader",
         "type": "\"string\""
        },
        {
         "metadata": "{}",
         "name": "sectionheader",
         "type": "\"string\""
        },
        {
         "metadata": "{}",
         "name": "subsectionrange",
         "type": "\"string\""
        },
        {
         "metadata": "{}",
         "name": "code_count",
         "type": "\"integer\""
        },
        {
         "metadata": "{}",
         "name": "category_type",
         "type": "\"string\""
        },
        {
         "metadata": "{}",
         "name": "size_rank",
         "type": "\"integer\""
        }
       ],
       "type": "table"
      }
     },
     "output_type": "display_data"
    }
   ],
   "source": [
    "%sql\n",
    "SELECT \n",
    "    subsectionheader,\n",
    "    sectionheader,\n",
    "    subsectionrange,\n",
    "    (maxcodeinsubsection - mincodeinsubsection + 1) as code_count,\n",
    "    CASE \n",
    "        WHEN category = 1 THEN 'Traditional'\n",
    "        WHEN category = 2 THEN 'Performance'\n",
    "        WHEN category = 3 THEN 'Emerging Tech'\n",
    "    END as category_type,\n",
    "    RANK() OVER (ORDER BY (maxcodeinsubsection - mincodeinsubsection + 1) DESC) as size_rank\n",
    "FROM mimicdata.mimic.d_cpt\n",
    "ORDER BY code_count DESC\n",
    "LIMIT 10;"
   ]
  },
  {
   "cell_type": "code",
   "execution_count": 0,
   "metadata": {
    "application/vnd.databricks.v1+cell": {
     "cellMetadata": {
      "byteLimit": 2048000,
      "implicitDf": true,
      "rowLimit": 10000
     },
     "inputWidgets": {},
     "nuid": "73df85ec-c07d-4720-92fb-79df5aca8565",
     "showTitle": true,
     "tableResultSettingsMap": {},
     "title": "Code Range Utilization"
    }
   },
   "outputs": [
    {
     "output_type": "display_data",
     "data": {
      "text/html": [
       "<style scoped>\n",
       "  .table-result-container {\n",
       "    max-height: 300px;\n",
       "    overflow: auto;\n",
       "  }\n",
       "  table, th, td {\n",
       "    border: 1px solid black;\n",
       "    border-collapse: collapse;\n",
       "  }\n",
       "  th, td {\n",
       "    padding: 5px;\n",
       "  }\n",
       "  th {\n",
       "    text-align: left;\n",
       "  }\n",
       "</style><div class='table-result-container'><table class='table-result'><thead style='background-color: white'><tr><th>sectionheader</th><th>subsection_count</th><th>total_codes</th><th>min_range_size</th><th>max_range_size</th><th>avg_range_size</th><th>range_std_dev</th></tr></thead><tbody><tr><td>Surgery</td><td>19</td><td>57120</td><td>1</td><td>10000</td><td>3006.32</td><td>3329.78</td></tr><tr><td>Radiology</td><td>7</td><td>9588</td><td>9</td><td>6500</td><td>1369.71</td><td>2368.3</td></tr><tr><td>Pathology and laboratory</td><td>18</td><td>7101</td><td>3</td><td>3000</td><td>394.5</td><td>730.49</td></tr><tr><td>Medicine</td><td>32</td><td>5140</td><td>2</td><td>850</td><td>160.63</td><td>242.27</td></tr><tr><td>Performance measurement</td><td>9</td><td>1391</td><td>15</td><td>568</td><td>154.56</td><td>183.88</td></tr><tr><td>Anesthesia</td><td>22</td><td>1269</td><td>2</td><td>125</td><td>57.68</td><td>36.5</td></tr><tr><td>Evaluation and management</td><td>25</td><td>225</td><td>1</td><td>49</td><td>9.0</td><td>9.89</td></tr><tr><td>Emerging technology</td><td>2</td><td>196</td><td>4</td><td>192</td><td>98.0</td><td>132.94</td></tr></tbody></table></div>"
      ]
     },
     "metadata": {
      "application/vnd.databricks.v1+output": {
       "addedWidgets": {},
       "aggData": [],
       "aggError": "",
       "aggOverflow": false,
       "aggSchema": [],
       "aggSeriesLimitReached": false,
       "aggType": "",
       "arguments": {},
       "columnCustomDisplayInfos": {},
       "data": [
        [
         "Surgery",
         19,
         57120,
         1,
         10000,
         3006.32,
         3329.78
        ],
        [
         "Radiology",
         7,
         9588,
         9,
         6500,
         1369.71,
         2368.3
        ],
        [
         "Pathology and laboratory",
         18,
         7101,
         3,
         3000,
         394.5,
         730.49
        ],
        [
         "Medicine",
         32,
         5140,
         2,
         850,
         160.63,
         242.27
        ],
        [
         "Performance measurement",
         9,
         1391,
         15,
         568,
         154.56,
         183.88
        ],
        [
         "Anesthesia",
         22,
         1269,
         2,
         125,
         57.68,
         36.5
        ],
        [
         "Evaluation and management",
         25,
         225,
         1,
         49,
         9.0,
         9.89
        ],
        [
         "Emerging technology",
         2,
         196,
         4,
         192,
         98.0,
         132.94
        ]
       ],
       "datasetInfos": [],
       "dbfsResultPath": null,
       "isJsonSchema": true,
       "metadata": {
        "createTempViewForImplicitDf": true,
        "dataframeName": "_sqldf",
        "executionCount": 11
       },
       "overflow": false,
       "plotOptions": {
        "customPlotOptions": {},
        "displayType": "table",
        "pivotAggregation": null,
        "pivotColumns": null,
        "xColumns": null,
        "yColumns": null
       },
       "removedWidgets": [],
       "schema": [
        {
         "metadata": "{}",
         "name": "sectionheader",
         "type": "\"string\""
        },
        {
         "metadata": "{}",
         "name": "subsection_count",
         "type": "\"long\""
        },
        {
         "metadata": "{}",
         "name": "total_codes",
         "type": "\"long\""
        },
        {
         "metadata": "{}",
         "name": "min_range_size",
         "type": "\"integer\""
        },
        {
         "metadata": "{}",
         "name": "max_range_size",
         "type": "\"integer\""
        },
        {
         "metadata": "{}",
         "name": "avg_range_size",
         "type": "\"double\""
        },
        {
         "metadata": "{}",
         "name": "range_std_dev",
         "type": "\"double\""
        }
       ],
       "type": "table"
      }
     },
     "output_type": "display_data"
    }
   ],
   "source": [
    "%sql\n",
    "SELECT \n",
    "    sectionheader,\n",
    "    COUNT(*) as subsection_count,\n",
    "    SUM(maxcodeinsubsection - mincodeinsubsection + 1) as total_codes,\n",
    "    MIN(maxcodeinsubsection - mincodeinsubsection + 1) as min_range_size,\n",
    "    MAX(maxcodeinsubsection - mincodeinsubsection + 1) as max_range_size,\n",
    "    ROUND(AVG(maxcodeinsubsection - mincodeinsubsection + 1), 2) as avg_range_size,\n",
    "    ROUND(STDDEV(maxcodeinsubsection - mincodeinsubsection + 1), 2) as range_std_dev\n",
    "FROM mimicdata.mimic.d_cpt\n",
    "GROUP BY sectionheader\n",
    "ORDER BY total_codes DESC;"
   ]
  },
  {
   "cell_type": "code",
   "execution_count": 0,
   "metadata": {
    "application/vnd.databricks.v1+cell": {
     "cellMetadata": {
      "byteLimit": 2048000,
      "implicitDf": true,
      "rowLimit": 10000
     },
     "inputWidgets": {},
     "nuid": "776bf137-a50a-450d-bd9e-aeda0354f6b2",
     "showTitle": true,
     "tableResultSettingsMap": {},
     "title": "Monthly Trend"
    }
   },
   "outputs": [
    {
     "output_type": "display_data",
     "data": {
      "text/html": [
       "<style scoped>\n",
       "  .table-result-container {\n",
       "    max-height: 300px;\n",
       "    overflow: auto;\n",
       "  }\n",
       "  table, th, td {\n",
       "    border: 1px solid black;\n",
       "    border-collapse: collapse;\n",
       "  }\n",
       "  th, td {\n",
       "    padding: 5px;\n",
       "  }\n",
       "  th {\n",
       "    text-align: left;\n",
       "  }\n",
       "</style><div class='table-result-container'><table class='table-result'><thead style='background-color: white'><tr><th>sectionheader</th><th>subsectionheader</th><th>subsectionrange</th><th>code_count</th><th>pct_of_section</th><th>size_percentile_rank</th><th>size_category</th><th>category_type</th></tr></thead><tbody><tr><td>Surgery</td><td>Musculoskeletal system</td><td>20000-29999</td><td>10000</td><td>17.51</td><td>100.0</td><td>Large</td><td>Traditional</td></tr><tr><td>Surgery</td><td>Digestive system</td><td>40490-49999</td><td>9510</td><td>16.65</td><td>99.2</td><td>Large</td><td>Traditional</td></tr><tr><td>Surgery</td><td>Integumentary system</td><td>10040-19499</td><td>9460</td><td>16.56</td><td>98.5</td><td>Large</td><td>Traditional</td></tr><tr><td>Radiology</td><td>Diagnostic imaging</td><td>70000-76499</td><td>6500</td><td>67.79</td><td>97.7</td><td>Large</td><td>Traditional</td></tr><tr><td>Surgery</td><td>Cardiovascular system</td><td>33010-37799</td><td>4790</td><td>8.39</td><td>97.0</td><td>Large</td><td>Traditional</td></tr><tr><td>Surgery</td><td>Nervous system</td><td>61000-64999</td><td>4000</td><td>7.00</td><td>96.2</td><td>Large</td><td>Traditional</td></tr><tr><td>Surgery</td><td>Urinary system</td><td>50010-53899</td><td>3890</td><td>6.81</td><td>95.5</td><td>Large</td><td>Traditional</td></tr><tr><td>Surgery</td><td>Eye and ocular adnexa</td><td>65091-68899</td><td>3809</td><td>6.67</td><td>94.7</td><td>Large</td><td>Traditional</td></tr><tr><td>Pathology and laboratory</td><td>Chemistry</td><td>82000-84999</td><td>3000</td><td>42.25</td><td>93.2</td><td>Large</td><td>Traditional</td></tr><tr><td>Surgery</td><td>Respiratory system</td><td>30000-32999</td><td>3000</td><td>5.25</td><td>93.2</td><td>Large</td><td>Traditional</td></tr><tr><td>Surgery</td><td>Female genital system</td><td>56405-58999</td><td>2595</td><td>4.54</td><td>92.5</td><td>Large</td><td>Traditional</td></tr><tr><td>Radiology</td><td>Nuclear medicine</td><td>78000-79999</td><td>2000</td><td>20.86</td><td>91.7</td><td>Large</td><td>Traditional</td></tr><tr><td>Surgery</td><td>Male genital system</td><td>54000-55899</td><td>1900</td><td>3.33</td><td>91.0</td><td>Large</td><td>Traditional</td></tr><tr><td>Pathology and laboratory</td><td>Microbiology</td><td>87001-87999</td><td>999</td><td>14.07</td><td>90.2</td><td>Large</td><td>Traditional</td></tr><tr><td>Pathology and laboratory</td><td>Hematology and coagulation</td><td>85002-85999</td><td>998</td><td>14.05</td><td>89.5</td><td>Large</td><td>Traditional</td></tr><tr><td>Surgery</td><td>Auditory system</td><td>69000-69979</td><td>980</td><td>1.72</td><td>88.7</td><td>Large</td><td>Traditional</td></tr><tr><td>Surgery</td><td>Hemic and lymphatic systems</td><td>38100-38999</td><td>900</td><td>1.58</td><td>87.2</td><td>Large</td><td>Traditional</td></tr><tr><td>Surgery</td><td>Maternity care and delivery</td><td>59000-59899</td><td>900</td><td>1.58</td><td>87.2</td><td>Large</td><td>Traditional</td></tr><tr><td>Medicine</td><td>Cardiovascular</td><td>92950-93799</td><td>850</td><td>16.54</td><td>85.7</td><td>Large</td><td>Traditional</td></tr><tr><td>Pathology and laboratory</td><td>Immunology</td><td>86000-86849</td><td>850</td><td>11.97</td><td>85.7</td><td>Large</td><td>Traditional</td></tr><tr><td>Medicine</td><td>Physical medicine and rehabilitation</td><td>97001-97799</td><td>799</td><td>15.54</td><td>85.0</td><td>Large</td><td>Traditional</td></tr><tr><td>Medicine</td><td>Pulmonary</td><td>94002-94799</td><td>798</td><td>15.53</td><td>84.2</td><td>Large</td><td>Traditional</td></tr><tr><td>Surgery</td><td>Endocrine system</td><td>60000-60699</td><td>700</td><td>1.23</td><td>83.5</td><td>Large</td><td>Traditional</td></tr><tr><td>Surgery</td><td>Mediastinum and diaphragm</td><td>39000-39599</td><td>600</td><td>1.05</td><td>82.7</td><td>Large</td><td>Traditional</td></tr><tr><td>Performance measurement</td><td>Diagnostic/screening processes or results</td><td>3006F-3573F</td><td>568</td><td>40.83</td><td>82.0</td><td>Large</td><td>Performance</td></tr><tr><td>Radiology</td><td>Radiation oncology</td><td>77261-77799</td><td>539</td><td>5.62</td><td>81.2</td><td>Large</td><td>Traditional</td></tr><tr><td>Medicine</td><td>Ophthalmology</td><td>92002-92499</td><td>498</td><td>9.69</td><td>80.5</td><td>Large</td><td>Traditional</td></tr><tr><td>Radiology</td><td>Diagnostic ultrasound</td><td>76506-76999</td><td>494</td><td>5.15</td><td>79.7</td><td>Medium</td><td>Traditional</td></tr><tr><td>Performance measurement</td><td>Therapeutic, preventive or other interventions</td><td>4000F-4306F</td><td>307</td><td>22.07</td><td>78.9</td><td>Medium</td><td>Performance</td></tr><tr><td>Medicine</td><td>Gastroenterology</td><td>91000-91299</td><td>300</td><td>5.84</td><td>78.2</td><td>Medium</td><td>Traditional</td></tr><tr><td>Medicine</td><td>Vaccines, toxoids</td><td>90476-90749</td><td>274</td><td>5.33</td><td>77.4</td><td>Medium</td><td>Traditional</td></tr><tr><td>Performance measurement</td><td>Patient history</td><td>1000F-1220F</td><td>221</td><td>15.89</td><td>76.7</td><td>Medium</td><td>Performance</td></tr><tr><td>Medicine</td><td>Neurology and neuromuscular procedures</td><td>95803-96020</td><td>218</td><td>4.24</td><td>75.9</td><td>Medium</td><td>Traditional</td></tr><tr><td>Medicine</td><td>Special otorhinolaryngologic services</td><td>92502-92700</td><td>199</td><td>3.87</td><td>75.2</td><td>Medium</td><td>Traditional</td></tr><tr><td>Medicine</td><td>Allergy and clinical immunology</td><td>95004-95199</td><td>196</td><td>3.81</td><td>74.4</td><td>Medium</td><td>Traditional</td></tr><tr><td>Emerging technology</td><td>Temporary codes</td><td>0016T-0207T</td><td>192</td><td>97.96</td><td>72.9</td><td>Medium</td><td>Emerging Tech</td></tr><tr><td>Pathology and laboratory</td><td>Other procedures</td><td>89049-89240</td><td>192</td><td>2.70</td><td>72.9</td><td>Medium</td><td>Traditional</td></tr><tr><td>Medicine</td><td>Hydration, therapeutic, prophylactic, diagnostic injections and infusions, and chemotherapy and other highly complex drug or highly complex biologic agent administration</td><td>96360-96549</td><td>190</td><td>3.70</td><td>72.2</td><td>Medium</td><td>Traditional</td></tr><tr><td>Pathology and laboratory</td><td>Therapeutic drug assays</td><td>80150-80299</td><td>150</td><td>2.11</td><td>70.7</td><td>Medium</td><td>Traditional</td></tr><tr><td>Pathology and laboratory</td><td>Transfusion medicine</td><td>86850-86999</td><td>150</td><td>2.11</td><td>70.7</td><td>Medium</td><td>Traditional</td></tr><tr><td>Pathology and laboratory</td><td>Reproductive medicine procedures</td><td>89250-89398</td><td>149</td><td>2.10</td><td>69.9</td><td>Medium</td><td>Traditional</td></tr><tr><td>Anesthesia</td><td>Knee and popliteal area</td><td>01320-01444</td><td>125</td><td>9.85</td><td>69.2</td><td>Medium</td><td>Traditional</td></tr><tr><td>Anesthesia</td><td>Head</td><td>00100-00222</td><td>123</td><td>9.69</td><td>68.4</td><td>Medium</td><td>Traditional</td></tr><tr><td>Medicine</td><td>Immune globulins, serum or recombinant prods</td><td>90281-90399</td><td>119</td><td>2.32</td><td>67.7</td><td>Medium</td><td>Traditional</td></tr><tr><td>Medicine</td><td>Noninvasive vascular diagnostic studies</td><td>93875-93990</td><td>116</td><td>2.26</td><td>66.9</td><td>Medium</td><td>Traditional</td></tr><tr><td>Medicine</td><td>Home health procedures/services</td><td>99500-99602</td><td>103</td><td>2.00</td><td>66.2</td><td>Medium</td><td>Traditional</td></tr><tr><td>Medicine</td><td>Special dermatological procedures</td><td>96900-96999</td><td>100</td><td>1.95</td><td>63.2</td><td>Medium</td><td>Traditional</td></tr><tr><td>Pathology and laboratory</td><td>Anatomic pathology (postmortem)</td><td>88000-88099</td><td>100</td><td>1.41</td><td>63.2</td><td>Medium</td><td>Traditional</td></tr><tr><td>Pathology and laboratory</td><td>Surgical pathology</td><td>88300-88399</td><td>100</td><td>1.41</td><td>63.2</td><td>Medium</td><td>Traditional</td></tr><tr><td>Pathology and laboratory</td><td>Urinalysis</td><td>81000-81099</td><td>100</td><td>1.41</td><td>63.2</td><td>Medium</td><td>Traditional</td></tr><tr><td>Medicine</td><td>Psychiatry</td><td>90801-90899</td><td>99</td><td>1.93</td><td>62.4</td><td>Medium</td><td>Traditional</td></tr><tr><td>Anesthesia</td><td>Upper abdomen</td><td>00700-00797</td><td>98</td><td>7.72</td><td>61.7</td><td>Medium</td><td>Traditional</td></tr><tr><td>Pathology and laboratory</td><td>Cytopathology</td><td>88104-88199</td><td>96</td><td>1.35</td><td>60.2</td><td>Medium</td><td>Traditional</td></tr><tr><td>Performance measurement</td><td>Follow-up or other outcomes</td><td>5005F-5100F</td><td>96</td><td>6.90</td><td>60.2</td><td>Medium</td><td>Performance</td></tr><tr><td>Medicine</td><td>Special services, procedures and reports</td><td>99000-99091</td><td>92</td><td>1.79</td><td>59.4</td><td>Medium</td><td>Traditional</td></tr><tr><td>Anesthesia</td><td>Lower abdomen</td><td>00800-00882</td><td>83</td><td>6.54</td><td>58.6</td><td>Medium</td><td>Traditional</td></tr><tr><td>Anesthesia</td><td>Intrathoracic</td><td>00500-00580</td><td>81</td><td>6.38</td><td>57.9</td><td>Medium</td><td>Traditional</td></tr><tr><td>Anesthesia</td><td>Pelvis (except hip)</td><td>01112-01190</td><td>79</td><td>6.23</td><td>57.1</td><td>Medium</td><td>Traditional</td></tr><tr><td>Pathology and laboratory</td><td>Organ or disease-oriented panels</td><td>80000-80076</td><td>77</td><td>1.08</td><td>56.4</td><td>Medium</td><td>Traditional</td></tr><tr><td>Performance measurement</td><td>Patient management</td><td>0500F-0575F</td><td>76</td><td>5.46</td><td>55.6</td><td>Medium</td><td>Performance</td></tr><tr><td>Anesthesia</td><td>Thorax</td><td>00400-00474</td><td>75</td><td>5.91</td><td>54.1</td><td>Medium</td><td>Traditional</td></tr><tr><td>Anesthesia</td><td>Upper leg (except knee)</td><td>01200-01274</td><td>75</td><td>5.91</td><td>54.1</td><td>Medium</td><td>Traditional</td></tr><tr><td>Anesthesia</td><td>Shoulder and axillary</td><td>01610-01682</td><td>73</td><td>5.75</td><td>52.6</td><td>Medium</td><td>Traditional</td></tr><tr><td>Anesthesia</td><td>Upper arm and elbow</td><td>01710-01782</td><td>73</td><td>5.75</td><td>52.6</td><td>Medium</td><td>Traditional</td></tr><tr><td>Anesthesia</td><td>Spine and spinal cord</td><td>00600-00670</td><td>71</td><td>5.59</td><td>51.9</td><td>Medium</td><td>Traditional</td></tr><tr><td>Pathology and laboratory</td><td>Cytogenetic studies</td><td>88230-88299</td><td>70</td><td>0.99</td><td>51.1</td><td>Medium</td><td>Traditional</td></tr><tr><td>Medicine</td><td>Dialysis</td><td>90935-90999</td><td>65</td><td>1.26</td><td>50.4</td><td>Medium</td><td>Traditional</td></tr><tr><td>Anesthesia</td><td>Lower leg (below knee)</td><td>01462-01522</td><td>61</td><td>4.81</td><td>48.9</td><td>Small</td><td>Traditional</td></tr><tr><td>Surgery</td><td>Reproductive system and intersex</td><td>55920-55980</td><td>61</td><td>0.11</td><td>48.9</td><td>Small</td><td>Traditional</td></tr><tr><td>Anesthesia</td><td>Neck</td><td>00300-00352</td><td>53</td><td>4.18</td><td>48.1</td><td>Small</td><td>Traditional</td></tr><tr><td>Anesthesia</td><td>Forearm, wrist and hand</td><td>01810-01860</td><td>51</td><td>4.02</td><td>45.9</td><td>Small</td><td>Traditional</td></tr><tr><td>Anesthesia</td><td>Perineum</td><td>00902-00952</td><td>51</td><td>4.02</td><td>45.9</td><td>Small</td><td>Traditional</td></tr><tr><td>Performance measurement</td><td>Physical examination</td><td>2000F-2050F</td><td>51</td><td>3.67</td><td>45.9</td><td>Small</td><td>Performance</td></tr><tr><td>Evaluation and management</td><td>Preventive medicine services</td><td>99381-99429</td><td>49</td><td>21.78</td><td>45.1</td><td>Small</td><td>Traditional</td></tr><tr><td>Anesthesia</td><td>Qualifying circumstances for anesthesia</td><td>99100-99140</td><td>41</td><td>3.23</td><td>42.9</td><td>Small</td><td>Traditional</td></tr><tr><td>Pathology and laboratory</td><td>Evocative/suppression testing</td><td>80400-80440</td><td>41</td><td>0.58</td><td>42.9</td><td>Small</td><td>Traditional</td></tr><tr><td>Performance measurement</td><td>Patient safety</td><td>6005F-6045F</td><td>41</td><td>2.95</td><td>42.9</td><td>Small</td><td>Performance</td></tr><tr><td>Radiology</td><td>Radiologic guidance</td><td>77001-77032</td><td>32</td><td>0.33</td><td>42.1</td><td>Small</td><td>Traditional</td></tr><tr><td>Medicine</td><td>Other services and procedures</td><td>99170-99199</td><td>30</td><td>0.58</td><td>41.4</td><td>Small</td><td>Traditional</td></tr><tr><td>Medicine</td><td>Central nervous system assessments/tests (neuro-cognitive, mental status, speech testing)</td><td>96101-96125</td><td>25</td><td>0.49</td><td>40.6</td><td>Small</td><td>Traditional</td></tr><tr><td>Surgery</td><td>General</td><td>10000-10022</td><td>23</td><td>0.04</td><td>39.8</td><td>Small</td><td>Traditional</td></tr><tr><td>Pathology and laboratory</td><td>In vivo (transcutaneous) lab procedures</td><td>88720-88741</td><td>22</td><td>0.31</td><td>39.1</td><td>Small</td><td>Traditional</td></tr><tr><td>Anesthesia</td><td>Radiological procedures</td><td>01916-01936</td><td>21</td><td>1.65</td><td>38.3</td><td>Small</td><td>Traditional</td></tr><tr><td>Evaluation and management</td><td>Hospital inpatient services</td><td>99221-99239</td><td>19</td><td>8.44</td><td>37.6</td><td>Small</td><td>Traditional</td></tr><tr><td>Evaluation and management</td><td>Office/other outpatient services</td><td>99201-99216</td><td>16</td><td>7.11</td><td>36.1</td><td>Small</td><td>Traditional</td></tr><tr><td>Performance measurement</td><td>Structural Measures</td><td>7010F-7025F</td><td>16</td><td>1.15</td><td>36.1</td><td>Small</td><td>Performance</td></tr><tr><td>Evaluation and management</td><td>Consultations</td><td>99241-99255</td><td>15</td><td>6.67</td><td>33.1</td><td>Small</td><td>Traditional</td></tr><tr><td>Evaluation and management</td><td>Inpatient neonatal intensive, and pediatric/neonatal critical, care services</td><td>99466-99480</td><td>15</td><td>6.67</td><td>33.1</td><td>Small</td><td>Traditional</td></tr><tr><td>Evaluation and management</td><td>Nursing facility services</td><td>99304-99318</td><td>15</td><td>6.67</td><td>33.1</td><td>Small</td><td>Traditional</td></tr><tr><td>Performance measurement</td><td>Composite measures</td><td>0001F-0015F</td><td>15</td><td>1.08</td><td>33.1</td><td>Small</td><td>Performance</td></tr><tr><td>Evaluation and management</td><td>Domiciliary, rest home (boarding home) or custodial care services</td><td>99324-99337</td><td>14</td><td>6.22</td><td>31.6</td><td>Small</td><td>Traditional</td></tr><tr><td>Radiology</td><td>Bone/joint studies</td><td>77071-77084</td><td>14</td><td>0.15</td><td>31.6</td><td>Small</td><td>Traditional</td></tr><tr><td>Anesthesia</td><td>Obstetric</td><td>01958-01969</td><td>12</td><td>0.95</td><td>30.8</td><td>Small</td><td>Traditional</td></tr><tr><td>Medicine</td><td>Biofeedback</td><td>90901-90911</td><td>11</td><td>0.21</td><td>30.1</td><td>Small</td><td>Traditional</td></tr><tr><td>Anesthesia</td><td>Other procedures</td><td>01990-01999</td><td>10</td><td>0.79</td><td>27.8</td><td>Small</td><td>Traditional</td></tr><tr><td>Evaluation and management</td><td>Home health services</td><td>99341-99350</td><td>10</td><td>4.44</td><td>27.8</td><td>Small</td><td>Traditional</td></tr><tr><td>Medicine</td><td>Immunization administration for vaccines/toxoids</td><td>90465-90474</td><td>10</td><td>0.19</td><td>27.8</td><td>Small</td><td>Traditional</td></tr><tr><td>Radiology</td><td>Breast mammography</td><td>77051-77059</td><td>9</td><td>0.09</td><td>27.1</td><td>Small</td><td>Traditional</td></tr><tr><td>Anesthesia</td><td>Moderate (conscious) sedation</td><td>99143-99150</td><td>8</td><td>0.63</td><td>24.8</td><td>Small</td><td>Traditional</td></tr><tr><td>Evaluation and management</td><td>Emergency department services</td><td>99281-99288</td><td>8</td><td>3.56</td><td>24.8</td><td>Small</td><td>Traditional</td></tr><tr><td>Medicine</td><td>End-Stage Renal Disease Services (deleted codes)</td><td>90918-90925</td><td>8</td><td>0.16</td><td>24.8</td><td>Small</td><td>Traditional</td></tr><tr><td>Evaluation and management</td><td>Care plan oversight services</td><td>99374-99380</td><td>7</td><td>3.11</td><td>22.6</td><td>Small</td><td>Traditional</td></tr><tr><td>Evaluation and management</td><td>Prolonged services</td><td>99354-99360</td><td>7</td><td>3.11</td><td>22.6</td><td>Small</td><td>Traditional</td></tr><tr><td>Evaluation and management</td><td>Special evaluation and management services</td><td>99450-99456</td><td>7</td><td>3.11</td><td>22.6</td><td>Small</td><td>Traditional</td></tr><tr><td>Evaluation and management</td><td>Case management services</td><td>99363-99368</td><td>6</td><td>2.67</td><td>20.3</td><td>Small</td><td>Traditional</td></tr><tr><td>Evaluation and management</td><td>Newborn care services</td><td>99460-99465</td><td>6</td><td>2.67</td><td>20.3</td><td>Small</td><td>Traditional</td></tr><tr><td>Medicine</td><td>Health and behavior assessment/intervention</td><td>96150-96155</td><td>6</td><td>0.12</td><td>20.3</td><td>Small</td><td>Traditional</td></tr><tr><td>Evaluation and management</td><td>Confirmatory consultation for a new or established patient (deleted codes)</td><td>99271-99275</td><td>5</td><td>2.22</td><td>17.3</td><td>Very Small</td><td>Traditional</td></tr><tr><td>Medicine</td><td>Acupuncture</td><td>97810-97814</td><td>5</td><td>0.10</td><td>17.3</td><td>Very Small</td><td>Traditional</td></tr><tr><td>Medicine</td><td>Osteopathic manipulative treatment</td><td>98925-98929</td><td>5</td><td>0.10</td><td>17.3</td><td>Very Small</td><td>Traditional</td></tr><tr><td>Medicine</td><td>Photodynamic therapy</td><td>96567-96571</td><td>5</td><td>0.10</td><td>17.3</td><td>Very Small</td><td>Traditional</td></tr><tr><td>Emerging technology</td><td>Temporary codes</td><td>0256T-0259T</td><td>4</td><td>2.04</td><td>12.8</td><td>Very Small</td><td>Emerging Tech</td></tr><tr><td>Evaluation and management</td><td>Hospital observation services</td><td>99217-99220</td><td>4</td><td>1.78</td><td>12.8</td><td>Very Small</td><td>Traditional</td></tr><tr><td>Evaluation and management</td><td>Non-face-to-face physician services</td><td>99441-99444</td><td>4</td><td>1.78</td><td>12.8</td><td>Very Small</td><td>Traditional</td></tr><tr><td>Medicine</td><td>Chiropractic manipulative treatment</td><td>98940-98943</td><td>4</td><td>0.08</td><td>12.8</td><td>Very Small</td><td>Traditional</td></tr><tr><td>Medicine</td><td>Non-face-to-face nonphysician services</td><td>98966-98969</td><td>4</td><td>0.08</td><td>12.8</td><td>Very Small</td><td>Traditional</td></tr><tr><td>Pathology and laboratory</td><td>Drug testing</td><td>80100-80103</td><td>4</td><td>0.06</td><td>12.8</td><td>Very Small</td><td>Traditional</td></tr><tr><td>Anesthesia</td><td>Burn excisions or debridement</td><td>01951-01953</td><td>3</td><td>0.24</td><td>6.8</td><td>Very Small</td><td>Traditional</td></tr><tr><td>Evaluation and management</td><td>Complex chronic care coordination services</td><td>99487-99489</td><td>3</td><td>1.33</td><td>6.8</td><td>Very Small</td><td>Traditional</td></tr><tr><td>Evaluation and management</td><td>Follow-up inpatient consultations (deleted codes)</td><td>99261-99263</td><td>3</td><td>1.33</td><td>6.8</td><td>Very Small</td><td>Traditional</td></tr><tr><td>Evaluation and management</td><td>Telephone care (deleted codes)</td><td>99371-99373</td><td>3</td><td>1.33</td><td>6.8</td><td>Very Small</td><td>Traditional</td></tr><tr><td>Medicine</td><td>Education and training for patient self-management</td><td>98960-98962</td><td>3</td><td>0.06</td><td>6.8</td><td>Very Small</td><td>Traditional</td></tr><tr><td>Medicine</td><td>Medical nutrition therapy</td><td>97802-97804</td><td>3</td><td>0.06</td><td>6.8</td><td>Very Small</td><td>Traditional</td></tr><tr><td>Medicine</td><td>Medication therapy management services</td><td>99605-99607</td><td>3</td><td>0.06</td><td>6.8</td><td>Very Small</td><td>Traditional</td></tr><tr><td>Pathology and laboratory</td><td>Consultations (clinical pathology)</td><td>80500-80502</td><td>3</td><td>0.04</td><td>6.8</td><td>Very Small</td><td>Traditional</td></tr><tr><td>Anesthesia</td><td>Conscious sedation (deleted codes)</td><td>99141-99142</td><td>2</td><td>0.16</td><td>2.3</td><td>Very Small</td><td>Traditional</td></tr><tr><td>Evaluation and management</td><td>Critical care services</td><td>99291-99292</td><td>2</td><td>0.89</td><td>2.3</td><td>Very Small</td><td>Traditional</td></tr><tr><td>Evaluation and management</td><td>Domiciliary, rest home (assisted living facility), or home care plan oversight services</td><td>99339-99340</td><td>2</td><td>0.89</td><td>2.3</td><td>Very Small</td><td>Traditional</td></tr><tr><td>Evaluation and management</td><td>Team Conferences (deleted codes)</td><td>99361-99362</td><td>2</td><td>0.89</td><td>2.3</td><td>Very Small</td><td>Traditional</td></tr><tr><td>Evaluation and management</td><td>Transitional care management services</td><td>99495-99496</td><td>2</td><td>0.89</td><td>2.3</td><td>Very Small</td><td>Traditional</td></tr><tr><td>Medicine</td><td>Endocrinology</td><td>95250-95251</td><td>2</td><td>0.04</td><td>2.3</td><td>Very Small</td><td>Traditional</td></tr><tr><td>Evaluation and management</td><td>Other evaluation and management services</td><td>99499</td><td>1</td><td>0.44</td><td>0.0</td><td>Very Small</td><td>Traditional</td></tr><tr><td>Surgery</td><td>Laparoscopy, Surgical; Cholecystectomy (deleted code)</td><td>56340-56340</td><td>1</td><td>0.00</td><td>0.0</td><td>Very Small</td><td>Traditional</td></tr><tr><td>Surgery</td><td>Operating microscope (deleted code)</td><td>69990-69990</td><td>1</td><td>0.00</td><td>0.0</td><td>Very Small</td><td>Traditional</td></tr></tbody></table></div>"
      ]
     },
     "metadata": {
      "application/vnd.databricks.v1+output": {
       "addedWidgets": {},
       "aggData": [],
       "aggError": "",
       "aggOverflow": false,
       "aggSchema": [],
       "aggSeriesLimitReached": false,
       "aggType": "",
       "arguments": {},
       "columnCustomDisplayInfos": {},
       "data": [
        [
         "Surgery",
         "Musculoskeletal system",
         "20000-29999",
         10000,
         "17.51",
         100.0,
         "Large",
         "Traditional"
        ],
        [
         "Surgery",
         "Digestive system",
         "40490-49999",
         9510,
         "16.65",
         99.2,
         "Large",
         "Traditional"
        ],
        [
         "Surgery",
         "Integumentary system",
         "10040-19499",
         9460,
         "16.56",
         98.5,
         "Large",
         "Traditional"
        ],
        [
         "Radiology",
         "Diagnostic imaging",
         "70000-76499",
         6500,
         "67.79",
         97.7,
         "Large",
         "Traditional"
        ],
        [
         "Surgery",
         "Cardiovascular system",
         "33010-37799",
         4790,
         "8.39",
         97.0,
         "Large",
         "Traditional"
        ],
        [
         "Surgery",
         "Nervous system",
         "61000-64999",
         4000,
         "7.00",
         96.2,
         "Large",
         "Traditional"
        ],
        [
         "Surgery",
         "Urinary system",
         "50010-53899",
         3890,
         "6.81",
         95.5,
         "Large",
         "Traditional"
        ],
        [
         "Surgery",
         "Eye and ocular adnexa",
         "65091-68899",
         3809,
         "6.67",
         94.7,
         "Large",
         "Traditional"
        ],
        [
         "Pathology and laboratory",
         "Chemistry",
         "82000-84999",
         3000,
         "42.25",
         93.2,
         "Large",
         "Traditional"
        ],
        [
         "Surgery",
         "Respiratory system",
         "30000-32999",
         3000,
         "5.25",
         93.2,
         "Large",
         "Traditional"
        ],
        [
         "Surgery",
         "Female genital system",
         "56405-58999",
         2595,
         "4.54",
         92.5,
         "Large",
         "Traditional"
        ],
        [
         "Radiology",
         "Nuclear medicine",
         "78000-79999",
         2000,
         "20.86",
         91.7,
         "Large",
         "Traditional"
        ],
        [
         "Surgery",
         "Male genital system",
         "54000-55899",
         1900,
         "3.33",
         91.0,
         "Large",
         "Traditional"
        ],
        [
         "Pathology and laboratory",
         "Microbiology",
         "87001-87999",
         999,
         "14.07",
         90.2,
         "Large",
         "Traditional"
        ],
        [
         "Pathology and laboratory",
         "Hematology and coagulation",
         "85002-85999",
         998,
         "14.05",
         89.5,
         "Large",
         "Traditional"
        ],
        [
         "Surgery",
         "Auditory system",
         "69000-69979",
         980,
         "1.72",
         88.7,
         "Large",
         "Traditional"
        ],
        [
         "Surgery",
         "Hemic and lymphatic systems",
         "38100-38999",
         900,
         "1.58",
         87.2,
         "Large",
         "Traditional"
        ],
        [
         "Surgery",
         "Maternity care and delivery",
         "59000-59899",
         900,
         "1.58",
         87.2,
         "Large",
         "Traditional"
        ],
        [
         "Medicine",
         "Cardiovascular",
         "92950-93799",
         850,
         "16.54",
         85.7,
         "Large",
         "Traditional"
        ],
        [
         "Pathology and laboratory",
         "Immunology",
         "86000-86849",
         850,
         "11.97",
         85.7,
         "Large",
         "Traditional"
        ],
        [
         "Medicine",
         "Physical medicine and rehabilitation",
         "97001-97799",
         799,
         "15.54",
         85.0,
         "Large",
         "Traditional"
        ],
        [
         "Medicine",
         "Pulmonary",
         "94002-94799",
         798,
         "15.53",
         84.2,
         "Large",
         "Traditional"
        ],
        [
         "Surgery",
         "Endocrine system",
         "60000-60699",
         700,
         "1.23",
         83.5,
         "Large",
         "Traditional"
        ],
        [
         "Surgery",
         "Mediastinum and diaphragm",
         "39000-39599",
         600,
         "1.05",
         82.7,
         "Large",
         "Traditional"
        ],
        [
         "Performance measurement",
         "Diagnostic/screening processes or results",
         "3006F-3573F",
         568,
         "40.83",
         82.0,
         "Large",
         "Performance"
        ],
        [
         "Radiology",
         "Radiation oncology",
         "77261-77799",
         539,
         "5.62",
         81.2,
         "Large",
         "Traditional"
        ],
        [
         "Medicine",
         "Ophthalmology",
         "92002-92499",
         498,
         "9.69",
         80.5,
         "Large",
         "Traditional"
        ],
        [
         "Radiology",
         "Diagnostic ultrasound",
         "76506-76999",
         494,
         "5.15",
         79.7,
         "Medium",
         "Traditional"
        ],
        [
         "Performance measurement",
         "Therapeutic, preventive or other interventions",
         "4000F-4306F",
         307,
         "22.07",
         78.9,
         "Medium",
         "Performance"
        ],
        [
         "Medicine",
         "Gastroenterology",
         "91000-91299",
         300,
         "5.84",
         78.2,
         "Medium",
         "Traditional"
        ],
        [
         "Medicine",
         "Vaccines, toxoids",
         "90476-90749",
         274,
         "5.33",
         77.4,
         "Medium",
         "Traditional"
        ],
        [
         "Performance measurement",
         "Patient history",
         "1000F-1220F",
         221,
         "15.89",
         76.7,
         "Medium",
         "Performance"
        ],
        [
         "Medicine",
         "Neurology and neuromuscular procedures",
         "95803-96020",
         218,
         "4.24",
         75.9,
         "Medium",
         "Traditional"
        ],
        [
         "Medicine",
         "Special otorhinolaryngologic services",
         "92502-92700",
         199,
         "3.87",
         75.2,
         "Medium",
         "Traditional"
        ],
        [
         "Medicine",
         "Allergy and clinical immunology",
         "95004-95199",
         196,
         "3.81",
         74.4,
         "Medium",
         "Traditional"
        ],
        [
         "Emerging technology",
         "Temporary codes",
         "0016T-0207T",
         192,
         "97.96",
         72.9,
         "Medium",
         "Emerging Tech"
        ],
        [
         "Pathology and laboratory",
         "Other procedures",
         "89049-89240",
         192,
         "2.70",
         72.9,
         "Medium",
         "Traditional"
        ],
        [
         "Medicine",
         "Hydration, therapeutic, prophylactic, diagnostic injections and infusions, and chemotherapy and other highly complex drug or highly complex biologic agent administration",
         "96360-96549",
         190,
         "3.70",
         72.2,
         "Medium",
         "Traditional"
        ],
        [
         "Pathology and laboratory",
         "Therapeutic drug assays",
         "80150-80299",
         150,
         "2.11",
         70.7,
         "Medium",
         "Traditional"
        ],
        [
         "Pathology and laboratory",
         "Transfusion medicine",
         "86850-86999",
         150,
         "2.11",
         70.7,
         "Medium",
         "Traditional"
        ],
        [
         "Pathology and laboratory",
         "Reproductive medicine procedures",
         "89250-89398",
         149,
         "2.10",
         69.9,
         "Medium",
         "Traditional"
        ],
        [
         "Anesthesia",
         "Knee and popliteal area",
         "01320-01444",
         125,
         "9.85",
         69.2,
         "Medium",
         "Traditional"
        ],
        [
         "Anesthesia",
         "Head",
         "00100-00222",
         123,
         "9.69",
         68.4,
         "Medium",
         "Traditional"
        ],
        [
         "Medicine",
         "Immune globulins, serum or recombinant prods",
         "90281-90399",
         119,
         "2.32",
         67.7,
         "Medium",
         "Traditional"
        ],
        [
         "Medicine",
         "Noninvasive vascular diagnostic studies",
         "93875-93990",
         116,
         "2.26",
         66.9,
         "Medium",
         "Traditional"
        ],
        [
         "Medicine",
         "Home health procedures/services",
         "99500-99602",
         103,
         "2.00",
         66.2,
         "Medium",
         "Traditional"
        ],
        [
         "Medicine",
         "Special dermatological procedures",
         "96900-96999",
         100,
         "1.95",
         63.2,
         "Medium",
         "Traditional"
        ],
        [
         "Pathology and laboratory",
         "Anatomic pathology (postmortem)",
         "88000-88099",
         100,
         "1.41",
         63.2,
         "Medium",
         "Traditional"
        ],
        [
         "Pathology and laboratory",
         "Surgical pathology",
         "88300-88399",
         100,
         "1.41",
         63.2,
         "Medium",
         "Traditional"
        ],
        [
         "Pathology and laboratory",
         "Urinalysis",
         "81000-81099",
         100,
         "1.41",
         63.2,
         "Medium",
         "Traditional"
        ],
        [
         "Medicine",
         "Psychiatry",
         "90801-90899",
         99,
         "1.93",
         62.4,
         "Medium",
         "Traditional"
        ],
        [
         "Anesthesia",
         "Upper abdomen",
         "00700-00797",
         98,
         "7.72",
         61.7,
         "Medium",
         "Traditional"
        ],
        [
         "Pathology and laboratory",
         "Cytopathology",
         "88104-88199",
         96,
         "1.35",
         60.2,
         "Medium",
         "Traditional"
        ],
        [
         "Performance measurement",
         "Follow-up or other outcomes",
         "5005F-5100F",
         96,
         "6.90",
         60.2,
         "Medium",
         "Performance"
        ],
        [
         "Medicine",
         "Special services, procedures and reports",
         "99000-99091",
         92,
         "1.79",
         59.4,
         "Medium",
         "Traditional"
        ],
        [
         "Anesthesia",
         "Lower abdomen",
         "00800-00882",
         83,
         "6.54",
         58.6,
         "Medium",
         "Traditional"
        ],
        [
         "Anesthesia",
         "Intrathoracic",
         "00500-00580",
         81,
         "6.38",
         57.9,
         "Medium",
         "Traditional"
        ],
        [
         "Anesthesia",
         "Pelvis (except hip)",
         "01112-01190",
         79,
         "6.23",
         57.1,
         "Medium",
         "Traditional"
        ],
        [
         "Pathology and laboratory",
         "Organ or disease-oriented panels",
         "80000-80076",
         77,
         "1.08",
         56.4,
         "Medium",
         "Traditional"
        ],
        [
         "Performance measurement",
         "Patient management",
         "0500F-0575F",
         76,
         "5.46",
         55.6,
         "Medium",
         "Performance"
        ],
        [
         "Anesthesia",
         "Thorax",
         "00400-00474",
         75,
         "5.91",
         54.1,
         "Medium",
         "Traditional"
        ],
        [
         "Anesthesia",
         "Upper leg (except knee)",
         "01200-01274",
         75,
         "5.91",
         54.1,
         "Medium",
         "Traditional"
        ],
        [
         "Anesthesia",
         "Shoulder and axillary",
         "01610-01682",
         73,
         "5.75",
         52.6,
         "Medium",
         "Traditional"
        ],
        [
         "Anesthesia",
         "Upper arm and elbow",
         "01710-01782",
         73,
         "5.75",
         52.6,
         "Medium",
         "Traditional"
        ],
        [
         "Anesthesia",
         "Spine and spinal cord",
         "00600-00670",
         71,
         "5.59",
         51.9,
         "Medium",
         "Traditional"
        ],
        [
         "Pathology and laboratory",
         "Cytogenetic studies",
         "88230-88299",
         70,
         "0.99",
         51.1,
         "Medium",
         "Traditional"
        ],
        [
         "Medicine",
         "Dialysis",
         "90935-90999",
         65,
         "1.26",
         50.4,
         "Medium",
         "Traditional"
        ],
        [
         "Anesthesia",
         "Lower leg (below knee)",
         "01462-01522",
         61,
         "4.81",
         48.9,
         "Small",
         "Traditional"
        ],
        [
         "Surgery",
         "Reproductive system and intersex",
         "55920-55980",
         61,
         "0.11",
         48.9,
         "Small",
         "Traditional"
        ],
        [
         "Anesthesia",
         "Neck",
         "00300-00352",
         53,
         "4.18",
         48.1,
         "Small",
         "Traditional"
        ],
        [
         "Anesthesia",
         "Forearm, wrist and hand",
         "01810-01860",
         51,
         "4.02",
         45.9,
         "Small",
         "Traditional"
        ],
        [
         "Anesthesia",
         "Perineum",
         "00902-00952",
         51,
         "4.02",
         45.9,
         "Small",
         "Traditional"
        ],
        [
         "Performance measurement",
         "Physical examination",
         "2000F-2050F",
         51,
         "3.67",
         45.9,
         "Small",
         "Performance"
        ],
        [
         "Evaluation and management",
         "Preventive medicine services",
         "99381-99429",
         49,
         "21.78",
         45.1,
         "Small",
         "Traditional"
        ],
        [
         "Anesthesia",
         "Qualifying circumstances for anesthesia",
         "99100-99140",
         41,
         "3.23",
         42.9,
         "Small",
         "Traditional"
        ],
        [
         "Pathology and laboratory",
         "Evocative/suppression testing",
         "80400-80440",
         41,
         "0.58",
         42.9,
         "Small",
         "Traditional"
        ],
        [
         "Performance measurement",
         "Patient safety",
         "6005F-6045F",
         41,
         "2.95",
         42.9,
         "Small",
         "Performance"
        ],
        [
         "Radiology",
         "Radiologic guidance",
         "77001-77032",
         32,
         "0.33",
         42.1,
         "Small",
         "Traditional"
        ],
        [
         "Medicine",
         "Other services and procedures",
         "99170-99199",
         30,
         "0.58",
         41.4,
         "Small",
         "Traditional"
        ],
        [
         "Medicine",
         "Central nervous system assessments/tests (neuro-cognitive, mental status, speech testing)",
         "96101-96125",
         25,
         "0.49",
         40.6,
         "Small",
         "Traditional"
        ],
        [
         "Surgery",
         "General",
         "10000-10022",
         23,
         "0.04",
         39.8,
         "Small",
         "Traditional"
        ],
        [
         "Pathology and laboratory",
         "In vivo (transcutaneous) lab procedures",
         "88720-88741",
         22,
         "0.31",
         39.1,
         "Small",
         "Traditional"
        ],
        [
         "Anesthesia",
         "Radiological procedures",
         "01916-01936",
         21,
         "1.65",
         38.3,
         "Small",
         "Traditional"
        ],
        [
         "Evaluation and management",
         "Hospital inpatient services",
         "99221-99239",
         19,
         "8.44",
         37.6,
         "Small",
         "Traditional"
        ],
        [
         "Evaluation and management",
         "Office/other outpatient services",
         "99201-99216",
         16,
         "7.11",
         36.1,
         "Small",
         "Traditional"
        ],
        [
         "Performance measurement",
         "Structural Measures",
         "7010F-7025F",
         16,
         "1.15",
         36.1,
         "Small",
         "Performance"
        ],
        [
         "Evaluation and management",
         "Consultations",
         "99241-99255",
         15,
         "6.67",
         33.1,
         "Small",
         "Traditional"
        ],
        [
         "Evaluation and management",
         "Inpatient neonatal intensive, and pediatric/neonatal critical, care services",
         "99466-99480",
         15,
         "6.67",
         33.1,
         "Small",
         "Traditional"
        ],
        [
         "Evaluation and management",
         "Nursing facility services",
         "99304-99318",
         15,
         "6.67",
         33.1,
         "Small",
         "Traditional"
        ],
        [
         "Performance measurement",
         "Composite measures",
         "0001F-0015F",
         15,
         "1.08",
         33.1,
         "Small",
         "Performance"
        ],
        [
         "Evaluation and management",
         "Domiciliary, rest home (boarding home) or custodial care services",
         "99324-99337",
         14,
         "6.22",
         31.6,
         "Small",
         "Traditional"
        ],
        [
         "Radiology",
         "Bone/joint studies",
         "77071-77084",
         14,
         "0.15",
         31.6,
         "Small",
         "Traditional"
        ],
        [
         "Anesthesia",
         "Obstetric",
         "01958-01969",
         12,
         "0.95",
         30.8,
         "Small",
         "Traditional"
        ],
        [
         "Medicine",
         "Biofeedback",
         "90901-90911",
         11,
         "0.21",
         30.1,
         "Small",
         "Traditional"
        ],
        [
         "Anesthesia",
         "Other procedures",
         "01990-01999",
         10,
         "0.79",
         27.8,
         "Small",
         "Traditional"
        ],
        [
         "Evaluation and management",
         "Home health services",
         "99341-99350",
         10,
         "4.44",
         27.8,
         "Small",
         "Traditional"
        ],
        [
         "Medicine",
         "Immunization administration for vaccines/toxoids",
         "90465-90474",
         10,
         "0.19",
         27.8,
         "Small",
         "Traditional"
        ],
        [
         "Radiology",
         "Breast mammography",
         "77051-77059",
         9,
         "0.09",
         27.1,
         "Small",
         "Traditional"
        ],
        [
         "Anesthesia",
         "Moderate (conscious) sedation",
         "99143-99150",
         8,
         "0.63",
         24.8,
         "Small",
         "Traditional"
        ],
        [
         "Evaluation and management",
         "Emergency department services",
         "99281-99288",
         8,
         "3.56",
         24.8,
         "Small",
         "Traditional"
        ],
        [
         "Medicine",
         "End-Stage Renal Disease Services (deleted codes)",
         "90918-90925",
         8,
         "0.16",
         24.8,
         "Small",
         "Traditional"
        ],
        [
         "Evaluation and management",
         "Care plan oversight services",
         "99374-99380",
         7,
         "3.11",
         22.6,
         "Small",
         "Traditional"
        ],
        [
         "Evaluation and management",
         "Prolonged services",
         "99354-99360",
         7,
         "3.11",
         22.6,
         "Small",
         "Traditional"
        ],
        [
         "Evaluation and management",
         "Special evaluation and management services",
         "99450-99456",
         7,
         "3.11",
         22.6,
         "Small",
         "Traditional"
        ],
        [
         "Evaluation and management",
         "Case management services",
         "99363-99368",
         6,
         "2.67",
         20.3,
         "Small",
         "Traditional"
        ],
        [
         "Evaluation and management",
         "Newborn care services",
         "99460-99465",
         6,
         "2.67",
         20.3,
         "Small",
         "Traditional"
        ],
        [
         "Medicine",
         "Health and behavior assessment/intervention",
         "96150-96155",
         6,
         "0.12",
         20.3,
         "Small",
         "Traditional"
        ],
        [
         "Evaluation and management",
         "Confirmatory consultation for a new or established patient (deleted codes)",
         "99271-99275",
         5,
         "2.22",
         17.3,
         "Very Small",
         "Traditional"
        ],
        [
         "Medicine",
         "Acupuncture",
         "97810-97814",
         5,
         "0.10",
         17.3,
         "Very Small",
         "Traditional"
        ],
        [
         "Medicine",
         "Osteopathic manipulative treatment",
         "98925-98929",
         5,
         "0.10",
         17.3,
         "Very Small",
         "Traditional"
        ],
        [
         "Medicine",
         "Photodynamic therapy",
         "96567-96571",
         5,
         "0.10",
         17.3,
         "Very Small",
         "Traditional"
        ],
        [
         "Emerging technology",
         "Temporary codes",
         "0256T-0259T",
         4,
         "2.04",
         12.8,
         "Very Small",
         "Emerging Tech"
        ],
        [
         "Evaluation and management",
         "Hospital observation services",
         "99217-99220",
         4,
         "1.78",
         12.8,
         "Very Small",
         "Traditional"
        ],
        [
         "Evaluation and management",
         "Non-face-to-face physician services",
         "99441-99444",
         4,
         "1.78",
         12.8,
         "Very Small",
         "Traditional"
        ],
        [
         "Medicine",
         "Chiropractic manipulative treatment",
         "98940-98943",
         4,
         "0.08",
         12.8,
         "Very Small",
         "Traditional"
        ],
        [
         "Medicine",
         "Non-face-to-face nonphysician services",
         "98966-98969",
         4,
         "0.08",
         12.8,
         "Very Small",
         "Traditional"
        ],
        [
         "Pathology and laboratory",
         "Drug testing",
         "80100-80103",
         4,
         "0.06",
         12.8,
         "Very Small",
         "Traditional"
        ],
        [
         "Anesthesia",
         "Burn excisions or debridement",
         "01951-01953",
         3,
         "0.24",
         6.8,
         "Very Small",
         "Traditional"
        ],
        [
         "Evaluation and management",
         "Complex chronic care coordination services",
         "99487-99489",
         3,
         "1.33",
         6.8,
         "Very Small",
         "Traditional"
        ],
        [
         "Evaluation and management",
         "Follow-up inpatient consultations (deleted codes)",
         "99261-99263",
         3,
         "1.33",
         6.8,
         "Very Small",
         "Traditional"
        ],
        [
         "Evaluation and management",
         "Telephone care (deleted codes)",
         "99371-99373",
         3,
         "1.33",
         6.8,
         "Very Small",
         "Traditional"
        ],
        [
         "Medicine",
         "Education and training for patient self-management",
         "98960-98962",
         3,
         "0.06",
         6.8,
         "Very Small",
         "Traditional"
        ],
        [
         "Medicine",
         "Medical nutrition therapy",
         "97802-97804",
         3,
         "0.06",
         6.8,
         "Very Small",
         "Traditional"
        ],
        [
         "Medicine",
         "Medication therapy management services",
         "99605-99607",
         3,
         "0.06",
         6.8,
         "Very Small",
         "Traditional"
        ],
        [
         "Pathology and laboratory",
         "Consultations (clinical pathology)",
         "80500-80502",
         3,
         "0.04",
         6.8,
         "Very Small",
         "Traditional"
        ],
        [
         "Anesthesia",
         "Conscious sedation (deleted codes)",
         "99141-99142",
         2,
         "0.16",
         2.3,
         "Very Small",
         "Traditional"
        ],
        [
         "Evaluation and management",
         "Critical care services",
         "99291-99292",
         2,
         "0.89",
         2.3,
         "Very Small",
         "Traditional"
        ],
        [
         "Evaluation and management",
         "Domiciliary, rest home (assisted living facility), or home care plan oversight services",
         "99339-99340",
         2,
         "0.89",
         2.3,
         "Very Small",
         "Traditional"
        ],
        [
         "Evaluation and management",
         "Team Conferences (deleted codes)",
         "99361-99362",
         2,
         "0.89",
         2.3,
         "Very Small",
         "Traditional"
        ],
        [
         "Evaluation and management",
         "Transitional care management services",
         "99495-99496",
         2,
         "0.89",
         2.3,
         "Very Small",
         "Traditional"
        ],
        [
         "Medicine",
         "Endocrinology",
         "95250-95251",
         2,
         "0.04",
         2.3,
         "Very Small",
         "Traditional"
        ],
        [
         "Evaluation and management",
         "Other evaluation and management services",
         "99499",
         1,
         "0.44",
         0.0,
         "Very Small",
         "Traditional"
        ],
        [
         "Surgery",
         "Laparoscopy, Surgical; Cholecystectomy (deleted code)",
         "56340-56340",
         1,
         "0.00",
         0.0,
         "Very Small",
         "Traditional"
        ],
        [
         "Surgery",
         "Operating microscope (deleted code)",
         "69990-69990",
         1,
         "0.00",
         0.0,
         "Very Small",
         "Traditional"
        ]
       ],
       "datasetInfos": [],
       "dbfsResultPath": null,
       "isJsonSchema": true,
       "metadata": {
        "createTempViewForImplicitDf": true,
        "dataframeName": "_sqldf",
        "executionCount": 15
       },
       "overflow": false,
       "plotOptions": {
        "customPlotOptions": {},
        "displayType": "table",
        "pivotAggregation": null,
        "pivotColumns": null,
        "xColumns": null,
        "yColumns": null
       },
       "removedWidgets": [],
       "schema": [
        {
         "metadata": "{}",
         "name": "sectionheader",
         "type": "\"string\""
        },
        {
         "metadata": "{}",
         "name": "subsectionheader",
         "type": "\"string\""
        },
        {
         "metadata": "{}",
         "name": "subsectionrange",
         "type": "\"string\""
        },
        {
         "metadata": "{}",
         "name": "code_count",
         "type": "\"integer\""
        },
        {
         "metadata": "{}",
         "name": "pct_of_section",
         "type": "\"decimal(17,2)\""
        },
        {
         "metadata": "{}",
         "name": "size_percentile_rank",
         "type": "\"double\""
        },
        {
         "metadata": "{}",
         "name": "size_category",
         "type": "\"string\""
        },
        {
         "metadata": "{}",
         "name": "category_type",
         "type": "\"string\""
        }
       ],
       "type": "table"
      }
     },
     "output_type": "display_data"
    }
   ],
   "source": [
    "%sql\n",
    "WITH subsection_metrics AS (\n",
    "    SELECT \n",
    "        row_id,\n",
    "        sectionheader,\n",
    "        subsectionheader,\n",
    "        subsectionrange,\n",
    "        category,\n",
    "        (maxcodeinsubsection - mincodeinsubsection + 1) as code_count,\n",
    "        mincodeinsubsection,\n",
    "        maxcodeinsubsection,\n",
    "        -- Calculate relative size within section\n",
    "        ROUND(100.0 * (maxcodeinsubsection - mincodeinsubsection + 1) / \n",
    "              SUM(maxcodeinsubsection - mincodeinsubsection + 1) OVER (PARTITION BY sectionheader), 2) as pct_of_section,\n",
    "        -- Calculate percentile ranking\n",
    "        PERCENT_RANK() OVER (ORDER BY maxcodeinsubsection - mincodeinsubsection + 1) as size_percentile\n",
    "    FROM mimicdata.mimic.d_cpt\n",
    ")\n",
    "SELECT \n",
    "    sectionheader,\n",
    "    subsectionheader,\n",
    "    subsectionrange,\n",
    "    code_count,\n",
    "    pct_of_section,\n",
    "    ROUND(size_percentile * 100, 1) as size_percentile_rank,\n",
    "    CASE \n",
    "        WHEN size_percentile >= 0.8 THEN 'Large'\n",
    "        WHEN size_percentile >= 0.5 THEN 'Medium'\n",
    "        WHEN size_percentile >= 0.2 THEN 'Small'\n",
    "        ELSE 'Very Small'\n",
    "    END as size_category,\n",
    "    CASE \n",
    "        WHEN category = 1 THEN 'Traditional'\n",
    "        WHEN category = 2 THEN 'Performance'\n",
    "        WHEN category = 3 THEN 'Emerging Tech'\n",
    "    END as category_type\n",
    "FROM subsection_metrics\n",
    "ORDER BY code_count DESC, sectionheader, subsectionheader;"
   ]
  },
  {
   "cell_type": "code",
   "execution_count": 0,
   "metadata": {
    "application/vnd.databricks.v1+cell": {
     "cellMetadata": {
      "byteLimit": 2048000,
      "implicitDf": true,
      "rowLimit": 10000
     },
     "inputWidgets": {},
     "nuid": "884eccd5-1349-4465-8690-1251c2f10400",
     "showTitle": true,
     "tableResultSettingsMap": {},
     "title": "Market Share by Subsection"
    }
   },
   "outputs": [
    {
     "output_type": "display_data",
     "data": {
      "text/html": [
       "<style scoped>\n",
       "  .table-result-container {\n",
       "    max-height: 300px;\n",
       "    overflow: auto;\n",
       "  }\n",
       "  table, th, td {\n",
       "    border: 1px solid black;\n",
       "    border-collapse: collapse;\n",
       "  }\n",
       "  th, td {\n",
       "    padding: 5px;\n",
       "  }\n",
       "  th {\n",
       "    text-align: left;\n",
       "  }\n",
       "</style><div class='table-result-container'><table class='table-result'><thead style='background-color: white'><tr><th>sectionheader</th><th>subsection_count</th><th>total_codes</th><th>avg_codes_per_subsection</th><th>deleted_subsections</th><th>large_subsections</th><th>medium_subsections</th><th>small_subsections</th><th>pct_of_all_codes</th><th>pct_deleted_subsections</th></tr></thead><tbody><tr><td>Surgery</td><td>19</td><td>57120</td><td>3006.0</td><td>2</td><td>10</td><td>5</td><td>4</td><td>69.63</td><td>10.5</td></tr><tr><td>Radiology</td><td>7</td><td>9588</td><td>1370.0</td><td>0</td><td>2</td><td>2</td><td>3</td><td>11.69</td><td>0.0</td></tr><tr><td>Pathology and laboratory</td><td>18</td><td>7101</td><td>395.0</td><td>0</td><td>1</td><td>10</td><td>7</td><td>8.66</td><td>0.0</td></tr><tr><td>Medicine</td><td>32</td><td>5140</td><td>161.0</td><td>1</td><td>0</td><td>14</td><td>18</td><td>6.27</td><td>3.1</td></tr><tr><td>Performance measurement</td><td>9</td><td>1391</td><td>155.0</td><td>0</td><td>0</td><td>3</td><td>6</td><td>1.70</td><td>0.0</td></tr><tr><td>Anesthesia</td><td>22</td><td>1269</td><td>58.0</td><td>1</td><td>0</td><td>2</td><td>20</td><td>1.55</td><td>4.5</td></tr><tr><td>Evaluation and management</td><td>25</td><td>225</td><td>9.0</td><td>4</td><td>0</td><td>0</td><td>25</td><td>0.27</td><td>16.0</td></tr><tr><td>Emerging technology</td><td>1</td><td>192</td><td>192.0</td><td>0</td><td>0</td><td>1</td><td>0</td><td>0.23</td><td>0.0</td></tr><tr><td>Emerging technology</td><td>1</td><td>4</td><td>4.0</td><td>0</td><td>0</td><td>0</td><td>1</td><td>0.00</td><td>0.0</td></tr></tbody></table></div>"
      ]
     },
     "metadata": {
      "application/vnd.databricks.v1+output": {
       "addedWidgets": {},
       "aggData": [],
       "aggError": "",
       "aggOverflow": false,
       "aggSchema": [],
       "aggSeriesLimitReached": false,
       "aggType": "",
       "arguments": {},
       "columnCustomDisplayInfos": {},
       "data": [
        [
         "Surgery",
         19,
         57120,
         3006.0,
         2,
         10,
         5,
         4,
         "69.63",
         "10.5"
        ],
        [
         "Radiology",
         7,
         9588,
         1370.0,
         0,
         2,
         2,
         3,
         "11.69",
         "0.0"
        ],
        [
         "Pathology and laboratory",
         18,
         7101,
         395.0,
         0,
         1,
         10,
         7,
         "8.66",
         "0.0"
        ],
        [
         "Medicine",
         32,
         5140,
         161.0,
         1,
         0,
         14,
         18,
         "6.27",
         "3.1"
        ],
        [
         "Performance measurement",
         9,
         1391,
         155.0,
         0,
         0,
         3,
         6,
         "1.70",
         "0.0"
        ],
        [
         "Anesthesia",
         22,
         1269,
         58.0,
         1,
         0,
         2,
         20,
         "1.55",
         "4.5"
        ],
        [
         "Evaluation and management",
         25,
         225,
         9.0,
         4,
         0,
         0,
         25,
         "0.27",
         "16.0"
        ],
        [
         "Emerging technology",
         1,
         192,
         192.0,
         0,
         0,
         1,
         0,
         "0.23",
         "0.0"
        ],
        [
         "Emerging technology",
         1,
         4,
         4.0,
         0,
         0,
         0,
         1,
         "0.00",
         "0.0"
        ]
       ],
       "datasetInfos": [],
       "dbfsResultPath": null,
       "isJsonSchema": true,
       "metadata": {
        "createTempViewForImplicitDf": true,
        "dataframeName": "_sqldf",
        "executionCount": 18
       },
       "overflow": false,
       "plotOptions": {
        "customPlotOptions": {},
        "displayType": "table",
        "pivotAggregation": null,
        "pivotColumns": null,
        "xColumns": null,
        "yColumns": null
       },
       "removedWidgets": [],
       "schema": [
        {
         "metadata": "{}",
         "name": "sectionheader",
         "type": "\"string\""
        },
        {
         "metadata": "{}",
         "name": "subsection_count",
         "type": "\"long\""
        },
        {
         "metadata": "{}",
         "name": "total_codes",
         "type": "\"long\""
        },
        {
         "metadata": "{}",
         "name": "avg_codes_per_subsection",
         "type": "\"double\""
        },
        {
         "metadata": "{}",
         "name": "deleted_subsections",
         "type": "\"long\""
        },
        {
         "metadata": "{}",
         "name": "large_subsections",
         "type": "\"long\""
        },
        {
         "metadata": "{}",
         "name": "medium_subsections",
         "type": "\"long\""
        },
        {
         "metadata": "{}",
         "name": "small_subsections",
         "type": "\"long\""
        },
        {
         "metadata": "{}",
         "name": "pct_of_all_codes",
         "type": "\"decimal(27,2)\""
        },
        {
         "metadata": "{}",
         "name": "pct_deleted_subsections",
         "type": "\"decimal(26,1)\""
        }
       ],
       "type": "table"
      }
     },
     "output_type": "display_data"
    }
   ],
   "source": [
    "%sql\n",
    "WITH section_stats AS (\n",
    "    SELECT \n",
    "        sectionheader,\n",
    "        sectionrange,\n",
    "        COUNT(*) as subsection_count,\n",
    "        SUM(maxcodeinsubsection - mincodeinsubsection + 1) as total_codes,\n",
    "        ROUND(AVG(maxcodeinsubsection - mincodeinsubsection + 1), 0) as avg_codes_per_subsection,\n",
    "        -- Identify if section has deleted codes\n",
    "        SUM(CASE WHEN LOWER(subsectionheader) LIKE '%deleted%' THEN 1 ELSE 0 END) as deleted_subsections,\n",
    "        -- Count subsections by size\n",
    "        SUM(CASE WHEN (maxcodeinsubsection - mincodeinsubsection + 1) >= 1000 THEN 1 ELSE 0 END) as large_subsections,\n",
    "        SUM(CASE WHEN (maxcodeinsubsection - mincodeinsubsection + 1) BETWEEN 100 AND 999 THEN 1 ELSE 0 END) as medium_subsections,\n",
    "        SUM(CASE WHEN (maxcodeinsubsection - mincodeinsubsection + 1) < 100 THEN 1 ELSE 0 END) as small_subsections\n",
    "    FROM mimicdata.mimic.d_cpt\n",
    "    GROUP BY sectionheader, sectionrange\n",
    ")\n",
    "SELECT \n",
    "    sectionheader,\n",
    "    subsection_count,\n",
    "    total_codes,\n",
    "    avg_codes_per_subsection,\n",
    "    deleted_subsections,\n",
    "    large_subsections,\n",
    "    medium_subsections,\n",
    "    small_subsections,\n",
    "    ROUND(100.0 * total_codes / SUM(total_codes) OVER(), 2) as pct_of_all_codes,\n",
    "    ROUND(100.0 * deleted_subsections / subsection_count, 1) as pct_deleted_subsections\n",
    "FROM section_stats\n",
    "ORDER BY total_codes DESC;"
   ]
  },
  {
   "cell_type": "code",
   "execution_count": 0,
   "metadata": {
    "application/vnd.databricks.v1+cell": {
     "cellMetadata": {
      "byteLimit": 2048000,
      "implicitDf": true,
      "rowLimit": 10000
     },
     "inputWidgets": {},
     "nuid": "71a5f474-7bac-4771-a722-b052a599b92f",
     "showTitle": true,
     "tableResultSettingsMap": {},
     "title": "Performance vs. Potential"
    }
   },
   "outputs": [
    {
     "output_type": "display_data",
     "data": {
      "text/html": [
       "<style scoped>\n",
       "  .table-result-container {\n",
       "    max-height: 300px;\n",
       "    overflow: auto;\n",
       "  }\n",
       "  table, th, td {\n",
       "    border: 1px solid black;\n",
       "    border-collapse: collapse;\n",
       "  }\n",
       "  th, td {\n",
       "    padding: 5px;\n",
       "  }\n",
       "  th {\n",
       "    text-align: left;\n",
       "  }\n",
       "</style><div class='table-result-container'><table class='table-result'><thead style='background-color: white'><tr><th>analysis_type</th><th>total_subsections</th><th>single_code_subsections</th><th>small_range_subsections</th><th>medium_range_subsections</th><th>large_range_subsections</th><th>very_large_range_subsections</th></tr></thead><tbody><tr><td>Code Range Distribution</td><td>134</td><td>3</td><td>37</td><td>21</td><td>40</td><td>33</td></tr><tr><td>Category Breakdown</td><td>134</td><td>123</td><td>9</td><td>2</td><td>0</td><td>0</td></tr></tbody></table></div>"
      ]
     },
     "metadata": {
      "application/vnd.databricks.v1+output": {
       "addedWidgets": {},
       "aggData": [],
       "aggError": "",
       "aggOverflow": false,
       "aggSchema": [],
       "aggSeriesLimitReached": false,
       "aggType": "",
       "arguments": {},
       "columnCustomDisplayInfos": {},
       "data": [
        [
         "Code Range Distribution",
         134,
         3,
         37,
         21,
         40,
         33
        ],
        [
         "Category Breakdown",
         134,
         123,
         9,
         2,
         0,
         0
        ]
       ],
       "datasetInfos": [],
       "dbfsResultPath": null,
       "isJsonSchema": true,
       "metadata": {
        "createTempViewForImplicitDf": true,
        "dataframeName": "_sqldf",
        "executionCount": 19
       },
       "overflow": false,
       "plotOptions": {
        "customPlotOptions": {},
        "displayType": "table",
        "pivotAggregation": null,
        "pivotColumns": null,
        "xColumns": null,
        "yColumns": null
       },
       "removedWidgets": [],
       "schema": [
        {
         "metadata": "{}",
         "name": "analysis_type",
         "type": "\"string\""
        },
        {
         "metadata": "{}",
         "name": "total_subsections",
         "type": "\"long\""
        },
        {
         "metadata": "{}",
         "name": "single_code_subsections",
         "type": "\"long\""
        },
        {
         "metadata": "{}",
         "name": "small_range_subsections",
         "type": "\"long\""
        },
        {
         "metadata": "{}",
         "name": "medium_range_subsections",
         "type": "\"long\""
        },
        {
         "metadata": "{}",
         "name": "large_range_subsections",
         "type": "\"long\""
        },
        {
         "metadata": "{}",
         "name": "very_large_range_subsections",
         "type": "\"long\""
        }
       ],
       "type": "table"
      }
     },
     "output_type": "display_data"
    }
   ],
   "source": [
    "%sql\n",
    "SELECT \n",
    "    'Code Range Distribution' as analysis_type,\n",
    "    COUNT(*) as total_subsections,\n",
    "    COUNT(CASE WHEN (maxcodeinsubsection - mincodeinsubsection + 1) = 1 THEN 1 END) as single_code_subsections,\n",
    "    COUNT(CASE WHEN (maxcodeinsubsection - mincodeinsubsection + 1) BETWEEN 2 AND 10 THEN 1 END) as small_range_subsections,\n",
    "    COUNT(CASE WHEN (maxcodeinsubsection - mincodeinsubsection + 1) BETWEEN 11 AND 50 THEN 1 END) as medium_range_subsections,\n",
    "    COUNT(CASE WHEN (maxcodeinsubsection - mincodeinsubsection + 1) BETWEEN 51 AND 200 THEN 1 END) as large_range_subsections,\n",
    "    COUNT(CASE WHEN (maxcodeinsubsection - mincodeinsubsection + 1) > 200 THEN 1 END) as very_large_range_subsections\n",
    "FROM mimicdata.mimic.d_cpt\n",
    "\n",
    "UNION ALL\n",
    "\n",
    "SELECT \n",
    "    'Category Breakdown' as analysis_type,\n",
    "    COUNT(*) as total_subsections,\n",
    "    COUNT(CASE WHEN category = 1 THEN 1 END) as traditional_codes,\n",
    "    COUNT(CASE WHEN category = 2 THEN 1 END) as performance_codes,\n",
    "    COUNT(CASE WHEN category = 3 THEN 1 END) as emerging_tech_codes,\n",
    "    0 as large_range_subsections,\n",
    "    0 as very_large_range_subsections\n",
    "FROM mimicdata.mimic.d_cpt;"
   ]
  },
  {
   "cell_type": "code",
   "execution_count": 0,
   "metadata": {
    "application/vnd.databricks.v1+cell": {
     "cellMetadata": {
      "byteLimit": 2048000,
      "implicitDf": true,
      "rowLimit": 10000
     },
     "inputWidgets": {},
     "nuid": "68fe6088-c45d-41eb-86de-9271ce3fc34a",
     "showTitle": true,
     "tableResultSettingsMap": {},
     "title": "Code Range Density"
    }
   },
   "outputs": [
    {
     "output_type": "display_data",
     "data": {
      "text/html": [
       "<style scoped>\n",
       "  .table-result-container {\n",
       "    max-height: 300px;\n",
       "    overflow: auto;\n",
       "  }\n",
       "  table, th, td {\n",
       "    border: 1px solid black;\n",
       "    border-collapse: collapse;\n",
       "  }\n",
       "  th, td {\n",
       "    padding: 5px;\n",
       "  }\n",
       "  th {\n",
       "    text-align: left;\n",
       "  }\n",
       "</style><div class='table-result-container'><table class='table-result'><thead style='background-color: white'><tr><th>sectionheader</th><th>subsection_count</th><th>total_codes</th><th>avg_codes_per_subsection</th><th>deleted_subsections</th><th>large_subsections</th><th>medium_subsections</th><th>small_subsections</th><th>pct_of_all_codes</th><th>pct_deleted_subsections</th></tr></thead><tbody><tr><td>Surgery</td><td>19</td><td>57120</td><td>3006.0</td><td>2</td><td>10</td><td>5</td><td>4</td><td>69.63</td><td>10.5</td></tr><tr><td>Radiology</td><td>7</td><td>9588</td><td>1370.0</td><td>0</td><td>2</td><td>2</td><td>3</td><td>11.69</td><td>0.0</td></tr><tr><td>Pathology and laboratory</td><td>18</td><td>7101</td><td>395.0</td><td>0</td><td>1</td><td>10</td><td>7</td><td>8.66</td><td>0.0</td></tr><tr><td>Medicine</td><td>32</td><td>5140</td><td>161.0</td><td>1</td><td>0</td><td>14</td><td>18</td><td>6.27</td><td>3.1</td></tr><tr><td>Performance measurement</td><td>9</td><td>1391</td><td>155.0</td><td>0</td><td>0</td><td>3</td><td>6</td><td>1.70</td><td>0.0</td></tr><tr><td>Anesthesia</td><td>22</td><td>1269</td><td>58.0</td><td>1</td><td>0</td><td>2</td><td>20</td><td>1.55</td><td>4.5</td></tr><tr><td>Evaluation and management</td><td>25</td><td>225</td><td>9.0</td><td>4</td><td>0</td><td>0</td><td>25</td><td>0.27</td><td>16.0</td></tr><tr><td>Emerging technology</td><td>1</td><td>192</td><td>192.0</td><td>0</td><td>0</td><td>1</td><td>0</td><td>0.23</td><td>0.0</td></tr><tr><td>Emerging technology</td><td>1</td><td>4</td><td>4.0</td><td>0</td><td>0</td><td>0</td><td>1</td><td>0.00</td><td>0.0</td></tr></tbody></table></div>"
      ]
     },
     "metadata": {
      "application/vnd.databricks.v1+output": {
       "addedWidgets": {},
       "aggData": [],
       "aggError": "",
       "aggOverflow": false,
       "aggSchema": [],
       "aggSeriesLimitReached": false,
       "aggType": "",
       "arguments": {},
       "columnCustomDisplayInfos": {},
       "data": [
        [
         "Surgery",
         19,
         57120,
         3006.0,
         2,
         10,
         5,
         4,
         "69.63",
         "10.5"
        ],
        [
         "Radiology",
         7,
         9588,
         1370.0,
         0,
         2,
         2,
         3,
         "11.69",
         "0.0"
        ],
        [
         "Pathology and laboratory",
         18,
         7101,
         395.0,
         0,
         1,
         10,
         7,
         "8.66",
         "0.0"
        ],
        [
         "Medicine",
         32,
         5140,
         161.0,
         1,
         0,
         14,
         18,
         "6.27",
         "3.1"
        ],
        [
         "Performance measurement",
         9,
         1391,
         155.0,
         0,
         0,
         3,
         6,
         "1.70",
         "0.0"
        ],
        [
         "Anesthesia",
         22,
         1269,
         58.0,
         1,
         0,
         2,
         20,
         "1.55",
         "4.5"
        ],
        [
         "Evaluation and management",
         25,
         225,
         9.0,
         4,
         0,
         0,
         25,
         "0.27",
         "16.0"
        ],
        [
         "Emerging technology",
         1,
         192,
         192.0,
         0,
         0,
         1,
         0,
         "0.23",
         "0.0"
        ],
        [
         "Emerging technology",
         1,
         4,
         4.0,
         0,
         0,
         0,
         1,
         "0.00",
         "0.0"
        ]
       ],
       "datasetInfos": [],
       "dbfsResultPath": null,
       "isJsonSchema": true,
       "metadata": {
        "createTempViewForImplicitDf": true,
        "dataframeName": "_sqldf",
        "executionCount": 23
       },
       "overflow": false,
       "plotOptions": {
        "customPlotOptions": {},
        "displayType": "table",
        "pivotAggregation": null,
        "pivotColumns": null,
        "xColumns": null,
        "yColumns": null
       },
       "removedWidgets": [],
       "schema": [
        {
         "metadata": "{}",
         "name": "sectionheader",
         "type": "\"string\""
        },
        {
         "metadata": "{}",
         "name": "subsection_count",
         "type": "\"long\""
        },
        {
         "metadata": "{}",
         "name": "total_codes",
         "type": "\"long\""
        },
        {
         "metadata": "{}",
         "name": "avg_codes_per_subsection",
         "type": "\"double\""
        },
        {
         "metadata": "{}",
         "name": "deleted_subsections",
         "type": "\"long\""
        },
        {
         "metadata": "{}",
         "name": "large_subsections",
         "type": "\"long\""
        },
        {
         "metadata": "{}",
         "name": "medium_subsections",
         "type": "\"long\""
        },
        {
         "metadata": "{}",
         "name": "small_subsections",
         "type": "\"long\""
        },
        {
         "metadata": "{}",
         "name": "pct_of_all_codes",
         "type": "\"decimal(27,2)\""
        },
        {
         "metadata": "{}",
         "name": "pct_deleted_subsections",
         "type": "\"decimal(26,1)\""
        }
       ],
       "type": "table"
      }
     },
     "output_type": "display_data"
    }
   ],
   "source": [
    "%sql\n",
    "WITH section_stats AS (\n",
    "    SELECT \n",
    "        sectionheader,\n",
    "        sectionrange,\n",
    "        COUNT(*) as subsection_count,\n",
    "        SUM(maxcodeinsubsection - mincodeinsubsection + 1) as total_codes,\n",
    "        ROUND(AVG(maxcodeinsubsection - mincodeinsubsection + 1), 0) as avg_codes_per_subsection,\n",
    "        -- Identify if section has deleted codes\n",
    "        SUM(CASE WHEN LOWER(subsectionheader) LIKE '%deleted%' THEN 1 ELSE 0 END) as deleted_subsections,\n",
    "        -- Count subsections by size\n",
    "        SUM(CASE WHEN (maxcodeinsubsection - mincodeinsubsection + 1) >= 1000 THEN 1 ELSE 0 END) as large_subsections,\n",
    "        SUM(CASE WHEN (maxcodeinsubsection - mincodeinsubsection + 1) BETWEEN 100 AND 999 THEN 1 ELSE 0 END) as medium_subsections,\n",
    "        SUM(CASE WHEN (maxcodeinsubsection - mincodeinsubsection + 1) < 100 THEN 1 ELSE 0 END) as small_subsections\n",
    "    FROM mimicdata.mimic.d_cpt\n",
    "    GROUP BY sectionheader, sectionrange\n",
    ")\n",
    "SELECT \n",
    "    sectionheader,\n",
    "    subsection_count,\n",
    "    total_codes,\n",
    "    avg_codes_per_subsection,\n",
    "    deleted_subsections,\n",
    "    large_subsections,\n",
    "    medium_subsections,\n",
    "    small_subsections,\n",
    "    ROUND(100.0 * total_codes / SUM(total_codes) OVER(), 2) as pct_of_all_codes,\n",
    "    ROUND(100.0 * deleted_subsections / subsection_count, 1) as pct_deleted_subsections\n",
    "FROM section_stats\n",
    "ORDER BY total_codes DESC;"
   ]
  },
  {
   "cell_type": "code",
   "execution_count": 0,
   "metadata": {
    "application/vnd.databricks.v1+cell": {
     "cellMetadata": {
      "byteLimit": 2048000,
      "implicitDf": true,
      "rowLimit": 10000
     },
     "inputWidgets": {},
     "nuid": "08d11ba8-f400-4a02-b6ac-1342ebe86630",
     "showTitle": true,
     "tableResultSettingsMap": {},
     "title": "Categories"
    }
   },
   "outputs": [
    {
     "output_type": "display_data",
     "data": {
      "text/html": [
       "<style scoped>\n",
       "  .table-result-container {\n",
       "    max-height: 300px;\n",
       "    overflow: auto;\n",
       "  }\n",
       "  table, th, td {\n",
       "    border: 1px solid black;\n",
       "    border-collapse: collapse;\n",
       "  }\n",
       "  th, td {\n",
       "    padding: 5px;\n",
       "  }\n",
       "  th {\n",
       "    text-align: left;\n",
       "  }\n",
       "</style><div class='table-result-container'><table class='table-result'><thead style='background-color: white'><tr><th>sectionheader</th><th>subsectionheader</th><th>subsectionrange</th><th>current_code_count</th><th>category</th><th>market_size</th><th>growth_potential</th><th>strategic_priority_score</th></tr></thead><tbody><tr><td>Emerging technology</td><td>Temporary codes</td><td>0016T-0207T</td><td>192</td><td>3</td><td>Medium Market</td><td>High Growth Potential</td><td>5</td></tr><tr><td>Emerging technology</td><td>Temporary codes</td><td>0256T-0259T</td><td>4</td><td>3</td><td>Niche Market</td><td>High Growth Potential</td><td>5</td></tr><tr><td>Surgery</td><td>Musculoskeletal system</td><td>20000-29999</td><td>10000</td><td>1</td><td>Large Market</td><td>Moderate Growth Potential</td><td>4</td></tr><tr><td>Surgery</td><td>Digestive system</td><td>40490-49999</td><td>9510</td><td>1</td><td>Large Market</td><td>Moderate Growth Potential</td><td>4</td></tr><tr><td>Surgery</td><td>Integumentary system</td><td>10040-19499</td><td>9460</td><td>1</td><td>Large Market</td><td>Moderate Growth Potential</td><td>4</td></tr><tr><td>Radiology</td><td>Diagnostic imaging</td><td>70000-76499</td><td>6500</td><td>1</td><td>Large Market</td><td>Moderate Growth Potential</td><td>4</td></tr><tr><td>Surgery</td><td>Cardiovascular system</td><td>33010-37799</td><td>4790</td><td>1</td><td>Large Market</td><td>Moderate Growth Potential</td><td>4</td></tr><tr><td>Surgery</td><td>Nervous system</td><td>61000-64999</td><td>4000</td><td>1</td><td>Large Market</td><td>Moderate Growth Potential</td><td>4</td></tr><tr><td>Surgery</td><td>Urinary system</td><td>50010-53899</td><td>3890</td><td>1</td><td>Large Market</td><td>Moderate Growth Potential</td><td>4</td></tr><tr><td>Surgery</td><td>Eye and ocular adnexa</td><td>65091-68899</td><td>3809</td><td>1</td><td>Large Market</td><td>Moderate Growth Potential</td><td>4</td></tr><tr><td>Surgery</td><td>Respiratory system</td><td>30000-32999</td><td>3000</td><td>1</td><td>Large Market</td><td>Moderate Growth Potential</td><td>4</td></tr><tr><td>Pathology and laboratory</td><td>Chemistry</td><td>82000-84999</td><td>3000</td><td>1</td><td>Large Market</td><td>Moderate Growth Potential</td><td>4</td></tr><tr><td>Surgery</td><td>Female genital system</td><td>56405-58999</td><td>2595</td><td>1</td><td>Large Market</td><td>Moderate Growth Potential</td><td>4</td></tr><tr><td>Radiology</td><td>Nuclear medicine</td><td>78000-79999</td><td>2000</td><td>1</td><td>Large Market</td><td>Moderate Growth Potential</td><td>4</td></tr><tr><td>Surgery</td><td>Male genital system</td><td>54000-55899</td><td>1900</td><td>1</td><td>Large Market</td><td>Moderate Growth Potential</td><td>4</td></tr><tr><td>Pathology and laboratory</td><td>Microbiology</td><td>87001-87999</td><td>999</td><td>1</td><td>Medium Market</td><td>Moderate Growth Potential</td><td>3</td></tr><tr><td>Pathology and laboratory</td><td>Hematology and coagulation</td><td>85002-85999</td><td>998</td><td>1</td><td>Medium Market</td><td>Moderate Growth Potential</td><td>3</td></tr><tr><td>Surgery</td><td>Auditory system</td><td>69000-69979</td><td>980</td><td>1</td><td>Medium Market</td><td>Moderate Growth Potential</td><td>3</td></tr><tr><td>Surgery</td><td>Hemic and lymphatic systems</td><td>38100-38999</td><td>900</td><td>1</td><td>Medium Market</td><td>Moderate Growth Potential</td><td>3</td></tr><tr><td>Surgery</td><td>Maternity care and delivery</td><td>59000-59899</td><td>900</td><td>1</td><td>Medium Market</td><td>Moderate Growth Potential</td><td>3</td></tr><tr><td>Pathology and laboratory</td><td>Immunology</td><td>86000-86849</td><td>850</td><td>1</td><td>Medium Market</td><td>Moderate Growth Potential</td><td>3</td></tr><tr><td>Medicine</td><td>Cardiovascular</td><td>92950-93799</td><td>850</td><td>1</td><td>Medium Market</td><td>Moderate Growth Potential</td><td>3</td></tr><tr><td>Medicine</td><td>Physical medicine and rehabilitation</td><td>97001-97799</td><td>799</td><td>1</td><td>Medium Market</td><td>Moderate Growth Potential</td><td>3</td></tr><tr><td>Medicine</td><td>Pulmonary</td><td>94002-94799</td><td>798</td><td>1</td><td>Medium Market</td><td>Moderate Growth Potential</td><td>3</td></tr><tr><td>Surgery</td><td>Endocrine system</td><td>60000-60699</td><td>700</td><td>1</td><td>Medium Market</td><td>Moderate Growth Potential</td><td>3</td></tr><tr><td>Surgery</td><td>Mediastinum and diaphragm</td><td>39000-39599</td><td>600</td><td>1</td><td>Medium Market</td><td>Moderate Growth Potential</td><td>3</td></tr><tr><td>Radiology</td><td>Radiation oncology</td><td>77261-77799</td><td>539</td><td>1</td><td>Medium Market</td><td>Moderate Growth Potential</td><td>3</td></tr><tr><td>Medicine</td><td>Ophthalmology</td><td>92002-92499</td><td>498</td><td>1</td><td>Medium Market</td><td>Moderate Growth Potential</td><td>3</td></tr><tr><td>Radiology</td><td>Diagnostic ultrasound</td><td>76506-76999</td><td>494</td><td>1</td><td>Medium Market</td><td>Moderate Growth Potential</td><td>3</td></tr><tr><td>Medicine</td><td>Gastroenterology</td><td>91000-91299</td><td>300</td><td>1</td><td>Medium Market</td><td>Moderate Growth Potential</td><td>3</td></tr><tr><td>Medicine</td><td>Vaccines, toxoids</td><td>90476-90749</td><td>274</td><td>1</td><td>Medium Market</td><td>Moderate Growth Potential</td><td>3</td></tr><tr><td>Medicine</td><td>Neurology and neuromuscular procedures</td><td>95803-96020</td><td>218</td><td>1</td><td>Medium Market</td><td>Moderate Growth Potential</td><td>3</td></tr><tr><td>Medicine</td><td>Special otorhinolaryngologic services</td><td>92502-92700</td><td>199</td><td>1</td><td>Medium Market</td><td>Moderate Growth Potential</td><td>3</td></tr><tr><td>Medicine</td><td>Allergy and clinical immunology</td><td>95004-95199</td><td>196</td><td>1</td><td>Medium Market</td><td>Moderate Growth Potential</td><td>3</td></tr><tr><td>Pathology and laboratory</td><td>Other procedures</td><td>89049-89240</td><td>192</td><td>1</td><td>Medium Market</td><td>Moderate Growth Potential</td><td>3</td></tr><tr><td>Medicine</td><td>Hydration, therapeutic, prophylactic, diagnostic injections and infusions, and chemotherapy and other highly complex drug or highly complex biologic agent administration</td><td>96360-96549</td><td>190</td><td>1</td><td>Medium Market</td><td>Moderate Growth Potential</td><td>3</td></tr><tr><td>Pathology and laboratory</td><td>Therapeutic drug assays</td><td>80150-80299</td><td>150</td><td>1</td><td>Medium Market</td><td>Moderate Growth Potential</td><td>3</td></tr><tr><td>Pathology and laboratory</td><td>Transfusion medicine</td><td>86850-86999</td><td>150</td><td>1</td><td>Medium Market</td><td>Moderate Growth Potential</td><td>3</td></tr><tr><td>Pathology and laboratory</td><td>Reproductive medicine procedures</td><td>89250-89398</td><td>149</td><td>1</td><td>Medium Market</td><td>Moderate Growth Potential</td><td>3</td></tr><tr><td>Anesthesia</td><td>Knee and popliteal area</td><td>01320-01444</td><td>125</td><td>1</td><td>Medium Market</td><td>Moderate Growth Potential</td><td>3</td></tr><tr><td>Anesthesia</td><td>Head</td><td>00100-00222</td><td>123</td><td>1</td><td>Medium Market</td><td>Moderate Growth Potential</td><td>3</td></tr><tr><td>Medicine</td><td>Immune globulins, serum or recombinant prods</td><td>90281-90399</td><td>119</td><td>1</td><td>Medium Market</td><td>Moderate Growth Potential</td><td>3</td></tr><tr><td>Medicine</td><td>Noninvasive vascular diagnostic studies</td><td>93875-93990</td><td>116</td><td>1</td><td>Medium Market</td><td>Moderate Growth Potential</td><td>3</td></tr><tr><td>Medicine</td><td>Home health procedures/services</td><td>99500-99602</td><td>103</td><td>1</td><td>Medium Market</td><td>Moderate Growth Potential</td><td>3</td></tr><tr><td>Pathology and laboratory</td><td>Urinalysis</td><td>81000-81099</td><td>100</td><td>1</td><td>Medium Market</td><td>Moderate Growth Potential</td><td>3</td></tr><tr><td>Pathology and laboratory</td><td>Anatomic pathology (postmortem)</td><td>88000-88099</td><td>100</td><td>1</td><td>Medium Market</td><td>Moderate Growth Potential</td><td>3</td></tr><tr><td>Pathology and laboratory</td><td>Surgical pathology</td><td>88300-88399</td><td>100</td><td>1</td><td>Medium Market</td><td>Moderate Growth Potential</td><td>3</td></tr><tr><td>Medicine</td><td>Special dermatological procedures</td><td>96900-96999</td><td>100</td><td>1</td><td>Medium Market</td><td>Moderate Growth Potential</td><td>3</td></tr><tr><td>Performance measurement</td><td>Diagnostic/screening processes or results</td><td>3006F-3573F</td><td>568</td><td>2</td><td>Medium Market</td><td>Stable Growth</td><td>2</td></tr><tr><td>Performance measurement</td><td>Therapeutic, preventive or other interventions</td><td>4000F-4306F</td><td>307</td><td>2</td><td>Medium Market</td><td>Stable Growth</td><td>2</td></tr><tr><td>Performance measurement</td><td>Patient history</td><td>1000F-1220F</td><td>221</td><td>2</td><td>Medium Market</td><td>Stable Growth</td><td>2</td></tr><tr><td>Performance measurement</td><td>Follow-up or other outcomes</td><td>5005F-5100F</td><td>96</td><td>2</td><td>Small Market</td><td>Stable Growth</td><td>2</td></tr><tr><td>Performance measurement</td><td>Patient management</td><td>0500F-0575F</td><td>76</td><td>2</td><td>Small Market</td><td>Stable Growth</td><td>2</td></tr><tr><td>Performance measurement</td><td>Physical examination</td><td>2000F-2050F</td><td>51</td><td>2</td><td>Small Market</td><td>Stable Growth</td><td>2</td></tr><tr><td>Performance measurement</td><td>Patient safety</td><td>6005F-6045F</td><td>41</td><td>2</td><td>Small Market</td><td>Stable Growth</td><td>2</td></tr><tr><td>Performance measurement</td><td>Structural Measures</td><td>7010F-7025F</td><td>16</td><td>2</td><td>Small Market</td><td>Stable Growth</td><td>2</td></tr><tr><td>Performance measurement</td><td>Composite measures</td><td>0001F-0015F</td><td>15</td><td>2</td><td>Small Market</td><td>Stable Growth</td><td>2</td></tr><tr><td>Medicine</td><td>Psychiatry</td><td>90801-90899</td><td>99</td><td>1</td><td>Small Market</td><td>Moderate Growth Potential</td><td>1</td></tr><tr><td>Anesthesia</td><td>Upper abdomen</td><td>00700-00797</td><td>98</td><td>1</td><td>Small Market</td><td>Moderate Growth Potential</td><td>1</td></tr><tr><td>Pathology and laboratory</td><td>Cytopathology</td><td>88104-88199</td><td>96</td><td>1</td><td>Small Market</td><td>Moderate Growth Potential</td><td>1</td></tr><tr><td>Medicine</td><td>Special services, procedures and reports</td><td>99000-99091</td><td>92</td><td>1</td><td>Small Market</td><td>Moderate Growth Potential</td><td>1</td></tr><tr><td>Anesthesia</td><td>Lower abdomen</td><td>00800-00882</td><td>83</td><td>1</td><td>Small Market</td><td>Moderate Growth Potential</td><td>1</td></tr><tr><td>Anesthesia</td><td>Intrathoracic</td><td>00500-00580</td><td>81</td><td>1</td><td>Small Market</td><td>Moderate Growth Potential</td><td>1</td></tr><tr><td>Anesthesia</td><td>Pelvis (except hip)</td><td>01112-01190</td><td>79</td><td>1</td><td>Small Market</td><td>Moderate Growth Potential</td><td>1</td></tr><tr><td>Pathology and laboratory</td><td>Organ or disease-oriented panels</td><td>80000-80076</td><td>77</td><td>1</td><td>Small Market</td><td>Moderate Growth Potential</td><td>1</td></tr><tr><td>Anesthesia</td><td>Thorax</td><td>00400-00474</td><td>75</td><td>1</td><td>Small Market</td><td>Moderate Growth Potential</td><td>1</td></tr><tr><td>Anesthesia</td><td>Upper leg (except knee)</td><td>01200-01274</td><td>75</td><td>1</td><td>Small Market</td><td>Moderate Growth Potential</td><td>1</td></tr><tr><td>Anesthesia</td><td>Shoulder and axillary</td><td>01610-01682</td><td>73</td><td>1</td><td>Small Market</td><td>Moderate Growth Potential</td><td>1</td></tr><tr><td>Anesthesia</td><td>Upper arm and elbow</td><td>01710-01782</td><td>73</td><td>1</td><td>Small Market</td><td>Moderate Growth Potential</td><td>1</td></tr><tr><td>Anesthesia</td><td>Spine and spinal cord</td><td>00600-00670</td><td>71</td><td>1</td><td>Small Market</td><td>Moderate Growth Potential</td><td>1</td></tr><tr><td>Pathology and laboratory</td><td>Cytogenetic studies</td><td>88230-88299</td><td>70</td><td>1</td><td>Small Market</td><td>Moderate Growth Potential</td><td>1</td></tr><tr><td>Medicine</td><td>Dialysis</td><td>90935-90999</td><td>65</td><td>1</td><td>Small Market</td><td>Moderate Growth Potential</td><td>1</td></tr><tr><td>Anesthesia</td><td>Lower leg (below knee)</td><td>01462-01522</td><td>61</td><td>1</td><td>Small Market</td><td>Moderate Growth Potential</td><td>1</td></tr><tr><td>Surgery</td><td>Reproductive system and intersex</td><td>55920-55980</td><td>61</td><td>1</td><td>Small Market</td><td>Moderate Growth Potential</td><td>1</td></tr><tr><td>Anesthesia</td><td>Neck</td><td>00300-00352</td><td>53</td><td>1</td><td>Small Market</td><td>Moderate Growth Potential</td><td>1</td></tr><tr><td>Anesthesia</td><td>Perineum</td><td>00902-00952</td><td>51</td><td>1</td><td>Small Market</td><td>Moderate Growth Potential</td><td>1</td></tr><tr><td>Anesthesia</td><td>Forearm, wrist and hand</td><td>01810-01860</td><td>51</td><td>1</td><td>Small Market</td><td>Moderate Growth Potential</td><td>1</td></tr><tr><td>Evaluation and management</td><td>Preventive medicine services</td><td>99381-99429</td><td>49</td><td>1</td><td>Small Market</td><td>Moderate Growth Potential</td><td>1</td></tr><tr><td>Anesthesia</td><td>Qualifying circumstances for anesthesia</td><td>99100-99140</td><td>41</td><td>1</td><td>Small Market</td><td>Moderate Growth Potential</td><td>1</td></tr><tr><td>Pathology and laboratory</td><td>Evocative/suppression testing</td><td>80400-80440</td><td>41</td><td>1</td><td>Small Market</td><td>Moderate Growth Potential</td><td>1</td></tr><tr><td>Radiology</td><td>Radiologic guidance</td><td>77001-77032</td><td>32</td><td>1</td><td>Small Market</td><td>Moderate Growth Potential</td><td>1</td></tr><tr><td>Medicine</td><td>Other services and procedures</td><td>99170-99199</td><td>30</td><td>1</td><td>Small Market</td><td>Moderate Growth Potential</td><td>1</td></tr><tr><td>Medicine</td><td>Central nervous system assessments/tests (neuro-cognitive, mental status, speech testing)</td><td>96101-96125</td><td>25</td><td>1</td><td>Small Market</td><td>Moderate Growth Potential</td><td>1</td></tr><tr><td>Surgery</td><td>General</td><td>10000-10022</td><td>23</td><td>1</td><td>Small Market</td><td>Moderate Growth Potential</td><td>1</td></tr><tr><td>Pathology and laboratory</td><td>In vivo (transcutaneous) lab procedures</td><td>88720-88741</td><td>22</td><td>1</td><td>Small Market</td><td>Moderate Growth Potential</td><td>1</td></tr><tr><td>Anesthesia</td><td>Radiological procedures</td><td>01916-01936</td><td>21</td><td>1</td><td>Small Market</td><td>Moderate Growth Potential</td><td>1</td></tr><tr><td>Evaluation and management</td><td>Hospital inpatient services</td><td>99221-99239</td><td>19</td><td>1</td><td>Small Market</td><td>Moderate Growth Potential</td><td>1</td></tr><tr><td>Evaluation and management</td><td>Office/other outpatient services</td><td>99201-99216</td><td>16</td><td>1</td><td>Small Market</td><td>Moderate Growth Potential</td><td>1</td></tr><tr><td>Evaluation and management</td><td>Consultations</td><td>99241-99255</td><td>15</td><td>1</td><td>Small Market</td><td>Moderate Growth Potential</td><td>1</td></tr><tr><td>Evaluation and management</td><td>Nursing facility services</td><td>99304-99318</td><td>15</td><td>1</td><td>Small Market</td><td>Moderate Growth Potential</td><td>1</td></tr><tr><td>Evaluation and management</td><td>Inpatient neonatal intensive, and pediatric/neonatal critical, care services</td><td>99466-99480</td><td>15</td><td>1</td><td>Small Market</td><td>Moderate Growth Potential</td><td>1</td></tr><tr><td>Evaluation and management</td><td>Domiciliary, rest home (boarding home) or custodial care services</td><td>99324-99337</td><td>14</td><td>1</td><td>Small Market</td><td>Moderate Growth Potential</td><td>1</td></tr><tr><td>Radiology</td><td>Bone/joint studies</td><td>77071-77084</td><td>14</td><td>1</td><td>Small Market</td><td>Moderate Growth Potential</td><td>1</td></tr><tr><td>Anesthesia</td><td>Obstetric</td><td>01958-01969</td><td>12</td><td>1</td><td>Small Market</td><td>Moderate Growth Potential</td><td>1</td></tr><tr><td>Medicine</td><td>Biofeedback</td><td>90901-90911</td><td>11</td><td>1</td><td>Small Market</td><td>Moderate Growth Potential</td><td>1</td></tr><tr><td>Evaluation and management</td><td>Home health services</td><td>99341-99350</td><td>10</td><td>1</td><td>Small Market</td><td>Moderate Growth Potential</td><td>1</td></tr><tr><td>Anesthesia</td><td>Other procedures</td><td>01990-01999</td><td>10</td><td>1</td><td>Small Market</td><td>Moderate Growth Potential</td><td>1</td></tr><tr><td>Medicine</td><td>Immunization administration for vaccines/toxoids</td><td>90465-90474</td><td>10</td><td>1</td><td>Small Market</td><td>Moderate Growth Potential</td><td>1</td></tr><tr><td>Radiology</td><td>Breast mammography</td><td>77051-77059</td><td>9</td><td>1</td><td>Niche Market</td><td>Moderate Growth Potential</td><td>1</td></tr><tr><td>Evaluation and management</td><td>Emergency department services</td><td>99281-99288</td><td>8</td><td>1</td><td>Niche Market</td><td>Moderate Growth Potential</td><td>1</td></tr><tr><td>Anesthesia</td><td>Moderate (conscious) sedation</td><td>99143-99150</td><td>8</td><td>1</td><td>Niche Market</td><td>Moderate Growth Potential</td><td>1</td></tr><tr><td>Evaluation and management</td><td>Prolonged services</td><td>99354-99360</td><td>7</td><td>1</td><td>Niche Market</td><td>Moderate Growth Potential</td><td>1</td></tr><tr><td>Evaluation and management</td><td>Care plan oversight services</td><td>99374-99380</td><td>7</td><td>1</td><td>Niche Market</td><td>Moderate Growth Potential</td><td>1</td></tr><tr><td>Evaluation and management</td><td>Special evaluation and management services</td><td>99450-99456</td><td>7</td><td>1</td><td>Niche Market</td><td>Moderate Growth Potential</td><td>1</td></tr><tr><td>Evaluation and management</td><td>Case management services</td><td>99363-99368</td><td>6</td><td>1</td><td>Niche Market</td><td>Moderate Growth Potential</td><td>1</td></tr><tr><td>Evaluation and management</td><td>Newborn care services</td><td>99460-99465</td><td>6</td><td>1</td><td>Niche Market</td><td>Moderate Growth Potential</td><td>1</td></tr><tr><td>Medicine</td><td>Health and behavior assessment/intervention</td><td>96150-96155</td><td>6</td><td>1</td><td>Niche Market</td><td>Moderate Growth Potential</td><td>1</td></tr><tr><td>Medicine</td><td>Photodynamic therapy</td><td>96567-96571</td><td>5</td><td>1</td><td>Niche Market</td><td>Moderate Growth Potential</td><td>1</td></tr><tr><td>Medicine</td><td>Acupuncture</td><td>97810-97814</td><td>5</td><td>1</td><td>Niche Market</td><td>Moderate Growth Potential</td><td>1</td></tr><tr><td>Medicine</td><td>Osteopathic manipulative treatment</td><td>98925-98929</td><td>5</td><td>1</td><td>Niche Market</td><td>Moderate Growth Potential</td><td>1</td></tr><tr><td>Evaluation and management</td><td>Hospital observation services</td><td>99217-99220</td><td>4</td><td>1</td><td>Niche Market</td><td>Moderate Growth Potential</td><td>1</td></tr><tr><td>Evaluation and management</td><td>Non-face-to-face physician services</td><td>99441-99444</td><td>4</td><td>1</td><td>Niche Market</td><td>Moderate Growth Potential</td><td>1</td></tr><tr><td>Pathology and laboratory</td><td>Drug testing</td><td>80100-80103</td><td>4</td><td>1</td><td>Niche Market</td><td>Moderate Growth Potential</td><td>1</td></tr><tr><td>Medicine</td><td>Chiropractic manipulative treatment</td><td>98940-98943</td><td>4</td><td>1</td><td>Niche Market</td><td>Moderate Growth Potential</td><td>1</td></tr><tr><td>Medicine</td><td>Non-face-to-face nonphysician services</td><td>98966-98969</td><td>4</td><td>1</td><td>Niche Market</td><td>Moderate Growth Potential</td><td>1</td></tr><tr><td>Evaluation and management</td><td>Complex chronic care coordination services</td><td>99487-99489</td><td>3</td><td>1</td><td>Niche Market</td><td>Moderate Growth Potential</td><td>1</td></tr><tr><td>Anesthesia</td><td>Burn excisions or debridement</td><td>01951-01953</td><td>3</td><td>1</td><td>Niche Market</td><td>Moderate Growth Potential</td><td>1</td></tr><tr><td>Pathology and laboratory</td><td>Consultations (clinical pathology)</td><td>80500-80502</td><td>3</td><td>1</td><td>Niche Market</td><td>Moderate Growth Potential</td><td>1</td></tr><tr><td>Medicine</td><td>Medical nutrition therapy</td><td>97802-97804</td><td>3</td><td>1</td><td>Niche Market</td><td>Moderate Growth Potential</td><td>1</td></tr><tr><td>Medicine</td><td>Education and training for patient self-management</td><td>98960-98962</td><td>3</td><td>1</td><td>Niche Market</td><td>Moderate Growth Potential</td><td>1</td></tr><tr><td>Medicine</td><td>Medication therapy management services</td><td>99605-99607</td><td>3</td><td>1</td><td>Niche Market</td><td>Moderate Growth Potential</td><td>1</td></tr><tr><td>Evaluation and management</td><td>Critical care services</td><td>99291-99292</td><td>2</td><td>1</td><td>Niche Market</td><td>Moderate Growth Potential</td><td>1</td></tr><tr><td>Evaluation and management</td><td>Domiciliary, rest home (assisted living facility), or home care plan oversight services</td><td>99339-99340</td><td>2</td><td>1</td><td>Niche Market</td><td>Moderate Growth Potential</td><td>1</td></tr><tr><td>Evaluation and management</td><td>Transitional care management services</td><td>99495-99496</td><td>2</td><td>1</td><td>Niche Market</td><td>Moderate Growth Potential</td><td>1</td></tr><tr><td>Medicine</td><td>Endocrinology</td><td>95250-95251</td><td>2</td><td>1</td><td>Niche Market</td><td>Moderate Growth Potential</td><td>1</td></tr><tr><td>Evaluation and management</td><td>Other evaluation and management services</td><td>99499</td><td>1</td><td>1</td><td>Niche Market</td><td>Moderate Growth Potential</td><td>1</td></tr><tr><td>Medicine</td><td>End-Stage Renal Disease Services (deleted codes)</td><td>90918-90925</td><td>8</td><td>1</td><td>Niche Market</td><td>No Growth (Discontinued)</td><td>0</td></tr><tr><td>Evaluation and management</td><td>Confirmatory consultation for a new or established patient (deleted codes)</td><td>99271-99275</td><td>5</td><td>1</td><td>Niche Market</td><td>No Growth (Discontinued)</td><td>0</td></tr><tr><td>Evaluation and management</td><td>Follow-up inpatient consultations (deleted codes)</td><td>99261-99263</td><td>3</td><td>1</td><td>Niche Market</td><td>No Growth (Discontinued)</td><td>0</td></tr><tr><td>Evaluation and management</td><td>Telephone care (deleted codes)</td><td>99371-99373</td><td>3</td><td>1</td><td>Niche Market</td><td>No Growth (Discontinued)</td><td>0</td></tr><tr><td>Evaluation and management</td><td>Team Conferences (deleted codes)</td><td>99361-99362</td><td>2</td><td>1</td><td>Niche Market</td><td>No Growth (Discontinued)</td><td>0</td></tr><tr><td>Anesthesia</td><td>Conscious sedation (deleted codes)</td><td>99141-99142</td><td>2</td><td>1</td><td>Niche Market</td><td>No Growth (Discontinued)</td><td>0</td></tr><tr><td>Surgery</td><td>Laparoscopy, Surgical; Cholecystectomy (deleted code)</td><td>56340-56340</td><td>1</td><td>1</td><td>Niche Market</td><td>No Growth (Discontinued)</td><td>0</td></tr><tr><td>Surgery</td><td>Operating microscope (deleted code)</td><td>69990-69990</td><td>1</td><td>1</td><td>Niche Market</td><td>No Growth (Discontinued)</td><td>0</td></tr></tbody></table></div>"
      ]
     },
     "metadata": {
      "application/vnd.databricks.v1+output": {
       "addedWidgets": {},
       "aggData": [],
       "aggError": "",
       "aggOverflow": false,
       "aggSchema": [],
       "aggSeriesLimitReached": false,
       "aggType": "",
       "arguments": {},
       "columnCustomDisplayInfos": {},
       "data": [
        [
         "Emerging technology",
         "Temporary codes",
         "0016T-0207T",
         192,
         3,
         "Medium Market",
         "High Growth Potential",
         5
        ],
        [
         "Emerging technology",
         "Temporary codes",
         "0256T-0259T",
         4,
         3,
         "Niche Market",
         "High Growth Potential",
         5
        ],
        [
         "Surgery",
         "Musculoskeletal system",
         "20000-29999",
         10000,
         1,
         "Large Market",
         "Moderate Growth Potential",
         4
        ],
        [
         "Surgery",
         "Digestive system",
         "40490-49999",
         9510,
         1,
         "Large Market",
         "Moderate Growth Potential",
         4
        ],
        [
         "Surgery",
         "Integumentary system",
         "10040-19499",
         9460,
         1,
         "Large Market",
         "Moderate Growth Potential",
         4
        ],
        [
         "Radiology",
         "Diagnostic imaging",
         "70000-76499",
         6500,
         1,
         "Large Market",
         "Moderate Growth Potential",
         4
        ],
        [
         "Surgery",
         "Cardiovascular system",
         "33010-37799",
         4790,
         1,
         "Large Market",
         "Moderate Growth Potential",
         4
        ],
        [
         "Surgery",
         "Nervous system",
         "61000-64999",
         4000,
         1,
         "Large Market",
         "Moderate Growth Potential",
         4
        ],
        [
         "Surgery",
         "Urinary system",
         "50010-53899",
         3890,
         1,
         "Large Market",
         "Moderate Growth Potential",
         4
        ],
        [
         "Surgery",
         "Eye and ocular adnexa",
         "65091-68899",
         3809,
         1,
         "Large Market",
         "Moderate Growth Potential",
         4
        ],
        [
         "Surgery",
         "Respiratory system",
         "30000-32999",
         3000,
         1,
         "Large Market",
         "Moderate Growth Potential",
         4
        ],
        [
         "Pathology and laboratory",
         "Chemistry",
         "82000-84999",
         3000,
         1,
         "Large Market",
         "Moderate Growth Potential",
         4
        ],
        [
         "Surgery",
         "Female genital system",
         "56405-58999",
         2595,
         1,
         "Large Market",
         "Moderate Growth Potential",
         4
        ],
        [
         "Radiology",
         "Nuclear medicine",
         "78000-79999",
         2000,
         1,
         "Large Market",
         "Moderate Growth Potential",
         4
        ],
        [
         "Surgery",
         "Male genital system",
         "54000-55899",
         1900,
         1,
         "Large Market",
         "Moderate Growth Potential",
         4
        ],
        [
         "Pathology and laboratory",
         "Microbiology",
         "87001-87999",
         999,
         1,
         "Medium Market",
         "Moderate Growth Potential",
         3
        ],
        [
         "Pathology and laboratory",
         "Hematology and coagulation",
         "85002-85999",
         998,
         1,
         "Medium Market",
         "Moderate Growth Potential",
         3
        ],
        [
         "Surgery",
         "Auditory system",
         "69000-69979",
         980,
         1,
         "Medium Market",
         "Moderate Growth Potential",
         3
        ],
        [
         "Surgery",
         "Hemic and lymphatic systems",
         "38100-38999",
         900,
         1,
         "Medium Market",
         "Moderate Growth Potential",
         3
        ],
        [
         "Surgery",
         "Maternity care and delivery",
         "59000-59899",
         900,
         1,
         "Medium Market",
         "Moderate Growth Potential",
         3
        ],
        [
         "Pathology and laboratory",
         "Immunology",
         "86000-86849",
         850,
         1,
         "Medium Market",
         "Moderate Growth Potential",
         3
        ],
        [
         "Medicine",
         "Cardiovascular",
         "92950-93799",
         850,
         1,
         "Medium Market",
         "Moderate Growth Potential",
         3
        ],
        [
         "Medicine",
         "Physical medicine and rehabilitation",
         "97001-97799",
         799,
         1,
         "Medium Market",
         "Moderate Growth Potential",
         3
        ],
        [
         "Medicine",
         "Pulmonary",
         "94002-94799",
         798,
         1,
         "Medium Market",
         "Moderate Growth Potential",
         3
        ],
        [
         "Surgery",
         "Endocrine system",
         "60000-60699",
         700,
         1,
         "Medium Market",
         "Moderate Growth Potential",
         3
        ],
        [
         "Surgery",
         "Mediastinum and diaphragm",
         "39000-39599",
         600,
         1,
         "Medium Market",
         "Moderate Growth Potential",
         3
        ],
        [
         "Radiology",
         "Radiation oncology",
         "77261-77799",
         539,
         1,
         "Medium Market",
         "Moderate Growth Potential",
         3
        ],
        [
         "Medicine",
         "Ophthalmology",
         "92002-92499",
         498,
         1,
         "Medium Market",
         "Moderate Growth Potential",
         3
        ],
        [
         "Radiology",
         "Diagnostic ultrasound",
         "76506-76999",
         494,
         1,
         "Medium Market",
         "Moderate Growth Potential",
         3
        ],
        [
         "Medicine",
         "Gastroenterology",
         "91000-91299",
         300,
         1,
         "Medium Market",
         "Moderate Growth Potential",
         3
        ],
        [
         "Medicine",
         "Vaccines, toxoids",
         "90476-90749",
         274,
         1,
         "Medium Market",
         "Moderate Growth Potential",
         3
        ],
        [
         "Medicine",
         "Neurology and neuromuscular procedures",
         "95803-96020",
         218,
         1,
         "Medium Market",
         "Moderate Growth Potential",
         3
        ],
        [
         "Medicine",
         "Special otorhinolaryngologic services",
         "92502-92700",
         199,
         1,
         "Medium Market",
         "Moderate Growth Potential",
         3
        ],
        [
         "Medicine",
         "Allergy and clinical immunology",
         "95004-95199",
         196,
         1,
         "Medium Market",
         "Moderate Growth Potential",
         3
        ],
        [
         "Pathology and laboratory",
         "Other procedures",
         "89049-89240",
         192,
         1,
         "Medium Market",
         "Moderate Growth Potential",
         3
        ],
        [
         "Medicine",
         "Hydration, therapeutic, prophylactic, diagnostic injections and infusions, and chemotherapy and other highly complex drug or highly complex biologic agent administration",
         "96360-96549",
         190,
         1,
         "Medium Market",
         "Moderate Growth Potential",
         3
        ],
        [
         "Pathology and laboratory",
         "Therapeutic drug assays",
         "80150-80299",
         150,
         1,
         "Medium Market",
         "Moderate Growth Potential",
         3
        ],
        [
         "Pathology and laboratory",
         "Transfusion medicine",
         "86850-86999",
         150,
         1,
         "Medium Market",
         "Moderate Growth Potential",
         3
        ],
        [
         "Pathology and laboratory",
         "Reproductive medicine procedures",
         "89250-89398",
         149,
         1,
         "Medium Market",
         "Moderate Growth Potential",
         3
        ],
        [
         "Anesthesia",
         "Knee and popliteal area",
         "01320-01444",
         125,
         1,
         "Medium Market",
         "Moderate Growth Potential",
         3
        ],
        [
         "Anesthesia",
         "Head",
         "00100-00222",
         123,
         1,
         "Medium Market",
         "Moderate Growth Potential",
         3
        ],
        [
         "Medicine",
         "Immune globulins, serum or recombinant prods",
         "90281-90399",
         119,
         1,
         "Medium Market",
         "Moderate Growth Potential",
         3
        ],
        [
         "Medicine",
         "Noninvasive vascular diagnostic studies",
         "93875-93990",
         116,
         1,
         "Medium Market",
         "Moderate Growth Potential",
         3
        ],
        [
         "Medicine",
         "Home health procedures/services",
         "99500-99602",
         103,
         1,
         "Medium Market",
         "Moderate Growth Potential",
         3
        ],
        [
         "Pathology and laboratory",
         "Urinalysis",
         "81000-81099",
         100,
         1,
         "Medium Market",
         "Moderate Growth Potential",
         3
        ],
        [
         "Pathology and laboratory",
         "Anatomic pathology (postmortem)",
         "88000-88099",
         100,
         1,
         "Medium Market",
         "Moderate Growth Potential",
         3
        ],
        [
         "Pathology and laboratory",
         "Surgical pathology",
         "88300-88399",
         100,
         1,
         "Medium Market",
         "Moderate Growth Potential",
         3
        ],
        [
         "Medicine",
         "Special dermatological procedures",
         "96900-96999",
         100,
         1,
         "Medium Market",
         "Moderate Growth Potential",
         3
        ],
        [
         "Performance measurement",
         "Diagnostic/screening processes or results",
         "3006F-3573F",
         568,
         2,
         "Medium Market",
         "Stable Growth",
         2
        ],
        [
         "Performance measurement",
         "Therapeutic, preventive or other interventions",
         "4000F-4306F",
         307,
         2,
         "Medium Market",
         "Stable Growth",
         2
        ],
        [
         "Performance measurement",
         "Patient history",
         "1000F-1220F",
         221,
         2,
         "Medium Market",
         "Stable Growth",
         2
        ],
        [
         "Performance measurement",
         "Follow-up or other outcomes",
         "5005F-5100F",
         96,
         2,
         "Small Market",
         "Stable Growth",
         2
        ],
        [
         "Performance measurement",
         "Patient management",
         "0500F-0575F",
         76,
         2,
         "Small Market",
         "Stable Growth",
         2
        ],
        [
         "Performance measurement",
         "Physical examination",
         "2000F-2050F",
         51,
         2,
         "Small Market",
         "Stable Growth",
         2
        ],
        [
         "Performance measurement",
         "Patient safety",
         "6005F-6045F",
         41,
         2,
         "Small Market",
         "Stable Growth",
         2
        ],
        [
         "Performance measurement",
         "Structural Measures",
         "7010F-7025F",
         16,
         2,
         "Small Market",
         "Stable Growth",
         2
        ],
        [
         "Performance measurement",
         "Composite measures",
         "0001F-0015F",
         15,
         2,
         "Small Market",
         "Stable Growth",
         2
        ],
        [
         "Medicine",
         "Psychiatry",
         "90801-90899",
         99,
         1,
         "Small Market",
         "Moderate Growth Potential",
         1
        ],
        [
         "Anesthesia",
         "Upper abdomen",
         "00700-00797",
         98,
         1,
         "Small Market",
         "Moderate Growth Potential",
         1
        ],
        [
         "Pathology and laboratory",
         "Cytopathology",
         "88104-88199",
         96,
         1,
         "Small Market",
         "Moderate Growth Potential",
         1
        ],
        [
         "Medicine",
         "Special services, procedures and reports",
         "99000-99091",
         92,
         1,
         "Small Market",
         "Moderate Growth Potential",
         1
        ],
        [
         "Anesthesia",
         "Lower abdomen",
         "00800-00882",
         83,
         1,
         "Small Market",
         "Moderate Growth Potential",
         1
        ],
        [
         "Anesthesia",
         "Intrathoracic",
         "00500-00580",
         81,
         1,
         "Small Market",
         "Moderate Growth Potential",
         1
        ],
        [
         "Anesthesia",
         "Pelvis (except hip)",
         "01112-01190",
         79,
         1,
         "Small Market",
         "Moderate Growth Potential",
         1
        ],
        [
         "Pathology and laboratory",
         "Organ or disease-oriented panels",
         "80000-80076",
         77,
         1,
         "Small Market",
         "Moderate Growth Potential",
         1
        ],
        [
         "Anesthesia",
         "Thorax",
         "00400-00474",
         75,
         1,
         "Small Market",
         "Moderate Growth Potential",
         1
        ],
        [
         "Anesthesia",
         "Upper leg (except knee)",
         "01200-01274",
         75,
         1,
         "Small Market",
         "Moderate Growth Potential",
         1
        ],
        [
         "Anesthesia",
         "Shoulder and axillary",
         "01610-01682",
         73,
         1,
         "Small Market",
         "Moderate Growth Potential",
         1
        ],
        [
         "Anesthesia",
         "Upper arm and elbow",
         "01710-01782",
         73,
         1,
         "Small Market",
         "Moderate Growth Potential",
         1
        ],
        [
         "Anesthesia",
         "Spine and spinal cord",
         "00600-00670",
         71,
         1,
         "Small Market",
         "Moderate Growth Potential",
         1
        ],
        [
         "Pathology and laboratory",
         "Cytogenetic studies",
         "88230-88299",
         70,
         1,
         "Small Market",
         "Moderate Growth Potential",
         1
        ],
        [
         "Medicine",
         "Dialysis",
         "90935-90999",
         65,
         1,
         "Small Market",
         "Moderate Growth Potential",
         1
        ],
        [
         "Anesthesia",
         "Lower leg (below knee)",
         "01462-01522",
         61,
         1,
         "Small Market",
         "Moderate Growth Potential",
         1
        ],
        [
         "Surgery",
         "Reproductive system and intersex",
         "55920-55980",
         61,
         1,
         "Small Market",
         "Moderate Growth Potential",
         1
        ],
        [
         "Anesthesia",
         "Neck",
         "00300-00352",
         53,
         1,
         "Small Market",
         "Moderate Growth Potential",
         1
        ],
        [
         "Anesthesia",
         "Perineum",
         "00902-00952",
         51,
         1,
         "Small Market",
         "Moderate Growth Potential",
         1
        ],
        [
         "Anesthesia",
         "Forearm, wrist and hand",
         "01810-01860",
         51,
         1,
         "Small Market",
         "Moderate Growth Potential",
         1
        ],
        [
         "Evaluation and management",
         "Preventive medicine services",
         "99381-99429",
         49,
         1,
         "Small Market",
         "Moderate Growth Potential",
         1
        ],
        [
         "Anesthesia",
         "Qualifying circumstances for anesthesia",
         "99100-99140",
         41,
         1,
         "Small Market",
         "Moderate Growth Potential",
         1
        ],
        [
         "Pathology and laboratory",
         "Evocative/suppression testing",
         "80400-80440",
         41,
         1,
         "Small Market",
         "Moderate Growth Potential",
         1
        ],
        [
         "Radiology",
         "Radiologic guidance",
         "77001-77032",
         32,
         1,
         "Small Market",
         "Moderate Growth Potential",
         1
        ],
        [
         "Medicine",
         "Other services and procedures",
         "99170-99199",
         30,
         1,
         "Small Market",
         "Moderate Growth Potential",
         1
        ],
        [
         "Medicine",
         "Central nervous system assessments/tests (neuro-cognitive, mental status, speech testing)",
         "96101-96125",
         25,
         1,
         "Small Market",
         "Moderate Growth Potential",
         1
        ],
        [
         "Surgery",
         "General",
         "10000-10022",
         23,
         1,
         "Small Market",
         "Moderate Growth Potential",
         1
        ],
        [
         "Pathology and laboratory",
         "In vivo (transcutaneous) lab procedures",
         "88720-88741",
         22,
         1,
         "Small Market",
         "Moderate Growth Potential",
         1
        ],
        [
         "Anesthesia",
         "Radiological procedures",
         "01916-01936",
         21,
         1,
         "Small Market",
         "Moderate Growth Potential",
         1
        ],
        [
         "Evaluation and management",
         "Hospital inpatient services",
         "99221-99239",
         19,
         1,
         "Small Market",
         "Moderate Growth Potential",
         1
        ],
        [
         "Evaluation and management",
         "Office/other outpatient services",
         "99201-99216",
         16,
         1,
         "Small Market",
         "Moderate Growth Potential",
         1
        ],
        [
         "Evaluation and management",
         "Consultations",
         "99241-99255",
         15,
         1,
         "Small Market",
         "Moderate Growth Potential",
         1
        ],
        [
         "Evaluation and management",
         "Nursing facility services",
         "99304-99318",
         15,
         1,
         "Small Market",
         "Moderate Growth Potential",
         1
        ],
        [
         "Evaluation and management",
         "Inpatient neonatal intensive, and pediatric/neonatal critical, care services",
         "99466-99480",
         15,
         1,
         "Small Market",
         "Moderate Growth Potential",
         1
        ],
        [
         "Evaluation and management",
         "Domiciliary, rest home (boarding home) or custodial care services",
         "99324-99337",
         14,
         1,
         "Small Market",
         "Moderate Growth Potential",
         1
        ],
        [
         "Radiology",
         "Bone/joint studies",
         "77071-77084",
         14,
         1,
         "Small Market",
         "Moderate Growth Potential",
         1
        ],
        [
         "Anesthesia",
         "Obstetric",
         "01958-01969",
         12,
         1,
         "Small Market",
         "Moderate Growth Potential",
         1
        ],
        [
         "Medicine",
         "Biofeedback",
         "90901-90911",
         11,
         1,
         "Small Market",
         "Moderate Growth Potential",
         1
        ],
        [
         "Evaluation and management",
         "Home health services",
         "99341-99350",
         10,
         1,
         "Small Market",
         "Moderate Growth Potential",
         1
        ],
        [
         "Anesthesia",
         "Other procedures",
         "01990-01999",
         10,
         1,
         "Small Market",
         "Moderate Growth Potential",
         1
        ],
        [
         "Medicine",
         "Immunization administration for vaccines/toxoids",
         "90465-90474",
         10,
         1,
         "Small Market",
         "Moderate Growth Potential",
         1
        ],
        [
         "Radiology",
         "Breast mammography",
         "77051-77059",
         9,
         1,
         "Niche Market",
         "Moderate Growth Potential",
         1
        ],
        [
         "Evaluation and management",
         "Emergency department services",
         "99281-99288",
         8,
         1,
         "Niche Market",
         "Moderate Growth Potential",
         1
        ],
        [
         "Anesthesia",
         "Moderate (conscious) sedation",
         "99143-99150",
         8,
         1,
         "Niche Market",
         "Moderate Growth Potential",
         1
        ],
        [
         "Evaluation and management",
         "Prolonged services",
         "99354-99360",
         7,
         1,
         "Niche Market",
         "Moderate Growth Potential",
         1
        ],
        [
         "Evaluation and management",
         "Care plan oversight services",
         "99374-99380",
         7,
         1,
         "Niche Market",
         "Moderate Growth Potential",
         1
        ],
        [
         "Evaluation and management",
         "Special evaluation and management services",
         "99450-99456",
         7,
         1,
         "Niche Market",
         "Moderate Growth Potential",
         1
        ],
        [
         "Evaluation and management",
         "Case management services",
         "99363-99368",
         6,
         1,
         "Niche Market",
         "Moderate Growth Potential",
         1
        ],
        [
         "Evaluation and management",
         "Newborn care services",
         "99460-99465",
         6,
         1,
         "Niche Market",
         "Moderate Growth Potential",
         1
        ],
        [
         "Medicine",
         "Health and behavior assessment/intervention",
         "96150-96155",
         6,
         1,
         "Niche Market",
         "Moderate Growth Potential",
         1
        ],
        [
         "Medicine",
         "Photodynamic therapy",
         "96567-96571",
         5,
         1,
         "Niche Market",
         "Moderate Growth Potential",
         1
        ],
        [
         "Medicine",
         "Acupuncture",
         "97810-97814",
         5,
         1,
         "Niche Market",
         "Moderate Growth Potential",
         1
        ],
        [
         "Medicine",
         "Osteopathic manipulative treatment",
         "98925-98929",
         5,
         1,
         "Niche Market",
         "Moderate Growth Potential",
         1
        ],
        [
         "Evaluation and management",
         "Hospital observation services",
         "99217-99220",
         4,
         1,
         "Niche Market",
         "Moderate Growth Potential",
         1
        ],
        [
         "Evaluation and management",
         "Non-face-to-face physician services",
         "99441-99444",
         4,
         1,
         "Niche Market",
         "Moderate Growth Potential",
         1
        ],
        [
         "Pathology and laboratory",
         "Drug testing",
         "80100-80103",
         4,
         1,
         "Niche Market",
         "Moderate Growth Potential",
         1
        ],
        [
         "Medicine",
         "Chiropractic manipulative treatment",
         "98940-98943",
         4,
         1,
         "Niche Market",
         "Moderate Growth Potential",
         1
        ],
        [
         "Medicine",
         "Non-face-to-face nonphysician services",
         "98966-98969",
         4,
         1,
         "Niche Market",
         "Moderate Growth Potential",
         1
        ],
        [
         "Evaluation and management",
         "Complex chronic care coordination services",
         "99487-99489",
         3,
         1,
         "Niche Market",
         "Moderate Growth Potential",
         1
        ],
        [
         "Anesthesia",
         "Burn excisions or debridement",
         "01951-01953",
         3,
         1,
         "Niche Market",
         "Moderate Growth Potential",
         1
        ],
        [
         "Pathology and laboratory",
         "Consultations (clinical pathology)",
         "80500-80502",
         3,
         1,
         "Niche Market",
         "Moderate Growth Potential",
         1
        ],
        [
         "Medicine",
         "Medical nutrition therapy",
         "97802-97804",
         3,
         1,
         "Niche Market",
         "Moderate Growth Potential",
         1
        ],
        [
         "Medicine",
         "Education and training for patient self-management",
         "98960-98962",
         3,
         1,
         "Niche Market",
         "Moderate Growth Potential",
         1
        ],
        [
         "Medicine",
         "Medication therapy management services",
         "99605-99607",
         3,
         1,
         "Niche Market",
         "Moderate Growth Potential",
         1
        ],
        [
         "Evaluation and management",
         "Critical care services",
         "99291-99292",
         2,
         1,
         "Niche Market",
         "Moderate Growth Potential",
         1
        ],
        [
         "Evaluation and management",
         "Domiciliary, rest home (assisted living facility), or home care plan oversight services",
         "99339-99340",
         2,
         1,
         "Niche Market",
         "Moderate Growth Potential",
         1
        ],
        [
         "Evaluation and management",
         "Transitional care management services",
         "99495-99496",
         2,
         1,
         "Niche Market",
         "Moderate Growth Potential",
         1
        ],
        [
         "Medicine",
         "Endocrinology",
         "95250-95251",
         2,
         1,
         "Niche Market",
         "Moderate Growth Potential",
         1
        ],
        [
         "Evaluation and management",
         "Other evaluation and management services",
         "99499",
         1,
         1,
         "Niche Market",
         "Moderate Growth Potential",
         1
        ],
        [
         "Medicine",
         "End-Stage Renal Disease Services (deleted codes)",
         "90918-90925",
         8,
         1,
         "Niche Market",
         "No Growth (Discontinued)",
         0
        ],
        [
         "Evaluation and management",
         "Confirmatory consultation for a new or established patient (deleted codes)",
         "99271-99275",
         5,
         1,
         "Niche Market",
         "No Growth (Discontinued)",
         0
        ],
        [
         "Evaluation and management",
         "Follow-up inpatient consultations (deleted codes)",
         "99261-99263",
         3,
         1,
         "Niche Market",
         "No Growth (Discontinued)",
         0
        ],
        [
         "Evaluation and management",
         "Telephone care (deleted codes)",
         "99371-99373",
         3,
         1,
         "Niche Market",
         "No Growth (Discontinued)",
         0
        ],
        [
         "Evaluation and management",
         "Team Conferences (deleted codes)",
         "99361-99362",
         2,
         1,
         "Niche Market",
         "No Growth (Discontinued)",
         0
        ],
        [
         "Anesthesia",
         "Conscious sedation (deleted codes)",
         "99141-99142",
         2,
         1,
         "Niche Market",
         "No Growth (Discontinued)",
         0
        ],
        [
         "Surgery",
         "Laparoscopy, Surgical; Cholecystectomy (deleted code)",
         "56340-56340",
         1,
         1,
         "Niche Market",
         "No Growth (Discontinued)",
         0
        ],
        [
         "Surgery",
         "Operating microscope (deleted code)",
         "69990-69990",
         1,
         1,
         "Niche Market",
         "No Growth (Discontinued)",
         0
        ]
       ],
       "datasetInfos": [],
       "dbfsResultPath": null,
       "isJsonSchema": true,
       "metadata": {
        "createTempViewForImplicitDf": true,
        "dataframeName": "_sqldf",
        "executionCount": 24
       },
       "overflow": false,
       "plotOptions": {
        "customPlotOptions": {},
        "displayType": "table",
        "pivotAggregation": null,
        "pivotColumns": null,
        "xColumns": null,
        "yColumns": null
       },
       "removedWidgets": [],
       "schema": [
        {
         "metadata": "{}",
         "name": "sectionheader",
         "type": "\"string\""
        },
        {
         "metadata": "{}",
         "name": "subsectionheader",
         "type": "\"string\""
        },
        {
         "metadata": "{}",
         "name": "subsectionrange",
         "type": "\"string\""
        },
        {
         "metadata": "{}",
         "name": "current_code_count",
         "type": "\"integer\""
        },
        {
         "metadata": "{}",
         "name": "category",
         "type": "\"integer\""
        },
        {
         "metadata": "{}",
         "name": "market_size",
         "type": "\"string\""
        },
        {
         "metadata": "{}",
         "name": "growth_potential",
         "type": "\"string\""
        },
        {
         "metadata": "{}",
         "name": "strategic_priority_score",
         "type": "\"integer\""
        }
       ],
       "type": "table"
      }
     },
     "output_type": "display_data"
    }
   ],
   "source": [
    "%sql\n",
    "SELECT \n",
    "    sectionheader,\n",
    "    subsectionheader,\n",
    "    subsectionrange,\n",
    "    (maxcodeinsubsection - mincodeinsubsection + 1) as current_code_count,\n",
    "    category,\n",
    "    -- Market size indicator (based on code range)\n",
    "    CASE \n",
    "        WHEN (maxcodeinsubsection - mincodeinsubsection + 1) >= 1000 THEN 'Large Market'\n",
    "        WHEN (maxcodeinsubsection - mincodeinsubsection + 1) >= 100 THEN 'Medium Market'\n",
    "        WHEN (maxcodeinsubsection - mincodeinsubsection + 1) >= 10 THEN 'Small Market'\n",
    "        ELSE 'Niche Market'\n",
    "    END as market_size,\n",
    "    -- Growth potential (emerging tech = high, deleted = none, etc.)\n",
    "    CASE \n",
    "        WHEN category = 3 THEN 'High Growth Potential'\n",
    "        WHEN LOWER(subsectionheader) LIKE '%deleted%' THEN 'No Growth (Discontinued)'\n",
    "        WHEN category = 2 THEN 'Stable Growth'\n",
    "        ELSE 'Moderate Growth Potential'\n",
    "    END as growth_potential,\n",
    "    -- Strategic priority scoring\n",
    "    CASE \n",
    "        WHEN category = 3 THEN 5  -- Emerging tech highest priority\n",
    "        WHEN (maxcodeinsubsection - mincodeinsubsection + 1) >= 1000 AND category = 1 THEN 4\n",
    "        WHEN (maxcodeinsubsection - mincodeinsubsection + 1) >= 100 AND category = 1 THEN 3\n",
    "        WHEN category = 2 THEN 2\n",
    "        WHEN LOWER(subsectionheader) LIKE '%deleted%' THEN 0\n",
    "        ELSE 1\n",
    "    END as strategic_priority_score\n",
    "FROM mimicdata.mimic.d_cpt\n",
    "ORDER BY strategic_priority_score DESC, current_code_count DESC;"
   ]
  },
  {
   "cell_type": "code",
   "execution_count": 0,
   "metadata": {
    "application/vnd.databricks.v1+cell": {
     "cellMetadata": {
      "byteLimit": 2048000,
      "implicitDf": true,
      "rowLimit": 10000
     },
     "inputWidgets": {},
     "nuid": "b867f330-acd7-4ee7-9fe1-ff78a44fef44",
     "showTitle": false,
     "tableResultSettingsMap": {},
     "title": ""
    }
   },
   "outputs": [
    {
     "output_type": "display_data",
     "data": {
      "text/html": [
       "<style scoped>\n",
       "  .table-result-container {\n",
       "    max-height: 300px;\n",
       "    overflow: auto;\n",
       "  }\n",
       "  table, th, td {\n",
       "    border: 1px solid black;\n",
       "    border-collapse: collapse;\n",
       "  }\n",
       "  th, td {\n",
       "    padding: 5px;\n",
       "  }\n",
       "  th {\n",
       "    text-align: left;\n",
       "  }\n",
       "</style><div class='table-result-container'><table class='table-result'><thead style='background-color: white'><tr><th>metric</th><th>value</th><th>description</th></tr></thead><tbody><tr><td>Discontinued Procedures</td><td>8</td><td>Subsections marked as deleted</td></tr><tr><td>Emerging Tech Procedures</td><td>2</td><td>Future growth opportunities</td></tr><tr><td>Largest Section</td><td>Surgery</td><td>Section with most total codes</td></tr><tr><td>Total Code Range Coverage</td><td>82030</td><td>Total individual codes covered</td></tr><tr><td>Total Subsections</td><td>134</td><td>All CPT subsections in dataset</td></tr></tbody></table></div>"
      ]
     },
     "metadata": {
      "application/vnd.databricks.v1+output": {
       "addedWidgets": {},
       "aggData": [],
       "aggError": "",
       "aggOverflow": false,
       "aggSchema": [],
       "aggSeriesLimitReached": false,
       "aggType": "",
       "arguments": {},
       "columnCustomDisplayInfos": {},
       "data": [
        [
         "Discontinued Procedures",
         "8",
         "Subsections marked as deleted"
        ],
        [
         "Emerging Tech Procedures",
         "2",
         "Future growth opportunities"
        ],
        [
         "Largest Section",
         "Surgery",
         "Section with most total codes"
        ],
        [
         "Total Code Range Coverage",
         "82030",
         "Total individual codes covered"
        ],
        [
         "Total Subsections",
         "134",
         "All CPT subsections in dataset"
        ]
       ],
       "datasetInfos": [],
       "dbfsResultPath": null,
       "isJsonSchema": true,
       "metadata": {
        "createTempViewForImplicitDf": true,
        "dataframeName": "_sqldf",
        "executionCount": 27
       },
       "overflow": false,
       "plotOptions": {
        "customPlotOptions": {},
        "displayType": "table",
        "pivotAggregation": null,
        "pivotColumns": null,
        "xColumns": null,
        "yColumns": null
       },
       "removedWidgets": [],
       "schema": [
        {
         "metadata": "{}",
         "name": "metric",
         "type": "\"string\""
        },
        {
         "metadata": "{}",
         "name": "value",
         "type": "\"string\""
        },
        {
         "metadata": "{}",
         "name": "description",
         "type": "\"string\""
        }
       ],
       "type": "table"
      }
     },
     "output_type": "display_data"
    }
   ],
   "source": [
    "%sql\n",
    "SELECT \n",
    "    'Total Subsections' as metric,\n",
    "    CAST(COUNT(*) AS VARCHAR(100)) as value,\n",
    "    'All CPT subsections in dataset' as description\n",
    "FROM mimicdata.mimic.d_cpt\n",
    "\n",
    "UNION ALL\n",
    "\n",
    "SELECT \n",
    "    'Total Code Range Coverage' as metric,\n",
    "    CAST(SUM(maxcodeinsubsection - mincodeinsubsection + 1) AS VARCHAR(100)) as value,\n",
    "    'Total individual codes covered' as description\n",
    "FROM mimicdata.mimic.d_cpt\n",
    "\n",
    "UNION ALL\n",
    "\n",
    "SELECT \n",
    "    'Largest Section' as metric,\n",
    "    sectionheader as value,\n",
    "    'Section with most total codes' as description\n",
    "FROM (\n",
    "    SELECT sectionheader, SUM(maxcodeinsubsection - mincodeinsubsection + 1) as total_codes\n",
    "    FROM mimicdata.mimic.d_cpt\n",
    "    GROUP BY sectionheader \n",
    "    ORDER BY total_codes DESC \n",
    "    LIMIT 1\n",
    ") largest\n",
    "\n",
    "UNION ALL\n",
    "\n",
    "SELECT \n",
    "    'Emerging Tech Procedures' as metric,\n",
    "    CAST(COUNT(*) AS VARCHAR(100)) as value,\n",
    "    'Future growth opportunities' as description\n",
    "FROM mimicdata.mimic.d_cpt\n",
    "WHERE category = 3\n",
    "\n",
    "UNION ALL\n",
    "\n",
    "SELECT \n",
    "    'Discontinued Procedures' as metric,\n",
    "    CAST(COUNT(*) AS VARCHAR(100)) as value,\n",
    "    'Subsections marked as deleted' as description\n",
    "FROM mimicdata.mimic.d_cpt \n",
    "WHERE LOWER(subsectionheader) LIKE '%deleted%'\n",
    "\n",
    "ORDER BY metric;"
   ]
  },
  {
   "cell_type": "code",
   "execution_count": 0,
   "metadata": {
    "application/vnd.databricks.v1+cell": {
     "cellMetadata": {
      "byteLimit": 2048000,
      "implicitDf": true,
      "rowLimit": 10000
     },
     "inputWidgets": {},
     "nuid": "1cce4352-650e-4532-aafc-e099516d8a3e",
     "showTitle": false,
     "tableResultSettingsMap": {},
     "title": ""
    }
   },
   "outputs": [
    {
     "output_type": "display_data",
     "data": {
      "text/html": [
       "<style scoped>\n",
       "  .table-result-container {\n",
       "    max-height: 300px;\n",
       "    overflow: auto;\n",
       "  }\n",
       "  table, th, td {\n",
       "    border: 1px solid black;\n",
       "    border-collapse: collapse;\n",
       "  }\n",
       "  th, td {\n",
       "    padding: 5px;\n",
       "  }\n",
       "  th {\n",
       "    text-align: left;\n",
       "  }\n",
       "</style><div class='table-result-container'><table class='table-result'><thead style='background-color: white'><tr><th>row_id</th><th>category</th><th>sectionheader</th><th>subsectionheader</th><th>subsectionrange</th><th>mincodeinsubsection</th><th>maxcodeinsubsection</th><th>code_count</th><th>period_placeholder</th><th>volume_placeholder</th><th>revenue_placeholder</th><th>category_name</th><th>size_segment</th></tr></thead><tbody><tr><td>26</td><td>1</td><td>Anesthesia</td><td>Head</td><td>00100-00222</td><td>100</td><td>222</td><td>123</td><td>YYYY-MM</td><td>0</td><td>0</td><td>Traditional</td><td>Medium</td></tr><tr><td>27</td><td>1</td><td>Anesthesia</td><td>Neck</td><td>00300-00352</td><td>300</td><td>352</td><td>53</td><td>YYYY-MM</td><td>0</td><td>0</td><td>Traditional</td><td>Small</td></tr><tr><td>28</td><td>1</td><td>Anesthesia</td><td>Thorax</td><td>00400-00474</td><td>400</td><td>474</td><td>75</td><td>YYYY-MM</td><td>0</td><td>0</td><td>Traditional</td><td>Small</td></tr><tr><td>29</td><td>1</td><td>Anesthesia</td><td>Intrathoracic</td><td>00500-00580</td><td>500</td><td>580</td><td>81</td><td>YYYY-MM</td><td>0</td><td>0</td><td>Traditional</td><td>Small</td></tr><tr><td>30</td><td>1</td><td>Anesthesia</td><td>Spine and spinal cord</td><td>00600-00670</td><td>600</td><td>670</td><td>71</td><td>YYYY-MM</td><td>0</td><td>0</td><td>Traditional</td><td>Small</td></tr><tr><td>31</td><td>1</td><td>Anesthesia</td><td>Upper abdomen</td><td>00700-00797</td><td>700</td><td>797</td><td>98</td><td>YYYY-MM</td><td>0</td><td>0</td><td>Traditional</td><td>Small</td></tr><tr><td>32</td><td>1</td><td>Anesthesia</td><td>Lower abdomen</td><td>00800-00882</td><td>800</td><td>882</td><td>83</td><td>YYYY-MM</td><td>0</td><td>0</td><td>Traditional</td><td>Small</td></tr><tr><td>33</td><td>1</td><td>Anesthesia</td><td>Perineum</td><td>00902-00952</td><td>902</td><td>952</td><td>51</td><td>YYYY-MM</td><td>0</td><td>0</td><td>Traditional</td><td>Small</td></tr><tr><td>34</td><td>1</td><td>Anesthesia</td><td>Pelvis (except hip)</td><td>01112-01190</td><td>1112</td><td>1190</td><td>79</td><td>YYYY-MM</td><td>0</td><td>0</td><td>Traditional</td><td>Small</td></tr><tr><td>35</td><td>1</td><td>Anesthesia</td><td>Upper leg (except knee)</td><td>01200-01274</td><td>1200</td><td>1274</td><td>75</td><td>YYYY-MM</td><td>0</td><td>0</td><td>Traditional</td><td>Small</td></tr><tr><td>36</td><td>1</td><td>Anesthesia</td><td>Knee and popliteal area</td><td>01320-01444</td><td>1320</td><td>1444</td><td>125</td><td>YYYY-MM</td><td>0</td><td>0</td><td>Traditional</td><td>Medium</td></tr><tr><td>37</td><td>1</td><td>Anesthesia</td><td>Lower leg (below knee)</td><td>01462-01522</td><td>1462</td><td>1522</td><td>61</td><td>YYYY-MM</td><td>0</td><td>0</td><td>Traditional</td><td>Small</td></tr><tr><td>38</td><td>1</td><td>Anesthesia</td><td>Shoulder and axillary</td><td>01610-01682</td><td>1610</td><td>1682</td><td>73</td><td>YYYY-MM</td><td>0</td><td>0</td><td>Traditional</td><td>Small</td></tr><tr><td>39</td><td>1</td><td>Anesthesia</td><td>Upper arm and elbow</td><td>01710-01782</td><td>1710</td><td>1782</td><td>73</td><td>YYYY-MM</td><td>0</td><td>0</td><td>Traditional</td><td>Small</td></tr><tr><td>40</td><td>1</td><td>Anesthesia</td><td>Forearm, wrist and hand</td><td>01810-01860</td><td>1810</td><td>1860</td><td>51</td><td>YYYY-MM</td><td>0</td><td>0</td><td>Traditional</td><td>Small</td></tr><tr><td>41</td><td>1</td><td>Anesthesia</td><td>Radiological procedures</td><td>01916-01936</td><td>1916</td><td>1936</td><td>21</td><td>YYYY-MM</td><td>0</td><td>0</td><td>Traditional</td><td>Small</td></tr><tr><td>42</td><td>1</td><td>Anesthesia</td><td>Burn excisions or debridement</td><td>01951-01953</td><td>1951</td><td>1953</td><td>3</td><td>YYYY-MM</td><td>0</td><td>0</td><td>Traditional</td><td>Micro</td></tr><tr><td>43</td><td>1</td><td>Anesthesia</td><td>Obstetric</td><td>01958-01969</td><td>1958</td><td>1969</td><td>12</td><td>YYYY-MM</td><td>0</td><td>0</td><td>Traditional</td><td>Small</td></tr><tr><td>44</td><td>1</td><td>Anesthesia</td><td>Other procedures</td><td>01990-01999</td><td>1990</td><td>1999</td><td>10</td><td>YYYY-MM</td><td>0</td><td>0</td><td>Traditional</td><td>Small</td></tr><tr><td>45</td><td>1</td><td>Anesthesia</td><td>Qualifying circumstances for anesthesia</td><td>99100-99140</td><td>99100</td><td>99140</td><td>41</td><td>YYYY-MM</td><td>0</td><td>0</td><td>Traditional</td><td>Small</td></tr><tr><td>46</td><td>1</td><td>Anesthesia</td><td>Conscious sedation (deleted codes)</td><td>99141-99142</td><td>99141</td><td>99142</td><td>2</td><td>YYYY-MM</td><td>0</td><td>0</td><td>Traditional</td><td>Micro</td></tr><tr><td>47</td><td>1</td><td>Anesthesia</td><td>Moderate (conscious) sedation</td><td>99143-99150</td><td>99143</td><td>99150</td><td>8</td><td>YYYY-MM</td><td>0</td><td>0</td><td>Traditional</td><td>Micro</td></tr><tr><td>1</td><td>1</td><td>Evaluation and management</td><td>Office/other outpatient services</td><td>99201-99216</td><td>99201</td><td>99216</td><td>16</td><td>YYYY-MM</td><td>0</td><td>0</td><td>Traditional</td><td>Small</td></tr><tr><td>2</td><td>1</td><td>Evaluation and management</td><td>Hospital observation services</td><td>99217-99220</td><td>99217</td><td>99220</td><td>4</td><td>YYYY-MM</td><td>0</td><td>0</td><td>Traditional</td><td>Micro</td></tr><tr><td>3</td><td>1</td><td>Evaluation and management</td><td>Hospital inpatient services</td><td>99221-99239</td><td>99221</td><td>99239</td><td>19</td><td>YYYY-MM</td><td>0</td><td>0</td><td>Traditional</td><td>Small</td></tr><tr><td>4</td><td>1</td><td>Evaluation and management</td><td>Consultations</td><td>99241-99255</td><td>99241</td><td>99255</td><td>15</td><td>YYYY-MM</td><td>0</td><td>0</td><td>Traditional</td><td>Small</td></tr><tr><td>5</td><td>1</td><td>Evaluation and management</td><td>Follow-up inpatient consultations (deleted codes)</td><td>99261-99263</td><td>99261</td><td>99263</td><td>3</td><td>YYYY-MM</td><td>0</td><td>0</td><td>Traditional</td><td>Micro</td></tr><tr><td>6</td><td>1</td><td>Evaluation and management</td><td>Confirmatory consultation for a new or established patient (deleted codes)</td><td>99271-99275</td><td>99271</td><td>99275</td><td>5</td><td>YYYY-MM</td><td>0</td><td>0</td><td>Traditional</td><td>Micro</td></tr><tr><td>7</td><td>1</td><td>Evaluation and management</td><td>Emergency department services</td><td>99281-99288</td><td>99281</td><td>99288</td><td>8</td><td>YYYY-MM</td><td>0</td><td>0</td><td>Traditional</td><td>Micro</td></tr><tr><td>8</td><td>1</td><td>Evaluation and management</td><td>Critical care services</td><td>99291-99292</td><td>99291</td><td>99292</td><td>2</td><td>YYYY-MM</td><td>0</td><td>0</td><td>Traditional</td><td>Micro</td></tr><tr><td>9</td><td>1</td><td>Evaluation and management</td><td>Nursing facility services</td><td>99304-99318</td><td>99304</td><td>99318</td><td>15</td><td>YYYY-MM</td><td>0</td><td>0</td><td>Traditional</td><td>Small</td></tr><tr><td>10</td><td>1</td><td>Evaluation and management</td><td>Domiciliary, rest home (boarding home) or custodial care services</td><td>99324-99337</td><td>99324</td><td>99337</td><td>14</td><td>YYYY-MM</td><td>0</td><td>0</td><td>Traditional</td><td>Small</td></tr><tr><td>11</td><td>1</td><td>Evaluation and management</td><td>Domiciliary, rest home (assisted living facility), or home care plan oversight services</td><td>99339-99340</td><td>99339</td><td>99340</td><td>2</td><td>YYYY-MM</td><td>0</td><td>0</td><td>Traditional</td><td>Micro</td></tr><tr><td>12</td><td>1</td><td>Evaluation and management</td><td>Home health services</td><td>99341-99350</td><td>99341</td><td>99350</td><td>10</td><td>YYYY-MM</td><td>0</td><td>0</td><td>Traditional</td><td>Small</td></tr><tr><td>13</td><td>1</td><td>Evaluation and management</td><td>Prolonged services</td><td>99354-99360</td><td>99354</td><td>99360</td><td>7</td><td>YYYY-MM</td><td>0</td><td>0</td><td>Traditional</td><td>Micro</td></tr><tr><td>14</td><td>1</td><td>Evaluation and management</td><td>Team Conferences (deleted codes)</td><td>99361-99362</td><td>99361</td><td>99362</td><td>2</td><td>YYYY-MM</td><td>0</td><td>0</td><td>Traditional</td><td>Micro</td></tr><tr><td>15</td><td>1</td><td>Evaluation and management</td><td>Case management services</td><td>99363-99368</td><td>99363</td><td>99368</td><td>6</td><td>YYYY-MM</td><td>0</td><td>0</td><td>Traditional</td><td>Micro</td></tr><tr><td>16</td><td>1</td><td>Evaluation and management</td><td>Telephone care (deleted codes)</td><td>99371-99373</td><td>99371</td><td>99373</td><td>3</td><td>YYYY-MM</td><td>0</td><td>0</td><td>Traditional</td><td>Micro</td></tr><tr><td>17</td><td>1</td><td>Evaluation and management</td><td>Care plan oversight services</td><td>99374-99380</td><td>99374</td><td>99380</td><td>7</td><td>YYYY-MM</td><td>0</td><td>0</td><td>Traditional</td><td>Micro</td></tr><tr><td>18</td><td>1</td><td>Evaluation and management</td><td>Preventive medicine services</td><td>99381-99429</td><td>99381</td><td>99429</td><td>49</td><td>YYYY-MM</td><td>0</td><td>0</td><td>Traditional</td><td>Small</td></tr><tr><td>19</td><td>1</td><td>Evaluation and management</td><td>Non-face-to-face physician services</td><td>99441-99444</td><td>99441</td><td>99444</td><td>4</td><td>YYYY-MM</td><td>0</td><td>0</td><td>Traditional</td><td>Micro</td></tr><tr><td>20</td><td>1</td><td>Evaluation and management</td><td>Special evaluation and management services</td><td>99450-99456</td><td>99450</td><td>99456</td><td>7</td><td>YYYY-MM</td><td>0</td><td>0</td><td>Traditional</td><td>Micro</td></tr><tr><td>21</td><td>1</td><td>Evaluation and management</td><td>Newborn care services</td><td>99460-99465</td><td>99460</td><td>99465</td><td>6</td><td>YYYY-MM</td><td>0</td><td>0</td><td>Traditional</td><td>Micro</td></tr><tr><td>22</td><td>1</td><td>Evaluation and management</td><td>Inpatient neonatal intensive, and pediatric/neonatal critical, care services</td><td>99466-99480</td><td>99466</td><td>99480</td><td>15</td><td>YYYY-MM</td><td>0</td><td>0</td><td>Traditional</td><td>Small</td></tr><tr><td>23</td><td>1</td><td>Evaluation and management</td><td>Complex chronic care coordination services</td><td>99487-99489</td><td>99487</td><td>99489</td><td>3</td><td>YYYY-MM</td><td>0</td><td>0</td><td>Traditional</td><td>Micro</td></tr><tr><td>24</td><td>1</td><td>Evaluation and management</td><td>Transitional care management services</td><td>99495-99496</td><td>99495</td><td>99496</td><td>2</td><td>YYYY-MM</td><td>0</td><td>0</td><td>Traditional</td><td>Micro</td></tr><tr><td>25</td><td>1</td><td>Evaluation and management</td><td>Other evaluation and management services</td><td>99499</td><td>99499</td><td>99499</td><td>1</td><td>YYYY-MM</td><td>0</td><td>0</td><td>Traditional</td><td>Micro</td></tr><tr><td>92</td><td>1</td><td>Medicine</td><td>Immune globulins, serum or recombinant prods</td><td>90281-90399</td><td>90281</td><td>90399</td><td>119</td><td>YYYY-MM</td><td>0</td><td>0</td><td>Traditional</td><td>Medium</td></tr><tr><td>93</td><td>1</td><td>Medicine</td><td>Immunization administration for vaccines/toxoids</td><td>90465-90474</td><td>90465</td><td>90474</td><td>10</td><td>YYYY-MM</td><td>0</td><td>0</td><td>Traditional</td><td>Small</td></tr><tr><td>94</td><td>1</td><td>Medicine</td><td>Vaccines, toxoids</td><td>90476-90749</td><td>90476</td><td>90749</td><td>274</td><td>YYYY-MM</td><td>0</td><td>0</td><td>Traditional</td><td>Medium</td></tr><tr><td>95</td><td>1</td><td>Medicine</td><td>Psychiatry</td><td>90801-90899</td><td>90801</td><td>90899</td><td>99</td><td>YYYY-MM</td><td>0</td><td>0</td><td>Traditional</td><td>Small</td></tr><tr><td>96</td><td>1</td><td>Medicine</td><td>Biofeedback</td><td>90901-90911</td><td>90901</td><td>90911</td><td>11</td><td>YYYY-MM</td><td>0</td><td>0</td><td>Traditional</td><td>Small</td></tr><tr><td>97</td><td>1</td><td>Medicine</td><td>End-Stage Renal Disease Services (deleted codes)</td><td>90918-90925</td><td>90918</td><td>90925</td><td>8</td><td>YYYY-MM</td><td>0</td><td>0</td><td>Traditional</td><td>Micro</td></tr><tr><td>98</td><td>1</td><td>Medicine</td><td>Dialysis</td><td>90935-90999</td><td>90935</td><td>90999</td><td>65</td><td>YYYY-MM</td><td>0</td><td>0</td><td>Traditional</td><td>Small</td></tr><tr><td>99</td><td>1</td><td>Medicine</td><td>Gastroenterology</td><td>91000-91299</td><td>91000</td><td>91299</td><td>300</td><td>YYYY-MM</td><td>0</td><td>0</td><td>Traditional</td><td>Medium</td></tr><tr><td>100</td><td>1</td><td>Medicine</td><td>Ophthalmology</td><td>92002-92499</td><td>92002</td><td>92499</td><td>498</td><td>YYYY-MM</td><td>0</td><td>0</td><td>Traditional</td><td>Medium</td></tr><tr><td>101</td><td>1</td><td>Medicine</td><td>Special otorhinolaryngologic services</td><td>92502-92700</td><td>92502</td><td>92700</td><td>199</td><td>YYYY-MM</td><td>0</td><td>0</td><td>Traditional</td><td>Medium</td></tr><tr><td>102</td><td>1</td><td>Medicine</td><td>Cardiovascular</td><td>92950-93799</td><td>92950</td><td>93799</td><td>850</td><td>YYYY-MM</td><td>0</td><td>0</td><td>Traditional</td><td>Medium</td></tr><tr><td>103</td><td>1</td><td>Medicine</td><td>Noninvasive vascular diagnostic studies</td><td>93875-93990</td><td>93875</td><td>93990</td><td>116</td><td>YYYY-MM</td><td>0</td><td>0</td><td>Traditional</td><td>Medium</td></tr><tr><td>104</td><td>1</td><td>Medicine</td><td>Pulmonary</td><td>94002-94799</td><td>94002</td><td>94799</td><td>798</td><td>YYYY-MM</td><td>0</td><td>0</td><td>Traditional</td><td>Medium</td></tr><tr><td>105</td><td>1</td><td>Medicine</td><td>Allergy and clinical immunology</td><td>95004-95199</td><td>95004</td><td>95199</td><td>196</td><td>YYYY-MM</td><td>0</td><td>0</td><td>Traditional</td><td>Medium</td></tr><tr><td>106</td><td>1</td><td>Medicine</td><td>Endocrinology</td><td>95250-95251</td><td>95250</td><td>95251</td><td>2</td><td>YYYY-MM</td><td>0</td><td>0</td><td>Traditional</td><td>Micro</td></tr><tr><td>107</td><td>1</td><td>Medicine</td><td>Neurology and neuromuscular procedures</td><td>95803-96020</td><td>95803</td><td>96020</td><td>218</td><td>YYYY-MM</td><td>0</td><td>0</td><td>Traditional</td><td>Medium</td></tr><tr><td>108</td><td>1</td><td>Medicine</td><td>Central nervous system assessments/tests (neuro-cognitive, mental status, speech testing)</td><td>96101-96125</td><td>96101</td><td>96125</td><td>25</td><td>YYYY-MM</td><td>0</td><td>0</td><td>Traditional</td><td>Small</td></tr><tr><td>109</td><td>1</td><td>Medicine</td><td>Health and behavior assessment/intervention</td><td>96150-96155</td><td>96150</td><td>96155</td><td>6</td><td>YYYY-MM</td><td>0</td><td>0</td><td>Traditional</td><td>Micro</td></tr><tr><td>110</td><td>1</td><td>Medicine</td><td>Hydration, therapeutic, prophylactic, diagnostic injections and infusions, and chemotherapy and other highly complex drug or highly complex biologic agent administration</td><td>96360-96549</td><td>96360</td><td>96549</td><td>190</td><td>YYYY-MM</td><td>0</td><td>0</td><td>Traditional</td><td>Medium</td></tr><tr><td>111</td><td>1</td><td>Medicine</td><td>Photodynamic therapy</td><td>96567-96571</td><td>96567</td><td>96571</td><td>5</td><td>YYYY-MM</td><td>0</td><td>0</td><td>Traditional</td><td>Micro</td></tr><tr><td>112</td><td>1</td><td>Medicine</td><td>Special dermatological procedures</td><td>96900-96999</td><td>96900</td><td>96999</td><td>100</td><td>YYYY-MM</td><td>0</td><td>0</td><td>Traditional</td><td>Medium</td></tr><tr><td>113</td><td>1</td><td>Medicine</td><td>Physical medicine and rehabilitation</td><td>97001-97799</td><td>97001</td><td>97799</td><td>799</td><td>YYYY-MM</td><td>0</td><td>0</td><td>Traditional</td><td>Medium</td></tr><tr><td>114</td><td>1</td><td>Medicine</td><td>Medical nutrition therapy</td><td>97802-97804</td><td>97802</td><td>97804</td><td>3</td><td>YYYY-MM</td><td>0</td><td>0</td><td>Traditional</td><td>Micro</td></tr><tr><td>115</td><td>1</td><td>Medicine</td><td>Acupuncture</td><td>97810-97814</td><td>97810</td><td>97814</td><td>5</td><td>YYYY-MM</td><td>0</td><td>0</td><td>Traditional</td><td>Micro</td></tr><tr><td>116</td><td>1</td><td>Medicine</td><td>Osteopathic manipulative treatment</td><td>98925-98929</td><td>98925</td><td>98929</td><td>5</td><td>YYYY-MM</td><td>0</td><td>0</td><td>Traditional</td><td>Micro</td></tr><tr><td>117</td><td>1</td><td>Medicine</td><td>Chiropractic manipulative treatment</td><td>98940-98943</td><td>98940</td><td>98943</td><td>4</td><td>YYYY-MM</td><td>0</td><td>0</td><td>Traditional</td><td>Micro</td></tr><tr><td>118</td><td>1</td><td>Medicine</td><td>Education and training for patient self-management</td><td>98960-98962</td><td>98960</td><td>98962</td><td>3</td><td>YYYY-MM</td><td>0</td><td>0</td><td>Traditional</td><td>Micro</td></tr><tr><td>119</td><td>1</td><td>Medicine</td><td>Non-face-to-face nonphysician services</td><td>98966-98969</td><td>98966</td><td>98969</td><td>4</td><td>YYYY-MM</td><td>0</td><td>0</td><td>Traditional</td><td>Micro</td></tr><tr><td>120</td><td>1</td><td>Medicine</td><td>Special services, procedures and reports</td><td>99000-99091</td><td>99000</td><td>99091</td><td>92</td><td>YYYY-MM</td><td>0</td><td>0</td><td>Traditional</td><td>Small</td></tr><tr><td>121</td><td>1</td><td>Medicine</td><td>Other services and procedures</td><td>99170-99199</td><td>99170</td><td>99199</td><td>30</td><td>YYYY-MM</td><td>0</td><td>0</td><td>Traditional</td><td>Small</td></tr><tr><td>122</td><td>1</td><td>Medicine</td><td>Home health procedures/services</td><td>99500-99602</td><td>99500</td><td>99602</td><td>103</td><td>YYYY-MM</td><td>0</td><td>0</td><td>Traditional</td><td>Medium</td></tr><tr><td>123</td><td>1</td><td>Medicine</td><td>Medication therapy management services</td><td>99605-99607</td><td>99605</td><td>99607</td><td>3</td><td>YYYY-MM</td><td>0</td><td>0</td><td>Traditional</td><td>Micro</td></tr><tr><td>74</td><td>1</td><td>Pathology and laboratory</td><td>Organ or disease-oriented panels</td><td>80000-80076</td><td>80000</td><td>80076</td><td>77</td><td>YYYY-MM</td><td>0</td><td>0</td><td>Traditional</td><td>Small</td></tr><tr><td>75</td><td>1</td><td>Pathology and laboratory</td><td>Drug testing</td><td>80100-80103</td><td>80100</td><td>80103</td><td>4</td><td>YYYY-MM</td><td>0</td><td>0</td><td>Traditional</td><td>Micro</td></tr><tr><td>76</td><td>1</td><td>Pathology and laboratory</td><td>Therapeutic drug assays</td><td>80150-80299</td><td>80150</td><td>80299</td><td>150</td><td>YYYY-MM</td><td>0</td><td>0</td><td>Traditional</td><td>Medium</td></tr><tr><td>77</td><td>1</td><td>Pathology and laboratory</td><td>Evocative/suppression testing</td><td>80400-80440</td><td>80400</td><td>80440</td><td>41</td><td>YYYY-MM</td><td>0</td><td>0</td><td>Traditional</td><td>Small</td></tr><tr><td>78</td><td>1</td><td>Pathology and laboratory</td><td>Consultations (clinical pathology)</td><td>80500-80502</td><td>80500</td><td>80502</td><td>3</td><td>YYYY-MM</td><td>0</td><td>0</td><td>Traditional</td><td>Micro</td></tr><tr><td>79</td><td>1</td><td>Pathology and laboratory</td><td>Urinalysis</td><td>81000-81099</td><td>81000</td><td>81099</td><td>100</td><td>YYYY-MM</td><td>0</td><td>0</td><td>Traditional</td><td>Medium</td></tr><tr><td>80</td><td>1</td><td>Pathology and laboratory</td><td>Chemistry</td><td>82000-84999</td><td>82000</td><td>84999</td><td>3000</td><td>YYYY-MM</td><td>0</td><td>0</td><td>Traditional</td><td>Large</td></tr><tr><td>81</td><td>1</td><td>Pathology and laboratory</td><td>Hematology and coagulation</td><td>85002-85999</td><td>85002</td><td>85999</td><td>998</td><td>YYYY-MM</td><td>0</td><td>0</td><td>Traditional</td><td>Medium</td></tr><tr><td>82</td><td>1</td><td>Pathology and laboratory</td><td>Immunology</td><td>86000-86849</td><td>86000</td><td>86849</td><td>850</td><td>YYYY-MM</td><td>0</td><td>0</td><td>Traditional</td><td>Medium</td></tr><tr><td>83</td><td>1</td><td>Pathology and laboratory</td><td>Transfusion medicine</td><td>86850-86999</td><td>86850</td><td>86999</td><td>150</td><td>YYYY-MM</td><td>0</td><td>0</td><td>Traditional</td><td>Medium</td></tr><tr><td>84</td><td>1</td><td>Pathology and laboratory</td><td>Microbiology</td><td>87001-87999</td><td>87001</td><td>87999</td><td>999</td><td>YYYY-MM</td><td>0</td><td>0</td><td>Traditional</td><td>Medium</td></tr><tr><td>85</td><td>1</td><td>Pathology and laboratory</td><td>Anatomic pathology (postmortem)</td><td>88000-88099</td><td>88000</td><td>88099</td><td>100</td><td>YYYY-MM</td><td>0</td><td>0</td><td>Traditional</td><td>Medium</td></tr><tr><td>86</td><td>1</td><td>Pathology and laboratory</td><td>Cytopathology</td><td>88104-88199</td><td>88104</td><td>88199</td><td>96</td><td>YYYY-MM</td><td>0</td><td>0</td><td>Traditional</td><td>Small</td></tr><tr><td>87</td><td>1</td><td>Pathology and laboratory</td><td>Cytogenetic studies</td><td>88230-88299</td><td>88230</td><td>88299</td><td>70</td><td>YYYY-MM</td><td>0</td><td>0</td><td>Traditional</td><td>Small</td></tr><tr><td>88</td><td>1</td><td>Pathology and laboratory</td><td>Surgical pathology</td><td>88300-88399</td><td>88300</td><td>88399</td><td>100</td><td>YYYY-MM</td><td>0</td><td>0</td><td>Traditional</td><td>Medium</td></tr><tr><td>89</td><td>1</td><td>Pathology and laboratory</td><td>In vivo (transcutaneous) lab procedures</td><td>88720-88741</td><td>88720</td><td>88741</td><td>22</td><td>YYYY-MM</td><td>0</td><td>0</td><td>Traditional</td><td>Small</td></tr><tr><td>90</td><td>1</td><td>Pathology and laboratory</td><td>Other procedures</td><td>89049-89240</td><td>89049</td><td>89240</td><td>192</td><td>YYYY-MM</td><td>0</td><td>0</td><td>Traditional</td><td>Medium</td></tr><tr><td>91</td><td>1</td><td>Pathology and laboratory</td><td>Reproductive medicine procedures</td><td>89250-89398</td><td>89250</td><td>89398</td><td>149</td><td>YYYY-MM</td><td>0</td><td>0</td><td>Traditional</td><td>Medium</td></tr><tr><td>67</td><td>1</td><td>Radiology</td><td>Diagnostic imaging</td><td>70000-76499</td><td>70000</td><td>76499</td><td>6500</td><td>YYYY-MM</td><td>0</td><td>0</td><td>Traditional</td><td>Large</td></tr><tr><td>68</td><td>1</td><td>Radiology</td><td>Diagnostic ultrasound</td><td>76506-76999</td><td>76506</td><td>76999</td><td>494</td><td>YYYY-MM</td><td>0</td><td>0</td><td>Traditional</td><td>Medium</td></tr><tr><td>69</td><td>1</td><td>Radiology</td><td>Radiologic guidance</td><td>77001-77032</td><td>77001</td><td>77032</td><td>32</td><td>YYYY-MM</td><td>0</td><td>0</td><td>Traditional</td><td>Small</td></tr><tr><td>70</td><td>1</td><td>Radiology</td><td>Breast mammography</td><td>77051-77059</td><td>77051</td><td>77059</td><td>9</td><td>YYYY-MM</td><td>0</td><td>0</td><td>Traditional</td><td>Micro</td></tr><tr><td>71</td><td>1</td><td>Radiology</td><td>Bone/joint studies</td><td>77071-77084</td><td>77071</td><td>77084</td><td>14</td><td>YYYY-MM</td><td>0</td><td>0</td><td>Traditional</td><td>Small</td></tr><tr><td>72</td><td>1</td><td>Radiology</td><td>Radiation oncology</td><td>77261-77799</td><td>77261</td><td>77799</td><td>539</td><td>YYYY-MM</td><td>0</td><td>0</td><td>Traditional</td><td>Medium</td></tr><tr><td>73</td><td>1</td><td>Radiology</td><td>Nuclear medicine</td><td>78000-79999</td><td>78000</td><td>79999</td><td>2000</td><td>YYYY-MM</td><td>0</td><td>0</td><td>Traditional</td><td>Large</td></tr><tr><td>48</td><td>1</td><td>Surgery</td><td>General</td><td>10000-10022</td><td>10000</td><td>10022</td><td>23</td><td>YYYY-MM</td><td>0</td><td>0</td><td>Traditional</td><td>Small</td></tr><tr><td>49</td><td>1</td><td>Surgery</td><td>Integumentary system</td><td>10040-19499</td><td>10040</td><td>19499</td><td>9460</td><td>YYYY-MM</td><td>0</td><td>0</td><td>Traditional</td><td>Large</td></tr><tr><td>50</td><td>1</td><td>Surgery</td><td>Musculoskeletal system</td><td>20000-29999</td><td>20000</td><td>29999</td><td>10000</td><td>YYYY-MM</td><td>0</td><td>0</td><td>Traditional</td><td>Large</td></tr><tr><td>51</td><td>1</td><td>Surgery</td><td>Respiratory system</td><td>30000-32999</td><td>30000</td><td>32999</td><td>3000</td><td>YYYY-MM</td><td>0</td><td>0</td><td>Traditional</td><td>Large</td></tr><tr><td>52</td><td>1</td><td>Surgery</td><td>Cardiovascular system</td><td>33010-37799</td><td>33010</td><td>37799</td><td>4790</td><td>YYYY-MM</td><td>0</td><td>0</td><td>Traditional</td><td>Large</td></tr><tr><td>53</td><td>1</td><td>Surgery</td><td>Hemic and lymphatic systems</td><td>38100-38999</td><td>38100</td><td>38999</td><td>900</td><td>YYYY-MM</td><td>0</td><td>0</td><td>Traditional</td><td>Medium</td></tr><tr><td>54</td><td>1</td><td>Surgery</td><td>Mediastinum and diaphragm</td><td>39000-39599</td><td>39000</td><td>39599</td><td>600</td><td>YYYY-MM</td><td>0</td><td>0</td><td>Traditional</td><td>Medium</td></tr><tr><td>55</td><td>1</td><td>Surgery</td><td>Digestive system</td><td>40490-49999</td><td>40490</td><td>49999</td><td>9510</td><td>YYYY-MM</td><td>0</td><td>0</td><td>Traditional</td><td>Large</td></tr><tr><td>56</td><td>1</td><td>Surgery</td><td>Urinary system</td><td>50010-53899</td><td>50010</td><td>53899</td><td>3890</td><td>YYYY-MM</td><td>0</td><td>0</td><td>Traditional</td><td>Large</td></tr><tr><td>57</td><td>1</td><td>Surgery</td><td>Male genital system</td><td>54000-55899</td><td>54000</td><td>55899</td><td>1900</td><td>YYYY-MM</td><td>0</td><td>0</td><td>Traditional</td><td>Large</td></tr><tr><td>58</td><td>1</td><td>Surgery</td><td>Reproductive system and intersex</td><td>55920-55980</td><td>55920</td><td>55980</td><td>61</td><td>YYYY-MM</td><td>0</td><td>0</td><td>Traditional</td><td>Small</td></tr><tr><td>59</td><td>1</td><td>Surgery</td><td>Laparoscopy, Surgical; Cholecystectomy (deleted code)</td><td>56340-56340</td><td>56340</td><td>56340</td><td>1</td><td>YYYY-MM</td><td>0</td><td>0</td><td>Traditional</td><td>Micro</td></tr><tr><td>60</td><td>1</td><td>Surgery</td><td>Female genital system</td><td>56405-58999</td><td>56405</td><td>58999</td><td>2595</td><td>YYYY-MM</td><td>0</td><td>0</td><td>Traditional</td><td>Large</td></tr><tr><td>61</td><td>1</td><td>Surgery</td><td>Maternity care and delivery</td><td>59000-59899</td><td>59000</td><td>59899</td><td>900</td><td>YYYY-MM</td><td>0</td><td>0</td><td>Traditional</td><td>Medium</td></tr><tr><td>62</td><td>1</td><td>Surgery</td><td>Endocrine system</td><td>60000-60699</td><td>60000</td><td>60699</td><td>700</td><td>YYYY-MM</td><td>0</td><td>0</td><td>Traditional</td><td>Medium</td></tr><tr><td>63</td><td>1</td><td>Surgery</td><td>Nervous system</td><td>61000-64999</td><td>61000</td><td>64999</td><td>4000</td><td>YYYY-MM</td><td>0</td><td>0</td><td>Traditional</td><td>Large</td></tr><tr><td>64</td><td>1</td><td>Surgery</td><td>Eye and ocular adnexa</td><td>65091-68899</td><td>65091</td><td>68899</td><td>3809</td><td>YYYY-MM</td><td>0</td><td>0</td><td>Traditional</td><td>Large</td></tr><tr><td>65</td><td>1</td><td>Surgery</td><td>Auditory system</td><td>69000-69979</td><td>69000</td><td>69979</td><td>980</td><td>YYYY-MM</td><td>0</td><td>0</td><td>Traditional</td><td>Medium</td></tr><tr><td>66</td><td>1</td><td>Surgery</td><td>Operating microscope (deleted code)</td><td>69990-69990</td><td>69990</td><td>69990</td><td>1</td><td>YYYY-MM</td><td>0</td><td>0</td><td>Traditional</td><td>Micro</td></tr><tr><td>124</td><td>2</td><td>Performance measurement</td><td>Composite measures</td><td>0001F-0015F</td><td>1</td><td>15</td><td>15</td><td>YYYY-MM</td><td>0</td><td>0</td><td>Performance</td><td>Small</td></tr><tr><td>125</td><td>2</td><td>Performance measurement</td><td>Patient management</td><td>0500F-0575F</td><td>500</td><td>575</td><td>76</td><td>YYYY-MM</td><td>0</td><td>0</td><td>Performance</td><td>Small</td></tr><tr><td>126</td><td>2</td><td>Performance measurement</td><td>Patient history</td><td>1000F-1220F</td><td>1000</td><td>1220</td><td>221</td><td>YYYY-MM</td><td>0</td><td>0</td><td>Performance</td><td>Medium</td></tr><tr><td>127</td><td>2</td><td>Performance measurement</td><td>Physical examination</td><td>2000F-2050F</td><td>2000</td><td>2050</td><td>51</td><td>YYYY-MM</td><td>0</td><td>0</td><td>Performance</td><td>Small</td></tr><tr><td>128</td><td>2</td><td>Performance measurement</td><td>Diagnostic/screening processes or results</td><td>3006F-3573F</td><td>3006</td><td>3573</td><td>568</td><td>YYYY-MM</td><td>0</td><td>0</td><td>Performance</td><td>Medium</td></tr><tr><td>129</td><td>2</td><td>Performance measurement</td><td>Therapeutic, preventive or other interventions</td><td>4000F-4306F</td><td>4000</td><td>4306</td><td>307</td><td>YYYY-MM</td><td>0</td><td>0</td><td>Performance</td><td>Medium</td></tr><tr><td>130</td><td>2</td><td>Performance measurement</td><td>Follow-up or other outcomes</td><td>5005F-5100F</td><td>5005</td><td>5100</td><td>96</td><td>YYYY-MM</td><td>0</td><td>0</td><td>Performance</td><td>Small</td></tr><tr><td>131</td><td>2</td><td>Performance measurement</td><td>Patient safety</td><td>6005F-6045F</td><td>6005</td><td>6045</td><td>41</td><td>YYYY-MM</td><td>0</td><td>0</td><td>Performance</td><td>Small</td></tr><tr><td>132</td><td>2</td><td>Performance measurement</td><td>Structural Measures</td><td>7010F-7025F</td><td>7010</td><td>7025</td><td>16</td><td>YYYY-MM</td><td>0</td><td>0</td><td>Performance</td><td>Small</td></tr><tr><td>133</td><td>3</td><td>Emerging technology</td><td>Temporary codes</td><td>0016T-0207T</td><td>16</td><td>207</td><td>192</td><td>YYYY-MM</td><td>0</td><td>0</td><td>Emerging</td><td>Medium</td></tr><tr><td>134</td><td>3</td><td>Emerging technology</td><td>Temporary codes</td><td>0256T-0259T</td><td>256</td><td>259</td><td>4</td><td>YYYY-MM</td><td>0</td><td>0</td><td>Emerging</td><td>Micro</td></tr></tbody></table></div>"
      ]
     },
     "metadata": {
      "application/vnd.databricks.v1+output": {
       "addedWidgets": {},
       "aggData": [],
       "aggError": "",
       "aggOverflow": false,
       "aggSchema": [],
       "aggSeriesLimitReached": false,
       "aggType": "",
       "arguments": {},
       "columnCustomDisplayInfos": {},
       "data": [
        [
         26,
         1,
         "Anesthesia",
         "Head",
         "00100-00222",
         100,
         222,
         123,
         "YYYY-MM",
         0,
         0,
         "Traditional",
         "Medium"
        ],
        [
         27,
         1,
         "Anesthesia",
         "Neck",
         "00300-00352",
         300,
         352,
         53,
         "YYYY-MM",
         0,
         0,
         "Traditional",
         "Small"
        ],
        [
         28,
         1,
         "Anesthesia",
         "Thorax",
         "00400-00474",
         400,
         474,
         75,
         "YYYY-MM",
         0,
         0,
         "Traditional",
         "Small"
        ],
        [
         29,
         1,
         "Anesthesia",
         "Intrathoracic",
         "00500-00580",
         500,
         580,
         81,
         "YYYY-MM",
         0,
         0,
         "Traditional",
         "Small"
        ],
        [
         30,
         1,
         "Anesthesia",
         "Spine and spinal cord",
         "00600-00670",
         600,
         670,
         71,
         "YYYY-MM",
         0,
         0,
         "Traditional",
         "Small"
        ],
        [
         31,
         1,
         "Anesthesia",
         "Upper abdomen",
         "00700-00797",
         700,
         797,
         98,
         "YYYY-MM",
         0,
         0,
         "Traditional",
         "Small"
        ],
        [
         32,
         1,
         "Anesthesia",
         "Lower abdomen",
         "00800-00882",
         800,
         882,
         83,
         "YYYY-MM",
         0,
         0,
         "Traditional",
         "Small"
        ],
        [
         33,
         1,
         "Anesthesia",
         "Perineum",
         "00902-00952",
         902,
         952,
         51,
         "YYYY-MM",
         0,
         0,
         "Traditional",
         "Small"
        ],
        [
         34,
         1,
         "Anesthesia",
         "Pelvis (except hip)",
         "01112-01190",
         1112,
         1190,
         79,
         "YYYY-MM",
         0,
         0,
         "Traditional",
         "Small"
        ],
        [
         35,
         1,
         "Anesthesia",
         "Upper leg (except knee)",
         "01200-01274",
         1200,
         1274,
         75,
         "YYYY-MM",
         0,
         0,
         "Traditional",
         "Small"
        ],
        [
         36,
         1,
         "Anesthesia",
         "Knee and popliteal area",
         "01320-01444",
         1320,
         1444,
         125,
         "YYYY-MM",
         0,
         0,
         "Traditional",
         "Medium"
        ],
        [
         37,
         1,
         "Anesthesia",
         "Lower leg (below knee)",
         "01462-01522",
         1462,
         1522,
         61,
         "YYYY-MM",
         0,
         0,
         "Traditional",
         "Small"
        ],
        [
         38,
         1,
         "Anesthesia",
         "Shoulder and axillary",
         "01610-01682",
         1610,
         1682,
         73,
         "YYYY-MM",
         0,
         0,
         "Traditional",
         "Small"
        ],
        [
         39,
         1,
         "Anesthesia",
         "Upper arm and elbow",
         "01710-01782",
         1710,
         1782,
         73,
         "YYYY-MM",
         0,
         0,
         "Traditional",
         "Small"
        ],
        [
         40,
         1,
         "Anesthesia",
         "Forearm, wrist and hand",
         "01810-01860",
         1810,
         1860,
         51,
         "YYYY-MM",
         0,
         0,
         "Traditional",
         "Small"
        ],
        [
         41,
         1,
         "Anesthesia",
         "Radiological procedures",
         "01916-01936",
         1916,
         1936,
         21,
         "YYYY-MM",
         0,
         0,
         "Traditional",
         "Small"
        ],
        [
         42,
         1,
         "Anesthesia",
         "Burn excisions or debridement",
         "01951-01953",
         1951,
         1953,
         3,
         "YYYY-MM",
         0,
         0,
         "Traditional",
         "Micro"
        ],
        [
         43,
         1,
         "Anesthesia",
         "Obstetric",
         "01958-01969",
         1958,
         1969,
         12,
         "YYYY-MM",
         0,
         0,
         "Traditional",
         "Small"
        ],
        [
         44,
         1,
         "Anesthesia",
         "Other procedures",
         "01990-01999",
         1990,
         1999,
         10,
         "YYYY-MM",
         0,
         0,
         "Traditional",
         "Small"
        ],
        [
         45,
         1,
         "Anesthesia",
         "Qualifying circumstances for anesthesia",
         "99100-99140",
         99100,
         99140,
         41,
         "YYYY-MM",
         0,
         0,
         "Traditional",
         "Small"
        ],
        [
         46,
         1,
         "Anesthesia",
         "Conscious sedation (deleted codes)",
         "99141-99142",
         99141,
         99142,
         2,
         "YYYY-MM",
         0,
         0,
         "Traditional",
         "Micro"
        ],
        [
         47,
         1,
         "Anesthesia",
         "Moderate (conscious) sedation",
         "99143-99150",
         99143,
         99150,
         8,
         "YYYY-MM",
         0,
         0,
         "Traditional",
         "Micro"
        ],
        [
         1,
         1,
         "Evaluation and management",
         "Office/other outpatient services",
         "99201-99216",
         99201,
         99216,
         16,
         "YYYY-MM",
         0,
         0,
         "Traditional",
         "Small"
        ],
        [
         2,
         1,
         "Evaluation and management",
         "Hospital observation services",
         "99217-99220",
         99217,
         99220,
         4,
         "YYYY-MM",
         0,
         0,
         "Traditional",
         "Micro"
        ],
        [
         3,
         1,
         "Evaluation and management",
         "Hospital inpatient services",
         "99221-99239",
         99221,
         99239,
         19,
         "YYYY-MM",
         0,
         0,
         "Traditional",
         "Small"
        ],
        [
         4,
         1,
         "Evaluation and management",
         "Consultations",
         "99241-99255",
         99241,
         99255,
         15,
         "YYYY-MM",
         0,
         0,
         "Traditional",
         "Small"
        ],
        [
         5,
         1,
         "Evaluation and management",
         "Follow-up inpatient consultations (deleted codes)",
         "99261-99263",
         99261,
         99263,
         3,
         "YYYY-MM",
         0,
         0,
         "Traditional",
         "Micro"
        ],
        [
         6,
         1,
         "Evaluation and management",
         "Confirmatory consultation for a new or established patient (deleted codes)",
         "99271-99275",
         99271,
         99275,
         5,
         "YYYY-MM",
         0,
         0,
         "Traditional",
         "Micro"
        ],
        [
         7,
         1,
         "Evaluation and management",
         "Emergency department services",
         "99281-99288",
         99281,
         99288,
         8,
         "YYYY-MM",
         0,
         0,
         "Traditional",
         "Micro"
        ],
        [
         8,
         1,
         "Evaluation and management",
         "Critical care services",
         "99291-99292",
         99291,
         99292,
         2,
         "YYYY-MM",
         0,
         0,
         "Traditional",
         "Micro"
        ],
        [
         9,
         1,
         "Evaluation and management",
         "Nursing facility services",
         "99304-99318",
         99304,
         99318,
         15,
         "YYYY-MM",
         0,
         0,
         "Traditional",
         "Small"
        ],
        [
         10,
         1,
         "Evaluation and management",
         "Domiciliary, rest home (boarding home) or custodial care services",
         "99324-99337",
         99324,
         99337,
         14,
         "YYYY-MM",
         0,
         0,
         "Traditional",
         "Small"
        ],
        [
         11,
         1,
         "Evaluation and management",
         "Domiciliary, rest home (assisted living facility), or home care plan oversight services",
         "99339-99340",
         99339,
         99340,
         2,
         "YYYY-MM",
         0,
         0,
         "Traditional",
         "Micro"
        ],
        [
         12,
         1,
         "Evaluation and management",
         "Home health services",
         "99341-99350",
         99341,
         99350,
         10,
         "YYYY-MM",
         0,
         0,
         "Traditional",
         "Small"
        ],
        [
         13,
         1,
         "Evaluation and management",
         "Prolonged services",
         "99354-99360",
         99354,
         99360,
         7,
         "YYYY-MM",
         0,
         0,
         "Traditional",
         "Micro"
        ],
        [
         14,
         1,
         "Evaluation and management",
         "Team Conferences (deleted codes)",
         "99361-99362",
         99361,
         99362,
         2,
         "YYYY-MM",
         0,
         0,
         "Traditional",
         "Micro"
        ],
        [
         15,
         1,
         "Evaluation and management",
         "Case management services",
         "99363-99368",
         99363,
         99368,
         6,
         "YYYY-MM",
         0,
         0,
         "Traditional",
         "Micro"
        ],
        [
         16,
         1,
         "Evaluation and management",
         "Telephone care (deleted codes)",
         "99371-99373",
         99371,
         99373,
         3,
         "YYYY-MM",
         0,
         0,
         "Traditional",
         "Micro"
        ],
        [
         17,
         1,
         "Evaluation and management",
         "Care plan oversight services",
         "99374-99380",
         99374,
         99380,
         7,
         "YYYY-MM",
         0,
         0,
         "Traditional",
         "Micro"
        ],
        [
         18,
         1,
         "Evaluation and management",
         "Preventive medicine services",
         "99381-99429",
         99381,
         99429,
         49,
         "YYYY-MM",
         0,
         0,
         "Traditional",
         "Small"
        ],
        [
         19,
         1,
         "Evaluation and management",
         "Non-face-to-face physician services",
         "99441-99444",
         99441,
         99444,
         4,
         "YYYY-MM",
         0,
         0,
         "Traditional",
         "Micro"
        ],
        [
         20,
         1,
         "Evaluation and management",
         "Special evaluation and management services",
         "99450-99456",
         99450,
         99456,
         7,
         "YYYY-MM",
         0,
         0,
         "Traditional",
         "Micro"
        ],
        [
         21,
         1,
         "Evaluation and management",
         "Newborn care services",
         "99460-99465",
         99460,
         99465,
         6,
         "YYYY-MM",
         0,
         0,
         "Traditional",
         "Micro"
        ],
        [
         22,
         1,
         "Evaluation and management",
         "Inpatient neonatal intensive, and pediatric/neonatal critical, care services",
         "99466-99480",
         99466,
         99480,
         15,
         "YYYY-MM",
         0,
         0,
         "Traditional",
         "Small"
        ],
        [
         23,
         1,
         "Evaluation and management",
         "Complex chronic care coordination services",
         "99487-99489",
         99487,
         99489,
         3,
         "YYYY-MM",
         0,
         0,
         "Traditional",
         "Micro"
        ],
        [
         24,
         1,
         "Evaluation and management",
         "Transitional care management services",
         "99495-99496",
         99495,
         99496,
         2,
         "YYYY-MM",
         0,
         0,
         "Traditional",
         "Micro"
        ],
        [
         25,
         1,
         "Evaluation and management",
         "Other evaluation and management services",
         "99499",
         99499,
         99499,
         1,
         "YYYY-MM",
         0,
         0,
         "Traditional",
         "Micro"
        ],
        [
         92,
         1,
         "Medicine",
         "Immune globulins, serum or recombinant prods",
         "90281-90399",
         90281,
         90399,
         119,
         "YYYY-MM",
         0,
         0,
         "Traditional",
         "Medium"
        ],
        [
         93,
         1,
         "Medicine",
         "Immunization administration for vaccines/toxoids",
         "90465-90474",
         90465,
         90474,
         10,
         "YYYY-MM",
         0,
         0,
         "Traditional",
         "Small"
        ],
        [
         94,
         1,
         "Medicine",
         "Vaccines, toxoids",
         "90476-90749",
         90476,
         90749,
         274,
         "YYYY-MM",
         0,
         0,
         "Traditional",
         "Medium"
        ],
        [
         95,
         1,
         "Medicine",
         "Psychiatry",
         "90801-90899",
         90801,
         90899,
         99,
         "YYYY-MM",
         0,
         0,
         "Traditional",
         "Small"
        ],
        [
         96,
         1,
         "Medicine",
         "Biofeedback",
         "90901-90911",
         90901,
         90911,
         11,
         "YYYY-MM",
         0,
         0,
         "Traditional",
         "Small"
        ],
        [
         97,
         1,
         "Medicine",
         "End-Stage Renal Disease Services (deleted codes)",
         "90918-90925",
         90918,
         90925,
         8,
         "YYYY-MM",
         0,
         0,
         "Traditional",
         "Micro"
        ],
        [
         98,
         1,
         "Medicine",
         "Dialysis",
         "90935-90999",
         90935,
         90999,
         65,
         "YYYY-MM",
         0,
         0,
         "Traditional",
         "Small"
        ],
        [
         99,
         1,
         "Medicine",
         "Gastroenterology",
         "91000-91299",
         91000,
         91299,
         300,
         "YYYY-MM",
         0,
         0,
         "Traditional",
         "Medium"
        ],
        [
         100,
         1,
         "Medicine",
         "Ophthalmology",
         "92002-92499",
         92002,
         92499,
         498,
         "YYYY-MM",
         0,
         0,
         "Traditional",
         "Medium"
        ],
        [
         101,
         1,
         "Medicine",
         "Special otorhinolaryngologic services",
         "92502-92700",
         92502,
         92700,
         199,
         "YYYY-MM",
         0,
         0,
         "Traditional",
         "Medium"
        ],
        [
         102,
         1,
         "Medicine",
         "Cardiovascular",
         "92950-93799",
         92950,
         93799,
         850,
         "YYYY-MM",
         0,
         0,
         "Traditional",
         "Medium"
        ],
        [
         103,
         1,
         "Medicine",
         "Noninvasive vascular diagnostic studies",
         "93875-93990",
         93875,
         93990,
         116,
         "YYYY-MM",
         0,
         0,
         "Traditional",
         "Medium"
        ],
        [
         104,
         1,
         "Medicine",
         "Pulmonary",
         "94002-94799",
         94002,
         94799,
         798,
         "YYYY-MM",
         0,
         0,
         "Traditional",
         "Medium"
        ],
        [
         105,
         1,
         "Medicine",
         "Allergy and clinical immunology",
         "95004-95199",
         95004,
         95199,
         196,
         "YYYY-MM",
         0,
         0,
         "Traditional",
         "Medium"
        ],
        [
         106,
         1,
         "Medicine",
         "Endocrinology",
         "95250-95251",
         95250,
         95251,
         2,
         "YYYY-MM",
         0,
         0,
         "Traditional",
         "Micro"
        ],
        [
         107,
         1,
         "Medicine",
         "Neurology and neuromuscular procedures",
         "95803-96020",
         95803,
         96020,
         218,
         "YYYY-MM",
         0,
         0,
         "Traditional",
         "Medium"
        ],
        [
         108,
         1,
         "Medicine",
         "Central nervous system assessments/tests (neuro-cognitive, mental status, speech testing)",
         "96101-96125",
         96101,
         96125,
         25,
         "YYYY-MM",
         0,
         0,
         "Traditional",
         "Small"
        ],
        [
         109,
         1,
         "Medicine",
         "Health and behavior assessment/intervention",
         "96150-96155",
         96150,
         96155,
         6,
         "YYYY-MM",
         0,
         0,
         "Traditional",
         "Micro"
        ],
        [
         110,
         1,
         "Medicine",
         "Hydration, therapeutic, prophylactic, diagnostic injections and infusions, and chemotherapy and other highly complex drug or highly complex biologic agent administration",
         "96360-96549",
         96360,
         96549,
         190,
         "YYYY-MM",
         0,
         0,
         "Traditional",
         "Medium"
        ],
        [
         111,
         1,
         "Medicine",
         "Photodynamic therapy",
         "96567-96571",
         96567,
         96571,
         5,
         "YYYY-MM",
         0,
         0,
         "Traditional",
         "Micro"
        ],
        [
         112,
         1,
         "Medicine",
         "Special dermatological procedures",
         "96900-96999",
         96900,
         96999,
         100,
         "YYYY-MM",
         0,
         0,
         "Traditional",
         "Medium"
        ],
        [
         113,
         1,
         "Medicine",
         "Physical medicine and rehabilitation",
         "97001-97799",
         97001,
         97799,
         799,
         "YYYY-MM",
         0,
         0,
         "Traditional",
         "Medium"
        ],
        [
         114,
         1,
         "Medicine",
         "Medical nutrition therapy",
         "97802-97804",
         97802,
         97804,
         3,
         "YYYY-MM",
         0,
         0,
         "Traditional",
         "Micro"
        ],
        [
         115,
         1,
         "Medicine",
         "Acupuncture",
         "97810-97814",
         97810,
         97814,
         5,
         "YYYY-MM",
         0,
         0,
         "Traditional",
         "Micro"
        ],
        [
         116,
         1,
         "Medicine",
         "Osteopathic manipulative treatment",
         "98925-98929",
         98925,
         98929,
         5,
         "YYYY-MM",
         0,
         0,
         "Traditional",
         "Micro"
        ],
        [
         117,
         1,
         "Medicine",
         "Chiropractic manipulative treatment",
         "98940-98943",
         98940,
         98943,
         4,
         "YYYY-MM",
         0,
         0,
         "Traditional",
         "Micro"
        ],
        [
         118,
         1,
         "Medicine",
         "Education and training for patient self-management",
         "98960-98962",
         98960,
         98962,
         3,
         "YYYY-MM",
         0,
         0,
         "Traditional",
         "Micro"
        ],
        [
         119,
         1,
         "Medicine",
         "Non-face-to-face nonphysician services",
         "98966-98969",
         98966,
         98969,
         4,
         "YYYY-MM",
         0,
         0,
         "Traditional",
         "Micro"
        ],
        [
         120,
         1,
         "Medicine",
         "Special services, procedures and reports",
         "99000-99091",
         99000,
         99091,
         92,
         "YYYY-MM",
         0,
         0,
         "Traditional",
         "Small"
        ],
        [
         121,
         1,
         "Medicine",
         "Other services and procedures",
         "99170-99199",
         99170,
         99199,
         30,
         "YYYY-MM",
         0,
         0,
         "Traditional",
         "Small"
        ],
        [
         122,
         1,
         "Medicine",
         "Home health procedures/services",
         "99500-99602",
         99500,
         99602,
         103,
         "YYYY-MM",
         0,
         0,
         "Traditional",
         "Medium"
        ],
        [
         123,
         1,
         "Medicine",
         "Medication therapy management services",
         "99605-99607",
         99605,
         99607,
         3,
         "YYYY-MM",
         0,
         0,
         "Traditional",
         "Micro"
        ],
        [
         74,
         1,
         "Pathology and laboratory",
         "Organ or disease-oriented panels",
         "80000-80076",
         80000,
         80076,
         77,
         "YYYY-MM",
         0,
         0,
         "Traditional",
         "Small"
        ],
        [
         75,
         1,
         "Pathology and laboratory",
         "Drug testing",
         "80100-80103",
         80100,
         80103,
         4,
         "YYYY-MM",
         0,
         0,
         "Traditional",
         "Micro"
        ],
        [
         76,
         1,
         "Pathology and laboratory",
         "Therapeutic drug assays",
         "80150-80299",
         80150,
         80299,
         150,
         "YYYY-MM",
         0,
         0,
         "Traditional",
         "Medium"
        ],
        [
         77,
         1,
         "Pathology and laboratory",
         "Evocative/suppression testing",
         "80400-80440",
         80400,
         80440,
         41,
         "YYYY-MM",
         0,
         0,
         "Traditional",
         "Small"
        ],
        [
         78,
         1,
         "Pathology and laboratory",
         "Consultations (clinical pathology)",
         "80500-80502",
         80500,
         80502,
         3,
         "YYYY-MM",
         0,
         0,
         "Traditional",
         "Micro"
        ],
        [
         79,
         1,
         "Pathology and laboratory",
         "Urinalysis",
         "81000-81099",
         81000,
         81099,
         100,
         "YYYY-MM",
         0,
         0,
         "Traditional",
         "Medium"
        ],
        [
         80,
         1,
         "Pathology and laboratory",
         "Chemistry",
         "82000-84999",
         82000,
         84999,
         3000,
         "YYYY-MM",
         0,
         0,
         "Traditional",
         "Large"
        ],
        [
         81,
         1,
         "Pathology and laboratory",
         "Hematology and coagulation",
         "85002-85999",
         85002,
         85999,
         998,
         "YYYY-MM",
         0,
         0,
         "Traditional",
         "Medium"
        ],
        [
         82,
         1,
         "Pathology and laboratory",
         "Immunology",
         "86000-86849",
         86000,
         86849,
         850,
         "YYYY-MM",
         0,
         0,
         "Traditional",
         "Medium"
        ],
        [
         83,
         1,
         "Pathology and laboratory",
         "Transfusion medicine",
         "86850-86999",
         86850,
         86999,
         150,
         "YYYY-MM",
         0,
         0,
         "Traditional",
         "Medium"
        ],
        [
         84,
         1,
         "Pathology and laboratory",
         "Microbiology",
         "87001-87999",
         87001,
         87999,
         999,
         "YYYY-MM",
         0,
         0,
         "Traditional",
         "Medium"
        ],
        [
         85,
         1,
         "Pathology and laboratory",
         "Anatomic pathology (postmortem)",
         "88000-88099",
         88000,
         88099,
         100,
         "YYYY-MM",
         0,
         0,
         "Traditional",
         "Medium"
        ],
        [
         86,
         1,
         "Pathology and laboratory",
         "Cytopathology",
         "88104-88199",
         88104,
         88199,
         96,
         "YYYY-MM",
         0,
         0,
         "Traditional",
         "Small"
        ],
        [
         87,
         1,
         "Pathology and laboratory",
         "Cytogenetic studies",
         "88230-88299",
         88230,
         88299,
         70,
         "YYYY-MM",
         0,
         0,
         "Traditional",
         "Small"
        ],
        [
         88,
         1,
         "Pathology and laboratory",
         "Surgical pathology",
         "88300-88399",
         88300,
         88399,
         100,
         "YYYY-MM",
         0,
         0,
         "Traditional",
         "Medium"
        ],
        [
         89,
         1,
         "Pathology and laboratory",
         "In vivo (transcutaneous) lab procedures",
         "88720-88741",
         88720,
         88741,
         22,
         "YYYY-MM",
         0,
         0,
         "Traditional",
         "Small"
        ],
        [
         90,
         1,
         "Pathology and laboratory",
         "Other procedures",
         "89049-89240",
         89049,
         89240,
         192,
         "YYYY-MM",
         0,
         0,
         "Traditional",
         "Medium"
        ],
        [
         91,
         1,
         "Pathology and laboratory",
         "Reproductive medicine procedures",
         "89250-89398",
         89250,
         89398,
         149,
         "YYYY-MM",
         0,
         0,
         "Traditional",
         "Medium"
        ],
        [
         67,
         1,
         "Radiology",
         "Diagnostic imaging",
         "70000-76499",
         70000,
         76499,
         6500,
         "YYYY-MM",
         0,
         0,
         "Traditional",
         "Large"
        ],
        [
         68,
         1,
         "Radiology",
         "Diagnostic ultrasound",
         "76506-76999",
         76506,
         76999,
         494,
         "YYYY-MM",
         0,
         0,
         "Traditional",
         "Medium"
        ],
        [
         69,
         1,
         "Radiology",
         "Radiologic guidance",
         "77001-77032",
         77001,
         77032,
         32,
         "YYYY-MM",
         0,
         0,
         "Traditional",
         "Small"
        ],
        [
         70,
         1,
         "Radiology",
         "Breast mammography",
         "77051-77059",
         77051,
         77059,
         9,
         "YYYY-MM",
         0,
         0,
         "Traditional",
         "Micro"
        ],
        [
         71,
         1,
         "Radiology",
         "Bone/joint studies",
         "77071-77084",
         77071,
         77084,
         14,
         "YYYY-MM",
         0,
         0,
         "Traditional",
         "Small"
        ],
        [
         72,
         1,
         "Radiology",
         "Radiation oncology",
         "77261-77799",
         77261,
         77799,
         539,
         "YYYY-MM",
         0,
         0,
         "Traditional",
         "Medium"
        ],
        [
         73,
         1,
         "Radiology",
         "Nuclear medicine",
         "78000-79999",
         78000,
         79999,
         2000,
         "YYYY-MM",
         0,
         0,
         "Traditional",
         "Large"
        ],
        [
         48,
         1,
         "Surgery",
         "General",
         "10000-10022",
         10000,
         10022,
         23,
         "YYYY-MM",
         0,
         0,
         "Traditional",
         "Small"
        ],
        [
         49,
         1,
         "Surgery",
         "Integumentary system",
         "10040-19499",
         10040,
         19499,
         9460,
         "YYYY-MM",
         0,
         0,
         "Traditional",
         "Large"
        ],
        [
         50,
         1,
         "Surgery",
         "Musculoskeletal system",
         "20000-29999",
         20000,
         29999,
         10000,
         "YYYY-MM",
         0,
         0,
         "Traditional",
         "Large"
        ],
        [
         51,
         1,
         "Surgery",
         "Respiratory system",
         "30000-32999",
         30000,
         32999,
         3000,
         "YYYY-MM",
         0,
         0,
         "Traditional",
         "Large"
        ],
        [
         52,
         1,
         "Surgery",
         "Cardiovascular system",
         "33010-37799",
         33010,
         37799,
         4790,
         "YYYY-MM",
         0,
         0,
         "Traditional",
         "Large"
        ],
        [
         53,
         1,
         "Surgery",
         "Hemic and lymphatic systems",
         "38100-38999",
         38100,
         38999,
         900,
         "YYYY-MM",
         0,
         0,
         "Traditional",
         "Medium"
        ],
        [
         54,
         1,
         "Surgery",
         "Mediastinum and diaphragm",
         "39000-39599",
         39000,
         39599,
         600,
         "YYYY-MM",
         0,
         0,
         "Traditional",
         "Medium"
        ],
        [
         55,
         1,
         "Surgery",
         "Digestive system",
         "40490-49999",
         40490,
         49999,
         9510,
         "YYYY-MM",
         0,
         0,
         "Traditional",
         "Large"
        ],
        [
         56,
         1,
         "Surgery",
         "Urinary system",
         "50010-53899",
         50010,
         53899,
         3890,
         "YYYY-MM",
         0,
         0,
         "Traditional",
         "Large"
        ],
        [
         57,
         1,
         "Surgery",
         "Male genital system",
         "54000-55899",
         54000,
         55899,
         1900,
         "YYYY-MM",
         0,
         0,
         "Traditional",
         "Large"
        ],
        [
         58,
         1,
         "Surgery",
         "Reproductive system and intersex",
         "55920-55980",
         55920,
         55980,
         61,
         "YYYY-MM",
         0,
         0,
         "Traditional",
         "Small"
        ],
        [
         59,
         1,
         "Surgery",
         "Laparoscopy, Surgical; Cholecystectomy (deleted code)",
         "56340-56340",
         56340,
         56340,
         1,
         "YYYY-MM",
         0,
         0,
         "Traditional",
         "Micro"
        ],
        [
         60,
         1,
         "Surgery",
         "Female genital system",
         "56405-58999",
         56405,
         58999,
         2595,
         "YYYY-MM",
         0,
         0,
         "Traditional",
         "Large"
        ],
        [
         61,
         1,
         "Surgery",
         "Maternity care and delivery",
         "59000-59899",
         59000,
         59899,
         900,
         "YYYY-MM",
         0,
         0,
         "Traditional",
         "Medium"
        ],
        [
         62,
         1,
         "Surgery",
         "Endocrine system",
         "60000-60699",
         60000,
         60699,
         700,
         "YYYY-MM",
         0,
         0,
         "Traditional",
         "Medium"
        ],
        [
         63,
         1,
         "Surgery",
         "Nervous system",
         "61000-64999",
         61000,
         64999,
         4000,
         "YYYY-MM",
         0,
         0,
         "Traditional",
         "Large"
        ],
        [
         64,
         1,
         "Surgery",
         "Eye and ocular adnexa",
         "65091-68899",
         65091,
         68899,
         3809,
         "YYYY-MM",
         0,
         0,
         "Traditional",
         "Large"
        ],
        [
         65,
         1,
         "Surgery",
         "Auditory system",
         "69000-69979",
         69000,
         69979,
         980,
         "YYYY-MM",
         0,
         0,
         "Traditional",
         "Medium"
        ],
        [
         66,
         1,
         "Surgery",
         "Operating microscope (deleted code)",
         "69990-69990",
         69990,
         69990,
         1,
         "YYYY-MM",
         0,
         0,
         "Traditional",
         "Micro"
        ],
        [
         124,
         2,
         "Performance measurement",
         "Composite measures",
         "0001F-0015F",
         1,
         15,
         15,
         "YYYY-MM",
         0,
         0,
         "Performance",
         "Small"
        ],
        [
         125,
         2,
         "Performance measurement",
         "Patient management",
         "0500F-0575F",
         500,
         575,
         76,
         "YYYY-MM",
         0,
         0,
         "Performance",
         "Small"
        ],
        [
         126,
         2,
         "Performance measurement",
         "Patient history",
         "1000F-1220F",
         1000,
         1220,
         221,
         "YYYY-MM",
         0,
         0,
         "Performance",
         "Medium"
        ],
        [
         127,
         2,
         "Performance measurement",
         "Physical examination",
         "2000F-2050F",
         2000,
         2050,
         51,
         "YYYY-MM",
         0,
         0,
         "Performance",
         "Small"
        ],
        [
         128,
         2,
         "Performance measurement",
         "Diagnostic/screening processes or results",
         "3006F-3573F",
         3006,
         3573,
         568,
         "YYYY-MM",
         0,
         0,
         "Performance",
         "Medium"
        ],
        [
         129,
         2,
         "Performance measurement",
         "Therapeutic, preventive or other interventions",
         "4000F-4306F",
         4000,
         4306,
         307,
         "YYYY-MM",
         0,
         0,
         "Performance",
         "Medium"
        ],
        [
         130,
         2,
         "Performance measurement",
         "Follow-up or other outcomes",
         "5005F-5100F",
         5005,
         5100,
         96,
         "YYYY-MM",
         0,
         0,
         "Performance",
         "Small"
        ],
        [
         131,
         2,
         "Performance measurement",
         "Patient safety",
         "6005F-6045F",
         6005,
         6045,
         41,
         "YYYY-MM",
         0,
         0,
         "Performance",
         "Small"
        ],
        [
         132,
         2,
         "Performance measurement",
         "Structural Measures",
         "7010F-7025F",
         7010,
         7025,
         16,
         "YYYY-MM",
         0,
         0,
         "Performance",
         "Small"
        ],
        [
         133,
         3,
         "Emerging technology",
         "Temporary codes",
         "0016T-0207T",
         16,
         207,
         192,
         "YYYY-MM",
         0,
         0,
         "Emerging",
         "Medium"
        ],
        [
         134,
         3,
         "Emerging technology",
         "Temporary codes",
         "0256T-0259T",
         256,
         259,
         4,
         "YYYY-MM",
         0,
         0,
         "Emerging",
         "Micro"
        ]
       ],
       "datasetInfos": [],
       "dbfsResultPath": null,
       "isJsonSchema": true,
       "metadata": {
        "createTempViewForImplicitDf": true,
        "dataframeName": "_sqldf",
        "executionCount": 28
       },
       "overflow": false,
       "plotOptions": {
        "customPlotOptions": {},
        "displayType": "table",
        "pivotAggregation": null,
        "pivotColumns": null,
        "xColumns": null,
        "yColumns": null
       },
       "removedWidgets": [],
       "schema": [
        {
         "metadata": "{}",
         "name": "row_id",
         "type": "\"integer\""
        },
        {
         "metadata": "{}",
         "name": "category",
         "type": "\"integer\""
        },
        {
         "metadata": "{}",
         "name": "sectionheader",
         "type": "\"string\""
        },
        {
         "metadata": "{}",
         "name": "subsectionheader",
         "type": "\"string\""
        },
        {
         "metadata": "{}",
         "name": "subsectionrange",
         "type": "\"string\""
        },
        {
         "metadata": "{}",
         "name": "mincodeinsubsection",
         "type": "\"integer\""
        },
        {
         "metadata": "{}",
         "name": "maxcodeinsubsection",
         "type": "\"integer\""
        },
        {
         "metadata": "{}",
         "name": "code_count",
         "type": "\"integer\""
        },
        {
         "metadata": "{}",
         "name": "period_placeholder",
         "type": "\"string\""
        },
        {
         "metadata": "{}",
         "name": "volume_placeholder",
         "type": "\"integer\""
        },
        {
         "metadata": "{}",
         "name": "revenue_placeholder",
         "type": "\"integer\""
        },
        {
         "metadata": "{}",
         "name": "category_name",
         "type": "\"string\""
        },
        {
         "metadata": "{}",
         "name": "size_segment",
         "type": "\"string\""
        }
       ],
       "type": "table"
      }
     },
     "output_type": "display_data"
    }
   ],
   "source": [
    "%sql\n",
    "SELECT \n",
    "    row_id,\n",
    "    category,\n",
    "    sectionheader,\n",
    "    subsectionheader,\n",
    "    subsectionrange,\n",
    "    mincodeinsubsection,\n",
    "    maxcodeinsubsection,\n",
    "    (maxcodeinsubsection - mincodeinsubsection + 1) as code_count,\n",
    "    -- Create month/quarter placeholders for trend analysis\n",
    "    'YYYY-MM' as period_placeholder,\n",
    "    0 as volume_placeholder,\n",
    "    0 as revenue_placeholder,\n",
    "    -- Pre-calculate key metrics for joining with actual sales data\n",
    "    CASE \n",
    "        WHEN category = 1 THEN 'Traditional'\n",
    "        WHEN category = 2 THEN 'Performance'\n",
    "        WHEN category = 3 THEN 'Emerging'\n",
    "    END as category_name,\n",
    "    CASE \n",
    "        WHEN (maxcodeinsubsection - mincodeinsubsection + 1) >= 1000 THEN 'Large'\n",
    "        WHEN (maxcodeinsubsection - mincodeinsubsection + 1) >= 100 THEN 'Medium'\n",
    "        WHEN (maxcodeinsubsection - mincodeinsubsection + 1) >= 10 THEN 'Small'\n",
    "        ELSE 'Micro'\n",
    "    END as size_segment\n",
    "FROM mimicdata.mimic.d_cpt\n",
    "ORDER BY category, sectionheader, mincodeinsubsection;\n"
   ]
  }
 ],
 "metadata": {
  "application/vnd.databricks.v1+notebook": {
   "computePreferences": null,
   "dashboards": [],
   "environmentMetadata": {
    "base_environment": "",
    "environment_version": "2"
   },
   "inputWidgetPreferences": null,
   "language": "python",
   "notebookMetadata": {
    "mostRecentlyExecutedCommandWithImplicitDF": {
     "commandId": 5066856802963335,
     "dataframes": [
      "_sqldf"
     ]
    },
    "pythonIndentUnit": 4
   },
   "notebookName": "6 D_CPT",
   "widgets": {}
  },
  "language_info": {
   "name": "python"
  }
 },
 "nbformat": 4,
 "nbformat_minor": 0
}