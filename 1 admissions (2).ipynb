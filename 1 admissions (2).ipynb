{
 "cells": [
  {
   "cell_type": "code",
   "execution_count": 0,
   "metadata": {
    "application/vnd.databricks.v1+cell": {
     "cellMetadata": {
      "byteLimit": 2048000,
      "implicitDf": true,
      "rowLimit": 10000
     },
     "inputWidgets": {},
     "nuid": "c26f03df-8cd7-426c-ab6c-06e90632abd2",
     "showTitle": false,
     "tableResultSettingsMap": {},
     "title": ""
    }
   },
   "outputs": [
    {
     "output_type": "display_data",
     "data": {
      "text/html": [
       "<style scoped>\n",
       "  .table-result-container {\n",
       "    max-height: 300px;\n",
       "    overflow: auto;\n",
       "  }\n",
       "  table, th, td {\n",
       "    border: 1px solid black;\n",
       "    border-collapse: collapse;\n",
       "  }\n",
       "  th, td {\n",
       "    padding: 5px;\n",
       "  }\n",
       "  th {\n",
       "    text-align: left;\n",
       "  }\n",
       "</style><div class='table-result-container'><table class='table-result'><thead style='background-color: white'><tr></tr></thead><tbody></tbody></table></div>"
      ]
     },
     "metadata": {
      "application/vnd.databricks.v1+output": {
       "addedWidgets": {},
       "aggData": [],
       "aggError": "",
       "aggOverflow": false,
       "aggSchema": [],
       "aggSeriesLimitReached": false,
       "aggType": "",
       "arguments": {},
       "columnCustomDisplayInfos": {},
       "data": [],
       "datasetInfos": [],
       "dbfsResultPath": null,
       "isJsonSchema": true,
       "metadata": {
        "dataframeName": null
       },
       "overflow": false,
       "plotOptions": {
        "customPlotOptions": {},
        "displayType": "table",
        "pivotAggregation": null,
        "pivotColumns": null,
        "xColumns": null,
        "yColumns": null
       },
       "removedWidgets": [],
       "schema": [],
       "type": "table"
      }
     },
     "output_type": "display_data"
    }
   ],
   "source": [
    "%sql\n",
    "CREATE SCHEMA IF NOT EXISTS mimic"
   ]
  },
  {
   "cell_type": "code",
   "execution_count": 0,
   "metadata": {
    "application/vnd.databricks.v1+cell": {
     "cellMetadata": {
      "byteLimit": 2048000,
      "rowLimit": 10000
     },
     "inputWidgets": {},
     "nuid": "736fc991-8dd7-4e87-bb37-c4eb18157589",
     "showTitle": false,
     "tableResultSettingsMap": {},
     "title": ""
    }
   },
   "outputs": [],
   "source": [
    "admissions_df = spark.read.option(\"header\", \"true\").option(\"inferSchema\", \"true\").csv(\"dbfs:/mnt/mimic/ADMISSIONS.csv\")"
   ]
  },
  {
   "cell_type": "code",
   "execution_count": 0,
   "metadata": {
    "application/vnd.databricks.v1+cell": {
     "cellMetadata": {
      "byteLimit": 2048000,
      "rowLimit": 10000
     },
     "inputWidgets": {},
     "nuid": "c7b66f4d-8c50-42b8-ac4e-5ea4ee23728e",
     "showTitle": false,
     "tableResultSettingsMap": {},
     "title": ""
    }
   },
   "outputs": [],
   "source": [
    "admissions_df.write.format(\"delta\").mode(\"overwrite\").saveAsTable(\"mimic.admissions\")"
   ]
  },
  {
   "cell_type": "code",
   "execution_count": 0,
   "metadata": {
    "application/vnd.databricks.v1+cell": {
     "cellMetadata": {
      "byteLimit": 2048000,
      "implicitDf": true,
      "rowLimit": 10000
     },
     "inputWidgets": {},
     "nuid": "e6eadd1a-3507-4cd9-a6dc-bc3347947bb6",
     "showTitle": true,
     "tableResultSettingsMap": {},
     "title": "total admissions"
    }
   },
   "outputs": [
    {
     "output_type": "display_data",
     "data": {
      "text/html": [
       "<style scoped>\n",
       "  .table-result-container {\n",
       "    max-height: 300px;\n",
       "    overflow: auto;\n",
       "  }\n",
       "  table, th, td {\n",
       "    border: 1px solid black;\n",
       "    border-collapse: collapse;\n",
       "  }\n",
       "  th, td {\n",
       "    padding: 5px;\n",
       "  }\n",
       "  th {\n",
       "    text-align: left;\n",
       "  }\n",
       "</style><div class='table-result-container'><table class='table-result'><thead style='background-color: white'><tr><th>admission_type</th><th>count</th><th>percentage</th></tr></thead><tbody><tr><td>EMERGENCY</td><td>119</td><td>92.25</td></tr><tr><td>ELECTIVE</td><td>8</td><td>6.20</td></tr><tr><td>URGENT</td><td>2</td><td>1.55</td></tr></tbody></table></div>"
      ]
     },
     "metadata": {
      "application/vnd.databricks.v1+output": {
       "addedWidgets": {},
       "aggData": [],
       "aggError": "",
       "aggOverflow": false,
       "aggSchema": [],
       "aggSeriesLimitReached": false,
       "aggType": "",
       "arguments": {},
       "columnCustomDisplayInfos": {},
       "data": [
        [
         "EMERGENCY",
         119,
         "92.25"
        ],
        [
         "ELECTIVE",
         8,
         "6.20"
        ],
        [
         "URGENT",
         2,
         "1.55"
        ]
       ],
       "datasetInfos": [],
       "dbfsResultPath": null,
       "isJsonSchema": true,
       "metadata": {
        "dataframeName": "_sqldf",
        "executionCount": 4
       },
       "overflow": false,
       "plotOptions": {
        "customPlotOptions": {},
        "displayType": "table",
        "pivotAggregation": null,
        "pivotColumns": null,
        "xColumns": null,
        "yColumns": null
       },
       "removedWidgets": [],
       "schema": [
        {
         "metadata": "{}",
         "name": "admission_type",
         "type": "\"string\""
        },
        {
         "metadata": "{}",
         "name": "count",
         "type": "\"long\""
        },
        {
         "metadata": "{}",
         "name": "percentage",
         "type": "\"decimal(27,2)\""
        }
       ],
       "type": "table"
      }
     },
     "output_type": "display_data"
    },
    {
     "output_type": "display_data",
     "data": {
      "text/plain": [
       "Databricks visualization. Run in Databricks to view."
      ]
     },
     "metadata": {
      "application/vnd.databricks.v1.subcommand+json": {
       "baseErrorDetails": null,
       "bindings": {},
       "collapsed": false,
       "command": "%sql WITH q AS (SELECT \n    admission_type,\n    COUNT(*) as count,\n    ROUND(COUNT(*) * 100.0 / (SELECT COUNT(*) FROM mimicdata_2567611159492892.mimic.admissions), 2) as percentage\nFROM \n    mimicdata_2567611159492892.mimic.admissions\nGROUP BY \n    admission_type\nORDER BY \n    count DESC) SELECT `admission_type`,SUM(`count`) `column_8a0f91ae61`,`admission_type` FROM q GROUP BY `admission_type`",
       "commandTitle": "Visualization 2",
       "commandType": "auto",
       "commandVersion": 0,
       "commentThread": [],
       "commentsVisible": false,
       "contentSha256Hex": null,
       "customPlotOptions": {
        "redashChart": [
         {
          "key": "type",
          "value": "CHART"
         },
         {
          "key": "options",
          "value": {
           "alignYAxesAtZero": true,
           "coefficient": 1,
           "columnConfigurationMap": {
            "series": {
             "column": "admission_type",
             "id": "column_8a0f91ae62"
            },
            "x": {
             "column": "admission_type",
             "id": "column_8a0f91ae64"
            },
            "y": [
             {
              "column": "count",
              "id": "column_8a0f91ae61",
              "transform": "SUM"
             }
            ]
           },
           "dateTimeFormat": "DD/MM/YYYY HH:mm",
           "direction": {
            "type": "counterclockwise"
           },
           "error_y": {
            "type": "data",
            "visible": true
           },
           "globalSeriesType": "column",
           "isAggregationOn": true,
           "legend": {
            "traceorder": "normal"
           },
           "missingValuesAsZero": true,
           "numberFormat": "0,0.[00000]",
           "percentFormat": "0[.]00%",
           "series": {
            "error_y": {
             "type": "data",
             "visible": true
            },
            "stacking": null
           },
           "seriesOptions": {
            "column_8a0f91ae61": {
             "name": "percentage",
             "type": "column",
             "yAxis": 0
            }
           },
           "showDataLabels": false,
           "sizemode": "diameter",
           "sortX": true,
           "sortY": true,
           "swappedAxes": false,
           "textFormat": "",
           "useAggregationsUi": true,
           "valuesOptions": {},
           "version": 2,
           "xAxis": {
            "labels": {
             "enabled": true
            },
            "type": "-"
           },
           "yAxis": [
            {
             "type": "-"
            },
            {
             "opposite": true,
             "type": "-"
            }
           ]
          }
         }
        ]
       },
       "datasetPreviewNameToCmdIdMap": {},
       "diffDeletes": [],
       "diffInserts": [],
       "displayType": "redashChart",
       "error": null,
       "errorDetails": null,
       "errorSummary": null,
       "errorTraceType": null,
       "finishTime": 0,
       "globalVars": {},
       "guid": "",
       "height": "auto",
       "hideCommandCode": false,
       "hideCommandResult": false,
       "iPythonMetadata": null,
       "inputWidgets": {},
       "isLockedInExamMode": false,
       "latestUser": "a user",
       "latestUserId": null,
       "listResultMetadata": null,
       "metadata": {},
       "nuid": "b03ec0ab-75fd-4673-a75e-4fe0342244be",
       "origId": 0,
       "parentHierarchy": [],
       "pivotAggregation": null,
       "pivotColumns": null,
       "position": 6.0,
       "resultDbfsErrorMessage": null,
       "resultDbfsStatus": "INLINED_IN_TREE",
       "results": null,
       "showCommandTitle": false,
       "startTime": 0,
       "state": "input",
       "streamStates": {},
       "subcommandOptions": {
        "queryPlan": {
         "groups": [
          {
           "column": "admission_type",
           "type": "column"
          },
          {
           "column": "admission_type",
           "type": "column"
          }
         ],
         "selects": [
          {
           "column": "admission_type",
           "type": "column"
          },
          {
           "alias": "column_8a0f91ae61",
           "args": [
            {
             "column": "count",
             "type": "column"
            }
           ],
           "function": "SUM",
           "type": "function"
          },
          {
           "column": "admission_type",
           "type": "column"
          }
         ]
        }
       },
       "submitTime": 0,
       "subtype": "tableResultSubCmd.visualization",
       "tableResultIndex": 0,
       "tableResultSettingsMap": {},
       "useConsistentColors": false,
       "version": "CommandV1",
       "width": "auto",
       "workflows": [],
       "xColumns": null,
       "yColumns": null
      }
     },
     "output_type": "display_data"
    }
   ],
   "source": [
    "%sql\n",
    "SELECT \n",
    "    admission_type,\n",
    "    COUNT(*) as count,\n",
    "    ROUND(COUNT(*) * 100.0 / (SELECT COUNT(*) FROM mimicdata_2567611159492892.mimic.admissions), 2) as percentage\n",
    "FROM \n",
    "    mimicdata_2567611159492892.mimic.admissions\n",
    "GROUP BY \n",
    "    admission_type\n",
    "ORDER BY \n",
    "    count DESC;"
   ]
  },
  {
   "cell_type": "code",
   "execution_count": 0,
   "metadata": {
    "application/vnd.databricks.v1+cell": {
     "cellMetadata": {
      "byteLimit": 2048000,
      "implicitDf": true,
      "rowLimit": 10000
     },
     "inputWidgets": {},
     "nuid": "ce4066c2-ffce-41fe-956a-6f014afb2d97",
     "showTitle": true,
     "tableResultSettingsMap": {},
     "title": "total mortality"
    }
   },
   "outputs": [
    {
     "output_type": "display_data",
     "data": {
      "text/html": [
       "<style scoped>\n",
       "  .table-result-container {\n",
       "    max-height: 300px;\n",
       "    overflow: auto;\n",
       "  }\n",
       "  table, th, td {\n",
       "    border: 1px solid black;\n",
       "    border-collapse: collapse;\n",
       "  }\n",
       "  th, td {\n",
       "    padding: 5px;\n",
       "  }\n",
       "  th {\n",
       "    text-align: left;\n",
       "  }\n",
       "</style><div class='table-result-container'><table class='table-result'><thead style='background-color: white'><tr><th>total_mortality_count</th></tr></thead><tbody><tr><td>40</td></tr></tbody></table></div>"
      ]
     },
     "metadata": {
      "application/vnd.databricks.v1+output": {
       "addedWidgets": {},
       "aggData": [],
       "aggError": "",
       "aggOverflow": false,
       "aggSchema": [],
       "aggSeriesLimitReached": false,
       "aggType": "",
       "arguments": {},
       "columnCustomDisplayInfos": {},
       "data": [
        [
         40
        ]
       ],
       "datasetInfos": [],
       "dbfsResultPath": null,
       "isJsonSchema": true,
       "metadata": {
        "dataframeName": "_sqldf",
        "executionCount": 1
       },
       "overflow": false,
       "plotOptions": {
        "customPlotOptions": {},
        "displayType": "table",
        "pivotAggregation": null,
        "pivotColumns": null,
        "xColumns": null,
        "yColumns": null
       },
       "removedWidgets": [],
       "schema": [
        {
         "metadata": "{}",
         "name": "total_mortality_count",
         "type": "\"long\""
        }
       ],
       "type": "table"
      }
     },
     "output_type": "display_data"
    }
   ],
   "source": [
    "%sql\n",
    "SELECT COUNT(*) as total_mortality_count\n",
    "FROM mimicdata_2567611159492892.mimic.ADMISSIONS \n",
    "WHERE deathtime IS NOT NULL;"
   ]
  },
  {
   "cell_type": "code",
   "execution_count": 0,
   "metadata": {
    "application/vnd.databricks.v1+cell": {
     "cellMetadata": {
      "byteLimit": 2048000,
      "implicitDf": true,
      "rowLimit": 10000
     },
     "inputWidgets": {},
     "nuid": "3df205f5-0595-4f94-85b7-79aa5305baf7",
     "showTitle": false,
     "tableResultSettingsMap": {},
     "title": ""
    }
   },
   "outputs": [
    {
     "output_type": "display_data",
     "data": {
      "text/html": [
       "<style scoped>\n",
       "  .table-result-container {\n",
       "    max-height: 300px;\n",
       "    overflow: auto;\n",
       "  }\n",
       "  table, th, td {\n",
       "    border: 1px solid black;\n",
       "    border-collapse: collapse;\n",
       "  }\n",
       "  th, td {\n",
       "    padding: 5px;\n",
       "  }\n",
       "  th {\n",
       "    text-align: left;\n",
       "  }\n",
       "</style><div class='table-result-container'><table class='table-result'><thead style='background-color: white'><tr><th>total_admissions</th><th>total_deaths</th><th>mortality_rate_percent</th></tr></thead><tbody><tr><td>129</td><td>40</td><td>31.01</td></tr></tbody></table></div>"
      ]
     },
     "metadata": {
      "application/vnd.databricks.v1+output": {
       "addedWidgets": {},
       "aggData": [],
       "aggError": "",
       "aggOverflow": false,
       "aggSchema": [],
       "aggSeriesLimitReached": false,
       "aggType": "",
       "arguments": {},
       "columnCustomDisplayInfos": {},
       "data": [
        [
         129,
         40,
         "31.01"
        ]
       ],
       "datasetInfos": [],
       "dbfsResultPath": null,
       "isJsonSchema": true,
       "metadata": {
        "dataframeName": "_sqldf",
        "executionCount": 2
       },
       "overflow": false,
       "plotOptions": {
        "customPlotOptions": {},
        "displayType": "table",
        "pivotAggregation": null,
        "pivotColumns": null,
        "xColumns": null,
        "yColumns": null
       },
       "removedWidgets": [],
       "schema": [
        {
         "metadata": "{}",
         "name": "total_admissions",
         "type": "\"long\""
        },
        {
         "metadata": "{}",
         "name": "total_deaths",
         "type": "\"long\""
        },
        {
         "metadata": "{}",
         "name": "mortality_rate_percent",
         "type": "\"decimal(27,2)\""
        }
       ],
       "type": "table"
      }
     },
     "output_type": "display_data"
    },
    {
     "output_type": "display_data",
     "data": {
      "text/plain": [
       "Databricks visualization. Run in Databricks to view."
      ]
     },
     "metadata": {
      "application/vnd.databricks.v1.subcommand+json": {
       "baseErrorDetails": null,
       "bindings": {},
       "collapsed": false,
       "command": "%sql WITH q AS (SELECT \n    COUNT(*) as total_admissions,\n    SUM(hospital_expire_flag) as total_deaths,\n    ROUND((SUM(hospital_expire_flag) * 100.0 / COUNT(*)), 2) as mortality_rate_percent\nFROM mimicdata_2567611159492892.mimic.ADMISSIONS) SELECT `total_admissions`,SUM(`total_deaths`) `column_86f26832100`,SUM(`mortality_rate_percent`) `column_86f26832103` FROM q GROUP BY `total_admissions`",
       "commandTitle": "Visualization 1",
       "commandType": "auto",
       "commandVersion": 0,
       "commentThread": [],
       "commentsVisible": false,
       "contentSha256Hex": null,
       "customPlotOptions": {
        "redashChart": [
         {
          "key": "type",
          "value": "CHART"
         },
         {
          "key": "options",
          "value": {
           "alignYAxesAtZero": true,
           "coefficient": 1,
           "columnConfigurationMap": {
            "x": {
             "column": "total_admissions",
             "id": "column_86f2683298"
            },
            "y": [
             {
              "column": "total_deaths",
              "id": "column_86f26832100",
              "transform": "SUM"
             },
             {
              "column": "mortality_rate_percent",
              "id": "column_86f26832103",
              "transform": "SUM"
             }
            ]
           },
           "dateTimeFormat": "YYYY-MM-DD HH:mm",
           "direction": {
            "type": "counterclockwise"
           },
           "error_y": {
            "type": "data",
            "visible": true
           },
           "globalSeriesType": "column",
           "isAggregationOn": true,
           "legend": {
            "traceorder": "normal"
           },
           "missingValuesAsZero": true,
           "numberFormat": "0,0.[00000]",
           "percentFormat": "0[.]00%",
           "series": {
            "error_y": {
             "type": "data",
             "visible": true
            },
            "stacking": null
           },
           "seriesOptions": {
            "column_86f26832100": {
             "type": "column",
             "yAxis": 0
            },
            "column_86f26832103": {
             "type": "column",
             "yAxis": 0
            }
           },
           "showDataLabels": false,
           "sizemode": "diameter",
           "sortX": true,
           "sortY": true,
           "swappedAxes": false,
           "textFormat": "",
           "useAggregationsUi": true,
           "valuesOptions": {},
           "version": 2,
           "xAxis": {
            "labels": {
             "enabled": true
            },
            "type": "-"
           },
           "yAxis": [
            {
             "type": "-"
            },
            {
             "opposite": true,
             "type": "-"
            }
           ]
          }
         }
        ]
       },
       "datasetPreviewNameToCmdIdMap": {},
       "diffDeletes": [],
       "diffInserts": [],
       "displayType": "redashChart",
       "error": null,
       "errorDetails": null,
       "errorSummary": null,
       "errorTraceType": null,
       "finishTime": 0,
       "globalVars": {},
       "guid": "",
       "height": "auto",
       "hideCommandCode": false,
       "hideCommandResult": false,
       "iPythonMetadata": null,
       "inputWidgets": {},
       "isLockedInExamMode": false,
       "latestUser": "a user",
       "latestUserId": null,
       "listResultMetadata": null,
       "metadata": {},
       "nuid": "206a4d46-2b3a-42be-a044-ed5dc0906a5d",
       "origId": 0,
       "parentHierarchy": [],
       "pivotAggregation": null,
       "pivotColumns": null,
       "position": 5.75,
       "resultDbfsErrorMessage": null,
       "resultDbfsStatus": "INLINED_IN_TREE",
       "results": null,
       "showCommandTitle": false,
       "startTime": 0,
       "state": "input",
       "streamStates": {},
       "subcommandOptions": {
        "queryPlan": {
         "groups": [
          {
           "column": "total_admissions",
           "type": "column"
          }
         ],
         "selects": [
          {
           "column": "total_admissions",
           "type": "column"
          },
          {
           "alias": "column_86f26832100",
           "args": [
            {
             "column": "total_deaths",
             "type": "column"
            }
           ],
           "function": "SUM",
           "type": "function"
          },
          {
           "alias": "column_86f26832103",
           "args": [
            {
             "column": "mortality_rate_percent",
             "type": "column"
            }
           ],
           "function": "SUM",
           "type": "function"
          }
         ]
        }
       },
       "submitTime": 0,
       "subtype": "tableResultSubCmd.visualization",
       "tableResultIndex": 0,
       "tableResultSettingsMap": {},
       "useConsistentColors": false,
       "version": "CommandV1",
       "width": "auto",
       "workflows": [],
       "xColumns": null,
       "yColumns": null
      }
     },
     "output_type": "display_data"
    }
   ],
   "source": [
    "%sql\n",
    "SELECT COUNT(*) as total_mortality_count\n",
    "FROM mimicdata_2567611159492892.mimic.ADMISSIONS \n",
    "WHERE hospital_expire_flag = 1;\n",
    "\n",
    "SELECT \n",
    "    hospital_expire_flag,\n",
    "    COUNT(*) as count,\n",
    "    CASE \n",
    "        WHEN hospital_expire_flag = 1 THEN 'Deaths'\n",
    "        WHEN hospital_expire_flag = 0 THEN 'Survivors'\n",
    "        ELSE 'Unknown'\n",
    "    END as status\n",
    "FROM mimicdata_2567611159492892.mimic.ADMISSIONS \n",
    "GROUP BY hospital_expire_flag\n",
    "ORDER BY hospital_expire_flag;\n",
    "\n",
    "SELECT \n",
    "    COUNT(*) as total_admissions,\n",
    "    SUM(hospital_expire_flag) as total_deaths,\n",
    "    ROUND((SUM(hospital_expire_flag) * 100.0 / COUNT(*)), 2) as mortality_rate_percent\n",
    "FROM mimicdata_2567611159492892.mimic.ADMISSIONS;"
   ]
  },
  {
   "cell_type": "code",
   "execution_count": 0,
   "metadata": {
    "application/vnd.databricks.v1+cell": {
     "cellMetadata": {
      "byteLimit": 2048000,
      "implicitDf": true,
      "rowLimit": 10000
     },
     "inputWidgets": {},
     "nuid": "e59b0a03-f976-4cff-a42e-f44bb1317092",
     "showTitle": true,
     "tableResultSettingsMap": {},
     "title": "length of stay"
    }
   },
   "outputs": [
    {
     "output_type": "display_data",
     "data": {
      "text/html": [
       "<style scoped>\n",
       "  .table-result-container {\n",
       "    max-height: 300px;\n",
       "    overflow: auto;\n",
       "  }\n",
       "  table, th, td {\n",
       "    border: 1px solid black;\n",
       "    border-collapse: collapse;\n",
       "  }\n",
       "  th, td {\n",
       "    padding: 5px;\n",
       "  }\n",
       "  th {\n",
       "    text-align: left;\n",
       "  }\n",
       "</style><div class='table-result-container'><table class='table-result'><thead style='background-color: white'><tr><th>month_year</th><th>avg_length_of_stay_days</th><th>admission_count</th></tr></thead><tbody><tr><td>2102-08</td><td>8.0</td><td>1</td></tr><tr><td>2104-09</td><td>6.0</td><td>1</td></tr><tr><td>2104-10</td><td>8.0</td><td>1</td></tr><tr><td>2105-05</td><td>13.0</td><td>1</td></tr><tr><td>2106-08</td><td>1.0</td><td>1</td></tr><tr><td>2107-01</td><td>14.67</td><td>3</td></tr><tr><td>2107-03</td><td>9.0</td><td>1</td></tr><tr><td>2107-05</td><td>6.0</td><td>1</td></tr><tr><td>2110-12</td><td>16.0</td><td>1</td></tr><tr><td>2112-02</td><td>7.0</td><td>1</td></tr><tr><td>2112-05</td><td>6.67</td><td>3</td></tr><tr><td>2115-05</td><td>3.0</td><td>1</td></tr><tr><td>2117-03</td><td>10.0</td><td>1</td></tr><tr><td>2117-08</td><td>9.5</td><td>2</td></tr><tr><td>2118-10</td><td>3.0</td><td>1</td></tr><tr><td>2119-10</td><td>28.0</td><td>1</td></tr><tr><td>2120-08</td><td>7.0</td><td>1</td></tr><tr><td>2121-12</td><td>5.0</td><td>1</td></tr><tr><td>2123-08</td><td>25.0</td><td>1</td></tr><tr><td>2123-11</td><td>36.0</td><td>1</td></tr><tr><td>2124-01</td><td>2.0</td><td>1</td></tr><tr><td>2125-10</td><td>3.0</td><td>1</td></tr><tr><td>2126-08</td><td>14.0</td><td>1</td></tr><tr><td>2127-03</td><td>0.0</td><td>1</td></tr><tr><td>2127-07</td><td>12.0</td><td>1</td></tr><tr><td>2127-10</td><td>22.0</td><td>1</td></tr><tr><td>2128-03</td><td>2.0</td><td>1</td></tr><tr><td>2128-11</td><td>5.0</td><td>1</td></tr><tr><td>2129-03</td><td>4.0</td><td>1</td></tr><tr><td>2129-05</td><td>4.0</td><td>1</td></tr><tr><td>2129-11</td><td>7.0</td><td>1</td></tr><tr><td>2130-02</td><td>6.0</td><td>1</td></tr><tr><td>2130-08</td><td>6.0</td><td>1</td></tr><tr><td>2130-10</td><td>0.0</td><td>1</td></tr><tr><td>2131-07</td><td>2.0</td><td>1</td></tr><tr><td>2132-08</td><td>3.0</td><td>1</td></tr><tr><td>2132-12</td><td>3.0</td><td>1</td></tr><tr><td>2135-10</td><td>3.0</td><td>1</td></tr><tr><td>2138-04</td><td>13.0</td><td>1</td></tr><tr><td>2138-06</td><td>6.0</td><td>1</td></tr><tr><td>2138-11</td><td>9.0</td><td>1</td></tr><tr><td>2139-09</td><td>10.0</td><td>1</td></tr><tr><td>2141-01</td><td>1.0</td><td>1</td></tr><tr><td>2142-11</td><td>4.0</td><td>1</td></tr><tr><td>2144-02</td><td>12.0</td><td>1</td></tr><tr><td>2144-07</td><td>67.0</td><td>2</td></tr><tr><td>2144-10</td><td>9.0</td><td>1</td></tr><tr><td>2144-12</td><td>7.0</td><td>1</td></tr><tr><td>2145-07</td><td>13.0</td><td>1</td></tr><tr><td>2145-09</td><td>3.0</td><td>1</td></tr><tr><td>2145-12</td><td>17.0</td><td>1</td></tr><tr><td>2146-07</td><td>1.0</td><td>1</td></tr><tr><td>2147-02</td><td>7.5</td><td>2</td></tr><tr><td>2147-10</td><td>32.0</td><td>1</td></tr><tr><td>2148-01</td><td>6.0</td><td>1</td></tr><tr><td>2149-05</td><td>8.0</td><td>1</td></tr><tr><td>2150-08</td><td>6.5</td><td>2</td></tr><tr><td>2151-08</td><td>4.0</td><td>1</td></tr><tr><td>2151-09</td><td>3.0</td><td>1</td></tr><tr><td>2152-10</td><td>4.5</td><td>2</td></tr><tr><td>2155-03</td><td>3.0</td><td>1</td></tr><tr><td>2155-12</td><td>8.0</td><td>1</td></tr><tr><td>2159-11</td><td>5.0</td><td>1</td></tr><tr><td>2160-05</td><td>4.0</td><td>1</td></tr><tr><td>2160-12</td><td>3.0</td><td>2</td></tr><tr><td>2161-01</td><td>20.0</td><td>1</td></tr><tr><td>2161-09</td><td>5.0</td><td>1</td></tr><tr><td>2162-01</td><td>3.0</td><td>1</td></tr><tr><td>2163-05</td><td>1.0</td><td>1</td></tr><tr><td>2163-11</td><td>10.0</td><td>1</td></tr><tr><td>2164-10</td><td>9.0</td><td>1</td></tr><tr><td>2165-12</td><td>6.0</td><td>1</td></tr><tr><td>2166-02</td><td>14.0</td><td>1</td></tr><tr><td>2167-02</td><td>8.0</td><td>1</td></tr><tr><td>2169-05</td><td>6.0</td><td>1</td></tr><tr><td>2170-12</td><td>5.0</td><td>2</td></tr><tr><td>2171-07</td><td>35.0</td><td>1</td></tr><tr><td>2171-10</td><td>7.0</td><td>1</td></tr><tr><td>2173-11</td><td>3.0</td><td>1</td></tr><tr><td>2175-10</td><td>4.0</td><td>1</td></tr><tr><td>2176-07</td><td>4.0</td><td>1</td></tr><tr><td>2178-05</td><td>1.0</td><td>1</td></tr><tr><td>2179-04</td><td>6.0</td><td>1</td></tr><tr><td>2180-01</td><td>18.0</td><td>1</td></tr><tr><td>2180-02</td><td>10.0</td><td>1</td></tr><tr><td>2180-03</td><td>5.0</td><td>1</td></tr><tr><td>2180-07</td><td>1.0</td><td>1</td></tr><tr><td>2184-08</td><td>6.0</td><td>1</td></tr><tr><td>2185-03</td><td>2.0</td><td>1</td></tr><tr><td>2185-04</td><td>12.0</td><td>1</td></tr><tr><td>2186-02</td><td>3.0</td><td>1</td></tr><tr><td>2186-07</td><td>1.0</td><td>1</td></tr><tr><td>2188-02</td><td>19.0</td><td>1</td></tr><tr><td>2189-09</td><td>12.0</td><td>1</td></tr><tr><td>2190-07</td><td>12.0</td><td>1</td></tr><tr><td>2192-03</td><td>10.0</td><td>1</td></tr><tr><td>2192-04</td><td>29.0</td><td>1</td></tr><tr><td>2192-11</td><td>17.0</td><td>1</td></tr><tr><td>2193-10</td><td>5.0</td><td>1</td></tr><tr><td>2194-07</td><td>11.0</td><td>1</td></tr><tr><td>2195-05</td><td>7.0</td><td>1</td></tr><tr><td>2198-06</td><td>30.5</td><td>2</td></tr><tr><td>2198-10</td><td>7.0</td><td>1</td></tr><tr><td>2199-01</td><td>8.5</td><td>2</td></tr><tr><td>2200-03</td><td>11.0</td><td>1</td></tr><tr><td>2200-06</td><td>4.0</td><td>1</td></tr><tr><td>2200-10</td><td>5.0</td><td>1</td></tr><tr><td>2201-05</td><td>7.0</td><td>1</td></tr><tr><td>2201-08</td><td>3.0</td><td>1</td></tr><tr><td>2201-09</td><td>3.0</td><td>1</td></tr><tr><td>2201-11</td><td>3.0</td><td>1</td></tr><tr><td>2201-12</td><td>3.0</td><td>1</td></tr><tr><td>2202-02</td><td>4.0</td><td>1</td></tr><tr><td>2202-05</td><td>3.0</td><td>1</td></tr><tr><td>2202-09</td><td>7.0</td><td>1</td></tr><tr><td>2202-10</td><td>8.0</td><td>1</td></tr></tbody></table></div>"
      ]
     },
     "metadata": {
      "application/vnd.databricks.v1+output": {
       "addedWidgets": {},
       "aggData": [],
       "aggError": "",
       "aggOverflow": false,
       "aggSchema": [],
       "aggSeriesLimitReached": false,
       "aggType": "",
       "arguments": {},
       "columnCustomDisplayInfos": {},
       "data": [
        [
         "2102-08",
         8.0,
         1
        ],
        [
         "2104-09",
         6.0,
         1
        ],
        [
         "2104-10",
         8.0,
         1
        ],
        [
         "2105-05",
         13.0,
         1
        ],
        [
         "2106-08",
         1.0,
         1
        ],
        [
         "2107-01",
         14.67,
         3
        ],
        [
         "2107-03",
         9.0,
         1
        ],
        [
         "2107-05",
         6.0,
         1
        ],
        [
         "2110-12",
         16.0,
         1
        ],
        [
         "2112-02",
         7.0,
         1
        ],
        [
         "2112-05",
         6.67,
         3
        ],
        [
         "2115-05",
         3.0,
         1
        ],
        [
         "2117-03",
         10.0,
         1
        ],
        [
         "2117-08",
         9.5,
         2
        ],
        [
         "2118-10",
         3.0,
         1
        ],
        [
         "2119-10",
         28.0,
         1
        ],
        [
         "2120-08",
         7.0,
         1
        ],
        [
         "2121-12",
         5.0,
         1
        ],
        [
         "2123-08",
         25.0,
         1
        ],
        [
         "2123-11",
         36.0,
         1
        ],
        [
         "2124-01",
         2.0,
         1
        ],
        [
         "2125-10",
         3.0,
         1
        ],
        [
         "2126-08",
         14.0,
         1
        ],
        [
         "2127-03",
         0.0,
         1
        ],
        [
         "2127-07",
         12.0,
         1
        ],
        [
         "2127-10",
         22.0,
         1
        ],
        [
         "2128-03",
         2.0,
         1
        ],
        [
         "2128-11",
         5.0,
         1
        ],
        [
         "2129-03",
         4.0,
         1
        ],
        [
         "2129-05",
         4.0,
         1
        ],
        [
         "2129-11",
         7.0,
         1
        ],
        [
         "2130-02",
         6.0,
         1
        ],
        [
         "2130-08",
         6.0,
         1
        ],
        [
         "2130-10",
         0.0,
         1
        ],
        [
         "2131-07",
         2.0,
         1
        ],
        [
         "2132-08",
         3.0,
         1
        ],
        [
         "2132-12",
         3.0,
         1
        ],
        [
         "2135-10",
         3.0,
         1
        ],
        [
         "2138-04",
         13.0,
         1
        ],
        [
         "2138-06",
         6.0,
         1
        ],
        [
         "2138-11",
         9.0,
         1
        ],
        [
         "2139-09",
         10.0,
         1
        ],
        [
         "2141-01",
         1.0,
         1
        ],
        [
         "2142-11",
         4.0,
         1
        ],
        [
         "2144-02",
         12.0,
         1
        ],
        [
         "2144-07",
         67.0,
         2
        ],
        [
         "2144-10",
         9.0,
         1
        ],
        [
         "2144-12",
         7.0,
         1
        ],
        [
         "2145-07",
         13.0,
         1
        ],
        [
         "2145-09",
         3.0,
         1
        ],
        [
         "2145-12",
         17.0,
         1
        ],
        [
         "2146-07",
         1.0,
         1
        ],
        [
         "2147-02",
         7.5,
         2
        ],
        [
         "2147-10",
         32.0,
         1
        ],
        [
         "2148-01",
         6.0,
         1
        ],
        [
         "2149-05",
         8.0,
         1
        ],
        [
         "2150-08",
         6.5,
         2
        ],
        [
         "2151-08",
         4.0,
         1
        ],
        [
         "2151-09",
         3.0,
         1
        ],
        [
         "2152-10",
         4.5,
         2
        ],
        [
         "2155-03",
         3.0,
         1
        ],
        [
         "2155-12",
         8.0,
         1
        ],
        [
         "2159-11",
         5.0,
         1
        ],
        [
         "2160-05",
         4.0,
         1
        ],
        [
         "2160-12",
         3.0,
         2
        ],
        [
         "2161-01",
         20.0,
         1
        ],
        [
         "2161-09",
         5.0,
         1
        ],
        [
         "2162-01",
         3.0,
         1
        ],
        [
         "2163-05",
         1.0,
         1
        ],
        [
         "2163-11",
         10.0,
         1
        ],
        [
         "2164-10",
         9.0,
         1
        ],
        [
         "2165-12",
         6.0,
         1
        ],
        [
         "2166-02",
         14.0,
         1
        ],
        [
         "2167-02",
         8.0,
         1
        ],
        [
         "2169-05",
         6.0,
         1
        ],
        [
         "2170-12",
         5.0,
         2
        ],
        [
         "2171-07",
         35.0,
         1
        ],
        [
         "2171-10",
         7.0,
         1
        ],
        [
         "2173-11",
         3.0,
         1
        ],
        [
         "2175-10",
         4.0,
         1
        ],
        [
         "2176-07",
         4.0,
         1
        ],
        [
         "2178-05",
         1.0,
         1
        ],
        [
         "2179-04",
         6.0,
         1
        ],
        [
         "2180-01",
         18.0,
         1
        ],
        [
         "2180-02",
         10.0,
         1
        ],
        [
         "2180-03",
         5.0,
         1
        ],
        [
         "2180-07",
         1.0,
         1
        ],
        [
         "2184-08",
         6.0,
         1
        ],
        [
         "2185-03",
         2.0,
         1
        ],
        [
         "2185-04",
         12.0,
         1
        ],
        [
         "2186-02",
         3.0,
         1
        ],
        [
         "2186-07",
         1.0,
         1
        ],
        [
         "2188-02",
         19.0,
         1
        ],
        [
         "2189-09",
         12.0,
         1
        ],
        [
         "2190-07",
         12.0,
         1
        ],
        [
         "2192-03",
         10.0,
         1
        ],
        [
         "2192-04",
         29.0,
         1
        ],
        [
         "2192-11",
         17.0,
         1
        ],
        [
         "2193-10",
         5.0,
         1
        ],
        [
         "2194-07",
         11.0,
         1
        ],
        [
         "2195-05",
         7.0,
         1
        ],
        [
         "2198-06",
         30.5,
         2
        ],
        [
         "2198-10",
         7.0,
         1
        ],
        [
         "2199-01",
         8.5,
         2
        ],
        [
         "2200-03",
         11.0,
         1
        ],
        [
         "2200-06",
         4.0,
         1
        ],
        [
         "2200-10",
         5.0,
         1
        ],
        [
         "2201-05",
         7.0,
         1
        ],
        [
         "2201-08",
         3.0,
         1
        ],
        [
         "2201-09",
         3.0,
         1
        ],
        [
         "2201-11",
         3.0,
         1
        ],
        [
         "2201-12",
         3.0,
         1
        ],
        [
         "2202-02",
         4.0,
         1
        ],
        [
         "2202-05",
         3.0,
         1
        ],
        [
         "2202-09",
         7.0,
         1
        ],
        [
         "2202-10",
         8.0,
         1
        ]
       ],
       "datasetInfos": [],
       "dbfsResultPath": null,
       "isJsonSchema": true,
       "metadata": {
        "dataframeName": "_sqldf",
        "executionCount": 6
       },
       "overflow": false,
       "plotOptions": {
        "customPlotOptions": {},
        "displayType": "table",
        "pivotAggregation": null,
        "pivotColumns": null,
        "xColumns": null,
        "yColumns": null
       },
       "removedWidgets": [],
       "schema": [
        {
         "metadata": "{}",
         "name": "month_year",
         "type": "\"string\""
        },
        {
         "metadata": "{}",
         "name": "avg_length_of_stay_days",
         "type": "\"double\""
        },
        {
         "metadata": "{}",
         "name": "admission_count",
         "type": "\"long\""
        }
       ],
       "type": "table"
      }
     },
     "output_type": "display_data"
    },
    {
     "output_type": "display_data",
     "data": {
      "text/plain": [
       "Databricks visualization. Run in Databricks to view."
      ]
     },
     "metadata": {
      "application/vnd.databricks.v1.subcommand+json": {
       "baseErrorDetails": null,
       "bindings": {},
       "collapsed": false,
       "command": "%sql WITH q AS (SELECT \n    DATE_FORMAT(admittime, 'yyyy-MM') as month_year,\n    ROUND(AVG(DATEDIFF(dischtime, admittime)), 2) as avg_length_of_stay_days,\n    COUNT(*) as admission_count\nFROM \n    mimicdata.mimic.admissions\nWHERE \n    dischtime IS NOT NULL AND admittime IS NOT NULL\nGROUP BY \n    month_year\nORDER BY \n    month_year) ,min_max AS (SELECT `avg_length_of_stay_days`,(SELECT MAX(`avg_length_of_stay_days`) FROM q) `target_column_max`,(SELECT MIN(`avg_length_of_stay_days`) FROM q) `target_column_min` FROM q) ,histogram_meta AS (SELECT `avg_length_of_stay_days`,`target_column_min` `min_value`,IF(`target_column_max` = `target_column_min`,`target_column_max` + 1,`target_column_max`) `max_value`,(`target_column_max` - `target_column_min`) / 17 `step` FROM min_max) SELECT IF(ISNULL(`avg_length_of_stay_days`),NULL,LEAST(WIDTH_BUCKET(`avg_length_of_stay_days`,`min_value`,`max_value`,17),17)) `avg_length_of_stay_days_BIN`,FIRST(`min_value` + ((IF(ISNULL(`avg_length_of_stay_days`),NULL,LEAST(WIDTH_BUCKET(`avg_length_of_stay_days`,`min_value`,`max_value`,17),17)) - 1) * `step`)) `avg_length_of_stay_days_BIN_LOWER_BOUND`,FIRST(`step`) `avg_length_of_stay_days_BIN_STEP`,COUNT(`avg_length_of_stay_days`) `COUNT` FROM histogram_meta GROUP BY `avg_length_of_stay_days_BIN`",
       "commandTitle": "Visualization 1",
       "commandType": "auto",
       "commandVersion": 0,
       "commentThread": [],
       "commentsVisible": false,
       "contentSha256Hex": null,
       "customPlotOptions": {
        "redashChart": [
         {
          "key": "type",
          "value": "CHART"
         },
         {
          "key": "options",
          "value": {
           "alignYAxesAtZero": true,
           "coefficient": 1,
           "columnConfigurationMap": {
            "x": {
             "column": "avg_length_of_stay_days",
             "id": "column_b66e6ce185"
            }
           },
           "dateTimeFormat": "DD/MM/YYYY HH:mm",
           "direction": {
            "type": "counterclockwise"
           },
           "error_y": {
            "type": "data",
            "visible": true
           },
           "globalSeriesType": "histogram",
           "isAggregationOn": true,
           "legend": {
            "traceorder": "normal"
           },
           "missingValuesAsZero": true,
           "numBins": 17,
           "numberFormat": "0,0.[00000]",
           "percentFormat": "0[.]00%",
           "series": {
            "error_y": {
             "type": "data",
             "visible": true
            },
            "stacking": null
           },
           "seriesOptions": {
            "column_b66e6ce187": {
             "type": "histogram",
             "yAxis": 0
            }
           },
           "showDataLabels": false,
           "sizemode": "diameter",
           "sortX": true,
           "sortY": true,
           "swappedAxes": false,
           "textFormat": "",
           "useAggregationsUi": true,
           "valuesOptions": {},
           "version": 2,
           "xAxis": {
            "labels": {
             "enabled": true
            },
            "type": "-"
           },
           "yAxis": [
            {
             "type": "-"
            },
            {
             "opposite": true,
             "type": "-"
            }
           ]
          }
         }
        ]
       },
       "datasetPreviewNameToCmdIdMap": {},
       "diffDeletes": [],
       "diffInserts": [],
       "displayType": "redashChart",
       "error": null,
       "errorDetails": null,
       "errorSummary": null,
       "errorTraceType": null,
       "finishTime": 0,
       "globalVars": {},
       "guid": "",
       "height": "auto",
       "hideCommandCode": false,
       "hideCommandResult": false,
       "iPythonMetadata": null,
       "inputWidgets": {},
       "isLockedInExamMode": false,
       "latestUser": "a user",
       "latestUserId": null,
       "listResultMetadata": null,
       "metadata": {},
       "nuid": "4acc684e-7e89-4505-9659-dffc5d7e85a2",
       "origId": 0,
       "parentHierarchy": [],
       "pivotAggregation": null,
       "pivotColumns": null,
       "position": 6.0,
       "resultDbfsErrorMessage": null,
       "resultDbfsStatus": "INLINED_IN_TREE",
       "results": null,
       "showCommandTitle": false,
       "startTime": 0,
       "state": "input",
       "streamStates": {},
       "subcommandOptions": {
        "queryPlan": {
         "groups": [
          {
           "column": "avg_length_of_stay_days_BIN",
           "type": "column"
          }
         ],
         "selects": [
          {
           "alias": "avg_length_of_stay_days_BIN",
           "args": [
            {
             "column": "avg_length_of_stay_days",
             "type": "column"
            },
            {
             "number": 17,
             "type": "number"
            }
           ],
           "function": "BIN",
           "type": "function"
          },
          {
           "alias": "avg_length_of_stay_days_BIN_LOWER_BOUND",
           "args": [
            {
             "column": "avg_length_of_stay_days",
             "type": "column"
            },
            {
             "number": 17,
             "type": "number"
            }
           ],
           "function": "BIN_LOWER_BOUND",
           "type": "function"
          },
          {
           "alias": "avg_length_of_stay_days_BIN_STEP",
           "args": [
            {
             "column": "avg_length_of_stay_days",
             "type": "column"
            },
            {
             "number": 17,
             "type": "number"
            }
           ],
           "function": "BIN_STEP",
           "type": "function"
          },
          {
           "alias": "COUNT",
           "args": [
            {
             "column": "avg_length_of_stay_days",
             "type": "column"
            }
           ],
           "function": "COUNT",
           "type": "function"
          }
         ]
        }
       },
       "submitTime": 0,
       "subtype": "tableResultSubCmd.visualization",
       "tableResultIndex": 0,
       "tableResultSettingsMap": {},
       "useConsistentColors": false,
       "version": "CommandV1",
       "width": "auto",
       "workflows": [],
       "xColumns": null,
       "yColumns": null
      }
     },
     "output_type": "display_data"
    }
   ],
   "source": [
    "%sql\n",
    "--Average length of stay\n",
    "SELECT \n",
    "    ROUND(AVG(DATEDIFF(dischtime, admittime)), 2) as avg_length_of_stay_days\n",
    "FROM \n",
    "    mimicdata_2567611159492892.mimic.admissions\n",
    "WHERE \n",
    "    dischtime IS NOT NULL AND admittime IS NOT NULL;\n",
    "\n",
    "-- Monthly trend\n",
    "SELECT \n",
    "    DATE_FORMAT(admittime, 'yyyy-MM') as month_year,\n",
    "    ROUND(AVG(DATEDIFF(dischtime, admittime)), 2) as avg_length_of_stay_days,\n",
    "    COUNT(*) as admission_count\n",
    "FROM \n",
    "    mimicdata_2567611159492892.mimic.admissions\n",
    "WHERE \n",
    "    dischtime IS NOT NULL AND admittime IS NOT NULL\n",
    "GROUP BY \n",
    "    month_year\n",
    "ORDER BY \n",
    "    month_year;"
   ]
  },
  {
   "cell_type": "code",
   "execution_count": 0,
   "metadata": {
    "application/vnd.databricks.v1+cell": {
     "cellMetadata": {
      "byteLimit": 2048000,
      "implicitDf": true,
      "rowLimit": 10000
     },
     "inputWidgets": {},
     "nuid": "88fc70bb-600f-4cf6-a44b-5bf875668120",
     "showTitle": true,
     "tableResultSettingsMap": {},
     "title": "diagnosis type"
    }
   },
   "outputs": [
    {
     "output_type": "display_data",
     "data": {
      "text/html": [
       "<style scoped>\n",
       "  .table-result-container {\n",
       "    max-height: 300px;\n",
       "    overflow: auto;\n",
       "  }\n",
       "  table, th, td {\n",
       "    border: 1px solid black;\n",
       "    border-collapse: collapse;\n",
       "  }\n",
       "  th, td {\n",
       "    padding: 5px;\n",
       "  }\n",
       "  th {\n",
       "    text-align: left;\n",
       "  }\n",
       "</style><div class='table-result-container'><table class='table-result'><thead style='background-color: white'><tr><th>diagnosis</th><th>total_cases</th><th>deaths</th><th>mortality_rate</th></tr></thead><tbody><tr><td>SEPSIS</td><td>10</td><td>2</td><td>20.00</td></tr><tr><td>PNEUMONIA</td><td>8</td><td>0</td><td>0.00</td></tr><tr><td>FEVER</td><td>4</td><td>2</td><td>50.00</td></tr><tr><td>SHORTNESS OF BREATH</td><td>4</td><td>1</td><td>25.00</td></tr><tr><td>CONGESTIVE HEART FAILURE</td><td>3</td><td>2</td><td>66.67</td></tr><tr><td>FAILURE TO THRIVE</td><td>3</td><td>0</td><td>0.00</td></tr><tr><td>LIVER FAILURE</td><td>2</td><td>2</td><td>100.00</td></tr><tr><td>HYPOTENSION</td><td>2</td><td>1</td><td>50.00</td></tr><tr><td>UPPER GI BLEED</td><td>2</td><td>1</td><td>50.00</td></tr><tr><td>STROKE/TIA</td><td>2</td><td>1</td><td>50.00</td></tr><tr><td>GASTROINTESTINAL BLEED</td><td>2</td><td>0</td><td>0.00</td></tr><tr><td>ASTHMA;CHRONIC OBST PULM DISEASE</td><td>2</td><td>0</td><td>0.00</td></tr><tr><td>ESOPHAGEAL CA/SDA</td><td>2</td><td>0</td><td>0.00</td></tr><tr><td>RESPIRATORY DISTRESS</td><td>2</td><td>0</td><td>0.00</td></tr></tbody></table></div>"
      ]
     },
     "metadata": {
      "application/vnd.databricks.v1+output": {
       "addedWidgets": {},
       "aggData": [],
       "aggError": "",
       "aggOverflow": false,
       "aggSchema": [],
       "aggSeriesLimitReached": false,
       "aggType": "",
       "arguments": {},
       "columnCustomDisplayInfos": {},
       "data": [
        [
         "SEPSIS",
         10,
         2,
         "20.00"
        ],
        [
         "PNEUMONIA",
         8,
         0,
         "0.00"
        ],
        [
         "FEVER",
         4,
         2,
         "50.00"
        ],
        [
         "SHORTNESS OF BREATH",
         4,
         1,
         "25.00"
        ],
        [
         "CONGESTIVE HEART FAILURE",
         3,
         2,
         "66.67"
        ],
        [
         "FAILURE TO THRIVE",
         3,
         0,
         "0.00"
        ],
        [
         "LIVER FAILURE",
         2,
         2,
         "100.00"
        ],
        [
         "HYPOTENSION",
         2,
         1,
         "50.00"
        ],
        [
         "UPPER GI BLEED",
         2,
         1,
         "50.00"
        ],
        [
         "STROKE/TIA",
         2,
         1,
         "50.00"
        ],
        [
         "GASTROINTESTINAL BLEED",
         2,
         0,
         "0.00"
        ],
        [
         "ASTHMA;CHRONIC OBST PULM DISEASE",
         2,
         0,
         "0.00"
        ],
        [
         "ESOPHAGEAL CA/SDA",
         2,
         0,
         "0.00"
        ],
        [
         "RESPIRATORY DISTRESS",
         2,
         0,
         "0.00"
        ]
       ],
       "datasetInfos": [],
       "dbfsResultPath": null,
       "isJsonSchema": true,
       "metadata": {
        "dataframeName": "_sqldf",
        "executionCount": 7
       },
       "overflow": false,
       "plotOptions": {
        "customPlotOptions": {},
        "displayType": "table",
        "pivotAggregation": null,
        "pivotColumns": null,
        "xColumns": null,
        "yColumns": null
       },
       "removedWidgets": [],
       "schema": [
        {
         "metadata": "{}",
         "name": "diagnosis",
         "type": "\"string\""
        },
        {
         "metadata": "{}",
         "name": "total_cases",
         "type": "\"long\""
        },
        {
         "metadata": "{}",
         "name": "deaths",
         "type": "\"long\""
        },
        {
         "metadata": "{}",
         "name": "mortality_rate",
         "type": "\"decimal(27,2)\""
        }
       ],
       "type": "table"
      }
     },
     "output_type": "display_data"
    },
    {
     "output_type": "display_data",
     "data": {
      "text/plain": [
       "Databricks visualization. Run in Databricks to view."
      ]
     },
     "metadata": {
      "application/vnd.databricks.v1.subcommand+json": {
       "baseErrorDetails": null,
       "bindings": {},
       "collapsed": false,
       "command": "%sql WITH q AS (SELECT \n    diagnosis,\n    COUNT(*) as total_cases,\n    SUM(hospital_expire_flag) as deaths,\n    ROUND(SUM(hospital_expire_flag) * 100.0 / COUNT(*), 2) as mortality_rate\nFROM \n    mimicdata.mimic.admissions\nGROUP BY \n    diagnosis\nHAVING \n    total_cases > 1 \nORDER BY \n    total_cases DESC, mortality_rate DESC) SELECT `diagnosis`,SUM(`total_cases`) `column_b66e6ce195`,`diagnosis` FROM q GROUP BY `diagnosis`",
       "commandTitle": "Visualization 1",
       "commandType": "auto",
       "commandVersion": 0,
       "commentThread": [],
       "commentsVisible": false,
       "contentSha256Hex": null,
       "customPlotOptions": {
        "redashChart": [
         {
          "key": "type",
          "value": "CHART"
         },
         {
          "key": "options",
          "value": {
           "alignYAxesAtZero": true,
           "coefficient": 1,
           "columnConfigurationMap": {
            "series": {
             "column": "diagnosis",
             "id": "column_b66e6ce192"
            },
            "x": {
             "column": "diagnosis",
             "id": "column_b66e6ce193"
            },
            "y": [
             {
              "column": "total_cases",
              "id": "column_b66e6ce195",
              "transform": "SUM"
             }
            ]
           },
           "dateTimeFormat": "DD/MM/YYYY HH:mm",
           "direction": {
            "type": "counterclockwise"
           },
           "error_y": {
            "type": "data",
            "visible": true
           },
           "globalSeriesType": "column",
           "isAggregationOn": true,
           "legend": {
            "traceorder": "normal"
           },
           "missingValuesAsZero": true,
           "numberFormat": "0,0.[00000]",
           "percentFormat": "0[.]00%",
           "series": {
            "error_y": {
             "type": "data",
             "visible": true
            },
            "stacking": null
           },
           "seriesOptions": {
            "column_b66e6ce195": {
             "type": "column",
             "yAxis": 0
            }
           },
           "showDataLabels": false,
           "sizemode": "diameter",
           "sortX": true,
           "sortY": true,
           "swappedAxes": false,
           "textFormat": "",
           "useAggregationsUi": true,
           "valuesOptions": {},
           "version": 2,
           "xAxis": {
            "labels": {
             "enabled": true
            },
            "type": "-"
           },
           "yAxis": [
            {
             "type": "-"
            },
            {
             "opposite": true,
             "type": "-"
            }
           ]
          }
         }
        ]
       },
       "datasetPreviewNameToCmdIdMap": {},
       "diffDeletes": [],
       "diffInserts": [],
       "displayType": "redashChart",
       "error": null,
       "errorDetails": null,
       "errorSummary": null,
       "errorTraceType": null,
       "finishTime": 0,
       "globalVars": {},
       "guid": "",
       "height": "auto",
       "hideCommandCode": false,
       "hideCommandResult": false,
       "iPythonMetadata": null,
       "inputWidgets": {},
       "isLockedInExamMode": false,
       "latestUser": "a user",
       "latestUserId": null,
       "listResultMetadata": null,
       "metadata": {},
       "nuid": "86eec9af-af26-4fad-80d1-599c0b34f652",
       "origId": 0,
       "parentHierarchy": [],
       "pivotAggregation": null,
       "pivotColumns": null,
       "position": 8.0,
       "resultDbfsErrorMessage": null,
       "resultDbfsStatus": "INLINED_IN_TREE",
       "results": null,
       "showCommandTitle": false,
       "startTime": 0,
       "state": "input",
       "streamStates": {},
       "subcommandOptions": {
        "queryPlan": {
         "groups": [
          {
           "column": "diagnosis",
           "type": "column"
          },
          {
           "column": "diagnosis",
           "type": "column"
          }
         ],
         "selects": [
          {
           "column": "diagnosis",
           "type": "column"
          },
          {
           "alias": "column_b66e6ce195",
           "args": [
            {
             "column": "total_cases",
             "type": "column"
            }
           ],
           "function": "SUM",
           "type": "function"
          },
          {
           "column": "diagnosis",
           "type": "column"
          }
         ]
        }
       },
       "submitTime": 0,
       "subtype": "tableResultSubCmd.visualization",
       "tableResultIndex": 0,
       "tableResultSettingsMap": {},
       "useConsistentColors": false,
       "version": "CommandV1",
       "width": "auto",
       "workflows": [],
       "xColumns": null,
       "yColumns": null
      }
     },
     "output_type": "display_data"
    },
    {
     "output_type": "display_data",
     "data": {
      "text/plain": [
       "Databricks visualization. Run in Databricks to view."
      ]
     },
     "metadata": {
      "application/vnd.databricks.v1.subcommand+json": {
       "baseErrorDetails": null,
       "bindings": {},
       "collapsed": false,
       "command": "%sql WITH q AS (SELECT \n    diagnosis,\n    COUNT(*) as total_cases,\n    SUM(hospital_expire_flag) as deaths,\n    ROUND(SUM(hospital_expire_flag) * 100.0 / COUNT(*), 2) as mortality_rate\nFROM \n    mimicdata_2567611159492892.mimic.admissions\nGROUP BY \n    diagnosis\nHAVING \n    total_cases > 1 \nORDER BY \n    total_cases DESC, mortality_rate DESC) SELECT `diagnosis`,SUM(`deaths`) `column_8a0f91ae68` FROM q GROUP BY `diagnosis`",
       "commandTitle": "Visualization 2",
       "commandType": "auto",
       "commandVersion": 0,
       "commentThread": [],
       "commentsVisible": false,
       "contentSha256Hex": null,
       "customPlotOptions": {
        "redashChart": [
         {
          "key": "type",
          "value": "CHART"
         },
         {
          "key": "options",
          "value": {
           "alignYAxesAtZero": true,
           "coefficient": 1,
           "columnConfigurationMap": {
            "x": {
             "column": "diagnosis",
             "id": "column_8a0f91ae66"
            },
            "y": [
             {
              "column": "deaths",
              "id": "column_8a0f91ae68",
              "transform": "SUM"
             }
            ]
           },
           "dateTimeFormat": "DD/MM/YYYY HH:mm",
           "direction": {
            "type": "counterclockwise"
           },
           "error_y": {
            "type": "data",
            "visible": true
           },
           "globalSeriesType": "column",
           "isAggregationOn": true,
           "legend": {
            "traceorder": "normal"
           },
           "missingValuesAsZero": true,
           "numberFormat": "0,0.[00000]",
           "percentFormat": "0[.]00%",
           "series": {
            "error_y": {
             "type": "data",
             "visible": true
            },
            "stacking": null
           },
           "seriesOptions": {
            "column_8a0f91ae68": {
             "type": "column",
             "yAxis": 0
            }
           },
           "showDataLabels": false,
           "sizemode": "diameter",
           "sortX": true,
           "sortY": true,
           "swappedAxes": false,
           "textFormat": "",
           "useAggregationsUi": true,
           "valuesOptions": {},
           "version": 2,
           "xAxis": {
            "labels": {
             "enabled": true
            },
            "type": "-"
           },
           "yAxis": [
            {
             "type": "-"
            },
            {
             "opposite": true,
             "type": "-"
            }
           ]
          }
         }
        ]
       },
       "datasetPreviewNameToCmdIdMap": {},
       "diffDeletes": [],
       "diffInserts": [],
       "displayType": "redashChart",
       "error": null,
       "errorDetails": null,
       "errorSummary": null,
       "errorTraceType": null,
       "finishTime": 0,
       "globalVars": {},
       "guid": "",
       "height": "auto",
       "hideCommandCode": false,
       "hideCommandResult": false,
       "iPythonMetadata": null,
       "inputWidgets": {},
       "isLockedInExamMode": false,
       "latestUser": "a user",
       "latestUserId": null,
       "listResultMetadata": null,
       "metadata": {},
       "nuid": "49575a4f-e4c5-4b97-914b-f5d271fa65ae",
       "origId": 0,
       "parentHierarchy": [],
       "pivotAggregation": null,
       "pivotColumns": null,
       "position": 9.0,
       "resultDbfsErrorMessage": null,
       "resultDbfsStatus": "INLINED_IN_TREE",
       "results": null,
       "showCommandTitle": false,
       "startTime": 0,
       "state": "input",
       "streamStates": {},
       "subcommandOptions": {
        "queryPlan": {
         "groups": [
          {
           "column": "diagnosis",
           "type": "column"
          }
         ],
         "selects": [
          {
           "column": "diagnosis",
           "type": "column"
          },
          {
           "alias": "column_8a0f91ae68",
           "args": [
            {
             "column": "deaths",
             "type": "column"
            }
           ],
           "function": "SUM",
           "type": "function"
          }
         ]
        }
       },
       "submitTime": 0,
       "subtype": "tableResultSubCmd.visualization",
       "tableResultIndex": 0,
       "tableResultSettingsMap": {},
       "useConsistentColors": false,
       "version": "CommandV1",
       "width": "auto",
       "workflows": [],
       "xColumns": null,
       "yColumns": null
      }
     },
     "output_type": "display_data"
    },
    {
     "output_type": "display_data",
     "data": {
      "text/plain": [
       "Databricks visualization. Run in Databricks to view."
      ]
     },
     "metadata": {
      "application/vnd.databricks.v1.subcommand+json": {
       "baseErrorDetails": null,
       "bindings": {},
       "collapsed": false,
       "command": "%sql WITH q AS (SELECT \n    diagnosis,\n    COUNT(*) as total_cases,\n    SUM(hospital_expire_flag) as deaths,\n    ROUND(SUM(hospital_expire_flag) * 100.0 / COUNT(*), 2) as mortality_rate\nFROM \n    mimicdata_2567611159492892.mimic.admissions\nGROUP BY \n    diagnosis\nHAVING \n    total_cases > 1 \nORDER BY \n    total_cases DESC, mortality_rate DESC) SELECT `diagnosis`,SUM(`mortality_rate`) `column_8a0f91ae72` FROM q GROUP BY `diagnosis`",
       "commandTitle": "Visualization 3",
       "commandType": "auto",
       "commandVersion": 0,
       "commentThread": [],
       "commentsVisible": false,
       "contentSha256Hex": null,
       "customPlotOptions": {
        "redashChart": [
         {
          "key": "type",
          "value": "CHART"
         },
         {
          "key": "options",
          "value": {
           "alignYAxesAtZero": true,
           "coefficient": 1,
           "columnConfigurationMap": {
            "x": {
             "column": "diagnosis",
             "id": "column_8a0f91ae70"
            },
            "y": [
             {
              "column": "mortality_rate",
              "id": "column_8a0f91ae72",
              "transform": "SUM"
             }
            ]
           },
           "dateTimeFormat": "DD/MM/YYYY HH:mm",
           "direction": {
            "type": "counterclockwise"
           },
           "error_y": {
            "type": "data",
            "visible": true
           },
           "globalSeriesType": "column",
           "isAggregationOn": true,
           "legend": {
            "traceorder": "normal"
           },
           "missingValuesAsZero": true,
           "numberFormat": "0,0.[00000]",
           "percentFormat": "0[.]00%",
           "series": {
            "error_y": {
             "type": "data",
             "visible": true
            },
            "stacking": null
           },
           "seriesOptions": {
            "column_8a0f91ae72": {
             "type": "column",
             "yAxis": 0
            }
           },
           "showDataLabels": false,
           "sizemode": "diameter",
           "sortX": true,
           "sortY": true,
           "swappedAxes": false,
           "textFormat": "",
           "useAggregationsUi": true,
           "valuesOptions": {},
           "version": 2,
           "xAxis": {
            "labels": {
             "enabled": true
            },
            "type": "-"
           },
           "yAxis": [
            {
             "type": "-"
            },
            {
             "opposite": true,
             "type": "-"
            }
           ]
          }
         }
        ]
       },
       "datasetPreviewNameToCmdIdMap": {},
       "diffDeletes": [],
       "diffInserts": [],
       "displayType": "redashChart",
       "error": null,
       "errorDetails": null,
       "errorSummary": null,
       "errorTraceType": null,
       "finishTime": 0,
       "globalVars": {},
       "guid": "",
       "height": "auto",
       "hideCommandCode": false,
       "hideCommandResult": false,
       "iPythonMetadata": null,
       "inputWidgets": {},
       "isLockedInExamMode": false,
       "latestUser": "a user",
       "latestUserId": null,
       "listResultMetadata": null,
       "metadata": {},
       "nuid": "9b62d193-8808-4007-ac57-4199ba8b3913",
       "origId": 0,
       "parentHierarchy": [],
       "pivotAggregation": null,
       "pivotColumns": null,
       "position": 10.0,
       "resultDbfsErrorMessage": null,
       "resultDbfsStatus": "INLINED_IN_TREE",
       "results": null,
       "showCommandTitle": false,
       "startTime": 0,
       "state": "input",
       "streamStates": {},
       "subcommandOptions": {
        "queryPlan": {
         "groups": [
          {
           "column": "diagnosis",
           "type": "column"
          }
         ],
         "selects": [
          {
           "column": "diagnosis",
           "type": "column"
          },
          {
           "alias": "column_8a0f91ae72",
           "args": [
            {
             "column": "mortality_rate",
             "type": "column"
            }
           ],
           "function": "SUM",
           "type": "function"
          }
         ]
        }
       },
       "submitTime": 0,
       "subtype": "tableResultSubCmd.visualization",
       "tableResultIndex": 0,
       "tableResultSettingsMap": {},
       "useConsistentColors": false,
       "version": "CommandV1",
       "width": "auto",
       "workflows": [],
       "xColumns": null,
       "yColumns": null
      }
     },
     "output_type": "display_data"
    }
   ],
   "source": [
    "%sql\n",
    "SELECT \n",
    "    diagnosis,\n",
    "    COUNT(*) as total_cases,\n",
    "    SUM(hospital_expire_flag) as deaths,\n",
    "    ROUND(SUM(hospital_expire_flag) * 100.0 / COUNT(*), 2) as mortality_rate\n",
    "FROM \n",
    "    mimicdata_2567611159492892.mimic.admissions\n",
    "GROUP BY \n",
    "    diagnosis\n",
    "HAVING \n",
    "    total_cases > 1 -- Filter for statistical significance\n",
    "ORDER BY \n",
    "    total_cases DESC, mortality_rate DESC;"
   ]
  },
  {
   "cell_type": "code",
   "execution_count": 0,
   "metadata": {
    "application/vnd.databricks.v1+cell": {
     "cellMetadata": {
      "byteLimit": 2048000,
      "implicitDf": true,
      "rowLimit": 10000
     },
     "inputWidgets": {},
     "nuid": "a3b0bce2-ea33-4cde-a3b2-8de287a0b5b9",
     "showTitle": true,
     "tableResultSettingsMap": {},
     "title": "top 10"
    }
   },
   "outputs": [
    {
     "output_type": "display_data",
     "data": {
      "text/html": [
       "<style scoped>\n",
       "  .table-result-container {\n",
       "    max-height: 300px;\n",
       "    overflow: auto;\n",
       "  }\n",
       "  table, th, td {\n",
       "    border: 1px solid black;\n",
       "    border-collapse: collapse;\n",
       "  }\n",
       "  th, td {\n",
       "    padding: 5px;\n",
       "  }\n",
       "  th {\n",
       "    text-align: left;\n",
       "  }\n",
       "</style><div class='table-result-container'><table class='table-result'><thead style='background-color: white'><tr><th>diagnosis</th><th>count</th><th>percentage</th></tr></thead><tbody><tr><td>SEPSIS</td><td>10</td><td>7.75</td></tr><tr><td>PNEUMONIA</td><td>8</td><td>6.20</td></tr><tr><td>SHORTNESS OF BREATH</td><td>4</td><td>3.10</td></tr><tr><td>FEVER</td><td>4</td><td>3.10</td></tr><tr><td>CONGESTIVE HEART FAILURE</td><td>3</td><td>2.33</td></tr><tr><td>FAILURE TO THRIVE</td><td>3</td><td>2.33</td></tr><tr><td>ASTHMA;CHRONIC OBST PULM DISEASE</td><td>2</td><td>1.55</td></tr><tr><td>UPPER GI BLEED</td><td>2</td><td>1.55</td></tr><tr><td>GASTROINTESTINAL BLEED</td><td>2</td><td>1.55</td></tr><tr><td>LIVER FAILURE</td><td>2</td><td>1.55</td></tr></tbody></table></div>"
      ]
     },
     "metadata": {
      "application/vnd.databricks.v1+output": {
       "addedWidgets": {},
       "aggData": [],
       "aggError": "",
       "aggOverflow": false,
       "aggSchema": [],
       "aggSeriesLimitReached": false,
       "aggType": "",
       "arguments": {},
       "columnCustomDisplayInfos": {},
       "data": [
        [
         "SEPSIS",
         10,
         "7.75"
        ],
        [
         "PNEUMONIA",
         8,
         "6.20"
        ],
        [
         "SHORTNESS OF BREATH",
         4,
         "3.10"
        ],
        [
         "FEVER",
         4,
         "3.10"
        ],
        [
         "CONGESTIVE HEART FAILURE",
         3,
         "2.33"
        ],
        [
         "FAILURE TO THRIVE",
         3,
         "2.33"
        ],
        [
         "ASTHMA;CHRONIC OBST PULM DISEASE",
         2,
         "1.55"
        ],
        [
         "UPPER GI BLEED",
         2,
         "1.55"
        ],
        [
         "GASTROINTESTINAL BLEED",
         2,
         "1.55"
        ],
        [
         "LIVER FAILURE",
         2,
         "1.55"
        ]
       ],
       "datasetInfos": [],
       "dbfsResultPath": null,
       "isJsonSchema": true,
       "metadata": {
        "dataframeName": "_sqldf",
        "executionCount": 8
       },
       "overflow": false,
       "plotOptions": {
        "customPlotOptions": {},
        "displayType": "table",
        "pivotAggregation": null,
        "pivotColumns": null,
        "xColumns": null,
        "yColumns": null
       },
       "removedWidgets": [],
       "schema": [
        {
         "metadata": "{}",
         "name": "diagnosis",
         "type": "\"string\""
        },
        {
         "metadata": "{}",
         "name": "count",
         "type": "\"long\""
        },
        {
         "metadata": "{}",
         "name": "percentage",
         "type": "\"decimal(27,2)\""
        }
       ],
       "type": "table"
      }
     },
     "output_type": "display_data"
    },
    {
     "output_type": "display_data",
     "data": {
      "text/plain": [
       "Databricks visualization. Run in Databricks to view."
      ]
     },
     "metadata": {
      "application/vnd.databricks.v1.subcommand+json": {
       "baseErrorDetails": null,
       "bindings": {},
       "collapsed": false,
       "command": "%sql WITH q AS (SELECT \n    diagnosis,\n    COUNT(*) as count,\n    ROUND(COUNT(*) * 100.0 / (SELECT COUNT(*) FROM mimicdata_2567611159492892.mimic.admissions), 2) as percentage\nFROM \n    mimicdata_2567611159492892.mimic.admissions\nGROUP BY \n    diagnosis\nORDER BY \n    count DESC\nLIMIT 10) SELECT `diagnosis`,SUM(`percentage`) `column_8a0f91ae75`,`diagnosis` FROM q GROUP BY `diagnosis`",
       "commandTitle": "Visualization 1",
       "commandType": "auto",
       "commandVersion": 0,
       "commentThread": [],
       "commentsVisible": false,
       "contentSha256Hex": null,
       "customPlotOptions": {
        "redashChart": [
         {
          "key": "type",
          "value": "CHART"
         },
         {
          "key": "options",
          "value": {
           "alignYAxesAtZero": true,
           "coefficient": 1,
           "columnConfigurationMap": {
            "series": {
             "column": "diagnosis",
             "id": "column_8a0f91ae76"
            },
            "x": {
             "column": "diagnosis",
             "id": "column_8a0f91ae77"
            },
            "y": [
             {
              "column": "percentage",
              "id": "column_8a0f91ae75",
              "transform": "SUM"
             }
            ]
           },
           "dateTimeFormat": "DD/MM/YYYY HH:mm",
           "direction": {
            "type": "counterclockwise"
           },
           "error_y": {
            "type": "data",
            "visible": true
           },
           "globalSeriesType": "column",
           "isAggregationOn": true,
           "legend": {
            "traceorder": "normal"
           },
           "missingValuesAsZero": true,
           "numberFormat": "0,0.[00000]",
           "percentFormat": "0[.]00%",
           "series": {
            "error_y": {
             "type": "data",
             "visible": true
            },
            "stacking": null
           },
           "seriesOptions": {
            "column_8a0f91ae75": {
             "name": "percentage",
             "type": "column",
             "yAxis": 0
            }
           },
           "showDataLabels": false,
           "sizemode": "diameter",
           "sortX": true,
           "sortY": true,
           "swappedAxes": false,
           "textFormat": "",
           "useAggregationsUi": true,
           "valuesOptions": {},
           "version": 2,
           "xAxis": {
            "labels": {
             "enabled": true
            },
            "type": "-"
           },
           "yAxis": [
            {
             "type": "-"
            },
            {
             "opposite": true,
             "type": "-"
            }
           ]
          }
         }
        ]
       },
       "datasetPreviewNameToCmdIdMap": {},
       "diffDeletes": [],
       "diffInserts": [],
       "displayType": "redashChart",
       "error": null,
       "errorDetails": null,
       "errorSummary": null,
       "errorTraceType": null,
       "finishTime": 0,
       "globalVars": {},
       "guid": "",
       "height": "auto",
       "hideCommandCode": false,
       "hideCommandResult": false,
       "iPythonMetadata": null,
       "inputWidgets": {},
       "isLockedInExamMode": false,
       "latestUser": "a user",
       "latestUserId": null,
       "listResultMetadata": null,
       "metadata": {},
       "nuid": "267bd4a3-ac58-4dc5-ab9a-1ad8432ddfe2",
       "origId": 0,
       "parentHierarchy": [],
       "pivotAggregation": null,
       "pivotColumns": null,
       "position": 8.0,
       "resultDbfsErrorMessage": null,
       "resultDbfsStatus": "INLINED_IN_TREE",
       "results": null,
       "showCommandTitle": false,
       "startTime": 0,
       "state": "input",
       "streamStates": {},
       "subcommandOptions": {
        "queryPlan": {
         "groups": [
          {
           "column": "diagnosis",
           "type": "column"
          },
          {
           "column": "diagnosis",
           "type": "column"
          }
         ],
         "selects": [
          {
           "column": "diagnosis",
           "type": "column"
          },
          {
           "alias": "column_8a0f91ae75",
           "args": [
            {
             "column": "percentage",
             "type": "column"
            }
           ],
           "function": "SUM",
           "type": "function"
          },
          {
           "column": "diagnosis",
           "type": "column"
          }
         ]
        }
       },
       "submitTime": 0,
       "subtype": "tableResultSubCmd.visualization",
       "tableResultIndex": 0,
       "tableResultSettingsMap": {},
       "useConsistentColors": false,
       "version": "CommandV1",
       "width": "auto",
       "workflows": [],
       "xColumns": null,
       "yColumns": null
      }
     },
     "output_type": "display_data"
    }
   ],
   "source": [
    "%sql\n",
    "SELECT \n",
    "    diagnosis,\n",
    "    COUNT(*) as count,\n",
    "    ROUND(COUNT(*) * 100.0 / (SELECT COUNT(*) FROM mimicdata_2567611159492892.mimic.admissions), 2) as percentage\n",
    "FROM \n",
    "    mimicdata_2567611159492892.mimic.admissions\n",
    "GROUP BY \n",
    "    diagnosis\n",
    "ORDER BY \n",
    "    count DESC\n",
    "LIMIT 10;"
   ]
  },
  {
   "cell_type": "code",
   "execution_count": 0,
   "metadata": {
    "application/vnd.databricks.v1+cell": {
     "cellMetadata": {
      "byteLimit": 2048000,
      "implicitDf": true,
      "rowLimit": 10000
     },
     "inputWidgets": {},
     "nuid": "0c827afb-a6cf-406e-b058-a8ac3e7759d7",
     "showTitle": true,
     "tableResultSettingsMap": {},
     "title": "insurance type"
    }
   },
   "outputs": [
    {
     "output_type": "display_data",
     "data": {
      "text/html": [
       "<style scoped>\n",
       "  .table-result-container {\n",
       "    max-height: 300px;\n",
       "    overflow: auto;\n",
       "  }\n",
       "  table, th, td {\n",
       "    border: 1px solid black;\n",
       "    border-collapse: collapse;\n",
       "  }\n",
       "  th, td {\n",
       "    padding: 5px;\n",
       "  }\n",
       "  th {\n",
       "    text-align: left;\n",
       "  }\n",
       "</style><div class='table-result-container'><table class='table-result'><thead style='background-color: white'><tr><th>insurance</th><th>count</th><th>percentage</th></tr></thead><tbody><tr><td>Medicare</td><td>98</td><td>75.97</td></tr><tr><td>Private</td><td>24</td><td>18.60</td></tr><tr><td>Medicaid</td><td>6</td><td>4.65</td></tr><tr><td>Government</td><td>1</td><td>0.78</td></tr></tbody></table></div>"
      ]
     },
     "metadata": {
      "application/vnd.databricks.v1+output": {
       "addedWidgets": {},
       "aggData": [],
       "aggError": "",
       "aggOverflow": false,
       "aggSchema": [],
       "aggSeriesLimitReached": false,
       "aggType": "",
       "arguments": {},
       "columnCustomDisplayInfos": {},
       "data": [
        [
         "Medicare",
         98,
         "75.97"
        ],
        [
         "Private",
         24,
         "18.60"
        ],
        [
         "Medicaid",
         6,
         "4.65"
        ],
        [
         "Government",
         1,
         "0.78"
        ]
       ],
       "datasetInfos": [],
       "dbfsResultPath": null,
       "isJsonSchema": true,
       "metadata": {
        "dataframeName": "_sqldf",
        "executionCount": 9
       },
       "overflow": false,
       "plotOptions": {
        "customPlotOptions": {},
        "displayType": "table",
        "pivotAggregation": null,
        "pivotColumns": null,
        "xColumns": null,
        "yColumns": null
       },
       "removedWidgets": [],
       "schema": [
        {
         "metadata": "{}",
         "name": "insurance",
         "type": "\"string\""
        },
        {
         "metadata": "{}",
         "name": "count",
         "type": "\"long\""
        },
        {
         "metadata": "{}",
         "name": "percentage",
         "type": "\"decimal(27,2)\""
        }
       ],
       "type": "table"
      }
     },
     "output_type": "display_data"
    },
    {
     "output_type": "display_data",
     "data": {
      "text/plain": [
       "Databricks visualization. Run in Databricks to view."
      ]
     },
     "metadata": {
      "application/vnd.databricks.v1.subcommand+json": {
       "baseErrorDetails": null,
       "bindings": {},
       "collapsed": false,
       "command": "%sql WITH q AS (SELECT \n    insurance,\n    COUNT(*) as count,\n    ROUND(COUNT(*) * 100.0 / (SELECT COUNT(*) FROM mimicdata.mimic.admissions), 2) as percentage\nFROM \n    mimicdata.mimic.admissions\nGROUP BY \n    insurance\nORDER BY \n    count DESC) SELECT `insurance`,SUM(`percentage`) `column_b66e6ce1112`,`insurance` FROM q GROUP BY `insurance`",
       "commandTitle": "Visualization 1",
       "commandType": "auto",
       "commandVersion": 0,
       "commentThread": [],
       "commentsVisible": false,
       "contentSha256Hex": null,
       "customPlotOptions": {
        "redashChart": [
         {
          "key": "type",
          "value": "CHART"
         },
         {
          "key": "options",
          "value": {
           "alignYAxesAtZero": true,
           "coefficient": 1,
           "columnConfigurationMap": {
            "series": {
             "column": "insurance",
             "id": "column_b66e6ce1113"
            },
            "x": {
             "column": "insurance",
             "id": "column_b66e6ce1115"
            },
            "y": [
             {
              "column": "percentage",
              "id": "column_b66e6ce1112",
              "transform": "SUM"
             }
            ]
           },
           "dateTimeFormat": "DD/MM/YYYY HH:mm",
           "direction": {
            "type": "counterclockwise"
           },
           "error_y": {
            "type": "data",
            "visible": true
           },
           "globalSeriesType": "column",
           "isAggregationOn": true,
           "legend": {
            "traceorder": "normal"
           },
           "missingValuesAsZero": true,
           "numberFormat": "0,0.[00000]",
           "percentFormat": "0[.]00%",
           "series": {
            "error_y": {
             "type": "data",
             "visible": true
            },
            "stacking": null
           },
           "seriesOptions": {
            "column_b66e6ce1112": {
             "name": "percentage",
             "type": "column",
             "yAxis": 0
            }
           },
           "showDataLabels": false,
           "sizemode": "diameter",
           "sortX": true,
           "sortY": true,
           "swappedAxes": false,
           "textFormat": "",
           "useAggregationsUi": true,
           "valuesOptions": {},
           "version": 2,
           "xAxis": {
            "labels": {
             "enabled": true
            },
            "type": "-"
           },
           "yAxis": [
            {
             "type": "-"
            },
            {
             "opposite": true,
             "type": "-"
            }
           ]
          }
         }
        ]
       },
       "datasetPreviewNameToCmdIdMap": {},
       "diffDeletes": [],
       "diffInserts": [],
       "displayType": "redashChart",
       "error": null,
       "errorDetails": null,
       "errorSummary": null,
       "errorTraceType": null,
       "finishTime": 0,
       "globalVars": {},
       "guid": "",
       "height": "auto",
       "hideCommandCode": false,
       "hideCommandResult": false,
       "iPythonMetadata": null,
       "inputWidgets": {},
       "isLockedInExamMode": false,
       "latestUser": "a user",
       "latestUserId": null,
       "listResultMetadata": null,
       "metadata": {},
       "nuid": "ed8572f6-3639-4a03-80b3-80a6d49ebe99",
       "origId": 0,
       "parentHierarchy": [],
       "pivotAggregation": null,
       "pivotColumns": null,
       "position": 10.0,
       "resultDbfsErrorMessage": null,
       "resultDbfsStatus": "INLINED_IN_TREE",
       "results": null,
       "showCommandTitle": false,
       "startTime": 0,
       "state": "input",
       "streamStates": {},
       "subcommandOptions": {
        "queryPlan": {
         "groups": [
          {
           "column": "insurance",
           "type": "column"
          },
          {
           "column": "insurance",
           "type": "column"
          }
         ],
         "selects": [
          {
           "column": "insurance",
           "type": "column"
          },
          {
           "alias": "column_b66e6ce1112",
           "args": [
            {
             "column": "percentage",
             "type": "column"
            }
           ],
           "function": "SUM",
           "type": "function"
          },
          {
           "column": "insurance",
           "type": "column"
          }
         ]
        }
       },
       "submitTime": 0,
       "subtype": "tableResultSubCmd.visualization",
       "tableResultIndex": 0,
       "tableResultSettingsMap": {},
       "useConsistentColors": false,
       "version": "CommandV1",
       "width": "auto",
       "workflows": [],
       "xColumns": null,
       "yColumns": null
      }
     },
     "output_type": "display_data"
    }
   ],
   "source": [
    "%sql\n",
    "SELECT \n",
    "    insurance,\n",
    "    COUNT(*) as count,\n",
    "    ROUND(COUNT(*) * 100.0 / (SELECT COUNT(*) FROM mimicdata_2567611159492892.mimic.admissions), 2) as percentage\n",
    "FROM \n",
    "    mimicdata_2567611159492892.mimic.admissions\n",
    "GROUP BY \n",
    "    insurance\n",
    "ORDER BY \n",
    "    count DESC;"
   ]
  },
  {
   "cell_type": "code",
   "execution_count": 0,
   "metadata": {
    "application/vnd.databricks.v1+cell": {
     "cellMetadata": {
      "byteLimit": 2048000,
      "implicitDf": true,
      "rowLimit": 10000
     },
     "inputWidgets": {},
     "nuid": "c17b7e35-60ae-42e5-80be-ebf49dc85f01",
     "showTitle": true,
     "tableResultSettingsMap": {},
     "title": "To ER(room)"
    }
   },
   "outputs": [
    {
     "output_type": "display_data",
     "data": {
      "text/html": [
       "<style scoped>\n",
       "  .table-result-container {\n",
       "    max-height: 300px;\n",
       "    overflow: auto;\n",
       "  }\n",
       "  table, th, td {\n",
       "    border: 1px solid black;\n",
       "    border-collapse: collapse;\n",
       "  }\n",
       "  th, td {\n",
       "    padding: 5px;\n",
       "  }\n",
       "  th {\n",
       "    text-align: left;\n",
       "  }\n",
       "</style><div class='table-result-container'><table class='table-result'><thead style='background-color: white'><tr><th>avg_er_to_admission_hours</th><th>min_hours</th><th>max_hours</th><th>patient_count</th></tr></thead><tbody><tr><td>2.61</td><td>0</td><td>24</td><td>92</td></tr></tbody></table></div>"
      ]
     },
     "metadata": {
      "application/vnd.databricks.v1+output": {
       "addedWidgets": {},
       "aggData": [],
       "aggError": "",
       "aggOverflow": false,
       "aggSchema": [],
       "aggSeriesLimitReached": false,
       "aggType": "",
       "arguments": {},
       "columnCustomDisplayInfos": {},
       "data": [
        [
         2.61,
         0,
         24,
         92
        ]
       ],
       "datasetInfos": [],
       "dbfsResultPath": null,
       "isJsonSchema": true,
       "metadata": {
        "createTempViewForImplicitDf": true,
        "dataframeName": "_sqldf",
        "executionCount": 12
       },
       "overflow": false,
       "plotOptions": {
        "customPlotOptions": {},
        "displayType": "table",
        "pivotAggregation": null,
        "pivotColumns": null,
        "xColumns": null,
        "yColumns": null
       },
       "removedWidgets": [],
       "schema": [
        {
         "metadata": "{}",
         "name": "avg_er_to_admission_hours",
         "type": "\"double\""
        },
        {
         "metadata": "{}",
         "name": "min_hours",
         "type": "\"integer\""
        },
        {
         "metadata": "{}",
         "name": "max_hours",
         "type": "\"integer\""
        },
        {
         "metadata": "{}",
         "name": "patient_count",
         "type": "\"long\""
        }
       ],
       "type": "table"
      }
     },
     "output_type": "display_data"
    }
   ],
   "source": [
    "%sql\n",
    "SELECT \n",
    "    ROUND(AVG((DATEDIFF(admittime, edregtime)) * 24), 2) as avg_er_to_admission_hours,\n",
    "    MIN((DATEDIFF(admittime, edregtime)) * 24) as min_hours,\n",
    "    MAX((DATEDIFF(admittime, edregtime)) * 24) as max_hours,\n",
    "    COUNT(*) as patient_count\n",
    "FROM \n",
    "    mimicdata_2567611159492892.mimic.admissions\n",
    "WHERE \n",
    "    edregtime IS NOT NULL AND admittime IS NOT NULL;"
   ]
  },
  {
   "cell_type": "code",
   "execution_count": 0,
   "metadata": {
    "application/vnd.databricks.v1+cell": {
     "cellMetadata": {
      "byteLimit": 2048000,
      "implicitDf": true,
      "rowLimit": 10000
     },
     "inputWidgets": {},
     "nuid": "c367bdd0-f3d5-41d4-afff-1973f5b64ac1",
     "showTitle": true,
     "tableResultSettingsMap": {},
     "title": "ER time"
    }
   },
   "outputs": [
    {
     "output_type": "display_data",
     "data": {
      "text/html": [
       "<style scoped>\n",
       "  .table-result-container {\n",
       "    max-height: 300px;\n",
       "    overflow: auto;\n",
       "  }\n",
       "  table, th, td {\n",
       "    border: 1px solid black;\n",
       "    border-collapse: collapse;\n",
       "  }\n",
       "  th, td {\n",
       "    padding: 5px;\n",
       "  }\n",
       "  th {\n",
       "    text-align: left;\n",
       "  }\n",
       "</style><div class='table-result-container'><table class='table-result'><thead style='background-color: white'><tr><th>time_bracket</th><th>patient_count</th></tr></thead><tbody><tr><td>Under 1 hour</td><td>82</td></tr><tr><td>Over 8 hours</td><td>10</td></tr></tbody></table></div>"
      ]
     },
     "metadata": {
      "application/vnd.databricks.v1+output": {
       "addedWidgets": {},
       "aggData": [],
       "aggError": "",
       "aggOverflow": false,
       "aggSchema": [],
       "aggSeriesLimitReached": false,
       "aggType": "",
       "arguments": {},
       "columnCustomDisplayInfos": {},
       "data": [
        [
         "Under 1 hour",
         82
        ],
        [
         "Over 8 hours",
         10
        ]
       ],
       "datasetInfos": [],
       "dbfsResultPath": null,
       "isJsonSchema": true,
       "metadata": {
        "dataframeName": "_sqldf",
        "executionCount": 10
       },
       "overflow": false,
       "plotOptions": {
        "customPlotOptions": {},
        "displayType": "table",
        "pivotAggregation": null,
        "pivotColumns": null,
        "xColumns": null,
        "yColumns": null
       },
       "removedWidgets": [],
       "schema": [
        {
         "metadata": "{}",
         "name": "time_bracket",
         "type": "\"string\""
        },
        {
         "metadata": "{}",
         "name": "patient_count",
         "type": "\"long\""
        }
       ],
       "type": "table"
      }
     },
     "output_type": "display_data"
    },
    {
     "output_type": "display_data",
     "data": {
      "text/plain": [
       "Databricks visualization. Run in Databricks to view."
      ]
     },
     "metadata": {
      "application/vnd.databricks.v1.subcommand+json": {
       "baseErrorDetails": null,
       "bindings": {},
       "collapsed": false,
       "command": "%sql WITH q AS (SELECT \n    CASE \n        WHEN (DATEDIFF(admittime, edregtime)) * 24 < 1 THEN 'Under 1 hour'\n        WHEN (DATEDIFF(admittime, edregtime)) * 24 < 2 THEN '1-2 hours'\n        WHEN (DATEDIFF(admittime, edregtime)) * 24 < 4 THEN '2-4 hours'\n        WHEN (DATEDIFF(admittime, edregtime)) * 24 < 8 THEN '4-8 hours'\n        ELSE 'Over 8 hours'\n    END as time_bracket,\n    COUNT(*) as patient_count\nFROM \n    mimicdata.mimic.admissions\nWHERE \n    edregtime IS NOT NULL AND admittime IS NOT NULL\nGROUP BY \n    time_bracket\nORDER BY \n    MIN((DATEDIFF(admittime, edregtime)) * 24)) SELECT `time_bracket`,SUM(`patient_count`) `column_b66e6ce1127` FROM q GROUP BY `time_bracket`",
       "commandTitle": "Visualization 1",
       "commandType": "auto",
       "commandVersion": 0,
       "commentThread": [],
       "commentsVisible": false,
       "contentSha256Hex": null,
       "customPlotOptions": {
        "redashChart": [
         {
          "key": "type",
          "value": "CHART"
         },
         {
          "key": "options",
          "value": {
           "alignYAxesAtZero": true,
           "coefficient": 1,
           "columnConfigurationMap": {
            "x": {
             "column": "time_bracket",
             "id": "column_b66e6ce1130"
            },
            "y": [
             {
              "column": "patient_count",
              "id": "column_b66e6ce1127",
              "transform": "SUM"
             }
            ]
           },
           "dateTimeFormat": "DD/MM/YYYY HH:mm",
           "direction": {
            "type": "counterclockwise"
           },
           "error_y": {
            "type": "data",
            "visible": true
           },
           "globalSeriesType": "column",
           "isAggregationOn": true,
           "legend": {
            "traceorder": "normal"
           },
           "missingValuesAsZero": true,
           "numberFormat": "0,0.[00000]",
           "percentFormat": "0[.]00%",
           "series": {
            "error_y": {
             "type": "data",
             "visible": true
            },
            "stacking": null
           },
           "seriesOptions": {
            "column_b66e6ce1127": {
             "name": "patient_count",
             "type": "column",
             "yAxis": 0
            }
           },
           "showDataLabels": false,
           "sizemode": "diameter",
           "sortX": true,
           "sortY": true,
           "swappedAxes": false,
           "textFormat": "",
           "useAggregationsUi": true,
           "valuesOptions": {},
           "version": 2,
           "xAxis": {
            "labels": {
             "enabled": true
            },
            "type": "-"
           },
           "yAxis": [
            {
             "type": "-"
            },
            {
             "opposite": true,
             "type": "-"
            }
           ]
          }
         }
        ]
       },
       "datasetPreviewNameToCmdIdMap": {},
       "diffDeletes": [],
       "diffInserts": [],
       "displayType": "redashChart",
       "error": null,
       "errorDetails": null,
       "errorSummary": null,
       "errorTraceType": null,
       "finishTime": 0,
       "globalVars": {},
       "guid": "",
       "height": "auto",
       "hideCommandCode": false,
       "hideCommandResult": false,
       "iPythonMetadata": null,
       "inputWidgets": {},
       "isLockedInExamMode": false,
       "latestUser": "a user",
       "latestUserId": null,
       "listResultMetadata": null,
       "metadata": {},
       "nuid": "0496dafc-e3ce-46d5-a80d-6d74da2660e2",
       "origId": 0,
       "parentHierarchy": [],
       "pivotAggregation": null,
       "pivotColumns": null,
       "position": 12.0,
       "resultDbfsErrorMessage": null,
       "resultDbfsStatus": "INLINED_IN_TREE",
       "results": null,
       "showCommandTitle": false,
       "startTime": 0,
       "state": "input",
       "streamStates": {},
       "subcommandOptions": {
        "queryPlan": {
         "groups": [
          {
           "column": "time_bracket",
           "type": "column"
          }
         ],
         "selects": [
          {
           "column": "time_bracket",
           "type": "column"
          },
          {
           "alias": "column_b66e6ce1127",
           "args": [
            {
             "column": "patient_count",
             "type": "column"
            }
           ],
           "function": "SUM",
           "type": "function"
          }
         ]
        }
       },
       "submitTime": 0,
       "subtype": "tableResultSubCmd.visualization",
       "tableResultIndex": 0,
       "tableResultSettingsMap": {},
       "useConsistentColors": false,
       "version": "CommandV1",
       "width": "auto",
       "workflows": [],
       "xColumns": null,
       "yColumns": null
      }
     },
     "output_type": "display_data"
    }
   ],
   "source": [
    "%sql\n",
    "SELECT \n",
    "    CASE \n",
    "        WHEN (DATEDIFF(admittime, edregtime)) * 24 < 1 THEN 'Under 1 hour'\n",
    "        WHEN (DATEDIFF(admittime, edregtime)) * 24 < 2 THEN '1-2 hours'\n",
    "        WHEN (DATEDIFF(admittime, edregtime)) * 24 < 4 THEN '2-4 hours'\n",
    "        WHEN (DATEDIFF(admittime, edregtime)) * 24 < 8 THEN '4-8 hours'\n",
    "        ELSE 'Over 8 hours'\n",
    "    END as time_bracket,\n",
    "    COUNT(*) as patient_count\n",
    "FROM \n",
    "    mimicdata_2567611159492892.mimic.admissions\n",
    "WHERE \n",
    "    edregtime IS NOT NULL AND admittime IS NOT NULL\n",
    "GROUP BY \n",
    "    time_bracket\n",
    "ORDER BY \n",
    "    MIN((DATEDIFF(admittime, edregtime)) * 24);"
   ]
  },
  {
   "cell_type": "code",
   "execution_count": 0,
   "metadata": {
    "application/vnd.databricks.v1+cell": {
     "cellMetadata": {
      "byteLimit": 2048000,
      "implicitDf": true,
      "rowLimit": 10000
     },
     "inputWidgets": {},
     "nuid": "f89e0810-4d90-461d-ae52-de7d7d54e1c4",
     "showTitle": true,
     "tableResultSettingsMap": {},
     "title": "year by count"
    }
   },
   "outputs": [
    {
     "output_type": "display_data",
     "data": {
      "text/html": [
       "<style scoped>\n",
       "  .table-result-container {\n",
       "    max-height: 300px;\n",
       "    overflow: auto;\n",
       "  }\n",
       "  table, th, td {\n",
       "    border: 1px solid black;\n",
       "    border-collapse: collapse;\n",
       "  }\n",
       "  th, td {\n",
       "    padding: 5px;\n",
       "  }\n",
       "  th {\n",
       "    text-align: left;\n",
       "  }\n",
       "</style><div class='table-result-container'><table class='table-result'><thead style='background-color: white'><tr><th>month_year</th><th>admission_count</th></tr></thead><tbody><tr><td>2102-08</td><td>1</td></tr><tr><td>2104-09</td><td>1</td></tr><tr><td>2104-10</td><td>1</td></tr><tr><td>2105-05</td><td>1</td></tr><tr><td>2106-08</td><td>1</td></tr><tr><td>2107-01</td><td>3</td></tr><tr><td>2107-03</td><td>1</td></tr><tr><td>2107-05</td><td>1</td></tr><tr><td>2110-12</td><td>1</td></tr><tr><td>2112-02</td><td>1</td></tr><tr><td>2112-05</td><td>3</td></tr><tr><td>2115-05</td><td>1</td></tr><tr><td>2117-03</td><td>1</td></tr><tr><td>2117-08</td><td>2</td></tr><tr><td>2118-10</td><td>1</td></tr><tr><td>2119-10</td><td>1</td></tr><tr><td>2120-08</td><td>1</td></tr><tr><td>2121-12</td><td>1</td></tr><tr><td>2123-08</td><td>1</td></tr><tr><td>2123-11</td><td>1</td></tr><tr><td>2124-01</td><td>1</td></tr><tr><td>2125-10</td><td>1</td></tr><tr><td>2126-08</td><td>1</td></tr><tr><td>2127-03</td><td>1</td></tr><tr><td>2127-07</td><td>1</td></tr><tr><td>2127-10</td><td>1</td></tr><tr><td>2128-03</td><td>1</td></tr><tr><td>2128-11</td><td>1</td></tr><tr><td>2129-03</td><td>1</td></tr><tr><td>2129-05</td><td>1</td></tr><tr><td>2129-11</td><td>1</td></tr><tr><td>2130-02</td><td>1</td></tr><tr><td>2130-08</td><td>1</td></tr><tr><td>2130-10</td><td>1</td></tr><tr><td>2131-07</td><td>1</td></tr><tr><td>2132-08</td><td>1</td></tr><tr><td>2132-12</td><td>1</td></tr><tr><td>2135-10</td><td>1</td></tr><tr><td>2138-04</td><td>1</td></tr><tr><td>2138-06</td><td>1</td></tr><tr><td>2138-11</td><td>1</td></tr><tr><td>2139-09</td><td>1</td></tr><tr><td>2141-01</td><td>1</td></tr><tr><td>2142-11</td><td>1</td></tr><tr><td>2144-02</td><td>1</td></tr><tr><td>2144-07</td><td>2</td></tr><tr><td>2144-10</td><td>1</td></tr><tr><td>2144-12</td><td>1</td></tr><tr><td>2145-07</td><td>1</td></tr><tr><td>2145-09</td><td>1</td></tr><tr><td>2145-12</td><td>1</td></tr><tr><td>2146-07</td><td>1</td></tr><tr><td>2147-02</td><td>2</td></tr><tr><td>2147-10</td><td>1</td></tr><tr><td>2148-01</td><td>1</td></tr><tr><td>2149-05</td><td>1</td></tr><tr><td>2150-08</td><td>2</td></tr><tr><td>2151-08</td><td>1</td></tr><tr><td>2151-09</td><td>1</td></tr><tr><td>2152-10</td><td>2</td></tr><tr><td>2155-03</td><td>1</td></tr><tr><td>2155-12</td><td>1</td></tr><tr><td>2159-11</td><td>1</td></tr><tr><td>2160-05</td><td>1</td></tr><tr><td>2160-12</td><td>2</td></tr><tr><td>2161-01</td><td>1</td></tr><tr><td>2161-09</td><td>1</td></tr><tr><td>2162-01</td><td>1</td></tr><tr><td>2163-05</td><td>1</td></tr><tr><td>2163-11</td><td>1</td></tr><tr><td>2164-10</td><td>1</td></tr><tr><td>2165-12</td><td>1</td></tr><tr><td>2166-02</td><td>1</td></tr><tr><td>2167-02</td><td>1</td></tr><tr><td>2169-05</td><td>1</td></tr><tr><td>2170-12</td><td>2</td></tr><tr><td>2171-07</td><td>1</td></tr><tr><td>2171-10</td><td>1</td></tr><tr><td>2173-11</td><td>1</td></tr><tr><td>2175-10</td><td>1</td></tr><tr><td>2176-07</td><td>1</td></tr><tr><td>2178-05</td><td>1</td></tr><tr><td>2179-04</td><td>1</td></tr><tr><td>2180-01</td><td>1</td></tr><tr><td>2180-02</td><td>1</td></tr><tr><td>2180-03</td><td>1</td></tr><tr><td>2180-07</td><td>1</td></tr><tr><td>2184-08</td><td>1</td></tr><tr><td>2185-03</td><td>1</td></tr><tr><td>2185-04</td><td>1</td></tr><tr><td>2186-02</td><td>1</td></tr><tr><td>2186-07</td><td>1</td></tr><tr><td>2188-02</td><td>1</td></tr><tr><td>2189-09</td><td>1</td></tr><tr><td>2190-07</td><td>1</td></tr><tr><td>2192-03</td><td>1</td></tr><tr><td>2192-04</td><td>1</td></tr><tr><td>2192-11</td><td>1</td></tr><tr><td>2193-10</td><td>1</td></tr><tr><td>2194-07</td><td>1</td></tr><tr><td>2195-05</td><td>1</td></tr><tr><td>2198-06</td><td>2</td></tr><tr><td>2198-10</td><td>1</td></tr><tr><td>2199-01</td><td>2</td></tr><tr><td>2200-03</td><td>1</td></tr><tr><td>2200-06</td><td>1</td></tr><tr><td>2200-10</td><td>1</td></tr><tr><td>2201-05</td><td>1</td></tr><tr><td>2201-08</td><td>1</td></tr><tr><td>2201-09</td><td>1</td></tr><tr><td>2201-11</td><td>1</td></tr><tr><td>2201-12</td><td>1</td></tr><tr><td>2202-02</td><td>1</td></tr><tr><td>2202-05</td><td>1</td></tr><tr><td>2202-09</td><td>1</td></tr><tr><td>2202-10</td><td>1</td></tr></tbody></table></div>"
      ]
     },
     "metadata": {
      "application/vnd.databricks.v1+output": {
       "addedWidgets": {},
       "aggData": [],
       "aggError": "",
       "aggOverflow": false,
       "aggSchema": [],
       "aggSeriesLimitReached": false,
       "aggType": "",
       "arguments": {},
       "columnCustomDisplayInfos": {},
       "data": [
        [
         "2102-08",
         1
        ],
        [
         "2104-09",
         1
        ],
        [
         "2104-10",
         1
        ],
        [
         "2105-05",
         1
        ],
        [
         "2106-08",
         1
        ],
        [
         "2107-01",
         3
        ],
        [
         "2107-03",
         1
        ],
        [
         "2107-05",
         1
        ],
        [
         "2110-12",
         1
        ],
        [
         "2112-02",
         1
        ],
        [
         "2112-05",
         3
        ],
        [
         "2115-05",
         1
        ],
        [
         "2117-03",
         1
        ],
        [
         "2117-08",
         2
        ],
        [
         "2118-10",
         1
        ],
        [
         "2119-10",
         1
        ],
        [
         "2120-08",
         1
        ],
        [
         "2121-12",
         1
        ],
        [
         "2123-08",
         1
        ],
        [
         "2123-11",
         1
        ],
        [
         "2124-01",
         1
        ],
        [
         "2125-10",
         1
        ],
        [
         "2126-08",
         1
        ],
        [
         "2127-03",
         1
        ],
        [
         "2127-07",
         1
        ],
        [
         "2127-10",
         1
        ],
        [
         "2128-03",
         1
        ],
        [
         "2128-11",
         1
        ],
        [
         "2129-03",
         1
        ],
        [
         "2129-05",
         1
        ],
        [
         "2129-11",
         1
        ],
        [
         "2130-02",
         1
        ],
        [
         "2130-08",
         1
        ],
        [
         "2130-10",
         1
        ],
        [
         "2131-07",
         1
        ],
        [
         "2132-08",
         1
        ],
        [
         "2132-12",
         1
        ],
        [
         "2135-10",
         1
        ],
        [
         "2138-04",
         1
        ],
        [
         "2138-06",
         1
        ],
        [
         "2138-11",
         1
        ],
        [
         "2139-09",
         1
        ],
        [
         "2141-01",
         1
        ],
        [
         "2142-11",
         1
        ],
        [
         "2144-02",
         1
        ],
        [
         "2144-07",
         2
        ],
        [
         "2144-10",
         1
        ],
        [
         "2144-12",
         1
        ],
        [
         "2145-07",
         1
        ],
        [
         "2145-09",
         1
        ],
        [
         "2145-12",
         1
        ],
        [
         "2146-07",
         1
        ],
        [
         "2147-02",
         2
        ],
        [
         "2147-10",
         1
        ],
        [
         "2148-01",
         1
        ],
        [
         "2149-05",
         1
        ],
        [
         "2150-08",
         2
        ],
        [
         "2151-08",
         1
        ],
        [
         "2151-09",
         1
        ],
        [
         "2152-10",
         2
        ],
        [
         "2155-03",
         1
        ],
        [
         "2155-12",
         1
        ],
        [
         "2159-11",
         1
        ],
        [
         "2160-05",
         1
        ],
        [
         "2160-12",
         2
        ],
        [
         "2161-01",
         1
        ],
        [
         "2161-09",
         1
        ],
        [
         "2162-01",
         1
        ],
        [
         "2163-05",
         1
        ],
        [
         "2163-11",
         1
        ],
        [
         "2164-10",
         1
        ],
        [
         "2165-12",
         1
        ],
        [
         "2166-02",
         1
        ],
        [
         "2167-02",
         1
        ],
        [
         "2169-05",
         1
        ],
        [
         "2170-12",
         2
        ],
        [
         "2171-07",
         1
        ],
        [
         "2171-10",
         1
        ],
        [
         "2173-11",
         1
        ],
        [
         "2175-10",
         1
        ],
        [
         "2176-07",
         1
        ],
        [
         "2178-05",
         1
        ],
        [
         "2179-04",
         1
        ],
        [
         "2180-01",
         1
        ],
        [
         "2180-02",
         1
        ],
        [
         "2180-03",
         1
        ],
        [
         "2180-07",
         1
        ],
        [
         "2184-08",
         1
        ],
        [
         "2185-03",
         1
        ],
        [
         "2185-04",
         1
        ],
        [
         "2186-02",
         1
        ],
        [
         "2186-07",
         1
        ],
        [
         "2188-02",
         1
        ],
        [
         "2189-09",
         1
        ],
        [
         "2190-07",
         1
        ],
        [
         "2192-03",
         1
        ],
        [
         "2192-04",
         1
        ],
        [
         "2192-11",
         1
        ],
        [
         "2193-10",
         1
        ],
        [
         "2194-07",
         1
        ],
        [
         "2195-05",
         1
        ],
        [
         "2198-06",
         2
        ],
        [
         "2198-10",
         1
        ],
        [
         "2199-01",
         2
        ],
        [
         "2200-03",
         1
        ],
        [
         "2200-06",
         1
        ],
        [
         "2200-10",
         1
        ],
        [
         "2201-05",
         1
        ],
        [
         "2201-08",
         1
        ],
        [
         "2201-09",
         1
        ],
        [
         "2201-11",
         1
        ],
        [
         "2201-12",
         1
        ],
        [
         "2202-02",
         1
        ],
        [
         "2202-05",
         1
        ],
        [
         "2202-09",
         1
        ],
        [
         "2202-10",
         1
        ]
       ],
       "datasetInfos": [],
       "dbfsResultPath": null,
       "isJsonSchema": true,
       "metadata": {
        "dataframeName": "_sqldf",
        "executionCount": 11
       },
       "overflow": false,
       "plotOptions": {
        "customPlotOptions": {},
        "displayType": "table",
        "pivotAggregation": null,
        "pivotColumns": null,
        "xColumns": null,
        "yColumns": null
       },
       "removedWidgets": [],
       "schema": [
        {
         "metadata": "{}",
         "name": "month_year",
         "type": "\"string\""
        },
        {
         "metadata": "{}",
         "name": "admission_count",
         "type": "\"long\""
        }
       ],
       "type": "table"
      }
     },
     "output_type": "display_data"
    },
    {
     "output_type": "display_data",
     "data": {
      "text/plain": [
       "Databricks visualization. Run in Databricks to view."
      ]
     },
     "metadata": {
      "application/vnd.databricks.v1.subcommand+json": {
       "baseErrorDetails": null,
       "bindings": {},
       "collapsed": false,
       "command": "%sql WITH q AS (SELECT \n    date_format(admittime, 'yyyy-MM') as month_year,\n    COUNT(*) as admission_count\nFROM \n    mimicdata.mimic.admissions\nGROUP BY \n    month_year\nORDER BY \n    month_year) SELECT `month_year`,SUM(`admission_count`) `column_b66e6ce1139` FROM q GROUP BY `month_year`",
       "commandTitle": "Visualization 1",
       "commandType": "auto",
       "commandVersion": 0,
       "commentThread": [],
       "commentsVisible": false,
       "contentSha256Hex": null,
       "customPlotOptions": {
        "redashChart": [
         {
          "key": "type",
          "value": "CHART"
         },
         {
          "key": "options",
          "value": {
           "alignYAxesAtZero": true,
           "coefficient": 1,
           "columnConfigurationMap": {
            "x": {
             "column": "month_year",
             "id": "column_b66e6ce1137"
            },
            "y": [
             {
              "column": "admission_count",
              "id": "column_b66e6ce1139",
              "transform": "SUM"
             }
            ]
           },
           "dateTimeFormat": "DD/MM/YYYY HH:mm",
           "direction": {
            "type": "counterclockwise"
           },
           "error_y": {
            "type": "data",
            "visible": true
           },
           "globalSeriesType": "column",
           "isAggregationOn": true,
           "legend": {
            "traceorder": "normal"
           },
           "missingValuesAsZero": true,
           "numberFormat": "0,0.[00000]",
           "percentFormat": "0[.]00%",
           "series": {
            "error_y": {
             "type": "data",
             "visible": true
            },
            "stacking": null
           },
           "seriesOptions": {
            "column_b66e6ce1139": {
             "type": "column",
             "yAxis": 0
            }
           },
           "showDataLabels": false,
           "sizemode": "diameter",
           "sortX": true,
           "sortY": true,
           "swappedAxes": false,
           "textFormat": "",
           "useAggregationsUi": true,
           "valuesOptions": {},
           "version": 2,
           "xAxis": {
            "labels": {
             "enabled": true
            },
            "type": "-"
           },
           "yAxis": [
            {
             "type": "-"
            },
            {
             "opposite": true,
             "type": "-"
            }
           ]
          }
         }
        ]
       },
       "datasetPreviewNameToCmdIdMap": {},
       "diffDeletes": [],
       "diffInserts": [],
       "displayType": "redashChart",
       "error": null,
       "errorDetails": null,
       "errorSummary": null,
       "errorTraceType": null,
       "finishTime": 0,
       "globalVars": {},
       "guid": "",
       "height": "auto",
       "hideCommandCode": false,
       "hideCommandResult": false,
       "iPythonMetadata": null,
       "inputWidgets": {},
       "isLockedInExamMode": false,
       "latestUser": "a user",
       "latestUserId": null,
       "listResultMetadata": null,
       "metadata": {},
       "nuid": "09a4816b-9017-4777-aeeb-40bb765a78a1",
       "origId": 0,
       "parentHierarchy": [],
       "pivotAggregation": null,
       "pivotColumns": null,
       "position": 13.0,
       "resultDbfsErrorMessage": null,
       "resultDbfsStatus": "INLINED_IN_TREE",
       "results": null,
       "showCommandTitle": false,
       "startTime": 0,
       "state": "input",
       "streamStates": {},
       "subcommandOptions": {
        "queryPlan": {
         "groups": [
          {
           "column": "month_year",
           "type": "column"
          }
         ],
         "selects": [
          {
           "column": "month_year",
           "type": "column"
          },
          {
           "alias": "column_b66e6ce1139",
           "args": [
            {
             "column": "admission_count",
             "type": "column"
            }
           ],
           "function": "SUM",
           "type": "function"
          }
         ]
        }
       },
       "submitTime": 0,
       "subtype": "tableResultSubCmd.visualization",
       "tableResultIndex": 0,
       "tableResultSettingsMap": {},
       "useConsistentColors": false,
       "version": "CommandV1",
       "width": "auto",
       "workflows": [],
       "xColumns": null,
       "yColumns": null
      }
     },
     "output_type": "display_data"
    }
   ],
   "source": [
    "%sql\n",
    "SELECT \n",
    "    date_format(admittime, 'yyyy-MM') as month_year,\n",
    "    COUNT(*) as admission_count\n",
    "FROM \n",
    "    mimicdata_2567611159492892.mimic.admissions\n",
    "GROUP BY \n",
    "    month_year\n",
    "ORDER BY \n",
    "    month_year;"
   ]
  },
  {
   "cell_type": "code",
   "execution_count": 0,
   "metadata": {
    "application/vnd.databricks.v1+cell": {
     "cellMetadata": {
      "byteLimit": 2048000,
      "implicitDf": true,
      "rowLimit": 10000
     },
     "inputWidgets": {},
     "nuid": "38036a02-2017-44a2-9cd9-40e2a7fb5cd7",
     "showTitle": true,
     "tableResultSettingsMap": {},
     "title": "discharge location"
    }
   },
   "outputs": [
    {
     "output_type": "display_data",
     "data": {
      "text/html": [
       "<style scoped>\n",
       "  .table-result-container {\n",
       "    max-height: 300px;\n",
       "    overflow: auto;\n",
       "  }\n",
       "  table, th, td {\n",
       "    border: 1px solid black;\n",
       "    border-collapse: collapse;\n",
       "  }\n",
       "  th, td {\n",
       "    padding: 5px;\n",
       "  }\n",
       "  th {\n",
       "    text-align: left;\n",
       "  }\n",
       "</style><div class='table-result-container'><table class='table-result'><thead style='background-color: white'><tr><th>discharge_location</th><th>count</th><th>percentage</th></tr></thead><tbody><tr><td>DEAD/EXPIRED</td><td>40</td><td>31.01</td></tr><tr><td>SNF</td><td>39</td><td>30.23</td></tr><tr><td>HOME</td><td>15</td><td>11.63</td></tr><tr><td>HOME HEALTH CARE</td><td>14</td><td>10.85</td></tr><tr><td>REHAB/DISTINCT PART HOSP</td><td>13</td><td>10.08</td></tr><tr><td>ICF</td><td>3</td><td>2.33</td></tr><tr><td>LONG TERM CARE HOSPITAL</td><td>2</td><td>1.55</td></tr><tr><td>DISCH-TRAN TO PSYCH HOSP</td><td>1</td><td>0.78</td></tr><tr><td>HOSPICE-HOME</td><td>1</td><td>0.78</td></tr><tr><td>HOME WITH HOME IV PROVIDR</td><td>1</td><td>0.78</td></tr></tbody></table></div>"
      ]
     },
     "metadata": {
      "application/vnd.databricks.v1+output": {
       "addedWidgets": {},
       "aggData": [],
       "aggError": "",
       "aggOverflow": false,
       "aggSchema": [],
       "aggSeriesLimitReached": false,
       "aggType": "",
       "arguments": {},
       "columnCustomDisplayInfos": {},
       "data": [
        [
         "DEAD/EXPIRED",
         40,
         "31.01"
        ],
        [
         "SNF",
         39,
         "30.23"
        ],
        [
         "HOME",
         15,
         "11.63"
        ],
        [
         "HOME HEALTH CARE",
         14,
         "10.85"
        ],
        [
         "REHAB/DISTINCT PART HOSP",
         13,
         "10.08"
        ],
        [
         "ICF",
         3,
         "2.33"
        ],
        [
         "LONG TERM CARE HOSPITAL",
         2,
         "1.55"
        ],
        [
         "DISCH-TRAN TO PSYCH HOSP",
         1,
         "0.78"
        ],
        [
         "HOSPICE-HOME",
         1,
         "0.78"
        ],
        [
         "HOME WITH HOME IV PROVIDR",
         1,
         "0.78"
        ]
       ],
       "datasetInfos": [],
       "dbfsResultPath": null,
       "isJsonSchema": true,
       "metadata": {
        "dataframeName": "_sqldf",
        "executionCount": 13
       },
       "overflow": false,
       "plotOptions": {
        "customPlotOptions": {},
        "displayType": "table",
        "pivotAggregation": null,
        "pivotColumns": null,
        "xColumns": null,
        "yColumns": null
       },
       "removedWidgets": [],
       "schema": [
        {
         "metadata": "{}",
         "name": "discharge_location",
         "type": "\"string\""
        },
        {
         "metadata": "{}",
         "name": "count",
         "type": "\"long\""
        },
        {
         "metadata": "{}",
         "name": "percentage",
         "type": "\"decimal(27,2)\""
        }
       ],
       "type": "table"
      }
     },
     "output_type": "display_data"
    },
    {
     "output_type": "display_data",
     "data": {
      "text/plain": [
       "Databricks visualization. Run in Databricks to view."
      ]
     },
     "metadata": {
      "application/vnd.databricks.v1.subcommand+json": {
       "baseErrorDetails": null,
       "bindings": {},
       "collapsed": false,
       "command": "%sql WITH q AS (SELECT \n    discharge_location,\n    COUNT(*) as count,\n    ROUND(COUNT(*) * 100.0 / (SELECT COUNT(*) FROM mimicdata_2567611159492892.mimic.admissions), 2) as percentage\nFROM \n    mimicdata_2567611159492892.mimic.admissions\nGROUP BY \n    discharge_location\nORDER BY \n    count DESC) SELECT `discharge_location`,SUM(`count`) `column_8a0f91ae88`,`discharge_location` FROM q GROUP BY `discharge_location`",
       "commandTitle": "Visualization 2",
       "commandType": "auto",
       "commandVersion": 0,
       "commentThread": [],
       "commentsVisible": false,
       "contentSha256Hex": null,
       "customPlotOptions": {
        "redashChart": [
         {
          "key": "type",
          "value": "CHART"
         },
         {
          "key": "options",
          "value": {
           "alignYAxesAtZero": true,
           "coefficient": 1,
           "columnConfigurationMap": {
            "series": {
             "column": "discharge_location",
             "id": "column_8a0f91ae85"
            },
            "x": {
             "column": "discharge_location",
             "id": "column_8a0f91ae86"
            },
            "y": [
             {
              "column": "count",
              "id": "column_8a0f91ae88",
              "transform": "SUM"
             }
            ]
           },
           "dateTimeFormat": "DD/MM/YYYY HH:mm",
           "direction": {
            "type": "counterclockwise"
           },
           "error_y": {
            "type": "data",
            "visible": true
           },
           "globalSeriesType": "column",
           "isAggregationOn": true,
           "legend": {
            "traceorder": "normal"
           },
           "missingValuesAsZero": true,
           "numberFormat": "0,0.[00000]",
           "percentFormat": "0[.]00%",
           "series": {
            "error_y": {
             "type": "data",
             "visible": true
            },
            "stacking": null
           },
           "seriesOptions": {
            "column_8a0f91ae84": {
             "name": "percentage",
             "type": "column",
             "yAxis": 0
            },
            "column_8a0f91ae87": {
             "type": "column",
             "yAxis": 0
            },
            "column_8a0f91ae88": {
             "type": "column",
             "yAxis": 0
            },
            "count": {
             "type": "column",
             "yAxis": 0
            },
            "percentage": {
             "type": "column",
             "yAxis": 0
            }
           },
           "showDataLabels": false,
           "sizemode": "diameter",
           "sortX": true,
           "sortY": true,
           "swappedAxes": false,
           "textFormat": "",
           "useAggregationsUi": true,
           "valuesOptions": {},
           "version": 2,
           "xAxis": {
            "labels": {
             "enabled": true
            },
            "type": "-"
           },
           "yAxis": [
            {
             "type": "-"
            },
            {
             "opposite": true,
             "type": "-"
            }
           ]
          }
         }
        ]
       },
       "datasetPreviewNameToCmdIdMap": {},
       "diffDeletes": [],
       "diffInserts": [],
       "displayType": "redashChart",
       "error": null,
       "errorDetails": null,
       "errorSummary": null,
       "errorTraceType": null,
       "finishTime": 0,
       "globalVars": {},
       "guid": "",
       "height": "auto",
       "hideCommandCode": false,
       "hideCommandResult": false,
       "iPythonMetadata": null,
       "inputWidgets": {},
       "isLockedInExamMode": false,
       "latestUser": "a user",
       "latestUserId": null,
       "listResultMetadata": null,
       "metadata": {},
       "nuid": "060a2a2a-0b1c-41e2-80f2-887d298e3605",
       "origId": 0,
       "parentHierarchy": [],
       "pivotAggregation": null,
       "pivotColumns": null,
       "position": 15.0,
       "resultDbfsErrorMessage": null,
       "resultDbfsStatus": "INLINED_IN_TREE",
       "results": null,
       "showCommandTitle": false,
       "startTime": 0,
       "state": "input",
       "streamStates": {},
       "subcommandOptions": {
        "queryPlan": {
         "groups": [
          {
           "column": "discharge_location",
           "type": "column"
          },
          {
           "column": "discharge_location",
           "type": "column"
          }
         ],
         "selects": [
          {
           "column": "discharge_location",
           "type": "column"
          },
          {
           "alias": "column_8a0f91ae88",
           "args": [
            {
             "column": "count",
             "type": "column"
            }
           ],
           "function": "SUM",
           "type": "function"
          },
          {
           "column": "discharge_location",
           "type": "column"
          }
         ]
        }
       },
       "submitTime": 0,
       "subtype": "tableResultSubCmd.visualization",
       "tableResultIndex": 0,
       "tableResultSettingsMap": {},
       "useConsistentColors": false,
       "version": "CommandV1",
       "width": "auto",
       "workflows": [],
       "xColumns": null,
       "yColumns": null
      }
     },
     "output_type": "display_data"
    }
   ],
   "source": [
    "%sql\n",
    "SELECT \n",
    "    discharge_location,\n",
    "    COUNT(*) as count,\n",
    "    ROUND(COUNT(*) * 100.0 / (SELECT COUNT(*) FROM mimicdata_2567611159492892.mimic.admissions), 2) as percentage\n",
    "FROM \n",
    "    mimicdata_2567611159492892.mimic.admissions\n",
    "GROUP BY \n",
    "    discharge_location\n",
    "ORDER BY \n",
    "    count DESC;"
   ]
  },
  {
   "cell_type": "code",
   "execution_count": 0,
   "metadata": {
    "application/vnd.databricks.v1+cell": {
     "cellMetadata": {
      "byteLimit": 2048000,
      "implicitDf": true,
      "rowLimit": 10000
     },
     "inputWidgets": {},
     "nuid": "8be02b6b-ec9b-48eb-b979-c7c4f70beb5b",
     "showTitle": true,
     "tableResultSettingsMap": {},
     "title": "ethnicity"
    }
   },
   "outputs": [
    {
     "output_type": "display_data",
     "data": {
      "text/html": [
       "<style scoped>\n",
       "  .table-result-container {\n",
       "    max-height: 300px;\n",
       "    overflow: auto;\n",
       "  }\n",
       "  table, th, td {\n",
       "    border: 1px solid black;\n",
       "    border-collapse: collapse;\n",
       "  }\n",
       "  th, td {\n",
       "    padding: 5px;\n",
       "  }\n",
       "  th {\n",
       "    text-align: left;\n",
       "  }\n",
       "</style><div class='table-result-container'><table class='table-result'><thead style='background-color: white'><tr><th>ethnicity</th><th>count</th><th>percentage</th></tr></thead><tbody><tr><td>WHITE</td><td>86</td><td>66.67</td></tr><tr><td>HISPANIC/LATINO - PUERTO RICAN</td><td>15</td><td>11.63</td></tr><tr><td>UNKNOWN/NOT SPECIFIED</td><td>11</td><td>8.53</td></tr><tr><td>BLACK/AFRICAN AMERICAN</td><td>7</td><td>5.43</td></tr><tr><td>OTHER</td><td>3</td><td>2.33</td></tr><tr><td>HISPANIC OR LATINO</td><td>2</td><td>1.55</td></tr><tr><td>AMERICAN INDIAN/ALASKA NATIVE FEDERALLY RECOGNIZED TRIBE</td><td>2</td><td>1.55</td></tr><tr><td>ASIAN</td><td>2</td><td>1.55</td></tr><tr><td>UNABLE TO OBTAIN</td><td>1</td><td>0.78</td></tr></tbody></table></div>"
      ]
     },
     "metadata": {
      "application/vnd.databricks.v1+output": {
       "addedWidgets": {},
       "aggData": [],
       "aggError": "",
       "aggOverflow": false,
       "aggSchema": [],
       "aggSeriesLimitReached": false,
       "aggType": "",
       "arguments": {},
       "columnCustomDisplayInfos": {},
       "data": [
        [
         "WHITE",
         86,
         "66.67"
        ],
        [
         "HISPANIC/LATINO - PUERTO RICAN",
         15,
         "11.63"
        ],
        [
         "UNKNOWN/NOT SPECIFIED",
         11,
         "8.53"
        ],
        [
         "BLACK/AFRICAN AMERICAN",
         7,
         "5.43"
        ],
        [
         "OTHER",
         3,
         "2.33"
        ],
        [
         "HISPANIC OR LATINO",
         2,
         "1.55"
        ],
        [
         "AMERICAN INDIAN/ALASKA NATIVE FEDERALLY RECOGNIZED TRIBE",
         2,
         "1.55"
        ],
        [
         "ASIAN",
         2,
         "1.55"
        ],
        [
         "UNABLE TO OBTAIN",
         1,
         "0.78"
        ]
       ],
       "datasetInfos": [],
       "dbfsResultPath": null,
       "isJsonSchema": true,
       "metadata": {
        "dataframeName": "_sqldf",
        "executionCount": 16
       },
       "overflow": false,
       "plotOptions": {
        "customPlotOptions": {},
        "displayType": "table",
        "pivotAggregation": null,
        "pivotColumns": null,
        "xColumns": null,
        "yColumns": null
       },
       "removedWidgets": [],
       "schema": [
        {
         "metadata": "{}",
         "name": "ethnicity",
         "type": "\"string\""
        },
        {
         "metadata": "{}",
         "name": "count",
         "type": "\"long\""
        },
        {
         "metadata": "{}",
         "name": "percentage",
         "type": "\"decimal(27,2)\""
        }
       ],
       "type": "table"
      }
     },
     "output_type": "display_data"
    },
    {
     "output_type": "display_data",
     "data": {
      "text/plain": [
       "Databricks visualization. Run in Databricks to view."
      ]
     },
     "metadata": {
      "application/vnd.databricks.v1.subcommand+json": {
       "baseErrorDetails": null,
       "bindings": {},
       "collapsed": false,
       "command": "%sql WITH q AS (SELECT \n    ethnicity,\n    COUNT(*) as count,\n    ROUND(COUNT(*) * 100.0 / (SELECT COUNT(*) FROM mimicdata.mimic.admissions), 2) as percentage\nFROM \n    mimicdata.mimic.admissions\nGROUP BY \n    ethnicity\nORDER BY \n    count DESC) SELECT `ethnicity`,SUM(`count`) `column_b66e6ce1150`,`ethnicity` FROM q GROUP BY `ethnicity`",
       "commandTitle": "Visualization 1",
       "commandType": "auto",
       "commandVersion": 0,
       "commentThread": [],
       "commentsVisible": false,
       "contentSha256Hex": null,
       "customPlotOptions": {
        "redashChart": [
         {
          "key": "type",
          "value": "CHART"
         },
         {
          "key": "options",
          "value": {
           "alignYAxesAtZero": true,
           "coefficient": 1,
           "columnConfigurationMap": {
            "series": {
             "column": "ethnicity",
             "id": "column_b66e6ce1151"
            },
            "x": {
             "column": "ethnicity",
             "id": "column_b66e6ce1153"
            },
            "y": [
             {
              "column": "count",
              "id": "column_b66e6ce1150",
              "transform": "SUM"
             }
            ]
           },
           "dateTimeFormat": "DD/MM/YYYY HH:mm",
           "direction": {
            "type": "counterclockwise"
           },
           "error_y": {
            "type": "data",
            "visible": true
           },
           "globalSeriesType": "column",
           "isAggregationOn": true,
           "legend": {
            "traceorder": "normal"
           },
           "missingValuesAsZero": true,
           "numberFormat": "0,0.[00000]",
           "percentFormat": "0[.]00%",
           "series": {
            "error_y": {
             "type": "data",
             "visible": true
            },
            "stacking": null
           },
           "seriesOptions": {
            "column_b66e6ce1150": {
             "name": "percentage",
             "type": "column",
             "yAxis": 0
            }
           },
           "showDataLabels": false,
           "sizemode": "diameter",
           "sortX": true,
           "sortY": true,
           "swappedAxes": false,
           "textFormat": "",
           "useAggregationsUi": true,
           "valuesOptions": {},
           "version": 2,
           "xAxis": {
            "labels": {
             "enabled": true
            },
            "type": "-"
           },
           "yAxis": [
            {
             "type": "-"
            },
            {
             "opposite": true,
             "type": "-"
            }
           ]
          }
         }
        ]
       },
       "datasetPreviewNameToCmdIdMap": {},
       "diffDeletes": [],
       "diffInserts": [],
       "displayType": "redashChart",
       "error": null,
       "errorDetails": null,
       "errorSummary": null,
       "errorTraceType": null,
       "finishTime": 0,
       "globalVars": {},
       "guid": "",
       "height": "auto",
       "hideCommandCode": false,
       "hideCommandResult": false,
       "iPythonMetadata": null,
       "inputWidgets": {},
       "isLockedInExamMode": false,
       "latestUser": "a user",
       "latestUserId": null,
       "listResultMetadata": null,
       "metadata": {},
       "nuid": "edbfd502-6f75-4d8f-9bf5-9633b0a887c1",
       "origId": 0,
       "parentHierarchy": [],
       "pivotAggregation": null,
       "pivotColumns": null,
       "position": 15.0,
       "resultDbfsErrorMessage": null,
       "resultDbfsStatus": "INLINED_IN_TREE",
       "results": null,
       "showCommandTitle": false,
       "startTime": 0,
       "state": "input",
       "streamStates": {},
       "subcommandOptions": {
        "queryPlan": {
         "groups": [
          {
           "column": "ethnicity",
           "type": "column"
          },
          {
           "column": "ethnicity",
           "type": "column"
          }
         ],
         "selects": [
          {
           "column": "ethnicity",
           "type": "column"
          },
          {
           "alias": "column_b66e6ce1150",
           "args": [
            {
             "column": "count",
             "type": "column"
            }
           ],
           "function": "SUM",
           "type": "function"
          },
          {
           "column": "ethnicity",
           "type": "column"
          }
         ]
        }
       },
       "submitTime": 0,
       "subtype": "tableResultSubCmd.visualization",
       "tableResultIndex": 0,
       "tableResultSettingsMap": {},
       "useConsistentColors": false,
       "version": "CommandV1",
       "width": "auto",
       "workflows": [],
       "xColumns": null,
       "yColumns": null
      }
     },
     "output_type": "display_data"
    }
   ],
   "source": [
    "%sql\n",
    "SELECT \n",
    "    ethnicity,\n",
    "    COUNT(*) as count,\n",
    "    ROUND(COUNT(*) * 100.0 / (SELECT COUNT(*) FROM mimicdata_2567611159492892.mimic.admissions), 2) as percentage\n",
    "FROM \n",
    "    mimicdata_2567611159492892.mimic.admissions\n",
    "GROUP BY \n",
    "    ethnicity\n",
    "ORDER BY \n",
    "    count DESC;"
   ]
  },
  {
   "cell_type": "code",
   "execution_count": 0,
   "metadata": {
    "application/vnd.databricks.v1+cell": {
     "cellMetadata": {
      "byteLimit": 2048000,
      "implicitDf": true,
      "rowLimit": 10000
     },
     "inputWidgets": {},
     "nuid": "02bc0604-cab7-4835-8431-a91637ea0965",
     "showTitle": true,
     "tableResultSettingsMap": {},
     "title": "weekday/end"
    }
   },
   "outputs": [
    {
     "output_type": "display_data",
     "data": {
      "text/html": [
       "<style scoped>\n",
       "  .table-result-container {\n",
       "    max-height: 300px;\n",
       "    overflow: auto;\n",
       "  }\n",
       "  table, th, td {\n",
       "    border: 1px solid black;\n",
       "    border-collapse: collapse;\n",
       "  }\n",
       "  th, td {\n",
       "    padding: 5px;\n",
       "  }\n",
       "  th {\n",
       "    text-align: left;\n",
       "  }\n",
       "</style><div class='table-result-container'><table class='table-result'><thead style='background-color: white'><tr><th>day_type</th><th>admission_count</th><th>avg_los_days</th><th>mortality_rate</th></tr></thead><tbody><tr><td>Weekday</td><td>95</td><td>9.11</td><td>32.63</td></tr><tr><td>Weekend</td><td>34</td><td>10.0</td><td>26.47</td></tr></tbody></table></div>"
      ]
     },
     "metadata": {
      "application/vnd.databricks.v1+output": {
       "addedWidgets": {},
       "aggData": [],
       "aggError": "",
       "aggOverflow": false,
       "aggSchema": [],
       "aggSeriesLimitReached": false,
       "aggType": "",
       "arguments": {},
       "columnCustomDisplayInfos": {},
       "data": [
        [
         "Weekday",
         95,
         9.11,
         "32.63"
        ],
        [
         "Weekend",
         34,
         10.0,
         "26.47"
        ]
       ],
       "datasetInfos": [],
       "dbfsResultPath": null,
       "isJsonSchema": true,
       "metadata": {
        "dataframeName": "_sqldf",
        "executionCount": 17
       },
       "overflow": false,
       "plotOptions": {
        "customPlotOptions": {},
        "displayType": "table",
        "pivotAggregation": null,
        "pivotColumns": null,
        "xColumns": null,
        "yColumns": null
       },
       "removedWidgets": [],
       "schema": [
        {
         "metadata": "{}",
         "name": "day_type",
         "type": "\"string\""
        },
        {
         "metadata": "{}",
         "name": "admission_count",
         "type": "\"long\""
        },
        {
         "metadata": "{}",
         "name": "avg_los_days",
         "type": "\"double\""
        },
        {
         "metadata": "{}",
         "name": "mortality_rate",
         "type": "\"decimal(27,2)\""
        }
       ],
       "type": "table"
      }
     },
     "output_type": "display_data"
    },
    {
     "output_type": "display_data",
     "data": {
      "text/plain": [
       "Databricks visualization. Run in Databricks to view."
      ]
     },
     "metadata": {
      "application/vnd.databricks.v1.subcommand+json": {
       "baseErrorDetails": null,
       "bindings": {},
       "collapsed": false,
       "command": "%sql WITH q AS (SELECT \n    CASE \n        WHEN date_format(admittime, 'E') IN ('Sat', 'Sun') THEN 'Weekend'\n        ELSE 'Weekday' \n    END as day_type,\n    COUNT(*) as admission_count,\n    ROUND(AVG(DATEDIFF(dischtime, admittime)), 2) as avg_los_days,\n    ROUND(SUM(hospital_expire_flag) * 100.0 / COUNT(*), 2) as mortality_rate\nFROM \n    mimicdata.mimic.admissions\nGROUP BY \n    CASE \n        WHEN date_format(admittime, 'E') IN ('Sat', 'Sun') THEN 'Weekend'\n        ELSE 'Weekday' \n    END) SELECT `day_type`,SUM(`admission_count`) `column_b66e6ce1176` FROM q GROUP BY `day_type`",
       "commandTitle": "Visualization 1",
       "commandType": "auto",
       "commandVersion": 0,
       "commentThread": [],
       "commentsVisible": false,
       "contentSha256Hex": null,
       "customPlotOptions": {
        "redashChart": [
         {
          "key": "type",
          "value": "CHART"
         },
         {
          "key": "options",
          "value": {
           "alignYAxesAtZero": true,
           "coefficient": 1,
           "columnConfigurationMap": {
            "x": {
             "column": "day_type",
             "id": "column_b66e6ce1174"
            },
            "y": [
             {
              "column": "admission_count",
              "id": "column_b66e6ce1176",
              "transform": "SUM"
             },
             {
              "column": "avg_los_days",
              "id": "column_86f2683287",
              "transform": "SUM"
             },
             {
              "column": "mortality_rate",
              "id": "column_86f2683290",
              "transform": "SUM"
             }
            ]
           },
           "dateTimeFormat": "DD/MM/YYYY HH:mm",
           "direction": {
            "type": "counterclockwise"
           },
           "error_y": {
            "type": "data",
            "visible": true
           },
           "globalSeriesType": "column",
           "isAggregationOn": true,
           "legend": {
            "traceorder": "normal"
           },
           "missingValuesAsZero": true,
           "numberFormat": "0,0.[00000]",
           "percentFormat": "0[.]00%",
           "series": {
            "error_y": {
             "type": "data",
             "visible": true
            },
            "stacking": null
           },
           "seriesOptions": {
            "column_86f2683287": {
             "type": "column",
             "yAxis": 0
            },
            "column_86f2683290": {
             "type": "column",
             "yAxis": 0
            },
            "column_b66e6ce1176": {
             "type": "column",
             "yAxis": 0
            }
           },
           "showDataLabels": false,
           "sizemode": "diameter",
           "sortX": true,
           "sortY": true,
           "swappedAxes": false,
           "textFormat": "",
           "useAggregationsUi": true,
           "valuesOptions": {},
           "version": 2,
           "xAxis": {
            "labels": {
             "enabled": true
            },
            "type": "-"
           },
           "yAxis": [
            {
             "type": "-"
            },
            {
             "opposite": true,
             "type": "-"
            }
           ]
          }
         }
        ]
       },
       "datasetPreviewNameToCmdIdMap": {},
       "diffDeletes": [],
       "diffInserts": [],
       "displayType": "redashChart",
       "error": null,
       "errorDetails": null,
       "errorSummary": null,
       "errorTraceType": null,
       "finishTime": 0,
       "globalVars": {},
       "guid": "",
       "height": "auto",
       "hideCommandCode": false,
       "hideCommandResult": false,
       "iPythonMetadata": null,
       "inputWidgets": {},
       "isLockedInExamMode": false,
       "latestUser": "a user",
       "latestUserId": null,
       "listResultMetadata": null,
       "metadata": {},
       "nuid": "fd28759a-d1d0-4f02-9b6a-612ceb39f474",
       "origId": 0,
       "parentHierarchy": [],
       "pivotAggregation": null,
       "pivotColumns": null,
       "position": 17.0,
       "resultDbfsErrorMessage": null,
       "resultDbfsStatus": "INLINED_IN_TREE",
       "results": null,
       "showCommandTitle": false,
       "startTime": 0,
       "state": "input",
       "streamStates": {},
       "subcommandOptions": {
        "queryPlan": {
         "groups": [
          {
           "column": "day_type",
           "type": "column"
          }
         ],
         "selects": [
          {
           "column": "day_type",
           "type": "column"
          },
          {
           "alias": "column_b66e6ce1176",
           "args": [
            {
             "column": "admission_count",
             "type": "column"
            }
           ],
           "function": "SUM",
           "type": "function"
          },
          {
           "alias": "column_86f2683287",
           "args": [
            {
             "column": "avg_los_days",
             "type": "column"
            }
           ],
           "function": "SUM",
           "type": "function"
          },
          {
           "alias": "column_86f2683290",
           "args": [
            {
             "column": "mortality_rate",
             "type": "column"
            }
           ],
           "function": "SUM",
           "type": "function"
          }
         ]
        }
       },
       "submitTime": 0,
       "subtype": "tableResultSubCmd.visualization",
       "tableResultIndex": 0,
       "tableResultSettingsMap": {},
       "useConsistentColors": false,
       "version": "CommandV1",
       "width": "auto",
       "workflows": [],
       "xColumns": null,
       "yColumns": null
      }
     },
     "output_type": "display_data"
    }
   ],
   "source": [
    "%sql\n",
    "SELECT \n",
    "    CASE \n",
    "        WHEN date_format(admittime, 'E') IN ('Sat', 'Sun') THEN 'Weekend'\n",
    "        ELSE 'Weekday' \n",
    "    END as day_type,\n",
    "    COUNT(*) as admission_count,\n",
    "    ROUND(AVG(DATEDIFF(dischtime, admittime)), 2) as avg_los_days,\n",
    "    ROUND(SUM(hospital_expire_flag) * 100.0 / COUNT(*), 2) as mortality_rate\n",
    "FROM \n",
    "    mimicdata_2567611159492892.mimic.admissions\n",
    "GROUP BY \n",
    "    CASE \n",
    "        WHEN date_format(admittime, 'E') IN ('Sat', 'Sun') THEN 'Weekend'\n",
    "        ELSE 'Weekday' \n",
    "    END"
   ]
  },
  {
   "cell_type": "code",
   "execution_count": 0,
   "metadata": {
    "application/vnd.databricks.v1+cell": {
     "cellMetadata": {
      "byteLimit": 2048000,
      "implicitDf": true,
      "rowLimit": 10000
     },
     "inputWidgets": {},
     "nuid": "a1802468-e3e0-4afb-bb0c-0bad54204537",
     "showTitle": true,
     "tableResultSettingsMap": {},
     "title": "IEPM"
    }
   },
   "outputs": [
    {
     "output_type": "display_data",
     "data": {
      "text/html": [
       "<style scoped>\n",
       "  .table-result-container {\n",
       "    max-height: 300px;\n",
       "    overflow: auto;\n",
       "  }\n",
       "  table, th, td {\n",
       "    border: 1px solid black;\n",
       "    border-collapse: collapse;\n",
       "  }\n",
       "  th, td {\n",
       "    padding: 5px;\n",
       "  }\n",
       "  th {\n",
       "    text-align: left;\n",
       "  }\n",
       "</style><div class='table-result-container'><table class='table-result'><thead style='background-color: white'><tr><th>insurance</th><th>ethnicity</th><th>patient_count</th><th>avg_los_days</th><th>mortality_rate</th></tr></thead><tbody><tr><td>Medicare</td><td>WHITE</td><td>66</td><td>7.7</td><td>34.85</td></tr><tr><td>Private</td><td>WHITE</td><td>17</td><td>17.88</td><td>11.76</td></tr><tr><td>Medicare</td><td>HISPANIC/LATINO - PUERTO RICAN</td><td>15</td><td>5.67</td><td>0.00</td></tr><tr><td>Medicare</td><td>BLACK/AFRICAN AMERICAN</td><td>7</td><td>12.43</td><td>28.57</td></tr><tr><td>Private</td><td>UNKNOWN/NOT SPECIFIED</td><td>5</td><td>11.2</td><td>40.00</td></tr><tr><td>Medicare</td><td>UNKNOWN/NOT SPECIFIED</td><td>4</td><td>5.0</td><td>25.00</td></tr></tbody></table></div>"
      ]
     },
     "metadata": {
      "application/vnd.databricks.v1+output": {
       "addedWidgets": {},
       "aggData": [],
       "aggError": "",
       "aggOverflow": false,
       "aggSchema": [],
       "aggSeriesLimitReached": false,
       "aggType": "",
       "arguments": {},
       "columnCustomDisplayInfos": {},
       "data": [
        [
         "Medicare",
         "WHITE",
         66,
         7.7,
         "34.85"
        ],
        [
         "Private",
         "WHITE",
         17,
         17.88,
         "11.76"
        ],
        [
         "Medicare",
         "HISPANIC/LATINO - PUERTO RICAN",
         15,
         5.67,
         "0.00"
        ],
        [
         "Medicare",
         "BLACK/AFRICAN AMERICAN",
         7,
         12.43,
         "28.57"
        ],
        [
         "Private",
         "UNKNOWN/NOT SPECIFIED",
         5,
         11.2,
         "40.00"
        ],
        [
         "Medicare",
         "UNKNOWN/NOT SPECIFIED",
         4,
         5.0,
         "25.00"
        ]
       ],
       "datasetInfos": [],
       "dbfsResultPath": null,
       "isJsonSchema": true,
       "metadata": {
        "dataframeName": "_sqldf",
        "executionCount": 18
       },
       "overflow": false,
       "plotOptions": {
        "customPlotOptions": {},
        "displayType": "table",
        "pivotAggregation": null,
        "pivotColumns": null,
        "xColumns": null,
        "yColumns": null
       },
       "removedWidgets": [],
       "schema": [
        {
         "metadata": "{}",
         "name": "insurance",
         "type": "\"string\""
        },
        {
         "metadata": "{}",
         "name": "ethnicity",
         "type": "\"string\""
        },
        {
         "metadata": "{}",
         "name": "patient_count",
         "type": "\"long\""
        },
        {
         "metadata": "{}",
         "name": "avg_los_days",
         "type": "\"double\""
        },
        {
         "metadata": "{}",
         "name": "mortality_rate",
         "type": "\"decimal(27,2)\""
        }
       ],
       "type": "table"
      }
     },
     "output_type": "display_data"
    },
    {
     "output_type": "display_data",
     "data": {
      "text/plain": [
       "Databricks visualization. Run in Databricks to view."
      ]
     },
     "metadata": {
      "application/vnd.databricks.v1.subcommand+json": {
       "baseErrorDetails": null,
       "bindings": {},
       "collapsed": false,
       "command": "%sql WITH q AS (SELECT \n    insurance,\n    ethnicity,\n    COUNT(*) as patient_count,\n    ROUND(AVG(DATEDIFF(dischtime, admittime)), 2) as avg_los_days,\n    ROUND(SUM(hospital_expire_flag) * 100.0 / COUNT(*), 2) as mortality_rate\nFROM \n    mimicdata.mimic.admissions\nGROUP BY \n    insurance, ethnicity\nHAVING \n    patient_count > 3 \nORDER BY \n    patient_count DESC) SELECT `insurance`,COUNT(`ethnicity`) `column_b66e6ce1195` FROM q GROUP BY `insurance`",
       "commandTitle": "Visualization 1",
       "commandType": "auto",
       "commandVersion": 0,
       "commentThread": [],
       "commentsVisible": false,
       "contentSha256Hex": null,
       "customPlotOptions": {
        "redashChart": [
         {
          "key": "type",
          "value": "CHART"
         },
         {
          "key": "options",
          "value": {
           "alignYAxesAtZero": true,
           "coefficient": 1,
           "columnConfigurationMap": {
            "x": {
             "column": "insurance",
             "id": "column_b66e6ce1193"
            },
            "y": [
             {
              "column": "patient_count",
              "id": "column_b66e6ce1195",
              "transform": "COUNT"
             },
             {
              "column": "avg_los_days",
              "id": "column_86f2683273",
              "transform": "SUM"
             },
             {
              "column": "mortality_rate",
              "id": "column_86f2683276",
              "transform": "SUM"
             }
            ]
           },
           "dateTimeFormat": "DD/MM/YYYY HH:mm",
           "direction": {
            "type": "counterclockwise"
           },
           "error_y": {
            "type": "data",
            "visible": true
           },
           "globalSeriesType": "column",
           "isAggregationOn": true,
           "legend": {
            "traceorder": "normal"
           },
           "missingValuesAsZero": true,
           "numberFormat": "0,0.[00000]",
           "percentFormat": "0[.]00%",
           "series": {
            "error_y": {
             "type": "data",
             "visible": true
            },
            "stacking": null
           },
           "seriesOptions": {
            "column_86f2683273": {
             "type": "column",
             "yAxis": 0
            },
            "column_86f2683276": {
             "type": "column",
             "yAxis": 0
            },
            "column_b66e6ce1195": {
             "type": "column",
             "yAxis": 0
            }
           },
           "showDataLabels": false,
           "sizemode": "diameter",
           "sortX": true,
           "sortY": true,
           "swappedAxes": false,
           "textFormat": "",
           "useAggregationsUi": true,
           "valuesOptions": {},
           "version": 2,
           "xAxis": {
            "labels": {
             "enabled": true
            },
            "type": "-"
           },
           "yAxis": [
            {
             "type": "-"
            },
            {
             "opposite": true,
             "type": "-"
            }
           ]
          }
         }
        ]
       },
       "datasetPreviewNameToCmdIdMap": {},
       "diffDeletes": [],
       "diffInserts": [],
       "displayType": "redashChart",
       "error": null,
       "errorDetails": null,
       "errorSummary": null,
       "errorTraceType": null,
       "finishTime": 0,
       "globalVars": {},
       "guid": "",
       "height": "auto",
       "hideCommandCode": false,
       "hideCommandResult": false,
       "iPythonMetadata": null,
       "inputWidgets": {},
       "isLockedInExamMode": false,
       "latestUser": "a user",
       "latestUserId": null,
       "listResultMetadata": null,
       "metadata": {},
       "nuid": "33abfb0f-e795-47d2-9898-f52a9919f107",
       "origId": 0,
       "parentHierarchy": [],
       "pivotAggregation": null,
       "pivotColumns": null,
       "position": 18.0,
       "resultDbfsErrorMessage": null,
       "resultDbfsStatus": "INLINED_IN_TREE",
       "results": null,
       "showCommandTitle": false,
       "startTime": 0,
       "state": "input",
       "streamStates": {},
       "subcommandOptions": {
        "queryPlan": {
         "groups": [
          {
           "column": "insurance",
           "type": "column"
          }
         ],
         "selects": [
          {
           "column": "insurance",
           "type": "column"
          },
          {
           "alias": "column_b66e6ce1195",
           "args": [
            {
             "column": "patient_count",
             "type": "column"
            }
           ],
           "function": "COUNT",
           "type": "function"
          },
          {
           "alias": "column_86f2683273",
           "args": [
            {
             "column": "avg_los_days",
             "type": "column"
            }
           ],
           "function": "SUM",
           "type": "function"
          },
          {
           "alias": "column_86f2683276",
           "args": [
            {
             "column": "mortality_rate",
             "type": "column"
            }
           ],
           "function": "SUM",
           "type": "function"
          }
         ]
        }
       },
       "submitTime": 0,
       "subtype": "tableResultSubCmd.visualization",
       "tableResultIndex": 0,
       "tableResultSettingsMap": {},
       "useConsistentColors": false,
       "version": "CommandV1",
       "width": "auto",
       "workflows": [],
       "xColumns": null,
       "yColumns": null
      }
     },
     "output_type": "display_data"
    },
    {
     "output_type": "display_data",
     "data": {
      "text/plain": [
       "Databricks visualization. Run in Databricks to view."
      ]
     },
     "metadata": {
      "application/vnd.databricks.v1.subcommand+json": {
       "baseErrorDetails": null,
       "bindings": {},
       "collapsed": false,
       "command": "%sql WITH q AS (SELECT \n    insurance,\n    ethnicity,\n    COUNT(*) as patient_count,\n    ROUND(AVG(DATEDIFF(dischtime, admittime)), 2) as avg_los_days,\n    ROUND(SUM(hospital_expire_flag) * 100.0 / COUNT(*), 2) as mortality_rate\nFROM \n    mimicdata.mimic.admissions\nGROUP BY \n    insurance, ethnicity\nHAVING \n    patient_count > 3 \nORDER BY \n    patient_count DESC) SELECT `ethnicity`,SUM(`mortality_rate`) `column_b66e6ce1201` FROM q GROUP BY `ethnicity`",
       "commandTitle": "Visualization 2",
       "commandType": "auto",
       "commandVersion": 0,
       "commentThread": [],
       "commentsVisible": false,
       "contentSha256Hex": null,
       "customPlotOptions": {
        "redashChart": [
         {
          "key": "type",
          "value": "CHART"
         },
         {
          "key": "options",
          "value": {
           "alignYAxesAtZero": true,
           "coefficient": 1,
           "columnConfigurationMap": {
            "x": {
             "column": "ethnicity",
             "id": "column_b66e6ce1199"
            },
            "y": [
             {
              "column": "mortality_rate",
              "id": "column_b66e6ce1201",
              "transform": "SUM"
             },
             {
              "column": "patient_count",
              "id": "column_86f2683280",
              "transform": "SUM"
             },
             {
              "column": "avg_los_days",
              "id": "column_86f2683283",
              "transform": "SUM"
             }
            ]
           },
           "dateTimeFormat": "DD/MM/YYYY HH:mm",
           "direction": {
            "type": "counterclockwise"
           },
           "error_y": {
            "type": "data",
            "visible": true
           },
           "globalSeriesType": "column",
           "isAggregationOn": true,
           "legend": {
            "traceorder": "normal"
           },
           "missingValuesAsZero": true,
           "numberFormat": "0,0.[00000]",
           "percentFormat": "0[.]00%",
           "series": {
            "error_y": {
             "type": "data",
             "visible": true
            },
            "stacking": null
           },
           "seriesOptions": {
            "column_86f2683280": {
             "type": "column",
             "yAxis": 0
            },
            "column_86f2683283": {
             "type": "column",
             "yAxis": 0
            },
            "column_b66e6ce1201": {
             "type": "column",
             "yAxis": 0
            }
           },
           "showDataLabels": false,
           "sizemode": "diameter",
           "sortX": true,
           "sortY": true,
           "swappedAxes": false,
           "textFormat": "",
           "useAggregationsUi": true,
           "valuesOptions": {},
           "version": 2,
           "xAxis": {
            "labels": {
             "enabled": true
            },
            "type": "-"
           },
           "yAxis": [
            {
             "type": "-"
            },
            {
             "opposite": true,
             "type": "-"
            }
           ]
          }
         }
        ]
       },
       "datasetPreviewNameToCmdIdMap": {},
       "diffDeletes": [],
       "diffInserts": [],
       "displayType": "redashChart",
       "error": null,
       "errorDetails": null,
       "errorSummary": null,
       "errorTraceType": null,
       "finishTime": 0,
       "globalVars": {},
       "guid": "",
       "height": "auto",
       "hideCommandCode": false,
       "hideCommandResult": false,
       "iPythonMetadata": null,
       "inputWidgets": {},
       "isLockedInExamMode": false,
       "latestUser": "a user",
       "latestUserId": null,
       "listResultMetadata": null,
       "metadata": {},
       "nuid": "60d8e768-d217-47e4-b885-bc806a41f8f5",
       "origId": 0,
       "parentHierarchy": [],
       "pivotAggregation": null,
       "pivotColumns": null,
       "position": 19.0,
       "resultDbfsErrorMessage": null,
       "resultDbfsStatus": "INLINED_IN_TREE",
       "results": null,
       "showCommandTitle": false,
       "startTime": 0,
       "state": "input",
       "streamStates": {},
       "subcommandOptions": {
        "queryPlan": {
         "groups": [
          {
           "column": "ethnicity",
           "type": "column"
          }
         ],
         "selects": [
          {
           "column": "ethnicity",
           "type": "column"
          },
          {
           "alias": "column_b66e6ce1201",
           "args": [
            {
             "column": "mortality_rate",
             "type": "column"
            }
           ],
           "function": "SUM",
           "type": "function"
          },
          {
           "alias": "column_86f2683280",
           "args": [
            {
             "column": "patient_count",
             "type": "column"
            }
           ],
           "function": "SUM",
           "type": "function"
          },
          {
           "alias": "column_86f2683283",
           "args": [
            {
             "column": "avg_los_days",
             "type": "column"
            }
           ],
           "function": "SUM",
           "type": "function"
          }
         ]
        }
       },
       "submitTime": 0,
       "subtype": "tableResultSubCmd.visualization",
       "tableResultIndex": 0,
       "tableResultSettingsMap": {},
       "useConsistentColors": false,
       "version": "CommandV1",
       "width": "auto",
       "workflows": [],
       "xColumns": null,
       "yColumns": null
      }
     },
     "output_type": "display_data"
    }
   ],
   "source": [
    "%sql\n",
    "SELECT \n",
    "    insurance,\n",
    "    ethnicity,\n",
    "    COUNT(*) as patient_count,\n",
    "    ROUND(AVG(DATEDIFF(dischtime, admittime)), 2) as avg_los_days,\n",
    "    ROUND(SUM(hospital_expire_flag) * 100.0 / COUNT(*), 2) as mortality_rate\n",
    "FROM \n",
    "    mimicdata_2567611159492892.mimic.admissions\n",
    "GROUP BY \n",
    "    insurance, ethnicity\n",
    "HAVING \n",
    "    patient_count > 3 -- Filter small groups for statistical relevance\n",
    "ORDER BY \n",
    "    patient_count DESC;"
   ]
  }
 ],
 "metadata": {
  "application/vnd.databricks.v1+notebook": {
   "computePreferences": null,
   "dashboards": [],
   "environmentMetadata": {
    "base_environment": "",
    "environment_version": "2"
   },
   "inputWidgetPreferences": null,
   "language": "python",
   "notebookMetadata": {
    "mostRecentlyExecutedCommandWithImplicitDF": {
     "commandId": 8508104364809365,
     "dataframes": [
      "_sqldf"
     ]
    },
    "pythonIndentUnit": 4
   },
   "notebookName": "1 admissions",
   "widgets": {}
  },
  "language_info": {
   "name": "python"
  }
 },
 "nbformat": 4,
 "nbformat_minor": 0
}