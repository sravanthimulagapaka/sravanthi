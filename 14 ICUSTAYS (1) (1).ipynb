{
 "cells": [
  {
   "cell_type": "code",
   "execution_count": 0,
   "metadata": {
    "application/vnd.databricks.v1+cell": {
     "cellMetadata": {
      "byteLimit": 2048000,
      "implicitDf": true,
      "rowLimit": 10000
     },
     "inputWidgets": {},
     "nuid": "225e5116-3293-4c19-9f39-c9e9354927ac",
     "showTitle": false,
     "tableResultSettingsMap": {},
     "title": ""
    }
   },
   "outputs": [
    {
     "output_type": "display_data",
     "data": {
      "text/html": [
       "<style scoped>\n",
       "  .table-result-container {\n",
       "    max-height: 300px;\n",
       "    overflow: auto;\n",
       "  }\n",
       "  table, th, td {\n",
       "    border: 1px solid black;\n",
       "    border-collapse: collapse;\n",
       "  }\n",
       "  th, td {\n",
       "    padding: 5px;\n",
       "  }\n",
       "  th {\n",
       "    text-align: left;\n",
       "  }\n",
       "</style><div class='table-result-container'><table class='table-result'><thead style='background-color: white'><tr></tr></thead><tbody></tbody></table></div>"
      ]
     },
     "metadata": {
      "application/vnd.databricks.v1+output": {
       "addedWidgets": {},
       "aggData": [],
       "aggError": "",
       "aggOverflow": false,
       "aggSchema": [],
       "aggSeriesLimitReached": false,
       "aggType": "",
       "arguments": {},
       "columnCustomDisplayInfos": {},
       "data": [],
       "datasetInfos": [],
       "dbfsResultPath": null,
       "isJsonSchema": true,
       "metadata": {
        "dataframeName": null
       },
       "overflow": false,
       "plotOptions": {
        "customPlotOptions": {},
        "displayType": "table",
        "pivotAggregation": null,
        "pivotColumns": null,
        "xColumns": null,
        "yColumns": null
       },
       "removedWidgets": [],
       "schema": [],
       "type": "table"
      }
     },
     "output_type": "display_data"
    }
   ],
   "source": [
    "%sql\n",
    "CREATE SCHEMA IF NOT EXISTS mimic"
   ]
  },
  {
   "cell_type": "code",
   "execution_count": 0,
   "metadata": {
    "application/vnd.databricks.v1+cell": {
     "cellMetadata": {
      "byteLimit": 2048000,
      "rowLimit": 10000
     },
     "inputWidgets": {},
     "nuid": "06ad0578-f01c-4ace-aba9-74532dfbd175",
     "showTitle": false,
     "tableResultSettingsMap": {},
     "title": ""
    }
   },
   "outputs": [],
   "source": [
    "icustays_df = spark.read.option(\"header\", \"true\").option(\"inferSchema\", \"true\").csv(\"dbfs:/mnt/mimic/ICUSTAYS.csv\")"
   ]
  },
  {
   "cell_type": "code",
   "execution_count": 0,
   "metadata": {
    "application/vnd.databricks.v1+cell": {
     "cellMetadata": {
      "byteLimit": 2048000,
      "rowLimit": 10000
     },
     "inputWidgets": {},
     "nuid": "a90aeb24-bd6d-4097-8780-a9cc804ef793",
     "showTitle": false,
     "tableResultSettingsMap": {},
     "title": ""
    }
   },
   "outputs": [],
   "source": [
    "icustays_df.write.format(\"delta\").mode(\"overwrite\").saveAsTable(\"mimic.icustays\")"
   ]
  },
  {
   "cell_type": "code",
   "execution_count": 0,
   "metadata": {
    "application/vnd.databricks.v1+cell": {
     "cellMetadata": {
      "byteLimit": 2048000,
      "implicitDf": true,
      "rowLimit": 10000
     },
     "inputWidgets": {},
     "nuid": "684d03e7-e2f7-4195-8bf8-78b2f683283b",
     "showTitle": true,
     "tableResultSettingsMap": {},
     "title": "Average Length of Stay in ICU"
    }
   },
   "outputs": [
    {
     "output_type": "display_data",
     "data": {
      "text/html": [
       "<style scoped>\n",
       "  .table-result-container {\n",
       "    max-height: 300px;\n",
       "    overflow: auto;\n",
       "  }\n",
       "  table, th, td {\n",
       "    border: 1px solid black;\n",
       "    border-collapse: collapse;\n",
       "  }\n",
       "  th, td {\n",
       "    padding: 5px;\n",
       "  }\n",
       "  th {\n",
       "    text-align: left;\n",
       "  }\n",
       "</style><div class='table-result-container'><table class='table-result'><thead style='background-color: white'><tr><th>first_careunit</th><th>total_stays</th><th>avg_length_of_stay</th><th>min_los</th><th>max_los</th><th>std_dev_los</th></tr></thead><tbody><tr><td>CCU</td><td>19</td><td>5.75</td><td>0.88</td><td>25.0</td><td>7.02</td></tr><tr><td>SICU</td><td>23</td><td>5.67</td><td>0.74</td><td>35.41</td><td>8.75</td></tr><tr><td>MICU</td><td>77</td><td>3.96</td><td>0.19</td><td>31.12</td><td>5.19</td></tr><tr><td>CSRU</td><td>6</td><td>3.63</td><td>0.9</td><td>8.14</td><td>3.2</td></tr><tr><td>TSICU</td><td>11</td><td>3.59</td><td>0.11</td><td>22.39</td><td>6.42</td></tr></tbody></table></div>"
      ]
     },
     "metadata": {
      "application/vnd.databricks.v1+output": {
       "addedWidgets": {},
       "aggData": [],
       "aggError": "",
       "aggOverflow": false,
       "aggSchema": [],
       "aggSeriesLimitReached": false,
       "aggType": "",
       "arguments": {},
       "columnCustomDisplayInfos": {},
       "data": [
        [
         "CCU",
         19,
         5.75,
         0.88,
         25.0,
         7.02
        ],
        [
         "SICU",
         23,
         5.67,
         0.74,
         35.41,
         8.75
        ],
        [
         "MICU",
         77,
         3.96,
         0.19,
         31.12,
         5.19
        ],
        [
         "CSRU",
         6,
         3.63,
         0.9,
         8.14,
         3.2
        ],
        [
         "TSICU",
         11,
         3.59,
         0.11,
         22.39,
         6.42
        ]
       ],
       "datasetInfos": [],
       "dbfsResultPath": null,
       "isJsonSchema": true,
       "metadata": {
        "dataframeName": "_sqldf",
        "executionCount": 3
       },
       "overflow": false,
       "plotOptions": {
        "customPlotOptions": {},
        "displayType": "table",
        "pivotAggregation": null,
        "pivotColumns": null,
        "xColumns": null,
        "yColumns": null
       },
       "removedWidgets": [],
       "schema": [
        {
         "metadata": "{}",
         "name": "first_careunit",
         "type": "\"string\""
        },
        {
         "metadata": "{}",
         "name": "total_stays",
         "type": "\"long\""
        },
        {
         "metadata": "{}",
         "name": "avg_length_of_stay",
         "type": "\"double\""
        },
        {
         "metadata": "{}",
         "name": "min_los",
         "type": "\"double\""
        },
        {
         "metadata": "{}",
         "name": "max_los",
         "type": "\"double\""
        },
        {
         "metadata": "{}",
         "name": "std_dev_los",
         "type": "\"double\""
        }
       ],
       "type": "table"
      }
     },
     "output_type": "display_data"
    },
    {
     "output_type": "display_data",
     "data": {
      "text/plain": [
       "Databricks visualization. Run in Databricks to view."
      ]
     },
     "metadata": {
      "application/vnd.databricks.v1.subcommand+json": {
       "baseErrorDetails": null,
       "bindings": {},
       "collapsed": false,
       "command": "%sql WITH q AS (SELECT \n    first_careunit,\n    COUNT(*) as total_stays,\n    ROUND(AVG(los), 2) as avg_length_of_stay,\n    ROUND(MIN(los), 2) as min_los,\n    ROUND(MAX(los), 2) as max_los,\n    ROUND(STDDEV(los), 2) as std_dev_los\nFROM mimicdata_2567611159492892.mimic.icustays\nGROUP BY first_careunit\nORDER BY avg_length_of_stay DESC) SELECT `first_careunit`,SUM(`total_stays`) `column_9ff6b43c733`,SUM(`avg_length_of_stay`) `column_9ff6b43c736`,SUM(`std_dev_los`) `column_9ff6b43c739` FROM q GROUP BY `first_careunit`",
       "commandTitle": "Visualization 1",
       "commandType": "auto",
       "commandVersion": 0,
       "commentThread": [],
       "commentsVisible": false,
       "contentSha256Hex": null,
       "customPlotOptions": {
        "redashChart": [
         {
          "key": "type",
          "value": "CHART"
         },
         {
          "key": "options",
          "value": {
           "alignYAxesAtZero": true,
           "coefficient": 1,
           "columnConfigurationMap": {
            "x": {
             "column": "first_careunit",
             "id": "column_9ff6b43c731"
            },
            "y": [
             {
              "column": "total_stays",
              "id": "column_9ff6b43c733",
              "transform": "SUM"
             },
             {
              "column": "avg_length_of_stay",
              "id": "column_9ff6b43c736",
              "transform": "SUM"
             },
             {
              "column": "std_dev_los",
              "id": "column_9ff6b43c739",
              "transform": "SUM"
             }
            ]
           },
           "dateTimeFormat": "DD/MM/YYYY HH:mm",
           "direction": {
            "type": "counterclockwise"
           },
           "error_y": {
            "type": "data",
            "visible": true
           },
           "globalSeriesType": "column",
           "isAggregationOn": true,
           "legend": {
            "traceorder": "normal"
           },
           "missingValuesAsZero": true,
           "numberFormat": "0,0.[00000]",
           "percentFormat": "0[.]00%",
           "series": {
            "error_y": {
             "type": "data",
             "visible": true
            },
            "stacking": null
           },
           "seriesOptions": {
            "column_9ff6b43c733": {
             "type": "column",
             "yAxis": 0
            },
            "column_9ff6b43c736": {
             "type": "column",
             "yAxis": 0
            },
            "column_9ff6b43c739": {
             "type": "column",
             "yAxis": 0
            }
           },
           "showDataLabels": false,
           "sizemode": "diameter",
           "sortX": true,
           "sortY": true,
           "swappedAxes": false,
           "textFormat": "",
           "useAggregationsUi": true,
           "valuesOptions": {},
           "version": 2,
           "xAxis": {
            "labels": {
             "enabled": true
            },
            "type": "-"
           },
           "yAxis": [
            {
             "type": "-"
            },
            {
             "opposite": true,
             "type": "-"
            }
           ]
          }
         }
        ]
       },
       "datasetPreviewNameToCmdIdMap": {},
       "diffDeletes": [],
       "diffInserts": [],
       "displayType": "redashChart",
       "error": null,
       "errorDetails": null,
       "errorSummary": null,
       "errorTraceType": null,
       "finishTime": 0,
       "globalVars": {},
       "guid": "",
       "height": "auto",
       "hideCommandCode": false,
       "hideCommandResult": false,
       "iPythonMetadata": null,
       "inputWidgets": {},
       "isLockedInExamMode": false,
       "latestUser": "a user",
       "latestUserId": null,
       "listResultMetadata": null,
       "metadata": {},
       "nuid": "666df61d-4e6a-4aa5-9fad-af5a66aaa790",
       "origId": 0,
       "parentHierarchy": [],
       "pivotAggregation": null,
       "pivotColumns": null,
       "position": 5.0,
       "resultDbfsErrorMessage": null,
       "resultDbfsStatus": "INLINED_IN_TREE",
       "results": null,
       "showCommandTitle": false,
       "startTime": 0,
       "state": "input",
       "streamStates": {},
       "subcommandOptions": {
        "queryPlan": {
         "groups": [
          {
           "column": "first_careunit",
           "type": "column"
          }
         ],
         "selects": [
          {
           "column": "first_careunit",
           "type": "column"
          },
          {
           "alias": "column_9ff6b43c733",
           "args": [
            {
             "column": "total_stays",
             "type": "column"
            }
           ],
           "function": "SUM",
           "type": "function"
          },
          {
           "alias": "column_9ff6b43c736",
           "args": [
            {
             "column": "avg_length_of_stay",
             "type": "column"
            }
           ],
           "function": "SUM",
           "type": "function"
          },
          {
           "alias": "column_9ff6b43c739",
           "args": [
            {
             "column": "std_dev_los",
             "type": "column"
            }
           ],
           "function": "SUM",
           "type": "function"
          }
         ]
        }
       },
       "submitTime": 0,
       "subtype": "tableResultSubCmd.visualization",
       "tableResultIndex": 0,
       "tableResultSettingsMap": {},
       "useConsistentColors": false,
       "version": "CommandV1",
       "width": "auto",
       "workflows": [],
       "xColumns": null,
       "yColumns": null
      }
     },
     "output_type": "display_data"
    }
   ],
   "source": [
    "%sql\n",
    "SELECT \n",
    "    first_careunit,\n",
    "    COUNT(*) as total_stays,\n",
    "    ROUND(AVG(los), 2) as avg_length_of_stay,\n",
    "    ROUND(MIN(los), 2) as min_los,\n",
    "    ROUND(MAX(los), 2) as max_los,\n",
    "    ROUND(STDDEV(los), 2) as std_dev_los\n",
    "FROM mimicdata_2567611159492892.mimic.icustays\n",
    "GROUP BY first_careunit\n",
    "ORDER BY avg_length_of_stay DESC;"
   ]
  },
  {
   "cell_type": "code",
   "execution_count": 0,
   "metadata": {
    "application/vnd.databricks.v1+cell": {
     "cellMetadata": {
      "byteLimit": 2048000,
      "implicitDf": true,
      "rowLimit": 10000
     },
     "inputWidgets": {},
     "nuid": "e2386ca8-8b3b-4eaa-bf05-fc617c2c9c48",
     "showTitle": true,
     "tableResultSettingsMap": {},
     "title": "ICU Occupancy Trends Over Time"
    }
   },
   "outputs": [
    {
     "output_type": "display_data",
     "data": {
      "text/html": [
       "<style scoped>\n",
       "  .table-result-container {\n",
       "    max-height: 300px;\n",
       "    overflow: auto;\n",
       "  }\n",
       "  table, th, td {\n",
       "    border: 1px solid black;\n",
       "    border-collapse: collapse;\n",
       "  }\n",
       "  th, td {\n",
       "    padding: 5px;\n",
       "  }\n",
       "  th {\n",
       "    text-align: left;\n",
       "  }\n",
       "</style><div class='table-result-container'><table class='table-result'><thead style='background-color: white'><tr><th>admission_date</th><th>daily_admissions</th><th>cumulative_admissions</th></tr></thead><tbody><tr><td>2102-08-31</td><td>1</td><td>1</td></tr><tr><td>2104-09-24</td><td>1</td><td>2</td></tr><tr><td>2104-10-24</td><td>1</td><td>3</td></tr><tr><td>2105-06-08</td><td>1</td><td>4</td></tr><tr><td>2106-08-30</td><td>1</td><td>5</td></tr><tr><td>2107-01-05</td><td>1</td><td>6</td></tr><tr><td>2107-01-16</td><td>1</td><td>7</td></tr><tr><td>2107-01-29</td><td>1</td><td>8</td></tr><tr><td>2107-03-24</td><td>1</td><td>9</td></tr><tr><td>2107-05-12</td><td>1</td><td>10</td></tr><tr><td>2111-01-07</td><td>1</td><td>11</td></tr><tr><td>2111-01-12</td><td>1</td><td>12</td></tr><tr><td>2112-02-04</td><td>1</td><td>13</td></tr><tr><td>2112-05-04</td><td>1</td><td>14</td></tr><tr><td>2112-05-23</td><td>1</td><td>15</td></tr><tr><td>2112-05-29</td><td>1</td><td>16</td></tr><tr><td>2115-05-12</td><td>1</td><td>17</td></tr><tr><td>2117-03-23</td><td>1</td><td>18</td></tr><tr><td>2117-08-05</td><td>1</td><td>19</td></tr><tr><td>2117-08-21</td><td>1</td><td>20</td></tr><tr><td>2118-10-06</td><td>1</td><td>21</td></tr><tr><td>2119-10-17</td><td>1</td><td>22</td></tr><tr><td>2119-10-30</td><td>1</td><td>23</td></tr><tr><td>2120-08-24</td><td>1</td><td>24</td></tr><tr><td>2121-12-07</td><td>1</td><td>25</td></tr><tr><td>2123-08-23</td><td>1</td><td>26</td></tr><tr><td>2123-11-24</td><td>1</td><td>27</td></tr><tr><td>2124-01-12</td><td>1</td><td>28</td></tr><tr><td>2125-10-04</td><td>1</td><td>29</td></tr><tr><td>2126-08-14</td><td>1</td><td>30</td></tr><tr><td>2127-03-19</td><td>1</td><td>31</td></tr><tr><td>2127-07-29</td><td>1</td><td>32</td></tr><tr><td>2127-10-06</td><td>1</td><td>33</td></tr><tr><td>2128-03-22</td><td>1</td><td>34</td></tr><tr><td>2128-11-04</td><td>1</td><td>35</td></tr><tr><td>2128-11-08</td><td>1</td><td>36</td></tr><tr><td>2129-03-04</td><td>1</td><td>37</td></tr><tr><td>2129-05-02</td><td>1</td><td>38</td></tr><tr><td>2129-11-24</td><td>1</td><td>39</td></tr><tr><td>2130-02-04</td><td>1</td><td>40</td></tr><tr><td>2130-08-12</td><td>1</td><td>41</td></tr><tr><td>2130-10-06</td><td>1</td><td>42</td></tr><tr><td>2131-07-27</td><td>1</td><td>43</td></tr><tr><td>2132-08-05</td><td>1</td><td>44</td></tr><tr><td>2132-12-05</td><td>1</td><td>45</td></tr><tr><td>2135-10-24</td><td>1</td><td>46</td></tr><tr><td>2138-04-08</td><td>1</td><td>47</td></tr><tr><td>2138-06-05</td><td>1</td><td>48</td></tr><tr><td>2138-11-12</td><td>1</td><td>49</td></tr><tr><td>2139-09-23</td><td>1</td><td>50</td></tr><tr><td>2141-01-25</td><td>1</td><td>51</td></tr><tr><td>2142-11-26</td><td>1</td><td>52</td></tr><tr><td>2144-02-11</td><td>1</td><td>53</td></tr><tr><td>2144-07-13</td><td>1</td><td>54</td></tr><tr><td>2144-07-18</td><td>1</td><td>55</td></tr><tr><td>2144-10-15</td><td>1</td><td>56</td></tr><tr><td>2144-12-24</td><td>1</td><td>57</td></tr><tr><td>2145-07-07</td><td>1</td><td>58</td></tr><tr><td>2145-09-06</td><td>1</td><td>59</td></tr><tr><td>2145-12-01</td><td>1</td><td>60</td></tr><tr><td>2146-07-21</td><td>1</td><td>61</td></tr><tr><td>2147-02-06</td><td>1</td><td>62</td></tr><tr><td>2147-02-23</td><td>1</td><td>63</td></tr><tr><td>2147-10-03</td><td>1</td><td>64</td></tr><tr><td>2148-01-13</td><td>1</td><td>65</td></tr><tr><td>2149-05-29</td><td>1</td><td>66</td></tr><tr><td>2150-08-07</td><td>1</td><td>67</td></tr><tr><td>2150-08-22</td><td>1</td><td>68</td></tr><tr><td>2151-08-13</td><td>1</td><td>69</td></tr><tr><td>2151-09-12</td><td>1</td><td>70</td></tr><tr><td>2152-10-03</td><td>1</td><td>71</td></tr><tr><td>2152-10-09</td><td>1</td><td>72</td></tr><tr><td>2155-03-10</td><td>1</td><td>73</td></tr><tr><td>2155-12-16</td><td>1</td><td>74</td></tr><tr><td>2159-11-17</td><td>1</td><td>75</td></tr><tr><td>2160-05-04</td><td>1</td><td>76</td></tr><tr><td>2160-12-16</td><td>1</td><td>77</td></tr><tr><td>2160-12-26</td><td>1</td><td>78</td></tr><tr><td>2161-02-04</td><td>1</td><td>79</td></tr><tr><td>2161-09-15</td><td>1</td><td>80</td></tr><tr><td>2162-01-16</td><td>1</td><td>81</td></tr><tr><td>2163-05-14</td><td>1</td><td>82</td></tr><tr><td>2163-11-21</td><td>1</td><td>83</td></tr><tr><td>2163-11-24</td><td>1</td><td>84</td></tr><tr><td>2164-10-23</td><td>1</td><td>85</td></tr><tr><td>2165-12-19</td><td>1</td><td>86</td></tr><tr><td>2166-02-12</td><td>1</td><td>87</td></tr><tr><td>2167-02-11</td><td>1</td><td>88</td></tr><tr><td>2169-05-06</td><td>1</td><td>89</td></tr><tr><td>2169-05-11</td><td>1</td><td>90</td></tr><tr><td>2170-12-02</td><td>1</td><td>91</td></tr><tr><td>2170-12-15</td><td>1</td><td>92</td></tr><tr><td>2171-07-12</td><td>1</td><td>93</td></tr><tr><td>2171-10-30</td><td>1</td><td>94</td></tr><tr><td>2173-11-27</td><td>1</td><td>95</td></tr><tr><td>2175-10-02</td><td>1</td><td>96</td></tr><tr><td>2176-07-14</td><td>1</td><td>97</td></tr><tr><td>2178-05-14</td><td>1</td><td>98</td></tr><tr><td>2179-04-17</td><td>1</td><td>99</td></tr><tr><td>2180-01-21</td><td>1</td><td>100</td></tr><tr><td>2180-02-29</td><td>1</td><td>101</td></tr><tr><td>2180-03-15</td><td>1</td><td>102</td></tr><tr><td>2180-07-19</td><td>1</td><td>103</td></tr><tr><td>2184-08-04</td><td>1</td><td>104</td></tr><tr><td>2185-03-24</td><td>1</td><td>105</td></tr><tr><td>2185-04-14</td><td>1</td><td>106</td></tr><tr><td>2186-02-09</td><td>1</td><td>107</td></tr><tr><td>2186-07-06</td><td>1</td><td>108</td></tr><tr><td>2188-02-12</td><td>1</td><td>109</td></tr><tr><td>2189-09-08</td><td>1</td><td>110</td></tr><tr><td>2190-07-13</td><td>1</td><td>111</td></tr><tr><td>2192-03-29</td><td>1</td><td>112</td></tr><tr><td>2192-04-16</td><td>1</td><td>113</td></tr><tr><td>2192-04-24</td><td>1</td><td>114</td></tr><tr><td>2192-04-30</td><td>1</td><td>115</td></tr><tr><td>2192-11-20</td><td>1</td><td>116</td></tr><tr><td>2193-10-15</td><td>1</td><td>117</td></tr><tr><td>2194-07-26</td><td>1</td><td>118</td></tr><tr><td>2195-05-17</td><td>1</td><td>119</td></tr><tr><td>2198-06-28</td><td>1</td><td>120</td></tr><tr><td>2198-06-29</td><td>1</td><td>121</td></tr><tr><td>2198-10-29</td><td>1</td><td>122</td></tr><tr><td>2199-01-13</td><td>1</td><td>123</td></tr><tr><td>2199-01-31</td><td>1</td><td>124</td></tr><tr><td>2200-03-17</td><td>1</td><td>125</td></tr><tr><td>2200-06-09</td><td>1</td><td>126</td></tr><tr><td>2200-10-29</td><td>1</td><td>127</td></tr><tr><td>2201-05-12</td><td>1</td><td>128</td></tr><tr><td>2201-08-10</td><td>1</td><td>129</td></tr><tr><td>2201-09-28</td><td>1</td><td>130</td></tr><tr><td>2201-11-16</td><td>1</td><td>131</td></tr><tr><td>2201-12-31</td><td>1</td><td>132</td></tr><tr><td>2202-02-15</td><td>1</td><td>133</td></tr><tr><td>2202-05-01</td><td>1</td><td>134</td></tr><tr><td>2202-09-16</td><td>1</td><td>135</td></tr><tr><td>2202-10-03</td><td>1</td><td>136</td></tr></tbody></table></div>"
      ]
     },
     "metadata": {
      "application/vnd.databricks.v1+output": {
       "addedWidgets": {},
       "aggData": [],
       "aggError": "",
       "aggOverflow": false,
       "aggSchema": [],
       "aggSeriesLimitReached": false,
       "aggType": "",
       "arguments": {},
       "columnCustomDisplayInfos": {},
       "data": [
        [
         "2102-08-31",
         1,
         1
        ],
        [
         "2104-09-24",
         1,
         2
        ],
        [
         "2104-10-24",
         1,
         3
        ],
        [
         "2105-06-08",
         1,
         4
        ],
        [
         "2106-08-30",
         1,
         5
        ],
        [
         "2107-01-05",
         1,
         6
        ],
        [
         "2107-01-16",
         1,
         7
        ],
        [
         "2107-01-29",
         1,
         8
        ],
        [
         "2107-03-24",
         1,
         9
        ],
        [
         "2107-05-12",
         1,
         10
        ],
        [
         "2111-01-07",
         1,
         11
        ],
        [
         "2111-01-12",
         1,
         12
        ],
        [
         "2112-02-04",
         1,
         13
        ],
        [
         "2112-05-04",
         1,
         14
        ],
        [
         "2112-05-23",
         1,
         15
        ],
        [
         "2112-05-29",
         1,
         16
        ],
        [
         "2115-05-12",
         1,
         17
        ],
        [
         "2117-03-23",
         1,
         18
        ],
        [
         "2117-08-05",
         1,
         19
        ],
        [
         "2117-08-21",
         1,
         20
        ],
        [
         "2118-10-06",
         1,
         21
        ],
        [
         "2119-10-17",
         1,
         22
        ],
        [
         "2119-10-30",
         1,
         23
        ],
        [
         "2120-08-24",
         1,
         24
        ],
        [
         "2121-12-07",
         1,
         25
        ],
        [
         "2123-08-23",
         1,
         26
        ],
        [
         "2123-11-24",
         1,
         27
        ],
        [
         "2124-01-12",
         1,
         28
        ],
        [
         "2125-10-04",
         1,
         29
        ],
        [
         "2126-08-14",
         1,
         30
        ],
        [
         "2127-03-19",
         1,
         31
        ],
        [
         "2127-07-29",
         1,
         32
        ],
        [
         "2127-10-06",
         1,
         33
        ],
        [
         "2128-03-22",
         1,
         34
        ],
        [
         "2128-11-04",
         1,
         35
        ],
        [
         "2128-11-08",
         1,
         36
        ],
        [
         "2129-03-04",
         1,
         37
        ],
        [
         "2129-05-02",
         1,
         38
        ],
        [
         "2129-11-24",
         1,
         39
        ],
        [
         "2130-02-04",
         1,
         40
        ],
        [
         "2130-08-12",
         1,
         41
        ],
        [
         "2130-10-06",
         1,
         42
        ],
        [
         "2131-07-27",
         1,
         43
        ],
        [
         "2132-08-05",
         1,
         44
        ],
        [
         "2132-12-05",
         1,
         45
        ],
        [
         "2135-10-24",
         1,
         46
        ],
        [
         "2138-04-08",
         1,
         47
        ],
        [
         "2138-06-05",
         1,
         48
        ],
        [
         "2138-11-12",
         1,
         49
        ],
        [
         "2139-09-23",
         1,
         50
        ],
        [
         "2141-01-25",
         1,
         51
        ],
        [
         "2142-11-26",
         1,
         52
        ],
        [
         "2144-02-11",
         1,
         53
        ],
        [
         "2144-07-13",
         1,
         54
        ],
        [
         "2144-07-18",
         1,
         55
        ],
        [
         "2144-10-15",
         1,
         56
        ],
        [
         "2144-12-24",
         1,
         57
        ],
        [
         "2145-07-07",
         1,
         58
        ],
        [
         "2145-09-06",
         1,
         59
        ],
        [
         "2145-12-01",
         1,
         60
        ],
        [
         "2146-07-21",
         1,
         61
        ],
        [
         "2147-02-06",
         1,
         62
        ],
        [
         "2147-02-23",
         1,
         63
        ],
        [
         "2147-10-03",
         1,
         64
        ],
        [
         "2148-01-13",
         1,
         65
        ],
        [
         "2149-05-29",
         1,
         66
        ],
        [
         "2150-08-07",
         1,
         67
        ],
        [
         "2150-08-22",
         1,
         68
        ],
        [
         "2151-08-13",
         1,
         69
        ],
        [
         "2151-09-12",
         1,
         70
        ],
        [
         "2152-10-03",
         1,
         71
        ],
        [
         "2152-10-09",
         1,
         72
        ],
        [
         "2155-03-10",
         1,
         73
        ],
        [
         "2155-12-16",
         1,
         74
        ],
        [
         "2159-11-17",
         1,
         75
        ],
        [
         "2160-05-04",
         1,
         76
        ],
        [
         "2160-12-16",
         1,
         77
        ],
        [
         "2160-12-26",
         1,
         78
        ],
        [
         "2161-02-04",
         1,
         79
        ],
        [
         "2161-09-15",
         1,
         80
        ],
        [
         "2162-01-16",
         1,
         81
        ],
        [
         "2163-05-14",
         1,
         82
        ],
        [
         "2163-11-21",
         1,
         83
        ],
        [
         "2163-11-24",
         1,
         84
        ],
        [
         "2164-10-23",
         1,
         85
        ],
        [
         "2165-12-19",
         1,
         86
        ],
        [
         "2166-02-12",
         1,
         87
        ],
        [
         "2167-02-11",
         1,
         88
        ],
        [
         "2169-05-06",
         1,
         89
        ],
        [
         "2169-05-11",
         1,
         90
        ],
        [
         "2170-12-02",
         1,
         91
        ],
        [
         "2170-12-15",
         1,
         92
        ],
        [
         "2171-07-12",
         1,
         93
        ],
        [
         "2171-10-30",
         1,
         94
        ],
        [
         "2173-11-27",
         1,
         95
        ],
        [
         "2175-10-02",
         1,
         96
        ],
        [
         "2176-07-14",
         1,
         97
        ],
        [
         "2178-05-14",
         1,
         98
        ],
        [
         "2179-04-17",
         1,
         99
        ],
        [
         "2180-01-21",
         1,
         100
        ],
        [
         "2180-02-29",
         1,
         101
        ],
        [
         "2180-03-15",
         1,
         102
        ],
        [
         "2180-07-19",
         1,
         103
        ],
        [
         "2184-08-04",
         1,
         104
        ],
        [
         "2185-03-24",
         1,
         105
        ],
        [
         "2185-04-14",
         1,
         106
        ],
        [
         "2186-02-09",
         1,
         107
        ],
        [
         "2186-07-06",
         1,
         108
        ],
        [
         "2188-02-12",
         1,
         109
        ],
        [
         "2189-09-08",
         1,
         110
        ],
        [
         "2190-07-13",
         1,
         111
        ],
        [
         "2192-03-29",
         1,
         112
        ],
        [
         "2192-04-16",
         1,
         113
        ],
        [
         "2192-04-24",
         1,
         114
        ],
        [
         "2192-04-30",
         1,
         115
        ],
        [
         "2192-11-20",
         1,
         116
        ],
        [
         "2193-10-15",
         1,
         117
        ],
        [
         "2194-07-26",
         1,
         118
        ],
        [
         "2195-05-17",
         1,
         119
        ],
        [
         "2198-06-28",
         1,
         120
        ],
        [
         "2198-06-29",
         1,
         121
        ],
        [
         "2198-10-29",
         1,
         122
        ],
        [
         "2199-01-13",
         1,
         123
        ],
        [
         "2199-01-31",
         1,
         124
        ],
        [
         "2200-03-17",
         1,
         125
        ],
        [
         "2200-06-09",
         1,
         126
        ],
        [
         "2200-10-29",
         1,
         127
        ],
        [
         "2201-05-12",
         1,
         128
        ],
        [
         "2201-08-10",
         1,
         129
        ],
        [
         "2201-09-28",
         1,
         130
        ],
        [
         "2201-11-16",
         1,
         131
        ],
        [
         "2201-12-31",
         1,
         132
        ],
        [
         "2202-02-15",
         1,
         133
        ],
        [
         "2202-05-01",
         1,
         134
        ],
        [
         "2202-09-16",
         1,
         135
        ],
        [
         "2202-10-03",
         1,
         136
        ]
       ],
       "datasetInfos": [],
       "dbfsResultPath": null,
       "isJsonSchema": true,
       "metadata": {
        "dataframeName": "_sqldf",
        "executionCount": 4
       },
       "overflow": false,
       "plotOptions": {
        "customPlotOptions": {},
        "displayType": "table",
        "pivotAggregation": null,
        "pivotColumns": null,
        "xColumns": null,
        "yColumns": null
       },
       "removedWidgets": [],
       "schema": [
        {
         "metadata": "{}",
         "name": "admission_date",
         "type": "\"date\""
        },
        {
         "metadata": "{}",
         "name": "daily_admissions",
         "type": "\"long\""
        },
        {
         "metadata": "{}",
         "name": "cumulative_admissions",
         "type": "\"long\""
        }
       ],
       "type": "table"
      }
     },
     "output_type": "display_data"
    },
    {
     "output_type": "display_data",
     "data": {
      "text/plain": [
       "Databricks visualization. Run in Databricks to view."
      ]
     },
     "metadata": {
      "application/vnd.databricks.v1.subcommand+json": {
       "baseErrorDetails": null,
       "bindings": {},
       "collapsed": false,
       "command": "%sql WITH q AS (SELECT \n    DATE(intime) as admission_date,\n    COUNT(*) as daily_admissions,\n    SUM(COUNT(*)) OVER (ORDER BY DATE(intime)) as cumulative_admissions\nFROM mimicdata_2567611159492892.mimic.icustays\nGROUP BY DATE(intime)\nORDER BY admission_date) SELECT SUM(`daily_admissions`) `column_9ff6b43c741`,SUM(`cumulative_admissions`) `column_9ff6b43c742`,`admission_date` FROM q GROUP BY `admission_date`",
       "commandTitle": "Visualization 1",
       "commandType": "auto",
       "commandVersion": 0,
       "commentThread": [],
       "commentsVisible": false,
       "contentSha256Hex": null,
       "customPlotOptions": {
        "redashChart": [
         {
          "key": "type",
          "value": "CHART"
         },
         {
          "key": "options",
          "value": {
           "alignYAxesAtZero": true,
           "coefficient": 1,
           "columnConfigurationMap": {
            "x": {
             "column": "admission_date",
             "id": "column_9ff6b43c743"
            },
            "y": [
             {
              "column": "daily_admissions",
              "id": "column_9ff6b43c741",
              "transform": "SUM"
             },
             {
              "column": "cumulative_admissions",
              "id": "column_9ff6b43c742",
              "transform": "SUM"
             }
            ]
           },
           "dateTimeFormat": "DD/MM/YYYY HH:mm",
           "direction": {
            "type": "counterclockwise"
           },
           "error_y": {
            "type": "data",
            "visible": true
           },
           "globalSeriesType": "line",
           "legend": {
            "traceorder": "normal"
           },
           "missingValuesAsZero": true,
           "numberFormat": "0,0.[00000]",
           "percentFormat": "0[.]00%",
           "series": {
            "error_y": {
             "type": "data",
             "visible": true
            },
            "stacking": null
           },
           "seriesOptions": {
            "column_9ff6b43c741": {
             "name": "daily_admissions",
             "yAxis": 0
            },
            "column_9ff6b43c742": {
             "name": "cumulative_admissions",
             "yAxis": 0
            }
           },
           "showDataLabels": false,
           "sizemode": "diameter",
           "sortX": true,
           "sortY": true,
           "swappedAxes": false,
           "textFormat": "",
           "useAggregationsUi": true,
           "valuesOptions": {},
           "version": 2,
           "xAxis": {
            "labels": {
             "enabled": true
            },
            "type": "-"
           },
           "yAxis": [
            {
             "type": "-"
            },
            {
             "opposite": true,
             "type": "-"
            }
           ]
          }
         }
        ]
       },
       "datasetPreviewNameToCmdIdMap": {},
       "diffDeletes": [],
       "diffInserts": [],
       "displayType": "redashChart",
       "error": null,
       "errorDetails": null,
       "errorSummary": null,
       "errorTraceType": null,
       "finishTime": 0,
       "globalVars": {},
       "guid": "",
       "height": "auto",
       "hideCommandCode": false,
       "hideCommandResult": false,
       "iPythonMetadata": null,
       "inputWidgets": {},
       "isLockedInExamMode": false,
       "latestUser": "a user",
       "latestUserId": null,
       "listResultMetadata": null,
       "metadata": {},
       "nuid": "826a7be6-5736-44ce-abfd-00eef403d633",
       "origId": 0,
       "parentHierarchy": [],
       "pivotAggregation": null,
       "pivotColumns": null,
       "position": 6.0,
       "resultDbfsErrorMessage": null,
       "resultDbfsStatus": "INLINED_IN_TREE",
       "results": null,
       "showCommandTitle": false,
       "startTime": 0,
       "state": "input",
       "streamStates": {},
       "subcommandOptions": {
        "queryPlan": {
         "groups": [
          {
           "column": "admission_date",
           "type": "column"
          }
         ],
         "selects": [
          {
           "alias": "column_9ff6b43c741",
           "args": [
            {
             "column": "daily_admissions",
             "type": "column"
            }
           ],
           "function": "SUM",
           "type": "function"
          },
          {
           "alias": "column_9ff6b43c742",
           "args": [
            {
             "column": "cumulative_admissions",
             "type": "column"
            }
           ],
           "function": "SUM",
           "type": "function"
          },
          {
           "column": "admission_date",
           "type": "column"
          }
         ]
        }
       },
       "submitTime": 0,
       "subtype": "tableResultSubCmd.visualization",
       "tableResultIndex": 0,
       "tableResultSettingsMap": {},
       "useConsistentColors": false,
       "version": "CommandV1",
       "width": "auto",
       "workflows": [],
       "xColumns": null,
       "yColumns": null
      }
     },
     "output_type": "display_data"
    }
   ],
   "source": [
    "%sql\n",
    "SELECT \n",
    "    DATE_TRUNC('month', intime) as month,\n",
    "    first_careunit,\n",
    "    COUNT(*) as admissions,\n",
    "    ROUND(AVG(los), 2) as avg_los_month\n",
    "FROM mimicdata_2567611159492892.mimic.icustays\n",
    "GROUP BY DATE_TRUNC('month', intime), first_careunit\n",
    "ORDER BY month, first_careunit;\n",
    "\n",
    "-- Daily occupancy calculation\n",
    "SELECT \n",
    "    DATE(intime) as admission_date,\n",
    "    COUNT(*) as daily_admissions,\n",
    "    SUM(COUNT(*)) OVER (ORDER BY DATE(intime)) as cumulative_admissions\n",
    "FROM mimicdata_2567611159492892.mimic.icustays\n",
    "GROUP BY DATE(intime)\n",
    "ORDER BY admission_date;"
   ]
  },
  {
   "cell_type": "code",
   "execution_count": 0,
   "metadata": {
    "application/vnd.databricks.v1+cell": {
     "cellMetadata": {
      "byteLimit": 2048000,
      "implicitDf": true,
      "rowLimit": 10000
     },
     "inputWidgets": {},
     "nuid": "e50fb0ea-93de-4768-b8ce-884be988931f",
     "showTitle": true,
     "tableResultSettingsMap": {},
     "title": "Patient Flow Between Care Units"
    }
   },
   "outputs": [
    {
     "output_type": "display_data",
     "data": {
      "text/html": [
       "<style scoped>\n",
       "  .table-result-container {\n",
       "    max-height: 300px;\n",
       "    overflow: auto;\n",
       "  }\n",
       "  table, th, td {\n",
       "    border: 1px solid black;\n",
       "    border-collapse: collapse;\n",
       "  }\n",
       "  th, td {\n",
       "    padding: 5px;\n",
       "  }\n",
       "  th {\n",
       "    text-align: left;\n",
       "  }\n",
       "</style><div class='table-result-container'><table class='table-result'><thead style='background-color: white'><tr><th>first_careunit</th><th>total_admissions</th><th>transfers</th><th>transfer_rate_percent</th></tr></thead><tbody><tr><td>TSICU</td><td>11</td><td>1</td><td>9.09</td></tr><tr><td>MICU</td><td>77</td><td>5</td><td>6.49</td></tr><tr><td>CCU</td><td>19</td><td>1</td><td>5.26</td></tr><tr><td>SICU</td><td>23</td><td>1</td><td>4.35</td></tr><tr><td>CSRU</td><td>6</td><td>0</td><td>0.00</td></tr></tbody></table></div>"
      ]
     },
     "metadata": {
      "application/vnd.databricks.v1+output": {
       "addedWidgets": {},
       "aggData": [],
       "aggError": "",
       "aggOverflow": false,
       "aggSchema": [],
       "aggSeriesLimitReached": false,
       "aggType": "",
       "arguments": {},
       "columnCustomDisplayInfos": {},
       "data": [
        [
         "TSICU",
         11,
         1,
         "9.09"
        ],
        [
         "MICU",
         77,
         5,
         "6.49"
        ],
        [
         "CCU",
         19,
         1,
         "5.26"
        ],
        [
         "SICU",
         23,
         1,
         "4.35"
        ],
        [
         "CSRU",
         6,
         0,
         "0.00"
        ]
       ],
       "datasetInfos": [],
       "dbfsResultPath": null,
       "isJsonSchema": true,
       "metadata": {
        "dataframeName": "_sqldf",
        "executionCount": 5
       },
       "overflow": false,
       "plotOptions": {
        "customPlotOptions": {},
        "displayType": "table",
        "pivotAggregation": null,
        "pivotColumns": null,
        "xColumns": null,
        "yColumns": null
       },
       "removedWidgets": [],
       "schema": [
        {
         "metadata": "{}",
         "name": "first_careunit",
         "type": "\"string\""
        },
        {
         "metadata": "{}",
         "name": "total_admissions",
         "type": "\"long\""
        },
        {
         "metadata": "{}",
         "name": "transfers",
         "type": "\"long\""
        },
        {
         "metadata": "{}",
         "name": "transfer_rate_percent",
         "type": "\"decimal(27,2)\""
        }
       ],
       "type": "table"
      }
     },
     "output_type": "display_data"
    },
    {
     "output_type": "display_data",
     "data": {
      "text/plain": [
       "Databricks visualization. Run in Databricks to view."
      ]
     },
     "metadata": {
      "application/vnd.databricks.v1.subcommand+json": {
       "baseErrorDetails": null,
       "bindings": {},
       "collapsed": false,
       "command": "%sql WITH q AS (SELECT \n    first_careunit,\n    COUNT(*) as total_admissions,\n    SUM(CASE WHEN first_careunit != last_careunit THEN 1 ELSE 0 END) as transfers,\n    ROUND(\n        (SUM(CASE WHEN first_careunit != last_careunit THEN 1 ELSE 0 END) * 100.0 / COUNT(*)), 2\n    ) as transfer_rate_percent\nFROM mimicdata_2567611159492892.mimic.icustays\nGROUP BY first_careunit\nORDER BY transfer_rate_percent DESC) SELECT `first_careunit`,SUM(`total_admissions`) `column_9ff6b43c749`,SUM(`transfers`) `column_9ff6b43c752` FROM q GROUP BY `first_careunit`",
       "commandTitle": "Visualization 1",
       "commandType": "auto",
       "commandVersion": 0,
       "commentThread": [],
       "commentsVisible": false,
       "contentSha256Hex": null,
       "customPlotOptions": {
        "redashChart": [
         {
          "key": "type",
          "value": "CHART"
         },
         {
          "key": "options",
          "value": {
           "alignYAxesAtZero": true,
           "coefficient": 1,
           "columnConfigurationMap": {
            "x": {
             "column": "first_careunit",
             "id": "column_9ff6b43c747"
            },
            "y": [
             {
              "column": "total_admissions",
              "id": "column_9ff6b43c749",
              "transform": "SUM"
             },
             {
              "column": "transfers",
              "id": "column_9ff6b43c752",
              "transform": "SUM"
             }
            ]
           },
           "dateTimeFormat": "DD/MM/YYYY HH:mm",
           "direction": {
            "type": "counterclockwise"
           },
           "error_y": {
            "type": "data",
            "visible": true
           },
           "globalSeriesType": "column",
           "isAggregationOn": true,
           "legend": {
            "traceorder": "normal"
           },
           "missingValuesAsZero": true,
           "numberFormat": "0,0.[00000]",
           "percentFormat": "0[.]00%",
           "series": {
            "error_y": {
             "type": "data",
             "visible": true
            },
            "stacking": null
           },
           "seriesOptions": {
            "column_9ff6b43c749": {
             "type": "column",
             "yAxis": 0
            },
            "column_9ff6b43c752": {
             "type": "column",
             "yAxis": 0
            }
           },
           "showDataLabels": false,
           "sizemode": "diameter",
           "sortX": true,
           "sortY": true,
           "swappedAxes": false,
           "textFormat": "",
           "useAggregationsUi": true,
           "valuesOptions": {},
           "version": 2,
           "xAxis": {
            "labels": {
             "enabled": true
            },
            "type": "-"
           },
           "yAxis": [
            {
             "type": "-"
            },
            {
             "opposite": true,
             "type": "-"
            }
           ]
          }
         }
        ]
       },
       "datasetPreviewNameToCmdIdMap": {},
       "diffDeletes": [],
       "diffInserts": [],
       "displayType": "redashChart",
       "error": null,
       "errorDetails": null,
       "errorSummary": null,
       "errorTraceType": null,
       "finishTime": 0,
       "globalVars": {},
       "guid": "",
       "height": "auto",
       "hideCommandCode": false,
       "hideCommandResult": false,
       "iPythonMetadata": null,
       "inputWidgets": {},
       "isLockedInExamMode": false,
       "latestUser": "a user",
       "latestUserId": null,
       "listResultMetadata": null,
       "metadata": {},
       "nuid": "dfc16f03-aa45-4604-b49f-d9e8eab6462d",
       "origId": 0,
       "parentHierarchy": [],
       "pivotAggregation": null,
       "pivotColumns": null,
       "position": 7.0,
       "resultDbfsErrorMessage": null,
       "resultDbfsStatus": "INLINED_IN_TREE",
       "results": null,
       "showCommandTitle": false,
       "startTime": 0,
       "state": "input",
       "streamStates": {},
       "subcommandOptions": {
        "queryPlan": {
         "groups": [
          {
           "column": "first_careunit",
           "type": "column"
          }
         ],
         "selects": [
          {
           "column": "first_careunit",
           "type": "column"
          },
          {
           "alias": "column_9ff6b43c749",
           "args": [
            {
             "column": "total_admissions",
             "type": "column"
            }
           ],
           "function": "SUM",
           "type": "function"
          },
          {
           "alias": "column_9ff6b43c752",
           "args": [
            {
             "column": "transfers",
             "type": "column"
            }
           ],
           "function": "SUM",
           "type": "function"
          }
         ]
        }
       },
       "submitTime": 0,
       "subtype": "tableResultSubCmd.visualization",
       "tableResultIndex": 0,
       "tableResultSettingsMap": {},
       "useConsistentColors": false,
       "version": "CommandV1",
       "width": "auto",
       "workflows": [],
       "xColumns": null,
       "yColumns": null
      }
     },
     "output_type": "display_data"
    }
   ],
   "source": [
    "%sql\n",
    "SELECT \n",
    "    first_careunit,\n",
    "    last_careunit,\n",
    "    COUNT(*) as transfer_count,\n",
    "    ROUND(AVG(los), 2) as avg_los_transfers,\n",
    "    CASE \n",
    "        WHEN first_careunit = last_careunit THEN 'No Transfer'\n",
    "        ELSE 'Transfer'\n",
    "    END as transfer_status\n",
    "FROM mimicdata_2567611159492892.mimic.icustays\n",
    "GROUP BY first_careunit, last_careunit\n",
    "ORDER BY transfer_count DESC;\n",
    "\n",
    "-- Transfer rate by unit\n",
    "SELECT \n",
    "    first_careunit,\n",
    "    COUNT(*) as total_admissions,\n",
    "    SUM(CASE WHEN first_careunit != last_careunit THEN 1 ELSE 0 END) as transfers,\n",
    "    ROUND(\n",
    "        (SUM(CASE WHEN first_careunit != last_careunit THEN 1 ELSE 0 END) * 100.0 / COUNT(*)), 2\n",
    "    ) as transfer_rate_percent\n",
    "FROM mimicdata_2567611159492892.mimic.icustays\n",
    "GROUP BY first_careunit\n",
    "ORDER BY transfer_rate_percent DESC;"
   ]
  },
  {
   "cell_type": "code",
   "execution_count": 0,
   "metadata": {
    "application/vnd.databricks.v1+cell": {
     "cellMetadata": {
      "byteLimit": 2048000,
      "implicitDf": true,
      "rowLimit": 10000
     },
     "inputWidgets": {},
     "nuid": "548f5c13-b1cc-4a74-a981-9091d9d89136",
     "showTitle": true,
     "tableResultSettingsMap": {},
     "title": "Length of Stay"
    }
   },
   "outputs": [
    {
     "output_type": "display_data",
     "data": {
      "text/html": [
       "<style scoped>\n",
       "  .table-result-container {\n",
       "    max-height: 300px;\n",
       "    overflow: auto;\n",
       "  }\n",
       "  table, th, td {\n",
       "    border: 1px solid black;\n",
       "    border-collapse: collapse;\n",
       "  }\n",
       "  th, td {\n",
       "    padding: 5px;\n",
       "  }\n",
       "  th {\n",
       "    text-align: left;\n",
       "  }\n",
       "</style><div class='table-result-container'><table class='table-result'><thead style='background-color: white'><tr><th>los_category</th><th>patient_count</th><th>percentage</th></tr></thead><tbody><tr><td>1-2 weeks</td><td>15</td><td>11.03</td></tr><tr><td>1-3 days</td><td>69</td><td>50.74</td></tr><tr><td>2-4 weeks</td><td>8</td><td>5.88</td></tr><tr><td>3-7 days</td><td>20</td><td>14.71</td></tr><tr><td>< 1 day</td><td>22</td><td>16.18</td></tr><tr><td>> 1 month</td><td>2</td><td>1.47</td></tr></tbody></table></div>"
      ]
     },
     "metadata": {
      "application/vnd.databricks.v1+output": {
       "addedWidgets": {},
       "aggData": [],
       "aggError": "",
       "aggOverflow": false,
       "aggSchema": [],
       "aggSeriesLimitReached": false,
       "aggType": "",
       "arguments": {},
       "columnCustomDisplayInfos": {},
       "data": [
        [
         "1-2 weeks",
         15,
         "11.03"
        ],
        [
         "1-3 days",
         69,
         "50.74"
        ],
        [
         "2-4 weeks",
         8,
         "5.88"
        ],
        [
         "3-7 days",
         20,
         "14.71"
        ],
        [
         "< 1 day",
         22,
         "16.18"
        ],
        [
         "> 1 month",
         2,
         "1.47"
        ]
       ],
       "datasetInfos": [],
       "dbfsResultPath": null,
       "isJsonSchema": true,
       "metadata": {
        "dataframeName": "_sqldf",
        "executionCount": 6
       },
       "overflow": false,
       "plotOptions": {
        "customPlotOptions": {},
        "displayType": "table",
        "pivotAggregation": null,
        "pivotColumns": null,
        "xColumns": null,
        "yColumns": null
       },
       "removedWidgets": [],
       "schema": [
        {
         "metadata": "{}",
         "name": "los_category",
         "type": "\"string\""
        },
        {
         "metadata": "{}",
         "name": "patient_count",
         "type": "\"long\""
        },
        {
         "metadata": "{}",
         "name": "percentage",
         "type": "\"decimal(27,2)\""
        }
       ],
       "type": "table"
      }
     },
     "output_type": "display_data"
    },
    {
     "output_type": "display_data",
     "data": {
      "text/plain": [
       "Databricks visualization. Run in Databricks to view."
      ]
     },
     "metadata": {
      "application/vnd.databricks.v1.subcommand+json": {
       "baseErrorDetails": null,
       "bindings": {},
       "collapsed": false,
       "command": "%sql WITH q AS (SELECT \n    CASE \n        WHEN los < 1 THEN '< 1 day'\n        WHEN los >= 1 AND los < 3 THEN '1-3 days'\n        WHEN los >= 3 AND los < 7 THEN '3-7 days'\n        WHEN los >= 7 AND los < 14 THEN '1-2 weeks'\n        WHEN los >= 14 AND los < 30 THEN '2-4 weeks'\n        ELSE '> 1 month'\n    END as los_category,\n    COUNT(*) as patient_count,\n    ROUND((COUNT(*) * 100.0 / (SELECT COUNT(*) FROM mimicdata_2567611159492892.mimic.icustays)), 2) as percentage\nFROM mimicdata_2567611159492892.mimic.icustays\nGROUP BY \n    CASE \n        WHEN los < 1 THEN '< 1 day'\n        WHEN los >= 1 AND los < 3 THEN '1-3 days'\n        WHEN los >= 3 AND los < 7 THEN '3-7 days'\n        WHEN los >= 7 AND los < 14 THEN '1-2 weeks'\n        WHEN los >= 14 AND los < 30 THEN '2-4 weeks'\n        ELSE '> 1 month'\n    END\nORDER BY \n    los_category) SELECT `los_category`,`patient_count`,`los_category` FROM q",
       "commandTitle": "Visualization 1",
       "commandType": "auto",
       "commandVersion": 0,
       "commentThread": [],
       "commentsVisible": false,
       "contentSha256Hex": null,
       "customPlotOptions": {
        "redashChart": [
         {
          "key": "type",
          "value": "CHART"
         },
         {
          "key": "options",
          "value": {
           "alignYAxesAtZero": true,
           "coefficient": 1,
           "columnConfigurationMap": {
            "series": {
             "column": "los_category",
             "id": "column_9ff6b43c756"
            },
            "x": {
             "column": "los_category",
             "id": "column_9ff6b43c757"
            },
            "y": [
             {
              "column": "patient_count",
              "id": "column_9ff6b43c758",
              "transform": "SUM"
             }
            ]
           },
           "dateTimeFormat": "DD/MM/YYYY HH:mm",
           "direction": {
            "type": "counterclockwise"
           },
           "error_y": {
            "type": "data",
            "visible": true
           },
           "globalSeriesType": "column",
           "isAggregationOn": true,
           "legend": {
            "traceorder": "normal"
           },
           "missingValuesAsZero": true,
           "numberFormat": "0,0.[00000]",
           "percentFormat": "0[.]00%",
           "series": {
            "error_y": {
             "type": "data",
             "visible": true
            },
            "stacking": null
           },
           "seriesOptions": {
            "column_9ff6b43c755": {
             "name": "percentage",
             "type": "column",
             "yAxis": 0
            },
            "column_9ff6b43c758": {
             "type": "column",
             "yAxis": 0
            },
            "patient_count": {
             "type": "column",
             "yAxis": 0
            }
           },
           "showDataLabels": false,
           "sizemode": "diameter",
           "sortX": true,
           "sortY": true,
           "swappedAxes": false,
           "textFormat": "",
           "useAggregationsUi": true,
           "valuesOptions": {},
           "version": 2,
           "xAxis": {
            "labels": {
             "enabled": true
            },
            "type": "-"
           },
           "yAxis": [
            {
             "type": "-"
            },
            {
             "opposite": true,
             "type": "-"
            }
           ]
          }
         }
        ]
       },
       "datasetPreviewNameToCmdIdMap": {},
       "diffDeletes": [],
       "diffInserts": [],
       "displayType": "redashChart",
       "error": null,
       "errorDetails": null,
       "errorSummary": null,
       "errorTraceType": null,
       "finishTime": 0,
       "globalVars": {},
       "guid": "",
       "height": "auto",
       "hideCommandCode": false,
       "hideCommandResult": false,
       "iPythonMetadata": null,
       "inputWidgets": {},
       "isLockedInExamMode": false,
       "latestUser": "a user",
       "latestUserId": null,
       "listResultMetadata": null,
       "metadata": {},
       "nuid": "2272f75c-6c7f-42a8-b6d0-bea5ee314eca",
       "origId": 0,
       "parentHierarchy": [],
       "pivotAggregation": null,
       "pivotColumns": null,
       "position": 8.0,
       "resultDbfsErrorMessage": null,
       "resultDbfsStatus": "INLINED_IN_TREE",
       "results": null,
       "showCommandTitle": false,
       "startTime": 0,
       "state": "input",
       "streamStates": {},
       "subcommandOptions": {
        "queryPlan": {
         "groups": [
          {
           "column": "los_category",
           "type": "column"
          },
          {
           "column": "los_category",
           "type": "column"
          }
         ],
         "selects": [
          {
           "column": "los_category",
           "type": "column"
          },
          {
           "alias": "column_9ff6b43c758",
           "args": [
            {
             "column": "patient_count",
             "type": "column"
            }
           ],
           "function": "SUM",
           "type": "function"
          },
          {
           "column": "los_category",
           "type": "column"
          }
         ]
        }
       },
       "submitTime": 0,
       "subtype": "tableResultSubCmd.visualization",
       "tableResultIndex": 0,
       "tableResultSettingsMap": {},
       "useConsistentColors": false,
       "version": "CommandV1",
       "width": "auto",
       "workflows": [],
       "xColumns": null,
       "yColumns": null
      }
     },
     "output_type": "display_data"
    }
   ],
   "source": [
    "%sql\n",
    "SELECT \n",
    "    CASE \n",
    "        WHEN los < 1 THEN '< 1 day'\n",
    "        WHEN los >= 1 AND los < 3 THEN '1-3 days'\n",
    "        WHEN los >= 3 AND los < 7 THEN '3-7 days'\n",
    "        WHEN los >= 7 AND los < 14 THEN '1-2 weeks'\n",
    "        WHEN los >= 14 AND los < 30 THEN '2-4 weeks'\n",
    "        ELSE '> 1 month'\n",
    "    END as los_category,\n",
    "    COUNT(*) as patient_count,\n",
    "    ROUND((COUNT(*) * 100.0 / (SELECT COUNT(*) FROM mimicdata_2567611159492892.mimic.icustays)), 2) as percentage\n",
    "FROM mimicdata_2567611159492892.mimic.icustays\n",
    "GROUP BY \n",
    "    CASE \n",
    "        WHEN los < 1 THEN '< 1 day'\n",
    "        WHEN los >= 1 AND los < 3 THEN '1-3 days'\n",
    "        WHEN los >= 3 AND los < 7 THEN '3-7 days'\n",
    "        WHEN los >= 7 AND los < 14 THEN '1-2 weeks'\n",
    "        WHEN los >= 14 AND los < 30 THEN '2-4 weeks'\n",
    "        ELSE '> 1 month'\n",
    "    END\n",
    "ORDER BY \n",
    "    los_category;"
   ]
  },
  {
   "cell_type": "code",
   "execution_count": 0,
   "metadata": {
    "application/vnd.databricks.v1+cell": {
     "cellMetadata": {
      "byteLimit": 2048000,
      "implicitDf": true,
      "rowLimit": 10000
     },
     "inputWidgets": {},
     "nuid": "15cecb4b-992e-4f10-87ba-0be92d90c764",
     "showTitle": true,
     "tableResultSettingsMap": {},
     "title": "Admissions by day of week"
    }
   },
   "outputs": [
    {
     "output_type": "display_data",
     "data": {
      "text/html": [
       "<style scoped>\n",
       "  .table-result-container {\n",
       "    max-height: 300px;\n",
       "    overflow: auto;\n",
       "  }\n",
       "  table, th, td {\n",
       "    border: 1px solid black;\n",
       "    border-collapse: collapse;\n",
       "  }\n",
       "  th, td {\n",
       "    padding: 5px;\n",
       "  }\n",
       "  th {\n",
       "    text-align: left;\n",
       "  }\n",
       "</style><div class='table-result-container'><table class='table-result'><thead style='background-color: white'><tr><th>hour_of_day</th><th>admission_count</th><th>first_careunit</th></tr></thead><tbody><tr><td>0</td><td>3</td><td>MICU</td></tr><tr><td>1</td><td>4</td><td>MICU</td></tr><tr><td>1</td><td>1</td><td>TSICU</td></tr><tr><td>2</td><td>2</td><td>CCU</td></tr><tr><td>2</td><td>2</td><td>MICU</td></tr><tr><td>3</td><td>1</td><td>CCU</td></tr><tr><td>3</td><td>1</td><td>MICU</td></tr><tr><td>3</td><td>2</td><td>TSICU</td></tr><tr><td>4</td><td>1</td><td>CCU</td></tr><tr><td>4</td><td>2</td><td>MICU</td></tr><tr><td>4</td><td>1</td><td>SICU</td></tr><tr><td>5</td><td>2</td><td>CCU</td></tr><tr><td>5</td><td>1</td><td>MICU</td></tr><tr><td>5</td><td>1</td><td>TSICU</td></tr><tr><td>6</td><td>1</td><td>CCU</td></tr><tr><td>6</td><td>1</td><td>SICU</td></tr><tr><td>7</td><td>1</td><td>MICU</td></tr><tr><td>7</td><td>1</td><td>SICU</td></tr><tr><td>8</td><td>1</td><td>CSRU</td></tr><tr><td>8</td><td>1</td><td>MICU</td></tr><tr><td>8</td><td>1</td><td>SICU</td></tr><tr><td>9</td><td>1</td><td>TSICU</td></tr><tr><td>10</td><td>3</td><td>CSRU</td></tr><tr><td>10</td><td>2</td><td>MICU</td></tr><tr><td>10</td><td>1</td><td>SICU</td></tr><tr><td>11</td><td>1</td><td>CCU</td></tr><tr><td>11</td><td>1</td><td>MICU</td></tr><tr><td>11</td><td>1</td><td>TSICU</td></tr><tr><td>12</td><td>1</td><td>CCU</td></tr><tr><td>12</td><td>1</td><td>CSRU</td></tr><tr><td>12</td><td>2</td><td>MICU</td></tr><tr><td>12</td><td>3</td><td>SICU</td></tr><tr><td>13</td><td>2</td><td>CCU</td></tr><tr><td>13</td><td>3</td><td>MICU</td></tr><tr><td>13</td><td>2</td><td>SICU</td></tr><tr><td>14</td><td>6</td><td>MICU</td></tr><tr><td>14</td><td>2</td><td>TSICU</td></tr><tr><td>15</td><td>2</td><td>MICU</td></tr><tr><td>15</td><td>2</td><td>SICU</td></tr><tr><td>15</td><td>1</td><td>TSICU</td></tr><tr><td>16</td><td>1</td><td>CCU</td></tr><tr><td>16</td><td>7</td><td>MICU</td></tr><tr><td>16</td><td>3</td><td>SICU</td></tr><tr><td>17</td><td>3</td><td>CCU</td></tr><tr><td>17</td><td>5</td><td>MICU</td></tr><tr><td>18</td><td>1</td><td>CCU</td></tr><tr><td>18</td><td>4</td><td>MICU</td></tr><tr><td>18</td><td>1</td><td>SICU</td></tr><tr><td>18</td><td>1</td><td>TSICU</td></tr><tr><td>19</td><td>2</td><td>CCU</td></tr><tr><td>19</td><td>2</td><td>MICU</td></tr><tr><td>19</td><td>1</td><td>SICU</td></tr><tr><td>20</td><td>1</td><td>CSRU</td></tr><tr><td>20</td><td>9</td><td>MICU</td></tr><tr><td>21</td><td>5</td><td>MICU</td></tr><tr><td>21</td><td>6</td><td>SICU</td></tr><tr><td>22</td><td>9</td><td>MICU</td></tr><tr><td>23</td><td>1</td><td>CCU</td></tr><tr><td>23</td><td>5</td><td>MICU</td></tr><tr><td>23</td><td>1</td><td>TSICU</td></tr></tbody></table></div>"
      ]
     },
     "metadata": {
      "application/vnd.databricks.v1+output": {
       "addedWidgets": {},
       "aggData": [],
       "aggError": "",
       "aggOverflow": false,
       "aggSchema": [],
       "aggSeriesLimitReached": false,
       "aggType": "",
       "arguments": {},
       "columnCustomDisplayInfos": {},
       "data": [
        [
         0,
         3,
         "MICU"
        ],
        [
         1,
         4,
         "MICU"
        ],
        [
         1,
         1,
         "TSICU"
        ],
        [
         2,
         2,
         "CCU"
        ],
        [
         2,
         2,
         "MICU"
        ],
        [
         3,
         1,
         "CCU"
        ],
        [
         3,
         1,
         "MICU"
        ],
        [
         3,
         2,
         "TSICU"
        ],
        [
         4,
         1,
         "CCU"
        ],
        [
         4,
         2,
         "MICU"
        ],
        [
         4,
         1,
         "SICU"
        ],
        [
         5,
         2,
         "CCU"
        ],
        [
         5,
         1,
         "MICU"
        ],
        [
         5,
         1,
         "TSICU"
        ],
        [
         6,
         1,
         "CCU"
        ],
        [
         6,
         1,
         "SICU"
        ],
        [
         7,
         1,
         "MICU"
        ],
        [
         7,
         1,
         "SICU"
        ],
        [
         8,
         1,
         "CSRU"
        ],
        [
         8,
         1,
         "MICU"
        ],
        [
         8,
         1,
         "SICU"
        ],
        [
         9,
         1,
         "TSICU"
        ],
        [
         10,
         3,
         "CSRU"
        ],
        [
         10,
         2,
         "MICU"
        ],
        [
         10,
         1,
         "SICU"
        ],
        [
         11,
         1,
         "CCU"
        ],
        [
         11,
         1,
         "MICU"
        ],
        [
         11,
         1,
         "TSICU"
        ],
        [
         12,
         1,
         "CCU"
        ],
        [
         12,
         1,
         "CSRU"
        ],
        [
         12,
         2,
         "MICU"
        ],
        [
         12,
         3,
         "SICU"
        ],
        [
         13,
         2,
         "CCU"
        ],
        [
         13,
         3,
         "MICU"
        ],
        [
         13,
         2,
         "SICU"
        ],
        [
         14,
         6,
         "MICU"
        ],
        [
         14,
         2,
         "TSICU"
        ],
        [
         15,
         2,
         "MICU"
        ],
        [
         15,
         2,
         "SICU"
        ],
        [
         15,
         1,
         "TSICU"
        ],
        [
         16,
         1,
         "CCU"
        ],
        [
         16,
         7,
         "MICU"
        ],
        [
         16,
         3,
         "SICU"
        ],
        [
         17,
         3,
         "CCU"
        ],
        [
         17,
         5,
         "MICU"
        ],
        [
         18,
         1,
         "CCU"
        ],
        [
         18,
         4,
         "MICU"
        ],
        [
         18,
         1,
         "SICU"
        ],
        [
         18,
         1,
         "TSICU"
        ],
        [
         19,
         2,
         "CCU"
        ],
        [
         19,
         2,
         "MICU"
        ],
        [
         19,
         1,
         "SICU"
        ],
        [
         20,
         1,
         "CSRU"
        ],
        [
         20,
         9,
         "MICU"
        ],
        [
         21,
         5,
         "MICU"
        ],
        [
         21,
         6,
         "SICU"
        ],
        [
         22,
         9,
         "MICU"
        ],
        [
         23,
         1,
         "CCU"
        ],
        [
         23,
         5,
         "MICU"
        ],
        [
         23,
         1,
         "TSICU"
        ]
       ],
       "datasetInfos": [],
       "dbfsResultPath": null,
       "isJsonSchema": true,
       "metadata": {
        "dataframeName": "_sqldf",
        "executionCount": 7
       },
       "overflow": false,
       "plotOptions": {
        "customPlotOptions": {},
        "displayType": "table",
        "pivotAggregation": null,
        "pivotColumns": null,
        "xColumns": null,
        "yColumns": null
       },
       "removedWidgets": [],
       "schema": [
        {
         "metadata": "{}",
         "name": "hour_of_day",
         "type": "\"integer\""
        },
        {
         "metadata": "{}",
         "name": "admission_count",
         "type": "\"long\""
        },
        {
         "metadata": "{}",
         "name": "first_careunit",
         "type": "\"string\""
        }
       ],
       "type": "table"
      }
     },
     "output_type": "display_data"
    },
    {
     "output_type": "display_data",
     "data": {
      "text/plain": [
       "Databricks visualization. Run in Databricks to view."
      ]
     },
     "metadata": {
      "application/vnd.databricks.v1.subcommand+json": {
       "baseErrorDetails": null,
       "bindings": {},
       "collapsed": false,
       "command": "%sql WITH q AS (SELECT \n    EXTRACT(HOUR FROM intime) as hour_of_day,\n    COUNT(*) as admission_count,\n    first_careunit\nFROM mimicdata_2567611159492892.mimic.icustays\nGROUP BY EXTRACT(HOUR FROM intime), first_careunit\nORDER BY hour_of_day, first_careunit) SELECT `first_careunit`,SUM(`admission_count`) `column_9ff6b43c764`,COUNT(`first_careunit`) `column_9ff6b43c765`,`first_careunit` FROM q GROUP BY `first_careunit`",
       "commandTitle": "Visualization 1",
       "commandType": "auto",
       "commandVersion": 0,
       "commentThread": [],
       "commentsVisible": false,
       "contentSha256Hex": null,
       "customPlotOptions": {
        "redashChart": [
         {
          "key": "type",
          "value": "CHART"
         },
         {
          "key": "options",
          "value": {
           "alignYAxesAtZero": true,
           "coefficient": 1,
           "columnConfigurationMap": {
            "series": {
             "column": "first_careunit",
             "id": "column_9ff6b43c762"
            },
            "x": {
             "column": "first_careunit",
             "id": "column_9ff6b43c763"
            },
            "y": [
             {
              "column": "admission_count",
              "id": "column_9ff6b43c764",
              "transform": "SUM"
             },
             {
              "column": "first_careunit",
              "id": "column_9ff6b43c765",
              "transform": "COUNT"
             }
            ]
           },
           "dateTimeFormat": "DD/MM/YYYY HH:mm",
           "direction": {
            "type": "counterclockwise"
           },
           "error_y": {
            "type": "data",
            "visible": true
           },
           "globalSeriesType": "column",
           "isAggregationOn": true,
           "legend": {
            "traceorder": "normal"
           },
           "missingValuesAsZero": true,
           "numberFormat": "0,0.[00000]",
           "percentFormat": "0[.]00%",
           "series": {
            "error_y": {
             "type": "data",
             "visible": true
            },
            "stacking": null
           },
           "seriesOptions": {
            "admission_count": {
             "type": "column",
             "yAxis": 0
            },
            "column_9ff6b43c761": {
             "name": "admission_count",
             "type": "column",
             "yAxis": 0
            },
            "column_9ff6b43c764": {
             "type": "column",
             "yAxis": 0
            },
            "column_9ff6b43c765": {
             "type": "column",
             "yAxis": 0
            },
            "first_careunit": {
             "type": "column",
             "yAxis": 0
            }
           },
           "showDataLabels": false,
           "sizemode": "diameter",
           "sortX": true,
           "sortY": true,
           "swappedAxes": false,
           "textFormat": "",
           "useAggregationsUi": true,
           "valuesOptions": {},
           "version": 2,
           "xAxis": {
            "labels": {
             "enabled": true
            },
            "type": "-"
           },
           "yAxis": [
            {
             "type": "-"
            },
            {
             "opposite": true,
             "type": "-"
            }
           ]
          }
         }
        ]
       },
       "datasetPreviewNameToCmdIdMap": {},
       "diffDeletes": [],
       "diffInserts": [],
       "displayType": "redashChart",
       "error": null,
       "errorDetails": null,
       "errorSummary": null,
       "errorTraceType": null,
       "finishTime": 0,
       "globalVars": {},
       "guid": "",
       "height": "auto",
       "hideCommandCode": false,
       "hideCommandResult": false,
       "iPythonMetadata": null,
       "inputWidgets": {},
       "isLockedInExamMode": false,
       "latestUser": "a user",
       "latestUserId": null,
       "listResultMetadata": null,
       "metadata": {},
       "nuid": "3658e1cb-4966-4c85-92a5-c67833bdcbb4",
       "origId": 0,
       "parentHierarchy": [],
       "pivotAggregation": null,
       "pivotColumns": null,
       "position": 9.0,
       "resultDbfsErrorMessage": null,
       "resultDbfsStatus": "INLINED_IN_TREE",
       "results": null,
       "showCommandTitle": false,
       "startTime": 0,
       "state": "input",
       "streamStates": {},
       "subcommandOptions": {
        "queryPlan": {
         "groups": [
          {
           "column": "first_careunit",
           "type": "column"
          },
          {
           "column": "first_careunit",
           "type": "column"
          }
         ],
         "selects": [
          {
           "column": "first_careunit",
           "type": "column"
          },
          {
           "alias": "column_9ff6b43c764",
           "args": [
            {
             "column": "admission_count",
             "type": "column"
            }
           ],
           "function": "SUM",
           "type": "function"
          },
          {
           "alias": "column_9ff6b43c765",
           "args": [
            {
             "column": "first_careunit",
             "type": "column"
            }
           ],
           "function": "COUNT",
           "type": "function"
          },
          {
           "column": "first_careunit",
           "type": "column"
          }
         ]
        }
       },
       "submitTime": 0,
       "subtype": "tableResultSubCmd.visualization",
       "tableResultIndex": 0,
       "tableResultSettingsMap": {},
       "useConsistentColors": false,
       "version": "CommandV1",
       "width": "auto",
       "workflows": [],
       "xColumns": null,
       "yColumns": null
      }
     },
     "output_type": "display_data"
    }
   ],
   "source": [
    "%sql\n",
    "SELECT \n",
    "    EXTRACT(DOW FROM intime) as day_of_week,\n",
    "    CASE EXTRACT(DOW FROM intime)\n",
    "        WHEN 0 THEN 'Sunday'\n",
    "        WHEN 1 THEN 'Monday'\n",
    "        WHEN 2 THEN 'Tuesday'\n",
    "        WHEN 3 THEN 'Wednesday'\n",
    "        WHEN 4 THEN 'Thursday'\n",
    "        WHEN 5 THEN 'Friday'\n",
    "        WHEN 6 THEN 'Saturday'\n",
    "    END as day_name,\n",
    "    COUNT(*) as admission_count,\n",
    "    ROUND(AVG(los), 2) as avg_los_by_day\n",
    "FROM mimicdata_2567611159492892.mimic.icustays\n",
    "GROUP BY EXTRACT(DOW FROM intime)\n",
    "ORDER BY day_of_week;\n",
    "\n",
    "-- Admissions by hour of day\n",
    "SELECT \n",
    "    EXTRACT(HOUR FROM intime) as hour_of_day,\n",
    "    COUNT(*) as admission_count,\n",
    "    first_careunit\n",
    "FROM mimicdata_2567611159492892.mimic.icustays\n",
    "GROUP BY EXTRACT(HOUR FROM intime), first_careunit\n",
    "ORDER BY hour_of_day, first_careunit;"
   ]
  },
  {
   "cell_type": "code",
   "execution_count": 0,
   "metadata": {
    "application/vnd.databricks.v1+cell": {
     "cellMetadata": {
      "byteLimit": 2048000,
      "rowLimit": 10000
     },
     "inputWidgets": {},
     "nuid": "ec6ce871-8328-41fa-8723-e4a5edda890a",
     "showTitle": true,
     "tableResultSettingsMap": {},
     "title": "ICU Bed occupancy"
    }
   },
   "outputs": [
    {
     "output_type": "display_data",
     "data": {
      "text/html": [
       "<style scoped>\n",
       "  .table-result-container {\n",
       "    max-height: 300px;\n",
       "    overflow: auto;\n",
       "  }\n",
       "  table, th, td {\n",
       "    border: 1px solid black;\n",
       "    border-collapse: collapse;\n",
       "  }\n",
       "  th, td {\n",
       "    padding: 5px;\n",
       "  }\n",
       "  th {\n",
       "    text-align: left;\n",
       "  }\n",
       "</style><div class='table-result-container'><table class='table-result'><thead style='background-color: white'><tr><th>stay_date</th><th>first_careunit</th><th>daily_admissions</th><th>capacity</th><th>utilization_percent</th></tr></thead><tbody><tr><td>2102-08-31</td><td>MICU</td><td>1</td><td>20</td><td>5.00</td></tr><tr><td>2104-09-24</td><td>MICU</td><td>1</td><td>20</td><td>5.00</td></tr><tr><td>2104-10-24</td><td>TSICU</td><td>1</td><td>8</td><td>12.50</td></tr><tr><td>2105-06-08</td><td>MICU</td><td>1</td><td>20</td><td>5.00</td></tr><tr><td>2106-08-30</td><td>TSICU</td><td>1</td><td>8</td><td>12.50</td></tr><tr><td>2107-01-05</td><td>MICU</td><td>1</td><td>20</td><td>5.00</td></tr><tr><td>2107-01-16</td><td>CCU</td><td>1</td><td>12</td><td>8.33</td></tr><tr><td>2107-01-29</td><td>CCU</td><td>1</td><td>12</td><td>8.33</td></tr><tr><td>2107-03-24</td><td>MICU</td><td>1</td><td>20</td><td>5.00</td></tr><tr><td>2107-05-12</td><td>MICU</td><td>1</td><td>20</td><td>5.00</td></tr><tr><td>2111-01-07</td><td>SICU</td><td>1</td><td>15</td><td>6.67</td></tr><tr><td>2111-01-12</td><td>SICU</td><td>1</td><td>15</td><td>6.67</td></tr><tr><td>2112-02-04</td><td>TSICU</td><td>1</td><td>8</td><td>12.50</td></tr><tr><td>2112-05-04</td><td>SICU</td><td>1</td><td>15</td><td>6.67</td></tr><tr><td>2112-05-23</td><td>CCU</td><td>1</td><td>12</td><td>8.33</td></tr><tr><td>2112-05-29</td><td>CCU</td><td>1</td><td>12</td><td>8.33</td></tr><tr><td>2115-05-12</td><td>MICU</td><td>1</td><td>20</td><td>5.00</td></tr><tr><td>2117-03-23</td><td>SICU</td><td>1</td><td>15</td><td>6.67</td></tr><tr><td>2117-08-05</td><td>SICU</td><td>1</td><td>15</td><td>6.67</td></tr><tr><td>2117-08-21</td><td>SICU</td><td>1</td><td>15</td><td>6.67</td></tr><tr><td>2118-10-06</td><td>MICU</td><td>1</td><td>20</td><td>5.00</td></tr><tr><td>2119-10-17</td><td>MICU</td><td>1</td><td>20</td><td>5.00</td></tr><tr><td>2119-10-30</td><td>MICU</td><td>1</td><td>20</td><td>5.00</td></tr><tr><td>2120-08-24</td><td>MICU</td><td>1</td><td>20</td><td>5.00</td></tr><tr><td>2121-12-07</td><td>CSRU</td><td>1</td><td>10</td><td>10.00</td></tr><tr><td>2123-08-23</td><td>MICU</td><td>1</td><td>20</td><td>5.00</td></tr><tr><td>2123-11-24</td><td>MICU</td><td>1</td><td>20</td><td>5.00</td></tr><tr><td>2124-01-12</td><td>MICU</td><td>1</td><td>20</td><td>5.00</td></tr><tr><td>2125-10-04</td><td>MICU</td><td>1</td><td>20</td><td>5.00</td></tr><tr><td>2126-08-14</td><td>MICU</td><td>1</td><td>20</td><td>5.00</td></tr><tr><td>2127-03-19</td><td>TSICU</td><td>1</td><td>8</td><td>12.50</td></tr><tr><td>2127-07-29</td><td>MICU</td><td>1</td><td>20</td><td>5.00</td></tr><tr><td>2127-10-06</td><td>MICU</td><td>1</td><td>20</td><td>5.00</td></tr><tr><td>2128-03-22</td><td>MICU</td><td>1</td><td>20</td><td>5.00</td></tr><tr><td>2128-11-04</td><td>MICU</td><td>1</td><td>20</td><td>5.00</td></tr><tr><td>2128-11-08</td><td>CCU</td><td>1</td><td>12</td><td>8.33</td></tr><tr><td>2129-03-04</td><td>SICU</td><td>1</td><td>15</td><td>6.67</td></tr><tr><td>2129-05-02</td><td>MICU</td><td>1</td><td>20</td><td>5.00</td></tr><tr><td>2129-11-24</td><td>MICU</td><td>1</td><td>20</td><td>5.00</td></tr><tr><td>2130-02-04</td><td>MICU</td><td>1</td><td>20</td><td>5.00</td></tr><tr><td>2130-08-12</td><td>CCU</td><td>1</td><td>12</td><td>8.33</td></tr><tr><td>2130-10-06</td><td>TSICU</td><td>1</td><td>8</td><td>12.50</td></tr><tr><td>2131-07-27</td><td>CCU</td><td>1</td><td>12</td><td>8.33</td></tr><tr><td>2132-08-05</td><td>SICU</td><td>1</td><td>15</td><td>6.67</td></tr><tr><td>2132-12-05</td><td>SICU</td><td>1</td><td>15</td><td>6.67</td></tr><tr><td>2135-10-24</td><td>MICU</td><td>1</td><td>20</td><td>5.00</td></tr><tr><td>2138-04-08</td><td>MICU</td><td>1</td><td>20</td><td>5.00</td></tr><tr><td>2138-06-05</td><td>MICU</td><td>1</td><td>20</td><td>5.00</td></tr><tr><td>2138-11-12</td><td>TSICU</td><td>1</td><td>8</td><td>12.50</td></tr><tr><td>2139-09-23</td><td>SICU</td><td>1</td><td>15</td><td>6.67</td></tr><tr><td>2141-01-25</td><td>CSRU</td><td>1</td><td>10</td><td>10.00</td></tr><tr><td>2142-11-26</td><td>SICU</td><td>1</td><td>15</td><td>6.67</td></tr><tr><td>2144-02-11</td><td>SICU</td><td>1</td><td>15</td><td>6.67</td></tr><tr><td>2144-07-13</td><td>CCU</td><td>1</td><td>12</td><td>8.33</td></tr><tr><td>2144-07-18</td><td>MICU</td><td>1</td><td>20</td><td>5.00</td></tr><tr><td>2144-10-15</td><td>SICU</td><td>1</td><td>15</td><td>6.67</td></tr><tr><td>2144-12-24</td><td>MICU</td><td>1</td><td>20</td><td>5.00</td></tr><tr><td>2145-07-07</td><td>MICU</td><td>1</td><td>20</td><td>5.00</td></tr><tr><td>2145-09-06</td><td>MICU</td><td>1</td><td>20</td><td>5.00</td></tr><tr><td>2145-12-01</td><td>MICU</td><td>1</td><td>20</td><td>5.00</td></tr><tr><td>2146-07-21</td><td>MICU</td><td>1</td><td>20</td><td>5.00</td></tr><tr><td>2147-02-06</td><td>CSRU</td><td>1</td><td>10</td><td>10.00</td></tr><tr><td>2147-02-23</td><td>MICU</td><td>1</td><td>20</td><td>5.00</td></tr><tr><td>2147-10-03</td><td>SICU</td><td>1</td><td>15</td><td>6.67</td></tr><tr><td>2148-01-13</td><td>MICU</td><td>1</td><td>20</td><td>5.00</td></tr><tr><td>2149-05-29</td><td>CCU</td><td>1</td><td>12</td><td>8.33</td></tr><tr><td>2150-08-07</td><td>MICU</td><td>1</td><td>20</td><td>5.00</td></tr><tr><td>2150-08-22</td><td>MICU</td><td>1</td><td>20</td><td>5.00</td></tr><tr><td>2151-08-13</td><td>MICU</td><td>1</td><td>20</td><td>5.00</td></tr><tr><td>2151-09-12</td><td>TSICU</td><td>1</td><td>8</td><td>12.50</td></tr><tr><td>2152-10-03</td><td>MICU</td><td>1</td><td>20</td><td>5.00</td></tr><tr><td>2152-10-09</td><td>MICU</td><td>1</td><td>20</td><td>5.00</td></tr><tr><td>2155-03-10</td><td>MICU</td><td>1</td><td>20</td><td>5.00</td></tr><tr><td>2155-12-16</td><td>MICU</td><td>1</td><td>20</td><td>5.00</td></tr><tr><td>2159-11-17</td><td>TSICU</td><td>1</td><td>8</td><td>12.50</td></tr><tr><td>2160-05-04</td><td>MICU</td><td>1</td><td>20</td><td>5.00</td></tr><tr><td>2160-12-16</td><td>MICU</td><td>1</td><td>20</td><td>5.00</td></tr><tr><td>2160-12-26</td><td>TSICU</td><td>1</td><td>8</td><td>12.50</td></tr><tr><td>2161-02-04</td><td>SICU</td><td>1</td><td>15</td><td>6.67</td></tr><tr><td>2161-09-15</td><td>MICU</td><td>1</td><td>20</td><td>5.00</td></tr><tr><td>2162-01-16</td><td>MICU</td><td>1</td><td>20</td><td>5.00</td></tr><tr><td>2163-05-14</td><td>MICU</td><td>1</td><td>20</td><td>5.00</td></tr><tr><td>2163-11-21</td><td>MICU</td><td>1</td><td>20</td><td>5.00</td></tr><tr><td>2163-11-24</td><td>MICU</td><td>1</td><td>20</td><td>5.00</td></tr><tr><td>2164-10-23</td><td>MICU</td><td>1</td><td>20</td><td>5.00</td></tr><tr><td>2165-12-19</td><td>MICU</td><td>1</td><td>20</td><td>5.00</td></tr><tr><td>2166-02-12</td><td>CCU</td><td>1</td><td>12</td><td>8.33</td></tr><tr><td>2167-02-11</td><td>MICU</td><td>1</td><td>20</td><td>5.00</td></tr><tr><td>2169-05-06</td><td>MICU</td><td>1</td><td>20</td><td>5.00</td></tr><tr><td>2169-05-11</td><td>MICU</td><td>1</td><td>20</td><td>5.00</td></tr><tr><td>2170-12-02</td><td>TSICU</td><td>1</td><td>8</td><td>12.50</td></tr><tr><td>2170-12-15</td><td>SICU</td><td>1</td><td>15</td><td>6.67</td></tr><tr><td>2171-07-12</td><td>SICU</td><td>1</td><td>15</td><td>6.67</td></tr><tr><td>2171-10-30</td><td>CCU</td><td>1</td><td>12</td><td>8.33</td></tr><tr><td>2173-11-27</td><td>SICU</td><td>1</td><td>15</td><td>6.67</td></tr><tr><td>2175-10-02</td><td>CSRU</td><td>1</td><td>10</td><td>10.00</td></tr><tr><td>2176-07-14</td><td>CCU</td><td>1</td><td>12</td><td>8.33</td></tr><tr><td>2178-05-14</td><td>MICU</td><td>1</td><td>20</td><td>5.00</td></tr><tr><td>2179-04-17</td><td>MICU</td><td>1</td><td>20</td><td>5.00</td></tr><tr><td>2180-01-21</td><td>MICU</td><td>1</td><td>20</td><td>5.00</td></tr><tr><td>2180-02-29</td><td>MICU</td><td>1</td><td>20</td><td>5.00</td></tr><tr><td>2180-03-15</td><td>MICU</td><td>1</td><td>20</td><td>5.00</td></tr><tr><td>2180-07-19</td><td>CCU</td><td>1</td><td>12</td><td>8.33</td></tr><tr><td>2184-08-04</td><td>CCU</td><td>1</td><td>12</td><td>8.33</td></tr><tr><td>2185-03-24</td><td>MICU</td><td>1</td><td>20</td><td>5.00</td></tr><tr><td>2185-04-14</td><td>MICU</td><td>1</td><td>20</td><td>5.00</td></tr><tr><td>2186-02-09</td><td>SICU</td><td>1</td><td>15</td><td>6.67</td></tr><tr><td>2186-07-06</td><td>CCU</td><td>1</td><td>12</td><td>8.33</td></tr><tr><td>2188-02-12</td><td>CCU</td><td>1</td><td>12</td><td>8.33</td></tr><tr><td>2189-09-08</td><td>CSRU</td><td>1</td><td>10</td><td>10.00</td></tr><tr><td>2190-07-13</td><td>CSRU</td><td>1</td><td>10</td><td>10.00</td></tr><tr><td>2192-03-29</td><td>MICU</td><td>1</td><td>20</td><td>5.00</td></tr><tr><td>2192-04-16</td><td>MICU</td><td>1</td><td>20</td><td>5.00</td></tr><tr><td>2192-04-24</td><td>CCU</td><td>1</td><td>12</td><td>8.33</td></tr><tr><td>2192-04-30</td><td>MICU</td><td>1</td><td>20</td><td>5.00</td></tr><tr><td>2192-11-20</td><td>MICU</td><td>1</td><td>20</td><td>5.00</td></tr><tr><td>2193-10-15</td><td>MICU</td><td>1</td><td>20</td><td>5.00</td></tr><tr><td>2194-07-26</td><td>CCU</td><td>1</td><td>12</td><td>8.33</td></tr><tr><td>2195-05-17</td><td>SICU</td><td>1</td><td>15</td><td>6.67</td></tr><tr><td>2198-06-28</td><td>TSICU</td><td>1</td><td>8</td><td>12.50</td></tr><tr><td>2198-06-29</td><td>SICU</td><td>1</td><td>15</td><td>6.67</td></tr><tr><td>2198-10-29</td><td>SICU</td><td>1</td><td>15</td><td>6.67</td></tr><tr><td>2199-01-13</td><td>MICU</td><td>1</td><td>20</td><td>5.00</td></tr><tr><td>2199-01-31</td><td>MICU</td><td>1</td><td>20</td><td>5.00</td></tr><tr><td>2200-03-17</td><td>MICU</td><td>1</td><td>20</td><td>5.00</td></tr><tr><td>2200-06-09</td><td>MICU</td><td>1</td><td>20</td><td>5.00</td></tr><tr><td>2200-10-29</td><td>MICU</td><td>1</td><td>20</td><td>5.00</td></tr><tr><td>2201-05-12</td><td>MICU</td><td>1</td><td>20</td><td>5.00</td></tr><tr><td>2201-08-10</td><td>MICU</td><td>1</td><td>20</td><td>5.00</td></tr><tr><td>2201-09-28</td><td>CCU</td><td>1</td><td>12</td><td>8.33</td></tr><tr><td>2201-11-16</td><td>MICU</td><td>1</td><td>20</td><td>5.00</td></tr><tr><td>2201-12-31</td><td>SICU</td><td>1</td><td>15</td><td>6.67</td></tr><tr><td>2202-02-15</td><td>MICU</td><td>1</td><td>20</td><td>5.00</td></tr><tr><td>2202-05-01</td><td>MICU</td><td>1</td><td>20</td><td>5.00</td></tr><tr><td>2202-09-16</td><td>MICU</td><td>1</td><td>20</td><td>5.00</td></tr><tr><td>2202-10-03</td><td>MICU</td><td>1</td><td>20</td><td>5.00</td></tr></tbody></table></div>"
      ]
     },
     "metadata": {
      "application/vnd.databricks.v1+output": {
       "addedWidgets": {},
       "aggData": [],
       "aggError": "",
       "aggOverflow": false,
       "aggSchema": [],
       "aggSeriesLimitReached": false,
       "aggType": "",
       "arguments": {},
       "columnCustomDisplayInfos": {},
       "data": [
        [
         "2102-08-31",
         "MICU",
         1,
         20,
         "5.00"
        ],
        [
         "2104-09-24",
         "MICU",
         1,
         20,
         "5.00"
        ],
        [
         "2104-10-24",
         "TSICU",
         1,
         8,
         "12.50"
        ],
        [
         "2105-06-08",
         "MICU",
         1,
         20,
         "5.00"
        ],
        [
         "2106-08-30",
         "TSICU",
         1,
         8,
         "12.50"
        ],
        [
         "2107-01-05",
         "MICU",
         1,
         20,
         "5.00"
        ],
        [
         "2107-01-16",
         "CCU",
         1,
         12,
         "8.33"
        ],
        [
         "2107-01-29",
         "CCU",
         1,
         12,
         "8.33"
        ],
        [
         "2107-03-24",
         "MICU",
         1,
         20,
         "5.00"
        ],
        [
         "2107-05-12",
         "MICU",
         1,
         20,
         "5.00"
        ],
        [
         "2111-01-07",
         "SICU",
         1,
         15,
         "6.67"
        ],
        [
         "2111-01-12",
         "SICU",
         1,
         15,
         "6.67"
        ],
        [
         "2112-02-04",
         "TSICU",
         1,
         8,
         "12.50"
        ],
        [
         "2112-05-04",
         "SICU",
         1,
         15,
         "6.67"
        ],
        [
         "2112-05-23",
         "CCU",
         1,
         12,
         "8.33"
        ],
        [
         "2112-05-29",
         "CCU",
         1,
         12,
         "8.33"
        ],
        [
         "2115-05-12",
         "MICU",
         1,
         20,
         "5.00"
        ],
        [
         "2117-03-23",
         "SICU",
         1,
         15,
         "6.67"
        ],
        [
         "2117-08-05",
         "SICU",
         1,
         15,
         "6.67"
        ],
        [
         "2117-08-21",
         "SICU",
         1,
         15,
         "6.67"
        ],
        [
         "2118-10-06",
         "MICU",
         1,
         20,
         "5.00"
        ],
        [
         "2119-10-17",
         "MICU",
         1,
         20,
         "5.00"
        ],
        [
         "2119-10-30",
         "MICU",
         1,
         20,
         "5.00"
        ],
        [
         "2120-08-24",
         "MICU",
         1,
         20,
         "5.00"
        ],
        [
         "2121-12-07",
         "CSRU",
         1,
         10,
         "10.00"
        ],
        [
         "2123-08-23",
         "MICU",
         1,
         20,
         "5.00"
        ],
        [
         "2123-11-24",
         "MICU",
         1,
         20,
         "5.00"
        ],
        [
         "2124-01-12",
         "MICU",
         1,
         20,
         "5.00"
        ],
        [
         "2125-10-04",
         "MICU",
         1,
         20,
         "5.00"
        ],
        [
         "2126-08-14",
         "MICU",
         1,
         20,
         "5.00"
        ],
        [
         "2127-03-19",
         "TSICU",
         1,
         8,
         "12.50"
        ],
        [
         "2127-07-29",
         "MICU",
         1,
         20,
         "5.00"
        ],
        [
         "2127-10-06",
         "MICU",
         1,
         20,
         "5.00"
        ],
        [
         "2128-03-22",
         "MICU",
         1,
         20,
         "5.00"
        ],
        [
         "2128-11-04",
         "MICU",
         1,
         20,
         "5.00"
        ],
        [
         "2128-11-08",
         "CCU",
         1,
         12,
         "8.33"
        ],
        [
         "2129-03-04",
         "SICU",
         1,
         15,
         "6.67"
        ],
        [
         "2129-05-02",
         "MICU",
         1,
         20,
         "5.00"
        ],
        [
         "2129-11-24",
         "MICU",
         1,
         20,
         "5.00"
        ],
        [
         "2130-02-04",
         "MICU",
         1,
         20,
         "5.00"
        ],
        [
         "2130-08-12",
         "CCU",
         1,
         12,
         "8.33"
        ],
        [
         "2130-10-06",
         "TSICU",
         1,
         8,
         "12.50"
        ],
        [
         "2131-07-27",
         "CCU",
         1,
         12,
         "8.33"
        ],
        [
         "2132-08-05",
         "SICU",
         1,
         15,
         "6.67"
        ],
        [
         "2132-12-05",
         "SICU",
         1,
         15,
         "6.67"
        ],
        [
         "2135-10-24",
         "MICU",
         1,
         20,
         "5.00"
        ],
        [
         "2138-04-08",
         "MICU",
         1,
         20,
         "5.00"
        ],
        [
         "2138-06-05",
         "MICU",
         1,
         20,
         "5.00"
        ],
        [
         "2138-11-12",
         "TSICU",
         1,
         8,
         "12.50"
        ],
        [
         "2139-09-23",
         "SICU",
         1,
         15,
         "6.67"
        ],
        [
         "2141-01-25",
         "CSRU",
         1,
         10,
         "10.00"
        ],
        [
         "2142-11-26",
         "SICU",
         1,
         15,
         "6.67"
        ],
        [
         "2144-02-11",
         "SICU",
         1,
         15,
         "6.67"
        ],
        [
         "2144-07-13",
         "CCU",
         1,
         12,
         "8.33"
        ],
        [
         "2144-07-18",
         "MICU",
         1,
         20,
         "5.00"
        ],
        [
         "2144-10-15",
         "SICU",
         1,
         15,
         "6.67"
        ],
        [
         "2144-12-24",
         "MICU",
         1,
         20,
         "5.00"
        ],
        [
         "2145-07-07",
         "MICU",
         1,
         20,
         "5.00"
        ],
        [
         "2145-09-06",
         "MICU",
         1,
         20,
         "5.00"
        ],
        [
         "2145-12-01",
         "MICU",
         1,
         20,
         "5.00"
        ],
        [
         "2146-07-21",
         "MICU",
         1,
         20,
         "5.00"
        ],
        [
         "2147-02-06",
         "CSRU",
         1,
         10,
         "10.00"
        ],
        [
         "2147-02-23",
         "MICU",
         1,
         20,
         "5.00"
        ],
        [
         "2147-10-03",
         "SICU",
         1,
         15,
         "6.67"
        ],
        [
         "2148-01-13",
         "MICU",
         1,
         20,
         "5.00"
        ],
        [
         "2149-05-29",
         "CCU",
         1,
         12,
         "8.33"
        ],
        [
         "2150-08-07",
         "MICU",
         1,
         20,
         "5.00"
        ],
        [
         "2150-08-22",
         "MICU",
         1,
         20,
         "5.00"
        ],
        [
         "2151-08-13",
         "MICU",
         1,
         20,
         "5.00"
        ],
        [
         "2151-09-12",
         "TSICU",
         1,
         8,
         "12.50"
        ],
        [
         "2152-10-03",
         "MICU",
         1,
         20,
         "5.00"
        ],
        [
         "2152-10-09",
         "MICU",
         1,
         20,
         "5.00"
        ],
        [
         "2155-03-10",
         "MICU",
         1,
         20,
         "5.00"
        ],
        [
         "2155-12-16",
         "MICU",
         1,
         20,
         "5.00"
        ],
        [
         "2159-11-17",
         "TSICU",
         1,
         8,
         "12.50"
        ],
        [
         "2160-05-04",
         "MICU",
         1,
         20,
         "5.00"
        ],
        [
         "2160-12-16",
         "MICU",
         1,
         20,
         "5.00"
        ],
        [
         "2160-12-26",
         "TSICU",
         1,
         8,
         "12.50"
        ],
        [
         "2161-02-04",
         "SICU",
         1,
         15,
         "6.67"
        ],
        [
         "2161-09-15",
         "MICU",
         1,
         20,
         "5.00"
        ],
        [
         "2162-01-16",
         "MICU",
         1,
         20,
         "5.00"
        ],
        [
         "2163-05-14",
         "MICU",
         1,
         20,
         "5.00"
        ],
        [
         "2163-11-21",
         "MICU",
         1,
         20,
         "5.00"
        ],
        [
         "2163-11-24",
         "MICU",
         1,
         20,
         "5.00"
        ],
        [
         "2164-10-23",
         "MICU",
         1,
         20,
         "5.00"
        ],
        [
         "2165-12-19",
         "MICU",
         1,
         20,
         "5.00"
        ],
        [
         "2166-02-12",
         "CCU",
         1,
         12,
         "8.33"
        ],
        [
         "2167-02-11",
         "MICU",
         1,
         20,
         "5.00"
        ],
        [
         "2169-05-06",
         "MICU",
         1,
         20,
         "5.00"
        ],
        [
         "2169-05-11",
         "MICU",
         1,
         20,
         "5.00"
        ],
        [
         "2170-12-02",
         "TSICU",
         1,
         8,
         "12.50"
        ],
        [
         "2170-12-15",
         "SICU",
         1,
         15,
         "6.67"
        ],
        [
         "2171-07-12",
         "SICU",
         1,
         15,
         "6.67"
        ],
        [
         "2171-10-30",
         "CCU",
         1,
         12,
         "8.33"
        ],
        [
         "2173-11-27",
         "SICU",
         1,
         15,
         "6.67"
        ],
        [
         "2175-10-02",
         "CSRU",
         1,
         10,
         "10.00"
        ],
        [
         "2176-07-14",
         "CCU",
         1,
         12,
         "8.33"
        ],
        [
         "2178-05-14",
         "MICU",
         1,
         20,
         "5.00"
        ],
        [
         "2179-04-17",
         "MICU",
         1,
         20,
         "5.00"
        ],
        [
         "2180-01-21",
         "MICU",
         1,
         20,
         "5.00"
        ],
        [
         "2180-02-29",
         "MICU",
         1,
         20,
         "5.00"
        ],
        [
         "2180-03-15",
         "MICU",
         1,
         20,
         "5.00"
        ],
        [
         "2180-07-19",
         "CCU",
         1,
         12,
         "8.33"
        ],
        [
         "2184-08-04",
         "CCU",
         1,
         12,
         "8.33"
        ],
        [
         "2185-03-24",
         "MICU",
         1,
         20,
         "5.00"
        ],
        [
         "2185-04-14",
         "MICU",
         1,
         20,
         "5.00"
        ],
        [
         "2186-02-09",
         "SICU",
         1,
         15,
         "6.67"
        ],
        [
         "2186-07-06",
         "CCU",
         1,
         12,
         "8.33"
        ],
        [
         "2188-02-12",
         "CCU",
         1,
         12,
         "8.33"
        ],
        [
         "2189-09-08",
         "CSRU",
         1,
         10,
         "10.00"
        ],
        [
         "2190-07-13",
         "CSRU",
         1,
         10,
         "10.00"
        ],
        [
         "2192-03-29",
         "MICU",
         1,
         20,
         "5.00"
        ],
        [
         "2192-04-16",
         "MICU",
         1,
         20,
         "5.00"
        ],
        [
         "2192-04-24",
         "CCU",
         1,
         12,
         "8.33"
        ],
        [
         "2192-04-30",
         "MICU",
         1,
         20,
         "5.00"
        ],
        [
         "2192-11-20",
         "MICU",
         1,
         20,
         "5.00"
        ],
        [
         "2193-10-15",
         "MICU",
         1,
         20,
         "5.00"
        ],
        [
         "2194-07-26",
         "CCU",
         1,
         12,
         "8.33"
        ],
        [
         "2195-05-17",
         "SICU",
         1,
         15,
         "6.67"
        ],
        [
         "2198-06-28",
         "TSICU",
         1,
         8,
         "12.50"
        ],
        [
         "2198-06-29",
         "SICU",
         1,
         15,
         "6.67"
        ],
        [
         "2198-10-29",
         "SICU",
         1,
         15,
         "6.67"
        ],
        [
         "2199-01-13",
         "MICU",
         1,
         20,
         "5.00"
        ],
        [
         "2199-01-31",
         "MICU",
         1,
         20,
         "5.00"
        ],
        [
         "2200-03-17",
         "MICU",
         1,
         20,
         "5.00"
        ],
        [
         "2200-06-09",
         "MICU",
         1,
         20,
         "5.00"
        ],
        [
         "2200-10-29",
         "MICU",
         1,
         20,
         "5.00"
        ],
        [
         "2201-05-12",
         "MICU",
         1,
         20,
         "5.00"
        ],
        [
         "2201-08-10",
         "MICU",
         1,
         20,
         "5.00"
        ],
        [
         "2201-09-28",
         "CCU",
         1,
         12,
         "8.33"
        ],
        [
         "2201-11-16",
         "MICU",
         1,
         20,
         "5.00"
        ],
        [
         "2201-12-31",
         "SICU",
         1,
         15,
         "6.67"
        ],
        [
         "2202-02-15",
         "MICU",
         1,
         20,
         "5.00"
        ],
        [
         "2202-05-01",
         "MICU",
         1,
         20,
         "5.00"
        ],
        [
         "2202-09-16",
         "MICU",
         1,
         20,
         "5.00"
        ],
        [
         "2202-10-03",
         "MICU",
         1,
         20,
         "5.00"
        ]
       ],
       "datasetInfos": [],
       "dbfsResultPath": null,
       "isJsonSchema": true,
       "metadata": {},
       "overflow": false,
       "plotOptions": {
        "customPlotOptions": {},
        "displayType": "table",
        "pivotAggregation": null,
        "pivotColumns": null,
        "xColumns": null,
        "yColumns": null
       },
       "removedWidgets": [],
       "schema": [
        {
         "metadata": "{}",
         "name": "stay_date",
         "type": "\"date\""
        },
        {
         "metadata": "{}",
         "name": "first_careunit",
         "type": "\"string\""
        },
        {
         "metadata": "{}",
         "name": "daily_admissions",
         "type": "\"long\""
        },
        {
         "metadata": "{}",
         "name": "capacity",
         "type": "\"long\""
        },
        {
         "metadata": "{}",
         "name": "utilization_percent",
         "type": "\"decimal(27,2)\""
        }
       ],
       "type": "table"
      }
     },
     "output_type": "display_data"
    },
    {
     "output_type": "display_data",
     "data": {
      "text/plain": [
       "Databricks visualization. Run in Databricks to view."
      ]
     },
     "metadata": {
      "application/vnd.databricks.v1.subcommand+json": {
       "baseErrorDetails": null,
       "bindings": {},
       "collapsed": false,
       "command": "%python\n__backend_agg_display_orig = display\n__backend_agg_dfs = []\ndef __backend_agg_display_new(df):\n    __backend_agg_df_modules = [\"pandas.core.frame\", \"databricks.koalas.frame\", \"pyspark.sql.dataframe\", \"pyspark.pandas.frame\", \"pyspark.sql.connect.dataframe\"]\n    if (type(df).__module__ in __backend_agg_df_modules and type(df).__name__ == 'DataFrame') or isinstance(df, list):\n        __backend_agg_dfs.append(df)\n\ndisplay = __backend_agg_display_new\n\ndef __backend_agg_user_code_fn():\n    import base64\n    exec(base64.standard_b64decode(\"IyBDcmVhdGUgdGhlIHVuaXRfY2FwYWNpdHkgRGF0YUZyYW1lCnVuaXRfY2FwYWNpdHkgPSBzcGFyay5jcmVhdGVEYXRhRnJhbWUoWwogICAgKCdNSUNVJywgMjApLAogICAgKCdTSUNVJywgMTUpLAogICAgKCdDQ1UnLCAxMiksCiAgICAoJ0NTUlUnLCAxMCksCiAgICAoJ1RTSUNVJywgOCkKXSwgWyd1bml0JywgJ2NhcGFjaXR5J10pCgojIFJlZ2lzdGVyIHRoZSBEYXRhRnJhbWUgYXMgYSB0ZW1wb3Jhcnkgdmlldwp1bml0X2NhcGFjaXR5LmNyZWF0ZU9yUmVwbGFjZVRlbXBWaWV3KCJ1bml0X2NhcGFjaXR5IikKCiMgQ3JlYXRlIHRoZSBkYWlseV9vY2N1cGFuY3kgRGF0YUZyYW1lIHVzaW5nIFNwYXJrIFNRTApzcGFyay5zcWwoIiIiCiAgICBDUkVBVEUgT1IgUkVQTEFDRSBURU1QIFZJRVcgZGFpbHlfb2NjdXBhbmN5IEFTCiAgICBTRUxFQ1QgCiAgICAgICAgREFURShpbnRpbWUpIGFzIHN0YXlfZGF0ZSwKICAgICAgICBmaXJzdF9jYXJldW5pdCwKICAgICAgICBDT1VOVCgqKSBhcyBkYWlseV9hZG1pc3Npb25zCiAgICBGUk9NIG1pbWljZGF0YV8yNTY3NjExMTU5NDkyODkyLm1pbWljLmljdXN0YXlzCiAgICBHUk9VUCBCWSBEQVRFKGludGltZSksIGZpcnN0X2NhcmV1bml0CiIiIikKCiMgRXhlY3V0ZSB0aGUgZmluYWwgcXVlcnkgdXNpbmcgU3BhcmsgU1FMCnJlc3VsdCA9IHNwYXJrLnNxbCgiIiIKICAgIFNFTEVDVCAKICAgICAgICBkLnN0YXlfZGF0ZSwKICAgICAgICBkLmZpcnN0X2NhcmV1bml0LAogICAgICAgIGQuZGFpbHlfYWRtaXNzaW9ucywKICAgICAgICB1LmNhcGFjaXR5LAogICAgICAgIFJPVU5EKChkLmRhaWx5X2FkbWlzc2lvbnMgKiAxMDAuMCAvIHUuY2FwYWNpdHkpLCAyKSBhcyB1dGlsaXphdGlvbl9wZXJjZW50CiAgICBGUk9NIGRhaWx5X29jY3VwYW5jeSBkCiAgICBKT0lOIHVuaXRfY2FwYWNpdHkgdSBPTiBkLmZpcnN0X2NhcmV1bml0ID0gdS51bml0CiAgICBPUkRFUiBCWSBkLnN0YXlfZGF0ZSwgZC5maXJzdF9jYXJldW5pdAoiIiIpCgojIERpc3BsYXkgdGhlIHJlc3VsdApkaXNwbGF5KHJlc3VsdCk=\").decode())\n\ntry:\n    # run user code\n    __backend_agg_user_code_fn()\n\n    #reset display function\n    display = __backend_agg_display_orig\n\n    if len(__backend_agg_dfs) > 0:\n        # create a temp view\n        if type(__backend_agg_dfs[0]).__module__ == \"databricks.koalas.frame\":\n            # koalas dataframe\n            __backend_agg_dfs[0].to_spark().createOrReplaceTempView(\"DatabricksViewcdbfd88\")\n        elif type(__backend_agg_dfs[0]).__module__ == \"pandas.core.frame\" or isinstance(__backend_agg_dfs[0], list):\n            # pandas dataframe\n            spark.createDataFrame(__backend_agg_dfs[0]).createOrReplaceTempView(\"DatabricksViewcdbfd88\")\n        else:\n            __backend_agg_dfs[0].createOrReplaceTempView(\"DatabricksViewcdbfd88\")\n        #run backend agg\n        display(spark.sql(\"\"\"WITH q AS (select * from DatabricksViewcdbfd88) SELECT `first_careunit`,SUM(`daily_admissions`) `column_9ff6b43c772`,SUM(`capacity`) `column_9ff6b43c775`,SUM(`utilization_percent`) `column_9ff6b43c778` FROM q GROUP BY `first_careunit`\"\"\"))\n    else:\n        displayHTML(\"dataframe no longer exists. If you're using dataframe.display(), use display(dataframe) instead.\")\n\n\nfinally:\n    spark.sql(\"drop view if exists DatabricksViewcdbfd88\")\n    display = __backend_agg_display_orig\n    del __backend_agg_display_new\n    del __backend_agg_display_orig\n    del __backend_agg_dfs\n    del __backend_agg_user_code_fn\n\n",
       "commandTitle": "Visualization 1",
       "commandType": "auto",
       "commandVersion": 0,
       "commentThread": [],
       "commentsVisible": false,
       "contentSha256Hex": null,
       "customPlotOptions": {
        "redashChart": [
         {
          "key": "type",
          "value": "CHART"
         },
         {
          "key": "options",
          "value": {
           "alignYAxesAtZero": true,
           "coefficient": 1,
           "columnConfigurationMap": {
            "x": {
             "column": "first_careunit",
             "id": "column_9ff6b43c770"
            },
            "y": [
             {
              "column": "daily_admissions",
              "id": "column_9ff6b43c772",
              "transform": "SUM"
             },
             {
              "column": "capacity",
              "id": "column_9ff6b43c775",
              "transform": "SUM"
             },
             {
              "column": "utilization_percent",
              "id": "column_9ff6b43c778",
              "transform": "SUM"
             }
            ]
           },
           "dateTimeFormat": "DD/MM/YYYY HH:mm",
           "direction": {
            "type": "counterclockwise"
           },
           "error_y": {
            "type": "data",
            "visible": true
           },
           "globalSeriesType": "column",
           "isAggregationOn": true,
           "legend": {
            "traceorder": "normal"
           },
           "missingValuesAsZero": true,
           "numberFormat": "0,0.[00000]",
           "percentFormat": "0[.]00%",
           "series": {
            "error_y": {
             "type": "data",
             "visible": true
            },
            "stacking": null
           },
           "seriesOptions": {
            "column_9ff6b43c772": {
             "type": "column",
             "yAxis": 0
            },
            "column_9ff6b43c775": {
             "type": "column",
             "yAxis": 0
            },
            "column_9ff6b43c778": {
             "type": "column",
             "yAxis": 0
            }
           },
           "showDataLabels": false,
           "sizemode": "diameter",
           "sortX": true,
           "sortY": true,
           "swappedAxes": false,
           "textFormat": "",
           "useAggregationsUi": true,
           "valuesOptions": {},
           "version": 2,
           "xAxis": {
            "labels": {
             "enabled": true
            },
            "type": "-"
           },
           "yAxis": [
            {
             "type": "-"
            },
            {
             "opposite": true,
             "type": "-"
            }
           ]
          }
         }
        ]
       },
       "datasetPreviewNameToCmdIdMap": {},
       "diffDeletes": [],
       "diffInserts": [],
       "displayType": "redashChart",
       "error": null,
       "errorDetails": null,
       "errorSummary": null,
       "errorTraceType": null,
       "finishTime": 0,
       "globalVars": {},
       "guid": "",
       "height": "auto",
       "hideCommandCode": false,
       "hideCommandResult": false,
       "iPythonMetadata": null,
       "inputWidgets": {},
       "isLockedInExamMode": false,
       "latestUser": "a user",
       "latestUserId": null,
       "listResultMetadata": null,
       "metadata": {},
       "nuid": "6edb0f24-c463-4978-a29b-ed8549bd8922",
       "origId": 0,
       "parentHierarchy": [],
       "pivotAggregation": null,
       "pivotColumns": null,
       "position": 10.0,
       "resultDbfsErrorMessage": null,
       "resultDbfsStatus": "INLINED_IN_TREE",
       "results": null,
       "showCommandTitle": false,
       "startTime": 0,
       "state": "input",
       "streamStates": {},
       "subcommandOptions": {
        "queryPlan": {
         "groups": [
          {
           "column": "first_careunit",
           "type": "column"
          }
         ],
         "selects": [
          {
           "column": "first_careunit",
           "type": "column"
          },
          {
           "alias": "column_9ff6b43c772",
           "args": [
            {
             "column": "daily_admissions",
             "type": "column"
            }
           ],
           "function": "SUM",
           "type": "function"
          },
          {
           "alias": "column_9ff6b43c775",
           "args": [
            {
             "column": "capacity",
             "type": "column"
            }
           ],
           "function": "SUM",
           "type": "function"
          },
          {
           "alias": "column_9ff6b43c778",
           "args": [
            {
             "column": "utilization_percent",
             "type": "column"
            }
           ],
           "function": "SUM",
           "type": "function"
          }
         ]
        }
       },
       "submitTime": 0,
       "subtype": "tableResultSubCmd.visualization",
       "tableResultIndex": 0,
       "tableResultSettingsMap": {},
       "useConsistentColors": false,
       "version": "CommandV1",
       "width": "auto",
       "workflows": [],
       "xColumns": null,
       "yColumns": null
      }
     },
     "output_type": "display_data"
    }
   ],
   "source": [
    "# Create the unit_capacity DataFrame\n",
    "unit_capacity = spark.createDataFrame([\n",
    "    ('MICU', 20),\n",
    "    ('SICU', 15),\n",
    "    ('CCU', 12),\n",
    "    ('CSRU', 10),\n",
    "    ('TSICU', 8)\n",
    "], ['unit', 'capacity'])\n",
    "\n",
    "# Register the DataFrame as a temporary view\n",
    "unit_capacity.createOrReplaceTempView(\"unit_capacity\")\n",
    "\n",
    "# Create the daily_occupancy DataFrame using Spark SQL\n",
    "spark.sql(\"\"\"\n",
    "    CREATE OR REPLACE TEMP VIEW daily_occupancy AS\n",
    "    SELECT \n",
    "        DATE(intime) as stay_date,\n",
    "        first_careunit,\n",
    "        COUNT(*) as daily_admissions\n",
    "    FROM mimicdata_2567611159492892.mimic.icustays\n",
    "    GROUP BY DATE(intime), first_careunit\n",
    "\"\"\")\n",
    "\n",
    "# Execute the final query using Spark SQL\n",
    "result = spark.sql(\"\"\"\n",
    "    SELECT \n",
    "        d.stay_date,\n",
    "        d.first_careunit,\n",
    "        d.daily_admissions,\n",
    "        u.capacity,\n",
    "        ROUND((d.daily_admissions * 100.0 / u.capacity), 2) as utilization_percent\n",
    "    FROM daily_occupancy d\n",
    "    JOIN unit_capacity u ON d.first_careunit = u.unit\n",
    "    ORDER BY d.stay_date, d.first_careunit\n",
    "\"\"\")\n",
    "\n",
    "# Display the result\n",
    "display(result)"
   ]
  },
  {
   "cell_type": "code",
   "execution_count": 0,
   "metadata": {
    "application/vnd.databricks.v1+cell": {
     "cellMetadata": {
      "byteLimit": 2048000,
      "implicitDf": true,
      "rowLimit": 10000
     },
     "inputWidgets": {},
     "nuid": "3ec7798a-e5f4-49ce-8c3a-d149e21a994e",
     "showTitle": true,
     "tableResultSettingsMap": {},
     "title": "Patients with multiple ICU stays"
    }
   },
   "outputs": [
    {
     "output_type": "display_data",
     "data": {
      "text/html": [
       "<style scoped>\n",
       "  .table-result-container {\n",
       "    max-height: 300px;\n",
       "    overflow: auto;\n",
       "  }\n",
       "  table, th, td {\n",
       "    border: 1px solid black;\n",
       "    border-collapse: collapse;\n",
       "  }\n",
       "  th, td {\n",
       "    padding: 5px;\n",
       "  }\n",
       "  th {\n",
       "    text-align: left;\n",
       "  }\n",
       "</style><div class='table-result-container'><table class='table-result'><thead style='background-color: white'><tr><th>subject_id</th><th>first_careunit</th><th>readmission_time</th><th>prev_discharge</th><th>days_between_stays</th></tr></thead><tbody><tr><td>40304</td><td>MICU</td><td>2163-11-24T16:52:26Z</td><td>2163-11-22T22:06:43Z</td><td>1.78</td></tr><tr><td>43735</td><td>CCU</td><td>2128-11-08T13:03:05Z</td><td>2128-11-05T17:07:58Z</td><td>2.83</td></tr><tr><td>43746</td><td>SICU</td><td>2111-01-12T15:26:49Z</td><td>2111-01-09T15:47:22Z</td><td>2.99</td></tr><tr><td>44083</td><td>CCU</td><td>2112-05-29T02:01:33Z</td><td>2112-05-25T14:59:50Z</td><td>3.46</td></tr><tr><td>10124</td><td>MICU</td><td>2192-04-30T14:50:44Z</td><td>2192-04-26T23:59:45Z</td><td>3.62</td></tr><tr><td>10124</td><td>CCU</td><td>2192-04-24T02:29:49Z</td><td>2192-04-20T08:51:28Z</td><td>3.73</td></tr><tr><td>40177</td><td>MICU</td><td>2169-05-11T20:45:56Z</td><td>2169-05-08T01:58:01Z</td><td>3.78</td></tr><tr><td>10119</td><td>SICU</td><td>2117-08-21T08:34:09Z</td><td>2117-08-13T18:44:34Z</td><td>7.58</td></tr><tr><td>42346</td><td>TSICU</td><td>2160-12-26T11:46:17Z</td><td>2160-12-17T12:41:12Z</td><td>8.96</td></tr><tr><td>42281</td><td>MICU</td><td>2119-10-30T15:42:34Z</td><td>2119-10-21T00:36:31Z</td><td>9.63</td></tr><tr><td>10094</td><td>MICU</td><td>2180-03-15T22:35:30Z</td><td>2180-03-04T21:20:36Z</td><td>11.05</td></tr><tr><td>10059</td><td>MICU</td><td>2150-08-22T17:33:50Z</td><td>2150-08-09T16:25:28Z</td><td>13.05</td></tr><tr><td>41976</td><td>MICU</td><td>2202-10-03T01:46:32Z</td><td>2202-09-18T20:39:05Z</td><td>14.21</td></tr><tr><td>41976</td><td>MICU</td><td>2199-01-31T22:27:21Z</td><td>2199-01-16T15:48:45Z</td><td>15.28</td></tr><tr><td>10124</td><td>MICU</td><td>2192-04-16T20:58:32Z</td><td>2192-04-01T06:36:00Z</td><td>15.6</td></tr><tr><td>44083</td><td>CCU</td><td>2112-05-23T12:32:06Z</td><td>2112-05-06T17:21:01Z</td><td>16.8</td></tr><tr><td>10088</td><td>CCU</td><td>2107-01-29T04:02:15Z</td><td>2107-01-08T16:35:13Z</td><td>20.48</td></tr><tr><td>43881</td><td>TSICU</td><td>2104-10-24T09:46:21Z</td><td>2104-09-26T15:44:04Z</td><td>27.75</td></tr><tr><td>41976</td><td>SICU</td><td>2201-12-31T21:53:45Z</td><td>2201-11-19T16:43:30Z</td><td>42.22</td></tr><tr><td>41976</td><td>MICU</td><td>2202-02-15T19:40:21Z</td><td>2202-01-01T16:03:38Z</td><td>45.15</td></tr><tr><td>41976</td><td>MICU</td><td>2201-11-16T23:03:34Z</td><td>2201-10-01T16:09:32Z</td><td>46.29</td></tr><tr><td>41976</td><td>CCU</td><td>2201-09-28T16:48:10Z</td><td>2201-08-11T17:15:13Z</td><td>47.98</td></tr><tr><td>41795</td><td>MICU</td><td>2145-09-06T08:54:00Z</td><td>2145-07-17T18:58:22Z</td><td>50.58</td></tr><tr><td>42135</td><td>MICU</td><td>2127-10-06T21:01:40Z</td><td>2127-07-30T14:11:20Z</td><td>68.28</td></tr><tr><td>41976</td><td>MICU</td><td>2200-06-09T16:14:42Z</td><td>2200-03-28T17:15:09Z</td><td>72.96</td></tr><tr><td>41976</td><td>MICU</td><td>2202-05-01T22:01:47Z</td><td>2202-02-17T03:10:56Z</td><td>73.79</td></tr><tr><td>41976</td><td>MICU</td><td>2199-01-13T17:14:16Z</td><td>2198-10-31T20:50:58Z</td><td>73.85</td></tr><tr><td>41976</td><td>MICU</td><td>2201-08-10T23:00:55Z</td><td>2201-05-13T18:53:18Z</td><td>89.17</td></tr><tr><td>10088</td><td>MICU</td><td>2107-05-12T18:00:52Z</td><td>2107-01-30T18:58:45Z</td><td>101.96</td></tr><tr><td>41976</td><td>MICU</td><td>2202-09-16T21:57:24Z</td><td>2202-05-02T22:27:04Z</td><td>136.98</td></tr><tr><td>41976</td><td>MICU</td><td>2200-10-29T20:46:54Z</td><td>2200-06-11T18:14:08Z</td><td>140.11</td></tr><tr><td>40310</td><td>MICU</td><td>2144-12-24T16:16:41Z</td><td>2144-08-01T17:46:11Z</td><td>144.94</td></tr><tr><td>10117</td><td>TSICU</td><td>2138-11-12T03:18:24Z</td><td>2138-06-07T15:08:00Z</td><td>157.51</td></tr><tr><td>40124</td><td>CCU</td><td>2130-08-12T05:50:38Z</td><td>2130-02-06T13:22:34Z</td><td>186.69</td></tr><tr><td>41976</td><td>MICU</td><td>2201-05-12T10:50:34Z</td><td>2200-11-03T19:00:37Z</td><td>189.66</td></tr><tr><td>41976</td><td>MICU</td><td>2200-03-17T20:33:07Z</td><td>2199-02-11T17:05:19Z</td><td>399.14</td></tr></tbody></table></div>"
      ]
     },
     "metadata": {
      "application/vnd.databricks.v1+output": {
       "addedWidgets": {},
       "aggData": [],
       "aggError": "",
       "aggOverflow": false,
       "aggSchema": [],
       "aggSeriesLimitReached": false,
       "aggType": "",
       "arguments": {},
       "columnCustomDisplayInfos": {},
       "data": [
        [
         40304,
         "MICU",
         "2163-11-24T16:52:26Z",
         "2163-11-22T22:06:43Z",
         1.78
        ],
        [
         43735,
         "CCU",
         "2128-11-08T13:03:05Z",
         "2128-11-05T17:07:58Z",
         2.83
        ],
        [
         43746,
         "SICU",
         "2111-01-12T15:26:49Z",
         "2111-01-09T15:47:22Z",
         2.99
        ],
        [
         44083,
         "CCU",
         "2112-05-29T02:01:33Z",
         "2112-05-25T14:59:50Z",
         3.46
        ],
        [
         10124,
         "MICU",
         "2192-04-30T14:50:44Z",
         "2192-04-26T23:59:45Z",
         3.62
        ],
        [
         10124,
         "CCU",
         "2192-04-24T02:29:49Z",
         "2192-04-20T08:51:28Z",
         3.73
        ],
        [
         40177,
         "MICU",
         "2169-05-11T20:45:56Z",
         "2169-05-08T01:58:01Z",
         3.78
        ],
        [
         10119,
         "SICU",
         "2117-08-21T08:34:09Z",
         "2117-08-13T18:44:34Z",
         7.58
        ],
        [
         42346,
         "TSICU",
         "2160-12-26T11:46:17Z",
         "2160-12-17T12:41:12Z",
         8.96
        ],
        [
         42281,
         "MICU",
         "2119-10-30T15:42:34Z",
         "2119-10-21T00:36:31Z",
         9.63
        ],
        [
         10094,
         "MICU",
         "2180-03-15T22:35:30Z",
         "2180-03-04T21:20:36Z",
         11.05
        ],
        [
         10059,
         "MICU",
         "2150-08-22T17:33:50Z",
         "2150-08-09T16:25:28Z",
         13.05
        ],
        [
         41976,
         "MICU",
         "2202-10-03T01:46:32Z",
         "2202-09-18T20:39:05Z",
         14.21
        ],
        [
         41976,
         "MICU",
         "2199-01-31T22:27:21Z",
         "2199-01-16T15:48:45Z",
         15.28
        ],
        [
         10124,
         "MICU",
         "2192-04-16T20:58:32Z",
         "2192-04-01T06:36:00Z",
         15.6
        ],
        [
         44083,
         "CCU",
         "2112-05-23T12:32:06Z",
         "2112-05-06T17:21:01Z",
         16.8
        ],
        [
         10088,
         "CCU",
         "2107-01-29T04:02:15Z",
         "2107-01-08T16:35:13Z",
         20.48
        ],
        [
         43881,
         "TSICU",
         "2104-10-24T09:46:21Z",
         "2104-09-26T15:44:04Z",
         27.75
        ],
        [
         41976,
         "SICU",
         "2201-12-31T21:53:45Z",
         "2201-11-19T16:43:30Z",
         42.22
        ],
        [
         41976,
         "MICU",
         "2202-02-15T19:40:21Z",
         "2202-01-01T16:03:38Z",
         45.15
        ],
        [
         41976,
         "MICU",
         "2201-11-16T23:03:34Z",
         "2201-10-01T16:09:32Z",
         46.29
        ],
        [
         41976,
         "CCU",
         "2201-09-28T16:48:10Z",
         "2201-08-11T17:15:13Z",
         47.98
        ],
        [
         41795,
         "MICU",
         "2145-09-06T08:54:00Z",
         "2145-07-17T18:58:22Z",
         50.58
        ],
        [
         42135,
         "MICU",
         "2127-10-06T21:01:40Z",
         "2127-07-30T14:11:20Z",
         68.28
        ],
        [
         41976,
         "MICU",
         "2200-06-09T16:14:42Z",
         "2200-03-28T17:15:09Z",
         72.96
        ],
        [
         41976,
         "MICU",
         "2202-05-01T22:01:47Z",
         "2202-02-17T03:10:56Z",
         73.79
        ],
        [
         41976,
         "MICU",
         "2199-01-13T17:14:16Z",
         "2198-10-31T20:50:58Z",
         73.85
        ],
        [
         41976,
         "MICU",
         "2201-08-10T23:00:55Z",
         "2201-05-13T18:53:18Z",
         89.17
        ],
        [
         10088,
         "MICU",
         "2107-05-12T18:00:52Z",
         "2107-01-30T18:58:45Z",
         101.96
        ],
        [
         41976,
         "MICU",
         "2202-09-16T21:57:24Z",
         "2202-05-02T22:27:04Z",
         136.98
        ],
        [
         41976,
         "MICU",
         "2200-10-29T20:46:54Z",
         "2200-06-11T18:14:08Z",
         140.11
        ],
        [
         40310,
         "MICU",
         "2144-12-24T16:16:41Z",
         "2144-08-01T17:46:11Z",
         144.94
        ],
        [
         10117,
         "TSICU",
         "2138-11-12T03:18:24Z",
         "2138-06-07T15:08:00Z",
         157.51
        ],
        [
         40124,
         "CCU",
         "2130-08-12T05:50:38Z",
         "2130-02-06T13:22:34Z",
         186.69
        ],
        [
         41976,
         "MICU",
         "2201-05-12T10:50:34Z",
         "2200-11-03T19:00:37Z",
         189.66
        ],
        [
         41976,
         "MICU",
         "2200-03-17T20:33:07Z",
         "2199-02-11T17:05:19Z",
         399.14
        ]
       ],
       "datasetInfos": [],
       "dbfsResultPath": null,
       "isJsonSchema": true,
       "metadata": {
        "dataframeName": "_sqldf",
        "executionCount": 9
       },
       "overflow": false,
       "plotOptions": {
        "customPlotOptions": {},
        "displayType": "table",
        "pivotAggregation": null,
        "pivotColumns": null,
        "xColumns": null,
        "yColumns": null
       },
       "removedWidgets": [],
       "schema": [
        {
         "metadata": "{}",
         "name": "subject_id",
         "type": "\"integer\""
        },
        {
         "metadata": "{}",
         "name": "first_careunit",
         "type": "\"string\""
        },
        {
         "metadata": "{}",
         "name": "readmission_time",
         "type": "\"timestamp\""
        },
        {
         "metadata": "{}",
         "name": "prev_discharge",
         "type": "\"timestamp\""
        },
        {
         "metadata": "{}",
         "name": "days_between_stays",
         "type": "\"double\""
        }
       ],
       "type": "table"
      }
     },
     "output_type": "display_data"
    },
    {
     "output_type": "display_data",
     "data": {
      "text/plain": [
       "Databricks visualization. Run in Databricks to view."
      ]
     },
     "metadata": {
      "application/vnd.databricks.v1.subcommand+json": {
       "baseErrorDetails": null,
       "bindings": {},
       "collapsed": false,
       "command": "%sql WITH q AS (WITH readmissions AS (\n    SELECT \n        subject_id,\n        intime,\n        outtime,\n        LAG(outtime) OVER (PARTITION BY subject_id ORDER BY intime) as prev_discharge,\n        first_careunit\n    FROM mimicdata_2567611159492892.mimic.icustays\n)\nSELECT \n    subject_id,\n    first_careunit,\n    intime as readmission_time,\n    prev_discharge,\n    ROUND((UNIX_TIMESTAMP(intime) - UNIX_TIMESTAMP(prev_discharge))/86400, 2) as days_between_stays\nFROM readmissions\nWHERE prev_discharge IS NOT NULL\nORDER BY days_between_stays) SELECT `first_careunit`,SUM(`days_between_stays`) `column_9ff6b43c782` FROM q GROUP BY `first_careunit`",
       "commandTitle": "Visualization 1",
       "commandType": "auto",
       "commandVersion": 0,
       "commentThread": [],
       "commentsVisible": false,
       "contentSha256Hex": null,
       "customPlotOptions": {
        "redashChart": [
         {
          "key": "type",
          "value": "CHART"
         },
         {
          "key": "options",
          "value": {
           "alignYAxesAtZero": true,
           "coefficient": 1,
           "columnConfigurationMap": {
            "x": {
             "column": "first_careunit",
             "id": "column_9ff6b43c780"
            },
            "y": [
             {
              "column": "days_between_stays",
              "id": "column_9ff6b43c782",
              "transform": "SUM"
             }
            ]
           },
           "dateTimeFormat": "DD/MM/YYYY HH:mm",
           "direction": {
            "type": "counterclockwise"
           },
           "error_y": {
            "type": "data",
            "visible": true
           },
           "globalSeriesType": "column",
           "isAggregationOn": true,
           "legend": {
            "traceorder": "normal"
           },
           "missingValuesAsZero": true,
           "numberFormat": "0,0.[00000]",
           "percentFormat": "0[.]00%",
           "series": {
            "error_y": {
             "type": "data",
             "visible": true
            },
            "stacking": null
           },
           "seriesOptions": {
            "column_9ff6b43c782": {
             "type": "column",
             "yAxis": 0
            }
           },
           "showDataLabels": false,
           "sizemode": "diameter",
           "sortX": true,
           "sortY": true,
           "swappedAxes": false,
           "textFormat": "",
           "useAggregationsUi": true,
           "valuesOptions": {},
           "version": 2,
           "xAxis": {
            "labels": {
             "enabled": true
            },
            "type": "-"
           },
           "yAxis": [
            {
             "type": "-"
            },
            {
             "opposite": true,
             "type": "-"
            }
           ]
          }
         }
        ]
       },
       "datasetPreviewNameToCmdIdMap": {},
       "diffDeletes": [],
       "diffInserts": [],
       "displayType": "redashChart",
       "error": null,
       "errorDetails": null,
       "errorSummary": null,
       "errorTraceType": null,
       "finishTime": 0,
       "globalVars": {},
       "guid": "",
       "height": "auto",
       "hideCommandCode": false,
       "hideCommandResult": false,
       "iPythonMetadata": null,
       "inputWidgets": {},
       "isLockedInExamMode": false,
       "latestUser": "a user",
       "latestUserId": null,
       "listResultMetadata": null,
       "metadata": {},
       "nuid": "8c71a1dd-68d2-40b3-89ad-2bb1316201d4",
       "origId": 0,
       "parentHierarchy": [],
       "pivotAggregation": null,
       "pivotColumns": null,
       "position": 11.0,
       "resultDbfsErrorMessage": null,
       "resultDbfsStatus": "INLINED_IN_TREE",
       "results": null,
       "showCommandTitle": false,
       "startTime": 0,
       "state": "input",
       "streamStates": {},
       "subcommandOptions": {
        "queryPlan": {
         "groups": [
          {
           "column": "first_careunit",
           "type": "column"
          }
         ],
         "selects": [
          {
           "column": "first_careunit",
           "type": "column"
          },
          {
           "alias": "column_9ff6b43c782",
           "args": [
            {
             "column": "days_between_stays",
             "type": "column"
            }
           ],
           "function": "SUM",
           "type": "function"
          }
         ]
        }
       },
       "submitTime": 0,
       "subtype": "tableResultSubCmd.visualization",
       "tableResultIndex": 0,
       "tableResultSettingsMap": {},
       "useConsistentColors": false,
       "version": "CommandV1",
       "width": "auto",
       "workflows": [],
       "xColumns": null,
       "yColumns": null
      }
     },
     "output_type": "display_data"
    },
    {
     "output_type": "display_data",
     "data": {
      "text/plain": [
       "Databricks visualization. Run in Databricks to view."
      ]
     },
     "metadata": {
      "application/vnd.databricks.v1.subcommand+json": {
       "baseErrorDetails": null,
       "bindings": {},
       "collapsed": false,
       "command": "%sql WITH q AS (WITH readmissions AS (\n    SELECT \n        subject_id,\n        intime,\n        outtime,\n        LAG(outtime) OVER (PARTITION BY subject_id ORDER BY intime) as prev_discharge,\n        first_careunit\n    FROM mimicdata_2567611159492892.mimic.icustays\n)\nSELECT \n    subject_id,\n    first_careunit,\n    intime as readmission_time,\n    prev_discharge,\n    ROUND((UNIX_TIMESTAMP(intime) - UNIX_TIMESTAMP(prev_discharge))/86400, 2) as days_between_stays\nFROM readmissions\nWHERE prev_discharge IS NOT NULL\nORDER BY days_between_stays) SELECT `prev_discharge`,SUM(`days_between_stays`) `column_9ff6b43c787` FROM q GROUP BY `prev_discharge`",
       "commandTitle": "Visualization 2",
       "commandType": "auto",
       "commandVersion": 0,
       "commentThread": [],
       "commentsVisible": false,
       "contentSha256Hex": null,
       "customPlotOptions": {
        "redashChart": [
         {
          "key": "type",
          "value": "CHART"
         },
         {
          "key": "options",
          "value": {
           "alignYAxesAtZero": true,
           "coefficient": 1,
           "columnConfigurationMap": {
            "x": {
             "column": "prev_discharge",
             "id": "column_9ff6b43c784"
            },
            "y": [
             {
              "column": "days_between_stays",
              "id": "column_9ff6b43c787",
              "transform": "SUM"
             }
            ]
           },
           "dateTimeFormat": "DD/MM/YYYY HH:mm",
           "direction": {
            "type": "counterclockwise"
           },
           "error_y": {
            "type": "data",
            "visible": true
           },
           "globalSeriesType": "column",
           "isAggregationOn": true,
           "legend": {
            "traceorder": "normal"
           },
           "missingValuesAsZero": true,
           "numberFormat": "0,0.[00000]",
           "percentFormat": "0[.]00%",
           "series": {
            "error_y": {
             "type": "data",
             "visible": true
            },
            "stacking": null
           },
           "seriesOptions": {
            "column_9ff6b43c787": {
             "type": "column",
             "yAxis": 0
            }
           },
           "showDataLabels": false,
           "sizemode": "diameter",
           "sortX": true,
           "sortY": true,
           "swappedAxes": false,
           "textFormat": "",
           "useAggregationsUi": true,
           "valuesOptions": {},
           "version": 2,
           "xAxis": {
            "labels": {
             "enabled": true
            },
            "type": "-"
           },
           "yAxis": [
            {
             "type": "-"
            },
            {
             "opposite": true,
             "type": "-"
            }
           ]
          }
         }
        ]
       },
       "datasetPreviewNameToCmdIdMap": {},
       "diffDeletes": [],
       "diffInserts": [],
       "displayType": "redashChart",
       "error": null,
       "errorDetails": null,
       "errorSummary": null,
       "errorTraceType": null,
       "finishTime": 0,
       "globalVars": {},
       "guid": "",
       "height": "auto",
       "hideCommandCode": false,
       "hideCommandResult": false,
       "iPythonMetadata": null,
       "inputWidgets": {},
       "isLockedInExamMode": false,
       "latestUser": "a user",
       "latestUserId": null,
       "listResultMetadata": null,
       "metadata": {},
       "nuid": "85a1b88f-6f32-4c32-96bd-4ced8784135f",
       "origId": 0,
       "parentHierarchy": [],
       "pivotAggregation": null,
       "pivotColumns": null,
       "position": 12.0,
       "resultDbfsErrorMessage": null,
       "resultDbfsStatus": "INLINED_IN_TREE",
       "results": null,
       "showCommandTitle": false,
       "startTime": 0,
       "state": "input",
       "streamStates": {},
       "subcommandOptions": {
        "queryPlan": {
         "groups": [
          {
           "column": "prev_discharge",
           "type": "column"
          }
         ],
         "selects": [
          {
           "column": "prev_discharge",
           "type": "column"
          },
          {
           "alias": "column_9ff6b43c787",
           "args": [
            {
             "column": "days_between_stays",
             "type": "column"
            }
           ],
           "function": "SUM",
           "type": "function"
          }
         ]
        }
       },
       "submitTime": 0,
       "subtype": "tableResultSubCmd.visualization",
       "tableResultIndex": 0,
       "tableResultSettingsMap": {},
       "useConsistentColors": false,
       "version": "CommandV1",
       "width": "auto",
       "workflows": [],
       "xColumns": null,
       "yColumns": null
      }
     },
     "output_type": "display_data"
    }
   ],
   "source": [
    "%sql\n",
    "SELECT \n",
    "    subject_id,\n",
    "    COUNT(*) as total_icu_stays,\n",
    "    MIN(intime) as first_admission,\n",
    "    MAX(outtime) as last_discharge,\n",
    "    ROUND(AVG(los), 2) as avg_los_per_stay,\n",
    "    ROUND(SUM(los), 2) as total_los,\n",
    "    ARRAY_JOIN(COLLECT_LIST(DISTINCT first_careunit), ', ') as units_used\n",
    "FROM mimicdata_2567611159492892.mimic.icustays\n",
    "GROUP BY subject_id\n",
    "HAVING COUNT(*) > 1\n",
    "ORDER BY total_icu_stays DESC, total_los DESC;\n",
    "\n",
    "WITH readmissions AS (\n",
    "    SELECT \n",
    "        subject_id,\n",
    "        intime,\n",
    "        outtime,\n",
    "        LAG(outtime) OVER (PARTITION BY subject_id ORDER BY intime) as prev_discharge,\n",
    "        first_careunit\n",
    "    FROM mimicdata_2567611159492892.mimic.icustays\n",
    ")\n",
    "SELECT \n",
    "    subject_id,\n",
    "    first_careunit,\n",
    "    intime as readmission_time,\n",
    "    prev_discharge,\n",
    "    ROUND((UNIX_TIMESTAMP(intime) - UNIX_TIMESTAMP(prev_discharge))/86400, 2) as days_between_stays\n",
    "FROM readmissions\n",
    "WHERE prev_discharge IS NOT NULL\n",
    "ORDER BY days_between_stays;"
   ]
  },
  {
   "cell_type": "code",
   "execution_count": 0,
   "metadata": {
    "application/vnd.databricks.v1+cell": {
     "cellMetadata": {
      "byteLimit": 2048000,
      "implicitDf": true,
      "rowLimit": 10000
     },
     "inputWidgets": {},
     "nuid": "27237ecb-8cf6-4ee1-a9ce-4a35e50d0b11",
     "showTitle": true,
     "tableResultSettingsMap": {},
     "title": "Care Unit Performance"
    }
   },
   "outputs": [
    {
     "output_type": "display_data",
     "data": {
      "text/html": [
       "<style scoped>\n",
       "  .table-result-container {\n",
       "    max-height: 300px;\n",
       "    overflow: auto;\n",
       "  }\n",
       "  table, th, td {\n",
       "    border: 1px solid black;\n",
       "    border-collapse: collapse;\n",
       "  }\n",
       "  th, td {\n",
       "    padding: 5px;\n",
       "  }\n",
       "  th {\n",
       "    text-align: left;\n",
       "  }\n",
       "</style><div class='table-result-container'><table class='table-result'><thead style='background-color: white'><tr><th>first_careunit</th><th>total_admissions</th><th>avg_los</th><th>min_los</th><th>max_los</th><th>unique_patients</th><th>avg_stays_per_patient</th><th>transfers_out</th><th>transfer_rate_percent</th><th>long_stay_patients</th><th>dbsource</th></tr></thead><tbody><tr><td>MICU</td><td>44</td><td>4.04</td><td>0.19</td><td>31.12</td><td>28</td><td>1.57</td><td>2</td><td>4.55</td><td>1</td><td>metavision</td></tr><tr><td>MICU</td><td>33</td><td>3.84</td><td>0.65</td><td>15.36</td><td>28</td><td>1.18</td><td>3</td><td>9.09</td><td>0</td><td>carevue</td></tr><tr><td>SICU</td><td>13</td><td>5.43</td><td>0.74</td><td>29.26</td><td>11</td><td>1.18</td><td>1</td><td>7.69</td><td>0</td><td>metavision</td></tr><tr><td>CCU</td><td>12</td><td>4.58</td><td>0.88</td><td>19.58</td><td>11</td><td>1.09</td><td>1</td><td>8.33</td><td>0</td><td>metavision</td></tr><tr><td>SICU</td><td>10</td><td>5.98</td><td>1.07</td><td>35.41</td><td>9</td><td>1.11</td><td>0</td><td>0.00</td><td>1</td><td>carevue</td></tr><tr><td>CCU</td><td>7</td><td>7.76</td><td>1.62</td><td>25.0</td><td>7</td><td>1.00</td><td>0</td><td>0.00</td><td>0</td><td>carevue</td></tr><tr><td>TSICU</td><td>6</td><td>2.22</td><td>0.54</td><td>5.1</td><td>6</td><td>1.00</td><td>0</td><td>0.00</td><td>0</td><td>metavision</td></tr><tr><td>TSICU</td><td>5</td><td>5.23</td><td>0.11</td><td>22.39</td><td>5</td><td>1.00</td><td>1</td><td>20.00</td><td>0</td><td>carevue</td></tr><tr><td>CSRU</td><td>4</td><td>4.64</td><td>0.9</td><td>8.14</td><td>4</td><td>1.00</td><td>0</td><td>0.00</td><td>0</td><td>carevue</td></tr><tr><td>CSRU</td><td>2</td><td>1.61</td><td>1.32</td><td>1.91</td><td>2</td><td>1.00</td><td>0</td><td>0.00</td><td>0</td><td>metavision</td></tr></tbody></table></div>"
      ]
     },
     "metadata": {
      "application/vnd.databricks.v1+output": {
       "addedWidgets": {},
       "aggData": [],
       "aggError": "",
       "aggOverflow": false,
       "aggSchema": [],
       "aggSeriesLimitReached": false,
       "aggType": "",
       "arguments": {},
       "columnCustomDisplayInfos": {},
       "data": [
        [
         "MICU",
         44,
         4.04,
         0.19,
         31.12,
         28,
         "1.57",
         2,
         "4.55",
         1,
         "metavision"
        ],
        [
         "MICU",
         33,
         3.84,
         0.65,
         15.36,
         28,
         "1.18",
         3,
         "9.09",
         0,
         "carevue"
        ],
        [
         "SICU",
         13,
         5.43,
         0.74,
         29.26,
         11,
         "1.18",
         1,
         "7.69",
         0,
         "metavision"
        ],
        [
         "CCU",
         12,
         4.58,
         0.88,
         19.58,
         11,
         "1.09",
         1,
         "8.33",
         0,
         "metavision"
        ],
        [
         "SICU",
         10,
         5.98,
         1.07,
         35.41,
         9,
         "1.11",
         0,
         "0.00",
         1,
         "carevue"
        ],
        [
         "CCU",
         7,
         7.76,
         1.62,
         25.0,
         7,
         "1.00",
         0,
         "0.00",
         0,
         "carevue"
        ],
        [
         "TSICU",
         6,
         2.22,
         0.54,
         5.1,
         6,
         "1.00",
         0,
         "0.00",
         0,
         "metavision"
        ],
        [
         "TSICU",
         5,
         5.23,
         0.11,
         22.39,
         5,
         "1.00",
         1,
         "20.00",
         0,
         "carevue"
        ],
        [
         "CSRU",
         4,
         4.64,
         0.9,
         8.14,
         4,
         "1.00",
         0,
         "0.00",
         0,
         "carevue"
        ],
        [
         "CSRU",
         2,
         1.61,
         1.32,
         1.91,
         2,
         "1.00",
         0,
         "0.00",
         0,
         "metavision"
        ]
       ],
       "datasetInfos": [],
       "dbfsResultPath": null,
       "isJsonSchema": true,
       "metadata": {
        "dataframeName": "_sqldf",
        "executionCount": 1
       },
       "overflow": false,
       "plotOptions": {
        "customPlotOptions": {},
        "displayType": "table",
        "pivotAggregation": null,
        "pivotColumns": null,
        "xColumns": null,
        "yColumns": null
       },
       "removedWidgets": [],
       "schema": [
        {
         "metadata": "{}",
         "name": "first_careunit",
         "type": "\"string\""
        },
        {
         "metadata": "{}",
         "name": "total_admissions",
         "type": "\"long\""
        },
        {
         "metadata": "{}",
         "name": "avg_los",
         "type": "\"double\""
        },
        {
         "metadata": "{}",
         "name": "min_los",
         "type": "\"double\""
        },
        {
         "metadata": "{}",
         "name": "max_los",
         "type": "\"double\""
        },
        {
         "metadata": "{}",
         "name": "unique_patients",
         "type": "\"long\""
        },
        {
         "metadata": "{}",
         "name": "avg_stays_per_patient",
         "type": "\"decimal(25,2)\""
        },
        {
         "metadata": "{}",
         "name": "transfers_out",
         "type": "\"long\""
        },
        {
         "metadata": "{}",
         "name": "transfer_rate_percent",
         "type": "\"decimal(27,2)\""
        },
        {
         "metadata": "{}",
         "name": "long_stay_patients",
         "type": "\"long\""
        },
        {
         "metadata": "{}",
         "name": "dbsource",
         "type": "\"string\""
        }
       ],
       "type": "table"
      }
     },
     "output_type": "display_data"
    },
    {
     "output_type": "display_data",
     "data": {
      "text/plain": [
       "Databricks visualization. Run in Databricks to view."
      ]
     },
     "metadata": {
      "application/vnd.databricks.v1.subcommand+json": {
       "baseErrorDetails": null,
       "bindings": {},
       "collapsed": false,
       "command": "%sql WITH q AS (SELECT \n    first_careunit,\n    COUNT(*) as total_admissions,\n    ROUND(AVG(los), 2) as avg_los,\n    ROUND(MIN(los), 2) as min_los,\n    ROUND(MAX(los), 2) as max_los,\n    COUNT(DISTINCT subject_id) as unique_patients,\n    ROUND((COUNT(*) * 1.0 / COUNT(DISTINCT subject_id)), 2) as avg_stays_per_patient,\n    SUM(CASE WHEN first_careunit != last_careunit THEN 1 ELSE 0 END) as transfers_out,\n    ROUND(\n        (SUM(CASE WHEN first_careunit != last_careunit THEN 1 ELSE 0 END) * 100.0 / COUNT(*)), 2\n    ) as transfer_rate_percent,\n    COUNT(CASE WHEN los > 30 THEN 1 END) as long_stay_patients,\n    dbsource\nFROM mimicdata_2567611159492892.mimic.icustays\nGROUP BY first_careunit, dbsource\nORDER BY total_admissions DESC) SELECT `first_careunit`,SUM(`total_admissions`) `column_9ff6b43c791`,SUM(`unique_patients`) `column_9ff6b43c794`,SUM(`transfers_out`) `column_9ff6b43c797`,SUM(`long_stay_patients`) `column_9ff6b43c800` FROM q GROUP BY `first_careunit`",
       "commandTitle": "Visualization 1",
       "commandType": "auto",
       "commandVersion": 0,
       "commentThread": [],
       "commentsVisible": false,
       "contentSha256Hex": null,
       "customPlotOptions": {
        "redashChart": [
         {
          "key": "type",
          "value": "CHART"
         },
         {
          "key": "options",
          "value": {
           "alignYAxesAtZero": true,
           "coefficient": 1,
           "columnConfigurationMap": {
            "x": {
             "column": "first_careunit",
             "id": "column_9ff6b43c789"
            },
            "y": [
             {
              "column": "total_admissions",
              "id": "column_9ff6b43c791",
              "transform": "SUM"
             },
             {
              "column": "unique_patients",
              "id": "column_9ff6b43c794",
              "transform": "SUM"
             },
             {
              "column": "transfers_out",
              "id": "column_9ff6b43c797",
              "transform": "SUM"
             },
             {
              "column": "long_stay_patients",
              "id": "column_9ff6b43c800",
              "transform": "SUM"
             }
            ]
           },
           "dateTimeFormat": "DD/MM/YYYY HH:mm",
           "direction": {
            "type": "counterclockwise"
           },
           "error_y": {
            "type": "data",
            "visible": true
           },
           "globalSeriesType": "column",
           "isAggregationOn": true,
           "legend": {
            "traceorder": "normal"
           },
           "missingValuesAsZero": true,
           "numberFormat": "0,0.[00000]",
           "percentFormat": "0[.]00%",
           "series": {
            "error_y": {
             "type": "data",
             "visible": true
            },
            "stacking": null
           },
           "seriesOptions": {
            "column_9ff6b43c791": {
             "type": "column",
             "yAxis": 0
            },
            "column_9ff6b43c794": {
             "type": "column",
             "yAxis": 0
            },
            "column_9ff6b43c797": {
             "type": "column",
             "yAxis": 0
            },
            "column_9ff6b43c800": {
             "type": "column",
             "yAxis": 0
            }
           },
           "showDataLabels": false,
           "sizemode": "diameter",
           "sortX": true,
           "sortY": true,
           "swappedAxes": false,
           "textFormat": "",
           "useAggregationsUi": true,
           "valuesOptions": {},
           "version": 2,
           "xAxis": {
            "labels": {
             "enabled": true
            },
            "type": "-"
           },
           "yAxis": [
            {
             "type": "-"
            },
            {
             "opposite": true,
             "type": "-"
            }
           ]
          }
         }
        ]
       },
       "datasetPreviewNameToCmdIdMap": {},
       "diffDeletes": [],
       "diffInserts": [],
       "displayType": "redashChart",
       "error": null,
       "errorDetails": null,
       "errorSummary": null,
       "errorTraceType": null,
       "finishTime": 0,
       "globalVars": {},
       "guid": "",
       "height": "auto",
       "hideCommandCode": false,
       "hideCommandResult": false,
       "iPythonMetadata": null,
       "inputWidgets": {},
       "isLockedInExamMode": false,
       "latestUser": "a user",
       "latestUserId": null,
       "listResultMetadata": null,
       "metadata": {},
       "nuid": "b0ff33e2-6fa9-4154-b5f1-20d41341ba9e",
       "origId": 0,
       "parentHierarchy": [],
       "pivotAggregation": null,
       "pivotColumns": null,
       "position": 12.0,
       "resultDbfsErrorMessage": null,
       "resultDbfsStatus": "INLINED_IN_TREE",
       "results": null,
       "showCommandTitle": false,
       "startTime": 0,
       "state": "input",
       "streamStates": {},
       "subcommandOptions": {
        "queryPlan": {
         "groups": [
          {
           "column": "first_careunit",
           "type": "column"
          }
         ],
         "selects": [
          {
           "column": "first_careunit",
           "type": "column"
          },
          {
           "alias": "column_9ff6b43c791",
           "args": [
            {
             "column": "total_admissions",
             "type": "column"
            }
           ],
           "function": "SUM",
           "type": "function"
          },
          {
           "alias": "column_9ff6b43c794",
           "args": [
            {
             "column": "unique_patients",
             "type": "column"
            }
           ],
           "function": "SUM",
           "type": "function"
          },
          {
           "alias": "column_9ff6b43c797",
           "args": [
            {
             "column": "transfers_out",
             "type": "column"
            }
           ],
           "function": "SUM",
           "type": "function"
          },
          {
           "alias": "column_9ff6b43c800",
           "args": [
            {
             "column": "long_stay_patients",
             "type": "column"
            }
           ],
           "function": "SUM",
           "type": "function"
          }
         ]
        }
       },
       "submitTime": 0,
       "subtype": "tableResultSubCmd.visualization",
       "tableResultIndex": 0,
       "tableResultSettingsMap": {},
       "useConsistentColors": false,
       "version": "CommandV1",
       "width": "auto",
       "workflows": [],
       "xColumns": null,
       "yColumns": null
      }
     },
     "output_type": "display_data"
    }
   ],
   "source": [
    "%sql\n",
    "SELECT \n",
    "    first_careunit,\n",
    "    COUNT(*) as total_admissions,\n",
    "    ROUND(AVG(los), 2) as avg_los,\n",
    "    ROUND(MIN(los), 2) as min_los,\n",
    "    ROUND(MAX(los), 2) as max_los,\n",
    "    COUNT(DISTINCT subject_id) as unique_patients,\n",
    "    ROUND((COUNT(*) * 1.0 / COUNT(DISTINCT subject_id)), 2) as avg_stays_per_patient,\n",
    "    SUM(CASE WHEN first_careunit != last_careunit THEN 1 ELSE 0 END) as transfers_out,\n",
    "    ROUND(\n",
    "        (SUM(CASE WHEN first_careunit != last_careunit THEN 1 ELSE 0 END) * 100.0 / COUNT(*)), 2\n",
    "    ) as transfer_rate_percent,\n",
    "    COUNT(CASE WHEN los > 30 THEN 1 END) as long_stay_patients,\n",
    "    dbsource\n",
    "FROM mimicdata_2567611159492892.mimic.icustays\n",
    "GROUP BY first_careunit, dbsource\n",
    "ORDER BY total_admissions DESC;\n",
    "\n"
   ]
  },
  {
   "cell_type": "code",
   "execution_count": 0,
   "metadata": {
    "application/vnd.databricks.v1+cell": {
     "cellMetadata": {
      "byteLimit": 2048000,
      "implicitDf": true,
      "rowLimit": 10000
     },
     "inputWidgets": {},
     "nuid": "7b4a6316-f89a-41b0-b47d-6177024cfb64",
     "showTitle": true,
     "tableResultSettingsMap": {},
     "title": "Live status board of ICU"
    }
   },
   "outputs": [
    {
     "output_type": "display_data",
     "data": {
      "text/html": [
       "<style scoped>\n",
       "  .table-result-container {\n",
       "    max-height: 300px;\n",
       "    overflow: auto;\n",
       "  }\n",
       "  table, th, td {\n",
       "    border: 1px solid black;\n",
       "    border-collapse: collapse;\n",
       "  }\n",
       "  th, td {\n",
       "    padding: 5px;\n",
       "  }\n",
       "  th {\n",
       "    text-align: left;\n",
       "  }\n",
       "</style><div class='table-result-container'><table class='table-result'><thead style='background-color: white'><tr><th>first_careunit</th><th>current_patients</th><th>avg_current_los</th><th>longest_stay_start</th><th>occupancy_status</th></tr></thead><tbody><tr><td>MICU</td><td>1</td><td>1.64</td><td>2202-10-03T01:46:32Z</td><td>Low Census</td></tr></tbody></table></div>"
      ]
     },
     "metadata": {
      "application/vnd.databricks.v1+output": {
       "addedWidgets": {},
       "aggData": [],
       "aggError": "",
       "aggOverflow": false,
       "aggSchema": [],
       "aggSeriesLimitReached": false,
       "aggType": "",
       "arguments": {},
       "columnCustomDisplayInfos": {},
       "data": [
        [
         "MICU",
         1,
         1.64,
         "2202-10-03T01:46:32Z",
         "Low Census"
        ]
       ],
       "datasetInfos": [],
       "dbfsResultPath": null,
       "isJsonSchema": true,
       "metadata": {
        "dataframeName": "_sqldf",
        "executionCount": 2
       },
       "overflow": false,
       "plotOptions": {
        "customPlotOptions": {},
        "displayType": "table",
        "pivotAggregation": null,
        "pivotColumns": null,
        "xColumns": null,
        "yColumns": null
       },
       "removedWidgets": [],
       "schema": [
        {
         "metadata": "{}",
         "name": "first_careunit",
         "type": "\"string\""
        },
        {
         "metadata": "{}",
         "name": "current_patients",
         "type": "\"long\""
        },
        {
         "metadata": "{}",
         "name": "avg_current_los",
         "type": "\"double\""
        },
        {
         "metadata": "{}",
         "name": "longest_stay_start",
         "type": "\"timestamp\""
        },
        {
         "metadata": "{}",
         "name": "occupancy_status",
         "type": "\"string\""
        }
       ],
       "type": "table"
      }
     },
     "output_type": "display_data"
    },
    {
     "output_type": "display_data",
     "data": {
      "text/plain": [
       "Databricks visualization. Run in Databricks to view."
      ]
     },
     "metadata": {
      "application/vnd.databricks.v1.subcommand+json": {
       "baseErrorDetails": null,
       "bindings": {},
       "collapsed": false,
       "command": "%sql WITH q AS (WITH latest_date AS (\n    SELECT MAX(DATE(intime)) as max_date \n    FROM mimicdata_2567611159492892.mimic.icustays\n),\ncurrent_status AS (\n    SELECT \n        first_careunit,\n        COUNT(*) as current_patients,\n        ROUND(AVG(los), 2) as avg_current_los,\n        MIN(intime) as longest_stay_start\n    FROM mimicdata_2567611159492892.mimic.icustays\n    CROSS JOIN latest_date\n    WHERE DATE(intime) = latest_date.max_date\n    GROUP BY first_careunit\n)\nSELECT \n    c.first_careunit,\n    c.current_patients,\n    c.avg_current_los,\n    c.longest_stay_start,\n    CASE \n        WHEN c.current_patients > 15 THEN 'High Census'\n        WHEN c.current_patients > 10 THEN 'Moderate Census'\n        ELSE 'Low Census'\n    END as occupancy_status\nFROM current_status c\nORDER BY c.current_patients DESC) SELECT `first_careunit`,SUM(`current_patients`) `column_9ff6b43c804`,COUNT(`occupancy_status`) `column_9ff6b43c807`,COUNT(`longest_stay_start`) `column_9ff6b43c810` FROM q GROUP BY `first_careunit`",
       "commandTitle": "Visualization 1",
       "commandType": "auto",
       "commandVersion": 0,
       "commentThread": [],
       "commentsVisible": false,
       "contentSha256Hex": null,
       "customPlotOptions": {
        "redashChart": [
         {
          "key": "type",
          "value": "CHART"
         },
         {
          "key": "options",
          "value": {
           "alignYAxesAtZero": true,
           "coefficient": 1,
           "columnConfigurationMap": {
            "x": {
             "column": "first_careunit",
             "id": "column_9ff6b43c802"
            },
            "y": [
             {
              "column": "current_patients",
              "id": "column_9ff6b43c804",
              "transform": "SUM"
             },
             {
              "column": "occupancy_status",
              "id": "column_9ff6b43c807",
              "transform": "COUNT"
             },
             {
              "column": "longest_stay_start",
              "id": "column_9ff6b43c810",
              "transform": "COUNT"
             }
            ]
           },
           "dateTimeFormat": "DD/MM/YYYY HH:mm",
           "direction": {
            "type": "counterclockwise"
           },
           "error_y": {
            "type": "data",
            "visible": true
           },
           "globalSeriesType": "column",
           "isAggregationOn": true,
           "legend": {
            "traceorder": "normal"
           },
           "missingValuesAsZero": true,
           "numberFormat": "0,0.[00000]",
           "percentFormat": "0[.]00%",
           "series": {
            "error_y": {
             "type": "data",
             "visible": true
            },
            "stacking": null
           },
           "seriesOptions": {
            "column_9ff6b43c804": {
             "type": "column",
             "yAxis": 0
            },
            "column_9ff6b43c807": {
             "type": "column",
             "yAxis": 0
            },
            "column_9ff6b43c810": {
             "type": "column",
             "yAxis": 0
            }
           },
           "showDataLabels": false,
           "sizemode": "diameter",
           "sortX": true,
           "sortY": true,
           "swappedAxes": false,
           "textFormat": "",
           "useAggregationsUi": true,
           "valuesOptions": {},
           "version": 2,
           "xAxis": {
            "labels": {
             "enabled": true
            },
            "type": "-"
           },
           "yAxis": [
            {
             "type": "-"
            },
            {
             "opposite": true,
             "type": "-"
            }
           ]
          }
         }
        ]
       },
       "datasetPreviewNameToCmdIdMap": {},
       "diffDeletes": [],
       "diffInserts": [],
       "displayType": "redashChart",
       "error": null,
       "errorDetails": null,
       "errorSummary": null,
       "errorTraceType": null,
       "finishTime": 0,
       "globalVars": {},
       "guid": "",
       "height": "auto",
       "hideCommandCode": false,
       "hideCommandResult": false,
       "iPythonMetadata": null,
       "inputWidgets": {},
       "isLockedInExamMode": false,
       "latestUser": "a user",
       "latestUserId": null,
       "listResultMetadata": null,
       "metadata": {},
       "nuid": "84b9dbe7-fbf4-40be-ac7b-9de1cce3102f",
       "origId": 0,
       "parentHierarchy": [],
       "pivotAggregation": null,
       "pivotColumns": null,
       "position": 13.0,
       "resultDbfsErrorMessage": null,
       "resultDbfsStatus": "INLINED_IN_TREE",
       "results": null,
       "showCommandTitle": false,
       "startTime": 0,
       "state": "input",
       "streamStates": {},
       "subcommandOptions": {
        "queryPlan": {
         "groups": [
          {
           "column": "first_careunit",
           "type": "column"
          }
         ],
         "selects": [
          {
           "column": "first_careunit",
           "type": "column"
          },
          {
           "alias": "column_9ff6b43c804",
           "args": [
            {
             "column": "current_patients",
             "type": "column"
            }
           ],
           "function": "SUM",
           "type": "function"
          },
          {
           "alias": "column_9ff6b43c807",
           "args": [
            {
             "column": "occupancy_status",
             "type": "column"
            }
           ],
           "function": "COUNT",
           "type": "function"
          },
          {
           "alias": "column_9ff6b43c810",
           "args": [
            {
             "column": "longest_stay_start",
             "type": "column"
            }
           ],
           "function": "COUNT",
           "type": "function"
          }
         ]
        }
       },
       "submitTime": 0,
       "subtype": "tableResultSubCmd.visualization",
       "tableResultIndex": 0,
       "tableResultSettingsMap": {},
       "useConsistentColors": false,
       "version": "CommandV1",
       "width": "auto",
       "workflows": [],
       "xColumns": null,
       "yColumns": null
      }
     },
     "output_type": "display_data"
    }
   ],
   "source": [
    "%sql\n",
    "WITH latest_date AS (\n",
    "    SELECT MAX(DATE(intime)) as max_date \n",
    "    FROM mimicdata_2567611159492892.mimic.icustays\n",
    "),\n",
    "current_status AS (\n",
    "    SELECT \n",
    "        first_careunit,\n",
    "        COUNT(*) as current_patients,\n",
    "        ROUND(AVG(los), 2) as avg_current_los,\n",
    "        MIN(intime) as longest_stay_start\n",
    "    FROM mimicdata_2567611159492892.mimic.icustays\n",
    "    CROSS JOIN latest_date\n",
    "    WHERE DATE(intime) = latest_date.max_date\n",
    "    GROUP BY first_careunit\n",
    ")\n",
    "SELECT \n",
    "    c.first_careunit,\n",
    "    c.current_patients,\n",
    "    c.avg_current_los,\n",
    "    c.longest_stay_start,\n",
    "    CASE \n",
    "        WHEN c.current_patients > 15 THEN 'High Census'\n",
    "        WHEN c.current_patients > 10 THEN 'Moderate Census'\n",
    "        ELSE 'Low Census'\n",
    "    END as occupancy_status\n",
    "FROM current_status c\n",
    "ORDER BY c.current_patients DESC;"
   ]
  }
 ],
 "metadata": {
  "application/vnd.databricks.v1+notebook": {
   "computePreferences": null,
   "dashboards": [],
   "environmentMetadata": {
    "base_environment": "",
    "environment_version": "2"
   },
   "inputWidgetPreferences": null,
   "language": "python",
   "notebookMetadata": {
    "mostRecentlyExecutedCommandWithImplicitDF": {
     "commandId": 2623705180340225,
     "dataframes": [
      "_sqldf"
     ]
    },
    "pythonIndentUnit": 4
   },
   "notebookName": "14 ICUSTAYS (1)",
   "widgets": {}
  },
  "language_info": {
   "name": "python"
  }
 },
 "nbformat": 4,
 "nbformat_minor": 0
}